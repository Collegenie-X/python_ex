{
 "cells": [
  {
   "cell_type": "code",
   "execution_count": 2,
   "metadata": {},
   "outputs": [],
   "source": [
    "class Person : \n",
    "    def __init__(self, name, age):\n",
    "        self.name = name\n",
    "        self.age = age"
   ]
  },
  {
   "cell_type": "code",
   "execution_count": 3,
   "metadata": {},
   "outputs": [],
   "source": [
    "person = Person(name= \"kim jong phil\", age=20)"
   ]
  },
  {
   "cell_type": "code",
   "execution_count": 4,
   "metadata": {},
   "outputs": [
    {
     "name": "stdout",
     "output_type": "stream",
     "text": [
      "kim jong phil 20\n"
     ]
    }
   ],
   "source": [
    "print(f'{person.name} {person.age}')"
   ]
  },
  {
   "cell_type": "code",
   "execution_count": 6,
   "metadata": {},
   "outputs": [],
   "source": [
    "class Person: \n",
    "    def __init__(self,name,job) : \n",
    "        self.name = name\n",
    "        self.job = job \n",
    "        \n",
    "    def introduce(self) :\n",
    "        print(f'{self.name} {self.job}')\n",
    "        \n",
    "class Actor (Person) : \n",
    "    def __init__ (self,name, best_movie) : \n",
    "        super().__init__(name, job= \"배우\")\n",
    "        self.best_movie = best_movie \n",
    "        \n",
    "    def filmography(self) : \n",
    "        print(f'대표 작품은 {self.best_movie}')\n",
    "        \n",
    "actor_song = Actor(\"송강호\", best_movie=\"기생충\")"
   ]
  },
  {
   "cell_type": "code",
   "execution_count": 8,
   "metadata": {},
   "outputs": [
    {
     "name": "stdout",
     "output_type": "stream",
     "text": [
      "송강호 배우\n",
      "대표 작품은 기생충\n"
     ]
    }
   ],
   "source": [
    "actor_song.introduce() \n",
    "actor_song.filmography()"
   ]
  },
  {
   "cell_type": "code",
   "execution_count": null,
   "metadata": {},
   "outputs": [],
   "source": [
    "\n",
    "from abc import ABC,abstractmethod\n",
    "\n",
    "\n",
    "class Shape(ABC):\n",
    "    @abstractmethod\n",
    "    def get_size(self):\n",
    "        pass\n",
    "    \n",
    "class Rectangle(Shape): \n",
    "    def __init__(self, width, height):\n",
    "        self.width = width\n",
    "        self.height = height\n",
    "    \n",
    "    def get_size(self):\n",
    "        return f'Rectangle: Width {self.width}, Height {self.height}'\n",
    "\n",
    "rectangle = Rectangle(width=20, height=30)\n",
    "print(rectangle.get_size())  # Rectangle: Width 20, Height 30"
   ]
  },
  {
   "cell_type": "code",
   "execution_count": 11,
   "metadata": {},
   "outputs": [
    {
     "name": "stdout",
     "output_type": "stream",
     "text": [
      "Animal makes a sound.\n",
      "Dog barks.\n"
     ]
    }
   ],
   "source": [
    "#### 상속 및 다형성\n",
    "\n",
    "class Animal:\n",
    "    def speak(self):\n",
    "        return \"Animal makes a sound.\"\n",
    "\n",
    "class Dog(Animal):\n",
    "    def speak(self):  # 부모 클래스의 speak 메서드를 오버라이딩\n",
    "        return \"Dog barks.\"\n",
    "\n",
    "# 객체 생성\n",
    "animal = Animal()\n",
    "dog = Dog()\n",
    "\n",
    "print(animal.speak())  # Animal makes a sound.\n",
    "print(dog.speak())  # Dog barks.\n"
   ]
  },
  {
   "cell_type": "code",
   "execution_count": 12,
   "metadata": {},
   "outputs": [
    {
     "name": "stdout",
     "output_type": "stream",
     "text": [
      "Canis familiaris\n",
      "Woof!\n"
     ]
    }
   ],
   "source": [
    "class Dog:\n",
    "    species = \"Canis familiaris\"\n",
    "\n",
    "    def __init__(self, name):\n",
    "        self.name = name\n",
    "\n",
    "    @classmethod\n",
    "    def get_species(cls):\n",
    "        return cls.species\n",
    "\n",
    "    @staticmethod\n",
    "    def bark():\n",
    "        return \"Woof!\"\n",
    "\n",
    "# 객체 생성\n",
    "dog = Dog(\"Buddy\")\n",
    "\n",
    "print(Dog.get_species())  # Canis familiaris (클래스 메서드 호출)\n",
    "print(Dog.bark())  # Woof! (정적 메서드 호출)\n"
   ]
  },
  {
   "cell_type": "code",
   "execution_count": 14,
   "metadata": {},
   "outputs": [
    {
     "name": "stdout",
     "output_type": "stream",
     "text": [
      "Saving Alice to the database.\n",
      "Sending email to alice@example.com\n"
     ]
    }
   ],
   "source": [
    "#### Solid (단일 책임 원칙)\n",
    "\n",
    "# 잘못된 예: 다수의 책임을 가진 클래스\n",
    "class User:\n",
    "    def __init__(self, name, email):\n",
    "        self.name = name\n",
    "        self.email = email\n",
    "    \n",
    "    def save_to_db(self):\n",
    "        print(f\"Saving {self.name} to the database.\")\n",
    "    \n",
    "    def send_email(self):\n",
    "        print(f\"Sending email to {self.email}\")\n",
    "\n",
    "# 수정 후: 각 책임을 분리한 클래스\n",
    "class User:\n",
    "    def __init__(self, name, email):\n",
    "        self.name = name\n",
    "        self.email = email\n",
    "\n",
    "class Database:\n",
    "    def save_user(self, user):\n",
    "        print(f\"Saving {user.name} to the database.\")\n",
    "\n",
    "class EmailService:\n",
    "    def send_email(self, email):\n",
    "        print(f\"Sending email to {email}\")\n",
    "\n",
    "# 사용\n",
    "user = User(\"Alice\", \"alice@example.com\")\n",
    "database = Database()\n",
    "email_service = EmailService()\n",
    "\n",
    "database.save_user(user)\n",
    "email_service.send_email(user.email)\n"
   ]
  },
  {
   "cell_type": "code",
   "execution_count": null,
   "metadata": {},
   "outputs": [],
   "source": [
    "# 잘못된 예: 새로운 기능을 추가하기 위해 기존 클래스를 수정 (OCP)\n",
    "class Shape:\n",
    "    def area(self):\n",
    "        pass\n",
    "\n",
    "class Rectangle(Shape):\n",
    "    def __init__(self, width, height):\n",
    "        self.width = width\n",
    "        self.height = height\n",
    "    \n",
    "    def area(self):\n",
    "        return self.width * self.height\n",
    "\n",
    "class AreaCalculator:\n",
    "    def calculate_area(self, shape):\n",
    "        if isinstance(shape, Rectangle):\n",
    "            return shape.area()\n",
    "        # 새로운 도형을 추가하려면 기존 코드에 수정이 필요\n",
    "\n",
    "# 수정 후: 새로운 도형을 추가할 때 기존 클래스를 수정하지 않음\n",
    "class Circle(Shape):\n",
    "    def __init__(self, radius):\n",
    "        self.radius = radius\n",
    "    \n",
    "    def area(self):\n",
    "        return 3.14 * (self.radius ** 2)\n",
    "\n",
    "class AreaCalculator:\n",
    "    def calculate_area(self, shape: Shape):\n",
    "        return shape.area()\n",
    "\n",
    "# 사용\n",
    "calculator = AreaCalculator()\n",
    "rectangle = Rectangle(5, 10)\n",
    "circle = Circle(7)\n",
    "\n",
    "print(calculator.calculate_area(rectangle))  # 50\n",
    "print(calculator.calculate_area(circle))     # 153.86\n"
   ]
  },
  {
   "cell_type": "code",
   "execution_count": 15,
   "metadata": {},
   "outputs": [],
   "source": [
    "#### getter , setter \n",
    "\n",
    "class Dog:\n",
    "    def __init__(self, name, age):\n",
    "        self._name = name  # _name은 외부에서 직접 접근할 수 없도록 처리\n",
    "        self._age = age\n",
    "\n",
    "    @property\n",
    "    def name(self):\n",
    "        return self._name\n",
    "\n",
    "    @name.setter\n",
    "    def name(self, value):\n",
    "        if value:\n",
    "            self._name = value\n",
    "        else:\n",
    "            print(\"Name cannot be empty.\")\n",
    "\n",
    "    @property\n",
    "    def age(self):\n",
    "        return self._age\n",
    "\n",
    "    @age.setter\n",
    "    def age(self, value):\n",
    "        if value >= 0:\n",
    "            self._age = value\n",
    "        else:\n",
    "            print(\"Age cannot be negative.\")\n",
    "\n",
    "# 객체 생성\n",
    "dog = Dog(\"Buddy\", 5)\n",
    "\n",
    "# getter 호출\n",
    "print(dog.name)  # Buddy\n",
    "print(dog.age)   # 5\n",
    "\n",
    "# setter 호출\n",
    "dog.name = \"Max\"  # Max\n",
    "dog.age = 6       # 6\n",
    "print(dog.name)  # Max\n",
    "print(dog.age)   # 6\n",
    "\n",
    "# 잘못된 값 설정\n",
    "dog.age = -1  # Age cannot be negative.\n"
   ]
  },
  {
   "cell_type": "code",
   "execution_count": 16,
   "metadata": {},
   "outputs": [
    {
     "name": "stdout",
     "output_type": "stream",
     "text": [
      "200\n",
      "78.5\n",
      "25.0\n"
     ]
    }
   ],
   "source": [
    "#### 개방-폐쇄 원칙 (Open/Closed Principle, OCP) 상세 설명\n",
    "\n",
    "from abc import ABC, abstractmethod\n",
    "\n",
    "# 추상 클래스 (Interface)\n",
    "class Shape(ABC):\n",
    "    @abstractmethod\n",
    "    def area(self):\n",
    "        pass\n",
    "\n",
    "# Rectangle 클래스\n",
    "class Rectangle(Shape):\n",
    "    def __init__(self, width, height):\n",
    "        self.width = width\n",
    "        self.height = height\n",
    "\n",
    "    def area(self):\n",
    "        return self.width * self.height\n",
    "\n",
    "# Circle 클래스\n",
    "class Circle(Shape):\n",
    "    def __init__(self, radius):\n",
    "        self.radius = radius\n",
    "\n",
    "    def area(self):\n",
    "        return 3.14 * self.radius * self.radius\n",
    "\n",
    "# 새로운 도형 추가 (Triangle)\n",
    "class Triangle(Shape):\n",
    "    def __init__(self, base, height):\n",
    "        self.base = base\n",
    "        self.height = height\n",
    "\n",
    "    def area(self):\n",
    "        return 0.5 * self.base * self.height\n",
    "\n",
    "# 면적 계산 클래스\n",
    "class AreaCalculator:\n",
    "    def calculate_area(self, shape: Shape):\n",
    "        return shape.area()\n",
    "\n",
    "# 사용 예\n",
    "rectangle = Rectangle(10, 20)\n",
    "circle = Circle(5)\n",
    "triangle = Triangle(10, 5)\n",
    "\n",
    "calculator = AreaCalculator()\n",
    "\n",
    "print(calculator.calculate_area(rectangle))  # 200\n",
    "print(calculator.calculate_area(circle))     # 78.5\n",
    "print(calculator.calculate_area(triangle))   # 25.0\n"
   ]
  },
  {
   "cell_type": "code",
   "execution_count": null,
   "metadata": {},
   "outputs": [],
   "source": []
  }
 ],
 "metadata": {
  "kernelspec": {
   "display_name": "Python 3",
   "language": "python",
   "name": "python3"
  },
  "language_info": {
   "codemirror_mode": {
    "name": "ipython",
    "version": 3
   },
   "file_extension": ".py",
   "mimetype": "text/x-python",
   "name": "python",
   "nbconvert_exporter": "python",
   "pygments_lexer": "ipython3",
   "version": "3.11.10"
  }
 },
 "nbformat": 4,
 "nbformat_minor": 2
}
