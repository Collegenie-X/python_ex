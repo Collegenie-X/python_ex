{
 "cells": [
  {
   "cell_type": "code",
   "execution_count": null,
   "metadata": {},
   "outputs": [],
   "source": [
    "class Dog:\n",
    "    def __init__(self, name, breed):\n",
    "        self.name = name\n",
    "        self.breed = breed\n",
    "\n",
    "    def bark(self):\n",
    "        print(f\"{self.name} :says woof!\")\n",
    "\n",
    "    def introduce(self):\n",
    "        print(f\"{self.name} and I am a {self.breed}!\")"
   ]
  },
  {
   "cell_type": "code",
   "execution_count": 2,
   "metadata": {},
   "outputs": [
    {
     "name": "stdout",
     "output_type": "stream",
     "text": [
      "Buddy :says woof!\n",
      "Max and I am a Bulldog!\n"
     ]
    }
   ],
   "source": [
    "dog1 = Dog(\"Buddy\", \"Golden Retiever \")\n",
    "dog2 = Dog(\"Max\", \"Bulldog\")\n",
    "\n",
    "dog1.bark()\n",
    "dog2.introduce()"
   ]
  },
  {
   "cell_type": "code",
   "execution_count": 5,
   "metadata": {},
   "outputs": [],
   "source": [
    "class NewDog:\n",
    "    species = \"Canis familiaris\"  # 클래스 변수\n",
    "\n",
    "    def __init__(self, name, breed):\n",
    "        self.name = name  # 인스턴스 변수\n",
    "        self.breed = breed\n",
    "\n",
    "    def introduce(self):\n",
    "        return f\"My name is {self.name}, I am a {self.breed} and a {self.species}.\""
   ]
  },
  {
   "cell_type": "code",
   "execution_count": 6,
   "metadata": {},
   "outputs": [
    {
     "name": "stdout",
     "output_type": "stream",
     "text": [
      "My name is Buddy, I am a Golden Retriever and a Canis familiaris.\n",
      "My name is Max, I am a Bulldog and a Canis familiaris.\n",
      "Canis familiaris\n"
     ]
    }
   ],
   "source": [
    "# 객체 생성\n",
    "dog1 = NewDog(name=\"Buddy\", breed=\"Golden Retriever\")\n",
    "dog2 = NewDog(name=\"Max\", breed=\"Bulldog\")\n",
    "\n",
    "print(\n",
    "    dog1.introduce()\n",
    ")  # My name is Buddy, I am a Golden Retriever and a Canis familiaris.\n",
    "print(dog2.introduce())  # My name is Max, I am a Bulldog and a Canis familiaris.\n",
    "print(dog1.species)  # Canis familiaris (클래스 변수)"
   ]
  },
  {
   "cell_type": "markdown",
   "metadata": {},
   "source": [
    "## Person / Actor "
   ]
  },
  {
   "cell_type": "code",
   "execution_count": 1,
   "metadata": {},
   "outputs": [],
   "source": [
    "class Person : \n",
    "    def __init__(self , name , job ):\n",
    "        self.name = name \n",
    "        self.job = job \n",
    "        \n",
    "    def introduce(self) : \n",
    "        print(f\"제 이름은 {self.name} 입니다. 직업은 {self.job} 입니다.\")\n",
    "        \n",
    "\n",
    "class Actor(Person) : \n",
    "    def __init__ (self,name,best_movie) : \n",
    "        super().__init__(name, \"배우\") \n",
    "        self.best_movie = best_movie\n",
    "    \n",
    "    def filmography(self) :         \n",
    "        print(f\"대표 작품은 {self.best_movie} 입니다.\")\n"
   ]
  },
  {
   "cell_type": "code",
   "execution_count": 2,
   "metadata": {},
   "outputs": [
    {
     "name": "stdout",
     "output_type": "stream",
     "text": [
      "제 이름은 정국 입니다. 직업은 학생 입니다.\n",
      "제 이름은 박명수 입니다. 직업은 배우 입니다.\n",
      "대표 작품은 betman 입니다.\n"
     ]
    }
   ],
   "source": [
    "      \n",
    "\n",
    "if __name__ == \"__main__\" : \n",
    "    \n",
    "    jungkook = Person(\"정국\", \"학생\") \n",
    "    jungkook.introduce() \n",
    "    \n",
    "    actor = Actor(\"박명수\", \"betman\") \n",
    "    actor.introduce() \n",
    "    actor.filmography()"
   ]
  },
  {
   "cell_type": "markdown",
   "metadata": {},
   "source": [
    "## Student (학생 관리)"
   ]
  },
  {
   "cell_type": "code",
   "execution_count": null,
   "metadata": {},
   "outputs": [],
   "source": [
    "class Student:\n",
    "    \"\"\"\n",
    "    Student class with attributes name, age, grade\n",
    "    Author : Kim\n",
    "    Date : 2025-01-24\n",
    "    \"\"\"\n",
    "\n",
    "    _student_count = 0\n",
    "\n",
    "    def __init__(self, name, age, grade):\n",
    "        self.name = name\n",
    "        self.age = age\n",
    "        self.grade = grade\n",
    "        Student._student_count += 1\n",
    "\n",
    "    def get_info(self):\n",
    "        return f\"Student Name : {self.name}, Age : {self.age}, Grade : {self.grade}\"\n",
    "\n",
    "    @classmethod\n",
    "    def get_student_count(cls):\n",
    "        return cls._student_count\n",
    "\n",
    "    @staticmethod\n",
    "    def is_adult(age):\n",
    "        return age >= 20\n",
    "\n",
    "    def __str__(self):\n",
    "        return \"Student Name : {self.name}, Age : {self.age}, Grade:{self.grade}\"\n",
    "\n",
    "    def __del__(self):\n",
    "        Student._student_count -= 1"
   ]
  },
  {
   "cell_type": "code",
   "execution_count": null,
   "metadata": {},
   "outputs": [
    {
     "name": "stdout",
     "output_type": "stream",
     "text": [
      "Student Name : Student 1, Age : 20, Grade : 3\n",
      "0\n",
      "Student Name : Student 2, Age : 23, Grade : 1\n",
      "0\n"
     ]
    }
   ],
   "source": [
    "student1 = Student(name=\"Student 1\", age=20, grade=3)\n",
    "print(student1.get_info())\n",
    "print(Student.get_student_count())\n",
    "\n",
    "student2 = Student(name=\"Student 2\", age=23, grade=1)\n",
    "print(student2.get_info())\n",
    "print(Student.get_student_count())"
   ]
  },
  {
   "cell_type": "code",
   "execution_count": 9,
   "metadata": {},
   "outputs": [
    {
     "name": "stdout",
     "output_type": "stream",
     "text": [
      "Student Name : {self.name}, Age : {self.age}, Grade:{self.grade}\n"
     ]
    }
   ],
   "source": [
    "print(student1)"
   ]
  },
  {
   "cell_type": "code",
   "execution_count": 4,
   "metadata": {},
   "outputs": [
    {
     "name": "stdout",
     "output_type": "stream",
     "text": [
      "{'name': 'Student 1', 'age': 20, 'grade': 3}\n"
     ]
    }
   ],
   "source": [
    "print(student1.__dict__)"
   ]
  },
  {
   "cell_type": "code",
   "execution_count": 5,
   "metadata": {},
   "outputs": [
    {
     "name": "stdout",
     "output_type": "stream",
     "text": [
      "4355819024\n",
      "4355818512\n"
     ]
    }
   ],
   "source": [
    "print(id(student1))\n",
    "print(id(student2))"
   ]
  },
  {
   "cell_type": "code",
   "execution_count": 8,
   "metadata": {},
   "outputs": [
    {
     "name": "stdout",
     "output_type": "stream",
     "text": [
      "['__class__', '__del__', '__delattr__', '__dict__', '__dir__', '__doc__', '__eq__', '__format__', '__ge__', '__getattribute__', '__getstate__', '__gt__', '__hash__', '__init__', '__init_subclass__', '__le__', '__lt__', '__module__', '__ne__', '__new__', '__reduce__', '__reduce_ex__', '__repr__', '__setattr__', '__sizeof__', '__str__', '__subclasshook__', '__weakref__', 'age', 'get_info', 'get_student_count', 'grade', 'is_adult', 'name', 'student_count']\n"
     ]
    }
   ],
   "source": [
    "print(dir(student1))"
   ]
  },
  {
   "cell_type": "code",
   "execution_count": 12,
   "metadata": {},
   "outputs": [
    {
     "name": "stdout",
     "output_type": "stream",
     "text": [
      "\n",
      "    Student class with attributes name, age, grade\n",
      "    Author : Kim\n",
      "    Date : 2025-01-24\n",
      "    \n"
     ]
    }
   ],
   "source": [
    "print(Student.__doc__)"
   ]
  },
  {
   "cell_type": "code",
   "execution_count": 13,
   "metadata": {},
   "outputs": [
    {
     "data": {
      "text/plain": [
       "'Student Name : Student 1, Age : 20, Grade : 3'"
      ]
     },
     "execution_count": 13,
     "metadata": {},
     "output_type": "execute_result"
    }
   ],
   "source": [
    "Student.get_info(student1)"
   ]
  },
  {
   "cell_type": "code",
   "execution_count": null,
   "metadata": {},
   "outputs": [],
   "source": [
    "Student.student_count = 100"
   ]
  },
  {
   "cell_type": "code",
   "execution_count": 15,
   "metadata": {},
   "outputs": [
    {
     "name": "stdout",
     "output_type": "stream",
     "text": [
      "100\n"
     ]
    }
   ],
   "source": [
    "print(Student.get_student_count())"
   ]
  },
  {
   "cell_type": "code",
   "execution_count": null,
   "metadata": {},
   "outputs": [
    {
     "data": {
      "text/plain": [
       "[2, 6, 10]"
      ]
     },
     "execution_count": 11,
     "metadata": {},
     "output_type": "execute_result"
    }
   ],
   "source": [
    "list(map(lambda y: y * 2, filter(lambda x: x % 2, range(1, 6))))"
   ]
  },
  {
   "cell_type": "code",
   "execution_count": null,
   "metadata": {},
   "outputs": [
    {
     "data": {
      "text/plain": [
       "'데이터 입출력(I/O)'"
      ]
     },
     "execution_count": 14,
     "metadata": {},
     "output_type": "execute_result"
    }
   ],
   "source": []
  },
  {
   "cell_type": "code",
   "execution_count": null,
   "metadata": {},
   "outputs": [],
   "source": [
    "d"
   ]
  }
 ],
 "metadata": {
  "kernelspec": {
   "display_name": "Python 3",
   "language": "python",
   "name": "python3"
  },
  "language_info": {
   "codemirror_mode": {
    "name": "ipython",
    "version": 3
   },
   "file_extension": ".py",
   "mimetype": "text/x-python",
   "name": "python",
   "nbconvert_exporter": "python",
   "pygments_lexer": "ipython3",
   "version": "3.11.10"
  }
 },
 "nbformat": 4,
 "nbformat_minor": 2
}
