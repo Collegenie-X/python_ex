{
 "cells": [
  {
   "cell_type": "markdown",
   "metadata": {},
   "source": [
    "## 연산자\t설명\t예시\n",
    "- +\t덧셈\ta + b\n",
    "- -\t뺄셈\ta - b\n",
    "- *\t곱셈\ta * b\n",
    "- /\t나눗셈 (결과: 실수)\ta / b\n",
    "- //\t몫 (정수 나눗셈)\ta // b\n",
    "- %\t나머지\ta % b\n",
    "- **\t거듭제곱\ta ** b\n"
   ]
  },
  {
   "cell_type": "code",
   "execution_count": 1,
   "metadata": {},
   "outputs": [
    {
     "name": "stdout",
     "output_type": "stream",
     "text": [
      "덧셈: 19\n",
      "뺄셈: 11\n",
      "곱셈: 60\n",
      "나눗셈: 3.75\n",
      "몫: 3\n",
      "나머지: 3\n",
      "거듭제곱: 50625\n"
     ]
    }
   ],
   "source": [
    "a = 15\n",
    "b = 4\n",
    "\n",
    "# 덧셈\n",
    "print(\"덧셈:\", a + b)  # 19\n",
    "\n",
    "# 뺄셈\n",
    "print(\"뺄셈:\", a - b)  # 11\n",
    "\n",
    "# 곱셈\n",
    "print(\"곱셈:\", a * b)  # 60\n",
    "\n",
    "# 나눗셈 (실수 반환)\n",
    "print(\"나눗셈:\", a / b)  # 3.75\n",
    "\n",
    "# 몫 (정수 나눗셈)\n",
    "print(\"몫:\", a // b)  # 3\n",
    "\n",
    "# 나머지\n",
    "print(\"나머지:\", a % b)  # 3\n",
    "\n",
    "# 거듭제곱\n",
    "print(\"거듭제곱:\", a ** b)  # 15^4 = 50625\n"
   ]
  },
  {
   "cell_type": "markdown",
   "metadata": {},
   "source": [
    "## 2. 비교 연산 (Comparison Operators)\n",
    "- 비교 연산자는 두 값을 비교하여 **참(True) 또는 거짓(False)**을 반환합니다.\n",
    "- 연산자\t설명\t예시\n",
    "- ==\t같다\ta == b\n",
    "- !=\t다르다\ta != b\n",
    "- >\t크다\ta > b\n",
    "- <\t작다\ta < b\n",
    "- >=\t크거나 같다\ta >= b\n",
    "- <=\t작거나 같다\ta <= b"
   ]
  },
  {
   "cell_type": "code",
   "execution_count": 3,
   "metadata": {},
   "outputs": [
    {
     "name": "stdout",
     "output_type": "stream",
     "text": [
      "x == y: False\n",
      "x != y: True\n",
      "x > y: False\n",
      "x < y: True\n",
      "x >= y: False\n",
      "x <= y: True\n"
     ]
    }
   ],
   "source": [
    "x = 10\n",
    "y = 20\n",
    "\n",
    "print(\"x == y:\", x == y)  # False (10은 20과 같지 않음)\n",
    "print(\"x != y:\", x != y)  # True (10은 20과 다름)\n",
    "print(\"x > y:\", x > y)    # False (10은 20보다 크지 않음)\n",
    "print(\"x < y:\", x < y)    # True (10은 20보다 작음)\n",
    "print(\"x >= y:\", x >= y)  # False (10은 20보다 크거나 같지 않음)\n",
    "print(\"x <= y:\", x <= y)  # True (10은 20보다 작거나 같음)\n"
   ]
  },
  {
   "cell_type": "markdown",
   "metadata": {},
   "source": [
    "## 3. 논리 연산 (Logical Operators)\n",
    "- 논리 연산자는 참(True)과 거짓(False)을 조합하여 논리적 연산을 수행합니다.\n",
    "- \n",
    "- 연산자\t설명\t예시\n",
    "- and\t두 조건이 모두 참이면 True\t(a > b) and (c < d)\n",
    "- or\t둘 중 하나라도 참이면 True\t(a > b) or (c < d)\n",
    "- not\t참이면 거짓, 거짓이면 참\tnot (a > b)"
   ]
  },
  {
   "cell_type": "markdown",
   "metadata": {},
   "source": []
  },
  {
   "cell_type": "code",
   "execution_count": 2,
   "metadata": {},
   "outputs": [
    {
     "name": "stdout",
     "output_type": "stream",
     "text": [
      "a and b: False\n",
      "a or b: True\n",
      "not a: False\n",
      "not b: True\n"
     ]
    }
   ],
   "source": [
    "a = True\n",
    "b = False\n",
    "\n",
    "print(\"a and b:\", a and b)  # False (둘 다 참이어야 참)\n",
    "print(\"a or b:\", a or b)    # True (하나라도 참이면 참)\n",
    "print(\"not a:\", not a)      # False (a가 True였으므로 반대)\n",
    "print(\"not b:\", not b)      # True (b가 False였으므로 반대)\n"
   ]
  },
  {
   "cell_type": "code",
   "execution_count": 3,
   "metadata": {},
   "outputs": [
    {
     "name": "stdout",
     "output_type": "stream",
     "text": [
      "x < y and y < z: True\n",
      "x > y or y > z: False\n",
      "not (x < y): False\n"
     ]
    }
   ],
   "source": [
    "x = 10\n",
    "y = 20\n",
    "z = 30\n",
    "\n",
    "# x가 y보다 작고, y가 z보다 작을 때\n",
    "print(\"x < y and y < z:\", x < y and y < z)  # True\n",
    "\n",
    "# x가 y보다 크거나, y가 z보다 클 때\n",
    "print(\"x > y or y > z:\", x > y or y > z)  # False\n",
    "\n",
    "# x가 y보다 작지 않을 때 (not을 사용)\n",
    "print(\"not (x < y):\", not (x < y))  # False\n"
   ]
  },
  {
   "cell_type": "code",
   "execution_count": 4,
   "metadata": {},
   "outputs": [
    {
     "name": "stdout",
     "output_type": "stream",
     "text": [
      "덧셈: 5\n",
      "뺄셈: -1\n",
      "곱셈: 6\n",
      "나눗셈: 0.6666666666666666\n"
     ]
    }
   ],
   "source": [
    "# 사용자 입력\n",
    "num1 = int(input(\"첫 번째 숫자 입력: \"))\n",
    "num2 = int(input(\"두 번째 숫자 입력: \"))\n",
    "\n",
    "# 연산 수행\n",
    "print(\"덧셈:\", num1 + num2)\n",
    "print(\"뺄셈:\", num1 - num2)\n",
    "print(\"곱셈:\", num1 * num2)\n",
    "print(\"나눗셈:\", num1 / num2 if num2 != 0 else \"0으로 나눌 수 없음\")\n"
   ]
  },
  {
   "cell_type": "code",
   "execution_count": 5,
   "metadata": {},
   "outputs": [
    {
     "name": "stdout",
     "output_type": "stream",
     "text": [
      "3\n",
      "3.14\n",
      "2.67\n",
      "2\n"
     ]
    }
   ],
   "source": [
    "# 기본 예시\n",
    "print(round(3.14159))     # 3\n",
    "print(round(3.14159, 2))  # 3.14\n",
    "print(round(2.675, 2))    # 2.67 (파이썬 3에서의 동작, 정확히 반올림)\n",
    "print(round(2.5))         # 2 (파이썬 3에서의 동작, 반올림에 대한 규칙)\n"
   ]
  },
  {
   "cell_type": "code",
   "execution_count": 2,
   "metadata": {},
   "outputs": [
    {
     "name": "stdout",
     "output_type": "stream",
     "text": [
      "로그인 성공!\n"
     ]
    }
   ],
   "source": [
    "# 저장된 아이디와 비밀번호\n",
    "saved_id = \"python\"\n",
    "saved_pw = \"1234\"\n",
    "\n",
    "# 사용자 입력\n",
    "user_id = input(\"아이디를 입력하세요: \")\n",
    "user_pw = input(\"비밀번호를 입력하세요: \")\n",
    "\n",
    "# 로그인 검증\n",
    "if user_id == saved_id and user_pw == saved_pw:\n",
    "    print(\"로그인 성공!\")\n",
    "else:\n",
    "    print(\"로그인 실패! 아이디 또는 비밀번호가 잘못되었습니다.\")\n"
   ]
  },
  {
   "cell_type": "code",
   "execution_count": 3,
   "metadata": {},
   "outputs": [
    {
     "name": "stdout",
     "output_type": "stream",
     "text": [
      "입력한 숫자는 양수입니다.\n"
     ]
    }
   ],
   "source": [
    "num = int(input(\"숫자를 입력하세요: \"))\n",
    "\n",
    "if num > 0:\n",
    "    print(\"입력한 숫자는 양수입니다.\")\n",
    "elif num < 0:\n",
    "    print(\"입력한 숫자는 음수입니다.\")\n",
    "else:\n",
    "    print(\"입력한 숫자는 0입니다.\")\n"
   ]
  },
  {
   "cell_type": "markdown",
   "metadata": {},
   "source": [
    "### 1. round() 함수\n",
    "- 사용법: round(number, ndigits)\n",
    "- number: 반올림할 숫자\n",
    "- ndigits: 반올림할 소수점 자리수 (옵션, 기본값은 0)"
   ]
  },
  {
   "cell_type": "code",
   "execution_count": 5,
   "metadata": {},
   "outputs": [
    {
     "name": "stdout",
     "output_type": "stream",
     "text": [
      "3\n",
      "3.14\n",
      "2.67\n",
      "2\n"
     ]
    }
   ],
   "source": [
    "# 기본 예시\n",
    "print(round(3.14159))     # 3\n",
    "print(round(3.14159, 2))  # 3.14\n",
    "print(round(2.675, 2))    # 2.67 (파이썬 3에서의 동작, 정확히 반올림)\n",
    "print(round(2.5))         # 2 (파이썬 3에서의 동작, 반올림에 대한 규칙)\n"
   ]
  }
 ],
 "metadata": {
  "kernelspec": {
   "display_name": "Python 3",
   "language": "python",
   "name": "python3"
  },
  "language_info": {
   "codemirror_mode": {
    "name": "ipython",
    "version": 3
   },
   "file_extension": ".py",
   "mimetype": "text/x-python",
   "name": "python",
   "nbconvert_exporter": "python",
   "pygments_lexer": "ipython3",
   "version": "3.11.10"
  }
 },
 "nbformat": 4,
 "nbformat_minor": 2
}
