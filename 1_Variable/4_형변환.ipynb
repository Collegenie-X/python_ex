{
 "cells": [
  {
   "cell_type": "markdown",
   "metadata": {},
   "source": [
    "## 명시적 형변환 (Explicit Type Conversion)\n",
    "- 사용자가 직접 원하는 자료형으로 변환하는 경우입니다. Python에서 제공하는 주요 형변환 함수는 다음과 같습니다.\n",
    "\n",
    "### 함수\t변환 대상\t예제\n",
    "- int(x)\t정수형으로 변환\tint(3.5) → 3\n",
    "- float(x)\t실수형으로 변환\tfloat(10) → 10.0\n",
    "- str(x)\t문자열로 변환\tstr(100) → \"100\"\n",
    "- bool(x)\t논리형으로 변환\tbool(0) → False\n",
    "- list(x)\t리스트로 변환\tlist((1,2,3)) → [1,2,3]\n",
    "- tuple(x)\t튜플로 변환\ttuple([1,2,3]) → (1,2,3)\n",
    "- set(x)\t집합으로 변환\tset([1,1,2,3]) → {1,2,3}"
   ]
  },
  {
   "cell_type": "code",
   "execution_count": null,
   "metadata": {},
   "outputs": [],
   "source": [
    "# 정수를 실수로 변환\n",
    "a = 10\n",
    "b = float(a)  \n",
    "print(b, type(b))  # 10.0 <class 'float'>\n",
    "\n",
    "# 실수를 정수로 변환 (소수점 이하 버림)\n",
    "c = 3.99\n",
    "d = int(c)\n",
    "print(d, type(d))  # 3 <class 'int'>\n",
    "\n",
    "# 숫자를 문자열로 변환\n",
    "e = 100\n",
    "f = str(e)\n",
    "print(f, type(f))  # \"100\" <class 'str'>\n",
    "\n",
    "# 문자열을 숫자로 변환\n",
    "g = \"50\"\n",
    "h = int(g)\n",
    "print(h, type(h))  # 50 <class 'int'>\n",
    "\n",
    "# 빈 문자열은 False, 문자열이 있으면 True\n",
    "i = \"\"\n",
    "j = \"Hello\"\n",
    "print(bool(i))  # False\n",
    "print(bool(j))  # True\n"
   ]
  },
  {
   "cell_type": "code",
   "execution_count": 1,
   "metadata": {},
   "outputs": [
    {
     "name": "stdout",
     "output_type": "stream",
     "text": [
      "두 수의 합: 36\n"
     ]
    }
   ],
   "source": [
    "num1 = input(\"첫 번째 숫자 입력: \")  \n",
    "num2 = input(\"두 번째 숫자 입력: \")  \n",
    "\n",
    "# 문자열을 정수로 변환\n",
    "num1 = int(num1)\n",
    "num2 = int(num2)\n",
    "\n",
    "print(\"두 수의 합:\", num1 + num2)\n"
   ]
  },
  {
   "cell_type": "code",
   "execution_count": 2,
   "metadata": {},
   "outputs": [
    {
     "name": "stdout",
     "output_type": "stream",
     "text": [
      "(10, 20, 30)\n"
     ]
    }
   ],
   "source": [
    "my_list = [10, 20, 30]\n",
    "my_tuple = tuple(my_list)  # 리스트 -> 튜플 변환\n",
    "print(my_tuple)  # (10, 20, 30)\n"
   ]
  },
  {
   "cell_type": "code",
   "execution_count": 3,
   "metadata": {},
   "outputs": [
    {
     "name": "stdout",
     "output_type": "stream",
     "text": [
      "0 -> False\n",
      "1 -> True\n",
      " -> False\n",
      "Python -> True\n",
      "[] -> False\n",
      "[1, 2, 3] -> True\n",
      "None -> False\n"
     ]
    }
   ],
   "source": [
    "values = [0, 1, \"\", \"Python\", [], [1, 2, 3], None]\n",
    "\n",
    "for val in values:\n",
    "    print(f\"{val} -> {bool(val)}\")\n"
   ]
  }
 ],
 "metadata": {
  "kernelspec": {
   "display_name": "Python 3",
   "language": "python",
   "name": "python3"
  },
  "language_info": {
   "codemirror_mode": {
    "name": "ipython",
    "version": 3
   },
   "file_extension": ".py",
   "mimetype": "text/x-python",
   "name": "python",
   "nbconvert_exporter": "python",
   "pygments_lexer": "ipython3",
   "version": "3.11.10"
  }
 },
 "nbformat": 4,
 "nbformat_minor": 2
}
