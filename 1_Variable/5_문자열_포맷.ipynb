{
 "cells": [
  {
   "cell_type": "markdown",
   "metadata": {},
   "source": [
    "### ✅ 1.1 format() 함수 사용\n",
    "- Python의 format() 메서드를 사용하여 변수를 문자열에 삽입할 수 있습니다."
   ]
  },
  {
   "cell_type": "code",
   "execution_count": 1,
   "metadata": {},
   "outputs": [
    {
     "name": "stdout",
     "output_type": "stream",
     "text": [
      "이름: Alice, 나이: 25, 전공: Computer Science\n",
      "이름: Alice, 나이: 25, 전공: Computer Science\n",
      "이름: Alice, 나이: 25, 전공: Computer Science\n"
     ]
    }
   ],
   "source": [
    "name = \"Alice\"\n",
    "age = 25\n",
    "major = \"Computer Science\"\n",
    "\n",
    "# 기본적인 format() 사용\n",
    "print(\"이름: {}, 나이: {}, 전공: {}\".format(name, age, major))\n",
    "# 이름: Alice, 나이: 25, 전공: Computer Science\n",
    "\n",
    "# 위치 인덱스 지정\n",
    "print(\"이름: {0}, 나이: {1}, 전공: {2}\".format(name, age, major))\n",
    "# 이름: Alice, 나이: 25, 전공: Computer Science\n",
    "\n",
    "# 키워드 인자를 이용한 포맷팅\n",
    "print(\"이름: {n}, 나이: {a}, 전공: {m}\".format(n=name, a=age, m=major))\n",
    "# 이름: Alice, 나이: 25, 전공: Computer Science\n"
   ]
  },
  {
   "cell_type": "markdown",
   "metadata": {},
   "source": [
    "### 📌 2. f-string (Python 3.6 이상)\n",
    "- Python 3.6부터 도입된 f-string은 가장 직관적이고 빠른 문자열 포맷 방법입니다."
   ]
  },
  {
   "cell_type": "code",
   "execution_count": 2,
   "metadata": {},
   "outputs": [
    {
     "name": "stdout",
     "output_type": "stream",
     "text": [
      "이름: Bob, 나이: 30\n",
      "내년 나이는 31살입니다.\n",
      "원주율: 3.14\n"
     ]
    }
   ],
   "source": [
    "name = \"Bob\"\n",
    "age = 30\n",
    "\n",
    "# f-string 사용\n",
    "print(f\"이름: {name}, 나이: {age}\")\n",
    "# 이름: Bob, 나이: 30\n",
    "\n",
    "# 계산식 포함 가능\n",
    "print(f\"내년 나이는 {age + 1}살입니다.\")\n",
    "# 내년 나이는 31살입니다.\n",
    "\n",
    "# 소수점 자릿수 조정\n",
    "pi = 3.14159\n",
    "print(f\"원주율: {pi:.2f}\")  # 소수점 둘째 자리까지 출력\n",
    "# 원주율: 3.14\n"
   ]
  },
  {
   "cell_type": "markdown",
   "metadata": {},
   "source": [
    "### 📌 3. % 연산자 사용 (구식 방식)\n",
    "- % 연산자는 C 언어 스타일의 포맷팅 방식으로, 지금은 f-string이나 format()을 추천합니다."
   ]
  },
  {
   "cell_type": "code",
   "execution_count": 3,
   "metadata": {},
   "outputs": [
    {
     "name": "stdout",
     "output_type": "stream",
     "text": [
      "이름: Charlie, 나이: 35\n",
      "원주율: 3.14\n"
     ]
    }
   ],
   "source": [
    "name = \"Charlie\"\n",
    "age = 35\n",
    "\n",
    "print(\"이름: %s, 나이: %d\" % (name, age))\n",
    "# 이름: Charlie, 나이: 35\n",
    "\n",
    "# 실수 표현 (소수점 2자리까지)\n",
    "pi = 3.14159\n",
    "print(\"원주율: %.2f\" % pi)\n",
    "# 원주율: 3.14\n"
   ]
  },
  {
   "cell_type": "markdown",
   "metadata": {},
   "source": [
    "### 4.1 숫자 포맷팅"
   ]
  },
  {
   "cell_type": "code",
   "execution_count": 4,
   "metadata": {},
   "outputs": [
    {
     "name": "stdout",
     "output_type": "stream",
     "text": [
      "소수점 둘째 자리까지: 1234.57\n",
      "천 단위 구분: 1,234.57\n"
     ]
    }
   ],
   "source": [
    "num = 1234.56789\n",
    "\n",
    "# 소수점 자릿수 지정\n",
    "print(f\"소수점 둘째 자리까지: {num:.2f}\")  # 1234.57\n",
    "\n",
    "# 천 단위 콤마\n",
    "print(f\"천 단위 구분: {num:,.2f}\")  # 1,234.57\n"
   ]
  },
  {
   "cell_type": "markdown",
   "metadata": {},
   "source": [
    "### 4.2 정렬 및 공백 채우기"
   ]
  },
  {
   "cell_type": "code",
   "execution_count": 5,
   "metadata": {},
   "outputs": [
    {
     "name": "stdout",
     "output_type": "stream",
     "text": [
      "[Hello     ]\n",
      "[     Hello]\n",
      "[  Hello   ]\n"
     ]
    }
   ],
   "source": [
    "text = \"Hello\"\n",
    "\n",
    "# 좌측 정렬\n",
    "print(f\"[{text:<10}]\")  # [Hello     ]\n",
    "\n",
    "# 우측 정렬\n",
    "print(f\"[{text:>10}]\")  # [     Hello]\n",
    "\n",
    "# 가운데 정렬\n",
    "print(f\"[{text:^10}]\")  # [  Hello   ]\n"
   ]
  },
  {
   "cell_type": "markdown",
   "metadata": {},
   "source": [
    "### 🔹 문제 1: 사용자 입력을 받아 포맷팅\n",
    "- 사용자로부터 이름과 나이를 입력받아 f-string을 이용해 출력하세요."
   ]
  },
  {
   "cell_type": "code",
   "execution_count": 6,
   "metadata": {},
   "outputs": [
    {
     "name": "stdout",
     "output_type": "stream",
     "text": [
      "안녕하세요, 김종필님! 당신의 나이는 12살입니다.\n"
     ]
    }
   ],
   "source": [
    "name = input(\"이름을 입력하세요: \")\n",
    "age = int(input(\"나이를 입력하세요: \"))\n",
    "\n",
    "print(f\"안녕하세요, {name}님! 당신의 나이는 {age}살입니다.\")\n"
   ]
  },
  {
   "cell_type": "markdown",
   "metadata": {},
   "source": [
    "### 🔹 문제 2: 쇼핑 영수증 출력\n",
    "- 상품명과 가격을 입력받아, 영수증을 출력하세요."
   ]
  },
  {
   "cell_type": "code",
   "execution_count": 7,
   "metadata": {},
   "outputs": [
    {
     "name": "stdout",
     "output_type": "stream",
     "text": [
      "상품명: Laptop          가격: 1,299,000원\n"
     ]
    }
   ],
   "source": [
    "item = \"Laptop\"\n",
    "price = 1299000\n",
    "\n",
    "print(f\"상품명: {item:<15} 가격: {price:,.0f}원\")\n",
    "# 상품명: Laptop          가격: 1,299,000원\n"
   ]
  },
  {
   "cell_type": "markdown",
   "metadata": {},
   "source": [
    "### 문제 3: 환율 변환 프로그램\n",
    "- 달러를 원화로 변환하는 프로그램을 작성하세요. (환율 1달러 = 1300원)"
   ]
  },
  {
   "cell_type": "code",
   "execution_count": 8,
   "metadata": {},
   "outputs": [
    {
     "name": "stdout",
     "output_type": "stream",
     "text": [
      "123.56달러는 160,628원입니다.\n"
     ]
    }
   ],
   "source": [
    "usd = float(input(\"달러($) 금액을 입력하세요: \"))\n",
    "krw = usd * 1300\n",
    "\n",
    "print(f\"{usd:.2f}달러는 {krw:,.0f}원입니다.\")\n"
   ]
  }
 ],
 "metadata": {
  "kernelspec": {
   "display_name": "Python 3",
   "language": "python",
   "name": "python3"
  },
  "language_info": {
   "codemirror_mode": {
    "name": "ipython",
    "version": 3
   },
   "file_extension": ".py",
   "mimetype": "text/x-python",
   "name": "python",
   "nbconvert_exporter": "python",
   "pygments_lexer": "ipython3",
   "version": "3.11.10"
  }
 },
 "nbformat": 4,
 "nbformat_minor": 2
}
