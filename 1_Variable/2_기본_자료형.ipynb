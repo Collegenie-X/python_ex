{
 "cells": [
  {
   "cell_type": "code",
   "execution_count": 1,
   "metadata": {},
   "outputs": [
    {
     "name": "stdout",
     "output_type": "stream",
     "text": [
      "Python\n",
      "25\n",
      "3.14159\n"
     ]
    }
   ],
   "source": [
    "# 변수 선언 및 값 할당\n",
    "name = \"Python\"\n",
    "age = 25\n",
    "pi = 3.14159\n",
    "\n",
    "# 출력\n",
    "print(name)  # Python\n",
    "print(age)   # 25\n",
    "print(pi)    # 3.14159\n"
   ]
  },
  {
   "cell_type": "code",
   "execution_count": 2,
   "metadata": {},
   "outputs": [
    {
     "name": "stdout",
     "output_type": "stream",
     "text": [
      "<class 'int'>\n",
      "<class 'float'>\n",
      "<class 'str'>\n",
      "<class 'bool'>\n"
     ]
    }
   ],
   "source": [
    "# 정수형\n",
    "num = 10  \n",
    "print(type(num))  # <class 'int'>\n",
    "\n",
    "# 실수형\n",
    "pi = 3.14  \n",
    "print(type(pi))  # <class 'float'>\n",
    "\n",
    "# 문자열\n",
    "text = \"Hello\"  \n",
    "print(type(text))  # <class 'str'>\n",
    "\n",
    "# 논리형\n",
    "is_python_fun = True  \n",
    "print(type(is_python_fun))  # <class 'bool'>\n"
   ]
  },
  {
   "cell_type": "code",
   "execution_count": 3,
   "metadata": {},
   "outputs": [
    {
     "name": "stdout",
     "output_type": "stream",
     "text": [
      "10 20 30\n",
      "100 100 100\n"
     ]
    }
   ],
   "source": [
    "a, b, c = 10, 20, 30\n",
    "print(a, b, c)  # 10 20 30\n",
    "\n",
    "# 동일한 값으로 여러 개의 변수 할당\n",
    "x = y = z = 100\n",
    "print(x, y, z)  # 100 100 100\n"
   ]
  },
  {
   "cell_type": "code",
   "execution_count": 4,
   "metadata": {},
   "outputs": [
    {
     "name": "stdout",
     "output_type": "stream",
     "text": [
      "19\n",
      "11\n",
      "60\n",
      "3.75\n",
      "3\n",
      "3\n",
      "50625\n"
     ]
    }
   ],
   "source": [
    "a = 15\n",
    "b = 4\n",
    "\n",
    "print(a + b)  # 덧셈: 19\n",
    "print(a - b)  # 뺄셈: 11\n",
    "print(a * b)  # 곱셈: 60\n",
    "print(a / b)  # 나눗셈: 3.75\n",
    "print(a // b) # 몫: 3\n",
    "print(a % b)  # 나머지: 3\n",
    "print(a ** b) # 거듭제곱: 50625\n"
   ]
  },
  {
   "cell_type": "markdown",
   "metadata": {},
   "source": [
    "## 변수의 유효 범위 (Scope)"
   ]
  },
  {
   "cell_type": "code",
   "execution_count": null,
   "metadata": {},
   "outputs": [],
   "source": [
    "x = 10  # 전역 변수\n",
    "\n",
    "def my_function():\n",
    "    x = 20  # 지역 변수\n",
    "    print(\"함수 내부:\", x)\n",
    "\n",
    "my_function()\n",
    "print(\"함수 외부:\", x)\n",
    "\n",
    "# 출력 결과:\n",
    "# 함수 내부: 20\n",
    "# 함수 외부: 10\n"
   ]
  },
  {
   "cell_type": "code",
   "execution_count": 5,
   "metadata": {},
   "outputs": [
    {
     "name": "stdout",
     "output_type": "stream",
     "text": [
      "함수 내부: 20\n",
      "함수 외부: 20\n"
     ]
    }
   ],
   "source": [
    "x = 10  # 전역 변수\n",
    "\n",
    "def modify_global():\n",
    "    global x\n",
    "    x = 20  # 전역 변수 변경\n",
    "    print(\"함수 내부:\", x)\n",
    "\n",
    "modify_global()\n",
    "print(\"함수 외부:\", x)\n"
   ]
  },
  {
   "cell_type": "code",
   "execution_count": 6,
   "metadata": {},
   "outputs": [
    {
     "name": "stdout",
     "output_type": "stream",
     "text": [
      "1 2 3\n",
      "4 5 6\n"
     ]
    }
   ],
   "source": [
    "# 튜플 언패킹\n",
    "a, b, c = (1, 2, 3)\n",
    "print(a, b, c)  # 1 2 3\n",
    "\n",
    "# 리스트 언패킹\n",
    "x, y, z = [4, 5, 6]\n",
    "print(x, y, z)  # 4 5 6\n"
   ]
  }
 ],
 "metadata": {
  "kernelspec": {
   "display_name": "Python 3",
   "language": "python",
   "name": "python3"
  },
  "language_info": {
   "codemirror_mode": {
    "name": "ipython",
    "version": 3
   },
   "file_extension": ".py",
   "mimetype": "text/x-python",
   "name": "python",
   "nbconvert_exporter": "python",
   "pygments_lexer": "ipython3",
   "version": "3.11.10"
  }
 },
 "nbformat": 4,
 "nbformat_minor": 2
}
