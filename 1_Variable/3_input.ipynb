{
 "cells": [
  {
   "cell_type": "markdown",
   "metadata": {},
   "source": [
    "📌 9. input() 요약\n",
    "- ✅ input(\"메시지\") → 사용자 입력 받기 (항상 문자열 반환)\n",
    "- ✅ int(input()), float(input()) → 숫자 입력 받기\n",
    "- ✅ split() → 여러 개 값 입력 받기 (split(',') 가능)\n",
    "- ✅ strip() → 앞뒤 공백 제거\n",
    "- ✅ try-except → 잘못된 입력 처리\n",
    "- ✅ join() → 리스트를 문자열로 변환"
   ]
  },
  {
   "cell_type": "code",
   "execution_count": 1,
   "metadata": {},
   "outputs": [
    {
     "name": "stdout",
     "output_type": "stream",
     "text": [
      "안녕하세요, kim님!\n"
     ]
    }
   ],
   "source": [
    "name = input(\"이름을 입력하세요: \")\n",
    "print(f\"안녕하세요, {name}님!\")\n"
   ]
  },
  {
   "cell_type": "code",
   "execution_count": 2,
   "metadata": {},
   "outputs": [
    {
     "name": "stdout",
     "output_type": "stream",
     "text": [
      "당신의 나이는 12살입니다.\n"
     ]
    }
   ],
   "source": [
    "age = int(input(\"나이를 입력하세요: \"))\n",
    "print(f\"당신의 나이는 {age}살입니다.\")\n"
   ]
  },
  {
   "cell_type": "code",
   "execution_count": 3,
   "metadata": {},
   "outputs": [
    {
     "name": "stdout",
     "output_type": "stream",
     "text": [
      "이름: 김종필, 나이: 12살\n"
     ]
    }
   ],
   "source": [
    "data = input(\"이름과 나이를 입력하세요 (공백 구분): \").split()\n",
    "name = data[0]\n",
    "age = int(data[1])\n",
    "\n",
    "print(f\"이름: {name}, 나이: {age}살\")\n"
   ]
  },
  {
   "cell_type": "code",
   "execution_count": 4,
   "metadata": {},
   "outputs": [
    {
     "name": "stdout",
     "output_type": "stream",
     "text": [
      "이름: 김종필, 나이: 12살\n"
     ]
    }
   ],
   "source": [
    "data = input(\"이름과 나이를 입력하세요 (공백 구분): \").split()\n",
    "name = data[0]\n",
    "age = int(data[1])\n",
    "\n",
    "print(f\"이름: {name}, 나이: {age}살\")\n"
   ]
  },
  {
   "cell_type": "code",
   "execution_count": 5,
   "metadata": {},
   "outputs": [
    {
     "name": "stdout",
     "output_type": "stream",
     "text": [
      "입력된 숫자: [12, 12, 7]\n"
     ]
    }
   ],
   "source": [
    "numbers = list(map(int, input(\"숫자 3개를 입력하세요: \").split()))\n",
    "print(\"입력된 숫자:\", numbers)\n"
   ]
  },
  {
   "cell_type": "code",
   "execution_count": 7,
   "metadata": {},
   "outputs": [
    {
     "name": "stdout",
     "output_type": "stream",
     "text": [
      "입력된 과일: ['apple', 'banana', 'grape']\n"
     ]
    }
   ],
   "source": [
    "data = input(\"과일 이름을 입력하세요 (쉼표로 구분): \").split(',')\n",
    "print(\"입력된 과일:\", data)\n",
    "\n"
   ]
  },
  {
   "cell_type": "code",
   "execution_count": 8,
   "metadata": {},
   "outputs": [
    {
     "name": "stdout",
     "output_type": "stream",
     "text": [
      "안녕하세요, 김종필님!\n"
     ]
    }
   ],
   "source": [
    "name = input(\"이름을 입력하세요: \").strip()\n",
    "print(f\"안녕하세요, {name}님!\")"
   ]
  },
  {
   "cell_type": "code",
   "execution_count": 9,
   "metadata": {},
   "outputs": [
    {
     "name": "stdout",
     "output_type": "stream",
     "text": [
      "입력된 단어: apple,  banana,  cherry\n"
     ]
    }
   ],
   "source": [
    "words = input(\"단어를 입력하세요 (쉼표로 구분): \").split(',')\n",
    "sentence = ', '.join(words)\n",
    "\n",
    "print(f\"입력된 단어: {sentence}\")\n"
   ]
  },
  {
   "cell_type": "code",
   "execution_count": 10,
   "metadata": {},
   "outputs": [
    {
     "name": "stdout",
     "output_type": "stream",
     "text": [
      "안녕하세요, 김종필님! 20살이며, 프로그래머로 일하고 계시군요.\n"
     ]
    }
   ],
   "source": [
    "name = input(\"이름: \").strip()\n",
    "age = int(input(\"나이: \").strip())\n",
    "job = input(\"직업: \").strip()\n",
    "\n",
    "print(f\"안녕하세요, {name}님! {age}살이며, {job}로 일하고 계시군요.\")\n"
   ]
  }
 ],
 "metadata": {
  "kernelspec": {
   "display_name": "Python 3",
   "language": "python",
   "name": "python3"
  },
  "language_info": {
   "codemirror_mode": {
    "name": "ipython",
    "version": 3
   },
   "file_extension": ".py",
   "mimetype": "text/x-python",
   "name": "python",
   "nbconvert_exporter": "python",
   "pygments_lexer": "ipython3",
   "version": "3.11.10"
  }
 },
 "nbformat": 4,
 "nbformat_minor": 2
}
