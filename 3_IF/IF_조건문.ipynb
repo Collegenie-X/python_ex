{
 "cells": [
  {
   "cell_type": "markdown",
   "metadata": {},
   "source": [
    "### if 문은 조건이 True일 경우 실행됩니다.\n",
    "- ✅ 예제 1: 숫자가 양수인지 확인"
   ]
  },
  {
   "cell_type": "markdown",
   "metadata": {},
   "source": [
    "- if 조건:\n",
    "-     실행문\n",
    "- elif 조건:\n",
    "-     실행문\n",
    "- else:\n",
    "-     실행문\n"
   ]
  },
  {
   "cell_type": "markdown",
   "metadata": {},
   "source": [
    "### 1. if 문은 조건이 True일 경우 실행됩니다.\n",
    "- ✅ 예제 1: 숫자가 양수인지 확인"
   ]
  },
  {
   "cell_type": "code",
   "execution_count": null,
   "metadata": {},
   "outputs": [
    {
     "name": "stdout",
     "output_type": "stream",
     "text": [
      "양수입니다.\n"
     ]
    }
   ],
   "source": [
    "num = 10\n",
    "\n",
    "if num > 0:\n",
    "    print(\"양수입니다.\")"
   ]
  },
  {
   "cell_type": "markdown",
   "metadata": {},
   "source": [
    "### 🔥 2. if-else 문\n",
    "- if 문이 False일 경우 else 블록이 실행됩니다."
   ]
  },
  {
   "cell_type": "code",
   "execution_count": null,
   "metadata": {},
   "outputs": [
    {
     "name": "stdout",
     "output_type": "stream",
     "text": [
      "홀수입니다.\n"
     ]
    }
   ],
   "source": [
    "num = 7\n",
    "\n",
    "if num % 2 == 0:\n",
    "    print(\"짝수입니다.\")\n",
    "else:\n",
    "    print(\"홀수입니다.\")"
   ]
  },
  {
   "cell_type": "markdown",
   "metadata": {},
   "source": [
    "### 🔥 3. if-elif-else 문\n",
    "- 여러 개의 조건을 검사할 때 사용합니다."
   ]
  },
  {
   "cell_type": "code",
   "execution_count": null,
   "metadata": {},
   "outputs": [
    {
     "name": "stdout",
     "output_type": "stream",
     "text": [
      "B 학점\n"
     ]
    }
   ],
   "source": [
    "score = 85\n",
    "\n",
    "if score >= 90:\n",
    "    print(\"A 학점\")\n",
    "elif score >= 80:\n",
    "    print(\"B 학점\")\n",
    "elif score >= 70:\n",
    "    print(\"C 학점\")\n",
    "else:\n",
    "    print(\"F 학점\")"
   ]
  },
  {
   "cell_type": "markdown",
   "metadata": {},
   "source": [
    "### 4. 중첩 조건문 (Nested Conditionals)\n",
    "- 조건문 안에 또 다른 조건문을 포함할 수 있습니다."
   ]
  },
  {
   "cell_type": "code",
   "execution_count": null,
   "metadata": {},
   "outputs": [
    {
     "name": "stdout",
     "output_type": "stream",
     "text": [
      "영화를 볼 수 있습니다.\n"
     ]
    }
   ],
   "source": [
    "age = 18\n",
    "has_ticket = True\n",
    "\n",
    "if age >= 18:\n",
    "    if has_ticket:\n",
    "        print(\"영화를 볼 수 있습니다.\")\n",
    "    else:\n",
    "        print(\"영화 티켓이 필요합니다.\")\n",
    "else:\n",
    "    print(\"18세 이상만 관람 가능합니다.\")"
   ]
  },
  {
   "cell_type": "markdown",
   "metadata": {},
   "source": [
    "### if 문을 한 줄로 작성하기 (Ternary Operator)\n",
    "- Python에서는 한 줄로 if-else를 작성할 수도 있습니다."
   ]
  },
  {
   "cell_type": "code",
   "execution_count": null,
   "metadata": {},
   "outputs": [
    {
     "name": "stdout",
     "output_type": "stream",
     "text": [
      "음수\n"
     ]
    }
   ],
   "source": [
    "num = -5\n",
    "result = \"양수\" if num > 0 else \"음수\"\n",
    "print(result)"
   ]
  },
  {
   "cell_type": "code",
   "execution_count": null,
   "metadata": {},
   "outputs": [
    {
     "name": "stdout",
     "output_type": "stream",
     "text": [
      "로그인 성공!\n"
     ]
    }
   ],
   "source": [
    "user_id = \"admin\"\n",
    "user_pw = \"1234\"\n",
    "\n",
    "input_id = input(\"아이디를 입력하세요: \")\n",
    "input_pw = input(\"비밀번호를 입력하세요: \")\n",
    "\n",
    "if input_id == user_id:\n",
    "    if input_pw == user_pw:\n",
    "        print(\"로그인 성공!\")\n",
    "    else:\n",
    "        print(\"비밀번호가 틀렸습니다.\")\n",
    "else:\n",
    "    print(\"존재하지 않는 아이디입니다.\")"
   ]
  }
 ],
 "metadata": {
  "kernelspec": {
   "display_name": "Python 3",
   "language": "python",
   "name": "python3"
  },
  "language_info": {
   "codemirror_mode": {
    "name": "ipython",
    "version": 3
   },
   "file_extension": ".py",
   "mimetype": "text/x-python",
   "name": "python",
   "nbconvert_exporter": "python",
   "pygments_lexer": "ipython3",
   "version": "3.11.10"
  }
 },
 "nbformat": 4,
 "nbformat_minor": 2
}
