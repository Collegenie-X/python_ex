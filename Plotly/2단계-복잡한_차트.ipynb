{
 "cells": [
  {
   "cell_type": "markdown",
   "metadata": {
    "vscode": {
     "languageId": "plaintext"
    }
   },
   "source": [
    "## 2-1: 다중 선 그래프\n",
    "-  두 개 이상의 데이터 시리즈를 한 그래프에 표현하여 비교하는 다중 선 그래프를 만들어보세요."
   ]
  },
  {
   "cell_type": "code",
   "execution_count": 1,
   "metadata": {},
   "outputs": [
    {
     "data": {
      "application/vnd.plotly.v1+json": {
       "config": {
        "plotlyServerURL": "https://plot.ly"
       },
       "data": [
        {
         "mode": "lines+markers",
         "name": "시리즈 1",
         "type": "scatter",
         "x": [
          1,
          2,
          3,
          4,
          5
         ],
         "y": [
          10,
          12,
          14,
          16,
          18
         ]
        },
        {
         "mode": "lines+markers",
         "name": "시리즈 2",
         "type": "scatter",
         "x": [
          1,
          2,
          3,
          4,
          5
         ],
         "y": [
          9,
          11,
          13,
          15,
          17
         ]
        }
       ],
       "layout": {
        "template": {
         "data": {
          "bar": [
           {
            "error_x": {
             "color": "#2a3f5f"
            },
            "error_y": {
             "color": "#2a3f5f"
            },
            "marker": {
             "line": {
              "color": "#E5ECF6",
              "width": 0.5
             },
             "pattern": {
              "fillmode": "overlay",
              "size": 10,
              "solidity": 0.2
             }
            },
            "type": "bar"
           }
          ],
          "barpolar": [
           {
            "marker": {
             "line": {
              "color": "#E5ECF6",
              "width": 0.5
             },
             "pattern": {
              "fillmode": "overlay",
              "size": 10,
              "solidity": 0.2
             }
            },
            "type": "barpolar"
           }
          ],
          "carpet": [
           {
            "aaxis": {
             "endlinecolor": "#2a3f5f",
             "gridcolor": "white",
             "linecolor": "white",
             "minorgridcolor": "white",
             "startlinecolor": "#2a3f5f"
            },
            "baxis": {
             "endlinecolor": "#2a3f5f",
             "gridcolor": "white",
             "linecolor": "white",
             "minorgridcolor": "white",
             "startlinecolor": "#2a3f5f"
            },
            "type": "carpet"
           }
          ],
          "choropleth": [
           {
            "colorbar": {
             "outlinewidth": 0,
             "ticks": ""
            },
            "type": "choropleth"
           }
          ],
          "contour": [
           {
            "colorbar": {
             "outlinewidth": 0,
             "ticks": ""
            },
            "colorscale": [
             [
              0,
              "#0d0887"
             ],
             [
              0.1111111111111111,
              "#46039f"
             ],
             [
              0.2222222222222222,
              "#7201a8"
             ],
             [
              0.3333333333333333,
              "#9c179e"
             ],
             [
              0.4444444444444444,
              "#bd3786"
             ],
             [
              0.5555555555555556,
              "#d8576b"
             ],
             [
              0.6666666666666666,
              "#ed7953"
             ],
             [
              0.7777777777777778,
              "#fb9f3a"
             ],
             [
              0.8888888888888888,
              "#fdca26"
             ],
             [
              1,
              "#f0f921"
             ]
            ],
            "type": "contour"
           }
          ],
          "contourcarpet": [
           {
            "colorbar": {
             "outlinewidth": 0,
             "ticks": ""
            },
            "type": "contourcarpet"
           }
          ],
          "heatmap": [
           {
            "colorbar": {
             "outlinewidth": 0,
             "ticks": ""
            },
            "colorscale": [
             [
              0,
              "#0d0887"
             ],
             [
              0.1111111111111111,
              "#46039f"
             ],
             [
              0.2222222222222222,
              "#7201a8"
             ],
             [
              0.3333333333333333,
              "#9c179e"
             ],
             [
              0.4444444444444444,
              "#bd3786"
             ],
             [
              0.5555555555555556,
              "#d8576b"
             ],
             [
              0.6666666666666666,
              "#ed7953"
             ],
             [
              0.7777777777777778,
              "#fb9f3a"
             ],
             [
              0.8888888888888888,
              "#fdca26"
             ],
             [
              1,
              "#f0f921"
             ]
            ],
            "type": "heatmap"
           }
          ],
          "histogram": [
           {
            "marker": {
             "pattern": {
              "fillmode": "overlay",
              "size": 10,
              "solidity": 0.2
             }
            },
            "type": "histogram"
           }
          ],
          "histogram2d": [
           {
            "colorbar": {
             "outlinewidth": 0,
             "ticks": ""
            },
            "colorscale": [
             [
              0,
              "#0d0887"
             ],
             [
              0.1111111111111111,
              "#46039f"
             ],
             [
              0.2222222222222222,
              "#7201a8"
             ],
             [
              0.3333333333333333,
              "#9c179e"
             ],
             [
              0.4444444444444444,
              "#bd3786"
             ],
             [
              0.5555555555555556,
              "#d8576b"
             ],
             [
              0.6666666666666666,
              "#ed7953"
             ],
             [
              0.7777777777777778,
              "#fb9f3a"
             ],
             [
              0.8888888888888888,
              "#fdca26"
             ],
             [
              1,
              "#f0f921"
             ]
            ],
            "type": "histogram2d"
           }
          ],
          "histogram2dcontour": [
           {
            "colorbar": {
             "outlinewidth": 0,
             "ticks": ""
            },
            "colorscale": [
             [
              0,
              "#0d0887"
             ],
             [
              0.1111111111111111,
              "#46039f"
             ],
             [
              0.2222222222222222,
              "#7201a8"
             ],
             [
              0.3333333333333333,
              "#9c179e"
             ],
             [
              0.4444444444444444,
              "#bd3786"
             ],
             [
              0.5555555555555556,
              "#d8576b"
             ],
             [
              0.6666666666666666,
              "#ed7953"
             ],
             [
              0.7777777777777778,
              "#fb9f3a"
             ],
             [
              0.8888888888888888,
              "#fdca26"
             ],
             [
              1,
              "#f0f921"
             ]
            ],
            "type": "histogram2dcontour"
           }
          ],
          "mesh3d": [
           {
            "colorbar": {
             "outlinewidth": 0,
             "ticks": ""
            },
            "type": "mesh3d"
           }
          ],
          "parcoords": [
           {
            "line": {
             "colorbar": {
              "outlinewidth": 0,
              "ticks": ""
             }
            },
            "type": "parcoords"
           }
          ],
          "pie": [
           {
            "automargin": true,
            "type": "pie"
           }
          ],
          "scatter": [
           {
            "fillpattern": {
             "fillmode": "overlay",
             "size": 10,
             "solidity": 0.2
            },
            "type": "scatter"
           }
          ],
          "scatter3d": [
           {
            "line": {
             "colorbar": {
              "outlinewidth": 0,
              "ticks": ""
             }
            },
            "marker": {
             "colorbar": {
              "outlinewidth": 0,
              "ticks": ""
             }
            },
            "type": "scatter3d"
           }
          ],
          "scattercarpet": [
           {
            "marker": {
             "colorbar": {
              "outlinewidth": 0,
              "ticks": ""
             }
            },
            "type": "scattercarpet"
           }
          ],
          "scattergeo": [
           {
            "marker": {
             "colorbar": {
              "outlinewidth": 0,
              "ticks": ""
             }
            },
            "type": "scattergeo"
           }
          ],
          "scattergl": [
           {
            "marker": {
             "colorbar": {
              "outlinewidth": 0,
              "ticks": ""
             }
            },
            "type": "scattergl"
           }
          ],
          "scattermap": [
           {
            "marker": {
             "colorbar": {
              "outlinewidth": 0,
              "ticks": ""
             }
            },
            "type": "scattermap"
           }
          ],
          "scattermapbox": [
           {
            "marker": {
             "colorbar": {
              "outlinewidth": 0,
              "ticks": ""
             }
            },
            "type": "scattermapbox"
           }
          ],
          "scatterpolar": [
           {
            "marker": {
             "colorbar": {
              "outlinewidth": 0,
              "ticks": ""
             }
            },
            "type": "scatterpolar"
           }
          ],
          "scatterpolargl": [
           {
            "marker": {
             "colorbar": {
              "outlinewidth": 0,
              "ticks": ""
             }
            },
            "type": "scatterpolargl"
           }
          ],
          "scatterternary": [
           {
            "marker": {
             "colorbar": {
              "outlinewidth": 0,
              "ticks": ""
             }
            },
            "type": "scatterternary"
           }
          ],
          "surface": [
           {
            "colorbar": {
             "outlinewidth": 0,
             "ticks": ""
            },
            "colorscale": [
             [
              0,
              "#0d0887"
             ],
             [
              0.1111111111111111,
              "#46039f"
             ],
             [
              0.2222222222222222,
              "#7201a8"
             ],
             [
              0.3333333333333333,
              "#9c179e"
             ],
             [
              0.4444444444444444,
              "#bd3786"
             ],
             [
              0.5555555555555556,
              "#d8576b"
             ],
             [
              0.6666666666666666,
              "#ed7953"
             ],
             [
              0.7777777777777778,
              "#fb9f3a"
             ],
             [
              0.8888888888888888,
              "#fdca26"
             ],
             [
              1,
              "#f0f921"
             ]
            ],
            "type": "surface"
           }
          ],
          "table": [
           {
            "cells": {
             "fill": {
              "color": "#EBF0F8"
             },
             "line": {
              "color": "white"
             }
            },
            "header": {
             "fill": {
              "color": "#C8D4E3"
             },
             "line": {
              "color": "white"
             }
            },
            "type": "table"
           }
          ]
         },
         "layout": {
          "annotationdefaults": {
           "arrowcolor": "#2a3f5f",
           "arrowhead": 0,
           "arrowwidth": 1
          },
          "autotypenumbers": "strict",
          "coloraxis": {
           "colorbar": {
            "outlinewidth": 0,
            "ticks": ""
           }
          },
          "colorscale": {
           "diverging": [
            [
             0,
             "#8e0152"
            ],
            [
             0.1,
             "#c51b7d"
            ],
            [
             0.2,
             "#de77ae"
            ],
            [
             0.3,
             "#f1b6da"
            ],
            [
             0.4,
             "#fde0ef"
            ],
            [
             0.5,
             "#f7f7f7"
            ],
            [
             0.6,
             "#e6f5d0"
            ],
            [
             0.7,
             "#b8e186"
            ],
            [
             0.8,
             "#7fbc41"
            ],
            [
             0.9,
             "#4d9221"
            ],
            [
             1,
             "#276419"
            ]
           ],
           "sequential": [
            [
             0,
             "#0d0887"
            ],
            [
             0.1111111111111111,
             "#46039f"
            ],
            [
             0.2222222222222222,
             "#7201a8"
            ],
            [
             0.3333333333333333,
             "#9c179e"
            ],
            [
             0.4444444444444444,
             "#bd3786"
            ],
            [
             0.5555555555555556,
             "#d8576b"
            ],
            [
             0.6666666666666666,
             "#ed7953"
            ],
            [
             0.7777777777777778,
             "#fb9f3a"
            ],
            [
             0.8888888888888888,
             "#fdca26"
            ],
            [
             1,
             "#f0f921"
            ]
           ],
           "sequentialminus": [
            [
             0,
             "#0d0887"
            ],
            [
             0.1111111111111111,
             "#46039f"
            ],
            [
             0.2222222222222222,
             "#7201a8"
            ],
            [
             0.3333333333333333,
             "#9c179e"
            ],
            [
             0.4444444444444444,
             "#bd3786"
            ],
            [
             0.5555555555555556,
             "#d8576b"
            ],
            [
             0.6666666666666666,
             "#ed7953"
            ],
            [
             0.7777777777777778,
             "#fb9f3a"
            ],
            [
             0.8888888888888888,
             "#fdca26"
            ],
            [
             1,
             "#f0f921"
            ]
           ]
          },
          "colorway": [
           "#636efa",
           "#EF553B",
           "#00cc96",
           "#ab63fa",
           "#FFA15A",
           "#19d3f3",
           "#FF6692",
           "#B6E880",
           "#FF97FF",
           "#FECB52"
          ],
          "font": {
           "color": "#2a3f5f"
          },
          "geo": {
           "bgcolor": "white",
           "lakecolor": "white",
           "landcolor": "#E5ECF6",
           "showlakes": true,
           "showland": true,
           "subunitcolor": "white"
          },
          "hoverlabel": {
           "align": "left"
          },
          "hovermode": "closest",
          "mapbox": {
           "style": "light"
          },
          "paper_bgcolor": "white",
          "plot_bgcolor": "#E5ECF6",
          "polar": {
           "angularaxis": {
            "gridcolor": "white",
            "linecolor": "white",
            "ticks": ""
           },
           "bgcolor": "#E5ECF6",
           "radialaxis": {
            "gridcolor": "white",
            "linecolor": "white",
            "ticks": ""
           }
          },
          "scene": {
           "xaxis": {
            "backgroundcolor": "#E5ECF6",
            "gridcolor": "white",
            "gridwidth": 2,
            "linecolor": "white",
            "showbackground": true,
            "ticks": "",
            "zerolinecolor": "white"
           },
           "yaxis": {
            "backgroundcolor": "#E5ECF6",
            "gridcolor": "white",
            "gridwidth": 2,
            "linecolor": "white",
            "showbackground": true,
            "ticks": "",
            "zerolinecolor": "white"
           },
           "zaxis": {
            "backgroundcolor": "#E5ECF6",
            "gridcolor": "white",
            "gridwidth": 2,
            "linecolor": "white",
            "showbackground": true,
            "ticks": "",
            "zerolinecolor": "white"
           }
          },
          "shapedefaults": {
           "line": {
            "color": "#2a3f5f"
           }
          },
          "ternary": {
           "aaxis": {
            "gridcolor": "white",
            "linecolor": "white",
            "ticks": ""
           },
           "baxis": {
            "gridcolor": "white",
            "linecolor": "white",
            "ticks": ""
           },
           "bgcolor": "#E5ECF6",
           "caxis": {
            "gridcolor": "white",
            "linecolor": "white",
            "ticks": ""
           }
          },
          "title": {
           "x": 0.05
          },
          "xaxis": {
           "automargin": true,
           "gridcolor": "white",
           "linecolor": "white",
           "ticks": "",
           "title": {
            "standoff": 15
           },
           "zerolinecolor": "white",
           "zerolinewidth": 2
          },
          "yaxis": {
           "automargin": true,
           "gridcolor": "white",
           "linecolor": "white",
           "ticks": "",
           "title": {
            "standoff": 15
           },
           "zerolinecolor": "white",
           "zerolinewidth": 2
          }
         }
        },
        "title": {
         "text": "다중 선 그래프"
        },
        "xaxis": {
         "title": {
          "text": "X축"
         }
        },
        "yaxis": {
         "title": {
          "text": "Y축"
         }
        }
       }
      }
     },
     "metadata": {},
     "output_type": "display_data"
    }
   ],
   "source": [
    "import plotly.graph_objects as go\n",
    "\n",
    "# 데이터 설정\n",
    "x = [1, 2, 3, 4, 5]\n",
    "y1 = [10, 12, 14, 16, 18]\n",
    "y2 = [9, 11, 13, 15, 17]\n",
    "\n",
    "# 다중 선 그래프 생성\n",
    "fig = go.Figure()\n",
    "fig.add_trace(go.Scatter(x=x, y=y1, mode='lines+markers', name='시리즈 1'))\n",
    "fig.add_trace(go.Scatter(x=x, y=y2, mode='lines+markers', name='시리즈 2'))\n",
    "fig.update_layout(title=\"다중 선 그래프\", xaxis_title=\"X축\", yaxis_title=\"Y축\")\n",
    "fig.show()\n"
   ]
  },
  {
   "cell_type": "markdown",
   "metadata": {},
   "source": [
    "## 2-2: 그룹화된 막대 차트\n",
    "- 두 그룹의 데이터를 비교할 수 있도록 그룹화된 막대 차트를 작성해보세요."
   ]
  },
  {
   "cell_type": "code",
   "execution_count": 3,
   "metadata": {},
   "outputs": [
    {
     "data": {
      "application/vnd.plotly.v1+json": {
       "config": {
        "plotlyServerURL": "https://plot.ly"
       },
       "data": [
        {
         "name": "그룹 1",
         "type": "bar",
         "x": [
          "카테고리1",
          "카테고리2",
          "카테고리3"
         ],
         "y": [
          20,
          14,
          23
         ]
        },
        {
         "name": "그룹 2",
         "type": "bar",
         "x": [
          "카테고리1",
          "카테고리2",
          "카테고리3"
         ],
         "y": [
          12,
          18,
          29
         ]
        }
       ],
       "layout": {
        "barmode": "group",
        "template": {
         "data": {
          "bar": [
           {
            "error_x": {
             "color": "#2a3f5f"
            },
            "error_y": {
             "color": "#2a3f5f"
            },
            "marker": {
             "line": {
              "color": "#E5ECF6",
              "width": 0.5
             },
             "pattern": {
              "fillmode": "overlay",
              "size": 10,
              "solidity": 0.2
             }
            },
            "type": "bar"
           }
          ],
          "barpolar": [
           {
            "marker": {
             "line": {
              "color": "#E5ECF6",
              "width": 0.5
             },
             "pattern": {
              "fillmode": "overlay",
              "size": 10,
              "solidity": 0.2
             }
            },
            "type": "barpolar"
           }
          ],
          "carpet": [
           {
            "aaxis": {
             "endlinecolor": "#2a3f5f",
             "gridcolor": "white",
             "linecolor": "white",
             "minorgridcolor": "white",
             "startlinecolor": "#2a3f5f"
            },
            "baxis": {
             "endlinecolor": "#2a3f5f",
             "gridcolor": "white",
             "linecolor": "white",
             "minorgridcolor": "white",
             "startlinecolor": "#2a3f5f"
            },
            "type": "carpet"
           }
          ],
          "choropleth": [
           {
            "colorbar": {
             "outlinewidth": 0,
             "ticks": ""
            },
            "type": "choropleth"
           }
          ],
          "contour": [
           {
            "colorbar": {
             "outlinewidth": 0,
             "ticks": ""
            },
            "colorscale": [
             [
              0,
              "#0d0887"
             ],
             [
              0.1111111111111111,
              "#46039f"
             ],
             [
              0.2222222222222222,
              "#7201a8"
             ],
             [
              0.3333333333333333,
              "#9c179e"
             ],
             [
              0.4444444444444444,
              "#bd3786"
             ],
             [
              0.5555555555555556,
              "#d8576b"
             ],
             [
              0.6666666666666666,
              "#ed7953"
             ],
             [
              0.7777777777777778,
              "#fb9f3a"
             ],
             [
              0.8888888888888888,
              "#fdca26"
             ],
             [
              1,
              "#f0f921"
             ]
            ],
            "type": "contour"
           }
          ],
          "contourcarpet": [
           {
            "colorbar": {
             "outlinewidth": 0,
             "ticks": ""
            },
            "type": "contourcarpet"
           }
          ],
          "heatmap": [
           {
            "colorbar": {
             "outlinewidth": 0,
             "ticks": ""
            },
            "colorscale": [
             [
              0,
              "#0d0887"
             ],
             [
              0.1111111111111111,
              "#46039f"
             ],
             [
              0.2222222222222222,
              "#7201a8"
             ],
             [
              0.3333333333333333,
              "#9c179e"
             ],
             [
              0.4444444444444444,
              "#bd3786"
             ],
             [
              0.5555555555555556,
              "#d8576b"
             ],
             [
              0.6666666666666666,
              "#ed7953"
             ],
             [
              0.7777777777777778,
              "#fb9f3a"
             ],
             [
              0.8888888888888888,
              "#fdca26"
             ],
             [
              1,
              "#f0f921"
             ]
            ],
            "type": "heatmap"
           }
          ],
          "histogram": [
           {
            "marker": {
             "pattern": {
              "fillmode": "overlay",
              "size": 10,
              "solidity": 0.2
             }
            },
            "type": "histogram"
           }
          ],
          "histogram2d": [
           {
            "colorbar": {
             "outlinewidth": 0,
             "ticks": ""
            },
            "colorscale": [
             [
              0,
              "#0d0887"
             ],
             [
              0.1111111111111111,
              "#46039f"
             ],
             [
              0.2222222222222222,
              "#7201a8"
             ],
             [
              0.3333333333333333,
              "#9c179e"
             ],
             [
              0.4444444444444444,
              "#bd3786"
             ],
             [
              0.5555555555555556,
              "#d8576b"
             ],
             [
              0.6666666666666666,
              "#ed7953"
             ],
             [
              0.7777777777777778,
              "#fb9f3a"
             ],
             [
              0.8888888888888888,
              "#fdca26"
             ],
             [
              1,
              "#f0f921"
             ]
            ],
            "type": "histogram2d"
           }
          ],
          "histogram2dcontour": [
           {
            "colorbar": {
             "outlinewidth": 0,
             "ticks": ""
            },
            "colorscale": [
             [
              0,
              "#0d0887"
             ],
             [
              0.1111111111111111,
              "#46039f"
             ],
             [
              0.2222222222222222,
              "#7201a8"
             ],
             [
              0.3333333333333333,
              "#9c179e"
             ],
             [
              0.4444444444444444,
              "#bd3786"
             ],
             [
              0.5555555555555556,
              "#d8576b"
             ],
             [
              0.6666666666666666,
              "#ed7953"
             ],
             [
              0.7777777777777778,
              "#fb9f3a"
             ],
             [
              0.8888888888888888,
              "#fdca26"
             ],
             [
              1,
              "#f0f921"
             ]
            ],
            "type": "histogram2dcontour"
           }
          ],
          "mesh3d": [
           {
            "colorbar": {
             "outlinewidth": 0,
             "ticks": ""
            },
            "type": "mesh3d"
           }
          ],
          "parcoords": [
           {
            "line": {
             "colorbar": {
              "outlinewidth": 0,
              "ticks": ""
             }
            },
            "type": "parcoords"
           }
          ],
          "pie": [
           {
            "automargin": true,
            "type": "pie"
           }
          ],
          "scatter": [
           {
            "fillpattern": {
             "fillmode": "overlay",
             "size": 10,
             "solidity": 0.2
            },
            "type": "scatter"
           }
          ],
          "scatter3d": [
           {
            "line": {
             "colorbar": {
              "outlinewidth": 0,
              "ticks": ""
             }
            },
            "marker": {
             "colorbar": {
              "outlinewidth": 0,
              "ticks": ""
             }
            },
            "type": "scatter3d"
           }
          ],
          "scattercarpet": [
           {
            "marker": {
             "colorbar": {
              "outlinewidth": 0,
              "ticks": ""
             }
            },
            "type": "scattercarpet"
           }
          ],
          "scattergeo": [
           {
            "marker": {
             "colorbar": {
              "outlinewidth": 0,
              "ticks": ""
             }
            },
            "type": "scattergeo"
           }
          ],
          "scattergl": [
           {
            "marker": {
             "colorbar": {
              "outlinewidth": 0,
              "ticks": ""
             }
            },
            "type": "scattergl"
           }
          ],
          "scattermap": [
           {
            "marker": {
             "colorbar": {
              "outlinewidth": 0,
              "ticks": ""
             }
            },
            "type": "scattermap"
           }
          ],
          "scattermapbox": [
           {
            "marker": {
             "colorbar": {
              "outlinewidth": 0,
              "ticks": ""
             }
            },
            "type": "scattermapbox"
           }
          ],
          "scatterpolar": [
           {
            "marker": {
             "colorbar": {
              "outlinewidth": 0,
              "ticks": ""
             }
            },
            "type": "scatterpolar"
           }
          ],
          "scatterpolargl": [
           {
            "marker": {
             "colorbar": {
              "outlinewidth": 0,
              "ticks": ""
             }
            },
            "type": "scatterpolargl"
           }
          ],
          "scatterternary": [
           {
            "marker": {
             "colorbar": {
              "outlinewidth": 0,
              "ticks": ""
             }
            },
            "type": "scatterternary"
           }
          ],
          "surface": [
           {
            "colorbar": {
             "outlinewidth": 0,
             "ticks": ""
            },
            "colorscale": [
             [
              0,
              "#0d0887"
             ],
             [
              0.1111111111111111,
              "#46039f"
             ],
             [
              0.2222222222222222,
              "#7201a8"
             ],
             [
              0.3333333333333333,
              "#9c179e"
             ],
             [
              0.4444444444444444,
              "#bd3786"
             ],
             [
              0.5555555555555556,
              "#d8576b"
             ],
             [
              0.6666666666666666,
              "#ed7953"
             ],
             [
              0.7777777777777778,
              "#fb9f3a"
             ],
             [
              0.8888888888888888,
              "#fdca26"
             ],
             [
              1,
              "#f0f921"
             ]
            ],
            "type": "surface"
           }
          ],
          "table": [
           {
            "cells": {
             "fill": {
              "color": "#EBF0F8"
             },
             "line": {
              "color": "white"
             }
            },
            "header": {
             "fill": {
              "color": "#C8D4E3"
             },
             "line": {
              "color": "white"
             }
            },
            "type": "table"
           }
          ]
         },
         "layout": {
          "annotationdefaults": {
           "arrowcolor": "#2a3f5f",
           "arrowhead": 0,
           "arrowwidth": 1
          },
          "autotypenumbers": "strict",
          "coloraxis": {
           "colorbar": {
            "outlinewidth": 0,
            "ticks": ""
           }
          },
          "colorscale": {
           "diverging": [
            [
             0,
             "#8e0152"
            ],
            [
             0.1,
             "#c51b7d"
            ],
            [
             0.2,
             "#de77ae"
            ],
            [
             0.3,
             "#f1b6da"
            ],
            [
             0.4,
             "#fde0ef"
            ],
            [
             0.5,
             "#f7f7f7"
            ],
            [
             0.6,
             "#e6f5d0"
            ],
            [
             0.7,
             "#b8e186"
            ],
            [
             0.8,
             "#7fbc41"
            ],
            [
             0.9,
             "#4d9221"
            ],
            [
             1,
             "#276419"
            ]
           ],
           "sequential": [
            [
             0,
             "#0d0887"
            ],
            [
             0.1111111111111111,
             "#46039f"
            ],
            [
             0.2222222222222222,
             "#7201a8"
            ],
            [
             0.3333333333333333,
             "#9c179e"
            ],
            [
             0.4444444444444444,
             "#bd3786"
            ],
            [
             0.5555555555555556,
             "#d8576b"
            ],
            [
             0.6666666666666666,
             "#ed7953"
            ],
            [
             0.7777777777777778,
             "#fb9f3a"
            ],
            [
             0.8888888888888888,
             "#fdca26"
            ],
            [
             1,
             "#f0f921"
            ]
           ],
           "sequentialminus": [
            [
             0,
             "#0d0887"
            ],
            [
             0.1111111111111111,
             "#46039f"
            ],
            [
             0.2222222222222222,
             "#7201a8"
            ],
            [
             0.3333333333333333,
             "#9c179e"
            ],
            [
             0.4444444444444444,
             "#bd3786"
            ],
            [
             0.5555555555555556,
             "#d8576b"
            ],
            [
             0.6666666666666666,
             "#ed7953"
            ],
            [
             0.7777777777777778,
             "#fb9f3a"
            ],
            [
             0.8888888888888888,
             "#fdca26"
            ],
            [
             1,
             "#f0f921"
            ]
           ]
          },
          "colorway": [
           "#636efa",
           "#EF553B",
           "#00cc96",
           "#ab63fa",
           "#FFA15A",
           "#19d3f3",
           "#FF6692",
           "#B6E880",
           "#FF97FF",
           "#FECB52"
          ],
          "font": {
           "color": "#2a3f5f"
          },
          "geo": {
           "bgcolor": "white",
           "lakecolor": "white",
           "landcolor": "#E5ECF6",
           "showlakes": true,
           "showland": true,
           "subunitcolor": "white"
          },
          "hoverlabel": {
           "align": "left"
          },
          "hovermode": "closest",
          "mapbox": {
           "style": "light"
          },
          "paper_bgcolor": "white",
          "plot_bgcolor": "#E5ECF6",
          "polar": {
           "angularaxis": {
            "gridcolor": "white",
            "linecolor": "white",
            "ticks": ""
           },
           "bgcolor": "#E5ECF6",
           "radialaxis": {
            "gridcolor": "white",
            "linecolor": "white",
            "ticks": ""
           }
          },
          "scene": {
           "xaxis": {
            "backgroundcolor": "#E5ECF6",
            "gridcolor": "white",
            "gridwidth": 2,
            "linecolor": "white",
            "showbackground": true,
            "ticks": "",
            "zerolinecolor": "white"
           },
           "yaxis": {
            "backgroundcolor": "#E5ECF6",
            "gridcolor": "white",
            "gridwidth": 2,
            "linecolor": "white",
            "showbackground": true,
            "ticks": "",
            "zerolinecolor": "white"
           },
           "zaxis": {
            "backgroundcolor": "#E5ECF6",
            "gridcolor": "white",
            "gridwidth": 2,
            "linecolor": "white",
            "showbackground": true,
            "ticks": "",
            "zerolinecolor": "white"
           }
          },
          "shapedefaults": {
           "line": {
            "color": "#2a3f5f"
           }
          },
          "ternary": {
           "aaxis": {
            "gridcolor": "white",
            "linecolor": "white",
            "ticks": ""
           },
           "baxis": {
            "gridcolor": "white",
            "linecolor": "white",
            "ticks": ""
           },
           "bgcolor": "#E5ECF6",
           "caxis": {
            "gridcolor": "white",
            "linecolor": "white",
            "ticks": ""
           }
          },
          "title": {
           "x": 0.05
          },
          "xaxis": {
           "automargin": true,
           "gridcolor": "white",
           "linecolor": "white",
           "ticks": "",
           "title": {
            "standoff": 15
           },
           "zerolinecolor": "white",
           "zerolinewidth": 2
          },
          "yaxis": {
           "automargin": true,
           "gridcolor": "white",
           "linecolor": "white",
           "ticks": "",
           "title": {
            "standoff": 15
           },
           "zerolinecolor": "white",
           "zerolinewidth": 2
          }
         }
        },
        "title": {
         "text": "그룹화된 막대 차트"
        },
        "xaxis": {
         "title": {
          "text": "카테고리"
         }
        },
        "yaxis": {
         "title": {
          "text": "값"
         }
        }
       }
      }
     },
     "metadata": {},
     "output_type": "display_data"
    }
   ],
   "source": [
    "import plotly.graph_objects as go\n",
    "\n",
    "# 데이터 설정\n",
    "categories = ['카테고리1', '카테고리2', '카테고리3']\n",
    "group1 = [20, 14, 23]\n",
    "group2 = [12, 18, 29]\n",
    "\n",
    "# 그룹화된 막대 차트 생성\n",
    "fig = go.Figure(data=[\n",
    "    go.Bar(name='그룹 1', x=categories, y=group1),\n",
    "    go.Bar(name='그룹 2', x=categories, y=group2)\n",
    "])\n",
    "fig.update_layout(title=\"그룹화된 막대 차트\", barmode='group', xaxis_title=\"카테고리\", yaxis_title=\"값\")\n",
    "fig.show()\n",
    "\n"
   ]
  },
  {
   "cell_type": "markdown",
   "metadata": {},
   "source": [
    "## 2-3: 스타일이 적용된 산점도\n",
    "- 마커의 크기, 색상, 투명도 등을 조절하여 스타일이 적용된 산점도를 만들어보세요."
   ]
  },
  {
   "cell_type": "code",
   "execution_count": 4,
   "metadata": {},
   "outputs": [
    {
     "data": {
      "application/vnd.plotly.v1+json": {
       "config": {
        "plotlyServerURL": "https://plot.ly"
       },
       "data": [
        {
         "marker": {
          "color": {
           "bdata": "AAAAAAAAAADJDrbfBfHJP94CqIs0Z9k/q8l67P1j4j8pU7fk+VDnP2vgc+I3Rus/FlAz7akZ7j9KTGc3Sa3vP2QZyihV8O8/5QzYXQXg7j91/SE5p4fsP2uWTswlAOk/mCfHFAFv5D/2CHsSfwnePz51TQPV9dE/YwHr/1aNtD+VnVs0BZe/v36Q/qjumtS/YhbLOJY64L8b16WCRXvlvxXW8Y611+m/zoE66o8h7b+2sXCq4zXvvzoDCrGY/u+/HCrLbFpz779+AOJc8JntvyhI2KgAhuq/G+XUWT9Y5r8SoHnfEj3hv4he45h41da/cns4fVt8xL8RHWWzky+mP/6OupQ2Wc8/PjXLF7ns2z/xxPXkEILjP6Q5VPJ9Pug/NHDDWVH56z/k6EnT6YruP0Qeij381+8/mZTmnbXS7z9FixwDTnvuP+6EozEG4Os/jViKMpAc6D9mTu4N6VjjP72+hs9fj9s/kT/khTCQzj+a/bc3jfOiP8PkuyzBSMW/iZSxlR82179ST/P1nmjhvw==",
           "dtype": "f8"
          },
          "colorscale": [
           [
            0,
            "#440154"
           ],
           [
            0.1111111111111111,
            "#482878"
           ],
           [
            0.2222222222222222,
            "#3e4989"
           ],
           [
            0.3333333333333333,
            "#31688e"
           ],
           [
            0.4444444444444444,
            "#26828e"
           ],
           [
            0.5555555555555556,
            "#1f9e89"
           ],
           [
            0.6666666666666666,
            "#35b779"
           ],
           [
            0.7777777777777778,
            "#6ece58"
           ],
           [
            0.8888888888888888,
            "#b5de2b"
           ],
           [
            1,
            "#fde725"
           ]
          ],
          "opacity": 0.8,
          "size": {
           "bdata": "AAAAAAAAJEA01ofG+tAkQGisD431oSVAnYKXU/ByJkDRWB8a60MnQAUvp+DlFChAOgUvp+DlKEBu27Zt27YpQKKxPjTWhypA1ofG+tBYK0AKXk7ByyksQD801ofG+ixAcwpeTsHLLUCn4OUUvJwuQNy2bdu2bS9AiMb60FgfMECisT401ocwQLycgpdT8DBA1ofG+tBYMUDwcgpeTsExQApeTsHLKTJAJEmSJEmSMkA/NNaHxvoyQFkfGutDYzNAcwpeTsHLM0CN9aGxPjQ0QKfg5RS8nDRAwsspeDkFNUDctm3btm01QPahsT401jVAEI31obE+NkAqeDkFL6c2QERjfWisDzdAXk7Byyl4N0B4OQUvp+A3QJIkSZIkSThArA+N9aGxOEDG+tBYHxo5QOHlFLycgjlA+9BYHxrrOUAVvJyCl1M6QC+n4OUUvDpASZIkSZIkO0BjfWisD407QH5orA+N9TtAmFPwcgpePECyPjTWh8Y8QMwpeDkFLz1A5hS8nIKXPUAAAAAAAAA+QA==",
           "dtype": "f8"
          }
         },
         "mode": "markers",
         "name": "스타일 산점도",
         "type": "scatter",
         "x": {
          "bdata": "AAAAAAAAAACIxvrQWB/KP4jG+tBYH9o/5hS8nIKX4z+IxvrQWB/qPxW8nIKXU/A/5hS8nIKX8z+3bdu2bdv2P4jG+tBYH/o/WR8a60Nj/T8VvJyCl1MAQH5orA+N9QFA5hS8nIKXA0BOwcspeDkFQLdt27Zt2wZAIBrrQ2N9CECIxvrQWB8KQPByCl5OwQtAWR8a60NjDUDCyyl4OQUPQBW8nIKXUxBASZIkSZIkEUB+aKwPjfURQLI+NNaHxhJA5hS8nIKXE0Aa60NjfWgUQE7Byyl4ORVAg5dT8HIKFkC3bdu2bdsWQOtDY31orBdAIBrrQ2N9GEBU8HIKXk4ZQIjG+tBYHxpAvJyCl1PwGkDwcgpeTsEbQCVJkiRJkhxAWR8a60NjHUCN9aGxPjQeQMLLKXg5BR9A9qGxPjTWH0AVvJyCl1MgQC+n4OUUvCBASZIkSZIkIUBjfWisD40hQH5orA+N9SFAmFPwcgpeIkCyPjTWh8YiQMwpeDkFLyNA5hS8nIKXI0AAAAAAAAAkQA==",
          "dtype": "f8"
         },
         "y": {
          "bdata": "AAAAAAAAAADJDrbfBfHJP94CqIs0Z9k/q8l67P1j4j8pU7fk+VDnP2vgc+I3Rus/FlAz7akZ7j9KTGc3Sa3vP2QZyihV8O8/5QzYXQXg7j91/SE5p4fsP2uWTswlAOk/mCfHFAFv5D/2CHsSfwnePz51TQPV9dE/YwHr/1aNtD+VnVs0BZe/v36Q/qjumtS/YhbLOJY64L8b16WCRXvlvxXW8Y611+m/zoE66o8h7b+2sXCq4zXvvzoDCrGY/u+/HCrLbFpz779+AOJc8JntvyhI2KgAhuq/G+XUWT9Y5r8SoHnfEj3hv4he45h41da/cns4fVt8xL8RHWWzky+mP/6OupQ2Wc8/PjXLF7ns2z/xxPXkEILjP6Q5VPJ9Pug/NHDDWVH56z/k6EnT6YruP0Qeij381+8/mZTmnbXS7z9FixwDTnvuP+6EozEG4Os/jViKMpAc6D9mTu4N6VjjP72+hs9fj9s/kT/khTCQzj+a/bc3jfOiP8PkuyzBSMW/iZSxlR82179ST/P1nmjhvw==",
          "dtype": "f8"
         }
        }
       ],
       "layout": {
        "template": {
         "data": {
          "bar": [
           {
            "error_x": {
             "color": "#2a3f5f"
            },
            "error_y": {
             "color": "#2a3f5f"
            },
            "marker": {
             "line": {
              "color": "#E5ECF6",
              "width": 0.5
             },
             "pattern": {
              "fillmode": "overlay",
              "size": 10,
              "solidity": 0.2
             }
            },
            "type": "bar"
           }
          ],
          "barpolar": [
           {
            "marker": {
             "line": {
              "color": "#E5ECF6",
              "width": 0.5
             },
             "pattern": {
              "fillmode": "overlay",
              "size": 10,
              "solidity": 0.2
             }
            },
            "type": "barpolar"
           }
          ],
          "carpet": [
           {
            "aaxis": {
             "endlinecolor": "#2a3f5f",
             "gridcolor": "white",
             "linecolor": "white",
             "minorgridcolor": "white",
             "startlinecolor": "#2a3f5f"
            },
            "baxis": {
             "endlinecolor": "#2a3f5f",
             "gridcolor": "white",
             "linecolor": "white",
             "minorgridcolor": "white",
             "startlinecolor": "#2a3f5f"
            },
            "type": "carpet"
           }
          ],
          "choropleth": [
           {
            "colorbar": {
             "outlinewidth": 0,
             "ticks": ""
            },
            "type": "choropleth"
           }
          ],
          "contour": [
           {
            "colorbar": {
             "outlinewidth": 0,
             "ticks": ""
            },
            "colorscale": [
             [
              0,
              "#0d0887"
             ],
             [
              0.1111111111111111,
              "#46039f"
             ],
             [
              0.2222222222222222,
              "#7201a8"
             ],
             [
              0.3333333333333333,
              "#9c179e"
             ],
             [
              0.4444444444444444,
              "#bd3786"
             ],
             [
              0.5555555555555556,
              "#d8576b"
             ],
             [
              0.6666666666666666,
              "#ed7953"
             ],
             [
              0.7777777777777778,
              "#fb9f3a"
             ],
             [
              0.8888888888888888,
              "#fdca26"
             ],
             [
              1,
              "#f0f921"
             ]
            ],
            "type": "contour"
           }
          ],
          "contourcarpet": [
           {
            "colorbar": {
             "outlinewidth": 0,
             "ticks": ""
            },
            "type": "contourcarpet"
           }
          ],
          "heatmap": [
           {
            "colorbar": {
             "outlinewidth": 0,
             "ticks": ""
            },
            "colorscale": [
             [
              0,
              "#0d0887"
             ],
             [
              0.1111111111111111,
              "#46039f"
             ],
             [
              0.2222222222222222,
              "#7201a8"
             ],
             [
              0.3333333333333333,
              "#9c179e"
             ],
             [
              0.4444444444444444,
              "#bd3786"
             ],
             [
              0.5555555555555556,
              "#d8576b"
             ],
             [
              0.6666666666666666,
              "#ed7953"
             ],
             [
              0.7777777777777778,
              "#fb9f3a"
             ],
             [
              0.8888888888888888,
              "#fdca26"
             ],
             [
              1,
              "#f0f921"
             ]
            ],
            "type": "heatmap"
           }
          ],
          "histogram": [
           {
            "marker": {
             "pattern": {
              "fillmode": "overlay",
              "size": 10,
              "solidity": 0.2
             }
            },
            "type": "histogram"
           }
          ],
          "histogram2d": [
           {
            "colorbar": {
             "outlinewidth": 0,
             "ticks": ""
            },
            "colorscale": [
             [
              0,
              "#0d0887"
             ],
             [
              0.1111111111111111,
              "#46039f"
             ],
             [
              0.2222222222222222,
              "#7201a8"
             ],
             [
              0.3333333333333333,
              "#9c179e"
             ],
             [
              0.4444444444444444,
              "#bd3786"
             ],
             [
              0.5555555555555556,
              "#d8576b"
             ],
             [
              0.6666666666666666,
              "#ed7953"
             ],
             [
              0.7777777777777778,
              "#fb9f3a"
             ],
             [
              0.8888888888888888,
              "#fdca26"
             ],
             [
              1,
              "#f0f921"
             ]
            ],
            "type": "histogram2d"
           }
          ],
          "histogram2dcontour": [
           {
            "colorbar": {
             "outlinewidth": 0,
             "ticks": ""
            },
            "colorscale": [
             [
              0,
              "#0d0887"
             ],
             [
              0.1111111111111111,
              "#46039f"
             ],
             [
              0.2222222222222222,
              "#7201a8"
             ],
             [
              0.3333333333333333,
              "#9c179e"
             ],
             [
              0.4444444444444444,
              "#bd3786"
             ],
             [
              0.5555555555555556,
              "#d8576b"
             ],
             [
              0.6666666666666666,
              "#ed7953"
             ],
             [
              0.7777777777777778,
              "#fb9f3a"
             ],
             [
              0.8888888888888888,
              "#fdca26"
             ],
             [
              1,
              "#f0f921"
             ]
            ],
            "type": "histogram2dcontour"
           }
          ],
          "mesh3d": [
           {
            "colorbar": {
             "outlinewidth": 0,
             "ticks": ""
            },
            "type": "mesh3d"
           }
          ],
          "parcoords": [
           {
            "line": {
             "colorbar": {
              "outlinewidth": 0,
              "ticks": ""
             }
            },
            "type": "parcoords"
           }
          ],
          "pie": [
           {
            "automargin": true,
            "type": "pie"
           }
          ],
          "scatter": [
           {
            "fillpattern": {
             "fillmode": "overlay",
             "size": 10,
             "solidity": 0.2
            },
            "type": "scatter"
           }
          ],
          "scatter3d": [
           {
            "line": {
             "colorbar": {
              "outlinewidth": 0,
              "ticks": ""
             }
            },
            "marker": {
             "colorbar": {
              "outlinewidth": 0,
              "ticks": ""
             }
            },
            "type": "scatter3d"
           }
          ],
          "scattercarpet": [
           {
            "marker": {
             "colorbar": {
              "outlinewidth": 0,
              "ticks": ""
             }
            },
            "type": "scattercarpet"
           }
          ],
          "scattergeo": [
           {
            "marker": {
             "colorbar": {
              "outlinewidth": 0,
              "ticks": ""
             }
            },
            "type": "scattergeo"
           }
          ],
          "scattergl": [
           {
            "marker": {
             "colorbar": {
              "outlinewidth": 0,
              "ticks": ""
             }
            },
            "type": "scattergl"
           }
          ],
          "scattermap": [
           {
            "marker": {
             "colorbar": {
              "outlinewidth": 0,
              "ticks": ""
             }
            },
            "type": "scattermap"
           }
          ],
          "scattermapbox": [
           {
            "marker": {
             "colorbar": {
              "outlinewidth": 0,
              "ticks": ""
             }
            },
            "type": "scattermapbox"
           }
          ],
          "scatterpolar": [
           {
            "marker": {
             "colorbar": {
              "outlinewidth": 0,
              "ticks": ""
             }
            },
            "type": "scatterpolar"
           }
          ],
          "scatterpolargl": [
           {
            "marker": {
             "colorbar": {
              "outlinewidth": 0,
              "ticks": ""
             }
            },
            "type": "scatterpolargl"
           }
          ],
          "scatterternary": [
           {
            "marker": {
             "colorbar": {
              "outlinewidth": 0,
              "ticks": ""
             }
            },
            "type": "scatterternary"
           }
          ],
          "surface": [
           {
            "colorbar": {
             "outlinewidth": 0,
             "ticks": ""
            },
            "colorscale": [
             [
              0,
              "#0d0887"
             ],
             [
              0.1111111111111111,
              "#46039f"
             ],
             [
              0.2222222222222222,
              "#7201a8"
             ],
             [
              0.3333333333333333,
              "#9c179e"
             ],
             [
              0.4444444444444444,
              "#bd3786"
             ],
             [
              0.5555555555555556,
              "#d8576b"
             ],
             [
              0.6666666666666666,
              "#ed7953"
             ],
             [
              0.7777777777777778,
              "#fb9f3a"
             ],
             [
              0.8888888888888888,
              "#fdca26"
             ],
             [
              1,
              "#f0f921"
             ]
            ],
            "type": "surface"
           }
          ],
          "table": [
           {
            "cells": {
             "fill": {
              "color": "#EBF0F8"
             },
             "line": {
              "color": "white"
             }
            },
            "header": {
             "fill": {
              "color": "#C8D4E3"
             },
             "line": {
              "color": "white"
             }
            },
            "type": "table"
           }
          ]
         },
         "layout": {
          "annotationdefaults": {
           "arrowcolor": "#2a3f5f",
           "arrowhead": 0,
           "arrowwidth": 1
          },
          "autotypenumbers": "strict",
          "coloraxis": {
           "colorbar": {
            "outlinewidth": 0,
            "ticks": ""
           }
          },
          "colorscale": {
           "diverging": [
            [
             0,
             "#8e0152"
            ],
            [
             0.1,
             "#c51b7d"
            ],
            [
             0.2,
             "#de77ae"
            ],
            [
             0.3,
             "#f1b6da"
            ],
            [
             0.4,
             "#fde0ef"
            ],
            [
             0.5,
             "#f7f7f7"
            ],
            [
             0.6,
             "#e6f5d0"
            ],
            [
             0.7,
             "#b8e186"
            ],
            [
             0.8,
             "#7fbc41"
            ],
            [
             0.9,
             "#4d9221"
            ],
            [
             1,
             "#276419"
            ]
           ],
           "sequential": [
            [
             0,
             "#0d0887"
            ],
            [
             0.1111111111111111,
             "#46039f"
            ],
            [
             0.2222222222222222,
             "#7201a8"
            ],
            [
             0.3333333333333333,
             "#9c179e"
            ],
            [
             0.4444444444444444,
             "#bd3786"
            ],
            [
             0.5555555555555556,
             "#d8576b"
            ],
            [
             0.6666666666666666,
             "#ed7953"
            ],
            [
             0.7777777777777778,
             "#fb9f3a"
            ],
            [
             0.8888888888888888,
             "#fdca26"
            ],
            [
             1,
             "#f0f921"
            ]
           ],
           "sequentialminus": [
            [
             0,
             "#0d0887"
            ],
            [
             0.1111111111111111,
             "#46039f"
            ],
            [
             0.2222222222222222,
             "#7201a8"
            ],
            [
             0.3333333333333333,
             "#9c179e"
            ],
            [
             0.4444444444444444,
             "#bd3786"
            ],
            [
             0.5555555555555556,
             "#d8576b"
            ],
            [
             0.6666666666666666,
             "#ed7953"
            ],
            [
             0.7777777777777778,
             "#fb9f3a"
            ],
            [
             0.8888888888888888,
             "#fdca26"
            ],
            [
             1,
             "#f0f921"
            ]
           ]
          },
          "colorway": [
           "#636efa",
           "#EF553B",
           "#00cc96",
           "#ab63fa",
           "#FFA15A",
           "#19d3f3",
           "#FF6692",
           "#B6E880",
           "#FF97FF",
           "#FECB52"
          ],
          "font": {
           "color": "#2a3f5f"
          },
          "geo": {
           "bgcolor": "white",
           "lakecolor": "white",
           "landcolor": "#E5ECF6",
           "showlakes": true,
           "showland": true,
           "subunitcolor": "white"
          },
          "hoverlabel": {
           "align": "left"
          },
          "hovermode": "closest",
          "mapbox": {
           "style": "light"
          },
          "paper_bgcolor": "white",
          "plot_bgcolor": "#E5ECF6",
          "polar": {
           "angularaxis": {
            "gridcolor": "white",
            "linecolor": "white",
            "ticks": ""
           },
           "bgcolor": "#E5ECF6",
           "radialaxis": {
            "gridcolor": "white",
            "linecolor": "white",
            "ticks": ""
           }
          },
          "scene": {
           "xaxis": {
            "backgroundcolor": "#E5ECF6",
            "gridcolor": "white",
            "gridwidth": 2,
            "linecolor": "white",
            "showbackground": true,
            "ticks": "",
            "zerolinecolor": "white"
           },
           "yaxis": {
            "backgroundcolor": "#E5ECF6",
            "gridcolor": "white",
            "gridwidth": 2,
            "linecolor": "white",
            "showbackground": true,
            "ticks": "",
            "zerolinecolor": "white"
           },
           "zaxis": {
            "backgroundcolor": "#E5ECF6",
            "gridcolor": "white",
            "gridwidth": 2,
            "linecolor": "white",
            "showbackground": true,
            "ticks": "",
            "zerolinecolor": "white"
           }
          },
          "shapedefaults": {
           "line": {
            "color": "#2a3f5f"
           }
          },
          "ternary": {
           "aaxis": {
            "gridcolor": "white",
            "linecolor": "white",
            "ticks": ""
           },
           "baxis": {
            "gridcolor": "white",
            "linecolor": "white",
            "ticks": ""
           },
           "bgcolor": "#E5ECF6",
           "caxis": {
            "gridcolor": "white",
            "linecolor": "white",
            "ticks": ""
           }
          },
          "title": {
           "x": 0.05
          },
          "xaxis": {
           "automargin": true,
           "gridcolor": "white",
           "linecolor": "white",
           "ticks": "",
           "title": {
            "standoff": 15
           },
           "zerolinecolor": "white",
           "zerolinewidth": 2
          },
          "yaxis": {
           "automargin": true,
           "gridcolor": "white",
           "linecolor": "white",
           "ticks": "",
           "title": {
            "standoff": 15
           },
           "zerolinecolor": "white",
           "zerolinewidth": 2
          }
         }
        },
        "title": {
         "text": "스타일이 적용된 산점도"
        },
        "xaxis": {
         "title": {
          "text": "X축"
         }
        },
        "yaxis": {
         "title": {
          "text": "Y축"
         }
        }
       }
      }
     },
     "metadata": {},
     "output_type": "display_data"
    }
   ],
   "source": [
    "import plotly.graph_objects as go\n",
    "import numpy as np\n",
    "\n",
    "# 데이터 설정\n",
    "x = np.linspace(0, 10, 50)\n",
    "y = np.sin(x)\n",
    "sizes = np.linspace(10, 30, 50)\n",
    "\n",
    "# 스타일 산점도 생성\n",
    "fig = go.Figure(data=go.Scatter(\n",
    "    x=x, \n",
    "    y=y, \n",
    "    mode='markers',\n",
    "    marker=dict(size=sizes, color=y, colorscale='Viridis', opacity=0.8),\n",
    "    name='스타일 산점도'\n",
    "))\n",
    "fig.update_layout(title=\"스타일이 적용된 산점도\", xaxis_title=\"X축\", yaxis_title=\"Y축\")\n",
    "fig.show()\n"
   ]
  },
  {
   "cell_type": "markdown",
   "metadata": {},
   "source": [
    "## 2-4: 스택형 막대 차트\n",
    "- 여러 데이터셋을 스택(누적) 형태로 표현하는 스택형 막대 차트를 만들어보세요."
   ]
  },
  {
   "cell_type": "code",
   "execution_count": 5,
   "metadata": {},
   "outputs": [
    {
     "data": {
      "application/vnd.plotly.v1+json": {
       "config": {
        "plotlyServerURL": "https://plot.ly"
       },
       "data": [
        {
         "name": "제품 A",
         "type": "bar",
         "x": [
          "Q1",
          "Q2",
          "Q3",
          "Q4"
         ],
         "y": [
          10,
          15,
          20,
          25
         ]
        },
        {
         "name": "제품 B",
         "type": "bar",
         "x": [
          "Q1",
          "Q2",
          "Q3",
          "Q4"
         ],
         "y": [
          5,
          10,
          15,
          20
         ]
        }
       ],
       "layout": {
        "barmode": "stack",
        "template": {
         "data": {
          "bar": [
           {
            "error_x": {
             "color": "#2a3f5f"
            },
            "error_y": {
             "color": "#2a3f5f"
            },
            "marker": {
             "line": {
              "color": "#E5ECF6",
              "width": 0.5
             },
             "pattern": {
              "fillmode": "overlay",
              "size": 10,
              "solidity": 0.2
             }
            },
            "type": "bar"
           }
          ],
          "barpolar": [
           {
            "marker": {
             "line": {
              "color": "#E5ECF6",
              "width": 0.5
             },
             "pattern": {
              "fillmode": "overlay",
              "size": 10,
              "solidity": 0.2
             }
            },
            "type": "barpolar"
           }
          ],
          "carpet": [
           {
            "aaxis": {
             "endlinecolor": "#2a3f5f",
             "gridcolor": "white",
             "linecolor": "white",
             "minorgridcolor": "white",
             "startlinecolor": "#2a3f5f"
            },
            "baxis": {
             "endlinecolor": "#2a3f5f",
             "gridcolor": "white",
             "linecolor": "white",
             "minorgridcolor": "white",
             "startlinecolor": "#2a3f5f"
            },
            "type": "carpet"
           }
          ],
          "choropleth": [
           {
            "colorbar": {
             "outlinewidth": 0,
             "ticks": ""
            },
            "type": "choropleth"
           }
          ],
          "contour": [
           {
            "colorbar": {
             "outlinewidth": 0,
             "ticks": ""
            },
            "colorscale": [
             [
              0,
              "#0d0887"
             ],
             [
              0.1111111111111111,
              "#46039f"
             ],
             [
              0.2222222222222222,
              "#7201a8"
             ],
             [
              0.3333333333333333,
              "#9c179e"
             ],
             [
              0.4444444444444444,
              "#bd3786"
             ],
             [
              0.5555555555555556,
              "#d8576b"
             ],
             [
              0.6666666666666666,
              "#ed7953"
             ],
             [
              0.7777777777777778,
              "#fb9f3a"
             ],
             [
              0.8888888888888888,
              "#fdca26"
             ],
             [
              1,
              "#f0f921"
             ]
            ],
            "type": "contour"
           }
          ],
          "contourcarpet": [
           {
            "colorbar": {
             "outlinewidth": 0,
             "ticks": ""
            },
            "type": "contourcarpet"
           }
          ],
          "heatmap": [
           {
            "colorbar": {
             "outlinewidth": 0,
             "ticks": ""
            },
            "colorscale": [
             [
              0,
              "#0d0887"
             ],
             [
              0.1111111111111111,
              "#46039f"
             ],
             [
              0.2222222222222222,
              "#7201a8"
             ],
             [
              0.3333333333333333,
              "#9c179e"
             ],
             [
              0.4444444444444444,
              "#bd3786"
             ],
             [
              0.5555555555555556,
              "#d8576b"
             ],
             [
              0.6666666666666666,
              "#ed7953"
             ],
             [
              0.7777777777777778,
              "#fb9f3a"
             ],
             [
              0.8888888888888888,
              "#fdca26"
             ],
             [
              1,
              "#f0f921"
             ]
            ],
            "type": "heatmap"
           }
          ],
          "histogram": [
           {
            "marker": {
             "pattern": {
              "fillmode": "overlay",
              "size": 10,
              "solidity": 0.2
             }
            },
            "type": "histogram"
           }
          ],
          "histogram2d": [
           {
            "colorbar": {
             "outlinewidth": 0,
             "ticks": ""
            },
            "colorscale": [
             [
              0,
              "#0d0887"
             ],
             [
              0.1111111111111111,
              "#46039f"
             ],
             [
              0.2222222222222222,
              "#7201a8"
             ],
             [
              0.3333333333333333,
              "#9c179e"
             ],
             [
              0.4444444444444444,
              "#bd3786"
             ],
             [
              0.5555555555555556,
              "#d8576b"
             ],
             [
              0.6666666666666666,
              "#ed7953"
             ],
             [
              0.7777777777777778,
              "#fb9f3a"
             ],
             [
              0.8888888888888888,
              "#fdca26"
             ],
             [
              1,
              "#f0f921"
             ]
            ],
            "type": "histogram2d"
           }
          ],
          "histogram2dcontour": [
           {
            "colorbar": {
             "outlinewidth": 0,
             "ticks": ""
            },
            "colorscale": [
             [
              0,
              "#0d0887"
             ],
             [
              0.1111111111111111,
              "#46039f"
             ],
             [
              0.2222222222222222,
              "#7201a8"
             ],
             [
              0.3333333333333333,
              "#9c179e"
             ],
             [
              0.4444444444444444,
              "#bd3786"
             ],
             [
              0.5555555555555556,
              "#d8576b"
             ],
             [
              0.6666666666666666,
              "#ed7953"
             ],
             [
              0.7777777777777778,
              "#fb9f3a"
             ],
             [
              0.8888888888888888,
              "#fdca26"
             ],
             [
              1,
              "#f0f921"
             ]
            ],
            "type": "histogram2dcontour"
           }
          ],
          "mesh3d": [
           {
            "colorbar": {
             "outlinewidth": 0,
             "ticks": ""
            },
            "type": "mesh3d"
           }
          ],
          "parcoords": [
           {
            "line": {
             "colorbar": {
              "outlinewidth": 0,
              "ticks": ""
             }
            },
            "type": "parcoords"
           }
          ],
          "pie": [
           {
            "automargin": true,
            "type": "pie"
           }
          ],
          "scatter": [
           {
            "fillpattern": {
             "fillmode": "overlay",
             "size": 10,
             "solidity": 0.2
            },
            "type": "scatter"
           }
          ],
          "scatter3d": [
           {
            "line": {
             "colorbar": {
              "outlinewidth": 0,
              "ticks": ""
             }
            },
            "marker": {
             "colorbar": {
              "outlinewidth": 0,
              "ticks": ""
             }
            },
            "type": "scatter3d"
           }
          ],
          "scattercarpet": [
           {
            "marker": {
             "colorbar": {
              "outlinewidth": 0,
              "ticks": ""
             }
            },
            "type": "scattercarpet"
           }
          ],
          "scattergeo": [
           {
            "marker": {
             "colorbar": {
              "outlinewidth": 0,
              "ticks": ""
             }
            },
            "type": "scattergeo"
           }
          ],
          "scattergl": [
           {
            "marker": {
             "colorbar": {
              "outlinewidth": 0,
              "ticks": ""
             }
            },
            "type": "scattergl"
           }
          ],
          "scattermap": [
           {
            "marker": {
             "colorbar": {
              "outlinewidth": 0,
              "ticks": ""
             }
            },
            "type": "scattermap"
           }
          ],
          "scattermapbox": [
           {
            "marker": {
             "colorbar": {
              "outlinewidth": 0,
              "ticks": ""
             }
            },
            "type": "scattermapbox"
           }
          ],
          "scatterpolar": [
           {
            "marker": {
             "colorbar": {
              "outlinewidth": 0,
              "ticks": ""
             }
            },
            "type": "scatterpolar"
           }
          ],
          "scatterpolargl": [
           {
            "marker": {
             "colorbar": {
              "outlinewidth": 0,
              "ticks": ""
             }
            },
            "type": "scatterpolargl"
           }
          ],
          "scatterternary": [
           {
            "marker": {
             "colorbar": {
              "outlinewidth": 0,
              "ticks": ""
             }
            },
            "type": "scatterternary"
           }
          ],
          "surface": [
           {
            "colorbar": {
             "outlinewidth": 0,
             "ticks": ""
            },
            "colorscale": [
             [
              0,
              "#0d0887"
             ],
             [
              0.1111111111111111,
              "#46039f"
             ],
             [
              0.2222222222222222,
              "#7201a8"
             ],
             [
              0.3333333333333333,
              "#9c179e"
             ],
             [
              0.4444444444444444,
              "#bd3786"
             ],
             [
              0.5555555555555556,
              "#d8576b"
             ],
             [
              0.6666666666666666,
              "#ed7953"
             ],
             [
              0.7777777777777778,
              "#fb9f3a"
             ],
             [
              0.8888888888888888,
              "#fdca26"
             ],
             [
              1,
              "#f0f921"
             ]
            ],
            "type": "surface"
           }
          ],
          "table": [
           {
            "cells": {
             "fill": {
              "color": "#EBF0F8"
             },
             "line": {
              "color": "white"
             }
            },
            "header": {
             "fill": {
              "color": "#C8D4E3"
             },
             "line": {
              "color": "white"
             }
            },
            "type": "table"
           }
          ]
         },
         "layout": {
          "annotationdefaults": {
           "arrowcolor": "#2a3f5f",
           "arrowhead": 0,
           "arrowwidth": 1
          },
          "autotypenumbers": "strict",
          "coloraxis": {
           "colorbar": {
            "outlinewidth": 0,
            "ticks": ""
           }
          },
          "colorscale": {
           "diverging": [
            [
             0,
             "#8e0152"
            ],
            [
             0.1,
             "#c51b7d"
            ],
            [
             0.2,
             "#de77ae"
            ],
            [
             0.3,
             "#f1b6da"
            ],
            [
             0.4,
             "#fde0ef"
            ],
            [
             0.5,
             "#f7f7f7"
            ],
            [
             0.6,
             "#e6f5d0"
            ],
            [
             0.7,
             "#b8e186"
            ],
            [
             0.8,
             "#7fbc41"
            ],
            [
             0.9,
             "#4d9221"
            ],
            [
             1,
             "#276419"
            ]
           ],
           "sequential": [
            [
             0,
             "#0d0887"
            ],
            [
             0.1111111111111111,
             "#46039f"
            ],
            [
             0.2222222222222222,
             "#7201a8"
            ],
            [
             0.3333333333333333,
             "#9c179e"
            ],
            [
             0.4444444444444444,
             "#bd3786"
            ],
            [
             0.5555555555555556,
             "#d8576b"
            ],
            [
             0.6666666666666666,
             "#ed7953"
            ],
            [
             0.7777777777777778,
             "#fb9f3a"
            ],
            [
             0.8888888888888888,
             "#fdca26"
            ],
            [
             1,
             "#f0f921"
            ]
           ],
           "sequentialminus": [
            [
             0,
             "#0d0887"
            ],
            [
             0.1111111111111111,
             "#46039f"
            ],
            [
             0.2222222222222222,
             "#7201a8"
            ],
            [
             0.3333333333333333,
             "#9c179e"
            ],
            [
             0.4444444444444444,
             "#bd3786"
            ],
            [
             0.5555555555555556,
             "#d8576b"
            ],
            [
             0.6666666666666666,
             "#ed7953"
            ],
            [
             0.7777777777777778,
             "#fb9f3a"
            ],
            [
             0.8888888888888888,
             "#fdca26"
            ],
            [
             1,
             "#f0f921"
            ]
           ]
          },
          "colorway": [
           "#636efa",
           "#EF553B",
           "#00cc96",
           "#ab63fa",
           "#FFA15A",
           "#19d3f3",
           "#FF6692",
           "#B6E880",
           "#FF97FF",
           "#FECB52"
          ],
          "font": {
           "color": "#2a3f5f"
          },
          "geo": {
           "bgcolor": "white",
           "lakecolor": "white",
           "landcolor": "#E5ECF6",
           "showlakes": true,
           "showland": true,
           "subunitcolor": "white"
          },
          "hoverlabel": {
           "align": "left"
          },
          "hovermode": "closest",
          "mapbox": {
           "style": "light"
          },
          "paper_bgcolor": "white",
          "plot_bgcolor": "#E5ECF6",
          "polar": {
           "angularaxis": {
            "gridcolor": "white",
            "linecolor": "white",
            "ticks": ""
           },
           "bgcolor": "#E5ECF6",
           "radialaxis": {
            "gridcolor": "white",
            "linecolor": "white",
            "ticks": ""
           }
          },
          "scene": {
           "xaxis": {
            "backgroundcolor": "#E5ECF6",
            "gridcolor": "white",
            "gridwidth": 2,
            "linecolor": "white",
            "showbackground": true,
            "ticks": "",
            "zerolinecolor": "white"
           },
           "yaxis": {
            "backgroundcolor": "#E5ECF6",
            "gridcolor": "white",
            "gridwidth": 2,
            "linecolor": "white",
            "showbackground": true,
            "ticks": "",
            "zerolinecolor": "white"
           },
           "zaxis": {
            "backgroundcolor": "#E5ECF6",
            "gridcolor": "white",
            "gridwidth": 2,
            "linecolor": "white",
            "showbackground": true,
            "ticks": "",
            "zerolinecolor": "white"
           }
          },
          "shapedefaults": {
           "line": {
            "color": "#2a3f5f"
           }
          },
          "ternary": {
           "aaxis": {
            "gridcolor": "white",
            "linecolor": "white",
            "ticks": ""
           },
           "baxis": {
            "gridcolor": "white",
            "linecolor": "white",
            "ticks": ""
           },
           "bgcolor": "#E5ECF6",
           "caxis": {
            "gridcolor": "white",
            "linecolor": "white",
            "ticks": ""
           }
          },
          "title": {
           "x": 0.05
          },
          "xaxis": {
           "automargin": true,
           "gridcolor": "white",
           "linecolor": "white",
           "ticks": "",
           "title": {
            "standoff": 15
           },
           "zerolinecolor": "white",
           "zerolinewidth": 2
          },
          "yaxis": {
           "automargin": true,
           "gridcolor": "white",
           "linecolor": "white",
           "ticks": "",
           "title": {
            "standoff": 15
           },
           "zerolinecolor": "white",
           "zerolinewidth": 2
          }
         }
        },
        "title": {
         "text": "스택형 막대 차트"
        },
        "xaxis": {
         "title": {
          "text": "분기"
         }
        },
        "yaxis": {
         "title": {
          "text": "매출"
         }
        }
       }
      }
     },
     "metadata": {},
     "output_type": "display_data"
    }
   ],
   "source": [
    "import plotly.graph_objects as go\n",
    "\n",
    "# 데이터 설정\n",
    "categories = ['Q1', 'Q2', 'Q3', 'Q4']\n",
    "data1 = [10, 15, 20, 25]\n",
    "data2 = [5, 10, 15, 20]\n",
    "\n",
    "# 스택형 막대 차트 생성\n",
    "fig = go.Figure(data=[\n",
    "    go.Bar(name='제품 A', x=categories, y=data1),\n",
    "    go.Bar(name='제품 B', x=categories, y=data2)\n",
    "])\n",
    "fig.update_layout(title=\"스택형 막대 차트\", barmode='stack', xaxis_title=\"분기\", yaxis_title=\"매출\")\n",
    "fig.show()\n"
   ]
  },
  {
   "cell_type": "markdown",
   "metadata": {},
   "source": [
    "## 2-5: 버블 차트\n",
    "- 데이터 포인트의 크기를 추가 변수로 표현하는 버블 차트를 만들어보세요."
   ]
  },
  {
   "cell_type": "code",
   "execution_count": 6,
   "metadata": {},
   "outputs": [
    {
     "data": {
      "application/vnd.plotly.v1+json": {
       "config": {
        "plotlyServerURL": "https://plot.ly"
       },
       "data": [
        {
         "marker": {
          "color": {
           "bdata": "GBEXIDEeGRshIyImGAoiEBIhChEhFBoRLCwqDjAl",
           "dtype": "i1"
          },
          "colorscale": [
           [
            0,
            "rgb(12,51,131)"
           ],
           [
            0.25,
            "rgb(10,136,186)"
           ],
           [
            0.5,
            "rgb(242,211,56)"
           ],
           [
            0.75,
            "rgb(242,143,56)"
           ],
           [
            1,
            "rgb(217,30,30)"
           ]
          ],
          "opacity": 0.7,
          "size": {
           "bdata": "GBEXIDEeGRshIyImGAoiEBIhChEhFBoRLCwqDjAl",
           "dtype": "i1"
          }
         },
         "mode": "markers",
         "name": "버블 데이터",
         "text": [
          "크기: 24",
          "크기: 17",
          "크기: 23",
          "크기: 32",
          "크기: 49",
          "크기: 30",
          "크기: 25",
          "크기: 27",
          "크기: 33",
          "크기: 35",
          "크기: 34",
          "크기: 38",
          "크기: 24",
          "크기: 10",
          "크기: 34",
          "크기: 16",
          "크기: 18",
          "크기: 33",
          "크기: 10",
          "크기: 17",
          "크기: 33",
          "크기: 20",
          "크기: 26",
          "크기: 17",
          "크기: 44",
          "크기: 44",
          "크기: 42",
          "크기: 14",
          "크기: 48",
          "크기: 37"
         ],
         "type": "scatter",
         "x": {
          "bdata": "Bw8LCAcTCwsECAMCDAYCAQwMEQoQDw8TDAMFEwcJ",
          "dtype": "i1"
         },
         "y": {
          "bdata": "BxIEDhIJAg8HDAgPAw4RBBIIBAIGCgQSDAIKBA4Q",
          "dtype": "i1"
         }
        }
       ],
       "layout": {
        "template": {
         "data": {
          "bar": [
           {
            "error_x": {
             "color": "#2a3f5f"
            },
            "error_y": {
             "color": "#2a3f5f"
            },
            "marker": {
             "line": {
              "color": "#E5ECF6",
              "width": 0.5
             },
             "pattern": {
              "fillmode": "overlay",
              "size": 10,
              "solidity": 0.2
             }
            },
            "type": "bar"
           }
          ],
          "barpolar": [
           {
            "marker": {
             "line": {
              "color": "#E5ECF6",
              "width": 0.5
             },
             "pattern": {
              "fillmode": "overlay",
              "size": 10,
              "solidity": 0.2
             }
            },
            "type": "barpolar"
           }
          ],
          "carpet": [
           {
            "aaxis": {
             "endlinecolor": "#2a3f5f",
             "gridcolor": "white",
             "linecolor": "white",
             "minorgridcolor": "white",
             "startlinecolor": "#2a3f5f"
            },
            "baxis": {
             "endlinecolor": "#2a3f5f",
             "gridcolor": "white",
             "linecolor": "white",
             "minorgridcolor": "white",
             "startlinecolor": "#2a3f5f"
            },
            "type": "carpet"
           }
          ],
          "choropleth": [
           {
            "colorbar": {
             "outlinewidth": 0,
             "ticks": ""
            },
            "type": "choropleth"
           }
          ],
          "contour": [
           {
            "colorbar": {
             "outlinewidth": 0,
             "ticks": ""
            },
            "colorscale": [
             [
              0,
              "#0d0887"
             ],
             [
              0.1111111111111111,
              "#46039f"
             ],
             [
              0.2222222222222222,
              "#7201a8"
             ],
             [
              0.3333333333333333,
              "#9c179e"
             ],
             [
              0.4444444444444444,
              "#bd3786"
             ],
             [
              0.5555555555555556,
              "#d8576b"
             ],
             [
              0.6666666666666666,
              "#ed7953"
             ],
             [
              0.7777777777777778,
              "#fb9f3a"
             ],
             [
              0.8888888888888888,
              "#fdca26"
             ],
             [
              1,
              "#f0f921"
             ]
            ],
            "type": "contour"
           }
          ],
          "contourcarpet": [
           {
            "colorbar": {
             "outlinewidth": 0,
             "ticks": ""
            },
            "type": "contourcarpet"
           }
          ],
          "heatmap": [
           {
            "colorbar": {
             "outlinewidth": 0,
             "ticks": ""
            },
            "colorscale": [
             [
              0,
              "#0d0887"
             ],
             [
              0.1111111111111111,
              "#46039f"
             ],
             [
              0.2222222222222222,
              "#7201a8"
             ],
             [
              0.3333333333333333,
              "#9c179e"
             ],
             [
              0.4444444444444444,
              "#bd3786"
             ],
             [
              0.5555555555555556,
              "#d8576b"
             ],
             [
              0.6666666666666666,
              "#ed7953"
             ],
             [
              0.7777777777777778,
              "#fb9f3a"
             ],
             [
              0.8888888888888888,
              "#fdca26"
             ],
             [
              1,
              "#f0f921"
             ]
            ],
            "type": "heatmap"
           }
          ],
          "histogram": [
           {
            "marker": {
             "pattern": {
              "fillmode": "overlay",
              "size": 10,
              "solidity": 0.2
             }
            },
            "type": "histogram"
           }
          ],
          "histogram2d": [
           {
            "colorbar": {
             "outlinewidth": 0,
             "ticks": ""
            },
            "colorscale": [
             [
              0,
              "#0d0887"
             ],
             [
              0.1111111111111111,
              "#46039f"
             ],
             [
              0.2222222222222222,
              "#7201a8"
             ],
             [
              0.3333333333333333,
              "#9c179e"
             ],
             [
              0.4444444444444444,
              "#bd3786"
             ],
             [
              0.5555555555555556,
              "#d8576b"
             ],
             [
              0.6666666666666666,
              "#ed7953"
             ],
             [
              0.7777777777777778,
              "#fb9f3a"
             ],
             [
              0.8888888888888888,
              "#fdca26"
             ],
             [
              1,
              "#f0f921"
             ]
            ],
            "type": "histogram2d"
           }
          ],
          "histogram2dcontour": [
           {
            "colorbar": {
             "outlinewidth": 0,
             "ticks": ""
            },
            "colorscale": [
             [
              0,
              "#0d0887"
             ],
             [
              0.1111111111111111,
              "#46039f"
             ],
             [
              0.2222222222222222,
              "#7201a8"
             ],
             [
              0.3333333333333333,
              "#9c179e"
             ],
             [
              0.4444444444444444,
              "#bd3786"
             ],
             [
              0.5555555555555556,
              "#d8576b"
             ],
             [
              0.6666666666666666,
              "#ed7953"
             ],
             [
              0.7777777777777778,
              "#fb9f3a"
             ],
             [
              0.8888888888888888,
              "#fdca26"
             ],
             [
              1,
              "#f0f921"
             ]
            ],
            "type": "histogram2dcontour"
           }
          ],
          "mesh3d": [
           {
            "colorbar": {
             "outlinewidth": 0,
             "ticks": ""
            },
            "type": "mesh3d"
           }
          ],
          "parcoords": [
           {
            "line": {
             "colorbar": {
              "outlinewidth": 0,
              "ticks": ""
             }
            },
            "type": "parcoords"
           }
          ],
          "pie": [
           {
            "automargin": true,
            "type": "pie"
           }
          ],
          "scatter": [
           {
            "fillpattern": {
             "fillmode": "overlay",
             "size": 10,
             "solidity": 0.2
            },
            "type": "scatter"
           }
          ],
          "scatter3d": [
           {
            "line": {
             "colorbar": {
              "outlinewidth": 0,
              "ticks": ""
             }
            },
            "marker": {
             "colorbar": {
              "outlinewidth": 0,
              "ticks": ""
             }
            },
            "type": "scatter3d"
           }
          ],
          "scattercarpet": [
           {
            "marker": {
             "colorbar": {
              "outlinewidth": 0,
              "ticks": ""
             }
            },
            "type": "scattercarpet"
           }
          ],
          "scattergeo": [
           {
            "marker": {
             "colorbar": {
              "outlinewidth": 0,
              "ticks": ""
             }
            },
            "type": "scattergeo"
           }
          ],
          "scattergl": [
           {
            "marker": {
             "colorbar": {
              "outlinewidth": 0,
              "ticks": ""
             }
            },
            "type": "scattergl"
           }
          ],
          "scattermap": [
           {
            "marker": {
             "colorbar": {
              "outlinewidth": 0,
              "ticks": ""
             }
            },
            "type": "scattermap"
           }
          ],
          "scattermapbox": [
           {
            "marker": {
             "colorbar": {
              "outlinewidth": 0,
              "ticks": ""
             }
            },
            "type": "scattermapbox"
           }
          ],
          "scatterpolar": [
           {
            "marker": {
             "colorbar": {
              "outlinewidth": 0,
              "ticks": ""
             }
            },
            "type": "scatterpolar"
           }
          ],
          "scatterpolargl": [
           {
            "marker": {
             "colorbar": {
              "outlinewidth": 0,
              "ticks": ""
             }
            },
            "type": "scatterpolargl"
           }
          ],
          "scatterternary": [
           {
            "marker": {
             "colorbar": {
              "outlinewidth": 0,
              "ticks": ""
             }
            },
            "type": "scatterternary"
           }
          ],
          "surface": [
           {
            "colorbar": {
             "outlinewidth": 0,
             "ticks": ""
            },
            "colorscale": [
             [
              0,
              "#0d0887"
             ],
             [
              0.1111111111111111,
              "#46039f"
             ],
             [
              0.2222222222222222,
              "#7201a8"
             ],
             [
              0.3333333333333333,
              "#9c179e"
             ],
             [
              0.4444444444444444,
              "#bd3786"
             ],
             [
              0.5555555555555556,
              "#d8576b"
             ],
             [
              0.6666666666666666,
              "#ed7953"
             ],
             [
              0.7777777777777778,
              "#fb9f3a"
             ],
             [
              0.8888888888888888,
              "#fdca26"
             ],
             [
              1,
              "#f0f921"
             ]
            ],
            "type": "surface"
           }
          ],
          "table": [
           {
            "cells": {
             "fill": {
              "color": "#EBF0F8"
             },
             "line": {
              "color": "white"
             }
            },
            "header": {
             "fill": {
              "color": "#C8D4E3"
             },
             "line": {
              "color": "white"
             }
            },
            "type": "table"
           }
          ]
         },
         "layout": {
          "annotationdefaults": {
           "arrowcolor": "#2a3f5f",
           "arrowhead": 0,
           "arrowwidth": 1
          },
          "autotypenumbers": "strict",
          "coloraxis": {
           "colorbar": {
            "outlinewidth": 0,
            "ticks": ""
           }
          },
          "colorscale": {
           "diverging": [
            [
             0,
             "#8e0152"
            ],
            [
             0.1,
             "#c51b7d"
            ],
            [
             0.2,
             "#de77ae"
            ],
            [
             0.3,
             "#f1b6da"
            ],
            [
             0.4,
             "#fde0ef"
            ],
            [
             0.5,
             "#f7f7f7"
            ],
            [
             0.6,
             "#e6f5d0"
            ],
            [
             0.7,
             "#b8e186"
            ],
            [
             0.8,
             "#7fbc41"
            ],
            [
             0.9,
             "#4d9221"
            ],
            [
             1,
             "#276419"
            ]
           ],
           "sequential": [
            [
             0,
             "#0d0887"
            ],
            [
             0.1111111111111111,
             "#46039f"
            ],
            [
             0.2222222222222222,
             "#7201a8"
            ],
            [
             0.3333333333333333,
             "#9c179e"
            ],
            [
             0.4444444444444444,
             "#bd3786"
            ],
            [
             0.5555555555555556,
             "#d8576b"
            ],
            [
             0.6666666666666666,
             "#ed7953"
            ],
            [
             0.7777777777777778,
             "#fb9f3a"
            ],
            [
             0.8888888888888888,
             "#fdca26"
            ],
            [
             1,
             "#f0f921"
            ]
           ],
           "sequentialminus": [
            [
             0,
             "#0d0887"
            ],
            [
             0.1111111111111111,
             "#46039f"
            ],
            [
             0.2222222222222222,
             "#7201a8"
            ],
            [
             0.3333333333333333,
             "#9c179e"
            ],
            [
             0.4444444444444444,
             "#bd3786"
            ],
            [
             0.5555555555555556,
             "#d8576b"
            ],
            [
             0.6666666666666666,
             "#ed7953"
            ],
            [
             0.7777777777777778,
             "#fb9f3a"
            ],
            [
             0.8888888888888888,
             "#fdca26"
            ],
            [
             1,
             "#f0f921"
            ]
           ]
          },
          "colorway": [
           "#636efa",
           "#EF553B",
           "#00cc96",
           "#ab63fa",
           "#FFA15A",
           "#19d3f3",
           "#FF6692",
           "#B6E880",
           "#FF97FF",
           "#FECB52"
          ],
          "font": {
           "color": "#2a3f5f"
          },
          "geo": {
           "bgcolor": "white",
           "lakecolor": "white",
           "landcolor": "#E5ECF6",
           "showlakes": true,
           "showland": true,
           "subunitcolor": "white"
          },
          "hoverlabel": {
           "align": "left"
          },
          "hovermode": "closest",
          "mapbox": {
           "style": "light"
          },
          "paper_bgcolor": "white",
          "plot_bgcolor": "#E5ECF6",
          "polar": {
           "angularaxis": {
            "gridcolor": "white",
            "linecolor": "white",
            "ticks": ""
           },
           "bgcolor": "#E5ECF6",
           "radialaxis": {
            "gridcolor": "white",
            "linecolor": "white",
            "ticks": ""
           }
          },
          "scene": {
           "xaxis": {
            "backgroundcolor": "#E5ECF6",
            "gridcolor": "white",
            "gridwidth": 2,
            "linecolor": "white",
            "showbackground": true,
            "ticks": "",
            "zerolinecolor": "white"
           },
           "yaxis": {
            "backgroundcolor": "#E5ECF6",
            "gridcolor": "white",
            "gridwidth": 2,
            "linecolor": "white",
            "showbackground": true,
            "ticks": "",
            "zerolinecolor": "white"
           },
           "zaxis": {
            "backgroundcolor": "#E5ECF6",
            "gridcolor": "white",
            "gridwidth": 2,
            "linecolor": "white",
            "showbackground": true,
            "ticks": "",
            "zerolinecolor": "white"
           }
          },
          "shapedefaults": {
           "line": {
            "color": "#2a3f5f"
           }
          },
          "ternary": {
           "aaxis": {
            "gridcolor": "white",
            "linecolor": "white",
            "ticks": ""
           },
           "baxis": {
            "gridcolor": "white",
            "linecolor": "white",
            "ticks": ""
           },
           "bgcolor": "#E5ECF6",
           "caxis": {
            "gridcolor": "white",
            "linecolor": "white",
            "ticks": ""
           }
          },
          "title": {
           "x": 0.05
          },
          "xaxis": {
           "automargin": true,
           "gridcolor": "white",
           "linecolor": "white",
           "ticks": "",
           "title": {
            "standoff": 15
           },
           "zerolinecolor": "white",
           "zerolinewidth": 2
          },
          "yaxis": {
           "automargin": true,
           "gridcolor": "white",
           "linecolor": "white",
           "ticks": "",
           "title": {
            "standoff": 15
           },
           "zerolinecolor": "white",
           "zerolinewidth": 2
          }
         }
        },
        "title": {
         "text": "버블 차트"
        },
        "xaxis": {
         "title": {
          "text": "X축"
         }
        },
        "yaxis": {
         "title": {
          "text": "Y축"
         }
        }
       }
      }
     },
     "metadata": {},
     "output_type": "display_data"
    }
   ],
   "source": [
    "import plotly.graph_objects as go\n",
    "import numpy as np\n",
    "\n",
    "# 데이터 설정\n",
    "np.random.seed(42)\n",
    "x = np.random.randint(1, 20, 30)\n",
    "y = np.random.randint(1, 20, 30)\n",
    "sizes = np.random.randint(10, 50, 30)\n",
    "\n",
    "# 버블 차트 생성\n",
    "fig = go.Figure(data=go.Scatter(\n",
    "    x=x, \n",
    "    y=y, \n",
    "    mode='markers',\n",
    "    marker=dict(size=sizes, color=sizes, colorscale='Portland', opacity=0.7),\n",
    "    text=[f\"크기: {s}\" for s in sizes],\n",
    "    name='버블 데이터'\n",
    "))\n",
    "fig.update_layout(title=\"버블 차트\", xaxis_title=\"X축\", yaxis_title=\"Y축\")\n",
    "fig.show()\n"
   ]
  },
  {
   "cell_type": "markdown",
   "metadata": {},
   "source": [
    "## 2-6: 복잡한 히트맵\n",
    "- 사용자 정의 축 레이블과 색상 범위를 적용한 복잡한 히트맵을 만들어보세요."
   ]
  },
  {
   "cell_type": "code",
   "execution_count": 7,
   "metadata": {},
   "outputs": [
    {
     "data": {
      "application/vnd.plotly.v1+json": {
       "config": {
        "plotlyServerURL": "https://plot.ly"
       },
       "data": [
        {
         "colorscale": [
          [
           0,
           "rgb(103,0,31)"
          ],
          [
           0.1,
           "rgb(178,24,43)"
          ],
          [
           0.2,
           "rgb(214,96,77)"
          ],
          [
           0.3,
           "rgb(244,165,130)"
          ],
          [
           0.4,
           "rgb(253,219,199)"
          ],
          [
           0.5,
           "rgb(247,247,247)"
          ],
          [
           0.6,
           "rgb(209,229,240)"
          ],
          [
           0.7,
           "rgb(146,197,222)"
          ],
          [
           0.8,
           "rgb(67,147,195)"
          ],
          [
           0.9,
           "rgb(33,102,172)"
          ],
          [
           1,
           "rgb(5,48,97)"
          ]
         ],
         "type": "heatmap",
         "x": [
          "월",
          "화",
          "수",
          "목"
         ],
         "y": [
          "A",
          "B",
          "C",
          "D"
         ],
         "z": {
          "bdata": "g3BmE4ue6z/MPMzpDvLjP2Bmw+huLdU/OL7dK1xFsD9wyVllIufTPxjPU7XNz9Q/Kn1dDu9Y5z+rUBnt3mbkP5i2PvoLZOw/9jsQ88Q43j/wQxh/up2+P6pJZbvm0uY/EA3j4llY6D8HpvGY+/XhP8Y2Bl3Dq+g/2M5S2Fia3z8=",
          "dtype": "f8",
          "shape": "4, 4"
         },
         "zmax": 1,
         "zmin": 0
        }
       ],
       "layout": {
        "template": {
         "data": {
          "bar": [
           {
            "error_x": {
             "color": "#2a3f5f"
            },
            "error_y": {
             "color": "#2a3f5f"
            },
            "marker": {
             "line": {
              "color": "#E5ECF6",
              "width": 0.5
             },
             "pattern": {
              "fillmode": "overlay",
              "size": 10,
              "solidity": 0.2
             }
            },
            "type": "bar"
           }
          ],
          "barpolar": [
           {
            "marker": {
             "line": {
              "color": "#E5ECF6",
              "width": 0.5
             },
             "pattern": {
              "fillmode": "overlay",
              "size": 10,
              "solidity": 0.2
             }
            },
            "type": "barpolar"
           }
          ],
          "carpet": [
           {
            "aaxis": {
             "endlinecolor": "#2a3f5f",
             "gridcolor": "white",
             "linecolor": "white",
             "minorgridcolor": "white",
             "startlinecolor": "#2a3f5f"
            },
            "baxis": {
             "endlinecolor": "#2a3f5f",
             "gridcolor": "white",
             "linecolor": "white",
             "minorgridcolor": "white",
             "startlinecolor": "#2a3f5f"
            },
            "type": "carpet"
           }
          ],
          "choropleth": [
           {
            "colorbar": {
             "outlinewidth": 0,
             "ticks": ""
            },
            "type": "choropleth"
           }
          ],
          "contour": [
           {
            "colorbar": {
             "outlinewidth": 0,
             "ticks": ""
            },
            "colorscale": [
             [
              0,
              "#0d0887"
             ],
             [
              0.1111111111111111,
              "#46039f"
             ],
             [
              0.2222222222222222,
              "#7201a8"
             ],
             [
              0.3333333333333333,
              "#9c179e"
             ],
             [
              0.4444444444444444,
              "#bd3786"
             ],
             [
              0.5555555555555556,
              "#d8576b"
             ],
             [
              0.6666666666666666,
              "#ed7953"
             ],
             [
              0.7777777777777778,
              "#fb9f3a"
             ],
             [
              0.8888888888888888,
              "#fdca26"
             ],
             [
              1,
              "#f0f921"
             ]
            ],
            "type": "contour"
           }
          ],
          "contourcarpet": [
           {
            "colorbar": {
             "outlinewidth": 0,
             "ticks": ""
            },
            "type": "contourcarpet"
           }
          ],
          "heatmap": [
           {
            "colorbar": {
             "outlinewidth": 0,
             "ticks": ""
            },
            "colorscale": [
             [
              0,
              "#0d0887"
             ],
             [
              0.1111111111111111,
              "#46039f"
             ],
             [
              0.2222222222222222,
              "#7201a8"
             ],
             [
              0.3333333333333333,
              "#9c179e"
             ],
             [
              0.4444444444444444,
              "#bd3786"
             ],
             [
              0.5555555555555556,
              "#d8576b"
             ],
             [
              0.6666666666666666,
              "#ed7953"
             ],
             [
              0.7777777777777778,
              "#fb9f3a"
             ],
             [
              0.8888888888888888,
              "#fdca26"
             ],
             [
              1,
              "#f0f921"
             ]
            ],
            "type": "heatmap"
           }
          ],
          "histogram": [
           {
            "marker": {
             "pattern": {
              "fillmode": "overlay",
              "size": 10,
              "solidity": 0.2
             }
            },
            "type": "histogram"
           }
          ],
          "histogram2d": [
           {
            "colorbar": {
             "outlinewidth": 0,
             "ticks": ""
            },
            "colorscale": [
             [
              0,
              "#0d0887"
             ],
             [
              0.1111111111111111,
              "#46039f"
             ],
             [
              0.2222222222222222,
              "#7201a8"
             ],
             [
              0.3333333333333333,
              "#9c179e"
             ],
             [
              0.4444444444444444,
              "#bd3786"
             ],
             [
              0.5555555555555556,
              "#d8576b"
             ],
             [
              0.6666666666666666,
              "#ed7953"
             ],
             [
              0.7777777777777778,
              "#fb9f3a"
             ],
             [
              0.8888888888888888,
              "#fdca26"
             ],
             [
              1,
              "#f0f921"
             ]
            ],
            "type": "histogram2d"
           }
          ],
          "histogram2dcontour": [
           {
            "colorbar": {
             "outlinewidth": 0,
             "ticks": ""
            },
            "colorscale": [
             [
              0,
              "#0d0887"
             ],
             [
              0.1111111111111111,
              "#46039f"
             ],
             [
              0.2222222222222222,
              "#7201a8"
             ],
             [
              0.3333333333333333,
              "#9c179e"
             ],
             [
              0.4444444444444444,
              "#bd3786"
             ],
             [
              0.5555555555555556,
              "#d8576b"
             ],
             [
              0.6666666666666666,
              "#ed7953"
             ],
             [
              0.7777777777777778,
              "#fb9f3a"
             ],
             [
              0.8888888888888888,
              "#fdca26"
             ],
             [
              1,
              "#f0f921"
             ]
            ],
            "type": "histogram2dcontour"
           }
          ],
          "mesh3d": [
           {
            "colorbar": {
             "outlinewidth": 0,
             "ticks": ""
            },
            "type": "mesh3d"
           }
          ],
          "parcoords": [
           {
            "line": {
             "colorbar": {
              "outlinewidth": 0,
              "ticks": ""
             }
            },
            "type": "parcoords"
           }
          ],
          "pie": [
           {
            "automargin": true,
            "type": "pie"
           }
          ],
          "scatter": [
           {
            "fillpattern": {
             "fillmode": "overlay",
             "size": 10,
             "solidity": 0.2
            },
            "type": "scatter"
           }
          ],
          "scatter3d": [
           {
            "line": {
             "colorbar": {
              "outlinewidth": 0,
              "ticks": ""
             }
            },
            "marker": {
             "colorbar": {
              "outlinewidth": 0,
              "ticks": ""
             }
            },
            "type": "scatter3d"
           }
          ],
          "scattercarpet": [
           {
            "marker": {
             "colorbar": {
              "outlinewidth": 0,
              "ticks": ""
             }
            },
            "type": "scattercarpet"
           }
          ],
          "scattergeo": [
           {
            "marker": {
             "colorbar": {
              "outlinewidth": 0,
              "ticks": ""
             }
            },
            "type": "scattergeo"
           }
          ],
          "scattergl": [
           {
            "marker": {
             "colorbar": {
              "outlinewidth": 0,
              "ticks": ""
             }
            },
            "type": "scattergl"
           }
          ],
          "scattermap": [
           {
            "marker": {
             "colorbar": {
              "outlinewidth": 0,
              "ticks": ""
             }
            },
            "type": "scattermap"
           }
          ],
          "scattermapbox": [
           {
            "marker": {
             "colorbar": {
              "outlinewidth": 0,
              "ticks": ""
             }
            },
            "type": "scattermapbox"
           }
          ],
          "scatterpolar": [
           {
            "marker": {
             "colorbar": {
              "outlinewidth": 0,
              "ticks": ""
             }
            },
            "type": "scatterpolar"
           }
          ],
          "scatterpolargl": [
           {
            "marker": {
             "colorbar": {
              "outlinewidth": 0,
              "ticks": ""
             }
            },
            "type": "scatterpolargl"
           }
          ],
          "scatterternary": [
           {
            "marker": {
             "colorbar": {
              "outlinewidth": 0,
              "ticks": ""
             }
            },
            "type": "scatterternary"
           }
          ],
          "surface": [
           {
            "colorbar": {
             "outlinewidth": 0,
             "ticks": ""
            },
            "colorscale": [
             [
              0,
              "#0d0887"
             ],
             [
              0.1111111111111111,
              "#46039f"
             ],
             [
              0.2222222222222222,
              "#7201a8"
             ],
             [
              0.3333333333333333,
              "#9c179e"
             ],
             [
              0.4444444444444444,
              "#bd3786"
             ],
             [
              0.5555555555555556,
              "#d8576b"
             ],
             [
              0.6666666666666666,
              "#ed7953"
             ],
             [
              0.7777777777777778,
              "#fb9f3a"
             ],
             [
              0.8888888888888888,
              "#fdca26"
             ],
             [
              1,
              "#f0f921"
             ]
            ],
            "type": "surface"
           }
          ],
          "table": [
           {
            "cells": {
             "fill": {
              "color": "#EBF0F8"
             },
             "line": {
              "color": "white"
             }
            },
            "header": {
             "fill": {
              "color": "#C8D4E3"
             },
             "line": {
              "color": "white"
             }
            },
            "type": "table"
           }
          ]
         },
         "layout": {
          "annotationdefaults": {
           "arrowcolor": "#2a3f5f",
           "arrowhead": 0,
           "arrowwidth": 1
          },
          "autotypenumbers": "strict",
          "coloraxis": {
           "colorbar": {
            "outlinewidth": 0,
            "ticks": ""
           }
          },
          "colorscale": {
           "diverging": [
            [
             0,
             "#8e0152"
            ],
            [
             0.1,
             "#c51b7d"
            ],
            [
             0.2,
             "#de77ae"
            ],
            [
             0.3,
             "#f1b6da"
            ],
            [
             0.4,
             "#fde0ef"
            ],
            [
             0.5,
             "#f7f7f7"
            ],
            [
             0.6,
             "#e6f5d0"
            ],
            [
             0.7,
             "#b8e186"
            ],
            [
             0.8,
             "#7fbc41"
            ],
            [
             0.9,
             "#4d9221"
            ],
            [
             1,
             "#276419"
            ]
           ],
           "sequential": [
            [
             0,
             "#0d0887"
            ],
            [
             0.1111111111111111,
             "#46039f"
            ],
            [
             0.2222222222222222,
             "#7201a8"
            ],
            [
             0.3333333333333333,
             "#9c179e"
            ],
            [
             0.4444444444444444,
             "#bd3786"
            ],
            [
             0.5555555555555556,
             "#d8576b"
            ],
            [
             0.6666666666666666,
             "#ed7953"
            ],
            [
             0.7777777777777778,
             "#fb9f3a"
            ],
            [
             0.8888888888888888,
             "#fdca26"
            ],
            [
             1,
             "#f0f921"
            ]
           ],
           "sequentialminus": [
            [
             0,
             "#0d0887"
            ],
            [
             0.1111111111111111,
             "#46039f"
            ],
            [
             0.2222222222222222,
             "#7201a8"
            ],
            [
             0.3333333333333333,
             "#9c179e"
            ],
            [
             0.4444444444444444,
             "#bd3786"
            ],
            [
             0.5555555555555556,
             "#d8576b"
            ],
            [
             0.6666666666666666,
             "#ed7953"
            ],
            [
             0.7777777777777778,
             "#fb9f3a"
            ],
            [
             0.8888888888888888,
             "#fdca26"
            ],
            [
             1,
             "#f0f921"
            ]
           ]
          },
          "colorway": [
           "#636efa",
           "#EF553B",
           "#00cc96",
           "#ab63fa",
           "#FFA15A",
           "#19d3f3",
           "#FF6692",
           "#B6E880",
           "#FF97FF",
           "#FECB52"
          ],
          "font": {
           "color": "#2a3f5f"
          },
          "geo": {
           "bgcolor": "white",
           "lakecolor": "white",
           "landcolor": "#E5ECF6",
           "showlakes": true,
           "showland": true,
           "subunitcolor": "white"
          },
          "hoverlabel": {
           "align": "left"
          },
          "hovermode": "closest",
          "mapbox": {
           "style": "light"
          },
          "paper_bgcolor": "white",
          "plot_bgcolor": "#E5ECF6",
          "polar": {
           "angularaxis": {
            "gridcolor": "white",
            "linecolor": "white",
            "ticks": ""
           },
           "bgcolor": "#E5ECF6",
           "radialaxis": {
            "gridcolor": "white",
            "linecolor": "white",
            "ticks": ""
           }
          },
          "scene": {
           "xaxis": {
            "backgroundcolor": "#E5ECF6",
            "gridcolor": "white",
            "gridwidth": 2,
            "linecolor": "white",
            "showbackground": true,
            "ticks": "",
            "zerolinecolor": "white"
           },
           "yaxis": {
            "backgroundcolor": "#E5ECF6",
            "gridcolor": "white",
            "gridwidth": 2,
            "linecolor": "white",
            "showbackground": true,
            "ticks": "",
            "zerolinecolor": "white"
           },
           "zaxis": {
            "backgroundcolor": "#E5ECF6",
            "gridcolor": "white",
            "gridwidth": 2,
            "linecolor": "white",
            "showbackground": true,
            "ticks": "",
            "zerolinecolor": "white"
           }
          },
          "shapedefaults": {
           "line": {
            "color": "#2a3f5f"
           }
          },
          "ternary": {
           "aaxis": {
            "gridcolor": "white",
            "linecolor": "white",
            "ticks": ""
           },
           "baxis": {
            "gridcolor": "white",
            "linecolor": "white",
            "ticks": ""
           },
           "bgcolor": "#E5ECF6",
           "caxis": {
            "gridcolor": "white",
            "linecolor": "white",
            "ticks": ""
           }
          },
          "title": {
           "x": 0.05
          },
          "xaxis": {
           "automargin": true,
           "gridcolor": "white",
           "linecolor": "white",
           "ticks": "",
           "title": {
            "standoff": 15
           },
           "zerolinecolor": "white",
           "zerolinewidth": 2
          },
          "yaxis": {
           "automargin": true,
           "gridcolor": "white",
           "linecolor": "white",
           "ticks": "",
           "title": {
            "standoff": 15
           },
           "zerolinecolor": "white",
           "zerolinewidth": 2
          }
         }
        },
        "title": {
         "text": "복잡한 히트맵"
        },
        "xaxis": {
         "title": {
          "text": "요일"
         }
        },
        "yaxis": {
         "title": {
          "text": "카테고리"
         }
        }
       }
      }
     },
     "metadata": {},
     "output_type": "display_data"
    }
   ],
   "source": [
    "import plotly.graph_objects as go\n",
    "import numpy as np\n",
    "\n",
    "# 데이터 설정\n",
    "z_data = np.random.rand(4, 4)\n",
    "x_labels = ['월', '화', '수', '목']\n",
    "y_labels = ['A', 'B', 'C', 'D']\n",
    "\n",
    "# 복잡한 히트맵 생성\n",
    "fig = go.Figure(data=go.Heatmap(\n",
    "    z=z_data,\n",
    "    x=x_labels,\n",
    "    y=y_labels,\n",
    "    colorscale='RdBu',\n",
    "    zmin=0,\n",
    "    zmax=1\n",
    "))\n",
    "fig.update_layout(title=\"복잡한 히트맵\", xaxis_title=\"요일\", yaxis_title=\"카테고리\")\n",
    "fig.show()\n"
   ]
  },
  {
   "cell_type": "markdown",
   "metadata": {},
   "source": [
    "## 2-7: 이중 Y축 결합 차트 (Dual-Axis Combined Chart)\n",
    "- 한 차트에 막대 차트와 선 그래프를 결합하여, 왼쪽 Y축에는 매출, 오른쪽 Y축에는 성장률을 표시하는 이중 Y축 차트를 만들어보세요."
   ]
  },
  {
   "cell_type": "code",
   "execution_count": 8,
   "metadata": {},
   "outputs": [
    {
     "data": {
      "application/vnd.plotly.v1+json": {
       "config": {
        "plotlyServerURL": "https://plot.ly"
       },
       "data": [
        {
         "marker": {
          "color": "lightsalmon"
         },
         "name": "매출",
         "type": "bar",
         "x": [
          "1월",
          "2월",
          "3월",
          "4월",
          "5월"
         ],
         "y": [
          200,
          250,
          300,
          280,
          320
         ]
        },
        {
         "marker": {
          "color": "darkblue"
         },
         "mode": "lines+markers",
         "name": "성장률",
         "type": "scatter",
         "x": [
          "1월",
          "2월",
          "3월",
          "4월",
          "5월"
         ],
         "y": [
          5,
          10,
          15,
          10,
          20
         ],
         "yaxis": "y2"
        }
       ],
       "layout": {
        "legend": {
         "orientation": "h",
         "x": 0.1,
         "y": 1.1
        },
        "template": {
         "data": {
          "bar": [
           {
            "error_x": {
             "color": "#2a3f5f"
            },
            "error_y": {
             "color": "#2a3f5f"
            },
            "marker": {
             "line": {
              "color": "#E5ECF6",
              "width": 0.5
             },
             "pattern": {
              "fillmode": "overlay",
              "size": 10,
              "solidity": 0.2
             }
            },
            "type": "bar"
           }
          ],
          "barpolar": [
           {
            "marker": {
             "line": {
              "color": "#E5ECF6",
              "width": 0.5
             },
             "pattern": {
              "fillmode": "overlay",
              "size": 10,
              "solidity": 0.2
             }
            },
            "type": "barpolar"
           }
          ],
          "carpet": [
           {
            "aaxis": {
             "endlinecolor": "#2a3f5f",
             "gridcolor": "white",
             "linecolor": "white",
             "minorgridcolor": "white",
             "startlinecolor": "#2a3f5f"
            },
            "baxis": {
             "endlinecolor": "#2a3f5f",
             "gridcolor": "white",
             "linecolor": "white",
             "minorgridcolor": "white",
             "startlinecolor": "#2a3f5f"
            },
            "type": "carpet"
           }
          ],
          "choropleth": [
           {
            "colorbar": {
             "outlinewidth": 0,
             "ticks": ""
            },
            "type": "choropleth"
           }
          ],
          "contour": [
           {
            "colorbar": {
             "outlinewidth": 0,
             "ticks": ""
            },
            "colorscale": [
             [
              0,
              "#0d0887"
             ],
             [
              0.1111111111111111,
              "#46039f"
             ],
             [
              0.2222222222222222,
              "#7201a8"
             ],
             [
              0.3333333333333333,
              "#9c179e"
             ],
             [
              0.4444444444444444,
              "#bd3786"
             ],
             [
              0.5555555555555556,
              "#d8576b"
             ],
             [
              0.6666666666666666,
              "#ed7953"
             ],
             [
              0.7777777777777778,
              "#fb9f3a"
             ],
             [
              0.8888888888888888,
              "#fdca26"
             ],
             [
              1,
              "#f0f921"
             ]
            ],
            "type": "contour"
           }
          ],
          "contourcarpet": [
           {
            "colorbar": {
             "outlinewidth": 0,
             "ticks": ""
            },
            "type": "contourcarpet"
           }
          ],
          "heatmap": [
           {
            "colorbar": {
             "outlinewidth": 0,
             "ticks": ""
            },
            "colorscale": [
             [
              0,
              "#0d0887"
             ],
             [
              0.1111111111111111,
              "#46039f"
             ],
             [
              0.2222222222222222,
              "#7201a8"
             ],
             [
              0.3333333333333333,
              "#9c179e"
             ],
             [
              0.4444444444444444,
              "#bd3786"
             ],
             [
              0.5555555555555556,
              "#d8576b"
             ],
             [
              0.6666666666666666,
              "#ed7953"
             ],
             [
              0.7777777777777778,
              "#fb9f3a"
             ],
             [
              0.8888888888888888,
              "#fdca26"
             ],
             [
              1,
              "#f0f921"
             ]
            ],
            "type": "heatmap"
           }
          ],
          "histogram": [
           {
            "marker": {
             "pattern": {
              "fillmode": "overlay",
              "size": 10,
              "solidity": 0.2
             }
            },
            "type": "histogram"
           }
          ],
          "histogram2d": [
           {
            "colorbar": {
             "outlinewidth": 0,
             "ticks": ""
            },
            "colorscale": [
             [
              0,
              "#0d0887"
             ],
             [
              0.1111111111111111,
              "#46039f"
             ],
             [
              0.2222222222222222,
              "#7201a8"
             ],
             [
              0.3333333333333333,
              "#9c179e"
             ],
             [
              0.4444444444444444,
              "#bd3786"
             ],
             [
              0.5555555555555556,
              "#d8576b"
             ],
             [
              0.6666666666666666,
              "#ed7953"
             ],
             [
              0.7777777777777778,
              "#fb9f3a"
             ],
             [
              0.8888888888888888,
              "#fdca26"
             ],
             [
              1,
              "#f0f921"
             ]
            ],
            "type": "histogram2d"
           }
          ],
          "histogram2dcontour": [
           {
            "colorbar": {
             "outlinewidth": 0,
             "ticks": ""
            },
            "colorscale": [
             [
              0,
              "#0d0887"
             ],
             [
              0.1111111111111111,
              "#46039f"
             ],
             [
              0.2222222222222222,
              "#7201a8"
             ],
             [
              0.3333333333333333,
              "#9c179e"
             ],
             [
              0.4444444444444444,
              "#bd3786"
             ],
             [
              0.5555555555555556,
              "#d8576b"
             ],
             [
              0.6666666666666666,
              "#ed7953"
             ],
             [
              0.7777777777777778,
              "#fb9f3a"
             ],
             [
              0.8888888888888888,
              "#fdca26"
             ],
             [
              1,
              "#f0f921"
             ]
            ],
            "type": "histogram2dcontour"
           }
          ],
          "mesh3d": [
           {
            "colorbar": {
             "outlinewidth": 0,
             "ticks": ""
            },
            "type": "mesh3d"
           }
          ],
          "parcoords": [
           {
            "line": {
             "colorbar": {
              "outlinewidth": 0,
              "ticks": ""
             }
            },
            "type": "parcoords"
           }
          ],
          "pie": [
           {
            "automargin": true,
            "type": "pie"
           }
          ],
          "scatter": [
           {
            "fillpattern": {
             "fillmode": "overlay",
             "size": 10,
             "solidity": 0.2
            },
            "type": "scatter"
           }
          ],
          "scatter3d": [
           {
            "line": {
             "colorbar": {
              "outlinewidth": 0,
              "ticks": ""
             }
            },
            "marker": {
             "colorbar": {
              "outlinewidth": 0,
              "ticks": ""
             }
            },
            "type": "scatter3d"
           }
          ],
          "scattercarpet": [
           {
            "marker": {
             "colorbar": {
              "outlinewidth": 0,
              "ticks": ""
             }
            },
            "type": "scattercarpet"
           }
          ],
          "scattergeo": [
           {
            "marker": {
             "colorbar": {
              "outlinewidth": 0,
              "ticks": ""
             }
            },
            "type": "scattergeo"
           }
          ],
          "scattergl": [
           {
            "marker": {
             "colorbar": {
              "outlinewidth": 0,
              "ticks": ""
             }
            },
            "type": "scattergl"
           }
          ],
          "scattermap": [
           {
            "marker": {
             "colorbar": {
              "outlinewidth": 0,
              "ticks": ""
             }
            },
            "type": "scattermap"
           }
          ],
          "scattermapbox": [
           {
            "marker": {
             "colorbar": {
              "outlinewidth": 0,
              "ticks": ""
             }
            },
            "type": "scattermapbox"
           }
          ],
          "scatterpolar": [
           {
            "marker": {
             "colorbar": {
              "outlinewidth": 0,
              "ticks": ""
             }
            },
            "type": "scatterpolar"
           }
          ],
          "scatterpolargl": [
           {
            "marker": {
             "colorbar": {
              "outlinewidth": 0,
              "ticks": ""
             }
            },
            "type": "scatterpolargl"
           }
          ],
          "scatterternary": [
           {
            "marker": {
             "colorbar": {
              "outlinewidth": 0,
              "ticks": ""
             }
            },
            "type": "scatterternary"
           }
          ],
          "surface": [
           {
            "colorbar": {
             "outlinewidth": 0,
             "ticks": ""
            },
            "colorscale": [
             [
              0,
              "#0d0887"
             ],
             [
              0.1111111111111111,
              "#46039f"
             ],
             [
              0.2222222222222222,
              "#7201a8"
             ],
             [
              0.3333333333333333,
              "#9c179e"
             ],
             [
              0.4444444444444444,
              "#bd3786"
             ],
             [
              0.5555555555555556,
              "#d8576b"
             ],
             [
              0.6666666666666666,
              "#ed7953"
             ],
             [
              0.7777777777777778,
              "#fb9f3a"
             ],
             [
              0.8888888888888888,
              "#fdca26"
             ],
             [
              1,
              "#f0f921"
             ]
            ],
            "type": "surface"
           }
          ],
          "table": [
           {
            "cells": {
             "fill": {
              "color": "#EBF0F8"
             },
             "line": {
              "color": "white"
             }
            },
            "header": {
             "fill": {
              "color": "#C8D4E3"
             },
             "line": {
              "color": "white"
             }
            },
            "type": "table"
           }
          ]
         },
         "layout": {
          "annotationdefaults": {
           "arrowcolor": "#2a3f5f",
           "arrowhead": 0,
           "arrowwidth": 1
          },
          "autotypenumbers": "strict",
          "coloraxis": {
           "colorbar": {
            "outlinewidth": 0,
            "ticks": ""
           }
          },
          "colorscale": {
           "diverging": [
            [
             0,
             "#8e0152"
            ],
            [
             0.1,
             "#c51b7d"
            ],
            [
             0.2,
             "#de77ae"
            ],
            [
             0.3,
             "#f1b6da"
            ],
            [
             0.4,
             "#fde0ef"
            ],
            [
             0.5,
             "#f7f7f7"
            ],
            [
             0.6,
             "#e6f5d0"
            ],
            [
             0.7,
             "#b8e186"
            ],
            [
             0.8,
             "#7fbc41"
            ],
            [
             0.9,
             "#4d9221"
            ],
            [
             1,
             "#276419"
            ]
           ],
           "sequential": [
            [
             0,
             "#0d0887"
            ],
            [
             0.1111111111111111,
             "#46039f"
            ],
            [
             0.2222222222222222,
             "#7201a8"
            ],
            [
             0.3333333333333333,
             "#9c179e"
            ],
            [
             0.4444444444444444,
             "#bd3786"
            ],
            [
             0.5555555555555556,
             "#d8576b"
            ],
            [
             0.6666666666666666,
             "#ed7953"
            ],
            [
             0.7777777777777778,
             "#fb9f3a"
            ],
            [
             0.8888888888888888,
             "#fdca26"
            ],
            [
             1,
             "#f0f921"
            ]
           ],
           "sequentialminus": [
            [
             0,
             "#0d0887"
            ],
            [
             0.1111111111111111,
             "#46039f"
            ],
            [
             0.2222222222222222,
             "#7201a8"
            ],
            [
             0.3333333333333333,
             "#9c179e"
            ],
            [
             0.4444444444444444,
             "#bd3786"
            ],
            [
             0.5555555555555556,
             "#d8576b"
            ],
            [
             0.6666666666666666,
             "#ed7953"
            ],
            [
             0.7777777777777778,
             "#fb9f3a"
            ],
            [
             0.8888888888888888,
             "#fdca26"
            ],
            [
             1,
             "#f0f921"
            ]
           ]
          },
          "colorway": [
           "#636efa",
           "#EF553B",
           "#00cc96",
           "#ab63fa",
           "#FFA15A",
           "#19d3f3",
           "#FF6692",
           "#B6E880",
           "#FF97FF",
           "#FECB52"
          ],
          "font": {
           "color": "#2a3f5f"
          },
          "geo": {
           "bgcolor": "white",
           "lakecolor": "white",
           "landcolor": "#E5ECF6",
           "showlakes": true,
           "showland": true,
           "subunitcolor": "white"
          },
          "hoverlabel": {
           "align": "left"
          },
          "hovermode": "closest",
          "mapbox": {
           "style": "light"
          },
          "paper_bgcolor": "white",
          "plot_bgcolor": "#E5ECF6",
          "polar": {
           "angularaxis": {
            "gridcolor": "white",
            "linecolor": "white",
            "ticks": ""
           },
           "bgcolor": "#E5ECF6",
           "radialaxis": {
            "gridcolor": "white",
            "linecolor": "white",
            "ticks": ""
           }
          },
          "scene": {
           "xaxis": {
            "backgroundcolor": "#E5ECF6",
            "gridcolor": "white",
            "gridwidth": 2,
            "linecolor": "white",
            "showbackground": true,
            "ticks": "",
            "zerolinecolor": "white"
           },
           "yaxis": {
            "backgroundcolor": "#E5ECF6",
            "gridcolor": "white",
            "gridwidth": 2,
            "linecolor": "white",
            "showbackground": true,
            "ticks": "",
            "zerolinecolor": "white"
           },
           "zaxis": {
            "backgroundcolor": "#E5ECF6",
            "gridcolor": "white",
            "gridwidth": 2,
            "linecolor": "white",
            "showbackground": true,
            "ticks": "",
            "zerolinecolor": "white"
           }
          },
          "shapedefaults": {
           "line": {
            "color": "#2a3f5f"
           }
          },
          "ternary": {
           "aaxis": {
            "gridcolor": "white",
            "linecolor": "white",
            "ticks": ""
           },
           "baxis": {
            "gridcolor": "white",
            "linecolor": "white",
            "ticks": ""
           },
           "bgcolor": "#E5ECF6",
           "caxis": {
            "gridcolor": "white",
            "linecolor": "white",
            "ticks": ""
           }
          },
          "title": {
           "x": 0.05
          },
          "xaxis": {
           "automargin": true,
           "gridcolor": "white",
           "linecolor": "white",
           "ticks": "",
           "title": {
            "standoff": 15
           },
           "zerolinecolor": "white",
           "zerolinewidth": 2
          },
          "yaxis": {
           "automargin": true,
           "gridcolor": "white",
           "linecolor": "white",
           "ticks": "",
           "title": {
            "standoff": 15
           },
           "zerolinecolor": "white",
           "zerolinewidth": 2
          }
         }
        },
        "title": {
         "text": "이중 Y축 결합 차트"
        },
        "xaxis": {
         "title": {
          "text": "월"
         }
        },
        "yaxis": {
         "title": {
          "text": "매출"
         }
        },
        "yaxis2": {
         "overlaying": "y",
         "side": "right",
         "title": {
          "text": "성장률"
         }
        }
       }
      }
     },
     "metadata": {},
     "output_type": "display_data"
    }
   ],
   "source": [
    "import plotly.graph_objects as go\n",
    "\n",
    "# 데이터 설정\n",
    "months = ['1월', '2월', '3월', '4월', '5월']\n",
    "revenue = [200, 250, 300, 280, 320]  # 매출 데이터 (막대)\n",
    "growth_rate = [5, 10, 15, 10, 20]     # 성장률 데이터 (선)\n",
    "\n",
    "# 차트 생성\n",
    "fig = go.Figure()\n",
    "\n",
    "# 왼쪽 Y축: 매출 (막대 차트)\n",
    "fig.add_trace(go.Bar(\n",
    "    x=months, \n",
    "    y=revenue, \n",
    "    name='매출', \n",
    "    marker_color='lightsalmon'\n",
    "))\n",
    "\n",
    "# 오른쪽 Y축: 성장률 (선 그래프)\n",
    "fig.add_trace(go.Scatter(\n",
    "    x=months, \n",
    "    y=growth_rate, \n",
    "    name='성장률', \n",
    "    mode='lines+markers', \n",
    "    marker_color='darkblue',\n",
    "    yaxis='y2'\n",
    "))\n",
    "\n",
    "# 레이아웃 업데이트: 이중 Y축 설정\n",
    "fig.update_layout(\n",
    "    title=\"이중 Y축 결합 차트\",\n",
    "    xaxis_title=\"월\",\n",
    "    yaxis=dict(title=\"매출\"),\n",
    "    yaxis2=dict(title=\"성장률\", overlaying='y', side='right'),\n",
    "    legend=dict(x=0.1, y=1.1, orientation=\"h\")\n",
    ")\n",
    "fig.show()\n"
   ]
  },
  {
   "cell_type": "markdown",
   "metadata": {},
   "source": [
    "## 2-8: 워터폴 차트 (Waterfall Chart)\n",
    "- 분기별 매출 변동 데이터를 이용하여, 각 단계별 증감 효과를 보여주는 워터폴 차트를 작성해보세요."
   ]
  },
  {
   "cell_type": "code",
   "execution_count": 9,
   "metadata": {},
   "outputs": [
    {
     "data": {
      "application/vnd.plotly.v1+json": {
       "config": {
        "plotlyServerURL": "https://plot.ly"
       },
       "data": [
        {
         "connector": {
          "line": {
           "color": "rgb(63, 63, 63)"
          }
         },
         "measure": [
          "relative",
          "relative",
          "relative",
          "total"
         ],
         "name": "매출 변화",
         "orientation": "v",
         "textposition": "outside",
         "type": "waterfall",
         "x": [
          "Q1",
          "Q2",
          "Q3",
          "Q4"
         ],
         "y": [
          50,
          -20,
          30,
          0
         ]
        }
       ],
       "layout": {
        "showlegend": true,
        "template": {
         "data": {
          "bar": [
           {
            "error_x": {
             "color": "#2a3f5f"
            },
            "error_y": {
             "color": "#2a3f5f"
            },
            "marker": {
             "line": {
              "color": "#E5ECF6",
              "width": 0.5
             },
             "pattern": {
              "fillmode": "overlay",
              "size": 10,
              "solidity": 0.2
             }
            },
            "type": "bar"
           }
          ],
          "barpolar": [
           {
            "marker": {
             "line": {
              "color": "#E5ECF6",
              "width": 0.5
             },
             "pattern": {
              "fillmode": "overlay",
              "size": 10,
              "solidity": 0.2
             }
            },
            "type": "barpolar"
           }
          ],
          "carpet": [
           {
            "aaxis": {
             "endlinecolor": "#2a3f5f",
             "gridcolor": "white",
             "linecolor": "white",
             "minorgridcolor": "white",
             "startlinecolor": "#2a3f5f"
            },
            "baxis": {
             "endlinecolor": "#2a3f5f",
             "gridcolor": "white",
             "linecolor": "white",
             "minorgridcolor": "white",
             "startlinecolor": "#2a3f5f"
            },
            "type": "carpet"
           }
          ],
          "choropleth": [
           {
            "colorbar": {
             "outlinewidth": 0,
             "ticks": ""
            },
            "type": "choropleth"
           }
          ],
          "contour": [
           {
            "colorbar": {
             "outlinewidth": 0,
             "ticks": ""
            },
            "colorscale": [
             [
              0,
              "#0d0887"
             ],
             [
              0.1111111111111111,
              "#46039f"
             ],
             [
              0.2222222222222222,
              "#7201a8"
             ],
             [
              0.3333333333333333,
              "#9c179e"
             ],
             [
              0.4444444444444444,
              "#bd3786"
             ],
             [
              0.5555555555555556,
              "#d8576b"
             ],
             [
              0.6666666666666666,
              "#ed7953"
             ],
             [
              0.7777777777777778,
              "#fb9f3a"
             ],
             [
              0.8888888888888888,
              "#fdca26"
             ],
             [
              1,
              "#f0f921"
             ]
            ],
            "type": "contour"
           }
          ],
          "contourcarpet": [
           {
            "colorbar": {
             "outlinewidth": 0,
             "ticks": ""
            },
            "type": "contourcarpet"
           }
          ],
          "heatmap": [
           {
            "colorbar": {
             "outlinewidth": 0,
             "ticks": ""
            },
            "colorscale": [
             [
              0,
              "#0d0887"
             ],
             [
              0.1111111111111111,
              "#46039f"
             ],
             [
              0.2222222222222222,
              "#7201a8"
             ],
             [
              0.3333333333333333,
              "#9c179e"
             ],
             [
              0.4444444444444444,
              "#bd3786"
             ],
             [
              0.5555555555555556,
              "#d8576b"
             ],
             [
              0.6666666666666666,
              "#ed7953"
             ],
             [
              0.7777777777777778,
              "#fb9f3a"
             ],
             [
              0.8888888888888888,
              "#fdca26"
             ],
             [
              1,
              "#f0f921"
             ]
            ],
            "type": "heatmap"
           }
          ],
          "histogram": [
           {
            "marker": {
             "pattern": {
              "fillmode": "overlay",
              "size": 10,
              "solidity": 0.2
             }
            },
            "type": "histogram"
           }
          ],
          "histogram2d": [
           {
            "colorbar": {
             "outlinewidth": 0,
             "ticks": ""
            },
            "colorscale": [
             [
              0,
              "#0d0887"
             ],
             [
              0.1111111111111111,
              "#46039f"
             ],
             [
              0.2222222222222222,
              "#7201a8"
             ],
             [
              0.3333333333333333,
              "#9c179e"
             ],
             [
              0.4444444444444444,
              "#bd3786"
             ],
             [
              0.5555555555555556,
              "#d8576b"
             ],
             [
              0.6666666666666666,
              "#ed7953"
             ],
             [
              0.7777777777777778,
              "#fb9f3a"
             ],
             [
              0.8888888888888888,
              "#fdca26"
             ],
             [
              1,
              "#f0f921"
             ]
            ],
            "type": "histogram2d"
           }
          ],
          "histogram2dcontour": [
           {
            "colorbar": {
             "outlinewidth": 0,
             "ticks": ""
            },
            "colorscale": [
             [
              0,
              "#0d0887"
             ],
             [
              0.1111111111111111,
              "#46039f"
             ],
             [
              0.2222222222222222,
              "#7201a8"
             ],
             [
              0.3333333333333333,
              "#9c179e"
             ],
             [
              0.4444444444444444,
              "#bd3786"
             ],
             [
              0.5555555555555556,
              "#d8576b"
             ],
             [
              0.6666666666666666,
              "#ed7953"
             ],
             [
              0.7777777777777778,
              "#fb9f3a"
             ],
             [
              0.8888888888888888,
              "#fdca26"
             ],
             [
              1,
              "#f0f921"
             ]
            ],
            "type": "histogram2dcontour"
           }
          ],
          "mesh3d": [
           {
            "colorbar": {
             "outlinewidth": 0,
             "ticks": ""
            },
            "type": "mesh3d"
           }
          ],
          "parcoords": [
           {
            "line": {
             "colorbar": {
              "outlinewidth": 0,
              "ticks": ""
             }
            },
            "type": "parcoords"
           }
          ],
          "pie": [
           {
            "automargin": true,
            "type": "pie"
           }
          ],
          "scatter": [
           {
            "fillpattern": {
             "fillmode": "overlay",
             "size": 10,
             "solidity": 0.2
            },
            "type": "scatter"
           }
          ],
          "scatter3d": [
           {
            "line": {
             "colorbar": {
              "outlinewidth": 0,
              "ticks": ""
             }
            },
            "marker": {
             "colorbar": {
              "outlinewidth": 0,
              "ticks": ""
             }
            },
            "type": "scatter3d"
           }
          ],
          "scattercarpet": [
           {
            "marker": {
             "colorbar": {
              "outlinewidth": 0,
              "ticks": ""
             }
            },
            "type": "scattercarpet"
           }
          ],
          "scattergeo": [
           {
            "marker": {
             "colorbar": {
              "outlinewidth": 0,
              "ticks": ""
             }
            },
            "type": "scattergeo"
           }
          ],
          "scattergl": [
           {
            "marker": {
             "colorbar": {
              "outlinewidth": 0,
              "ticks": ""
             }
            },
            "type": "scattergl"
           }
          ],
          "scattermap": [
           {
            "marker": {
             "colorbar": {
              "outlinewidth": 0,
              "ticks": ""
             }
            },
            "type": "scattermap"
           }
          ],
          "scattermapbox": [
           {
            "marker": {
             "colorbar": {
              "outlinewidth": 0,
              "ticks": ""
             }
            },
            "type": "scattermapbox"
           }
          ],
          "scatterpolar": [
           {
            "marker": {
             "colorbar": {
              "outlinewidth": 0,
              "ticks": ""
             }
            },
            "type": "scatterpolar"
           }
          ],
          "scatterpolargl": [
           {
            "marker": {
             "colorbar": {
              "outlinewidth": 0,
              "ticks": ""
             }
            },
            "type": "scatterpolargl"
           }
          ],
          "scatterternary": [
           {
            "marker": {
             "colorbar": {
              "outlinewidth": 0,
              "ticks": ""
             }
            },
            "type": "scatterternary"
           }
          ],
          "surface": [
           {
            "colorbar": {
             "outlinewidth": 0,
             "ticks": ""
            },
            "colorscale": [
             [
              0,
              "#0d0887"
             ],
             [
              0.1111111111111111,
              "#46039f"
             ],
             [
              0.2222222222222222,
              "#7201a8"
             ],
             [
              0.3333333333333333,
              "#9c179e"
             ],
             [
              0.4444444444444444,
              "#bd3786"
             ],
             [
              0.5555555555555556,
              "#d8576b"
             ],
             [
              0.6666666666666666,
              "#ed7953"
             ],
             [
              0.7777777777777778,
              "#fb9f3a"
             ],
             [
              0.8888888888888888,
              "#fdca26"
             ],
             [
              1,
              "#f0f921"
             ]
            ],
            "type": "surface"
           }
          ],
          "table": [
           {
            "cells": {
             "fill": {
              "color": "#EBF0F8"
             },
             "line": {
              "color": "white"
             }
            },
            "header": {
             "fill": {
              "color": "#C8D4E3"
             },
             "line": {
              "color": "white"
             }
            },
            "type": "table"
           }
          ]
         },
         "layout": {
          "annotationdefaults": {
           "arrowcolor": "#2a3f5f",
           "arrowhead": 0,
           "arrowwidth": 1
          },
          "autotypenumbers": "strict",
          "coloraxis": {
           "colorbar": {
            "outlinewidth": 0,
            "ticks": ""
           }
          },
          "colorscale": {
           "diverging": [
            [
             0,
             "#8e0152"
            ],
            [
             0.1,
             "#c51b7d"
            ],
            [
             0.2,
             "#de77ae"
            ],
            [
             0.3,
             "#f1b6da"
            ],
            [
             0.4,
             "#fde0ef"
            ],
            [
             0.5,
             "#f7f7f7"
            ],
            [
             0.6,
             "#e6f5d0"
            ],
            [
             0.7,
             "#b8e186"
            ],
            [
             0.8,
             "#7fbc41"
            ],
            [
             0.9,
             "#4d9221"
            ],
            [
             1,
             "#276419"
            ]
           ],
           "sequential": [
            [
             0,
             "#0d0887"
            ],
            [
             0.1111111111111111,
             "#46039f"
            ],
            [
             0.2222222222222222,
             "#7201a8"
            ],
            [
             0.3333333333333333,
             "#9c179e"
            ],
            [
             0.4444444444444444,
             "#bd3786"
            ],
            [
             0.5555555555555556,
             "#d8576b"
            ],
            [
             0.6666666666666666,
             "#ed7953"
            ],
            [
             0.7777777777777778,
             "#fb9f3a"
            ],
            [
             0.8888888888888888,
             "#fdca26"
            ],
            [
             1,
             "#f0f921"
            ]
           ],
           "sequentialminus": [
            [
             0,
             "#0d0887"
            ],
            [
             0.1111111111111111,
             "#46039f"
            ],
            [
             0.2222222222222222,
             "#7201a8"
            ],
            [
             0.3333333333333333,
             "#9c179e"
            ],
            [
             0.4444444444444444,
             "#bd3786"
            ],
            [
             0.5555555555555556,
             "#d8576b"
            ],
            [
             0.6666666666666666,
             "#ed7953"
            ],
            [
             0.7777777777777778,
             "#fb9f3a"
            ],
            [
             0.8888888888888888,
             "#fdca26"
            ],
            [
             1,
             "#f0f921"
            ]
           ]
          },
          "colorway": [
           "#636efa",
           "#EF553B",
           "#00cc96",
           "#ab63fa",
           "#FFA15A",
           "#19d3f3",
           "#FF6692",
           "#B6E880",
           "#FF97FF",
           "#FECB52"
          ],
          "font": {
           "color": "#2a3f5f"
          },
          "geo": {
           "bgcolor": "white",
           "lakecolor": "white",
           "landcolor": "#E5ECF6",
           "showlakes": true,
           "showland": true,
           "subunitcolor": "white"
          },
          "hoverlabel": {
           "align": "left"
          },
          "hovermode": "closest",
          "mapbox": {
           "style": "light"
          },
          "paper_bgcolor": "white",
          "plot_bgcolor": "#E5ECF6",
          "polar": {
           "angularaxis": {
            "gridcolor": "white",
            "linecolor": "white",
            "ticks": ""
           },
           "bgcolor": "#E5ECF6",
           "radialaxis": {
            "gridcolor": "white",
            "linecolor": "white",
            "ticks": ""
           }
          },
          "scene": {
           "xaxis": {
            "backgroundcolor": "#E5ECF6",
            "gridcolor": "white",
            "gridwidth": 2,
            "linecolor": "white",
            "showbackground": true,
            "ticks": "",
            "zerolinecolor": "white"
           },
           "yaxis": {
            "backgroundcolor": "#E5ECF6",
            "gridcolor": "white",
            "gridwidth": 2,
            "linecolor": "white",
            "showbackground": true,
            "ticks": "",
            "zerolinecolor": "white"
           },
           "zaxis": {
            "backgroundcolor": "#E5ECF6",
            "gridcolor": "white",
            "gridwidth": 2,
            "linecolor": "white",
            "showbackground": true,
            "ticks": "",
            "zerolinecolor": "white"
           }
          },
          "shapedefaults": {
           "line": {
            "color": "#2a3f5f"
           }
          },
          "ternary": {
           "aaxis": {
            "gridcolor": "white",
            "linecolor": "white",
            "ticks": ""
           },
           "baxis": {
            "gridcolor": "white",
            "linecolor": "white",
            "ticks": ""
           },
           "bgcolor": "#E5ECF6",
           "caxis": {
            "gridcolor": "white",
            "linecolor": "white",
            "ticks": ""
           }
          },
          "title": {
           "x": 0.05
          },
          "xaxis": {
           "automargin": true,
           "gridcolor": "white",
           "linecolor": "white",
           "ticks": "",
           "title": {
            "standoff": 15
           },
           "zerolinecolor": "white",
           "zerolinewidth": 2
          },
          "yaxis": {
           "automargin": true,
           "gridcolor": "white",
           "linecolor": "white",
           "ticks": "",
           "title": {
            "standoff": 15
           },
           "zerolinecolor": "white",
           "zerolinewidth": 2
          }
         }
        },
        "title": {
         "text": "분기별 매출 워터폴 차트"
        }
       }
      }
     },
     "metadata": {},
     "output_type": "display_data"
    }
   ],
   "source": [
    "import plotly.graph_objects as go\n",
    "\n",
    "# 데이터 설정: 시작, 증감, 종료 값\n",
    "measure = [\"relative\", \"relative\", \"relative\", \"total\"]\n",
    "x = [\"Q1\", \"Q2\", \"Q3\", \"Q4\"]\n",
    "y = [50, -20, 30, 0]  # 마지막 total은 자동 계산\n",
    "\n",
    "fig = go.Figure(go.Waterfall(\n",
    "    name = \"매출 변화\",\n",
    "    orientation = \"v\",\n",
    "    measure = measure,\n",
    "    x = x,\n",
    "    textposition = \"outside\",\n",
    "    y = y,\n",
    "    connector = {\"line\":{\"color\":\"rgb(63, 63, 63)\"}},\n",
    "))\n",
    "\n",
    "fig.update_layout(\n",
    "    title = \"분기별 매출 워터폴 차트\",\n",
    "    showlegend = True\n",
    ")\n",
    "fig.show()\n"
   ]
  },
  {
   "cell_type": "markdown",
   "metadata": {},
   "source": [
    "## 2-9: 선버스트 차트 (Sunburst Chart)\n",
    "- 제품 카테고리와 하위 분류의 계층 구조를 시각화하는 선버스트 차트를 만들어보세요."
   ]
  },
  {
   "cell_type": "code",
   "execution_count": 10,
   "metadata": {},
   "outputs": [
    {
     "data": {
      "application/vnd.plotly.v1+json": {
       "config": {
        "plotlyServerURL": "https://plot.ly"
       },
       "data": [
        {
         "branchvalues": "total",
         "labels": [
          "전체",
          "전자제품",
          "의류",
          "식품",
          "휴대폰",
          "노트북",
          "남성의류",
          "여성의류",
          "신선식품",
          "가공식품"
         ],
         "parents": [
          "",
          "전체",
          "전체",
          "전체",
          "전자제품",
          "전자제품",
          "의류",
          "의류",
          "식품",
          "식품"
         ],
         "type": "sunburst",
         "values": [
          100,
          60,
          20,
          20,
          30,
          30,
          10,
          10,
          12,
          8
         ]
        }
       ],
       "layout": {
        "template": {
         "data": {
          "bar": [
           {
            "error_x": {
             "color": "#2a3f5f"
            },
            "error_y": {
             "color": "#2a3f5f"
            },
            "marker": {
             "line": {
              "color": "#E5ECF6",
              "width": 0.5
             },
             "pattern": {
              "fillmode": "overlay",
              "size": 10,
              "solidity": 0.2
             }
            },
            "type": "bar"
           }
          ],
          "barpolar": [
           {
            "marker": {
             "line": {
              "color": "#E5ECF6",
              "width": 0.5
             },
             "pattern": {
              "fillmode": "overlay",
              "size": 10,
              "solidity": 0.2
             }
            },
            "type": "barpolar"
           }
          ],
          "carpet": [
           {
            "aaxis": {
             "endlinecolor": "#2a3f5f",
             "gridcolor": "white",
             "linecolor": "white",
             "minorgridcolor": "white",
             "startlinecolor": "#2a3f5f"
            },
            "baxis": {
             "endlinecolor": "#2a3f5f",
             "gridcolor": "white",
             "linecolor": "white",
             "minorgridcolor": "white",
             "startlinecolor": "#2a3f5f"
            },
            "type": "carpet"
           }
          ],
          "choropleth": [
           {
            "colorbar": {
             "outlinewidth": 0,
             "ticks": ""
            },
            "type": "choropleth"
           }
          ],
          "contour": [
           {
            "colorbar": {
             "outlinewidth": 0,
             "ticks": ""
            },
            "colorscale": [
             [
              0,
              "#0d0887"
             ],
             [
              0.1111111111111111,
              "#46039f"
             ],
             [
              0.2222222222222222,
              "#7201a8"
             ],
             [
              0.3333333333333333,
              "#9c179e"
             ],
             [
              0.4444444444444444,
              "#bd3786"
             ],
             [
              0.5555555555555556,
              "#d8576b"
             ],
             [
              0.6666666666666666,
              "#ed7953"
             ],
             [
              0.7777777777777778,
              "#fb9f3a"
             ],
             [
              0.8888888888888888,
              "#fdca26"
             ],
             [
              1,
              "#f0f921"
             ]
            ],
            "type": "contour"
           }
          ],
          "contourcarpet": [
           {
            "colorbar": {
             "outlinewidth": 0,
             "ticks": ""
            },
            "type": "contourcarpet"
           }
          ],
          "heatmap": [
           {
            "colorbar": {
             "outlinewidth": 0,
             "ticks": ""
            },
            "colorscale": [
             [
              0,
              "#0d0887"
             ],
             [
              0.1111111111111111,
              "#46039f"
             ],
             [
              0.2222222222222222,
              "#7201a8"
             ],
             [
              0.3333333333333333,
              "#9c179e"
             ],
             [
              0.4444444444444444,
              "#bd3786"
             ],
             [
              0.5555555555555556,
              "#d8576b"
             ],
             [
              0.6666666666666666,
              "#ed7953"
             ],
             [
              0.7777777777777778,
              "#fb9f3a"
             ],
             [
              0.8888888888888888,
              "#fdca26"
             ],
             [
              1,
              "#f0f921"
             ]
            ],
            "type": "heatmap"
           }
          ],
          "histogram": [
           {
            "marker": {
             "pattern": {
              "fillmode": "overlay",
              "size": 10,
              "solidity": 0.2
             }
            },
            "type": "histogram"
           }
          ],
          "histogram2d": [
           {
            "colorbar": {
             "outlinewidth": 0,
             "ticks": ""
            },
            "colorscale": [
             [
              0,
              "#0d0887"
             ],
             [
              0.1111111111111111,
              "#46039f"
             ],
             [
              0.2222222222222222,
              "#7201a8"
             ],
             [
              0.3333333333333333,
              "#9c179e"
             ],
             [
              0.4444444444444444,
              "#bd3786"
             ],
             [
              0.5555555555555556,
              "#d8576b"
             ],
             [
              0.6666666666666666,
              "#ed7953"
             ],
             [
              0.7777777777777778,
              "#fb9f3a"
             ],
             [
              0.8888888888888888,
              "#fdca26"
             ],
             [
              1,
              "#f0f921"
             ]
            ],
            "type": "histogram2d"
           }
          ],
          "histogram2dcontour": [
           {
            "colorbar": {
             "outlinewidth": 0,
             "ticks": ""
            },
            "colorscale": [
             [
              0,
              "#0d0887"
             ],
             [
              0.1111111111111111,
              "#46039f"
             ],
             [
              0.2222222222222222,
              "#7201a8"
             ],
             [
              0.3333333333333333,
              "#9c179e"
             ],
             [
              0.4444444444444444,
              "#bd3786"
             ],
             [
              0.5555555555555556,
              "#d8576b"
             ],
             [
              0.6666666666666666,
              "#ed7953"
             ],
             [
              0.7777777777777778,
              "#fb9f3a"
             ],
             [
              0.8888888888888888,
              "#fdca26"
             ],
             [
              1,
              "#f0f921"
             ]
            ],
            "type": "histogram2dcontour"
           }
          ],
          "mesh3d": [
           {
            "colorbar": {
             "outlinewidth": 0,
             "ticks": ""
            },
            "type": "mesh3d"
           }
          ],
          "parcoords": [
           {
            "line": {
             "colorbar": {
              "outlinewidth": 0,
              "ticks": ""
             }
            },
            "type": "parcoords"
           }
          ],
          "pie": [
           {
            "automargin": true,
            "type": "pie"
           }
          ],
          "scatter": [
           {
            "fillpattern": {
             "fillmode": "overlay",
             "size": 10,
             "solidity": 0.2
            },
            "type": "scatter"
           }
          ],
          "scatter3d": [
           {
            "line": {
             "colorbar": {
              "outlinewidth": 0,
              "ticks": ""
             }
            },
            "marker": {
             "colorbar": {
              "outlinewidth": 0,
              "ticks": ""
             }
            },
            "type": "scatter3d"
           }
          ],
          "scattercarpet": [
           {
            "marker": {
             "colorbar": {
              "outlinewidth": 0,
              "ticks": ""
             }
            },
            "type": "scattercarpet"
           }
          ],
          "scattergeo": [
           {
            "marker": {
             "colorbar": {
              "outlinewidth": 0,
              "ticks": ""
             }
            },
            "type": "scattergeo"
           }
          ],
          "scattergl": [
           {
            "marker": {
             "colorbar": {
              "outlinewidth": 0,
              "ticks": ""
             }
            },
            "type": "scattergl"
           }
          ],
          "scattermap": [
           {
            "marker": {
             "colorbar": {
              "outlinewidth": 0,
              "ticks": ""
             }
            },
            "type": "scattermap"
           }
          ],
          "scattermapbox": [
           {
            "marker": {
             "colorbar": {
              "outlinewidth": 0,
              "ticks": ""
             }
            },
            "type": "scattermapbox"
           }
          ],
          "scatterpolar": [
           {
            "marker": {
             "colorbar": {
              "outlinewidth": 0,
              "ticks": ""
             }
            },
            "type": "scatterpolar"
           }
          ],
          "scatterpolargl": [
           {
            "marker": {
             "colorbar": {
              "outlinewidth": 0,
              "ticks": ""
             }
            },
            "type": "scatterpolargl"
           }
          ],
          "scatterternary": [
           {
            "marker": {
             "colorbar": {
              "outlinewidth": 0,
              "ticks": ""
             }
            },
            "type": "scatterternary"
           }
          ],
          "surface": [
           {
            "colorbar": {
             "outlinewidth": 0,
             "ticks": ""
            },
            "colorscale": [
             [
              0,
              "#0d0887"
             ],
             [
              0.1111111111111111,
              "#46039f"
             ],
             [
              0.2222222222222222,
              "#7201a8"
             ],
             [
              0.3333333333333333,
              "#9c179e"
             ],
             [
              0.4444444444444444,
              "#bd3786"
             ],
             [
              0.5555555555555556,
              "#d8576b"
             ],
             [
              0.6666666666666666,
              "#ed7953"
             ],
             [
              0.7777777777777778,
              "#fb9f3a"
             ],
             [
              0.8888888888888888,
              "#fdca26"
             ],
             [
              1,
              "#f0f921"
             ]
            ],
            "type": "surface"
           }
          ],
          "table": [
           {
            "cells": {
             "fill": {
              "color": "#EBF0F8"
             },
             "line": {
              "color": "white"
             }
            },
            "header": {
             "fill": {
              "color": "#C8D4E3"
             },
             "line": {
              "color": "white"
             }
            },
            "type": "table"
           }
          ]
         },
         "layout": {
          "annotationdefaults": {
           "arrowcolor": "#2a3f5f",
           "arrowhead": 0,
           "arrowwidth": 1
          },
          "autotypenumbers": "strict",
          "coloraxis": {
           "colorbar": {
            "outlinewidth": 0,
            "ticks": ""
           }
          },
          "colorscale": {
           "diverging": [
            [
             0,
             "#8e0152"
            ],
            [
             0.1,
             "#c51b7d"
            ],
            [
             0.2,
             "#de77ae"
            ],
            [
             0.3,
             "#f1b6da"
            ],
            [
             0.4,
             "#fde0ef"
            ],
            [
             0.5,
             "#f7f7f7"
            ],
            [
             0.6,
             "#e6f5d0"
            ],
            [
             0.7,
             "#b8e186"
            ],
            [
             0.8,
             "#7fbc41"
            ],
            [
             0.9,
             "#4d9221"
            ],
            [
             1,
             "#276419"
            ]
           ],
           "sequential": [
            [
             0,
             "#0d0887"
            ],
            [
             0.1111111111111111,
             "#46039f"
            ],
            [
             0.2222222222222222,
             "#7201a8"
            ],
            [
             0.3333333333333333,
             "#9c179e"
            ],
            [
             0.4444444444444444,
             "#bd3786"
            ],
            [
             0.5555555555555556,
             "#d8576b"
            ],
            [
             0.6666666666666666,
             "#ed7953"
            ],
            [
             0.7777777777777778,
             "#fb9f3a"
            ],
            [
             0.8888888888888888,
             "#fdca26"
            ],
            [
             1,
             "#f0f921"
            ]
           ],
           "sequentialminus": [
            [
             0,
             "#0d0887"
            ],
            [
             0.1111111111111111,
             "#46039f"
            ],
            [
             0.2222222222222222,
             "#7201a8"
            ],
            [
             0.3333333333333333,
             "#9c179e"
            ],
            [
             0.4444444444444444,
             "#bd3786"
            ],
            [
             0.5555555555555556,
             "#d8576b"
            ],
            [
             0.6666666666666666,
             "#ed7953"
            ],
            [
             0.7777777777777778,
             "#fb9f3a"
            ],
            [
             0.8888888888888888,
             "#fdca26"
            ],
            [
             1,
             "#f0f921"
            ]
           ]
          },
          "colorway": [
           "#636efa",
           "#EF553B",
           "#00cc96",
           "#ab63fa",
           "#FFA15A",
           "#19d3f3",
           "#FF6692",
           "#B6E880",
           "#FF97FF",
           "#FECB52"
          ],
          "font": {
           "color": "#2a3f5f"
          },
          "geo": {
           "bgcolor": "white",
           "lakecolor": "white",
           "landcolor": "#E5ECF6",
           "showlakes": true,
           "showland": true,
           "subunitcolor": "white"
          },
          "hoverlabel": {
           "align": "left"
          },
          "hovermode": "closest",
          "mapbox": {
           "style": "light"
          },
          "paper_bgcolor": "white",
          "plot_bgcolor": "#E5ECF6",
          "polar": {
           "angularaxis": {
            "gridcolor": "white",
            "linecolor": "white",
            "ticks": ""
           },
           "bgcolor": "#E5ECF6",
           "radialaxis": {
            "gridcolor": "white",
            "linecolor": "white",
            "ticks": ""
           }
          },
          "scene": {
           "xaxis": {
            "backgroundcolor": "#E5ECF6",
            "gridcolor": "white",
            "gridwidth": 2,
            "linecolor": "white",
            "showbackground": true,
            "ticks": "",
            "zerolinecolor": "white"
           },
           "yaxis": {
            "backgroundcolor": "#E5ECF6",
            "gridcolor": "white",
            "gridwidth": 2,
            "linecolor": "white",
            "showbackground": true,
            "ticks": "",
            "zerolinecolor": "white"
           },
           "zaxis": {
            "backgroundcolor": "#E5ECF6",
            "gridcolor": "white",
            "gridwidth": 2,
            "linecolor": "white",
            "showbackground": true,
            "ticks": "",
            "zerolinecolor": "white"
           }
          },
          "shapedefaults": {
           "line": {
            "color": "#2a3f5f"
           }
          },
          "ternary": {
           "aaxis": {
            "gridcolor": "white",
            "linecolor": "white",
            "ticks": ""
           },
           "baxis": {
            "gridcolor": "white",
            "linecolor": "white",
            "ticks": ""
           },
           "bgcolor": "#E5ECF6",
           "caxis": {
            "gridcolor": "white",
            "linecolor": "white",
            "ticks": ""
           }
          },
          "title": {
           "x": 0.05
          },
          "xaxis": {
           "automargin": true,
           "gridcolor": "white",
           "linecolor": "white",
           "ticks": "",
           "title": {
            "standoff": 15
           },
           "zerolinecolor": "white",
           "zerolinewidth": 2
          },
          "yaxis": {
           "automargin": true,
           "gridcolor": "white",
           "linecolor": "white",
           "ticks": "",
           "title": {
            "standoff": 15
           },
           "zerolinecolor": "white",
           "zerolinewidth": 2
          }
         }
        },
        "title": {
         "text": "제품 카테고리 선버스트 차트"
        }
       }
      }
     },
     "metadata": {},
     "output_type": "display_data"
    }
   ],
   "source": [
    "import plotly.graph_objects as go\n",
    "\n",
    "# 데이터 설정: 계층적 구조 (전체 -> 카테고리 -> 하위 분류)\n",
    "labels = [\"전체\", \"전자제품\", \"의류\", \"식품\", \"휴대폰\", \"노트북\", \"남성의류\", \"여성의류\", \"신선식품\", \"가공식품\"]\n",
    "parents = [\"\", \"전체\", \"전체\", \"전체\", \"전자제품\", \"전자제품\", \"의류\", \"의류\", \"식품\", \"식품\"]\n",
    "values = [100, 60, 20, 20, 30, 30, 10, 10, 12, 8]\n",
    "\n",
    "fig = go.Figure(go.Sunburst(\n",
    "    labels = labels,\n",
    "    parents = parents,\n",
    "    values = values,\n",
    "    branchvalues = \"total\"\n",
    "))\n",
    "\n",
    "fig.update_layout(title=\"제품 카테고리 선버스트 차트\")\n",
    "fig.show()\n"
   ]
  },
  {
   "cell_type": "markdown",
   "metadata": {},
   "source": [
    "## 2-10: 트리맵 차트 (Treemap Chart)\n",
    "- 같은 계층적 데이터를 이용하여, 각 항목의 비중을 면적 크기로 표현하는 트리맵 차트를 만들어보세요."
   ]
  },
  {
   "cell_type": "code",
   "execution_count": 11,
   "metadata": {},
   "outputs": [
    {
     "data": {
      "application/vnd.plotly.v1+json": {
       "config": {
        "plotlyServerURL": "https://plot.ly"
       },
       "data": [
        {
         "branchvalues": "total",
         "labels": [
          "전체",
          "전자제품",
          "의류",
          "식품",
          "휴대폰",
          "노트북",
          "남성의류",
          "여성의류",
          "신선식품",
          "가공식품"
         ],
         "parents": [
          "",
          "전체",
          "전체",
          "전체",
          "전자제품",
          "전자제품",
          "의류",
          "의류",
          "식품",
          "식품"
         ],
         "type": "treemap",
         "values": [
          100,
          60,
          20,
          20,
          30,
          30,
          10,
          10,
          12,
          8
         ]
        }
       ],
       "layout": {
        "template": {
         "data": {
          "bar": [
           {
            "error_x": {
             "color": "#2a3f5f"
            },
            "error_y": {
             "color": "#2a3f5f"
            },
            "marker": {
             "line": {
              "color": "#E5ECF6",
              "width": 0.5
             },
             "pattern": {
              "fillmode": "overlay",
              "size": 10,
              "solidity": 0.2
             }
            },
            "type": "bar"
           }
          ],
          "barpolar": [
           {
            "marker": {
             "line": {
              "color": "#E5ECF6",
              "width": 0.5
             },
             "pattern": {
              "fillmode": "overlay",
              "size": 10,
              "solidity": 0.2
             }
            },
            "type": "barpolar"
           }
          ],
          "carpet": [
           {
            "aaxis": {
             "endlinecolor": "#2a3f5f",
             "gridcolor": "white",
             "linecolor": "white",
             "minorgridcolor": "white",
             "startlinecolor": "#2a3f5f"
            },
            "baxis": {
             "endlinecolor": "#2a3f5f",
             "gridcolor": "white",
             "linecolor": "white",
             "minorgridcolor": "white",
             "startlinecolor": "#2a3f5f"
            },
            "type": "carpet"
           }
          ],
          "choropleth": [
           {
            "colorbar": {
             "outlinewidth": 0,
             "ticks": ""
            },
            "type": "choropleth"
           }
          ],
          "contour": [
           {
            "colorbar": {
             "outlinewidth": 0,
             "ticks": ""
            },
            "colorscale": [
             [
              0,
              "#0d0887"
             ],
             [
              0.1111111111111111,
              "#46039f"
             ],
             [
              0.2222222222222222,
              "#7201a8"
             ],
             [
              0.3333333333333333,
              "#9c179e"
             ],
             [
              0.4444444444444444,
              "#bd3786"
             ],
             [
              0.5555555555555556,
              "#d8576b"
             ],
             [
              0.6666666666666666,
              "#ed7953"
             ],
             [
              0.7777777777777778,
              "#fb9f3a"
             ],
             [
              0.8888888888888888,
              "#fdca26"
             ],
             [
              1,
              "#f0f921"
             ]
            ],
            "type": "contour"
           }
          ],
          "contourcarpet": [
           {
            "colorbar": {
             "outlinewidth": 0,
             "ticks": ""
            },
            "type": "contourcarpet"
           }
          ],
          "heatmap": [
           {
            "colorbar": {
             "outlinewidth": 0,
             "ticks": ""
            },
            "colorscale": [
             [
              0,
              "#0d0887"
             ],
             [
              0.1111111111111111,
              "#46039f"
             ],
             [
              0.2222222222222222,
              "#7201a8"
             ],
             [
              0.3333333333333333,
              "#9c179e"
             ],
             [
              0.4444444444444444,
              "#bd3786"
             ],
             [
              0.5555555555555556,
              "#d8576b"
             ],
             [
              0.6666666666666666,
              "#ed7953"
             ],
             [
              0.7777777777777778,
              "#fb9f3a"
             ],
             [
              0.8888888888888888,
              "#fdca26"
             ],
             [
              1,
              "#f0f921"
             ]
            ],
            "type": "heatmap"
           }
          ],
          "histogram": [
           {
            "marker": {
             "pattern": {
              "fillmode": "overlay",
              "size": 10,
              "solidity": 0.2
             }
            },
            "type": "histogram"
           }
          ],
          "histogram2d": [
           {
            "colorbar": {
             "outlinewidth": 0,
             "ticks": ""
            },
            "colorscale": [
             [
              0,
              "#0d0887"
             ],
             [
              0.1111111111111111,
              "#46039f"
             ],
             [
              0.2222222222222222,
              "#7201a8"
             ],
             [
              0.3333333333333333,
              "#9c179e"
             ],
             [
              0.4444444444444444,
              "#bd3786"
             ],
             [
              0.5555555555555556,
              "#d8576b"
             ],
             [
              0.6666666666666666,
              "#ed7953"
             ],
             [
              0.7777777777777778,
              "#fb9f3a"
             ],
             [
              0.8888888888888888,
              "#fdca26"
             ],
             [
              1,
              "#f0f921"
             ]
            ],
            "type": "histogram2d"
           }
          ],
          "histogram2dcontour": [
           {
            "colorbar": {
             "outlinewidth": 0,
             "ticks": ""
            },
            "colorscale": [
             [
              0,
              "#0d0887"
             ],
             [
              0.1111111111111111,
              "#46039f"
             ],
             [
              0.2222222222222222,
              "#7201a8"
             ],
             [
              0.3333333333333333,
              "#9c179e"
             ],
             [
              0.4444444444444444,
              "#bd3786"
             ],
             [
              0.5555555555555556,
              "#d8576b"
             ],
             [
              0.6666666666666666,
              "#ed7953"
             ],
             [
              0.7777777777777778,
              "#fb9f3a"
             ],
             [
              0.8888888888888888,
              "#fdca26"
             ],
             [
              1,
              "#f0f921"
             ]
            ],
            "type": "histogram2dcontour"
           }
          ],
          "mesh3d": [
           {
            "colorbar": {
             "outlinewidth": 0,
             "ticks": ""
            },
            "type": "mesh3d"
           }
          ],
          "parcoords": [
           {
            "line": {
             "colorbar": {
              "outlinewidth": 0,
              "ticks": ""
             }
            },
            "type": "parcoords"
           }
          ],
          "pie": [
           {
            "automargin": true,
            "type": "pie"
           }
          ],
          "scatter": [
           {
            "fillpattern": {
             "fillmode": "overlay",
             "size": 10,
             "solidity": 0.2
            },
            "type": "scatter"
           }
          ],
          "scatter3d": [
           {
            "line": {
             "colorbar": {
              "outlinewidth": 0,
              "ticks": ""
             }
            },
            "marker": {
             "colorbar": {
              "outlinewidth": 0,
              "ticks": ""
             }
            },
            "type": "scatter3d"
           }
          ],
          "scattercarpet": [
           {
            "marker": {
             "colorbar": {
              "outlinewidth": 0,
              "ticks": ""
             }
            },
            "type": "scattercarpet"
           }
          ],
          "scattergeo": [
           {
            "marker": {
             "colorbar": {
              "outlinewidth": 0,
              "ticks": ""
             }
            },
            "type": "scattergeo"
           }
          ],
          "scattergl": [
           {
            "marker": {
             "colorbar": {
              "outlinewidth": 0,
              "ticks": ""
             }
            },
            "type": "scattergl"
           }
          ],
          "scattermap": [
           {
            "marker": {
             "colorbar": {
              "outlinewidth": 0,
              "ticks": ""
             }
            },
            "type": "scattermap"
           }
          ],
          "scattermapbox": [
           {
            "marker": {
             "colorbar": {
              "outlinewidth": 0,
              "ticks": ""
             }
            },
            "type": "scattermapbox"
           }
          ],
          "scatterpolar": [
           {
            "marker": {
             "colorbar": {
              "outlinewidth": 0,
              "ticks": ""
             }
            },
            "type": "scatterpolar"
           }
          ],
          "scatterpolargl": [
           {
            "marker": {
             "colorbar": {
              "outlinewidth": 0,
              "ticks": ""
             }
            },
            "type": "scatterpolargl"
           }
          ],
          "scatterternary": [
           {
            "marker": {
             "colorbar": {
              "outlinewidth": 0,
              "ticks": ""
             }
            },
            "type": "scatterternary"
           }
          ],
          "surface": [
           {
            "colorbar": {
             "outlinewidth": 0,
             "ticks": ""
            },
            "colorscale": [
             [
              0,
              "#0d0887"
             ],
             [
              0.1111111111111111,
              "#46039f"
             ],
             [
              0.2222222222222222,
              "#7201a8"
             ],
             [
              0.3333333333333333,
              "#9c179e"
             ],
             [
              0.4444444444444444,
              "#bd3786"
             ],
             [
              0.5555555555555556,
              "#d8576b"
             ],
             [
              0.6666666666666666,
              "#ed7953"
             ],
             [
              0.7777777777777778,
              "#fb9f3a"
             ],
             [
              0.8888888888888888,
              "#fdca26"
             ],
             [
              1,
              "#f0f921"
             ]
            ],
            "type": "surface"
           }
          ],
          "table": [
           {
            "cells": {
             "fill": {
              "color": "#EBF0F8"
             },
             "line": {
              "color": "white"
             }
            },
            "header": {
             "fill": {
              "color": "#C8D4E3"
             },
             "line": {
              "color": "white"
             }
            },
            "type": "table"
           }
          ]
         },
         "layout": {
          "annotationdefaults": {
           "arrowcolor": "#2a3f5f",
           "arrowhead": 0,
           "arrowwidth": 1
          },
          "autotypenumbers": "strict",
          "coloraxis": {
           "colorbar": {
            "outlinewidth": 0,
            "ticks": ""
           }
          },
          "colorscale": {
           "diverging": [
            [
             0,
             "#8e0152"
            ],
            [
             0.1,
             "#c51b7d"
            ],
            [
             0.2,
             "#de77ae"
            ],
            [
             0.3,
             "#f1b6da"
            ],
            [
             0.4,
             "#fde0ef"
            ],
            [
             0.5,
             "#f7f7f7"
            ],
            [
             0.6,
             "#e6f5d0"
            ],
            [
             0.7,
             "#b8e186"
            ],
            [
             0.8,
             "#7fbc41"
            ],
            [
             0.9,
             "#4d9221"
            ],
            [
             1,
             "#276419"
            ]
           ],
           "sequential": [
            [
             0,
             "#0d0887"
            ],
            [
             0.1111111111111111,
             "#46039f"
            ],
            [
             0.2222222222222222,
             "#7201a8"
            ],
            [
             0.3333333333333333,
             "#9c179e"
            ],
            [
             0.4444444444444444,
             "#bd3786"
            ],
            [
             0.5555555555555556,
             "#d8576b"
            ],
            [
             0.6666666666666666,
             "#ed7953"
            ],
            [
             0.7777777777777778,
             "#fb9f3a"
            ],
            [
             0.8888888888888888,
             "#fdca26"
            ],
            [
             1,
             "#f0f921"
            ]
           ],
           "sequentialminus": [
            [
             0,
             "#0d0887"
            ],
            [
             0.1111111111111111,
             "#46039f"
            ],
            [
             0.2222222222222222,
             "#7201a8"
            ],
            [
             0.3333333333333333,
             "#9c179e"
            ],
            [
             0.4444444444444444,
             "#bd3786"
            ],
            [
             0.5555555555555556,
             "#d8576b"
            ],
            [
             0.6666666666666666,
             "#ed7953"
            ],
            [
             0.7777777777777778,
             "#fb9f3a"
            ],
            [
             0.8888888888888888,
             "#fdca26"
            ],
            [
             1,
             "#f0f921"
            ]
           ]
          },
          "colorway": [
           "#636efa",
           "#EF553B",
           "#00cc96",
           "#ab63fa",
           "#FFA15A",
           "#19d3f3",
           "#FF6692",
           "#B6E880",
           "#FF97FF",
           "#FECB52"
          ],
          "font": {
           "color": "#2a3f5f"
          },
          "geo": {
           "bgcolor": "white",
           "lakecolor": "white",
           "landcolor": "#E5ECF6",
           "showlakes": true,
           "showland": true,
           "subunitcolor": "white"
          },
          "hoverlabel": {
           "align": "left"
          },
          "hovermode": "closest",
          "mapbox": {
           "style": "light"
          },
          "paper_bgcolor": "white",
          "plot_bgcolor": "#E5ECF6",
          "polar": {
           "angularaxis": {
            "gridcolor": "white",
            "linecolor": "white",
            "ticks": ""
           },
           "bgcolor": "#E5ECF6",
           "radialaxis": {
            "gridcolor": "white",
            "linecolor": "white",
            "ticks": ""
           }
          },
          "scene": {
           "xaxis": {
            "backgroundcolor": "#E5ECF6",
            "gridcolor": "white",
            "gridwidth": 2,
            "linecolor": "white",
            "showbackground": true,
            "ticks": "",
            "zerolinecolor": "white"
           },
           "yaxis": {
            "backgroundcolor": "#E5ECF6",
            "gridcolor": "white",
            "gridwidth": 2,
            "linecolor": "white",
            "showbackground": true,
            "ticks": "",
            "zerolinecolor": "white"
           },
           "zaxis": {
            "backgroundcolor": "#E5ECF6",
            "gridcolor": "white",
            "gridwidth": 2,
            "linecolor": "white",
            "showbackground": true,
            "ticks": "",
            "zerolinecolor": "white"
           }
          },
          "shapedefaults": {
           "line": {
            "color": "#2a3f5f"
           }
          },
          "ternary": {
           "aaxis": {
            "gridcolor": "white",
            "linecolor": "white",
            "ticks": ""
           },
           "baxis": {
            "gridcolor": "white",
            "linecolor": "white",
            "ticks": ""
           },
           "bgcolor": "#E5ECF6",
           "caxis": {
            "gridcolor": "white",
            "linecolor": "white",
            "ticks": ""
           }
          },
          "title": {
           "x": 0.05
          },
          "xaxis": {
           "automargin": true,
           "gridcolor": "white",
           "linecolor": "white",
           "ticks": "",
           "title": {
            "standoff": 15
           },
           "zerolinecolor": "white",
           "zerolinewidth": 2
          },
          "yaxis": {
           "automargin": true,
           "gridcolor": "white",
           "linecolor": "white",
           "ticks": "",
           "title": {
            "standoff": 15
           },
           "zerolinecolor": "white",
           "zerolinewidth": 2
          }
         }
        },
        "title": {
         "text": "제품 카테고리 트리맵 차트"
        }
       }
      }
     },
     "metadata": {},
     "output_type": "display_data"
    }
   ],
   "source": [
    "import plotly.graph_objects as go\n",
    "\n",
    "# 데이터 설정: 선버스트와 동일한 구조 사용\n",
    "labels = [\"전체\", \"전자제품\", \"의류\", \"식품\", \"휴대폰\", \"노트북\", \"남성의류\", \"여성의류\", \"신선식품\", \"가공식품\"]\n",
    "parents = [\"\", \"전체\", \"전체\", \"전체\", \"전자제품\", \"전자제품\", \"의류\", \"의류\", \"식품\", \"식품\"]\n",
    "values = [100, 60, 20, 20, 30, 30, 10, 10, 12, 8]\n",
    "\n",
    "fig = go.Figure(go.Treemap(\n",
    "    labels = labels,\n",
    "    parents = parents,\n",
    "    values = values,\n",
    "    branchvalues = \"total\"\n",
    "))\n",
    "\n",
    "fig.update_layout(title=\"제품 카테고리 트리맵 차트\")\n",
    "fig.show()\n"
   ]
  },
  {
   "cell_type": "markdown",
   "metadata": {},
   "source": [
    "## 병렬 좌표 플롯 (Parallel Coordinates Plot)\n",
    "- 다양한 특성을 가진 데이터를 대상으로 병렬 좌표 플롯을 작성하여, 각 변수 간의 관계를 시각화해보세요."
   ]
  },
  {
   "cell_type": "code",
   "execution_count": 12,
   "metadata": {},
   "outputs": [
    {
     "data": {
      "application/vnd.plotly.v1+json": {
       "config": {
        "plotlyServerURL": "https://plot.ly"
       },
       "data": [
        {
         "dimensions": [
          {
           "label": "연령",
           "values": {
            "bdata": "FBcXOx0nKTgrGiwsIBU6OyssJTktIRwdKCQZIxQmNywxJyciOzQVHTQzHis3HzA2FBQ4GTolIxgzFRU7NzofJi8UIjcgKB8YGhgXIDgiIyg3KyMhKRk3FDMZMhQ4NjEXNiE7KQ==",
            "dtype": "i1"
           }
          },
          {
           "label": "수입",
           "values": {
            "bdata": "mQhPEdAdQhH7GYobTxWLHlIYcwuTD7MSoRgCEmsdJhg4G9sPAwkgHIYcUAzjCH4c+h1DHYgMjBG4EegcTQrSCi4IshQ7H/gQGB3jEy8aGBdqDcgchAgTEd4WvRpbEMwbJhKdFUkTPQ4bG+ANaBRtG2UQPgzpB6ANjAtJD0YTRRyNDSMecRI4D3ALyx3LEhYdpQnvEN0JFw+IDmgcHwriEIYVnwh2GC0VyRdRHEYP/BKoCOgHExiiE78buhCcDvMYph7OG5UWpxI=",
            "dtype": "i2"
           }
          },
          {
           "label": "지출",
           "values": {
            "bdata": "Ew4IDPMPUAq8DHIIngqNCWUShBJXBtAR6gYDCsEIfw4dBxsFlgh8CJ0PBQorEgsODwdxETEMEQV/D2sTFhPCBpoLVA/rCgcL8Q5yEQMSlQWvBI8JJQg9DUkHFBAKD4oLQAgJDG0O0AznBgwM6AqzCQoNrQRmB50L5gg4EKYJcASlDGkMuQxYCQsNYAlDEZAEXAsMD5gEAQorBU8T5AULD1oQBgsFCNkKCRF6BPkIxQQ8DeUF6g0tDE0JdAcUBl0H5Q4qCVcSQww=",
            "dtype": "i2"
           }
          },
          {
           "label": "신용점수",
           "values": {
            "bdata": "gQLTAsoCPgJXAX8B3QKJAdoBwQL1AR4DDAN1AkgD/QE8AZYB0AFEA+sB7wFfArQBiQGDAcwBvwHzAoMBOQFmAqQBRQLWAgIDSAJAAnACQgMPAjEDLAK0AfsB+wK3ATAB0wKIAkYC3QIHAqECTgLhAigD7QJyAhYDYQGKAWcBfALPAZYB9QFYAjkBQgMkA/0B8wIAAwUDvAJkAUQCMAFdAoMCSgPFAY0CkQLDAscCSQGfAiIDMwG1AaQCwAEvAqoBQANwApwBGQI=",
            "dtype": "i2"
           }
          }
         ],
         "domain": {
          "x": [
           0,
           1
          ],
          "y": [
           0,
           1
          ]
         },
         "line": {
          "color": {
           "bdata": "mQhPEdAdQhH7GYobTxWLHlIYcwuTD7MSoRgCEmsdJhg4G9sPAwkgHIYcUAzjCH4c+h1DHYgMjBG4EegcTQrSCi4IshQ7H/gQGB3jEy8aGBdqDcgchAgTEd4WvRpbEMwbJhKdFUkTPQ4bG+ANaBRtG2UQPgzpB6ANjAtJD0YTRRyNDSMecRI4D3ALyx3LEhYdpQnvEN0JFw+IDmgcHwriEIYVnwh2GC0VyRdRHEYP/BKoCOgHExiiE78buhCcDvMYph7OG5UWpxI=",
           "dtype": "i2"
          },
          "coloraxis": "coloraxis"
         },
         "name": "",
         "type": "parcoords"
        }
       ],
       "layout": {
        "coloraxis": {
         "cmid": 5062.81,
         "colorbar": {
          "title": {
           "text": "수입"
          }
         },
         "colorscale": [
          [
           0,
           "rgb(0, 147, 146)"
          ],
          [
           0.16666666666666666,
           "rgb(114, 170, 161)"
          ],
          [
           0.3333333333333333,
           "rgb(177, 199, 179)"
          ],
          [
           0.5,
           "rgb(241, 234, 200)"
          ],
          [
           0.6666666666666666,
           "rgb(229, 185, 173)"
          ],
          [
           0.8333333333333334,
           "rgb(217, 137, 148)"
          ],
          [
           1,
           "rgb(208, 88, 126)"
          ]
         ]
        },
        "legend": {
         "tracegroupgap": 0
        },
        "margin": {
         "t": 60
        },
        "template": {
         "data": {
          "bar": [
           {
            "error_x": {
             "color": "#2a3f5f"
            },
            "error_y": {
             "color": "#2a3f5f"
            },
            "marker": {
             "line": {
              "color": "#E5ECF6",
              "width": 0.5
             },
             "pattern": {
              "fillmode": "overlay",
              "size": 10,
              "solidity": 0.2
             }
            },
            "type": "bar"
           }
          ],
          "barpolar": [
           {
            "marker": {
             "line": {
              "color": "#E5ECF6",
              "width": 0.5
             },
             "pattern": {
              "fillmode": "overlay",
              "size": 10,
              "solidity": 0.2
             }
            },
            "type": "barpolar"
           }
          ],
          "carpet": [
           {
            "aaxis": {
             "endlinecolor": "#2a3f5f",
             "gridcolor": "white",
             "linecolor": "white",
             "minorgridcolor": "white",
             "startlinecolor": "#2a3f5f"
            },
            "baxis": {
             "endlinecolor": "#2a3f5f",
             "gridcolor": "white",
             "linecolor": "white",
             "minorgridcolor": "white",
             "startlinecolor": "#2a3f5f"
            },
            "type": "carpet"
           }
          ],
          "choropleth": [
           {
            "colorbar": {
             "outlinewidth": 0,
             "ticks": ""
            },
            "type": "choropleth"
           }
          ],
          "contour": [
           {
            "colorbar": {
             "outlinewidth": 0,
             "ticks": ""
            },
            "colorscale": [
             [
              0,
              "#0d0887"
             ],
             [
              0.1111111111111111,
              "#46039f"
             ],
             [
              0.2222222222222222,
              "#7201a8"
             ],
             [
              0.3333333333333333,
              "#9c179e"
             ],
             [
              0.4444444444444444,
              "#bd3786"
             ],
             [
              0.5555555555555556,
              "#d8576b"
             ],
             [
              0.6666666666666666,
              "#ed7953"
             ],
             [
              0.7777777777777778,
              "#fb9f3a"
             ],
             [
              0.8888888888888888,
              "#fdca26"
             ],
             [
              1,
              "#f0f921"
             ]
            ],
            "type": "contour"
           }
          ],
          "contourcarpet": [
           {
            "colorbar": {
             "outlinewidth": 0,
             "ticks": ""
            },
            "type": "contourcarpet"
           }
          ],
          "heatmap": [
           {
            "colorbar": {
             "outlinewidth": 0,
             "ticks": ""
            },
            "colorscale": [
             [
              0,
              "#0d0887"
             ],
             [
              0.1111111111111111,
              "#46039f"
             ],
             [
              0.2222222222222222,
              "#7201a8"
             ],
             [
              0.3333333333333333,
              "#9c179e"
             ],
             [
              0.4444444444444444,
              "#bd3786"
             ],
             [
              0.5555555555555556,
              "#d8576b"
             ],
             [
              0.6666666666666666,
              "#ed7953"
             ],
             [
              0.7777777777777778,
              "#fb9f3a"
             ],
             [
              0.8888888888888888,
              "#fdca26"
             ],
             [
              1,
              "#f0f921"
             ]
            ],
            "type": "heatmap"
           }
          ],
          "histogram": [
           {
            "marker": {
             "pattern": {
              "fillmode": "overlay",
              "size": 10,
              "solidity": 0.2
             }
            },
            "type": "histogram"
           }
          ],
          "histogram2d": [
           {
            "colorbar": {
             "outlinewidth": 0,
             "ticks": ""
            },
            "colorscale": [
             [
              0,
              "#0d0887"
             ],
             [
              0.1111111111111111,
              "#46039f"
             ],
             [
              0.2222222222222222,
              "#7201a8"
             ],
             [
              0.3333333333333333,
              "#9c179e"
             ],
             [
              0.4444444444444444,
              "#bd3786"
             ],
             [
              0.5555555555555556,
              "#d8576b"
             ],
             [
              0.6666666666666666,
              "#ed7953"
             ],
             [
              0.7777777777777778,
              "#fb9f3a"
             ],
             [
              0.8888888888888888,
              "#fdca26"
             ],
             [
              1,
              "#f0f921"
             ]
            ],
            "type": "histogram2d"
           }
          ],
          "histogram2dcontour": [
           {
            "colorbar": {
             "outlinewidth": 0,
             "ticks": ""
            },
            "colorscale": [
             [
              0,
              "#0d0887"
             ],
             [
              0.1111111111111111,
              "#46039f"
             ],
             [
              0.2222222222222222,
              "#7201a8"
             ],
             [
              0.3333333333333333,
              "#9c179e"
             ],
             [
              0.4444444444444444,
              "#bd3786"
             ],
             [
              0.5555555555555556,
              "#d8576b"
             ],
             [
              0.6666666666666666,
              "#ed7953"
             ],
             [
              0.7777777777777778,
              "#fb9f3a"
             ],
             [
              0.8888888888888888,
              "#fdca26"
             ],
             [
              1,
              "#f0f921"
             ]
            ],
            "type": "histogram2dcontour"
           }
          ],
          "mesh3d": [
           {
            "colorbar": {
             "outlinewidth": 0,
             "ticks": ""
            },
            "type": "mesh3d"
           }
          ],
          "parcoords": [
           {
            "line": {
             "colorbar": {
              "outlinewidth": 0,
              "ticks": ""
             }
            },
            "type": "parcoords"
           }
          ],
          "pie": [
           {
            "automargin": true,
            "type": "pie"
           }
          ],
          "scatter": [
           {
            "fillpattern": {
             "fillmode": "overlay",
             "size": 10,
             "solidity": 0.2
            },
            "type": "scatter"
           }
          ],
          "scatter3d": [
           {
            "line": {
             "colorbar": {
              "outlinewidth": 0,
              "ticks": ""
             }
            },
            "marker": {
             "colorbar": {
              "outlinewidth": 0,
              "ticks": ""
             }
            },
            "type": "scatter3d"
           }
          ],
          "scattercarpet": [
           {
            "marker": {
             "colorbar": {
              "outlinewidth": 0,
              "ticks": ""
             }
            },
            "type": "scattercarpet"
           }
          ],
          "scattergeo": [
           {
            "marker": {
             "colorbar": {
              "outlinewidth": 0,
              "ticks": ""
             }
            },
            "type": "scattergeo"
           }
          ],
          "scattergl": [
           {
            "marker": {
             "colorbar": {
              "outlinewidth": 0,
              "ticks": ""
             }
            },
            "type": "scattergl"
           }
          ],
          "scattermap": [
           {
            "marker": {
             "colorbar": {
              "outlinewidth": 0,
              "ticks": ""
             }
            },
            "type": "scattermap"
           }
          ],
          "scattermapbox": [
           {
            "marker": {
             "colorbar": {
              "outlinewidth": 0,
              "ticks": ""
             }
            },
            "type": "scattermapbox"
           }
          ],
          "scatterpolar": [
           {
            "marker": {
             "colorbar": {
              "outlinewidth": 0,
              "ticks": ""
             }
            },
            "type": "scatterpolar"
           }
          ],
          "scatterpolargl": [
           {
            "marker": {
             "colorbar": {
              "outlinewidth": 0,
              "ticks": ""
             }
            },
            "type": "scatterpolargl"
           }
          ],
          "scatterternary": [
           {
            "marker": {
             "colorbar": {
              "outlinewidth": 0,
              "ticks": ""
             }
            },
            "type": "scatterternary"
           }
          ],
          "surface": [
           {
            "colorbar": {
             "outlinewidth": 0,
             "ticks": ""
            },
            "colorscale": [
             [
              0,
              "#0d0887"
             ],
             [
              0.1111111111111111,
              "#46039f"
             ],
             [
              0.2222222222222222,
              "#7201a8"
             ],
             [
              0.3333333333333333,
              "#9c179e"
             ],
             [
              0.4444444444444444,
              "#bd3786"
             ],
             [
              0.5555555555555556,
              "#d8576b"
             ],
             [
              0.6666666666666666,
              "#ed7953"
             ],
             [
              0.7777777777777778,
              "#fb9f3a"
             ],
             [
              0.8888888888888888,
              "#fdca26"
             ],
             [
              1,
              "#f0f921"
             ]
            ],
            "type": "surface"
           }
          ],
          "table": [
           {
            "cells": {
             "fill": {
              "color": "#EBF0F8"
             },
             "line": {
              "color": "white"
             }
            },
            "header": {
             "fill": {
              "color": "#C8D4E3"
             },
             "line": {
              "color": "white"
             }
            },
            "type": "table"
           }
          ]
         },
         "layout": {
          "annotationdefaults": {
           "arrowcolor": "#2a3f5f",
           "arrowhead": 0,
           "arrowwidth": 1
          },
          "autotypenumbers": "strict",
          "coloraxis": {
           "colorbar": {
            "outlinewidth": 0,
            "ticks": ""
           }
          },
          "colorscale": {
           "diverging": [
            [
             0,
             "#8e0152"
            ],
            [
             0.1,
             "#c51b7d"
            ],
            [
             0.2,
             "#de77ae"
            ],
            [
             0.3,
             "#f1b6da"
            ],
            [
             0.4,
             "#fde0ef"
            ],
            [
             0.5,
             "#f7f7f7"
            ],
            [
             0.6,
             "#e6f5d0"
            ],
            [
             0.7,
             "#b8e186"
            ],
            [
             0.8,
             "#7fbc41"
            ],
            [
             0.9,
             "#4d9221"
            ],
            [
             1,
             "#276419"
            ]
           ],
           "sequential": [
            [
             0,
             "#0d0887"
            ],
            [
             0.1111111111111111,
             "#46039f"
            ],
            [
             0.2222222222222222,
             "#7201a8"
            ],
            [
             0.3333333333333333,
             "#9c179e"
            ],
            [
             0.4444444444444444,
             "#bd3786"
            ],
            [
             0.5555555555555556,
             "#d8576b"
            ],
            [
             0.6666666666666666,
             "#ed7953"
            ],
            [
             0.7777777777777778,
             "#fb9f3a"
            ],
            [
             0.8888888888888888,
             "#fdca26"
            ],
            [
             1,
             "#f0f921"
            ]
           ],
           "sequentialminus": [
            [
             0,
             "#0d0887"
            ],
            [
             0.1111111111111111,
             "#46039f"
            ],
            [
             0.2222222222222222,
             "#7201a8"
            ],
            [
             0.3333333333333333,
             "#9c179e"
            ],
            [
             0.4444444444444444,
             "#bd3786"
            ],
            [
             0.5555555555555556,
             "#d8576b"
            ],
            [
             0.6666666666666666,
             "#ed7953"
            ],
            [
             0.7777777777777778,
             "#fb9f3a"
            ],
            [
             0.8888888888888888,
             "#fdca26"
            ],
            [
             1,
             "#f0f921"
            ]
           ]
          },
          "colorway": [
           "#636efa",
           "#EF553B",
           "#00cc96",
           "#ab63fa",
           "#FFA15A",
           "#19d3f3",
           "#FF6692",
           "#B6E880",
           "#FF97FF",
           "#FECB52"
          ],
          "font": {
           "color": "#2a3f5f"
          },
          "geo": {
           "bgcolor": "white",
           "lakecolor": "white",
           "landcolor": "#E5ECF6",
           "showlakes": true,
           "showland": true,
           "subunitcolor": "white"
          },
          "hoverlabel": {
           "align": "left"
          },
          "hovermode": "closest",
          "mapbox": {
           "style": "light"
          },
          "paper_bgcolor": "white",
          "plot_bgcolor": "#E5ECF6",
          "polar": {
           "angularaxis": {
            "gridcolor": "white",
            "linecolor": "white",
            "ticks": ""
           },
           "bgcolor": "#E5ECF6",
           "radialaxis": {
            "gridcolor": "white",
            "linecolor": "white",
            "ticks": ""
           }
          },
          "scene": {
           "xaxis": {
            "backgroundcolor": "#E5ECF6",
            "gridcolor": "white",
            "gridwidth": 2,
            "linecolor": "white",
            "showbackground": true,
            "ticks": "",
            "zerolinecolor": "white"
           },
           "yaxis": {
            "backgroundcolor": "#E5ECF6",
            "gridcolor": "white",
            "gridwidth": 2,
            "linecolor": "white",
            "showbackground": true,
            "ticks": "",
            "zerolinecolor": "white"
           },
           "zaxis": {
            "backgroundcolor": "#E5ECF6",
            "gridcolor": "white",
            "gridwidth": 2,
            "linecolor": "white",
            "showbackground": true,
            "ticks": "",
            "zerolinecolor": "white"
           }
          },
          "shapedefaults": {
           "line": {
            "color": "#2a3f5f"
           }
          },
          "ternary": {
           "aaxis": {
            "gridcolor": "white",
            "linecolor": "white",
            "ticks": ""
           },
           "baxis": {
            "gridcolor": "white",
            "linecolor": "white",
            "ticks": ""
           },
           "bgcolor": "#E5ECF6",
           "caxis": {
            "gridcolor": "white",
            "linecolor": "white",
            "ticks": ""
           }
          },
          "title": {
           "x": 0.05
          },
          "xaxis": {
           "automargin": true,
           "gridcolor": "white",
           "linecolor": "white",
           "ticks": "",
           "title": {
            "standoff": 15
           },
           "zerolinecolor": "white",
           "zerolinewidth": 2
          },
          "yaxis": {
           "automargin": true,
           "gridcolor": "white",
           "linecolor": "white",
           "ticks": "",
           "title": {
            "standoff": 15
           },
           "zerolinecolor": "white",
           "zerolinewidth": 2
          }
         }
        },
        "title": {
         "text": "병렬 좌표 플롯 예제"
        }
       }
      }
     },
     "metadata": {},
     "output_type": "display_data"
    }
   ],
   "source": [
    "import plotly.express as px\n",
    "import pandas as pd\n",
    "import numpy as np\n",
    "\n",
    "# 가상 데이터 생성: 여러 변수 (예: 연령, 수입, 지출 등)\n",
    "np.random.seed(0)\n",
    "df = pd.DataFrame({\n",
    "    \"연령\": np.random.randint(20, 60, 100),\n",
    "    \"수입\": np.random.randint(2000, 8000, 100),\n",
    "    \"지출\": np.random.randint(1000, 5000, 100),\n",
    "    \"신용점수\": np.random.randint(300, 850, 100)\n",
    "})\n",
    "\n",
    "fig = px.parallel_coordinates(df, color=\"수입\",\n",
    "                              labels={\"연령\": \"연령\", \"수입\": \"수입\", \"지출\": \"지출\", \"신용점수\": \"신용점수\"},\n",
    "                              color_continuous_scale=px.colors.diverging.Tealrose,\n",
    "                              color_continuous_midpoint=np.mean(df[\"수입\"]))\n",
    "fig.update_layout(title=\"병렬 좌표 플롯 예제\")\n",
    "fig.show()\n"
   ]
  },
  {
   "cell_type": "markdown",
   "metadata": {},
   "source": [
    "## 3D 표면 플롯 (3D Surface Plot)\n",
    "- x, y 좌표에 따른 함수 값 z = sin(sqrt(x² + y²))를 3D 표면 플롯으로 시각화해보세요."
   ]
  },
  {
   "cell_type": "code",
   "execution_count": 13,
   "metadata": {},
   "outputs": [
    {
     "data": {
      "application/vnd.plotly.v1+json": {
       "config": {
        "plotlyServerURL": "https://plot.ly"
       },
       "data": [
        {
         "colorscale": [
          [
           0,
           "#440154"
          ],
          [
           0.1111111111111111,
           "#482878"
          ],
          [
           0.2222222222222222,
           "#3e4989"
          ],
          [
           0.3333333333333333,
           "#31688e"
          ],
          [
           0.4444444444444444,
           "#26828e"
          ],
          [
           0.5555555555555556,
           "#1f9e89"
          ],
          [
           0.6666666666666666,
           "#35b779"
          ],
          [
           0.7777777777777778,
           "#6ece58"
          ],
          [
           0.8888888888888888,
           "#b5de2b"
          ],
          [
           1,
           "#fde725"
          ]
         ],
         "type": "surface",
         "x": {
          "bdata": "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",
          "dtype": "f8",
          "shape": "50, 50"
         },
         "y": {
          "bdata": "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",
          "dtype": "f8",
          "shape": "50, 50"
         },
         "z": {
          "bdata": "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",
          "dtype": "f8",
          "shape": "50, 50"
         }
        }
       ],
       "layout": {
        "scene": {
         "xaxis": {
          "title": {
           "text": "X축"
          }
         },
         "yaxis": {
          "title": {
           "text": "Y축"
          }
         },
         "zaxis": {
          "title": {
           "text": "Z값"
          }
         }
        },
        "template": {
         "data": {
          "bar": [
           {
            "error_x": {
             "color": "#2a3f5f"
            },
            "error_y": {
             "color": "#2a3f5f"
            },
            "marker": {
             "line": {
              "color": "#E5ECF6",
              "width": 0.5
             },
             "pattern": {
              "fillmode": "overlay",
              "size": 10,
              "solidity": 0.2
             }
            },
            "type": "bar"
           }
          ],
          "barpolar": [
           {
            "marker": {
             "line": {
              "color": "#E5ECF6",
              "width": 0.5
             },
             "pattern": {
              "fillmode": "overlay",
              "size": 10,
              "solidity": 0.2
             }
            },
            "type": "barpolar"
           }
          ],
          "carpet": [
           {
            "aaxis": {
             "endlinecolor": "#2a3f5f",
             "gridcolor": "white",
             "linecolor": "white",
             "minorgridcolor": "white",
             "startlinecolor": "#2a3f5f"
            },
            "baxis": {
             "endlinecolor": "#2a3f5f",
             "gridcolor": "white",
             "linecolor": "white",
             "minorgridcolor": "white",
             "startlinecolor": "#2a3f5f"
            },
            "type": "carpet"
           }
          ],
          "choropleth": [
           {
            "colorbar": {
             "outlinewidth": 0,
             "ticks": ""
            },
            "type": "choropleth"
           }
          ],
          "contour": [
           {
            "colorbar": {
             "outlinewidth": 0,
             "ticks": ""
            },
            "colorscale": [
             [
              0,
              "#0d0887"
             ],
             [
              0.1111111111111111,
              "#46039f"
             ],
             [
              0.2222222222222222,
              "#7201a8"
             ],
             [
              0.3333333333333333,
              "#9c179e"
             ],
             [
              0.4444444444444444,
              "#bd3786"
             ],
             [
              0.5555555555555556,
              "#d8576b"
             ],
             [
              0.6666666666666666,
              "#ed7953"
             ],
             [
              0.7777777777777778,
              "#fb9f3a"
             ],
             [
              0.8888888888888888,
              "#fdca26"
             ],
             [
              1,
              "#f0f921"
             ]
            ],
            "type": "contour"
           }
          ],
          "contourcarpet": [
           {
            "colorbar": {
             "outlinewidth": 0,
             "ticks": ""
            },
            "type": "contourcarpet"
           }
          ],
          "heatmap": [
           {
            "colorbar": {
             "outlinewidth": 0,
             "ticks": ""
            },
            "colorscale": [
             [
              0,
              "#0d0887"
             ],
             [
              0.1111111111111111,
              "#46039f"
             ],
             [
              0.2222222222222222,
              "#7201a8"
             ],
             [
              0.3333333333333333,
              "#9c179e"
             ],
             [
              0.4444444444444444,
              "#bd3786"
             ],
             [
              0.5555555555555556,
              "#d8576b"
             ],
             [
              0.6666666666666666,
              "#ed7953"
             ],
             [
              0.7777777777777778,
              "#fb9f3a"
             ],
             [
              0.8888888888888888,
              "#fdca26"
             ],
             [
              1,
              "#f0f921"
             ]
            ],
            "type": "heatmap"
           }
          ],
          "histogram": [
           {
            "marker": {
             "pattern": {
              "fillmode": "overlay",
              "size": 10,
              "solidity": 0.2
             }
            },
            "type": "histogram"
           }
          ],
          "histogram2d": [
           {
            "colorbar": {
             "outlinewidth": 0,
             "ticks": ""
            },
            "colorscale": [
             [
              0,
              "#0d0887"
             ],
             [
              0.1111111111111111,
              "#46039f"
             ],
             [
              0.2222222222222222,
              "#7201a8"
             ],
             [
              0.3333333333333333,
              "#9c179e"
             ],
             [
              0.4444444444444444,
              "#bd3786"
             ],
             [
              0.5555555555555556,
              "#d8576b"
             ],
             [
              0.6666666666666666,
              "#ed7953"
             ],
             [
              0.7777777777777778,
              "#fb9f3a"
             ],
             [
              0.8888888888888888,
              "#fdca26"
             ],
             [
              1,
              "#f0f921"
             ]
            ],
            "type": "histogram2d"
           }
          ],
          "histogram2dcontour": [
           {
            "colorbar": {
             "outlinewidth": 0,
             "ticks": ""
            },
            "colorscale": [
             [
              0,
              "#0d0887"
             ],
             [
              0.1111111111111111,
              "#46039f"
             ],
             [
              0.2222222222222222,
              "#7201a8"
             ],
             [
              0.3333333333333333,
              "#9c179e"
             ],
             [
              0.4444444444444444,
              "#bd3786"
             ],
             [
              0.5555555555555556,
              "#d8576b"
             ],
             [
              0.6666666666666666,
              "#ed7953"
             ],
             [
              0.7777777777777778,
              "#fb9f3a"
             ],
             [
              0.8888888888888888,
              "#fdca26"
             ],
             [
              1,
              "#f0f921"
             ]
            ],
            "type": "histogram2dcontour"
           }
          ],
          "mesh3d": [
           {
            "colorbar": {
             "outlinewidth": 0,
             "ticks": ""
            },
            "type": "mesh3d"
           }
          ],
          "parcoords": [
           {
            "line": {
             "colorbar": {
              "outlinewidth": 0,
              "ticks": ""
             }
            },
            "type": "parcoords"
           }
          ],
          "pie": [
           {
            "automargin": true,
            "type": "pie"
           }
          ],
          "scatter": [
           {
            "fillpattern": {
             "fillmode": "overlay",
             "size": 10,
             "solidity": 0.2
            },
            "type": "scatter"
           }
          ],
          "scatter3d": [
           {
            "line": {
             "colorbar": {
              "outlinewidth": 0,
              "ticks": ""
             }
            },
            "marker": {
             "colorbar": {
              "outlinewidth": 0,
              "ticks": ""
             }
            },
            "type": "scatter3d"
           }
          ],
          "scattercarpet": [
           {
            "marker": {
             "colorbar": {
              "outlinewidth": 0,
              "ticks": ""
             }
            },
            "type": "scattercarpet"
           }
          ],
          "scattergeo": [
           {
            "marker": {
             "colorbar": {
              "outlinewidth": 0,
              "ticks": ""
             }
            },
            "type": "scattergeo"
           }
          ],
          "scattergl": [
           {
            "marker": {
             "colorbar": {
              "outlinewidth": 0,
              "ticks": ""
             }
            },
            "type": "scattergl"
           }
          ],
          "scattermap": [
           {
            "marker": {
             "colorbar": {
              "outlinewidth": 0,
              "ticks": ""
             }
            },
            "type": "scattermap"
           }
          ],
          "scattermapbox": [
           {
            "marker": {
             "colorbar": {
              "outlinewidth": 0,
              "ticks": ""
             }
            },
            "type": "scattermapbox"
           }
          ],
          "scatterpolar": [
           {
            "marker": {
             "colorbar": {
              "outlinewidth": 0,
              "ticks": ""
             }
            },
            "type": "scatterpolar"
           }
          ],
          "scatterpolargl": [
           {
            "marker": {
             "colorbar": {
              "outlinewidth": 0,
              "ticks": ""
             }
            },
            "type": "scatterpolargl"
           }
          ],
          "scatterternary": [
           {
            "marker": {
             "colorbar": {
              "outlinewidth": 0,
              "ticks": ""
             }
            },
            "type": "scatterternary"
           }
          ],
          "surface": [
           {
            "colorbar": {
             "outlinewidth": 0,
             "ticks": ""
            },
            "colorscale": [
             [
              0,
              "#0d0887"
             ],
             [
              0.1111111111111111,
              "#46039f"
             ],
             [
              0.2222222222222222,
              "#7201a8"
             ],
             [
              0.3333333333333333,
              "#9c179e"
             ],
             [
              0.4444444444444444,
              "#bd3786"
             ],
             [
              0.5555555555555556,
              "#d8576b"
             ],
             [
              0.6666666666666666,
              "#ed7953"
             ],
             [
              0.7777777777777778,
              "#fb9f3a"
             ],
             [
              0.8888888888888888,
              "#fdca26"
             ],
             [
              1,
              "#f0f921"
             ]
            ],
            "type": "surface"
           }
          ],
          "table": [
           {
            "cells": {
             "fill": {
              "color": "#EBF0F8"
             },
             "line": {
              "color": "white"
             }
            },
            "header": {
             "fill": {
              "color": "#C8D4E3"
             },
             "line": {
              "color": "white"
             }
            },
            "type": "table"
           }
          ]
         },
         "layout": {
          "annotationdefaults": {
           "arrowcolor": "#2a3f5f",
           "arrowhead": 0,
           "arrowwidth": 1
          },
          "autotypenumbers": "strict",
          "coloraxis": {
           "colorbar": {
            "outlinewidth": 0,
            "ticks": ""
           }
          },
          "colorscale": {
           "diverging": [
            [
             0,
             "#8e0152"
            ],
            [
             0.1,
             "#c51b7d"
            ],
            [
             0.2,
             "#de77ae"
            ],
            [
             0.3,
             "#f1b6da"
            ],
            [
             0.4,
             "#fde0ef"
            ],
            [
             0.5,
             "#f7f7f7"
            ],
            [
             0.6,
             "#e6f5d0"
            ],
            [
             0.7,
             "#b8e186"
            ],
            [
             0.8,
             "#7fbc41"
            ],
            [
             0.9,
             "#4d9221"
            ],
            [
             1,
             "#276419"
            ]
           ],
           "sequential": [
            [
             0,
             "#0d0887"
            ],
            [
             0.1111111111111111,
             "#46039f"
            ],
            [
             0.2222222222222222,
             "#7201a8"
            ],
            [
             0.3333333333333333,
             "#9c179e"
            ],
            [
             0.4444444444444444,
             "#bd3786"
            ],
            [
             0.5555555555555556,
             "#d8576b"
            ],
            [
             0.6666666666666666,
             "#ed7953"
            ],
            [
             0.7777777777777778,
             "#fb9f3a"
            ],
            [
             0.8888888888888888,
             "#fdca26"
            ],
            [
             1,
             "#f0f921"
            ]
           ],
           "sequentialminus": [
            [
             0,
             "#0d0887"
            ],
            [
             0.1111111111111111,
             "#46039f"
            ],
            [
             0.2222222222222222,
             "#7201a8"
            ],
            [
             0.3333333333333333,
             "#9c179e"
            ],
            [
             0.4444444444444444,
             "#bd3786"
            ],
            [
             0.5555555555555556,
             "#d8576b"
            ],
            [
             0.6666666666666666,
             "#ed7953"
            ],
            [
             0.7777777777777778,
             "#fb9f3a"
            ],
            [
             0.8888888888888888,
             "#fdca26"
            ],
            [
             1,
             "#f0f921"
            ]
           ]
          },
          "colorway": [
           "#636efa",
           "#EF553B",
           "#00cc96",
           "#ab63fa",
           "#FFA15A",
           "#19d3f3",
           "#FF6692",
           "#B6E880",
           "#FF97FF",
           "#FECB52"
          ],
          "font": {
           "color": "#2a3f5f"
          },
          "geo": {
           "bgcolor": "white",
           "lakecolor": "white",
           "landcolor": "#E5ECF6",
           "showlakes": true,
           "showland": true,
           "subunitcolor": "white"
          },
          "hoverlabel": {
           "align": "left"
          },
          "hovermode": "closest",
          "mapbox": {
           "style": "light"
          },
          "paper_bgcolor": "white",
          "plot_bgcolor": "#E5ECF6",
          "polar": {
           "angularaxis": {
            "gridcolor": "white",
            "linecolor": "white",
            "ticks": ""
           },
           "bgcolor": "#E5ECF6",
           "radialaxis": {
            "gridcolor": "white",
            "linecolor": "white",
            "ticks": ""
           }
          },
          "scene": {
           "xaxis": {
            "backgroundcolor": "#E5ECF6",
            "gridcolor": "white",
            "gridwidth": 2,
            "linecolor": "white",
            "showbackground": true,
            "ticks": "",
            "zerolinecolor": "white"
           },
           "yaxis": {
            "backgroundcolor": "#E5ECF6",
            "gridcolor": "white",
            "gridwidth": 2,
            "linecolor": "white",
            "showbackground": true,
            "ticks": "",
            "zerolinecolor": "white"
           },
           "zaxis": {
            "backgroundcolor": "#E5ECF6",
            "gridcolor": "white",
            "gridwidth": 2,
            "linecolor": "white",
            "showbackground": true,
            "ticks": "",
            "zerolinecolor": "white"
           }
          },
          "shapedefaults": {
           "line": {
            "color": "#2a3f5f"
           }
          },
          "ternary": {
           "aaxis": {
            "gridcolor": "white",
            "linecolor": "white",
            "ticks": ""
           },
           "baxis": {
            "gridcolor": "white",
            "linecolor": "white",
            "ticks": ""
           },
           "bgcolor": "#E5ECF6",
           "caxis": {
            "gridcolor": "white",
            "linecolor": "white",
            "ticks": ""
           }
          },
          "title": {
           "x": 0.05
          },
          "xaxis": {
           "automargin": true,
           "gridcolor": "white",
           "linecolor": "white",
           "ticks": "",
           "title": {
            "standoff": 15
           },
           "zerolinecolor": "white",
           "zerolinewidth": 2
          },
          "yaxis": {
           "automargin": true,
           "gridcolor": "white",
           "linecolor": "white",
           "ticks": "",
           "title": {
            "standoff": 15
           },
           "zerolinecolor": "white",
           "zerolinewidth": 2
          }
         }
        },
        "title": {
         "text": "3D 표면 플롯 예제"
        }
       }
      }
     },
     "metadata": {},
     "output_type": "display_data"
    }
   ],
   "source": [
    "import plotly.graph_objects as go\n",
    "import numpy as np\n",
    "\n",
    "# 데이터 생성: x, y 좌표 및 함수 값 z\n",
    "x = np.linspace(-5, 5, 50)\n",
    "y = np.linspace(-5, 5, 50)\n",
    "x_grid, y_grid = np.meshgrid(x, y)\n",
    "z_grid = np.sin(np.sqrt(x_grid**2 + y_grid**2))\n",
    "\n",
    "fig = go.Figure(data=[go.Surface(x=x_grid, y=y_grid, z=z_grid, colorscale='Viridis')])\n",
    "fig.update_layout(title=\"3D 표면 플롯 예제\", scene=dict(\n",
    "    xaxis_title='X축',\n",
    "    yaxis_title='Y축',\n",
    "    zaxis_title='Z값'\n",
    "))\n",
    "fig.show()\n"
   ]
  },
  {
   "cell_type": "markdown",
   "metadata": {},
   "source": [
    "## 2-13: 산점도 행렬 (Scatter Matrix)\n",
    "- 여러 변수 간의 관계를 한눈에 파악할 수 있도록, Iris 데이터셋을 활용하여 산점도 행렬을 만들어보세요."
   ]
  },
  {
   "cell_type": "code",
   "execution_count": 14,
   "metadata": {},
   "outputs": [
    {
     "data": {
      "application/vnd.plotly.v1+json": {
       "config": {
        "plotlyServerURL": "https://plot.ly"
       },
       "data": [
        {
         "dimensions": [
          {
           "axis": {
            "matches": true
           },
           "label": "sepal_length",
           "values": {
            "bdata": "ZmZmZmZmFECamZmZmZkTQM3MzMzMzBJAZmZmZmZmEkAAAAAAAAAUQJqZmZmZmRVAZmZmZmZmEkAAAAAAAAAUQJqZmZmZmRFAmpmZmZmZE0CamZmZmZkVQDMzMzMzMxNAMzMzMzMzE0AzMzMzMzMRQDMzMzMzMxdAzczMzMzMFkCamZmZmZkVQGZmZmZmZhRAzczMzMzMFkBmZmZmZmYUQJqZmZmZmRVAZmZmZmZmFEBmZmZmZmYSQGZmZmZmZhRAMzMzMzMzE0AAAAAAAAAUQAAAAAAAABRAzczMzMzMFEDNzMzMzMwUQM3MzMzMzBJAMzMzMzMzE0CamZmZmZkVQM3MzMzMzBRAAAAAAAAAFkCamZmZmZkTQAAAAAAAABRAAAAAAAAAFkCamZmZmZkTQJqZmZmZmRFAZmZmZmZmFEAAAAAAAAAUQAAAAAAAABJAmpmZmZmZEUAAAAAAAAAUQGZmZmZmZhRAMzMzMzMzE0BmZmZmZmYUQGZmZmZmZhJAMzMzMzMzFUAAAAAAAAAUQA==",
            "dtype": "f8"
           }
          },
          {
           "axis": {
            "matches": true
           },
           "label": "sepal_width",
           "values": {
            "bdata": "AAAAAAAADEAAAAAAAAAIQJqZmZmZmQlAzczMzMzMCEDNzMzMzMwMQDMzMzMzMw9AMzMzMzMzC0AzMzMzMzMLQDMzMzMzMwdAzczMzMzMCECamZmZmZkNQDMzMzMzMwtAAAAAAAAACEAAAAAAAAAIQAAAAAAAABBAmpmZmZmZEUAzMzMzMzMPQAAAAAAAAAxAZmZmZmZmDkBmZmZmZmYOQDMzMzMzMwtAmpmZmZmZDUDNzMzMzMwMQGZmZmZmZgpAMzMzMzMzC0AAAAAAAAAIQDMzMzMzMwtAAAAAAAAADEAzMzMzMzMLQJqZmZmZmQlAzczMzMzMCEAzMzMzMzMLQGZmZmZmZhBAzczMzMzMEEDNzMzMzMwIQJqZmZmZmQlAAAAAAAAADEDNzMzMzMwIQAAAAAAAAAhAMzMzMzMzC0AAAAAAAAAMQGZmZmZmZgJAmpmZmZmZCUAAAAAAAAAMQGZmZmZmZg5AAAAAAAAACEBmZmZmZmYOQJqZmZmZmQlAmpmZmZmZDUBmZmZmZmYKQA==",
            "dtype": "f8"
           }
          },
          {
           "axis": {
            "matches": true
           },
           "label": "petal_length",
           "values": {
            "bdata": "ZmZmZmZm9j9mZmZmZmb2P83MzMzMzPQ/AAAAAAAA+D9mZmZmZmb2PzMzMzMzM/s/ZmZmZmZm9j8AAAAAAAD4P2ZmZmZmZvY/AAAAAAAA+D8AAAAAAAD4P5qZmZmZmfk/ZmZmZmZm9j+amZmZmZnxPzMzMzMzM/M/AAAAAAAA+D/NzMzMzMz0P2ZmZmZmZvY/MzMzMzMz+z8AAAAAAAD4PzMzMzMzM/s/AAAAAAAA+D8AAAAAAADwPzMzMzMzM/s/ZmZmZmZm/j+amZmZmZn5P5qZmZmZmfk/AAAAAAAA+D9mZmZmZmb2P5qZmZmZmfk/mpmZmZmZ+T8AAAAAAAD4PwAAAAAAAPg/ZmZmZmZm9j8AAAAAAAD4PzMzMzMzM/M/zczMzMzM9D8AAAAAAAD4P83MzMzMzPQ/AAAAAAAA+D/NzMzMzMz0P83MzMzMzPQ/zczMzMzM9D+amZmZmZn5P2ZmZmZmZv4/ZmZmZmZm9j+amZmZmZn5P2ZmZmZmZvY/AAAAAAAA+D9mZmZmZmb2Pw==",
            "dtype": "f8"
           }
          },
          {
           "axis": {
            "matches": true
           },
           "label": "petal_width",
           "values": {
            "bdata": "mpmZmZmZyT+amZmZmZnJP5qZmZmZmck/mpmZmZmZyT+amZmZmZnJP5qZmZmZmdk/MzMzMzMz0z+amZmZmZnJP5qZmZmZmck/mpmZmZmZuT+amZmZmZnJP5qZmZmZmck/mpmZmZmZuT+amZmZmZm5P5qZmZmZmck/mpmZmZmZ2T+amZmZmZnZPzMzMzMzM9M/MzMzMzMz0z8zMzMzMzPTP5qZmZmZmck/mpmZmZmZ2T+amZmZmZnJPwAAAAAAAOA/mpmZmZmZyT+amZmZmZnJP5qZmZmZmdk/mpmZmZmZyT+amZmZmZnJP5qZmZmZmck/mpmZmZmZyT+amZmZmZnZP5qZmZmZmbk/mpmZmZmZyT+amZmZmZm5P5qZmZmZmck/mpmZmZmZyT+amZmZmZm5P5qZmZmZmck/mpmZmZmZyT8zMzMzMzPTPzMzMzMzM9M/mpmZmZmZyT8zMzMzMzPjP5qZmZmZmdk/MzMzMzMz0z+amZmZmZnJP5qZmZmZmck/mpmZmZmZyT+amZmZmZnJPw==",
            "dtype": "f8"
           }
          }
         ],
         "hovertemplate": "species=setosa<br>%{xaxis.title.text}=%{x}<br>%{yaxis.title.text}=%{y}<extra></extra>",
         "legendgroup": "setosa",
         "marker": {
          "color": "#636efa",
          "symbol": "circle"
         },
         "name": "setosa",
         "showlegend": true,
         "type": "splom"
        },
        {
         "dimensions": [
          {
           "axis": {
            "matches": true
           },
           "label": "sepal_length",
           "values": {
            "bdata": "AAAAAAAAHECamZmZmZkZQJqZmZmZmRtAAAAAAAAAFkAAAAAAAAAaQM3MzMzMzBZAMzMzMzMzGUCamZmZmZkTQGZmZmZmZhpAzczMzMzMFEAAAAAAAAAUQJqZmZmZmRdAAAAAAAAAGEBmZmZmZmYYQGZmZmZmZhZAzczMzMzMGkBmZmZmZmYWQDMzMzMzMxdAzczMzMzMGEBmZmZmZmYWQJqZmZmZmRdAZmZmZmZmGEAzMzMzMzMZQGZmZmZmZhhAmpmZmZmZGUBmZmZmZmYaQDMzMzMzMxtAzczMzMzMGkAAAAAAAAAYQM3MzMzMzBZAAAAAAAAAFkAAAAAAAAAWQDMzMzMzMxdAAAAAAAAAGECamZmZmZkVQAAAAAAAABhAzczMzMzMGkAzMzMzMzMZQGZmZmZmZhZAAAAAAAAAFkAAAAAAAAAWQGZmZmZmZhhAMzMzMzMzF0AAAAAAAAAUQGZmZmZmZhZAzczMzMzMFkDNzMzMzMwWQM3MzMzMzBhAZmZmZmZmFEDNzMzMzMwWQA==",
            "dtype": "f8"
           }
          },
          {
           "axis": {
            "matches": true
           },
           "label": "sepal_width",
           "values": {
            "bdata": "mpmZmZmZCUCamZmZmZkJQM3MzMzMzAhAZmZmZmZmAkBmZmZmZmYGQGZmZmZmZgZAZmZmZmZmCkAzMzMzMzMDQDMzMzMzMwdAmpmZmZmZBUAAAAAAAAAAQAAAAAAAAAhAmpmZmZmZAUAzMzMzMzMHQDMzMzMzMwdAzczMzMzMCEAAAAAAAAAIQJqZmZmZmQVAmpmZmZmZAUAAAAAAAAAEQJqZmZmZmQlAZmZmZmZmBkAAAAAAAAAEQGZmZmZmZgZAMzMzMzMzB0AAAAAAAAAIQGZmZmZmZgZAAAAAAAAACEAzMzMzMzMHQM3MzMzMzARAMzMzMzMzA0AzMzMzMzMDQJqZmZmZmQVAmpmZmZmZBUAAAAAAAAAIQDMzMzMzMwtAzczMzMzMCEBmZmZmZmYCQAAAAAAAAAhAAAAAAAAABEDNzMzMzMwEQAAAAAAAAAhAzczMzMzMBEBmZmZmZmYCQJqZmZmZmQVAAAAAAAAACEAzMzMzMzMHQDMzMzMzMwdAAAAAAAAABEBmZmZmZmYGQA==",
            "dtype": "f8"
           }
          },
          {
           "axis": {
            "matches": true
           },
           "label": "petal_length",
           "values": {
            "bdata": "zczMzMzMEkAAAAAAAAASQJqZmZmZmRNAAAAAAAAAEEBmZmZmZmYSQAAAAAAAABJAzczMzMzMEkBmZmZmZmYKQGZmZmZmZhJAMzMzMzMzD0AAAAAAAAAMQM3MzMzMzBBAAAAAAAAAEEDNzMzMzMwSQM3MzMzMzAxAmpmZmZmZEUAAAAAAAAASQGZmZmZmZhBAAAAAAAAAEkAzMzMzMzMPQDMzMzMzMxNAAAAAAAAAEECamZmZmZkTQM3MzMzMzBJAMzMzMzMzEUCamZmZmZkRQDMzMzMzMxNAAAAAAAAAFEAAAAAAAAASQAAAAAAAAAxAZmZmZmZmDkCamZmZmZkNQDMzMzMzMw9AZmZmZmZmFEAAAAAAAAASQAAAAAAAABJAzczMzMzMEkCamZmZmZkRQGZmZmZmZhBAAAAAAAAAEECamZmZmZkRQGZmZmZmZhJAAAAAAAAAEEBmZmZmZmYKQM3MzMzMzBBAzczMzMzMEEDNzMzMzMwQQDMzMzMzMxFAAAAAAAAACEBmZmZmZmYQQA==",
            "dtype": "f8"
           }
          },
          {
           "axis": {
            "matches": true
           },
           "label": "petal_width",
           "values": {
            "bdata": "ZmZmZmZm9j8AAAAAAAD4PwAAAAAAAPg/zczMzMzM9D8AAAAAAAD4P83MzMzMzPQ/mpmZmZmZ+T8AAAAAAADwP83MzMzMzPQ/ZmZmZmZm9j8AAAAAAADwPwAAAAAAAPg/AAAAAAAA8D9mZmZmZmb2P83MzMzMzPQ/ZmZmZmZm9j8AAAAAAAD4PwAAAAAAAPA/AAAAAAAA+D+amZmZmZnxP83MzMzMzPw/zczMzMzM9D8AAAAAAAD4PzMzMzMzM/M/zczMzMzM9D9mZmZmZmb2P2ZmZmZmZvY/MzMzMzMz+z8AAAAAAAD4PwAAAAAAAPA/mpmZmZmZ8T8AAAAAAADwPzMzMzMzM/M/mpmZmZmZ+T8AAAAAAAD4P5qZmZmZmfk/AAAAAAAA+D/NzMzMzMz0P83MzMzMzPQ/zczMzMzM9D8zMzMzMzPzP2ZmZmZmZvY/MzMzMzMz8z8AAAAAAADwP83MzMzMzPQ/MzMzMzMz8z/NzMzMzMz0P83MzMzMzPQ/mpmZmZmZ8T/NzMzMzMz0Pw==",
            "dtype": "f8"
           }
          }
         ],
         "hovertemplate": "species=versicolor<br>%{xaxis.title.text}=%{x}<br>%{yaxis.title.text}=%{y}<extra></extra>",
         "legendgroup": "versicolor",
         "marker": {
          "color": "#EF553B",
          "symbol": "circle"
         },
         "name": "versicolor",
         "showlegend": true,
         "type": "splom"
        },
        {
         "dimensions": [
          {
           "axis": {
            "matches": true
           },
           "label": "sepal_length",
           "values": {
            "bdata": "MzMzMzMzGUAzMzMzMzMXQGZmZmZmZhxAMzMzMzMzGUAAAAAAAAAaQGZmZmZmZh5AmpmZmZmZE0AzMzMzMzMdQM3MzMzMzBpAzczMzMzMHEAAAAAAAAAaQJqZmZmZmRlAMzMzMzMzG0DNzMzMzMwWQDMzMzMzMxdAmpmZmZmZGUAAAAAAAAAaQM3MzMzMzB5AzczMzMzMHkAAAAAAAAAYQJqZmZmZmRtAZmZmZmZmFkDNzMzMzMweQDMzMzMzMxlAzczMzMzMGkDNzMzMzMwcQM3MzMzMzBhAZmZmZmZmGECamZmZmZkZQM3MzMzMzBxAmpmZmZmZHUCamZmZmZkfQJqZmZmZmRlAMzMzMzMzGUBmZmZmZmYYQM3MzMzMzB5AMzMzMzMzGUCamZmZmZkZQAAAAAAAABhAmpmZmZmZG0DNzMzMzMwaQJqZmZmZmRtAMzMzMzMzF0AzMzMzMzMbQM3MzMzMzBpAzczMzMzMGkAzMzMzMzMZQAAAAAAAABpAzczMzMzMGECamZmZmZkXQA==",
            "dtype": "f8"
           }
          },
          {
           "axis": {
            "matches": true
           },
           "label": "sepal_width",
           "values": {
            "bdata": "ZmZmZmZmCkCamZmZmZkFQAAAAAAAAAhAMzMzMzMzB0AAAAAAAAAIQAAAAAAAAAhAAAAAAAAABEAzMzMzMzMHQAAAAAAAAARAzczMzMzMDECamZmZmZkJQJqZmZmZmQVAAAAAAAAACEAAAAAAAAAEQGZmZmZmZgZAmpmZmZmZCUAAAAAAAAAIQGZmZmZmZg5AzczMzMzMBECamZmZmZkBQJqZmZmZmQlAZmZmZmZmBkBmZmZmZmYGQJqZmZmZmQVAZmZmZmZmCkCamZmZmZkJQGZmZmZmZgZAAAAAAAAACEBmZmZmZmYGQAAAAAAAAAhAZmZmZmZmBkBmZmZmZmYOQGZmZmZmZgZAZmZmZmZmBkDNzMzMzMwEQAAAAAAAAAhAMzMzMzMzC0DNzMzMzMwIQAAAAAAAAAhAzczMzMzMCEDNzMzMzMwIQM3MzMzMzAhAmpmZmZmZBUCamZmZmZkJQGZmZmZmZgpAAAAAAAAACEAAAAAAAAAEQAAAAAAAAAhAMzMzMzMzC0AAAAAAAAAIQA==",
            "dtype": "f8"
           }
          },
          {
           "axis": {
            "matches": true
           },
           "label": "petal_length",
           "values": {
            "bdata": "AAAAAAAAGEBmZmZmZmYUQJqZmZmZmRdAZmZmZmZmFkAzMzMzMzMXQGZmZmZmZhpAAAAAAAAAEkAzMzMzMzMZQDMzMzMzMxdAZmZmZmZmGEBmZmZmZmYUQDMzMzMzMxVAAAAAAAAAFkAAAAAAAAAUQGZmZmZmZhRAMzMzMzMzFUAAAAAAAAAWQM3MzMzMzBpAmpmZmZmZG0AAAAAAAAAUQM3MzMzMzBZAmpmZmZmZE0DNzMzMzMwaQJqZmZmZmRNAzczMzMzMFkAAAAAAAAAYQDMzMzMzMxNAmpmZmZmZE0BmZmZmZmYWQDMzMzMzMxdAZmZmZmZmGECamZmZmZkZQGZmZmZmZhZAZmZmZmZmFEBmZmZmZmYWQGZmZmZmZhhAZmZmZmZmFkAAAAAAAAAWQDMzMzMzMxNAmpmZmZmZFUBmZmZmZmYWQGZmZmZmZhRAZmZmZmZmFECamZmZmZkXQM3MzMzMzBZAzczMzMzMFEAAAAAAAAAUQM3MzMzMzBRAmpmZmZmZFUBmZmZmZmYUQA==",
            "dtype": "f8"
           }
          },
          {
           "axis": {
            "matches": true
           },
           "label": "petal_width",
           "values": {
            "bdata": "AAAAAAAABEBmZmZmZmb+P83MzMzMzABAzczMzMzM/D+amZmZmZkBQM3MzMzMzABAMzMzMzMz+z/NzMzMzMz8P83MzMzMzPw/AAAAAAAABEAAAAAAAAAAQGZmZmZmZv4/zczMzMzMAEAAAAAAAAAAQDMzMzMzMwNAZmZmZmZmAkDNzMzMzMz8P5qZmZmZmQFAZmZmZmZmAkAAAAAAAAD4P2ZmZmZmZgJAAAAAAAAAAEAAAAAAAAAAQM3MzMzMzPw/zczMzMzMAEDNzMzMzMz8P83MzMzMzPw/zczMzMzM/D/NzMzMzMwAQJqZmZmZmfk/ZmZmZmZm/j8AAAAAAAAAQJqZmZmZmQFAAAAAAAAA+D9mZmZmZmb2P2ZmZmZmZgJAMzMzMzMzA0DNzMzMzMz8P83MzMzMzPw/zczMzMzMAEAzMzMzMzMDQGZmZmZmZgJAZmZmZmZm/j9mZmZmZmYCQAAAAAAAAARAZmZmZmZmAkBmZmZmZmb+PwAAAAAAAABAZmZmZmZmAkDNzMzMzMz8Pw==",
            "dtype": "f8"
           }
          }
         ],
         "hovertemplate": "species=virginica<br>%{xaxis.title.text}=%{x}<br>%{yaxis.title.text}=%{y}<extra></extra>",
         "legendgroup": "virginica",
         "marker": {
          "color": "#00cc96",
          "symbol": "circle"
         },
         "name": "virginica",
         "showlegend": true,
         "type": "splom"
        }
       ],
       "layout": {
        "dragmode": "select",
        "height": 800,
        "legend": {
         "title": {
          "text": "species"
         },
         "tracegroupgap": 0
        },
        "template": {
         "data": {
          "bar": [
           {
            "error_x": {
             "color": "#2a3f5f"
            },
            "error_y": {
             "color": "#2a3f5f"
            },
            "marker": {
             "line": {
              "color": "#E5ECF6",
              "width": 0.5
             },
             "pattern": {
              "fillmode": "overlay",
              "size": 10,
              "solidity": 0.2
             }
            },
            "type": "bar"
           }
          ],
          "barpolar": [
           {
            "marker": {
             "line": {
              "color": "#E5ECF6",
              "width": 0.5
             },
             "pattern": {
              "fillmode": "overlay",
              "size": 10,
              "solidity": 0.2
             }
            },
            "type": "barpolar"
           }
          ],
          "carpet": [
           {
            "aaxis": {
             "endlinecolor": "#2a3f5f",
             "gridcolor": "white",
             "linecolor": "white",
             "minorgridcolor": "white",
             "startlinecolor": "#2a3f5f"
            },
            "baxis": {
             "endlinecolor": "#2a3f5f",
             "gridcolor": "white",
             "linecolor": "white",
             "minorgridcolor": "white",
             "startlinecolor": "#2a3f5f"
            },
            "type": "carpet"
           }
          ],
          "choropleth": [
           {
            "colorbar": {
             "outlinewidth": 0,
             "ticks": ""
            },
            "type": "choropleth"
           }
          ],
          "contour": [
           {
            "colorbar": {
             "outlinewidth": 0,
             "ticks": ""
            },
            "colorscale": [
             [
              0,
              "#0d0887"
             ],
             [
              0.1111111111111111,
              "#46039f"
             ],
             [
              0.2222222222222222,
              "#7201a8"
             ],
             [
              0.3333333333333333,
              "#9c179e"
             ],
             [
              0.4444444444444444,
              "#bd3786"
             ],
             [
              0.5555555555555556,
              "#d8576b"
             ],
             [
              0.6666666666666666,
              "#ed7953"
             ],
             [
              0.7777777777777778,
              "#fb9f3a"
             ],
             [
              0.8888888888888888,
              "#fdca26"
             ],
             [
              1,
              "#f0f921"
             ]
            ],
            "type": "contour"
           }
          ],
          "contourcarpet": [
           {
            "colorbar": {
             "outlinewidth": 0,
             "ticks": ""
            },
            "type": "contourcarpet"
           }
          ],
          "heatmap": [
           {
            "colorbar": {
             "outlinewidth": 0,
             "ticks": ""
            },
            "colorscale": [
             [
              0,
              "#0d0887"
             ],
             [
              0.1111111111111111,
              "#46039f"
             ],
             [
              0.2222222222222222,
              "#7201a8"
             ],
             [
              0.3333333333333333,
              "#9c179e"
             ],
             [
              0.4444444444444444,
              "#bd3786"
             ],
             [
              0.5555555555555556,
              "#d8576b"
             ],
             [
              0.6666666666666666,
              "#ed7953"
             ],
             [
              0.7777777777777778,
              "#fb9f3a"
             ],
             [
              0.8888888888888888,
              "#fdca26"
             ],
             [
              1,
              "#f0f921"
             ]
            ],
            "type": "heatmap"
           }
          ],
          "histogram": [
           {
            "marker": {
             "pattern": {
              "fillmode": "overlay",
              "size": 10,
              "solidity": 0.2
             }
            },
            "type": "histogram"
           }
          ],
          "histogram2d": [
           {
            "colorbar": {
             "outlinewidth": 0,
             "ticks": ""
            },
            "colorscale": [
             [
              0,
              "#0d0887"
             ],
             [
              0.1111111111111111,
              "#46039f"
             ],
             [
              0.2222222222222222,
              "#7201a8"
             ],
             [
              0.3333333333333333,
              "#9c179e"
             ],
             [
              0.4444444444444444,
              "#bd3786"
             ],
             [
              0.5555555555555556,
              "#d8576b"
             ],
             [
              0.6666666666666666,
              "#ed7953"
             ],
             [
              0.7777777777777778,
              "#fb9f3a"
             ],
             [
              0.8888888888888888,
              "#fdca26"
             ],
             [
              1,
              "#f0f921"
             ]
            ],
            "type": "histogram2d"
           }
          ],
          "histogram2dcontour": [
           {
            "colorbar": {
             "outlinewidth": 0,
             "ticks": ""
            },
            "colorscale": [
             [
              0,
              "#0d0887"
             ],
             [
              0.1111111111111111,
              "#46039f"
             ],
             [
              0.2222222222222222,
              "#7201a8"
             ],
             [
              0.3333333333333333,
              "#9c179e"
             ],
             [
              0.4444444444444444,
              "#bd3786"
             ],
             [
              0.5555555555555556,
              "#d8576b"
             ],
             [
              0.6666666666666666,
              "#ed7953"
             ],
             [
              0.7777777777777778,
              "#fb9f3a"
             ],
             [
              0.8888888888888888,
              "#fdca26"
             ],
             [
              1,
              "#f0f921"
             ]
            ],
            "type": "histogram2dcontour"
           }
          ],
          "mesh3d": [
           {
            "colorbar": {
             "outlinewidth": 0,
             "ticks": ""
            },
            "type": "mesh3d"
           }
          ],
          "parcoords": [
           {
            "line": {
             "colorbar": {
              "outlinewidth": 0,
              "ticks": ""
             }
            },
            "type": "parcoords"
           }
          ],
          "pie": [
           {
            "automargin": true,
            "type": "pie"
           }
          ],
          "scatter": [
           {
            "fillpattern": {
             "fillmode": "overlay",
             "size": 10,
             "solidity": 0.2
            },
            "type": "scatter"
           }
          ],
          "scatter3d": [
           {
            "line": {
             "colorbar": {
              "outlinewidth": 0,
              "ticks": ""
             }
            },
            "marker": {
             "colorbar": {
              "outlinewidth": 0,
              "ticks": ""
             }
            },
            "type": "scatter3d"
           }
          ],
          "scattercarpet": [
           {
            "marker": {
             "colorbar": {
              "outlinewidth": 0,
              "ticks": ""
             }
            },
            "type": "scattercarpet"
           }
          ],
          "scattergeo": [
           {
            "marker": {
             "colorbar": {
              "outlinewidth": 0,
              "ticks": ""
             }
            },
            "type": "scattergeo"
           }
          ],
          "scattergl": [
           {
            "marker": {
             "colorbar": {
              "outlinewidth": 0,
              "ticks": ""
             }
            },
            "type": "scattergl"
           }
          ],
          "scattermap": [
           {
            "marker": {
             "colorbar": {
              "outlinewidth": 0,
              "ticks": ""
             }
            },
            "type": "scattermap"
           }
          ],
          "scattermapbox": [
           {
            "marker": {
             "colorbar": {
              "outlinewidth": 0,
              "ticks": ""
             }
            },
            "type": "scattermapbox"
           }
          ],
          "scatterpolar": [
           {
            "marker": {
             "colorbar": {
              "outlinewidth": 0,
              "ticks": ""
             }
            },
            "type": "scatterpolar"
           }
          ],
          "scatterpolargl": [
           {
            "marker": {
             "colorbar": {
              "outlinewidth": 0,
              "ticks": ""
             }
            },
            "type": "scatterpolargl"
           }
          ],
          "scatterternary": [
           {
            "marker": {
             "colorbar": {
              "outlinewidth": 0,
              "ticks": ""
             }
            },
            "type": "scatterternary"
           }
          ],
          "surface": [
           {
            "colorbar": {
             "outlinewidth": 0,
             "ticks": ""
            },
            "colorscale": [
             [
              0,
              "#0d0887"
             ],
             [
              0.1111111111111111,
              "#46039f"
             ],
             [
              0.2222222222222222,
              "#7201a8"
             ],
             [
              0.3333333333333333,
              "#9c179e"
             ],
             [
              0.4444444444444444,
              "#bd3786"
             ],
             [
              0.5555555555555556,
              "#d8576b"
             ],
             [
              0.6666666666666666,
              "#ed7953"
             ],
             [
              0.7777777777777778,
              "#fb9f3a"
             ],
             [
              0.8888888888888888,
              "#fdca26"
             ],
             [
              1,
              "#f0f921"
             ]
            ],
            "type": "surface"
           }
          ],
          "table": [
           {
            "cells": {
             "fill": {
              "color": "#EBF0F8"
             },
             "line": {
              "color": "white"
             }
            },
            "header": {
             "fill": {
              "color": "#C8D4E3"
             },
             "line": {
              "color": "white"
             }
            },
            "type": "table"
           }
          ]
         },
         "layout": {
          "annotationdefaults": {
           "arrowcolor": "#2a3f5f",
           "arrowhead": 0,
           "arrowwidth": 1
          },
          "autotypenumbers": "strict",
          "coloraxis": {
           "colorbar": {
            "outlinewidth": 0,
            "ticks": ""
           }
          },
          "colorscale": {
           "diverging": [
            [
             0,
             "#8e0152"
            ],
            [
             0.1,
             "#c51b7d"
            ],
            [
             0.2,
             "#de77ae"
            ],
            [
             0.3,
             "#f1b6da"
            ],
            [
             0.4,
             "#fde0ef"
            ],
            [
             0.5,
             "#f7f7f7"
            ],
            [
             0.6,
             "#e6f5d0"
            ],
            [
             0.7,
             "#b8e186"
            ],
            [
             0.8,
             "#7fbc41"
            ],
            [
             0.9,
             "#4d9221"
            ],
            [
             1,
             "#276419"
            ]
           ],
           "sequential": [
            [
             0,
             "#0d0887"
            ],
            [
             0.1111111111111111,
             "#46039f"
            ],
            [
             0.2222222222222222,
             "#7201a8"
            ],
            [
             0.3333333333333333,
             "#9c179e"
            ],
            [
             0.4444444444444444,
             "#bd3786"
            ],
            [
             0.5555555555555556,
             "#d8576b"
            ],
            [
             0.6666666666666666,
             "#ed7953"
            ],
            [
             0.7777777777777778,
             "#fb9f3a"
            ],
            [
             0.8888888888888888,
             "#fdca26"
            ],
            [
             1,
             "#f0f921"
            ]
           ],
           "sequentialminus": [
            [
             0,
             "#0d0887"
            ],
            [
             0.1111111111111111,
             "#46039f"
            ],
            [
             0.2222222222222222,
             "#7201a8"
            ],
            [
             0.3333333333333333,
             "#9c179e"
            ],
            [
             0.4444444444444444,
             "#bd3786"
            ],
            [
             0.5555555555555556,
             "#d8576b"
            ],
            [
             0.6666666666666666,
             "#ed7953"
            ],
            [
             0.7777777777777778,
             "#fb9f3a"
            ],
            [
             0.8888888888888888,
             "#fdca26"
            ],
            [
             1,
             "#f0f921"
            ]
           ]
          },
          "colorway": [
           "#636efa",
           "#EF553B",
           "#00cc96",
           "#ab63fa",
           "#FFA15A",
           "#19d3f3",
           "#FF6692",
           "#B6E880",
           "#FF97FF",
           "#FECB52"
          ],
          "font": {
           "color": "#2a3f5f"
          },
          "geo": {
           "bgcolor": "white",
           "lakecolor": "white",
           "landcolor": "#E5ECF6",
           "showlakes": true,
           "showland": true,
           "subunitcolor": "white"
          },
          "hoverlabel": {
           "align": "left"
          },
          "hovermode": "closest",
          "mapbox": {
           "style": "light"
          },
          "paper_bgcolor": "white",
          "plot_bgcolor": "#E5ECF6",
          "polar": {
           "angularaxis": {
            "gridcolor": "white",
            "linecolor": "white",
            "ticks": ""
           },
           "bgcolor": "#E5ECF6",
           "radialaxis": {
            "gridcolor": "white",
            "linecolor": "white",
            "ticks": ""
           }
          },
          "scene": {
           "xaxis": {
            "backgroundcolor": "#E5ECF6",
            "gridcolor": "white",
            "gridwidth": 2,
            "linecolor": "white",
            "showbackground": true,
            "ticks": "",
            "zerolinecolor": "white"
           },
           "yaxis": {
            "backgroundcolor": "#E5ECF6",
            "gridcolor": "white",
            "gridwidth": 2,
            "linecolor": "white",
            "showbackground": true,
            "ticks": "",
            "zerolinecolor": "white"
           },
           "zaxis": {
            "backgroundcolor": "#E5ECF6",
            "gridcolor": "white",
            "gridwidth": 2,
            "linecolor": "white",
            "showbackground": true,
            "ticks": "",
            "zerolinecolor": "white"
           }
          },
          "shapedefaults": {
           "line": {
            "color": "#2a3f5f"
           }
          },
          "ternary": {
           "aaxis": {
            "gridcolor": "white",
            "linecolor": "white",
            "ticks": ""
           },
           "baxis": {
            "gridcolor": "white",
            "linecolor": "white",
            "ticks": ""
           },
           "bgcolor": "#E5ECF6",
           "caxis": {
            "gridcolor": "white",
            "linecolor": "white",
            "ticks": ""
           }
          },
          "title": {
           "x": 0.05
          },
          "xaxis": {
           "automargin": true,
           "gridcolor": "white",
           "linecolor": "white",
           "ticks": "",
           "title": {
            "standoff": 15
           },
           "zerolinecolor": "white",
           "zerolinewidth": 2
          },
          "yaxis": {
           "automargin": true,
           "gridcolor": "white",
           "linecolor": "white",
           "ticks": "",
           "title": {
            "standoff": 15
           },
           "zerolinecolor": "white",
           "zerolinewidth": 2
          }
         }
        },
        "title": {
         "text": "Iris 데이터 산점도 행렬"
        },
        "width": 800
       }
      }
     },
     "metadata": {},
     "output_type": "display_data"
    }
   ],
   "source": [
    "import plotly.express as px\n",
    "\n",
    "# Iris 데이터셋 로드\n",
    "df = px.data.iris()\n",
    "\n",
    "# 산점도 행렬 생성: 4개 변수 간의 관계와 종(species)별 구분\n",
    "fig = px.scatter_matrix(df, \n",
    "                        dimensions=[\"sepal_length\", \"sepal_width\", \"petal_length\", \"petal_width\"],\n",
    "                        color=\"species\",\n",
    "                        title=\"Iris 데이터 산점도 행렬\")\n",
    "fig.update_layout(width=800, height=800)\n",
    "fig.show()\n"
   ]
  },
  {
   "cell_type": "markdown",
   "metadata": {},
   "source": [
    "## 2D 컨투어 플롯 (2D Contour Plot)\n",
    "- x, y 좌표에 따른 함수 z = sin(sqrt(x² + y²))의 값을 컨투어 플롯으로 표현해보세요."
   ]
  },
  {
   "cell_type": "code",
   "execution_count": 15,
   "metadata": {},
   "outputs": [
    {
     "data": {
      "application/vnd.plotly.v1+json": {
       "config": {
        "plotlyServerURL": "https://plot.ly"
       },
       "data": [
        {
         "colorscale": [
          [
           0,
           "#440154"
          ],
          [
           0.1111111111111111,
           "#482878"
          ],
          [
           0.2222222222222222,
           "#3e4989"
          ],
          [
           0.3333333333333333,
           "#31688e"
          ],
          [
           0.4444444444444444,
           "#26828e"
          ],
          [
           0.5555555555555556,
           "#1f9e89"
          ],
          [
           0.6666666666666666,
           "#35b779"
          ],
          [
           0.7777777777777778,
           "#6ece58"
          ],
          [
           0.8888888888888888,
           "#b5de2b"
          ],
          [
           1,
           "#fde725"
          ]
         ],
         "type": "contour",
         "x": {
          "bdata": "AAAAAAAAFMBDYt7OkJgTwIbEvJ0hMRPAyiabbLLJEsANiXk7Q2ISwFDrVwrU+hHAk0022WSTEcDXrxSo9SsRwBoS83aGxBDAXXTRRRddEMBArV8pUOsPwMdxHMdxHA/ATjbZZJNNDsDU+pUCtX4NwFq/UqDWrwzA4YMPPvjgC8BoSMzbGRILwO4MiXk7QwrAdNFFF110CcD7lQK1fqUIwIFav1Kg1gfACB988MEHB8CO4ziO4zgGwBWo9SsFagXAm2yyySabBMAiMW9nSMwDwKj1KwVq/QLAL7rooosuAsC1fqVArV8BwDxDYt7OkADAhA8++OCD/7+SmLczJOb9v54hMW9nSPy/qqqqqqqq+r+4MyTm7Qz5v8S8nSExb/e/0kUXXXTR9b/ezpCYtzP0v+xXCtT6lfK/+OCDDz748L8I1PqVArXuvyjm7QyJeeu/QPjggw8+6L9YCtT6lQLlv3Acx3Ecx+G/IF100UUX3b9QgVq/UqDWv4ClQK1fKdC/YJNNNtlkw78Ab2dIzNupvwBvZ0jM26k/YJNNNtlkwz+ApUCtXynQP1CBWr9SoNY/EF100UUX3T9wHMdxHMfhP1gK1PqVAuU/QPjggw8+6D8g5u0MiXnrPwjU+pUCte4/+OCDDz748D/sVwrU+pXyP9zOkJi3M/Q/0EUXXXTR9T/EvJ0hMW/3P7gzJObtDPk/rKqqqqqq+j+cITFvZ0j8P5CYtzMk5v0/hA8++OCD/z88Q2LezpAAQLR+pUCtXwFALrrooosuAkCo9SsFav0CQCIxb2dIzANAmmyyySabBEAUqPUrBWoFQI7jOI7jOAZACB988MEHB0CAWr9SoNYHQPyVArV+pQhAdNFFF110CUDsDIl5O0MKQGhIzNsZEgtA4IMPPvjgC0Bcv1Kg1q8MQNT6lQK1fg1ATDbZZJNNDkDIcRzHcRwPQECtXylQ6w9AXHTRRRddEEAaEvN2hsQQQNavFKj1KxFAlE022WSTEUBQ61cK1PoRQAyJeTtDYhJAyiabbLLJEkCGxLydITETQERi3s6QmBNAAAAAAAAAFEA=",
          "dtype": "f8"
         },
         "y": {
          "bdata": "AAAAAAAAFMBDYt7OkJgTwIbEvJ0hMRPAyiabbLLJEsANiXk7Q2ISwFDrVwrU+hHAk0022WSTEcDXrxSo9SsRwBoS83aGxBDAXXTRRRddEMBArV8pUOsPwMdxHMdxHA/ATjbZZJNNDsDU+pUCtX4NwFq/UqDWrwzA4YMPPvjgC8BoSMzbGRILwO4MiXk7QwrAdNFFF110CcD7lQK1fqUIwIFav1Kg1gfACB988MEHB8CO4ziO4zgGwBWo9SsFagXAm2yyySabBMAiMW9nSMwDwKj1KwVq/QLAL7rooosuAsC1fqVArV8BwDxDYt7OkADAhA8++OCD/7+SmLczJOb9v54hMW9nSPy/qqqqqqqq+r+4MyTm7Qz5v8S8nSExb/e/0kUXXXTR9b/ezpCYtzP0v+xXCtT6lfK/+OCDDz748L8I1PqVArXuvyjm7QyJeeu/QPjggw8+6L9YCtT6lQLlv3Acx3Ecx+G/IF100UUX3b9QgVq/UqDWv4ClQK1fKdC/YJNNNtlkw78Ab2dIzNupvwBvZ0jM26k/YJNNNtlkwz+ApUCtXynQP1CBWr9SoNY/EF100UUX3T9wHMdxHMfhP1gK1PqVAuU/QPjggw8+6D8g5u0MiXnrPwjU+pUCte4/+OCDDz748D/sVwrU+pXyP9zOkJi3M/Q/0EUXXXTR9T/EvJ0hMW/3P7gzJObtDPk/rKqqqqqq+j+cITFvZ0j8P5CYtzMk5v0/hA8++OCD/z88Q2LezpAAQLR+pUCtXwFALrrooosuAkCo9SsFav0CQCIxb2dIzANAmmyyySabBEAUqPUrBWoFQI7jOI7jOAZACB988MEHB0CAWr9SoNYHQPyVArV+pQhAdNFFF110CUDsDIl5O0MKQGhIzNsZEgtA4IMPPvjgC0Bcv1Kg1q8MQNT6lQK1fg1ATDbZZJNNDkDIcRzHcRwPQECtXylQ6w9AXHTRRRddEEAaEvN2hsQQQNavFKj1KxFAlE022WSTEUBQ61cK1PoRQAyJeTtDYhJAyiabbLLJEkCGxLydITETQERi3s6QmBNAAAAAAAAAFEA=",
          "dtype": "f8"
         },
         "z": {
          "bdata": "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",
          "dtype": "f8",
          "shape": "100, 100"
         }
        }
       ],
       "layout": {
        "template": {
         "data": {
          "bar": [
           {
            "error_x": {
             "color": "#2a3f5f"
            },
            "error_y": {
             "color": "#2a3f5f"
            },
            "marker": {
             "line": {
              "color": "#E5ECF6",
              "width": 0.5
             },
             "pattern": {
              "fillmode": "overlay",
              "size": 10,
              "solidity": 0.2
             }
            },
            "type": "bar"
           }
          ],
          "barpolar": [
           {
            "marker": {
             "line": {
              "color": "#E5ECF6",
              "width": 0.5
             },
             "pattern": {
              "fillmode": "overlay",
              "size": 10,
              "solidity": 0.2
             }
            },
            "type": "barpolar"
           }
          ],
          "carpet": [
           {
            "aaxis": {
             "endlinecolor": "#2a3f5f",
             "gridcolor": "white",
             "linecolor": "white",
             "minorgridcolor": "white",
             "startlinecolor": "#2a3f5f"
            },
            "baxis": {
             "endlinecolor": "#2a3f5f",
             "gridcolor": "white",
             "linecolor": "white",
             "minorgridcolor": "white",
             "startlinecolor": "#2a3f5f"
            },
            "type": "carpet"
           }
          ],
          "choropleth": [
           {
            "colorbar": {
             "outlinewidth": 0,
             "ticks": ""
            },
            "type": "choropleth"
           }
          ],
          "contour": [
           {
            "colorbar": {
             "outlinewidth": 0,
             "ticks": ""
            },
            "colorscale": [
             [
              0,
              "#0d0887"
             ],
             [
              0.1111111111111111,
              "#46039f"
             ],
             [
              0.2222222222222222,
              "#7201a8"
             ],
             [
              0.3333333333333333,
              "#9c179e"
             ],
             [
              0.4444444444444444,
              "#bd3786"
             ],
             [
              0.5555555555555556,
              "#d8576b"
             ],
             [
              0.6666666666666666,
              "#ed7953"
             ],
             [
              0.7777777777777778,
              "#fb9f3a"
             ],
             [
              0.8888888888888888,
              "#fdca26"
             ],
             [
              1,
              "#f0f921"
             ]
            ],
            "type": "contour"
           }
          ],
          "contourcarpet": [
           {
            "colorbar": {
             "outlinewidth": 0,
             "ticks": ""
            },
            "type": "contourcarpet"
           }
          ],
          "heatmap": [
           {
            "colorbar": {
             "outlinewidth": 0,
             "ticks": ""
            },
            "colorscale": [
             [
              0,
              "#0d0887"
             ],
             [
              0.1111111111111111,
              "#46039f"
             ],
             [
              0.2222222222222222,
              "#7201a8"
             ],
             [
              0.3333333333333333,
              "#9c179e"
             ],
             [
              0.4444444444444444,
              "#bd3786"
             ],
             [
              0.5555555555555556,
              "#d8576b"
             ],
             [
              0.6666666666666666,
              "#ed7953"
             ],
             [
              0.7777777777777778,
              "#fb9f3a"
             ],
             [
              0.8888888888888888,
              "#fdca26"
             ],
             [
              1,
              "#f0f921"
             ]
            ],
            "type": "heatmap"
           }
          ],
          "histogram": [
           {
            "marker": {
             "pattern": {
              "fillmode": "overlay",
              "size": 10,
              "solidity": 0.2
             }
            },
            "type": "histogram"
           }
          ],
          "histogram2d": [
           {
            "colorbar": {
             "outlinewidth": 0,
             "ticks": ""
            },
            "colorscale": [
             [
              0,
              "#0d0887"
             ],
             [
              0.1111111111111111,
              "#46039f"
             ],
             [
              0.2222222222222222,
              "#7201a8"
             ],
             [
              0.3333333333333333,
              "#9c179e"
             ],
             [
              0.4444444444444444,
              "#bd3786"
             ],
             [
              0.5555555555555556,
              "#d8576b"
             ],
             [
              0.6666666666666666,
              "#ed7953"
             ],
             [
              0.7777777777777778,
              "#fb9f3a"
             ],
             [
              0.8888888888888888,
              "#fdca26"
             ],
             [
              1,
              "#f0f921"
             ]
            ],
            "type": "histogram2d"
           }
          ],
          "histogram2dcontour": [
           {
            "colorbar": {
             "outlinewidth": 0,
             "ticks": ""
            },
            "colorscale": [
             [
              0,
              "#0d0887"
             ],
             [
              0.1111111111111111,
              "#46039f"
             ],
             [
              0.2222222222222222,
              "#7201a8"
             ],
             [
              0.3333333333333333,
              "#9c179e"
             ],
             [
              0.4444444444444444,
              "#bd3786"
             ],
             [
              0.5555555555555556,
              "#d8576b"
             ],
             [
              0.6666666666666666,
              "#ed7953"
             ],
             [
              0.7777777777777778,
              "#fb9f3a"
             ],
             [
              0.8888888888888888,
              "#fdca26"
             ],
             [
              1,
              "#f0f921"
             ]
            ],
            "type": "histogram2dcontour"
           }
          ],
          "mesh3d": [
           {
            "colorbar": {
             "outlinewidth": 0,
             "ticks": ""
            },
            "type": "mesh3d"
           }
          ],
          "parcoords": [
           {
            "line": {
             "colorbar": {
              "outlinewidth": 0,
              "ticks": ""
             }
            },
            "type": "parcoords"
           }
          ],
          "pie": [
           {
            "automargin": true,
            "type": "pie"
           }
          ],
          "scatter": [
           {
            "fillpattern": {
             "fillmode": "overlay",
             "size": 10,
             "solidity": 0.2
            },
            "type": "scatter"
           }
          ],
          "scatter3d": [
           {
            "line": {
             "colorbar": {
              "outlinewidth": 0,
              "ticks": ""
             }
            },
            "marker": {
             "colorbar": {
              "outlinewidth": 0,
              "ticks": ""
             }
            },
            "type": "scatter3d"
           }
          ],
          "scattercarpet": [
           {
            "marker": {
             "colorbar": {
              "outlinewidth": 0,
              "ticks": ""
             }
            },
            "type": "scattercarpet"
           }
          ],
          "scattergeo": [
           {
            "marker": {
             "colorbar": {
              "outlinewidth": 0,
              "ticks": ""
             }
            },
            "type": "scattergeo"
           }
          ],
          "scattergl": [
           {
            "marker": {
             "colorbar": {
              "outlinewidth": 0,
              "ticks": ""
             }
            },
            "type": "scattergl"
           }
          ],
          "scattermap": [
           {
            "marker": {
             "colorbar": {
              "outlinewidth": 0,
              "ticks": ""
             }
            },
            "type": "scattermap"
           }
          ],
          "scattermapbox": [
           {
            "marker": {
             "colorbar": {
              "outlinewidth": 0,
              "ticks": ""
             }
            },
            "type": "scattermapbox"
           }
          ],
          "scatterpolar": [
           {
            "marker": {
             "colorbar": {
              "outlinewidth": 0,
              "ticks": ""
             }
            },
            "type": "scatterpolar"
           }
          ],
          "scatterpolargl": [
           {
            "marker": {
             "colorbar": {
              "outlinewidth": 0,
              "ticks": ""
             }
            },
            "type": "scatterpolargl"
           }
          ],
          "scatterternary": [
           {
            "marker": {
             "colorbar": {
              "outlinewidth": 0,
              "ticks": ""
             }
            },
            "type": "scatterternary"
           }
          ],
          "surface": [
           {
            "colorbar": {
             "outlinewidth": 0,
             "ticks": ""
            },
            "colorscale": [
             [
              0,
              "#0d0887"
             ],
             [
              0.1111111111111111,
              "#46039f"
             ],
             [
              0.2222222222222222,
              "#7201a8"
             ],
             [
              0.3333333333333333,
              "#9c179e"
             ],
             [
              0.4444444444444444,
              "#bd3786"
             ],
             [
              0.5555555555555556,
              "#d8576b"
             ],
             [
              0.6666666666666666,
              "#ed7953"
             ],
             [
              0.7777777777777778,
              "#fb9f3a"
             ],
             [
              0.8888888888888888,
              "#fdca26"
             ],
             [
              1,
              "#f0f921"
             ]
            ],
            "type": "surface"
           }
          ],
          "table": [
           {
            "cells": {
             "fill": {
              "color": "#EBF0F8"
             },
             "line": {
              "color": "white"
             }
            },
            "header": {
             "fill": {
              "color": "#C8D4E3"
             },
             "line": {
              "color": "white"
             }
            },
            "type": "table"
           }
          ]
         },
         "layout": {
          "annotationdefaults": {
           "arrowcolor": "#2a3f5f",
           "arrowhead": 0,
           "arrowwidth": 1
          },
          "autotypenumbers": "strict",
          "coloraxis": {
           "colorbar": {
            "outlinewidth": 0,
            "ticks": ""
           }
          },
          "colorscale": {
           "diverging": [
            [
             0,
             "#8e0152"
            ],
            [
             0.1,
             "#c51b7d"
            ],
            [
             0.2,
             "#de77ae"
            ],
            [
             0.3,
             "#f1b6da"
            ],
            [
             0.4,
             "#fde0ef"
            ],
            [
             0.5,
             "#f7f7f7"
            ],
            [
             0.6,
             "#e6f5d0"
            ],
            [
             0.7,
             "#b8e186"
            ],
            [
             0.8,
             "#7fbc41"
            ],
            [
             0.9,
             "#4d9221"
            ],
            [
             1,
             "#276419"
            ]
           ],
           "sequential": [
            [
             0,
             "#0d0887"
            ],
            [
             0.1111111111111111,
             "#46039f"
            ],
            [
             0.2222222222222222,
             "#7201a8"
            ],
            [
             0.3333333333333333,
             "#9c179e"
            ],
            [
             0.4444444444444444,
             "#bd3786"
            ],
            [
             0.5555555555555556,
             "#d8576b"
            ],
            [
             0.6666666666666666,
             "#ed7953"
            ],
            [
             0.7777777777777778,
             "#fb9f3a"
            ],
            [
             0.8888888888888888,
             "#fdca26"
            ],
            [
             1,
             "#f0f921"
            ]
           ],
           "sequentialminus": [
            [
             0,
             "#0d0887"
            ],
            [
             0.1111111111111111,
             "#46039f"
            ],
            [
             0.2222222222222222,
             "#7201a8"
            ],
            [
             0.3333333333333333,
             "#9c179e"
            ],
            [
             0.4444444444444444,
             "#bd3786"
            ],
            [
             0.5555555555555556,
             "#d8576b"
            ],
            [
             0.6666666666666666,
             "#ed7953"
            ],
            [
             0.7777777777777778,
             "#fb9f3a"
            ],
            [
             0.8888888888888888,
             "#fdca26"
            ],
            [
             1,
             "#f0f921"
            ]
           ]
          },
          "colorway": [
           "#636efa",
           "#EF553B",
           "#00cc96",
           "#ab63fa",
           "#FFA15A",
           "#19d3f3",
           "#FF6692",
           "#B6E880",
           "#FF97FF",
           "#FECB52"
          ],
          "font": {
           "color": "#2a3f5f"
          },
          "geo": {
           "bgcolor": "white",
           "lakecolor": "white",
           "landcolor": "#E5ECF6",
           "showlakes": true,
           "showland": true,
           "subunitcolor": "white"
          },
          "hoverlabel": {
           "align": "left"
          },
          "hovermode": "closest",
          "mapbox": {
           "style": "light"
          },
          "paper_bgcolor": "white",
          "plot_bgcolor": "#E5ECF6",
          "polar": {
           "angularaxis": {
            "gridcolor": "white",
            "linecolor": "white",
            "ticks": ""
           },
           "bgcolor": "#E5ECF6",
           "radialaxis": {
            "gridcolor": "white",
            "linecolor": "white",
            "ticks": ""
           }
          },
          "scene": {
           "xaxis": {
            "backgroundcolor": "#E5ECF6",
            "gridcolor": "white",
            "gridwidth": 2,
            "linecolor": "white",
            "showbackground": true,
            "ticks": "",
            "zerolinecolor": "white"
           },
           "yaxis": {
            "backgroundcolor": "#E5ECF6",
            "gridcolor": "white",
            "gridwidth": 2,
            "linecolor": "white",
            "showbackground": true,
            "ticks": "",
            "zerolinecolor": "white"
           },
           "zaxis": {
            "backgroundcolor": "#E5ECF6",
            "gridcolor": "white",
            "gridwidth": 2,
            "linecolor": "white",
            "showbackground": true,
            "ticks": "",
            "zerolinecolor": "white"
           }
          },
          "shapedefaults": {
           "line": {
            "color": "#2a3f5f"
           }
          },
          "ternary": {
           "aaxis": {
            "gridcolor": "white",
            "linecolor": "white",
            "ticks": ""
           },
           "baxis": {
            "gridcolor": "white",
            "linecolor": "white",
            "ticks": ""
           },
           "bgcolor": "#E5ECF6",
           "caxis": {
            "gridcolor": "white",
            "linecolor": "white",
            "ticks": ""
           }
          },
          "title": {
           "x": 0.05
          },
          "xaxis": {
           "automargin": true,
           "gridcolor": "white",
           "linecolor": "white",
           "ticks": "",
           "title": {
            "standoff": 15
           },
           "zerolinecolor": "white",
           "zerolinewidth": 2
          },
          "yaxis": {
           "automargin": true,
           "gridcolor": "white",
           "linecolor": "white",
           "ticks": "",
           "title": {
            "standoff": 15
           },
           "zerolinecolor": "white",
           "zerolinewidth": 2
          }
         }
        },
        "title": {
         "text": "2D 컨투어 플롯"
        },
        "xaxis": {
         "title": {
          "text": "X축"
         }
        },
        "yaxis": {
         "title": {
          "text": "Y축"
         }
        }
       }
      }
     },
     "metadata": {},
     "output_type": "display_data"
    }
   ],
   "source": [
    "import plotly.graph_objects as go\n",
    "import numpy as np\n",
    "\n",
    "# x, y 좌표 생성 및 함수 값 계산\n",
    "x = np.linspace(-5, 5, 100)\n",
    "y = np.linspace(-5, 5, 100)\n",
    "x_grid, y_grid = np.meshgrid(x, y)\n",
    "z = np.sin(np.sqrt(x_grid**2 + y_grid**2))\n",
    "\n",
    "# 2D 컨투어 플롯 생성\n",
    "fig = go.Figure(data=go.Contour(x=x, y=y, z=z, colorscale='Viridis'))\n",
    "fig.update_layout(title=\"2D 컨투어 플롯\", xaxis_title=\"X축\", yaxis_title=\"Y축\")\n",
    "fig.show()\n"
   ]
  },
  {
   "cell_type": "markdown",
   "metadata": {},
   "source": [
    "## 2-15: 2D 히스토그램 (Histogram2d)\n",
    "- 두 변수의 분포와 밀집 정도를 한눈에 보기 위해, 2D 히스토그램을 작성해보세요."
   ]
  },
  {
   "cell_type": "code",
   "execution_count": 16,
   "metadata": {},
   "outputs": [
    {
     "data": {
      "application/vnd.plotly.v1+json": {
       "config": {
        "plotlyServerURL": "https://plot.ly"
       },
       "data": [
        {
         "colorscale": [
          [
           0,
           "rgb(247,251,255)"
          ],
          [
           0.125,
           "rgb(222,235,247)"
          ],
          [
           0.25,
           "rgb(198,219,239)"
          ],
          [
           0.375,
           "rgb(158,202,225)"
          ],
          [
           0.5,
           "rgb(107,174,214)"
          ],
          [
           0.625,
           "rgb(66,146,198)"
          ],
          [
           0.75,
           "rgb(33,113,181)"
          ],
          [
           0.875,
           "rgb(8,81,156)"
          ],
          [
           1,
           "rgb(8,48,107)"
          ]
         ],
         "type": "histogram2d",
         "x": {
          "bdata": "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",
          "dtype": "f8"
         },
         "y": {
          "bdata": "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",
          "dtype": "f8"
         }
        }
       ],
       "layout": {
        "template": {
         "data": {
          "bar": [
           {
            "error_x": {
             "color": "#2a3f5f"
            },
            "error_y": {
             "color": "#2a3f5f"
            },
            "marker": {
             "line": {
              "color": "#E5ECF6",
              "width": 0.5
             },
             "pattern": {
              "fillmode": "overlay",
              "size": 10,
              "solidity": 0.2
             }
            },
            "type": "bar"
           }
          ],
          "barpolar": [
           {
            "marker": {
             "line": {
              "color": "#E5ECF6",
              "width": 0.5
             },
             "pattern": {
              "fillmode": "overlay",
              "size": 10,
              "solidity": 0.2
             }
            },
            "type": "barpolar"
           }
          ],
          "carpet": [
           {
            "aaxis": {
             "endlinecolor": "#2a3f5f",
             "gridcolor": "white",
             "linecolor": "white",
             "minorgridcolor": "white",
             "startlinecolor": "#2a3f5f"
            },
            "baxis": {
             "endlinecolor": "#2a3f5f",
             "gridcolor": "white",
             "linecolor": "white",
             "minorgridcolor": "white",
             "startlinecolor": "#2a3f5f"
            },
            "type": "carpet"
           }
          ],
          "choropleth": [
           {
            "colorbar": {
             "outlinewidth": 0,
             "ticks": ""
            },
            "type": "choropleth"
           }
          ],
          "contour": [
           {
            "colorbar": {
             "outlinewidth": 0,
             "ticks": ""
            },
            "colorscale": [
             [
              0,
              "#0d0887"
             ],
             [
              0.1111111111111111,
              "#46039f"
             ],
             [
              0.2222222222222222,
              "#7201a8"
             ],
             [
              0.3333333333333333,
              "#9c179e"
             ],
             [
              0.4444444444444444,
              "#bd3786"
             ],
             [
              0.5555555555555556,
              "#d8576b"
             ],
             [
              0.6666666666666666,
              "#ed7953"
             ],
             [
              0.7777777777777778,
              "#fb9f3a"
             ],
             [
              0.8888888888888888,
              "#fdca26"
             ],
             [
              1,
              "#f0f921"
             ]
            ],
            "type": "contour"
           }
          ],
          "contourcarpet": [
           {
            "colorbar": {
             "outlinewidth": 0,
             "ticks": ""
            },
            "type": "contourcarpet"
           }
          ],
          "heatmap": [
           {
            "colorbar": {
             "outlinewidth": 0,
             "ticks": ""
            },
            "colorscale": [
             [
              0,
              "#0d0887"
             ],
             [
              0.1111111111111111,
              "#46039f"
             ],
             [
              0.2222222222222222,
              "#7201a8"
             ],
             [
              0.3333333333333333,
              "#9c179e"
             ],
             [
              0.4444444444444444,
              "#bd3786"
             ],
             [
              0.5555555555555556,
              "#d8576b"
             ],
             [
              0.6666666666666666,
              "#ed7953"
             ],
             [
              0.7777777777777778,
              "#fb9f3a"
             ],
             [
              0.8888888888888888,
              "#fdca26"
             ],
             [
              1,
              "#f0f921"
             ]
            ],
            "type": "heatmap"
           }
          ],
          "histogram": [
           {
            "marker": {
             "pattern": {
              "fillmode": "overlay",
              "size": 10,
              "solidity": 0.2
             }
            },
            "type": "histogram"
           }
          ],
          "histogram2d": [
           {
            "colorbar": {
             "outlinewidth": 0,
             "ticks": ""
            },
            "colorscale": [
             [
              0,
              "#0d0887"
             ],
             [
              0.1111111111111111,
              "#46039f"
             ],
             [
              0.2222222222222222,
              "#7201a8"
             ],
             [
              0.3333333333333333,
              "#9c179e"
             ],
             [
              0.4444444444444444,
              "#bd3786"
             ],
             [
              0.5555555555555556,
              "#d8576b"
             ],
             [
              0.6666666666666666,
              "#ed7953"
             ],
             [
              0.7777777777777778,
              "#fb9f3a"
             ],
             [
              0.8888888888888888,
              "#fdca26"
             ],
             [
              1,
              "#f0f921"
             ]
            ],
            "type": "histogram2d"
           }
          ],
          "histogram2dcontour": [
           {
            "colorbar": {
             "outlinewidth": 0,
             "ticks": ""
            },
            "colorscale": [
             [
              0,
              "#0d0887"
             ],
             [
              0.1111111111111111,
              "#46039f"
             ],
             [
              0.2222222222222222,
              "#7201a8"
             ],
             [
              0.3333333333333333,
              "#9c179e"
             ],
             [
              0.4444444444444444,
              "#bd3786"
             ],
             [
              0.5555555555555556,
              "#d8576b"
             ],
             [
              0.6666666666666666,
              "#ed7953"
             ],
             [
              0.7777777777777778,
              "#fb9f3a"
             ],
             [
              0.8888888888888888,
              "#fdca26"
             ],
             [
              1,
              "#f0f921"
             ]
            ],
            "type": "histogram2dcontour"
           }
          ],
          "mesh3d": [
           {
            "colorbar": {
             "outlinewidth": 0,
             "ticks": ""
            },
            "type": "mesh3d"
           }
          ],
          "parcoords": [
           {
            "line": {
             "colorbar": {
              "outlinewidth": 0,
              "ticks": ""
             }
            },
            "type": "parcoords"
           }
          ],
          "pie": [
           {
            "automargin": true,
            "type": "pie"
           }
          ],
          "scatter": [
           {
            "fillpattern": {
             "fillmode": "overlay",
             "size": 10,
             "solidity": 0.2
            },
            "type": "scatter"
           }
          ],
          "scatter3d": [
           {
            "line": {
             "colorbar": {
              "outlinewidth": 0,
              "ticks": ""
             }
            },
            "marker": {
             "colorbar": {
              "outlinewidth": 0,
              "ticks": ""
             }
            },
            "type": "scatter3d"
           }
          ],
          "scattercarpet": [
           {
            "marker": {
             "colorbar": {
              "outlinewidth": 0,
              "ticks": ""
             }
            },
            "type": "scattercarpet"
           }
          ],
          "scattergeo": [
           {
            "marker": {
             "colorbar": {
              "outlinewidth": 0,
              "ticks": ""
             }
            },
            "type": "scattergeo"
           }
          ],
          "scattergl": [
           {
            "marker": {
             "colorbar": {
              "outlinewidth": 0,
              "ticks": ""
             }
            },
            "type": "scattergl"
           }
          ],
          "scattermap": [
           {
            "marker": {
             "colorbar": {
              "outlinewidth": 0,
              "ticks": ""
             }
            },
            "type": "scattermap"
           }
          ],
          "scattermapbox": [
           {
            "marker": {
             "colorbar": {
              "outlinewidth": 0,
              "ticks": ""
             }
            },
            "type": "scattermapbox"
           }
          ],
          "scatterpolar": [
           {
            "marker": {
             "colorbar": {
              "outlinewidth": 0,
              "ticks": ""
             }
            },
            "type": "scatterpolar"
           }
          ],
          "scatterpolargl": [
           {
            "marker": {
             "colorbar": {
              "outlinewidth": 0,
              "ticks": ""
             }
            },
            "type": "scatterpolargl"
           }
          ],
          "scatterternary": [
           {
            "marker": {
             "colorbar": {
              "outlinewidth": 0,
              "ticks": ""
             }
            },
            "type": "scatterternary"
           }
          ],
          "surface": [
           {
            "colorbar": {
             "outlinewidth": 0,
             "ticks": ""
            },
            "colorscale": [
             [
              0,
              "#0d0887"
             ],
             [
              0.1111111111111111,
              "#46039f"
             ],
             [
              0.2222222222222222,
              "#7201a8"
             ],
             [
              0.3333333333333333,
              "#9c179e"
             ],
             [
              0.4444444444444444,
              "#bd3786"
             ],
             [
              0.5555555555555556,
              "#d8576b"
             ],
             [
              0.6666666666666666,
              "#ed7953"
             ],
             [
              0.7777777777777778,
              "#fb9f3a"
             ],
             [
              0.8888888888888888,
              "#fdca26"
             ],
             [
              1,
              "#f0f921"
             ]
            ],
            "type": "surface"
           }
          ],
          "table": [
           {
            "cells": {
             "fill": {
              "color": "#EBF0F8"
             },
             "line": {
              "color": "white"
             }
            },
            "header": {
             "fill": {
              "color": "#C8D4E3"
             },
             "line": {
              "color": "white"
             }
            },
            "type": "table"
           }
          ]
         },
         "layout": {
          "annotationdefaults": {
           "arrowcolor": "#2a3f5f",
           "arrowhead": 0,
           "arrowwidth": 1
          },
          "autotypenumbers": "strict",
          "coloraxis": {
           "colorbar": {
            "outlinewidth": 0,
            "ticks": ""
           }
          },
          "colorscale": {
           "diverging": [
            [
             0,
             "#8e0152"
            ],
            [
             0.1,
             "#c51b7d"
            ],
            [
             0.2,
             "#de77ae"
            ],
            [
             0.3,
             "#f1b6da"
            ],
            [
             0.4,
             "#fde0ef"
            ],
            [
             0.5,
             "#f7f7f7"
            ],
            [
             0.6,
             "#e6f5d0"
            ],
            [
             0.7,
             "#b8e186"
            ],
            [
             0.8,
             "#7fbc41"
            ],
            [
             0.9,
             "#4d9221"
            ],
            [
             1,
             "#276419"
            ]
           ],
           "sequential": [
            [
             0,
             "#0d0887"
            ],
            [
             0.1111111111111111,
             "#46039f"
            ],
            [
             0.2222222222222222,
             "#7201a8"
            ],
            [
             0.3333333333333333,
             "#9c179e"
            ],
            [
             0.4444444444444444,
             "#bd3786"
            ],
            [
             0.5555555555555556,
             "#d8576b"
            ],
            [
             0.6666666666666666,
             "#ed7953"
            ],
            [
             0.7777777777777778,
             "#fb9f3a"
            ],
            [
             0.8888888888888888,
             "#fdca26"
            ],
            [
             1,
             "#f0f921"
            ]
           ],
           "sequentialminus": [
            [
             0,
             "#0d0887"
            ],
            [
             0.1111111111111111,
             "#46039f"
            ],
            [
             0.2222222222222222,
             "#7201a8"
            ],
            [
             0.3333333333333333,
             "#9c179e"
            ],
            [
             0.4444444444444444,
             "#bd3786"
            ],
            [
             0.5555555555555556,
             "#d8576b"
            ],
            [
             0.6666666666666666,
             "#ed7953"
            ],
            [
             0.7777777777777778,
             "#fb9f3a"
            ],
            [
             0.8888888888888888,
             "#fdca26"
            ],
            [
             1,
             "#f0f921"
            ]
           ]
          },
          "colorway": [
           "#636efa",
           "#EF553B",
           "#00cc96",
           "#ab63fa",
           "#FFA15A",
           "#19d3f3",
           "#FF6692",
           "#B6E880",
           "#FF97FF",
           "#FECB52"
          ],
          "font": {
           "color": "#2a3f5f"
          },
          "geo": {
           "bgcolor": "white",
           "lakecolor": "white",
           "landcolor": "#E5ECF6",
           "showlakes": true,
           "showland": true,
           "subunitcolor": "white"
          },
          "hoverlabel": {
           "align": "left"
          },
          "hovermode": "closest",
          "mapbox": {
           "style": "light"
          },
          "paper_bgcolor": "white",
          "plot_bgcolor": "#E5ECF6",
          "polar": {
           "angularaxis": {
            "gridcolor": "white",
            "linecolor": "white",
            "ticks": ""
           },
           "bgcolor": "#E5ECF6",
           "radialaxis": {
            "gridcolor": "white",
            "linecolor": "white",
            "ticks": ""
           }
          },
          "scene": {
           "xaxis": {
            "backgroundcolor": "#E5ECF6",
            "gridcolor": "white",
            "gridwidth": 2,
            "linecolor": "white",
            "showbackground": true,
            "ticks": "",
            "zerolinecolor": "white"
           },
           "yaxis": {
            "backgroundcolor": "#E5ECF6",
            "gridcolor": "white",
            "gridwidth": 2,
            "linecolor": "white",
            "showbackground": true,
            "ticks": "",
            "zerolinecolor": "white"
           },
           "zaxis": {
            "backgroundcolor": "#E5ECF6",
            "gridcolor": "white",
            "gridwidth": 2,
            "linecolor": "white",
            "showbackground": true,
            "ticks": "",
            "zerolinecolor": "white"
           }
          },
          "shapedefaults": {
           "line": {
            "color": "#2a3f5f"
           }
          },
          "ternary": {
           "aaxis": {
            "gridcolor": "white",
            "linecolor": "white",
            "ticks": ""
           },
           "baxis": {
            "gridcolor": "white",
            "linecolor": "white",
            "ticks": ""
           },
           "bgcolor": "#E5ECF6",
           "caxis": {
            "gridcolor": "white",
            "linecolor": "white",
            "ticks": ""
           }
          },
          "title": {
           "x": 0.05
          },
          "xaxis": {
           "automargin": true,
           "gridcolor": "white",
           "linecolor": "white",
           "ticks": "",
           "title": {
            "standoff": 15
           },
           "zerolinecolor": "white",
           "zerolinewidth": 2
          },
          "yaxis": {
           "automargin": true,
           "gridcolor": "white",
           "linecolor": "white",
           "ticks": "",
           "title": {
            "standoff": 15
           },
           "zerolinecolor": "white",
           "zerolinewidth": 2
          }
         }
        },
        "title": {
         "text": "2D 히스토그램"
        },
        "xaxis": {
         "title": {
          "text": "X축"
         }
        },
        "yaxis": {
         "title": {
          "text": "Y축"
         }
        }
       }
      }
     },
     "metadata": {},
     "output_type": "display_data"
    }
   ],
   "source": [
    "import plotly.graph_objects as go\n",
    "import numpy as np\n",
    "\n",
    "np.random.seed(0)\n",
    "x = np.random.randn(500)\n",
    "y = np.random.randn(500)\n",
    "\n",
    "fig = go.Figure(data=go.Histogram2d(x=x, y=y, colorscale='Blues'))\n",
    "fig.update_layout(title=\"2D 히스토그램\", xaxis_title=\"X축\", yaxis_title=\"Y축\")\n",
    "fig.show()\n"
   ]
  },
  {
   "cell_type": "markdown",
   "metadata": {},
   "source": [
    "## 2-16: 그룹별 박스 플롯 (Grouped Box Plot)\n",
    "- 여러 그룹에 대한 데이터 분포를 비교할 수 있도록, 각 그룹별 박스 플롯을 만들어보세요."
   ]
  },
  {
   "cell_type": "code",
   "execution_count": 18,
   "metadata": {},
   "outputs": [
    {
     "data": {
      "application/vnd.plotly.v1+json": {
       "config": {
        "plotlyServerURL": "https://plot.ly"
       },
       "data": [
        {
         "name": "A",
         "type": "box",
         "y": {
          "bdata": "pc/l8445/D9Ticz6LJzZP6vJIlLSUe8/TjHjaVntAUDaPbF8hOH9P4KMpULcRe+/6ZUy0x9n7j82hNNJrF/Dv1m0yPiMbLq/Ziln8D5H2j/t4aoNBXDCP/eF/Uu0RPc/E+qQyWta6D+Qs5MIGCa/P8t1IlVBaNw/5JXlkOta1T87mU11v+f3P7ZqsECgQsq/hJEBHU0J1D/whX6WwFTrvzo6sOyFbATAZilvi3Hq5D9skHIadqnrP9kvXNvQv+e/vcW/HHUoAkANOg3xFEX3v111pQ6pbac/OKQZ8aP1x7/Hh1p/Q4b4Pw4AbVd+gvc/z9v7NlHVwz8z6pCR0DPYP8qj/ae9aOy/eN0wo1ex/79FKc9RMUTWv+5OiDY+A8Q/RcnkR0Wv8z8kYP6m8jzzP/hgaGv2ydi/9Y/Nou1Y079TZFF538bwv12sfrpkuPa/YPyt+OFM+7/MysVCYDb/PzarnhcST+C/Zdaoy2gJ3L9u678lcwv0v1EcaHQz4eg/BIqljIbS+b+jygfREjvLvyKhX32pp+y/mvXCsQLD2D8/lg8EhFjgv66StpLe4/K/E/UrVM3bnL9Cz/ATymnbP7Wnwc5FB7E/ORcwF7Nb0z/5re/YXUzkv3r4NLkmN9e/pKPhxcuE5b+mXH9D6wLXv2fWB1pLBeq/drGKgdqe+79PuDdb5rXGP4XtSmPHttm/FWaj3EoV+r+Jvyl3OZ7dP6ywV5SWCO2/CpA+QJaYqj8p/gu7tVTnP2UVuRODgsA/sXRSNvw68j8Rziq42MHzv25Mqyf3v9k/3OYR2vbp5b969aX7kd3rv9zWbrvvheK/iEYeCHrw078+PxcotMGsP32q0Sh0pPK/fNeaEZLT7D+ci2fVac3dP170c0J0lPi/ctZIiOHP9z+TRH7jj1X+P3wttfdH3PI/Cq/G6sYHx7+d5zeAzSHxv0sUJsYI3/A/SA9wrqbN2b/gLuePIo/zP1ImtSXBqMo/Ujk2gqBA7z9KeVABtc7WP2GyM1U/nOY/zHLT7AiBhT+LeGPw7JL8PwSC0MunPsA/NW5VmDG62T8=",
          "dtype": "f8"
         }
        },
        {
         "name": "B",
         "type": "box",
         "y": {
          "bdata": "pl4KULEQB0BspZ84r0HWv2yCo0+gT9G/LDhmH6aC/z/QmJFh6CjGv2JpoUOJjAdAmzmUIKLD4j888WdLsynQP6Cy3m0vYgdAEqSTIxjYA0AuEpPAwvAGQOYhAK8of/4/bIAbVFvDwT92XlYi0EcHQF150TGEbOc/tJWGhNzW/D/sjuqt8Sf/P5r/80UoCus/FI7M40TT+T/8f2jIW8H+P/IVG8fWBfY/8HLBiFRyub/jI0pklcX0P+QrgTVwnAJA7ndmPzOM0z/lGd6fMTbrPxzB09s4E+I/ffsbyErLBkA2QKoluMH6P/tg0LP2hPY/cNzL22NzzT+G4o/Cw6D4P5iF9tK719Q/A9RswmCC8D+iqQRATE7XPyWI+7er0vo/yo/ISrc5+T8o1x/ZnVXpP0ENfiILVvY/oJGDCOHSt7/QQ6Wvw3DfvzEKsZe/B/c/pMK707Gq8j/BIla5Fin6Py1kLTWuEAtA8d3FhZYc/z9IyKdaSFG2P53EUzym7wBAhIEtt9M31L/Oej/ssjrhP/XuHPv20O0/3JZiB+20BUCo3/De71XQP6waJxBDN8Y/xUpsF3rZ7D/4/Z1ekonVP+yRv7FZAwFAMEJXLmR2tL9wO6W3QODCv8JCSdFg/eE/EsH9Px4Q4D9C0l2Arm8HQIw1Pt/TMP8/2pNnIZxm8T8Yvl0yEtvMv9qQmcCCgv0/AOCs/ds5LL+Y6I7Lw27hv02dhsMVgQFAGNGOajIS9T9C8kV21rv+P6+J2yqCGfU/8lYFBJS1/T8Krvq/mFXWP8A5LBtHiKG/fHBSp8/n+j8QoIpD3ynJPxJT5ptq3tM/oBhkGUds4T+7/AU6mEfwP3LcBfYUrOQ/zLC0tTP/17+ipy7C9M7WPxoJCi8Pk/O/dHqpsfIA+j+uZaRqDkTjv6CrF9XduLq/xbTWDKvV8D8IuUr3/6rQP0ouRAkYWARAmN5q6Cq+0r/bkeMh10X0P9hhjfUxvu4/IP67dRaExb9U5/tYV1/4P2jatESxguo/NjGNDEFZ/D9cTxaxEi39P2CJPaZOTglAaifIkDWxAkA=",
          "dtype": "f8"
         }
        },
        {
         "name": "C",
         "type": "box",
         "y": {
          "bdata": "GCn8yNQX+j8CfU+9gCv8P7SKiFQazAhABqst6fo9BUBj0g1H/R4FQFxjp8vKg9g/UUq0NVyc/z8IZFiABjH0P5rksRtJPQJAKk1m2/lt/j8lIh7hC0gHQH2JH7SpiQJAzYGJUGZKBkDUoBQhjIn4PwQGoFKM4/A/EF2fu29w+T+VnHHNSLr/Pxxyg7SACANA8RsbSYgJEUDfhjkq6lL/P7m94QNztPA//b5F0Nt2+j+MZyVjHJX4Py3le/US2gNAvOVL65Rj3T+AXCGBj4EAQCxf8X+GQAFARdopu4HbAUAfsqa0ZHH2P+dq/Pt4Mfw/Sg4N0Rdu4j+u4iecXBv4P6D/I3xwUPc/cYnxCxJUA0Awr2OzjQDrP2hVVMrkPwZAO74XULT0C0DAkqThieqxv36cYlb6aANAEtaGwk5qBUAI5l/VDs31PxpdXU/GpPk/0tiPnbjf/T+Mwn6hPzz7P6pxvmpIDvs/wNb1h1q81D/UIoec+TcJQBydhxIPowhAELkvwnX88j8A8cBJDRPhP8ir2w8kKwRA9Y/DjZLJ9j9DNhBXuCIBQJvauuIH5Po/5xr+d0WIBUCUaZej2I4FQBn41gD0Y/Q/+p2jg3u74z8sPvclI7HaP4pYe5UO4gRAFqoIbt306T/WWNOIFOT3P6BZK2l/dfY/Ne7aMa8o/z/w6Pt190+wP2pQW1qeggFAdknwxu0wBECdzqCjFrUAQDtsvDicBvs/v/4FvXnHAEDA5uA1PzEDQJxTv3EUuei/rD4uWrWlD0A0qXo/6R4DQNdJsAS8j/U/Wu90rKe++T/GEZPjLvMDQOSRLjJwJP4/AHx3xr9rn794dKlqCkIQQFPuRLg5O/4/XLqIT1ApCEA4B4kjXe30P/J7kg2ASgxArqpZj25KAkDgiyuE6d4EQGStC9BIje4/GCIP8WywCUDI6MZiv4QFQHo4I1suagpAHQqFdVrz9T99jBuCtk34PxwLVfA1NxFAtGOFslkU7j9Q+BpoJtP9Px3eq39aGAlAJbQiByTIAEBs/Gye46kEQCFarlXbm/k/jPp/3N/1AkA=",
          "dtype": "f8"
         }
        }
       ],
       "layout": {
        "template": {
         "data": {
          "bar": [
           {
            "error_x": {
             "color": "#2a3f5f"
            },
            "error_y": {
             "color": "#2a3f5f"
            },
            "marker": {
             "line": {
              "color": "#E5ECF6",
              "width": 0.5
             },
             "pattern": {
              "fillmode": "overlay",
              "size": 10,
              "solidity": 0.2
             }
            },
            "type": "bar"
           }
          ],
          "barpolar": [
           {
            "marker": {
             "line": {
              "color": "#E5ECF6",
              "width": 0.5
             },
             "pattern": {
              "fillmode": "overlay",
              "size": 10,
              "solidity": 0.2
             }
            },
            "type": "barpolar"
           }
          ],
          "carpet": [
           {
            "aaxis": {
             "endlinecolor": "#2a3f5f",
             "gridcolor": "white",
             "linecolor": "white",
             "minorgridcolor": "white",
             "startlinecolor": "#2a3f5f"
            },
            "baxis": {
             "endlinecolor": "#2a3f5f",
             "gridcolor": "white",
             "linecolor": "white",
             "minorgridcolor": "white",
             "startlinecolor": "#2a3f5f"
            },
            "type": "carpet"
           }
          ],
          "choropleth": [
           {
            "colorbar": {
             "outlinewidth": 0,
             "ticks": ""
            },
            "type": "choropleth"
           }
          ],
          "contour": [
           {
            "colorbar": {
             "outlinewidth": 0,
             "ticks": ""
            },
            "colorscale": [
             [
              0,
              "#0d0887"
             ],
             [
              0.1111111111111111,
              "#46039f"
             ],
             [
              0.2222222222222222,
              "#7201a8"
             ],
             [
              0.3333333333333333,
              "#9c179e"
             ],
             [
              0.4444444444444444,
              "#bd3786"
             ],
             [
              0.5555555555555556,
              "#d8576b"
             ],
             [
              0.6666666666666666,
              "#ed7953"
             ],
             [
              0.7777777777777778,
              "#fb9f3a"
             ],
             [
              0.8888888888888888,
              "#fdca26"
             ],
             [
              1,
              "#f0f921"
             ]
            ],
            "type": "contour"
           }
          ],
          "contourcarpet": [
           {
            "colorbar": {
             "outlinewidth": 0,
             "ticks": ""
            },
            "type": "contourcarpet"
           }
          ],
          "heatmap": [
           {
            "colorbar": {
             "outlinewidth": 0,
             "ticks": ""
            },
            "colorscale": [
             [
              0,
              "#0d0887"
             ],
             [
              0.1111111111111111,
              "#46039f"
             ],
             [
              0.2222222222222222,
              "#7201a8"
             ],
             [
              0.3333333333333333,
              "#9c179e"
             ],
             [
              0.4444444444444444,
              "#bd3786"
             ],
             [
              0.5555555555555556,
              "#d8576b"
             ],
             [
              0.6666666666666666,
              "#ed7953"
             ],
             [
              0.7777777777777778,
              "#fb9f3a"
             ],
             [
              0.8888888888888888,
              "#fdca26"
             ],
             [
              1,
              "#f0f921"
             ]
            ],
            "type": "heatmap"
           }
          ],
          "histogram": [
           {
            "marker": {
             "pattern": {
              "fillmode": "overlay",
              "size": 10,
              "solidity": 0.2
             }
            },
            "type": "histogram"
           }
          ],
          "histogram2d": [
           {
            "colorbar": {
             "outlinewidth": 0,
             "ticks": ""
            },
            "colorscale": [
             [
              0,
              "#0d0887"
             ],
             [
              0.1111111111111111,
              "#46039f"
             ],
             [
              0.2222222222222222,
              "#7201a8"
             ],
             [
              0.3333333333333333,
              "#9c179e"
             ],
             [
              0.4444444444444444,
              "#bd3786"
             ],
             [
              0.5555555555555556,
              "#d8576b"
             ],
             [
              0.6666666666666666,
              "#ed7953"
             ],
             [
              0.7777777777777778,
              "#fb9f3a"
             ],
             [
              0.8888888888888888,
              "#fdca26"
             ],
             [
              1,
              "#f0f921"
             ]
            ],
            "type": "histogram2d"
           }
          ],
          "histogram2dcontour": [
           {
            "colorbar": {
             "outlinewidth": 0,
             "ticks": ""
            },
            "colorscale": [
             [
              0,
              "#0d0887"
             ],
             [
              0.1111111111111111,
              "#46039f"
             ],
             [
              0.2222222222222222,
              "#7201a8"
             ],
             [
              0.3333333333333333,
              "#9c179e"
             ],
             [
              0.4444444444444444,
              "#bd3786"
             ],
             [
              0.5555555555555556,
              "#d8576b"
             ],
             [
              0.6666666666666666,
              "#ed7953"
             ],
             [
              0.7777777777777778,
              "#fb9f3a"
             ],
             [
              0.8888888888888888,
              "#fdca26"
             ],
             [
              1,
              "#f0f921"
             ]
            ],
            "type": "histogram2dcontour"
           }
          ],
          "mesh3d": [
           {
            "colorbar": {
             "outlinewidth": 0,
             "ticks": ""
            },
            "type": "mesh3d"
           }
          ],
          "parcoords": [
           {
            "line": {
             "colorbar": {
              "outlinewidth": 0,
              "ticks": ""
             }
            },
            "type": "parcoords"
           }
          ],
          "pie": [
           {
            "automargin": true,
            "type": "pie"
           }
          ],
          "scatter": [
           {
            "fillpattern": {
             "fillmode": "overlay",
             "size": 10,
             "solidity": 0.2
            },
            "type": "scatter"
           }
          ],
          "scatter3d": [
           {
            "line": {
             "colorbar": {
              "outlinewidth": 0,
              "ticks": ""
             }
            },
            "marker": {
             "colorbar": {
              "outlinewidth": 0,
              "ticks": ""
             }
            },
            "type": "scatter3d"
           }
          ],
          "scattercarpet": [
           {
            "marker": {
             "colorbar": {
              "outlinewidth": 0,
              "ticks": ""
             }
            },
            "type": "scattercarpet"
           }
          ],
          "scattergeo": [
           {
            "marker": {
             "colorbar": {
              "outlinewidth": 0,
              "ticks": ""
             }
            },
            "type": "scattergeo"
           }
          ],
          "scattergl": [
           {
            "marker": {
             "colorbar": {
              "outlinewidth": 0,
              "ticks": ""
             }
            },
            "type": "scattergl"
           }
          ],
          "scattermap": [
           {
            "marker": {
             "colorbar": {
              "outlinewidth": 0,
              "ticks": ""
             }
            },
            "type": "scattermap"
           }
          ],
          "scattermapbox": [
           {
            "marker": {
             "colorbar": {
              "outlinewidth": 0,
              "ticks": ""
             }
            },
            "type": "scattermapbox"
           }
          ],
          "scatterpolar": [
           {
            "marker": {
             "colorbar": {
              "outlinewidth": 0,
              "ticks": ""
             }
            },
            "type": "scatterpolar"
           }
          ],
          "scatterpolargl": [
           {
            "marker": {
             "colorbar": {
              "outlinewidth": 0,
              "ticks": ""
             }
            },
            "type": "scatterpolargl"
           }
          ],
          "scatterternary": [
           {
            "marker": {
             "colorbar": {
              "outlinewidth": 0,
              "ticks": ""
             }
            },
            "type": "scatterternary"
           }
          ],
          "surface": [
           {
            "colorbar": {
             "outlinewidth": 0,
             "ticks": ""
            },
            "colorscale": [
             [
              0,
              "#0d0887"
             ],
             [
              0.1111111111111111,
              "#46039f"
             ],
             [
              0.2222222222222222,
              "#7201a8"
             ],
             [
              0.3333333333333333,
              "#9c179e"
             ],
             [
              0.4444444444444444,
              "#bd3786"
             ],
             [
              0.5555555555555556,
              "#d8576b"
             ],
             [
              0.6666666666666666,
              "#ed7953"
             ],
             [
              0.7777777777777778,
              "#fb9f3a"
             ],
             [
              0.8888888888888888,
              "#fdca26"
             ],
             [
              1,
              "#f0f921"
             ]
            ],
            "type": "surface"
           }
          ],
          "table": [
           {
            "cells": {
             "fill": {
              "color": "#EBF0F8"
             },
             "line": {
              "color": "white"
             }
            },
            "header": {
             "fill": {
              "color": "#C8D4E3"
             },
             "line": {
              "color": "white"
             }
            },
            "type": "table"
           }
          ]
         },
         "layout": {
          "annotationdefaults": {
           "arrowcolor": "#2a3f5f",
           "arrowhead": 0,
           "arrowwidth": 1
          },
          "autotypenumbers": "strict",
          "coloraxis": {
           "colorbar": {
            "outlinewidth": 0,
            "ticks": ""
           }
          },
          "colorscale": {
           "diverging": [
            [
             0,
             "#8e0152"
            ],
            [
             0.1,
             "#c51b7d"
            ],
            [
             0.2,
             "#de77ae"
            ],
            [
             0.3,
             "#f1b6da"
            ],
            [
             0.4,
             "#fde0ef"
            ],
            [
             0.5,
             "#f7f7f7"
            ],
            [
             0.6,
             "#e6f5d0"
            ],
            [
             0.7,
             "#b8e186"
            ],
            [
             0.8,
             "#7fbc41"
            ],
            [
             0.9,
             "#4d9221"
            ],
            [
             1,
             "#276419"
            ]
           ],
           "sequential": [
            [
             0,
             "#0d0887"
            ],
            [
             0.1111111111111111,
             "#46039f"
            ],
            [
             0.2222222222222222,
             "#7201a8"
            ],
            [
             0.3333333333333333,
             "#9c179e"
            ],
            [
             0.4444444444444444,
             "#bd3786"
            ],
            [
             0.5555555555555556,
             "#d8576b"
            ],
            [
             0.6666666666666666,
             "#ed7953"
            ],
            [
             0.7777777777777778,
             "#fb9f3a"
            ],
            [
             0.8888888888888888,
             "#fdca26"
            ],
            [
             1,
             "#f0f921"
            ]
           ],
           "sequentialminus": [
            [
             0,
             "#0d0887"
            ],
            [
             0.1111111111111111,
             "#46039f"
            ],
            [
             0.2222222222222222,
             "#7201a8"
            ],
            [
             0.3333333333333333,
             "#9c179e"
            ],
            [
             0.4444444444444444,
             "#bd3786"
            ],
            [
             0.5555555555555556,
             "#d8576b"
            ],
            [
             0.6666666666666666,
             "#ed7953"
            ],
            [
             0.7777777777777778,
             "#fb9f3a"
            ],
            [
             0.8888888888888888,
             "#fdca26"
            ],
            [
             1,
             "#f0f921"
            ]
           ]
          },
          "colorway": [
           "#636efa",
           "#EF553B",
           "#00cc96",
           "#ab63fa",
           "#FFA15A",
           "#19d3f3",
           "#FF6692",
           "#B6E880",
           "#FF97FF",
           "#FECB52"
          ],
          "font": {
           "color": "#2a3f5f"
          },
          "geo": {
           "bgcolor": "white",
           "lakecolor": "white",
           "landcolor": "#E5ECF6",
           "showlakes": true,
           "showland": true,
           "subunitcolor": "white"
          },
          "hoverlabel": {
           "align": "left"
          },
          "hovermode": "closest",
          "mapbox": {
           "style": "light"
          },
          "paper_bgcolor": "white",
          "plot_bgcolor": "#E5ECF6",
          "polar": {
           "angularaxis": {
            "gridcolor": "white",
            "linecolor": "white",
            "ticks": ""
           },
           "bgcolor": "#E5ECF6",
           "radialaxis": {
            "gridcolor": "white",
            "linecolor": "white",
            "ticks": ""
           }
          },
          "scene": {
           "xaxis": {
            "backgroundcolor": "#E5ECF6",
            "gridcolor": "white",
            "gridwidth": 2,
            "linecolor": "white",
            "showbackground": true,
            "ticks": "",
            "zerolinecolor": "white"
           },
           "yaxis": {
            "backgroundcolor": "#E5ECF6",
            "gridcolor": "white",
            "gridwidth": 2,
            "linecolor": "white",
            "showbackground": true,
            "ticks": "",
            "zerolinecolor": "white"
           },
           "zaxis": {
            "backgroundcolor": "#E5ECF6",
            "gridcolor": "white",
            "gridwidth": 2,
            "linecolor": "white",
            "showbackground": true,
            "ticks": "",
            "zerolinecolor": "white"
           }
          },
          "shapedefaults": {
           "line": {
            "color": "#2a3f5f"
           }
          },
          "ternary": {
           "aaxis": {
            "gridcolor": "white",
            "linecolor": "white",
            "ticks": ""
           },
           "baxis": {
            "gridcolor": "white",
            "linecolor": "white",
            "ticks": ""
           },
           "bgcolor": "#E5ECF6",
           "caxis": {
            "gridcolor": "white",
            "linecolor": "white",
            "ticks": ""
           }
          },
          "title": {
           "x": 0.05
          },
          "xaxis": {
           "automargin": true,
           "gridcolor": "white",
           "linecolor": "white",
           "ticks": "",
           "title": {
            "standoff": 15
           },
           "zerolinecolor": "white",
           "zerolinewidth": 2
          },
          "yaxis": {
           "automargin": true,
           "gridcolor": "white",
           "linecolor": "white",
           "ticks": "",
           "title": {
            "standoff": 15
           },
           "zerolinecolor": "white",
           "zerolinewidth": 2
          }
         }
        },
        "title": {
         "text": "그룹별 박스 플롯"
        },
        "yaxis": {
         "title": {
          "text": "값"
         }
        }
       }
      }
     },
     "metadata": {},
     "output_type": "display_data"
    }
   ],
   "source": [
    "import plotly.graph_objects as go\n",
    "import pandas as pd\n",
    "import numpy as np\n",
    "\n",
    "np.random.seed(0)\n",
    "# 그룹 A, B, C에 대한 임의 데이터 생성\n",
    "df = pd.DataFrame({\n",
    "    \"그룹\": np.repeat([\"A\", \"B\", \"C\"], 100),\n",
    "    \"값\": np.concatenate([np.random.randn(100) + i for i in range(3)])\n",
    "})\n",
    "\n",
    "fig = go.Figure()\n",
    "for group in df[\"그룹\"].unique():\n",
    "    fig.add_trace(go.Box(y=df[df[\"그룹\"] == group][\"값\"], name=group))\n",
    "\n",
    "fig.update_layout(title=\"그룹별 박스 플롯\", yaxis_title=\"값\")\n",
    "fig.show()\n"
   ]
  },
  {
   "cell_type": "markdown",
   "metadata": {},
   "source": [
    "## 2-17: 레이더 차트 (Radar Chart / Scatterpolar)\n",
    "- 여러 평가 지표를 한 눈에 비교할 수 있도록, 두 제품의 평가지표를 레이더 차트로 시각화해보세요."
   ]
  },
  {
   "cell_type": "code",
   "execution_count": 19,
   "metadata": {},
   "outputs": [
    {
     "data": {
      "application/vnd.plotly.v1+json": {
       "config": {
        "plotlyServerURL": "https://plot.ly"
       },
       "data": [
        {
         "fill": "toself",
         "name": "제품 A",
         "r": [
          4,
          3,
          5,
          4,
          4,
          4
         ],
         "theta": [
          "품질",
          "가격",
          "디자인",
          "사용성",
          "신뢰도",
          "품질"
         ],
         "type": "scatterpolar"
        },
        {
         "fill": "toself",
         "name": "제품 B",
         "r": [
          3,
          4,
          4,
          3,
          5,
          3
         ],
         "theta": [
          "품질",
          "가격",
          "디자인",
          "사용성",
          "신뢰도",
          "품질"
         ],
         "type": "scatterpolar"
        }
       ],
       "layout": {
        "polar": {
         "radialaxis": {
          "range": [
           0,
           5
          ],
          "visible": true
         }
        },
        "showlegend": true,
        "template": {
         "data": {
          "bar": [
           {
            "error_x": {
             "color": "#2a3f5f"
            },
            "error_y": {
             "color": "#2a3f5f"
            },
            "marker": {
             "line": {
              "color": "#E5ECF6",
              "width": 0.5
             },
             "pattern": {
              "fillmode": "overlay",
              "size": 10,
              "solidity": 0.2
             }
            },
            "type": "bar"
           }
          ],
          "barpolar": [
           {
            "marker": {
             "line": {
              "color": "#E5ECF6",
              "width": 0.5
             },
             "pattern": {
              "fillmode": "overlay",
              "size": 10,
              "solidity": 0.2
             }
            },
            "type": "barpolar"
           }
          ],
          "carpet": [
           {
            "aaxis": {
             "endlinecolor": "#2a3f5f",
             "gridcolor": "white",
             "linecolor": "white",
             "minorgridcolor": "white",
             "startlinecolor": "#2a3f5f"
            },
            "baxis": {
             "endlinecolor": "#2a3f5f",
             "gridcolor": "white",
             "linecolor": "white",
             "minorgridcolor": "white",
             "startlinecolor": "#2a3f5f"
            },
            "type": "carpet"
           }
          ],
          "choropleth": [
           {
            "colorbar": {
             "outlinewidth": 0,
             "ticks": ""
            },
            "type": "choropleth"
           }
          ],
          "contour": [
           {
            "colorbar": {
             "outlinewidth": 0,
             "ticks": ""
            },
            "colorscale": [
             [
              0,
              "#0d0887"
             ],
             [
              0.1111111111111111,
              "#46039f"
             ],
             [
              0.2222222222222222,
              "#7201a8"
             ],
             [
              0.3333333333333333,
              "#9c179e"
             ],
             [
              0.4444444444444444,
              "#bd3786"
             ],
             [
              0.5555555555555556,
              "#d8576b"
             ],
             [
              0.6666666666666666,
              "#ed7953"
             ],
             [
              0.7777777777777778,
              "#fb9f3a"
             ],
             [
              0.8888888888888888,
              "#fdca26"
             ],
             [
              1,
              "#f0f921"
             ]
            ],
            "type": "contour"
           }
          ],
          "contourcarpet": [
           {
            "colorbar": {
             "outlinewidth": 0,
             "ticks": ""
            },
            "type": "contourcarpet"
           }
          ],
          "heatmap": [
           {
            "colorbar": {
             "outlinewidth": 0,
             "ticks": ""
            },
            "colorscale": [
             [
              0,
              "#0d0887"
             ],
             [
              0.1111111111111111,
              "#46039f"
             ],
             [
              0.2222222222222222,
              "#7201a8"
             ],
             [
              0.3333333333333333,
              "#9c179e"
             ],
             [
              0.4444444444444444,
              "#bd3786"
             ],
             [
              0.5555555555555556,
              "#d8576b"
             ],
             [
              0.6666666666666666,
              "#ed7953"
             ],
             [
              0.7777777777777778,
              "#fb9f3a"
             ],
             [
              0.8888888888888888,
              "#fdca26"
             ],
             [
              1,
              "#f0f921"
             ]
            ],
            "type": "heatmap"
           }
          ],
          "histogram": [
           {
            "marker": {
             "pattern": {
              "fillmode": "overlay",
              "size": 10,
              "solidity": 0.2
             }
            },
            "type": "histogram"
           }
          ],
          "histogram2d": [
           {
            "colorbar": {
             "outlinewidth": 0,
             "ticks": ""
            },
            "colorscale": [
             [
              0,
              "#0d0887"
             ],
             [
              0.1111111111111111,
              "#46039f"
             ],
             [
              0.2222222222222222,
              "#7201a8"
             ],
             [
              0.3333333333333333,
              "#9c179e"
             ],
             [
              0.4444444444444444,
              "#bd3786"
             ],
             [
              0.5555555555555556,
              "#d8576b"
             ],
             [
              0.6666666666666666,
              "#ed7953"
             ],
             [
              0.7777777777777778,
              "#fb9f3a"
             ],
             [
              0.8888888888888888,
              "#fdca26"
             ],
             [
              1,
              "#f0f921"
             ]
            ],
            "type": "histogram2d"
           }
          ],
          "histogram2dcontour": [
           {
            "colorbar": {
             "outlinewidth": 0,
             "ticks": ""
            },
            "colorscale": [
             [
              0,
              "#0d0887"
             ],
             [
              0.1111111111111111,
              "#46039f"
             ],
             [
              0.2222222222222222,
              "#7201a8"
             ],
             [
              0.3333333333333333,
              "#9c179e"
             ],
             [
              0.4444444444444444,
              "#bd3786"
             ],
             [
              0.5555555555555556,
              "#d8576b"
             ],
             [
              0.6666666666666666,
              "#ed7953"
             ],
             [
              0.7777777777777778,
              "#fb9f3a"
             ],
             [
              0.8888888888888888,
              "#fdca26"
             ],
             [
              1,
              "#f0f921"
             ]
            ],
            "type": "histogram2dcontour"
           }
          ],
          "mesh3d": [
           {
            "colorbar": {
             "outlinewidth": 0,
             "ticks": ""
            },
            "type": "mesh3d"
           }
          ],
          "parcoords": [
           {
            "line": {
             "colorbar": {
              "outlinewidth": 0,
              "ticks": ""
             }
            },
            "type": "parcoords"
           }
          ],
          "pie": [
           {
            "automargin": true,
            "type": "pie"
           }
          ],
          "scatter": [
           {
            "fillpattern": {
             "fillmode": "overlay",
             "size": 10,
             "solidity": 0.2
            },
            "type": "scatter"
           }
          ],
          "scatter3d": [
           {
            "line": {
             "colorbar": {
              "outlinewidth": 0,
              "ticks": ""
             }
            },
            "marker": {
             "colorbar": {
              "outlinewidth": 0,
              "ticks": ""
             }
            },
            "type": "scatter3d"
           }
          ],
          "scattercarpet": [
           {
            "marker": {
             "colorbar": {
              "outlinewidth": 0,
              "ticks": ""
             }
            },
            "type": "scattercarpet"
           }
          ],
          "scattergeo": [
           {
            "marker": {
             "colorbar": {
              "outlinewidth": 0,
              "ticks": ""
             }
            },
            "type": "scattergeo"
           }
          ],
          "scattergl": [
           {
            "marker": {
             "colorbar": {
              "outlinewidth": 0,
              "ticks": ""
             }
            },
            "type": "scattergl"
           }
          ],
          "scattermap": [
           {
            "marker": {
             "colorbar": {
              "outlinewidth": 0,
              "ticks": ""
             }
            },
            "type": "scattermap"
           }
          ],
          "scattermapbox": [
           {
            "marker": {
             "colorbar": {
              "outlinewidth": 0,
              "ticks": ""
             }
            },
            "type": "scattermapbox"
           }
          ],
          "scatterpolar": [
           {
            "marker": {
             "colorbar": {
              "outlinewidth": 0,
              "ticks": ""
             }
            },
            "type": "scatterpolar"
           }
          ],
          "scatterpolargl": [
           {
            "marker": {
             "colorbar": {
              "outlinewidth": 0,
              "ticks": ""
             }
            },
            "type": "scatterpolargl"
           }
          ],
          "scatterternary": [
           {
            "marker": {
             "colorbar": {
              "outlinewidth": 0,
              "ticks": ""
             }
            },
            "type": "scatterternary"
           }
          ],
          "surface": [
           {
            "colorbar": {
             "outlinewidth": 0,
             "ticks": ""
            },
            "colorscale": [
             [
              0,
              "#0d0887"
             ],
             [
              0.1111111111111111,
              "#46039f"
             ],
             [
              0.2222222222222222,
              "#7201a8"
             ],
             [
              0.3333333333333333,
              "#9c179e"
             ],
             [
              0.4444444444444444,
              "#bd3786"
             ],
             [
              0.5555555555555556,
              "#d8576b"
             ],
             [
              0.6666666666666666,
              "#ed7953"
             ],
             [
              0.7777777777777778,
              "#fb9f3a"
             ],
             [
              0.8888888888888888,
              "#fdca26"
             ],
             [
              1,
              "#f0f921"
             ]
            ],
            "type": "surface"
           }
          ],
          "table": [
           {
            "cells": {
             "fill": {
              "color": "#EBF0F8"
             },
             "line": {
              "color": "white"
             }
            },
            "header": {
             "fill": {
              "color": "#C8D4E3"
             },
             "line": {
              "color": "white"
             }
            },
            "type": "table"
           }
          ]
         },
         "layout": {
          "annotationdefaults": {
           "arrowcolor": "#2a3f5f",
           "arrowhead": 0,
           "arrowwidth": 1
          },
          "autotypenumbers": "strict",
          "coloraxis": {
           "colorbar": {
            "outlinewidth": 0,
            "ticks": ""
           }
          },
          "colorscale": {
           "diverging": [
            [
             0,
             "#8e0152"
            ],
            [
             0.1,
             "#c51b7d"
            ],
            [
             0.2,
             "#de77ae"
            ],
            [
             0.3,
             "#f1b6da"
            ],
            [
             0.4,
             "#fde0ef"
            ],
            [
             0.5,
             "#f7f7f7"
            ],
            [
             0.6,
             "#e6f5d0"
            ],
            [
             0.7,
             "#b8e186"
            ],
            [
             0.8,
             "#7fbc41"
            ],
            [
             0.9,
             "#4d9221"
            ],
            [
             1,
             "#276419"
            ]
           ],
           "sequential": [
            [
             0,
             "#0d0887"
            ],
            [
             0.1111111111111111,
             "#46039f"
            ],
            [
             0.2222222222222222,
             "#7201a8"
            ],
            [
             0.3333333333333333,
             "#9c179e"
            ],
            [
             0.4444444444444444,
             "#bd3786"
            ],
            [
             0.5555555555555556,
             "#d8576b"
            ],
            [
             0.6666666666666666,
             "#ed7953"
            ],
            [
             0.7777777777777778,
             "#fb9f3a"
            ],
            [
             0.8888888888888888,
             "#fdca26"
            ],
            [
             1,
             "#f0f921"
            ]
           ],
           "sequentialminus": [
            [
             0,
             "#0d0887"
            ],
            [
             0.1111111111111111,
             "#46039f"
            ],
            [
             0.2222222222222222,
             "#7201a8"
            ],
            [
             0.3333333333333333,
             "#9c179e"
            ],
            [
             0.4444444444444444,
             "#bd3786"
            ],
            [
             0.5555555555555556,
             "#d8576b"
            ],
            [
             0.6666666666666666,
             "#ed7953"
            ],
            [
             0.7777777777777778,
             "#fb9f3a"
            ],
            [
             0.8888888888888888,
             "#fdca26"
            ],
            [
             1,
             "#f0f921"
            ]
           ]
          },
          "colorway": [
           "#636efa",
           "#EF553B",
           "#00cc96",
           "#ab63fa",
           "#FFA15A",
           "#19d3f3",
           "#FF6692",
           "#B6E880",
           "#FF97FF",
           "#FECB52"
          ],
          "font": {
           "color": "#2a3f5f"
          },
          "geo": {
           "bgcolor": "white",
           "lakecolor": "white",
           "landcolor": "#E5ECF6",
           "showlakes": true,
           "showland": true,
           "subunitcolor": "white"
          },
          "hoverlabel": {
           "align": "left"
          },
          "hovermode": "closest",
          "mapbox": {
           "style": "light"
          },
          "paper_bgcolor": "white",
          "plot_bgcolor": "#E5ECF6",
          "polar": {
           "angularaxis": {
            "gridcolor": "white",
            "linecolor": "white",
            "ticks": ""
           },
           "bgcolor": "#E5ECF6",
           "radialaxis": {
            "gridcolor": "white",
            "linecolor": "white",
            "ticks": ""
           }
          },
          "scene": {
           "xaxis": {
            "backgroundcolor": "#E5ECF6",
            "gridcolor": "white",
            "gridwidth": 2,
            "linecolor": "white",
            "showbackground": true,
            "ticks": "",
            "zerolinecolor": "white"
           },
           "yaxis": {
            "backgroundcolor": "#E5ECF6",
            "gridcolor": "white",
            "gridwidth": 2,
            "linecolor": "white",
            "showbackground": true,
            "ticks": "",
            "zerolinecolor": "white"
           },
           "zaxis": {
            "backgroundcolor": "#E5ECF6",
            "gridcolor": "white",
            "gridwidth": 2,
            "linecolor": "white",
            "showbackground": true,
            "ticks": "",
            "zerolinecolor": "white"
           }
          },
          "shapedefaults": {
           "line": {
            "color": "#2a3f5f"
           }
          },
          "ternary": {
           "aaxis": {
            "gridcolor": "white",
            "linecolor": "white",
            "ticks": ""
           },
           "baxis": {
            "gridcolor": "white",
            "linecolor": "white",
            "ticks": ""
           },
           "bgcolor": "#E5ECF6",
           "caxis": {
            "gridcolor": "white",
            "linecolor": "white",
            "ticks": ""
           }
          },
          "title": {
           "x": 0.05
          },
          "xaxis": {
           "automargin": true,
           "gridcolor": "white",
           "linecolor": "white",
           "ticks": "",
           "title": {
            "standoff": 15
           },
           "zerolinecolor": "white",
           "zerolinewidth": 2
          },
          "yaxis": {
           "automargin": true,
           "gridcolor": "white",
           "linecolor": "white",
           "ticks": "",
           "title": {
            "standoff": 15
           },
           "zerolinecolor": "white",
           "zerolinewidth": 2
          }
         }
        },
        "title": {
         "text": "제품 평가지표 레이더 차트"
        }
       }
      }
     },
     "metadata": {},
     "output_type": "display_data"
    }
   ],
   "source": [
    "import plotly.graph_objects as go\n",
    "\n",
    "# 평가 지표 및 데이터 설정\n",
    "categories = ['품질', '가격', '디자인', '사용성', '신뢰도']\n",
    "values_A = [4, 3, 5, 4, 4]\n",
    "values_B = [3, 4, 4, 3, 5]\n",
    "\n",
    "# 닫힌 경로를 위해 첫 번째 값과 항목을 반복\n",
    "values_A += [values_A[0]]\n",
    "values_B += [values_B[0]]\n",
    "categories += [categories[0]]\n",
    "\n",
    "fig = go.Figure()\n",
    "fig.add_trace(go.Scatterpolar(r=values_A, theta=categories, fill='toself', name='제품 A'))\n",
    "fig.add_trace(go.Scatterpolar(r=values_B, theta=categories, fill='toself', name='제품 B'))\n",
    "fig.update_layout(\n",
    "    polar=dict(\n",
    "        radialaxis=dict(visible=True, range=[0, 5])\n",
    "    ),\n",
    "    title=\"제품 평가지표 레이더 차트\",\n",
    "    showlegend=True\n",
    ")\n",
    "fig.show()\n"
   ]
  },
  {
   "cell_type": "markdown",
   "metadata": {},
   "source": [
    "## 2-18: 간트 차트 (Gantt Chart)\n",
    "- 프로젝트 일정 데이터를 기반으로 각 작업의 시작 및 종료 일정을 시각화하는 간트 차트를 만들어보세요.\n",
    "\n"
   ]
  },
  {
   "cell_type": "code",
   "execution_count": 20,
   "metadata": {},
   "outputs": [
    {
     "data": {
      "application/vnd.plotly.v1+json": {
       "config": {
        "plotlyServerURL": "https://plot.ly"
       },
       "data": [
        {
         "fill": "toself",
         "fillcolor": "rgb(255, 127, 14)",
         "hoverinfo": "name",
         "legendgroup": "rgb(255, 127, 14)",
         "mode": "none",
         "name": "팀 B",
         "showlegend": true,
         "type": "scatter",
         "x": [
          "2023-01-06",
          "2023-01-20",
          "2023-01-20",
          "2023-01-06"
         ],
         "y": [
          1.8,
          1.8,
          2.2,
          2.2
         ]
        },
        {
         "fill": "toself",
         "fillcolor": "rgb(31, 119, 180)",
         "hoverinfo": "name",
         "legendgroup": "rgb(31, 119, 180)",
         "mode": "none",
         "name": "팀 A",
         "showlegend": true,
         "type": "scatter",
         "x": [
          "2023-01-01",
          "2023-01-05",
          "2023-01-05",
          "2023-01-01",
          "2023-01-01",
          "2023-01-21",
          "2023-01-25",
          "2023-01-25",
          "2023-01-21"
         ],
         "y": [
          2.8,
          2.8,
          3.2,
          3.2,
          null,
          0.8,
          0.8,
          1.2,
          1.2
         ]
        },
        {
         "fill": "toself",
         "fillcolor": "rgb(44, 160, 44)",
         "hoverinfo": "name",
         "legendgroup": "rgb(44, 160, 44)",
         "mode": "none",
         "name": "팀 C",
         "showlegend": true,
         "type": "scatter",
         "x": [
          "2023-01-26",
          "2023-01-27",
          "2023-01-27",
          "2023-01-26"
         ],
         "y": [
          -0.2,
          -0.2,
          0.2,
          0.2
         ]
        },
        {
         "legendgroup": "rgb(255, 127, 14)",
         "marker": {
          "color": "rgb(255, 127, 14)",
          "opacity": 0,
          "size": 1
         },
         "mode": "markers",
         "name": "",
         "showlegend": false,
         "text": [
          null,
          null
         ],
         "type": "scatter",
         "x": [
          "2023-01-06",
          "2023-01-20"
         ],
         "y": [
          2,
          2
         ]
        },
        {
         "legendgroup": "rgb(31, 119, 180)",
         "marker": {
          "color": "rgb(31, 119, 180)",
          "opacity": 0,
          "size": 1
         },
         "mode": "markers",
         "name": "",
         "showlegend": false,
         "text": [
          null,
          null,
          null,
          null
         ],
         "type": "scatter",
         "x": [
          "2023-01-01",
          "2023-01-05",
          "2023-01-21",
          "2023-01-25"
         ],
         "y": [
          3,
          3,
          1,
          1
         ]
        },
        {
         "legendgroup": "rgb(44, 160, 44)",
         "marker": {
          "color": "rgb(44, 160, 44)",
          "opacity": 0,
          "size": 1
         },
         "mode": "markers",
         "name": "",
         "showlegend": false,
         "text": [
          null,
          null
         ],
         "type": "scatter",
         "x": [
          "2023-01-26",
          "2023-01-27"
         ],
         "y": [
          0,
          0
         ]
        }
       ],
       "layout": {
        "height": 600,
        "hovermode": "closest",
        "showlegend": true,
        "template": {
         "data": {
          "bar": [
           {
            "error_x": {
             "color": "#2a3f5f"
            },
            "error_y": {
             "color": "#2a3f5f"
            },
            "marker": {
             "line": {
              "color": "#E5ECF6",
              "width": 0.5
             },
             "pattern": {
              "fillmode": "overlay",
              "size": 10,
              "solidity": 0.2
             }
            },
            "type": "bar"
           }
          ],
          "barpolar": [
           {
            "marker": {
             "line": {
              "color": "#E5ECF6",
              "width": 0.5
             },
             "pattern": {
              "fillmode": "overlay",
              "size": 10,
              "solidity": 0.2
             }
            },
            "type": "barpolar"
           }
          ],
          "carpet": [
           {
            "aaxis": {
             "endlinecolor": "#2a3f5f",
             "gridcolor": "white",
             "linecolor": "white",
             "minorgridcolor": "white",
             "startlinecolor": "#2a3f5f"
            },
            "baxis": {
             "endlinecolor": "#2a3f5f",
             "gridcolor": "white",
             "linecolor": "white",
             "minorgridcolor": "white",
             "startlinecolor": "#2a3f5f"
            },
            "type": "carpet"
           }
          ],
          "choropleth": [
           {
            "colorbar": {
             "outlinewidth": 0,
             "ticks": ""
            },
            "type": "choropleth"
           }
          ],
          "contour": [
           {
            "colorbar": {
             "outlinewidth": 0,
             "ticks": ""
            },
            "colorscale": [
             [
              0,
              "#0d0887"
             ],
             [
              0.1111111111111111,
              "#46039f"
             ],
             [
              0.2222222222222222,
              "#7201a8"
             ],
             [
              0.3333333333333333,
              "#9c179e"
             ],
             [
              0.4444444444444444,
              "#bd3786"
             ],
             [
              0.5555555555555556,
              "#d8576b"
             ],
             [
              0.6666666666666666,
              "#ed7953"
             ],
             [
              0.7777777777777778,
              "#fb9f3a"
             ],
             [
              0.8888888888888888,
              "#fdca26"
             ],
             [
              1,
              "#f0f921"
             ]
            ],
            "type": "contour"
           }
          ],
          "contourcarpet": [
           {
            "colorbar": {
             "outlinewidth": 0,
             "ticks": ""
            },
            "type": "contourcarpet"
           }
          ],
          "heatmap": [
           {
            "colorbar": {
             "outlinewidth": 0,
             "ticks": ""
            },
            "colorscale": [
             [
              0,
              "#0d0887"
             ],
             [
              0.1111111111111111,
              "#46039f"
             ],
             [
              0.2222222222222222,
              "#7201a8"
             ],
             [
              0.3333333333333333,
              "#9c179e"
             ],
             [
              0.4444444444444444,
              "#bd3786"
             ],
             [
              0.5555555555555556,
              "#d8576b"
             ],
             [
              0.6666666666666666,
              "#ed7953"
             ],
             [
              0.7777777777777778,
              "#fb9f3a"
             ],
             [
              0.8888888888888888,
              "#fdca26"
             ],
             [
              1,
              "#f0f921"
             ]
            ],
            "type": "heatmap"
           }
          ],
          "histogram": [
           {
            "marker": {
             "pattern": {
              "fillmode": "overlay",
              "size": 10,
              "solidity": 0.2
             }
            },
            "type": "histogram"
           }
          ],
          "histogram2d": [
           {
            "colorbar": {
             "outlinewidth": 0,
             "ticks": ""
            },
            "colorscale": [
             [
              0,
              "#0d0887"
             ],
             [
              0.1111111111111111,
              "#46039f"
             ],
             [
              0.2222222222222222,
              "#7201a8"
             ],
             [
              0.3333333333333333,
              "#9c179e"
             ],
             [
              0.4444444444444444,
              "#bd3786"
             ],
             [
              0.5555555555555556,
              "#d8576b"
             ],
             [
              0.6666666666666666,
              "#ed7953"
             ],
             [
              0.7777777777777778,
              "#fb9f3a"
             ],
             [
              0.8888888888888888,
              "#fdca26"
             ],
             [
              1,
              "#f0f921"
             ]
            ],
            "type": "histogram2d"
           }
          ],
          "histogram2dcontour": [
           {
            "colorbar": {
             "outlinewidth": 0,
             "ticks": ""
            },
            "colorscale": [
             [
              0,
              "#0d0887"
             ],
             [
              0.1111111111111111,
              "#46039f"
             ],
             [
              0.2222222222222222,
              "#7201a8"
             ],
             [
              0.3333333333333333,
              "#9c179e"
             ],
             [
              0.4444444444444444,
              "#bd3786"
             ],
             [
              0.5555555555555556,
              "#d8576b"
             ],
             [
              0.6666666666666666,
              "#ed7953"
             ],
             [
              0.7777777777777778,
              "#fb9f3a"
             ],
             [
              0.8888888888888888,
              "#fdca26"
             ],
             [
              1,
              "#f0f921"
             ]
            ],
            "type": "histogram2dcontour"
           }
          ],
          "mesh3d": [
           {
            "colorbar": {
             "outlinewidth": 0,
             "ticks": ""
            },
            "type": "mesh3d"
           }
          ],
          "parcoords": [
           {
            "line": {
             "colorbar": {
              "outlinewidth": 0,
              "ticks": ""
             }
            },
            "type": "parcoords"
           }
          ],
          "pie": [
           {
            "automargin": true,
            "type": "pie"
           }
          ],
          "scatter": [
           {
            "fillpattern": {
             "fillmode": "overlay",
             "size": 10,
             "solidity": 0.2
            },
            "type": "scatter"
           }
          ],
          "scatter3d": [
           {
            "line": {
             "colorbar": {
              "outlinewidth": 0,
              "ticks": ""
             }
            },
            "marker": {
             "colorbar": {
              "outlinewidth": 0,
              "ticks": ""
             }
            },
            "type": "scatter3d"
           }
          ],
          "scattercarpet": [
           {
            "marker": {
             "colorbar": {
              "outlinewidth": 0,
              "ticks": ""
             }
            },
            "type": "scattercarpet"
           }
          ],
          "scattergeo": [
           {
            "marker": {
             "colorbar": {
              "outlinewidth": 0,
              "ticks": ""
             }
            },
            "type": "scattergeo"
           }
          ],
          "scattergl": [
           {
            "marker": {
             "colorbar": {
              "outlinewidth": 0,
              "ticks": ""
             }
            },
            "type": "scattergl"
           }
          ],
          "scattermap": [
           {
            "marker": {
             "colorbar": {
              "outlinewidth": 0,
              "ticks": ""
             }
            },
            "type": "scattermap"
           }
          ],
          "scattermapbox": [
           {
            "marker": {
             "colorbar": {
              "outlinewidth": 0,
              "ticks": ""
             }
            },
            "type": "scattermapbox"
           }
          ],
          "scatterpolar": [
           {
            "marker": {
             "colorbar": {
              "outlinewidth": 0,
              "ticks": ""
             }
            },
            "type": "scatterpolar"
           }
          ],
          "scatterpolargl": [
           {
            "marker": {
             "colorbar": {
              "outlinewidth": 0,
              "ticks": ""
             }
            },
            "type": "scatterpolargl"
           }
          ],
          "scatterternary": [
           {
            "marker": {
             "colorbar": {
              "outlinewidth": 0,
              "ticks": ""
             }
            },
            "type": "scatterternary"
           }
          ],
          "surface": [
           {
            "colorbar": {
             "outlinewidth": 0,
             "ticks": ""
            },
            "colorscale": [
             [
              0,
              "#0d0887"
             ],
             [
              0.1111111111111111,
              "#46039f"
             ],
             [
              0.2222222222222222,
              "#7201a8"
             ],
             [
              0.3333333333333333,
              "#9c179e"
             ],
             [
              0.4444444444444444,
              "#bd3786"
             ],
             [
              0.5555555555555556,
              "#d8576b"
             ],
             [
              0.6666666666666666,
              "#ed7953"
             ],
             [
              0.7777777777777778,
              "#fb9f3a"
             ],
             [
              0.8888888888888888,
              "#fdca26"
             ],
             [
              1,
              "#f0f921"
             ]
            ],
            "type": "surface"
           }
          ],
          "table": [
           {
            "cells": {
             "fill": {
              "color": "#EBF0F8"
             },
             "line": {
              "color": "white"
             }
            },
            "header": {
             "fill": {
              "color": "#C8D4E3"
             },
             "line": {
              "color": "white"
             }
            },
            "type": "table"
           }
          ]
         },
         "layout": {
          "annotationdefaults": {
           "arrowcolor": "#2a3f5f",
           "arrowhead": 0,
           "arrowwidth": 1
          },
          "autotypenumbers": "strict",
          "coloraxis": {
           "colorbar": {
            "outlinewidth": 0,
            "ticks": ""
           }
          },
          "colorscale": {
           "diverging": [
            [
             0,
             "#8e0152"
            ],
            [
             0.1,
             "#c51b7d"
            ],
            [
             0.2,
             "#de77ae"
            ],
            [
             0.3,
             "#f1b6da"
            ],
            [
             0.4,
             "#fde0ef"
            ],
            [
             0.5,
             "#f7f7f7"
            ],
            [
             0.6,
             "#e6f5d0"
            ],
            [
             0.7,
             "#b8e186"
            ],
            [
             0.8,
             "#7fbc41"
            ],
            [
             0.9,
             "#4d9221"
            ],
            [
             1,
             "#276419"
            ]
           ],
           "sequential": [
            [
             0,
             "#0d0887"
            ],
            [
             0.1111111111111111,
             "#46039f"
            ],
            [
             0.2222222222222222,
             "#7201a8"
            ],
            [
             0.3333333333333333,
             "#9c179e"
            ],
            [
             0.4444444444444444,
             "#bd3786"
            ],
            [
             0.5555555555555556,
             "#d8576b"
            ],
            [
             0.6666666666666666,
             "#ed7953"
            ],
            [
             0.7777777777777778,
             "#fb9f3a"
            ],
            [
             0.8888888888888888,
             "#fdca26"
            ],
            [
             1,
             "#f0f921"
            ]
           ],
           "sequentialminus": [
            [
             0,
             "#0d0887"
            ],
            [
             0.1111111111111111,
             "#46039f"
            ],
            [
             0.2222222222222222,
             "#7201a8"
            ],
            [
             0.3333333333333333,
             "#9c179e"
            ],
            [
             0.4444444444444444,
             "#bd3786"
            ],
            [
             0.5555555555555556,
             "#d8576b"
            ],
            [
             0.6666666666666666,
             "#ed7953"
            ],
            [
             0.7777777777777778,
             "#fb9f3a"
            ],
            [
             0.8888888888888888,
             "#fdca26"
            ],
            [
             1,
             "#f0f921"
            ]
           ]
          },
          "colorway": [
           "#636efa",
           "#EF553B",
           "#00cc96",
           "#ab63fa",
           "#FFA15A",
           "#19d3f3",
           "#FF6692",
           "#B6E880",
           "#FF97FF",
           "#FECB52"
          ],
          "font": {
           "color": "#2a3f5f"
          },
          "geo": {
           "bgcolor": "white",
           "lakecolor": "white",
           "landcolor": "#E5ECF6",
           "showlakes": true,
           "showland": true,
           "subunitcolor": "white"
          },
          "hoverlabel": {
           "align": "left"
          },
          "hovermode": "closest",
          "mapbox": {
           "style": "light"
          },
          "paper_bgcolor": "white",
          "plot_bgcolor": "#E5ECF6",
          "polar": {
           "angularaxis": {
            "gridcolor": "white",
            "linecolor": "white",
            "ticks": ""
           },
           "bgcolor": "#E5ECF6",
           "radialaxis": {
            "gridcolor": "white",
            "linecolor": "white",
            "ticks": ""
           }
          },
          "scene": {
           "xaxis": {
            "backgroundcolor": "#E5ECF6",
            "gridcolor": "white",
            "gridwidth": 2,
            "linecolor": "white",
            "showbackground": true,
            "ticks": "",
            "zerolinecolor": "white"
           },
           "yaxis": {
            "backgroundcolor": "#E5ECF6",
            "gridcolor": "white",
            "gridwidth": 2,
            "linecolor": "white",
            "showbackground": true,
            "ticks": "",
            "zerolinecolor": "white"
           },
           "zaxis": {
            "backgroundcolor": "#E5ECF6",
            "gridcolor": "white",
            "gridwidth": 2,
            "linecolor": "white",
            "showbackground": true,
            "ticks": "",
            "zerolinecolor": "white"
           }
          },
          "shapedefaults": {
           "line": {
            "color": "#2a3f5f"
           }
          },
          "ternary": {
           "aaxis": {
            "gridcolor": "white",
            "linecolor": "white",
            "ticks": ""
           },
           "baxis": {
            "gridcolor": "white",
            "linecolor": "white",
            "ticks": ""
           },
           "bgcolor": "#E5ECF6",
           "caxis": {
            "gridcolor": "white",
            "linecolor": "white",
            "ticks": ""
           }
          },
          "title": {
           "x": 0.05
          },
          "xaxis": {
           "automargin": true,
           "gridcolor": "white",
           "linecolor": "white",
           "ticks": "",
           "title": {
            "standoff": 15
           },
           "zerolinecolor": "white",
           "zerolinewidth": 2
          },
          "yaxis": {
           "automargin": true,
           "gridcolor": "white",
           "linecolor": "white",
           "ticks": "",
           "title": {
            "standoff": 15
           },
           "zerolinecolor": "white",
           "zerolinewidth": 2
          }
         }
        },
        "title": {
         "text": "프로젝트 간트 차트"
        },
        "xaxis": {
         "rangeselector": {
          "buttons": [
           {
            "count": 7,
            "label": "1w",
            "step": "day",
            "stepmode": "backward"
           },
           {
            "count": 1,
            "label": "1m",
            "step": "month",
            "stepmode": "backward"
           },
           {
            "count": 6,
            "label": "6m",
            "step": "month",
            "stepmode": "backward"
           },
           {
            "count": 1,
            "label": "YTD",
            "step": "year",
            "stepmode": "todate"
           },
           {
            "count": 1,
            "label": "1y",
            "step": "year",
            "stepmode": "backward"
           },
           {
            "step": "all"
           }
          ]
         },
         "showgrid": false,
         "type": "date",
         "zeroline": false
        },
        "yaxis": {
         "autorange": false,
         "range": [
          -1,
          5
         ],
         "showgrid": false,
         "ticktext": [
          "배포",
          "테스트",
          "개발",
          "설계"
         ],
         "tickvals": [
          0,
          1,
          2,
          3
         ],
         "zeroline": false
        }
       }
      }
     },
     "metadata": {},
     "output_type": "display_data"
    }
   ],
   "source": [
    "import plotly.figure_factory as ff\n",
    "import pandas as pd\n",
    "\n",
    "# 프로젝트 일정 데이터 생성\n",
    "df = [\n",
    "    dict(Task=\"설계\", Start='2023-01-01', Finish='2023-01-05', Resource='팀 A'),\n",
    "    dict(Task=\"개발\", Start='2023-01-06', Finish='2023-01-20', Resource='팀 B'),\n",
    "    dict(Task=\"테스트\", Start='2023-01-21', Finish='2023-01-25', Resource='팀 A'),\n",
    "    dict(Task=\"배포\", Start='2023-01-26', Finish='2023-01-27', Resource='팀 C')\n",
    "]\n",
    "\n",
    "fig = ff.create_gantt(df, index_col='Resource', show_colorbar=True, group_tasks=True, title=\"프로젝트 간트 차트\")\n",
    "fig.show()\n"
   ]
  },
  {
   "cell_type": "markdown",
   "metadata": {},
   "source": [
    "## 2-19: 펀넬 차트 (Funnel Chart)\n",
    "- 고객 구매 여정(예: 웹사이트 방문 → 제품 조회 → 장바구니 → 구매 완료)을 단계별로 시각화하는 펀넬 차트를 만들어보세요."
   ]
  },
  {
   "cell_type": "code",
   "execution_count": 21,
   "metadata": {},
   "outputs": [
    {
     "data": {
      "application/vnd.plotly.v1+json": {
       "config": {
        "plotlyServerURL": "https://plot.ly"
       },
       "data": [
        {
         "textinfo": "value+percent initial",
         "type": "funnel",
         "x": [
          300,
          200,
          150,
          80
         ],
         "y": [
          "웹사이트 방문",
          "제품 조회",
          "장바구니",
          "구매 완료"
         ]
        }
       ],
       "layout": {
        "template": {
         "data": {
          "bar": [
           {
            "error_x": {
             "color": "#2a3f5f"
            },
            "error_y": {
             "color": "#2a3f5f"
            },
            "marker": {
             "line": {
              "color": "#E5ECF6",
              "width": 0.5
             },
             "pattern": {
              "fillmode": "overlay",
              "size": 10,
              "solidity": 0.2
             }
            },
            "type": "bar"
           }
          ],
          "barpolar": [
           {
            "marker": {
             "line": {
              "color": "#E5ECF6",
              "width": 0.5
             },
             "pattern": {
              "fillmode": "overlay",
              "size": 10,
              "solidity": 0.2
             }
            },
            "type": "barpolar"
           }
          ],
          "carpet": [
           {
            "aaxis": {
             "endlinecolor": "#2a3f5f",
             "gridcolor": "white",
             "linecolor": "white",
             "minorgridcolor": "white",
             "startlinecolor": "#2a3f5f"
            },
            "baxis": {
             "endlinecolor": "#2a3f5f",
             "gridcolor": "white",
             "linecolor": "white",
             "minorgridcolor": "white",
             "startlinecolor": "#2a3f5f"
            },
            "type": "carpet"
           }
          ],
          "choropleth": [
           {
            "colorbar": {
             "outlinewidth": 0,
             "ticks": ""
            },
            "type": "choropleth"
           }
          ],
          "contour": [
           {
            "colorbar": {
             "outlinewidth": 0,
             "ticks": ""
            },
            "colorscale": [
             [
              0,
              "#0d0887"
             ],
             [
              0.1111111111111111,
              "#46039f"
             ],
             [
              0.2222222222222222,
              "#7201a8"
             ],
             [
              0.3333333333333333,
              "#9c179e"
             ],
             [
              0.4444444444444444,
              "#bd3786"
             ],
             [
              0.5555555555555556,
              "#d8576b"
             ],
             [
              0.6666666666666666,
              "#ed7953"
             ],
             [
              0.7777777777777778,
              "#fb9f3a"
             ],
             [
              0.8888888888888888,
              "#fdca26"
             ],
             [
              1,
              "#f0f921"
             ]
            ],
            "type": "contour"
           }
          ],
          "contourcarpet": [
           {
            "colorbar": {
             "outlinewidth": 0,
             "ticks": ""
            },
            "type": "contourcarpet"
           }
          ],
          "heatmap": [
           {
            "colorbar": {
             "outlinewidth": 0,
             "ticks": ""
            },
            "colorscale": [
             [
              0,
              "#0d0887"
             ],
             [
              0.1111111111111111,
              "#46039f"
             ],
             [
              0.2222222222222222,
              "#7201a8"
             ],
             [
              0.3333333333333333,
              "#9c179e"
             ],
             [
              0.4444444444444444,
              "#bd3786"
             ],
             [
              0.5555555555555556,
              "#d8576b"
             ],
             [
              0.6666666666666666,
              "#ed7953"
             ],
             [
              0.7777777777777778,
              "#fb9f3a"
             ],
             [
              0.8888888888888888,
              "#fdca26"
             ],
             [
              1,
              "#f0f921"
             ]
            ],
            "type": "heatmap"
           }
          ],
          "histogram": [
           {
            "marker": {
             "pattern": {
              "fillmode": "overlay",
              "size": 10,
              "solidity": 0.2
             }
            },
            "type": "histogram"
           }
          ],
          "histogram2d": [
           {
            "colorbar": {
             "outlinewidth": 0,
             "ticks": ""
            },
            "colorscale": [
             [
              0,
              "#0d0887"
             ],
             [
              0.1111111111111111,
              "#46039f"
             ],
             [
              0.2222222222222222,
              "#7201a8"
             ],
             [
              0.3333333333333333,
              "#9c179e"
             ],
             [
              0.4444444444444444,
              "#bd3786"
             ],
             [
              0.5555555555555556,
              "#d8576b"
             ],
             [
              0.6666666666666666,
              "#ed7953"
             ],
             [
              0.7777777777777778,
              "#fb9f3a"
             ],
             [
              0.8888888888888888,
              "#fdca26"
             ],
             [
              1,
              "#f0f921"
             ]
            ],
            "type": "histogram2d"
           }
          ],
          "histogram2dcontour": [
           {
            "colorbar": {
             "outlinewidth": 0,
             "ticks": ""
            },
            "colorscale": [
             [
              0,
              "#0d0887"
             ],
             [
              0.1111111111111111,
              "#46039f"
             ],
             [
              0.2222222222222222,
              "#7201a8"
             ],
             [
              0.3333333333333333,
              "#9c179e"
             ],
             [
              0.4444444444444444,
              "#bd3786"
             ],
             [
              0.5555555555555556,
              "#d8576b"
             ],
             [
              0.6666666666666666,
              "#ed7953"
             ],
             [
              0.7777777777777778,
              "#fb9f3a"
             ],
             [
              0.8888888888888888,
              "#fdca26"
             ],
             [
              1,
              "#f0f921"
             ]
            ],
            "type": "histogram2dcontour"
           }
          ],
          "mesh3d": [
           {
            "colorbar": {
             "outlinewidth": 0,
             "ticks": ""
            },
            "type": "mesh3d"
           }
          ],
          "parcoords": [
           {
            "line": {
             "colorbar": {
              "outlinewidth": 0,
              "ticks": ""
             }
            },
            "type": "parcoords"
           }
          ],
          "pie": [
           {
            "automargin": true,
            "type": "pie"
           }
          ],
          "scatter": [
           {
            "fillpattern": {
             "fillmode": "overlay",
             "size": 10,
             "solidity": 0.2
            },
            "type": "scatter"
           }
          ],
          "scatter3d": [
           {
            "line": {
             "colorbar": {
              "outlinewidth": 0,
              "ticks": ""
             }
            },
            "marker": {
             "colorbar": {
              "outlinewidth": 0,
              "ticks": ""
             }
            },
            "type": "scatter3d"
           }
          ],
          "scattercarpet": [
           {
            "marker": {
             "colorbar": {
              "outlinewidth": 0,
              "ticks": ""
             }
            },
            "type": "scattercarpet"
           }
          ],
          "scattergeo": [
           {
            "marker": {
             "colorbar": {
              "outlinewidth": 0,
              "ticks": ""
             }
            },
            "type": "scattergeo"
           }
          ],
          "scattergl": [
           {
            "marker": {
             "colorbar": {
              "outlinewidth": 0,
              "ticks": ""
             }
            },
            "type": "scattergl"
           }
          ],
          "scattermap": [
           {
            "marker": {
             "colorbar": {
              "outlinewidth": 0,
              "ticks": ""
             }
            },
            "type": "scattermap"
           }
          ],
          "scattermapbox": [
           {
            "marker": {
             "colorbar": {
              "outlinewidth": 0,
              "ticks": ""
             }
            },
            "type": "scattermapbox"
           }
          ],
          "scatterpolar": [
           {
            "marker": {
             "colorbar": {
              "outlinewidth": 0,
              "ticks": ""
             }
            },
            "type": "scatterpolar"
           }
          ],
          "scatterpolargl": [
           {
            "marker": {
             "colorbar": {
              "outlinewidth": 0,
              "ticks": ""
             }
            },
            "type": "scatterpolargl"
           }
          ],
          "scatterternary": [
           {
            "marker": {
             "colorbar": {
              "outlinewidth": 0,
              "ticks": ""
             }
            },
            "type": "scatterternary"
           }
          ],
          "surface": [
           {
            "colorbar": {
             "outlinewidth": 0,
             "ticks": ""
            },
            "colorscale": [
             [
              0,
              "#0d0887"
             ],
             [
              0.1111111111111111,
              "#46039f"
             ],
             [
              0.2222222222222222,
              "#7201a8"
             ],
             [
              0.3333333333333333,
              "#9c179e"
             ],
             [
              0.4444444444444444,
              "#bd3786"
             ],
             [
              0.5555555555555556,
              "#d8576b"
             ],
             [
              0.6666666666666666,
              "#ed7953"
             ],
             [
              0.7777777777777778,
              "#fb9f3a"
             ],
             [
              0.8888888888888888,
              "#fdca26"
             ],
             [
              1,
              "#f0f921"
             ]
            ],
            "type": "surface"
           }
          ],
          "table": [
           {
            "cells": {
             "fill": {
              "color": "#EBF0F8"
             },
             "line": {
              "color": "white"
             }
            },
            "header": {
             "fill": {
              "color": "#C8D4E3"
             },
             "line": {
              "color": "white"
             }
            },
            "type": "table"
           }
          ]
         },
         "layout": {
          "annotationdefaults": {
           "arrowcolor": "#2a3f5f",
           "arrowhead": 0,
           "arrowwidth": 1
          },
          "autotypenumbers": "strict",
          "coloraxis": {
           "colorbar": {
            "outlinewidth": 0,
            "ticks": ""
           }
          },
          "colorscale": {
           "diverging": [
            [
             0,
             "#8e0152"
            ],
            [
             0.1,
             "#c51b7d"
            ],
            [
             0.2,
             "#de77ae"
            ],
            [
             0.3,
             "#f1b6da"
            ],
            [
             0.4,
             "#fde0ef"
            ],
            [
             0.5,
             "#f7f7f7"
            ],
            [
             0.6,
             "#e6f5d0"
            ],
            [
             0.7,
             "#b8e186"
            ],
            [
             0.8,
             "#7fbc41"
            ],
            [
             0.9,
             "#4d9221"
            ],
            [
             1,
             "#276419"
            ]
           ],
           "sequential": [
            [
             0,
             "#0d0887"
            ],
            [
             0.1111111111111111,
             "#46039f"
            ],
            [
             0.2222222222222222,
             "#7201a8"
            ],
            [
             0.3333333333333333,
             "#9c179e"
            ],
            [
             0.4444444444444444,
             "#bd3786"
            ],
            [
             0.5555555555555556,
             "#d8576b"
            ],
            [
             0.6666666666666666,
             "#ed7953"
            ],
            [
             0.7777777777777778,
             "#fb9f3a"
            ],
            [
             0.8888888888888888,
             "#fdca26"
            ],
            [
             1,
             "#f0f921"
            ]
           ],
           "sequentialminus": [
            [
             0,
             "#0d0887"
            ],
            [
             0.1111111111111111,
             "#46039f"
            ],
            [
             0.2222222222222222,
             "#7201a8"
            ],
            [
             0.3333333333333333,
             "#9c179e"
            ],
            [
             0.4444444444444444,
             "#bd3786"
            ],
            [
             0.5555555555555556,
             "#d8576b"
            ],
            [
             0.6666666666666666,
             "#ed7953"
            ],
            [
             0.7777777777777778,
             "#fb9f3a"
            ],
            [
             0.8888888888888888,
             "#fdca26"
            ],
            [
             1,
             "#f0f921"
            ]
           ]
          },
          "colorway": [
           "#636efa",
           "#EF553B",
           "#00cc96",
           "#ab63fa",
           "#FFA15A",
           "#19d3f3",
           "#FF6692",
           "#B6E880",
           "#FF97FF",
           "#FECB52"
          ],
          "font": {
           "color": "#2a3f5f"
          },
          "geo": {
           "bgcolor": "white",
           "lakecolor": "white",
           "landcolor": "#E5ECF6",
           "showlakes": true,
           "showland": true,
           "subunitcolor": "white"
          },
          "hoverlabel": {
           "align": "left"
          },
          "hovermode": "closest",
          "mapbox": {
           "style": "light"
          },
          "paper_bgcolor": "white",
          "plot_bgcolor": "#E5ECF6",
          "polar": {
           "angularaxis": {
            "gridcolor": "white",
            "linecolor": "white",
            "ticks": ""
           },
           "bgcolor": "#E5ECF6",
           "radialaxis": {
            "gridcolor": "white",
            "linecolor": "white",
            "ticks": ""
           }
          },
          "scene": {
           "xaxis": {
            "backgroundcolor": "#E5ECF6",
            "gridcolor": "white",
            "gridwidth": 2,
            "linecolor": "white",
            "showbackground": true,
            "ticks": "",
            "zerolinecolor": "white"
           },
           "yaxis": {
            "backgroundcolor": "#E5ECF6",
            "gridcolor": "white",
            "gridwidth": 2,
            "linecolor": "white",
            "showbackground": true,
            "ticks": "",
            "zerolinecolor": "white"
           },
           "zaxis": {
            "backgroundcolor": "#E5ECF6",
            "gridcolor": "white",
            "gridwidth": 2,
            "linecolor": "white",
            "showbackground": true,
            "ticks": "",
            "zerolinecolor": "white"
           }
          },
          "shapedefaults": {
           "line": {
            "color": "#2a3f5f"
           }
          },
          "ternary": {
           "aaxis": {
            "gridcolor": "white",
            "linecolor": "white",
            "ticks": ""
           },
           "baxis": {
            "gridcolor": "white",
            "linecolor": "white",
            "ticks": ""
           },
           "bgcolor": "#E5ECF6",
           "caxis": {
            "gridcolor": "white",
            "linecolor": "white",
            "ticks": ""
           }
          },
          "title": {
           "x": 0.05
          },
          "xaxis": {
           "automargin": true,
           "gridcolor": "white",
           "linecolor": "white",
           "ticks": "",
           "title": {
            "standoff": 15
           },
           "zerolinecolor": "white",
           "zerolinewidth": 2
          },
          "yaxis": {
           "automargin": true,
           "gridcolor": "white",
           "linecolor": "white",
           "ticks": "",
           "title": {
            "standoff": 15
           },
           "zerolinecolor": "white",
           "zerolinewidth": 2
          }
         }
        },
        "title": {
         "text": "고객 구매 여정 펀넬 차트"
        }
       }
      }
     },
     "metadata": {},
     "output_type": "display_data"
    }
   ],
   "source": [
    "import plotly.graph_objects as go\n",
    "\n",
    "# 단계 및 각 단계별 고객 수\n",
    "stages = [\"웹사이트 방문\", \"제품 조회\", \"장바구니\", \"구매 완료\"]\n",
    "values = [300, 200, 150, 80]\n",
    "\n",
    "fig = go.Figure(go.Funnel(\n",
    "    y=stages,\n",
    "    x=values,\n",
    "    textinfo=\"value+percent initial\"\n",
    "))\n",
    "fig.update_layout(title=\"고객 구매 여정 펀넬 차트\")\n",
    "fig.show()\n"
   ]
  },
  {
   "cell_type": "markdown",
   "metadata": {},
   "source": [
    "## 2-20: Sankey Diagram (샌키 다이어그램)\n",
    "- 데이터의 흐름을 시각화하기 위해, 소스에서 타깃으로 이동하는 값을 나타내는 Sankey Diagram을 만들어보세요."
   ]
  },
  {
   "cell_type": "code",
   "execution_count": 22,
   "metadata": {},
   "outputs": [
    {
     "data": {
      "application/vnd.plotly.v1+json": {
       "config": {
        "plotlyServerURL": "https://plot.ly"
       },
       "data": [
        {
         "link": {
          "source": [
           0,
           1,
           0,
           1
          ],
          "target": [
           2,
           2,
           3,
           3
          ],
          "value": [
           8,
           4,
           2,
           8
          ]
         },
         "node": {
          "label": [
           "Source A",
           "Source B",
           "Target A",
           "Target B"
          ],
          "line": {
           "color": "black",
           "width": 0.5
          },
          "pad": 15,
          "thickness": 20
         },
         "type": "sankey"
        }
       ],
       "layout": {
        "font": {
         "size": 10
        },
        "template": {
         "data": {
          "bar": [
           {
            "error_x": {
             "color": "#2a3f5f"
            },
            "error_y": {
             "color": "#2a3f5f"
            },
            "marker": {
             "line": {
              "color": "#E5ECF6",
              "width": 0.5
             },
             "pattern": {
              "fillmode": "overlay",
              "size": 10,
              "solidity": 0.2
             }
            },
            "type": "bar"
           }
          ],
          "barpolar": [
           {
            "marker": {
             "line": {
              "color": "#E5ECF6",
              "width": 0.5
             },
             "pattern": {
              "fillmode": "overlay",
              "size": 10,
              "solidity": 0.2
             }
            },
            "type": "barpolar"
           }
          ],
          "carpet": [
           {
            "aaxis": {
             "endlinecolor": "#2a3f5f",
             "gridcolor": "white",
             "linecolor": "white",
             "minorgridcolor": "white",
             "startlinecolor": "#2a3f5f"
            },
            "baxis": {
             "endlinecolor": "#2a3f5f",
             "gridcolor": "white",
             "linecolor": "white",
             "minorgridcolor": "white",
             "startlinecolor": "#2a3f5f"
            },
            "type": "carpet"
           }
          ],
          "choropleth": [
           {
            "colorbar": {
             "outlinewidth": 0,
             "ticks": ""
            },
            "type": "choropleth"
           }
          ],
          "contour": [
           {
            "colorbar": {
             "outlinewidth": 0,
             "ticks": ""
            },
            "colorscale": [
             [
              0,
              "#0d0887"
             ],
             [
              0.1111111111111111,
              "#46039f"
             ],
             [
              0.2222222222222222,
              "#7201a8"
             ],
             [
              0.3333333333333333,
              "#9c179e"
             ],
             [
              0.4444444444444444,
              "#bd3786"
             ],
             [
              0.5555555555555556,
              "#d8576b"
             ],
             [
              0.6666666666666666,
              "#ed7953"
             ],
             [
              0.7777777777777778,
              "#fb9f3a"
             ],
             [
              0.8888888888888888,
              "#fdca26"
             ],
             [
              1,
              "#f0f921"
             ]
            ],
            "type": "contour"
           }
          ],
          "contourcarpet": [
           {
            "colorbar": {
             "outlinewidth": 0,
             "ticks": ""
            },
            "type": "contourcarpet"
           }
          ],
          "heatmap": [
           {
            "colorbar": {
             "outlinewidth": 0,
             "ticks": ""
            },
            "colorscale": [
             [
              0,
              "#0d0887"
             ],
             [
              0.1111111111111111,
              "#46039f"
             ],
             [
              0.2222222222222222,
              "#7201a8"
             ],
             [
              0.3333333333333333,
              "#9c179e"
             ],
             [
              0.4444444444444444,
              "#bd3786"
             ],
             [
              0.5555555555555556,
              "#d8576b"
             ],
             [
              0.6666666666666666,
              "#ed7953"
             ],
             [
              0.7777777777777778,
              "#fb9f3a"
             ],
             [
              0.8888888888888888,
              "#fdca26"
             ],
             [
              1,
              "#f0f921"
             ]
            ],
            "type": "heatmap"
           }
          ],
          "histogram": [
           {
            "marker": {
             "pattern": {
              "fillmode": "overlay",
              "size": 10,
              "solidity": 0.2
             }
            },
            "type": "histogram"
           }
          ],
          "histogram2d": [
           {
            "colorbar": {
             "outlinewidth": 0,
             "ticks": ""
            },
            "colorscale": [
             [
              0,
              "#0d0887"
             ],
             [
              0.1111111111111111,
              "#46039f"
             ],
             [
              0.2222222222222222,
              "#7201a8"
             ],
             [
              0.3333333333333333,
              "#9c179e"
             ],
             [
              0.4444444444444444,
              "#bd3786"
             ],
             [
              0.5555555555555556,
              "#d8576b"
             ],
             [
              0.6666666666666666,
              "#ed7953"
             ],
             [
              0.7777777777777778,
              "#fb9f3a"
             ],
             [
              0.8888888888888888,
              "#fdca26"
             ],
             [
              1,
              "#f0f921"
             ]
            ],
            "type": "histogram2d"
           }
          ],
          "histogram2dcontour": [
           {
            "colorbar": {
             "outlinewidth": 0,
             "ticks": ""
            },
            "colorscale": [
             [
              0,
              "#0d0887"
             ],
             [
              0.1111111111111111,
              "#46039f"
             ],
             [
              0.2222222222222222,
              "#7201a8"
             ],
             [
              0.3333333333333333,
              "#9c179e"
             ],
             [
              0.4444444444444444,
              "#bd3786"
             ],
             [
              0.5555555555555556,
              "#d8576b"
             ],
             [
              0.6666666666666666,
              "#ed7953"
             ],
             [
              0.7777777777777778,
              "#fb9f3a"
             ],
             [
              0.8888888888888888,
              "#fdca26"
             ],
             [
              1,
              "#f0f921"
             ]
            ],
            "type": "histogram2dcontour"
           }
          ],
          "mesh3d": [
           {
            "colorbar": {
             "outlinewidth": 0,
             "ticks": ""
            },
            "type": "mesh3d"
           }
          ],
          "parcoords": [
           {
            "line": {
             "colorbar": {
              "outlinewidth": 0,
              "ticks": ""
             }
            },
            "type": "parcoords"
           }
          ],
          "pie": [
           {
            "automargin": true,
            "type": "pie"
           }
          ],
          "scatter": [
           {
            "fillpattern": {
             "fillmode": "overlay",
             "size": 10,
             "solidity": 0.2
            },
            "type": "scatter"
           }
          ],
          "scatter3d": [
           {
            "line": {
             "colorbar": {
              "outlinewidth": 0,
              "ticks": ""
             }
            },
            "marker": {
             "colorbar": {
              "outlinewidth": 0,
              "ticks": ""
             }
            },
            "type": "scatter3d"
           }
          ],
          "scattercarpet": [
           {
            "marker": {
             "colorbar": {
              "outlinewidth": 0,
              "ticks": ""
             }
            },
            "type": "scattercarpet"
           }
          ],
          "scattergeo": [
           {
            "marker": {
             "colorbar": {
              "outlinewidth": 0,
              "ticks": ""
             }
            },
            "type": "scattergeo"
           }
          ],
          "scattergl": [
           {
            "marker": {
             "colorbar": {
              "outlinewidth": 0,
              "ticks": ""
             }
            },
            "type": "scattergl"
           }
          ],
          "scattermap": [
           {
            "marker": {
             "colorbar": {
              "outlinewidth": 0,
              "ticks": ""
             }
            },
            "type": "scattermap"
           }
          ],
          "scattermapbox": [
           {
            "marker": {
             "colorbar": {
              "outlinewidth": 0,
              "ticks": ""
             }
            },
            "type": "scattermapbox"
           }
          ],
          "scatterpolar": [
           {
            "marker": {
             "colorbar": {
              "outlinewidth": 0,
              "ticks": ""
             }
            },
            "type": "scatterpolar"
           }
          ],
          "scatterpolargl": [
           {
            "marker": {
             "colorbar": {
              "outlinewidth": 0,
              "ticks": ""
             }
            },
            "type": "scatterpolargl"
           }
          ],
          "scatterternary": [
           {
            "marker": {
             "colorbar": {
              "outlinewidth": 0,
              "ticks": ""
             }
            },
            "type": "scatterternary"
           }
          ],
          "surface": [
           {
            "colorbar": {
             "outlinewidth": 0,
             "ticks": ""
            },
            "colorscale": [
             [
              0,
              "#0d0887"
             ],
             [
              0.1111111111111111,
              "#46039f"
             ],
             [
              0.2222222222222222,
              "#7201a8"
             ],
             [
              0.3333333333333333,
              "#9c179e"
             ],
             [
              0.4444444444444444,
              "#bd3786"
             ],
             [
              0.5555555555555556,
              "#d8576b"
             ],
             [
              0.6666666666666666,
              "#ed7953"
             ],
             [
              0.7777777777777778,
              "#fb9f3a"
             ],
             [
              0.8888888888888888,
              "#fdca26"
             ],
             [
              1,
              "#f0f921"
             ]
            ],
            "type": "surface"
           }
          ],
          "table": [
           {
            "cells": {
             "fill": {
              "color": "#EBF0F8"
             },
             "line": {
              "color": "white"
             }
            },
            "header": {
             "fill": {
              "color": "#C8D4E3"
             },
             "line": {
              "color": "white"
             }
            },
            "type": "table"
           }
          ]
         },
         "layout": {
          "annotationdefaults": {
           "arrowcolor": "#2a3f5f",
           "arrowhead": 0,
           "arrowwidth": 1
          },
          "autotypenumbers": "strict",
          "coloraxis": {
           "colorbar": {
            "outlinewidth": 0,
            "ticks": ""
           }
          },
          "colorscale": {
           "diverging": [
            [
             0,
             "#8e0152"
            ],
            [
             0.1,
             "#c51b7d"
            ],
            [
             0.2,
             "#de77ae"
            ],
            [
             0.3,
             "#f1b6da"
            ],
            [
             0.4,
             "#fde0ef"
            ],
            [
             0.5,
             "#f7f7f7"
            ],
            [
             0.6,
             "#e6f5d0"
            ],
            [
             0.7,
             "#b8e186"
            ],
            [
             0.8,
             "#7fbc41"
            ],
            [
             0.9,
             "#4d9221"
            ],
            [
             1,
             "#276419"
            ]
           ],
           "sequential": [
            [
             0,
             "#0d0887"
            ],
            [
             0.1111111111111111,
             "#46039f"
            ],
            [
             0.2222222222222222,
             "#7201a8"
            ],
            [
             0.3333333333333333,
             "#9c179e"
            ],
            [
             0.4444444444444444,
             "#bd3786"
            ],
            [
             0.5555555555555556,
             "#d8576b"
            ],
            [
             0.6666666666666666,
             "#ed7953"
            ],
            [
             0.7777777777777778,
             "#fb9f3a"
            ],
            [
             0.8888888888888888,
             "#fdca26"
            ],
            [
             1,
             "#f0f921"
            ]
           ],
           "sequentialminus": [
            [
             0,
             "#0d0887"
            ],
            [
             0.1111111111111111,
             "#46039f"
            ],
            [
             0.2222222222222222,
             "#7201a8"
            ],
            [
             0.3333333333333333,
             "#9c179e"
            ],
            [
             0.4444444444444444,
             "#bd3786"
            ],
            [
             0.5555555555555556,
             "#d8576b"
            ],
            [
             0.6666666666666666,
             "#ed7953"
            ],
            [
             0.7777777777777778,
             "#fb9f3a"
            ],
            [
             0.8888888888888888,
             "#fdca26"
            ],
            [
             1,
             "#f0f921"
            ]
           ]
          },
          "colorway": [
           "#636efa",
           "#EF553B",
           "#00cc96",
           "#ab63fa",
           "#FFA15A",
           "#19d3f3",
           "#FF6692",
           "#B6E880",
           "#FF97FF",
           "#FECB52"
          ],
          "font": {
           "color": "#2a3f5f"
          },
          "geo": {
           "bgcolor": "white",
           "lakecolor": "white",
           "landcolor": "#E5ECF6",
           "showlakes": true,
           "showland": true,
           "subunitcolor": "white"
          },
          "hoverlabel": {
           "align": "left"
          },
          "hovermode": "closest",
          "mapbox": {
           "style": "light"
          },
          "paper_bgcolor": "white",
          "plot_bgcolor": "#E5ECF6",
          "polar": {
           "angularaxis": {
            "gridcolor": "white",
            "linecolor": "white",
            "ticks": ""
           },
           "bgcolor": "#E5ECF6",
           "radialaxis": {
            "gridcolor": "white",
            "linecolor": "white",
            "ticks": ""
           }
          },
          "scene": {
           "xaxis": {
            "backgroundcolor": "#E5ECF6",
            "gridcolor": "white",
            "gridwidth": 2,
            "linecolor": "white",
            "showbackground": true,
            "ticks": "",
            "zerolinecolor": "white"
           },
           "yaxis": {
            "backgroundcolor": "#E5ECF6",
            "gridcolor": "white",
            "gridwidth": 2,
            "linecolor": "white",
            "showbackground": true,
            "ticks": "",
            "zerolinecolor": "white"
           },
           "zaxis": {
            "backgroundcolor": "#E5ECF6",
            "gridcolor": "white",
            "gridwidth": 2,
            "linecolor": "white",
            "showbackground": true,
            "ticks": "",
            "zerolinecolor": "white"
           }
          },
          "shapedefaults": {
           "line": {
            "color": "#2a3f5f"
           }
          },
          "ternary": {
           "aaxis": {
            "gridcolor": "white",
            "linecolor": "white",
            "ticks": ""
           },
           "baxis": {
            "gridcolor": "white",
            "linecolor": "white",
            "ticks": ""
           },
           "bgcolor": "#E5ECF6",
           "caxis": {
            "gridcolor": "white",
            "linecolor": "white",
            "ticks": ""
           }
          },
          "title": {
           "x": 0.05
          },
          "xaxis": {
           "automargin": true,
           "gridcolor": "white",
           "linecolor": "white",
           "ticks": "",
           "title": {
            "standoff": 15
           },
           "zerolinecolor": "white",
           "zerolinewidth": 2
          },
          "yaxis": {
           "automargin": true,
           "gridcolor": "white",
           "linecolor": "white",
           "ticks": "",
           "title": {
            "standoff": 15
           },
           "zerolinecolor": "white",
           "zerolinewidth": 2
          }
         }
        },
        "title": {
         "text": "Sankey Diagram 예제"
        }
       }
      }
     },
     "metadata": {},
     "output_type": "display_data"
    }
   ],
   "source": [
    "import plotly.graph_objects as go\n",
    "\n",
    "# 노드와 링크 데이터 설정\n",
    "labels = [\"Source A\", \"Source B\", \"Target A\", \"Target B\"]\n",
    "source = [0, 1, 0, 1]   # 노드 인덱스 (소스)\n",
    "target = [2, 2, 3, 3]   # 노드 인덱스 (타깃)\n",
    "values = [8, 4, 2, 8]   # 흐름 값\n",
    "\n",
    "fig = go.Figure(data=[go.Sankey(\n",
    "    node=dict(\n",
    "        pad=15,\n",
    "        thickness=20,\n",
    "        line=dict(color=\"black\", width=0.5),\n",
    "        label=labels\n",
    "    ),\n",
    "    link=dict(\n",
    "        source=source,\n",
    "        target=target,\n",
    "        value=values\n",
    "    )\n",
    ")])\n",
    "\n",
    "fig.update_layout(title_text=\"Sankey Diagram 예제\", font_size=10)\n",
    "fig.show()\n"
   ]
  },
  {
   "cell_type": "markdown",
   "metadata": {},
   "source": [
    "## 2-21: 3D 산점도 (3D Scatter Plot)\n",
    "- 3차원 공간에 다수의 데이터 포인트를 표시하여, 변수 간의 관계를 3D 산점도로 시각화해보세요."
   ]
  },
  {
   "cell_type": "code",
   "execution_count": 23,
   "metadata": {},
   "outputs": [
    {
     "data": {
      "application/vnd.plotly.v1+json": {
       "config": {
        "plotlyServerURL": "https://plot.ly"
       },
       "data": [
        {
         "marker": {
          "color": {
           "bdata": "CI7n9Pzl1j9hVxtk8vHhP4JHVYotVPE/XSlfil/c8D8mOgEJ7wr2v2fFeaipAu6/gFSePSt74D+H/Qk873DgPwMUEklFe+A/BQ1F42TSDkC2wyAtvETiP3SXcOBGK/I/vPLQtC6H7j8SSSh3MtjkP9mNyg1fLdS/5g2W0XlJ6D9Y0b7x+7rovwAthHUSUM6/kS0mRTIQ378lag0ftPW0P9Im6rVrhAJATkByd1Hg/b+RkUbu1/XlP8j+Ryivzfm/TmBgtiE03r/F8w52V2zxP+gfzcOndLA/KULqTnE+8b9tVL+axOPmv0SCQ8dDv+U/qhKq1ylf57/pr5hB6rTLP3XHAjQxVac/V+/g+OjZ5L+V1qAozCYBQIFhpYsQSeQ/PXPb9H0zAMD8/hAovN3HP6yz485aLeW/PwrfRSJH6z8KDJ9zVFzpv/J+wg9eX72/N78DFdso4D+NsKk8RLTrP0v5XAFqNPO/JiQa33do1b9ayrQEgWXev4qY7bQS6OS/KngJ8kw//D8ljANpOOvZPwu5PqeULPS/D/uaBCBf7T9KYjkHLfoAQDcsBUv6hPA/AsGk4VZP+L+NcaTosP3ev/EbC6BERfQ/Frxmbzql5r8U602aiWfcP/QZu1rNyeg/yf+iF2qp7b9e6SKDG3quv0GEOZId7gnAUVGfS+Rj8L/Pqo+bEyrQvwSbcH/r9vO/Ch3AUFse+j/p9O/s2+H2v4WDyVmwKdy/JBracxu8wD93MpKUdA/3PxIUTpdK+fa/CF82mFGc8j/kN1YzEvWEP6y+n9SEaO+/1wlVcxqT3T9gSjjByXrJP83vPAb6NOO/zog5qIzesT/DbE5c+qjYv4oCYgV5D70/0uEXqyww5T9cAUQrU2D5P4YX358XzvO/xWZLzXMQAUB/6p1qwDv/v8NamamxbcO/jM8wm37T4j+DSpdQxfvRP8qoG4sn7eO/rl1t+b+jyr+ndNDKU43fvyyxj3oT3OK/rS+qvPAv6z/Pqhh7V9nWP9dUV75QLOa/aRaPrYXJ7D/XdA+cy6rTP1lCEmv3Auo/wsSVYusl5D8=",
           "dtype": "f8"
          },
          "colorscale": [
           [
            0,
            "#440154"
           ],
           [
            0.1111111111111111,
            "#482878"
           ],
           [
            0.2222222222222222,
            "#3e4989"
           ],
           [
            0.3333333333333333,
            "#31688e"
           ],
           [
            0.4444444444444444,
            "#26828e"
           ],
           [
            0.5555555555555556,
            "#1f9e89"
           ],
           [
            0.6666666666666666,
            "#35b779"
           ],
           [
            0.7777777777777778,
            "#6ece58"
           ],
           [
            0.8888888888888888,
            "#b5de2b"
           ],
           [
            1,
            "#fde725"
           ]
          ],
          "opacity": 0.8,
          "size": 5
         },
         "mode": "markers",
         "type": "scatter3d",
         "x": {
          "bdata": "fDCpKCrK3z8qBd4FpbLBv2heJFDdueQ/K6oBjlRe+D9AplffvPjNvzvbcCYz+M2/CHRAqHRE+T/z1/BG047oP4ueeUveC96/fS1q4aZc4T9wG8Guoqjdv+fvFiuEzt2/cPmepZ74zj++Ne6+y5z+vxLk7nBDmfu/YzyhakL+4b95UaNnjjTwvx+GFtigHNQ/+QOLgYgO7b/HExTEy5j2v0ENnx9Mc/c/2Zhm4TzmzL/GNbFGh0mxP2InDcHEy/a/KPrKUZVr4b81BjE/bGW8PxX1zj14avK/6N19s28L2D/SOz2hbjjjv6DS80Icq9K/p/2pOS5B479X9hhz7qL9P4aDsNZupIu/RsyHS2Ls8L83Lh+1SVLqPxx64lmTiPO/tWnv0gq8yj/DMFAPz1r/v/9asANAQPW/QDr0vL8yyT++nUiqhKHnPwwupFVl78U/XzGyNiCbvb/hr1BvSEXTvwa4sKwGqPe/J6aouPYI57/ZriIKG3vdv2LC1/746fA/iEEAkdf91T9OFQ2YaTX8vzhYbbDKvdQ/QA8qJjCl2L9NOahTWKnlv/nsCSfakuM/1Pz0Wvl+8D8enOD2C83tP1MVD7Xe2uq/zylztCLK07+KTA+JazPVPwBoGGqqN+8/VWYobMqq3r8Tbn1grMPHvzBuPE2Ms/G/9PWajqkj87+w1UonNgDqP/3Ng74os/U/+iMrXUFvsr9qgA6DeA7wP0KkKG0LJdc/rwoBL9Kk5L+P6aQIGyHXPyBgEDvMm/g/UhmlZMpXor8x1znJxwj5P19fz+s89QTAv1gZewZN6j8grkt3t0i2P7/t4LnvItO/OIpGXqJ9tz/iHOwPFc3/v8FsDls1Hsy/04nor+7a1j8349E5dKX3PzA8v2yrleC/S3Lu+S3f6b+hdpfJZA7gv5AGx2H5Su0/gMUgGEIK1T/02ryry/PgvwNc6tKvbOA/OiugAxPauD9TvHjHI//uP3hIyAw4d+a/l5Lxpmr41L8apYzLTBjZvxD0dqaOave/IzBrdqLz0j8UgR0sIbXQPw06yBDZ8XQ/hE70gPMGzr8=",
          "dtype": "f8"
         },
         "y": {
          "bdata": "BCaNylul9r90hh9c2uvavws0Ft4I79W/fDE0YUGs6b/Ac3WcAqXEvzMc/B/429k/GwJ+RNEt/j+RJ1zWkFjGP517TqK0e9A/YFWJNeMOs7/tciNySbP+vzhGxw90Jpu/rRjbe37Wrj+4CNpHuLQDQOSGYbpIn8i/cjBhOY1M0z8IMle3vcWhv88R8r3nsvK/XG9XkwBJ8j9WfwXd1Q/oP9CD1DoiUOk//I03uLMZ7b80xIdy2HH2PxrkSGH7bfa/S4cph4jH4j9pi2GZDYYBQGn2PTx5su+/syyOahwf4r/knA16wIK5P29cmPl4HOC/2oM4dYTP+L/WI4LWV42xP6z3zS0y//C/LYVNoFZP3j+P4yVf7Gvtv8btxwSIzPg/3zBiNWkQ6b/G09nnp5zUv6+9akJVCOo/EVsOyJ6x879VNCM6aB3NP9OKTYUO6vQ/uPAUV0C4+b9xtRAQFaLHP87DhXHrodA/FIwxZrEE6T/Ywx/UjMrzvwa+Dx2XIPW/c+xXzL6z4D81ybwAzAHTP9yCByoTCNA/bQZjHDUs1j8B1nQ0w8Llv50+1zh9us0/Kj4LDLPB0j9/yEiB99vmv987sV822v0/4GTFUEdT3j9piIFBlA/zvwzmpLZ8AuU/U2I0nZcw779TSQgNzC/pPyEIkoSbifI/3Du3kAdD6r/tPhst+tPuP3e1ZrEAa9o/56rQG1FO6j/5fjyZQ1n+P92Zh7bgaM+/8kr3TZse6L+U+RH35nbsvwxYtSseG+q/vzZmCPC8s79JabMXb9XVP3p/jlNNtdE/chRNAUl46j/EwjZjvKCKPwoy0PKsQfc/auDaNiPw0L9MuFAN6MIFQKFsmod3BeQ/fngKr9Vt6799RAssYCLxv2JDLPvT4N4/Gn5stW2azL8Pgm6QF9nmPy3tMXaGSd4/qoMQZuqksr9D/LEj7xjrv/pkh3HQPPi/HGITc7OT3L8ogL5xnmfrPyehqH5sZ8s/3tQeyYvu87+mMWnmyirGP1UCIToKqdg/we3ZY49I7L9MGk6nQ63DP+ihInyIza0/47UXOZtJ8r8=",
          "dtype": "f8"
         },
         "z": {
          "bdata": "CI7n9Pzl1j9hVxtk8vHhP4JHVYotVPE/XSlfil/c8D8mOgEJ7wr2v2fFeaipAu6/gFSePSt74D+H/Qk873DgPwMUEklFe+A/BQ1F42TSDkC2wyAtvETiP3SXcOBGK/I/vPLQtC6H7j8SSSh3MtjkP9mNyg1fLdS/5g2W0XlJ6D9Y0b7x+7rovwAthHUSUM6/kS0mRTIQ378lag0ftPW0P9Im6rVrhAJATkByd1Hg/b+RkUbu1/XlP8j+Ryivzfm/TmBgtiE03r/F8w52V2zxP+gfzcOndLA/KULqTnE+8b9tVL+axOPmv0SCQ8dDv+U/qhKq1ylf57/pr5hB6rTLP3XHAjQxVac/V+/g+OjZ5L+V1qAozCYBQIFhpYsQSeQ/PXPb9H0zAMD8/hAovN3HP6yz485aLeW/PwrfRSJH6z8KDJ9zVFzpv/J+wg9eX72/N78DFdso4D+NsKk8RLTrP0v5XAFqNPO/JiQa33do1b9ayrQEgWXev4qY7bQS6OS/KngJ8kw//D8ljANpOOvZPwu5PqeULPS/D/uaBCBf7T9KYjkHLfoAQDcsBUv6hPA/AsGk4VZP+L+NcaTosP3ev/EbC6BERfQ/Frxmbzql5r8U602aiWfcP/QZu1rNyeg/yf+iF2qp7b9e6SKDG3quv0GEOZId7gnAUVGfS+Rj8L/Pqo+bEyrQvwSbcH/r9vO/Ch3AUFse+j/p9O/s2+H2v4WDyVmwKdy/JBracxu8wD93MpKUdA/3PxIUTpdK+fa/CF82mFGc8j/kN1YzEvWEP6y+n9SEaO+/1wlVcxqT3T9gSjjByXrJP83vPAb6NOO/zog5qIzesT/DbE5c+qjYv4oCYgV5D70/0uEXqyww5T9cAUQrU2D5P4YX358XzvO/xWZLzXMQAUB/6p1qwDv/v8NamamxbcO/jM8wm37T4j+DSpdQxfvRP8qoG4sn7eO/rl1t+b+jyr+ndNDKU43fvyyxj3oT3OK/rS+qvPAv6z/Pqhh7V9nWP9dUV75QLOa/aRaPrYXJ7D/XdA+cy6rTP1lCEmv3Auo/wsSVYusl5D8=",
          "dtype": "f8"
         }
        }
       ],
       "layout": {
        "scene": {
         "xaxis": {
          "title": {
           "text": "X축"
          }
         },
         "yaxis": {
          "title": {
           "text": "Y축"
          }
         },
         "zaxis": {
          "title": {
           "text": "Z축"
          }
         }
        },
        "template": {
         "data": {
          "bar": [
           {
            "error_x": {
             "color": "#2a3f5f"
            },
            "error_y": {
             "color": "#2a3f5f"
            },
            "marker": {
             "line": {
              "color": "#E5ECF6",
              "width": 0.5
             },
             "pattern": {
              "fillmode": "overlay",
              "size": 10,
              "solidity": 0.2
             }
            },
            "type": "bar"
           }
          ],
          "barpolar": [
           {
            "marker": {
             "line": {
              "color": "#E5ECF6",
              "width": 0.5
             },
             "pattern": {
              "fillmode": "overlay",
              "size": 10,
              "solidity": 0.2
             }
            },
            "type": "barpolar"
           }
          ],
          "carpet": [
           {
            "aaxis": {
             "endlinecolor": "#2a3f5f",
             "gridcolor": "white",
             "linecolor": "white",
             "minorgridcolor": "white",
             "startlinecolor": "#2a3f5f"
            },
            "baxis": {
             "endlinecolor": "#2a3f5f",
             "gridcolor": "white",
             "linecolor": "white",
             "minorgridcolor": "white",
             "startlinecolor": "#2a3f5f"
            },
            "type": "carpet"
           }
          ],
          "choropleth": [
           {
            "colorbar": {
             "outlinewidth": 0,
             "ticks": ""
            },
            "type": "choropleth"
           }
          ],
          "contour": [
           {
            "colorbar": {
             "outlinewidth": 0,
             "ticks": ""
            },
            "colorscale": [
             [
              0,
              "#0d0887"
             ],
             [
              0.1111111111111111,
              "#46039f"
             ],
             [
              0.2222222222222222,
              "#7201a8"
             ],
             [
              0.3333333333333333,
              "#9c179e"
             ],
             [
              0.4444444444444444,
              "#bd3786"
             ],
             [
              0.5555555555555556,
              "#d8576b"
             ],
             [
              0.6666666666666666,
              "#ed7953"
             ],
             [
              0.7777777777777778,
              "#fb9f3a"
             ],
             [
              0.8888888888888888,
              "#fdca26"
             ],
             [
              1,
              "#f0f921"
             ]
            ],
            "type": "contour"
           }
          ],
          "contourcarpet": [
           {
            "colorbar": {
             "outlinewidth": 0,
             "ticks": ""
            },
            "type": "contourcarpet"
           }
          ],
          "heatmap": [
           {
            "colorbar": {
             "outlinewidth": 0,
             "ticks": ""
            },
            "colorscale": [
             [
              0,
              "#0d0887"
             ],
             [
              0.1111111111111111,
              "#46039f"
             ],
             [
              0.2222222222222222,
              "#7201a8"
             ],
             [
              0.3333333333333333,
              "#9c179e"
             ],
             [
              0.4444444444444444,
              "#bd3786"
             ],
             [
              0.5555555555555556,
              "#d8576b"
             ],
             [
              0.6666666666666666,
              "#ed7953"
             ],
             [
              0.7777777777777778,
              "#fb9f3a"
             ],
             [
              0.8888888888888888,
              "#fdca26"
             ],
             [
              1,
              "#f0f921"
             ]
            ],
            "type": "heatmap"
           }
          ],
          "histogram": [
           {
            "marker": {
             "pattern": {
              "fillmode": "overlay",
              "size": 10,
              "solidity": 0.2
             }
            },
            "type": "histogram"
           }
          ],
          "histogram2d": [
           {
            "colorbar": {
             "outlinewidth": 0,
             "ticks": ""
            },
            "colorscale": [
             [
              0,
              "#0d0887"
             ],
             [
              0.1111111111111111,
              "#46039f"
             ],
             [
              0.2222222222222222,
              "#7201a8"
             ],
             [
              0.3333333333333333,
              "#9c179e"
             ],
             [
              0.4444444444444444,
              "#bd3786"
             ],
             [
              0.5555555555555556,
              "#d8576b"
             ],
             [
              0.6666666666666666,
              "#ed7953"
             ],
             [
              0.7777777777777778,
              "#fb9f3a"
             ],
             [
              0.8888888888888888,
              "#fdca26"
             ],
             [
              1,
              "#f0f921"
             ]
            ],
            "type": "histogram2d"
           }
          ],
          "histogram2dcontour": [
           {
            "colorbar": {
             "outlinewidth": 0,
             "ticks": ""
            },
            "colorscale": [
             [
              0,
              "#0d0887"
             ],
             [
              0.1111111111111111,
              "#46039f"
             ],
             [
              0.2222222222222222,
              "#7201a8"
             ],
             [
              0.3333333333333333,
              "#9c179e"
             ],
             [
              0.4444444444444444,
              "#bd3786"
             ],
             [
              0.5555555555555556,
              "#d8576b"
             ],
             [
              0.6666666666666666,
              "#ed7953"
             ],
             [
              0.7777777777777778,
              "#fb9f3a"
             ],
             [
              0.8888888888888888,
              "#fdca26"
             ],
             [
              1,
              "#f0f921"
             ]
            ],
            "type": "histogram2dcontour"
           }
          ],
          "mesh3d": [
           {
            "colorbar": {
             "outlinewidth": 0,
             "ticks": ""
            },
            "type": "mesh3d"
           }
          ],
          "parcoords": [
           {
            "line": {
             "colorbar": {
              "outlinewidth": 0,
              "ticks": ""
             }
            },
            "type": "parcoords"
           }
          ],
          "pie": [
           {
            "automargin": true,
            "type": "pie"
           }
          ],
          "scatter": [
           {
            "fillpattern": {
             "fillmode": "overlay",
             "size": 10,
             "solidity": 0.2
            },
            "type": "scatter"
           }
          ],
          "scatter3d": [
           {
            "line": {
             "colorbar": {
              "outlinewidth": 0,
              "ticks": ""
             }
            },
            "marker": {
             "colorbar": {
              "outlinewidth": 0,
              "ticks": ""
             }
            },
            "type": "scatter3d"
           }
          ],
          "scattercarpet": [
           {
            "marker": {
             "colorbar": {
              "outlinewidth": 0,
              "ticks": ""
             }
            },
            "type": "scattercarpet"
           }
          ],
          "scattergeo": [
           {
            "marker": {
             "colorbar": {
              "outlinewidth": 0,
              "ticks": ""
             }
            },
            "type": "scattergeo"
           }
          ],
          "scattergl": [
           {
            "marker": {
             "colorbar": {
              "outlinewidth": 0,
              "ticks": ""
             }
            },
            "type": "scattergl"
           }
          ],
          "scattermap": [
           {
            "marker": {
             "colorbar": {
              "outlinewidth": 0,
              "ticks": ""
             }
            },
            "type": "scattermap"
           }
          ],
          "scattermapbox": [
           {
            "marker": {
             "colorbar": {
              "outlinewidth": 0,
              "ticks": ""
             }
            },
            "type": "scattermapbox"
           }
          ],
          "scatterpolar": [
           {
            "marker": {
             "colorbar": {
              "outlinewidth": 0,
              "ticks": ""
             }
            },
            "type": "scatterpolar"
           }
          ],
          "scatterpolargl": [
           {
            "marker": {
             "colorbar": {
              "outlinewidth": 0,
              "ticks": ""
             }
            },
            "type": "scatterpolargl"
           }
          ],
          "scatterternary": [
           {
            "marker": {
             "colorbar": {
              "outlinewidth": 0,
              "ticks": ""
             }
            },
            "type": "scatterternary"
           }
          ],
          "surface": [
           {
            "colorbar": {
             "outlinewidth": 0,
             "ticks": ""
            },
            "colorscale": [
             [
              0,
              "#0d0887"
             ],
             [
              0.1111111111111111,
              "#46039f"
             ],
             [
              0.2222222222222222,
              "#7201a8"
             ],
             [
              0.3333333333333333,
              "#9c179e"
             ],
             [
              0.4444444444444444,
              "#bd3786"
             ],
             [
              0.5555555555555556,
              "#d8576b"
             ],
             [
              0.6666666666666666,
              "#ed7953"
             ],
             [
              0.7777777777777778,
              "#fb9f3a"
             ],
             [
              0.8888888888888888,
              "#fdca26"
             ],
             [
              1,
              "#f0f921"
             ]
            ],
            "type": "surface"
           }
          ],
          "table": [
           {
            "cells": {
             "fill": {
              "color": "#EBF0F8"
             },
             "line": {
              "color": "white"
             }
            },
            "header": {
             "fill": {
              "color": "#C8D4E3"
             },
             "line": {
              "color": "white"
             }
            },
            "type": "table"
           }
          ]
         },
         "layout": {
          "annotationdefaults": {
           "arrowcolor": "#2a3f5f",
           "arrowhead": 0,
           "arrowwidth": 1
          },
          "autotypenumbers": "strict",
          "coloraxis": {
           "colorbar": {
            "outlinewidth": 0,
            "ticks": ""
           }
          },
          "colorscale": {
           "diverging": [
            [
             0,
             "#8e0152"
            ],
            [
             0.1,
             "#c51b7d"
            ],
            [
             0.2,
             "#de77ae"
            ],
            [
             0.3,
             "#f1b6da"
            ],
            [
             0.4,
             "#fde0ef"
            ],
            [
             0.5,
             "#f7f7f7"
            ],
            [
             0.6,
             "#e6f5d0"
            ],
            [
             0.7,
             "#b8e186"
            ],
            [
             0.8,
             "#7fbc41"
            ],
            [
             0.9,
             "#4d9221"
            ],
            [
             1,
             "#276419"
            ]
           ],
           "sequential": [
            [
             0,
             "#0d0887"
            ],
            [
             0.1111111111111111,
             "#46039f"
            ],
            [
             0.2222222222222222,
             "#7201a8"
            ],
            [
             0.3333333333333333,
             "#9c179e"
            ],
            [
             0.4444444444444444,
             "#bd3786"
            ],
            [
             0.5555555555555556,
             "#d8576b"
            ],
            [
             0.6666666666666666,
             "#ed7953"
            ],
            [
             0.7777777777777778,
             "#fb9f3a"
            ],
            [
             0.8888888888888888,
             "#fdca26"
            ],
            [
             1,
             "#f0f921"
            ]
           ],
           "sequentialminus": [
            [
             0,
             "#0d0887"
            ],
            [
             0.1111111111111111,
             "#46039f"
            ],
            [
             0.2222222222222222,
             "#7201a8"
            ],
            [
             0.3333333333333333,
             "#9c179e"
            ],
            [
             0.4444444444444444,
             "#bd3786"
            ],
            [
             0.5555555555555556,
             "#d8576b"
            ],
            [
             0.6666666666666666,
             "#ed7953"
            ],
            [
             0.7777777777777778,
             "#fb9f3a"
            ],
            [
             0.8888888888888888,
             "#fdca26"
            ],
            [
             1,
             "#f0f921"
            ]
           ]
          },
          "colorway": [
           "#636efa",
           "#EF553B",
           "#00cc96",
           "#ab63fa",
           "#FFA15A",
           "#19d3f3",
           "#FF6692",
           "#B6E880",
           "#FF97FF",
           "#FECB52"
          ],
          "font": {
           "color": "#2a3f5f"
          },
          "geo": {
           "bgcolor": "white",
           "lakecolor": "white",
           "landcolor": "#E5ECF6",
           "showlakes": true,
           "showland": true,
           "subunitcolor": "white"
          },
          "hoverlabel": {
           "align": "left"
          },
          "hovermode": "closest",
          "mapbox": {
           "style": "light"
          },
          "paper_bgcolor": "white",
          "plot_bgcolor": "#E5ECF6",
          "polar": {
           "angularaxis": {
            "gridcolor": "white",
            "linecolor": "white",
            "ticks": ""
           },
           "bgcolor": "#E5ECF6",
           "radialaxis": {
            "gridcolor": "white",
            "linecolor": "white",
            "ticks": ""
           }
          },
          "scene": {
           "xaxis": {
            "backgroundcolor": "#E5ECF6",
            "gridcolor": "white",
            "gridwidth": 2,
            "linecolor": "white",
            "showbackground": true,
            "ticks": "",
            "zerolinecolor": "white"
           },
           "yaxis": {
            "backgroundcolor": "#E5ECF6",
            "gridcolor": "white",
            "gridwidth": 2,
            "linecolor": "white",
            "showbackground": true,
            "ticks": "",
            "zerolinecolor": "white"
           },
           "zaxis": {
            "backgroundcolor": "#E5ECF6",
            "gridcolor": "white",
            "gridwidth": 2,
            "linecolor": "white",
            "showbackground": true,
            "ticks": "",
            "zerolinecolor": "white"
           }
          },
          "shapedefaults": {
           "line": {
            "color": "#2a3f5f"
           }
          },
          "ternary": {
           "aaxis": {
            "gridcolor": "white",
            "linecolor": "white",
            "ticks": ""
           },
           "baxis": {
            "gridcolor": "white",
            "linecolor": "white",
            "ticks": ""
           },
           "bgcolor": "#E5ECF6",
           "caxis": {
            "gridcolor": "white",
            "linecolor": "white",
            "ticks": ""
           }
          },
          "title": {
           "x": 0.05
          },
          "xaxis": {
           "automargin": true,
           "gridcolor": "white",
           "linecolor": "white",
           "ticks": "",
           "title": {
            "standoff": 15
           },
           "zerolinecolor": "white",
           "zerolinewidth": 2
          },
          "yaxis": {
           "automargin": true,
           "gridcolor": "white",
           "linecolor": "white",
           "ticks": "",
           "title": {
            "standoff": 15
           },
           "zerolinecolor": "white",
           "zerolinewidth": 2
          }
         }
        },
        "title": {
         "text": "3D 산점도 예제"
        }
       }
      }
     },
     "metadata": {},
     "output_type": "display_data"
    }
   ],
   "source": [
    "import plotly.graph_objects as go\n",
    "import numpy as np\n",
    "\n",
    "np.random.seed(42)\n",
    "x = np.random.randn(100)\n",
    "y = np.random.randn(100)\n",
    "z = np.random.randn(100)\n",
    "\n",
    "fig = go.Figure(data=[go.Scatter3d(\n",
    "    x=x,\n",
    "    y=y,\n",
    "    z=z,\n",
    "    mode='markers',\n",
    "    marker=dict(\n",
    "        size=5,\n",
    "        color=z,  # z 값을 기준으로 색상 설정\n",
    "        colorscale='Viridis',\n",
    "        opacity=0.8\n",
    "    )\n",
    ")])\n",
    "fig.update_layout(title=\"3D 산점도 예제\", scene=dict(\n",
    "    xaxis_title=\"X축\",\n",
    "    yaxis_title=\"Y축\",\n",
    "    zaxis_title=\"Z축\"\n",
    "))\n",
    "fig.show()\n"
   ]
  },
  {
   "cell_type": "markdown",
   "metadata": {},
   "source": [
    "## 2-22: 바이올린 플롯 (Violin Plot)\n",
    "- 여러 그룹에 대한 데이터 분포와 밀도를 한눈에 파악할 수 있도록, 그룹별 바이올린 플롯을 만들어보세요."
   ]
  },
  {
   "cell_type": "code",
   "execution_count": 24,
   "metadata": {},
   "outputs": [
    {
     "data": {
      "application/vnd.plotly.v1+json": {
       "config": {
        "plotlyServerURL": "https://plot.ly"
       },
       "data": [
        {
         "alignmentgroup": "True",
         "box": {
          "visible": true
         },
         "hovertemplate": "그룹=%{x}<br>값=%{y}<extra></extra>",
         "legendgroup": "",
         "marker": {
          "color": "#636efa"
         },
         "name": "",
         "offsetgroup": "",
         "orientation": "v",
         "points": "all",
         "scalegroup": "True",
         "showlegend": false,
         "type": "violin",
         "x": [
          "A",
          "A",
          "A",
          "A",
          "A",
          "A",
          "A",
          "A",
          "A",
          "A",
          "A",
          "A",
          "A",
          "A",
          "A",
          "A",
          "A",
          "A",
          "A",
          "A",
          "A",
          "A",
          "A",
          "A",
          "A",
          "A",
          "A",
          "A",
          "A",
          "A",
          "A",
          "A",
          "A",
          "A",
          "A",
          "A",
          "A",
          "A",
          "A",
          "A",
          "A",
          "A",
          "A",
          "A",
          "A",
          "A",
          "A",
          "A",
          "A",
          "A",
          "A",
          "A",
          "A",
          "A",
          "A",
          "A",
          "A",
          "A",
          "A",
          "A",
          "A",
          "A",
          "A",
          "A",
          "A",
          "A",
          "A",
          "A",
          "A",
          "A",
          "A",
          "A",
          "A",
          "A",
          "A",
          "A",
          "A",
          "A",
          "A",
          "A",
          "A",
          "A",
          "A",
          "A",
          "A",
          "A",
          "A",
          "A",
          "A",
          "A",
          "A",
          "A",
          "A",
          "A",
          "A",
          "A",
          "A",
          "A",
          "A",
          "A",
          "B",
          "B",
          "B",
          "B",
          "B",
          "B",
          "B",
          "B",
          "B",
          "B",
          "B",
          "B",
          "B",
          "B",
          "B",
          "B",
          "B",
          "B",
          "B",
          "B",
          "B",
          "B",
          "B",
          "B",
          "B",
          "B",
          "B",
          "B",
          "B",
          "B",
          "B",
          "B",
          "B",
          "B",
          "B",
          "B",
          "B",
          "B",
          "B",
          "B",
          "B",
          "B",
          "B",
          "B",
          "B",
          "B",
          "B",
          "B",
          "B",
          "B",
          "B",
          "B",
          "B",
          "B",
          "B",
          "B",
          "B",
          "B",
          "B",
          "B",
          "B",
          "B",
          "B",
          "B",
          "B",
          "B",
          "B",
          "B",
          "B",
          "B",
          "B",
          "B",
          "B",
          "B",
          "B",
          "B",
          "B",
          "B",
          "B",
          "B",
          "B",
          "B",
          "B",
          "B",
          "B",
          "B",
          "B",
          "B",
          "B",
          "B",
          "B",
          "B",
          "B",
          "B",
          "B",
          "B",
          "B",
          "B",
          "B",
          "B",
          "C",
          "C",
          "C",
          "C",
          "C",
          "C",
          "C",
          "C",
          "C",
          "C",
          "C",
          "C",
          "C",
          "C",
          "C",
          "C",
          "C",
          "C",
          "C",
          "C",
          "C",
          "C",
          "C",
          "C",
          "C",
          "C",
          "C",
          "C",
          "C",
          "C",
          "C",
          "C",
          "C",
          "C",
          "C",
          "C",
          "C",
          "C",
          "C",
          "C",
          "C",
          "C",
          "C",
          "C",
          "C",
          "C",
          "C",
          "C",
          "C",
          "C",
          "C",
          "C",
          "C",
          "C",
          "C",
          "C",
          "C",
          "C",
          "C",
          "C",
          "C",
          "C",
          "C",
          "C",
          "C",
          "C",
          "C",
          "C",
          "C",
          "C",
          "C",
          "C",
          "C",
          "C",
          "C",
          "C",
          "C",
          "C",
          "C",
          "C",
          "C",
          "C",
          "C",
          "C",
          "C",
          "C",
          "C",
          "C",
          "C",
          "C",
          "C",
          "C",
          "C",
          "C",
          "C",
          "C",
          "C",
          "C",
          "C",
          "C"
         ],
         "x0": " ",
         "xaxis": "x",
         "y": {
          "bdata": "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",
          "dtype": "f8"
         },
         "y0": " ",
         "yaxis": "y"
        }
       ],
       "layout": {
        "legend": {
         "tracegroupgap": 0
        },
        "template": {
         "data": {
          "bar": [
           {
            "error_x": {
             "color": "#2a3f5f"
            },
            "error_y": {
             "color": "#2a3f5f"
            },
            "marker": {
             "line": {
              "color": "#E5ECF6",
              "width": 0.5
             },
             "pattern": {
              "fillmode": "overlay",
              "size": 10,
              "solidity": 0.2
             }
            },
            "type": "bar"
           }
          ],
          "barpolar": [
           {
            "marker": {
             "line": {
              "color": "#E5ECF6",
              "width": 0.5
             },
             "pattern": {
              "fillmode": "overlay",
              "size": 10,
              "solidity": 0.2
             }
            },
            "type": "barpolar"
           }
          ],
          "carpet": [
           {
            "aaxis": {
             "endlinecolor": "#2a3f5f",
             "gridcolor": "white",
             "linecolor": "white",
             "minorgridcolor": "white",
             "startlinecolor": "#2a3f5f"
            },
            "baxis": {
             "endlinecolor": "#2a3f5f",
             "gridcolor": "white",
             "linecolor": "white",
             "minorgridcolor": "white",
             "startlinecolor": "#2a3f5f"
            },
            "type": "carpet"
           }
          ],
          "choropleth": [
           {
            "colorbar": {
             "outlinewidth": 0,
             "ticks": ""
            },
            "type": "choropleth"
           }
          ],
          "contour": [
           {
            "colorbar": {
             "outlinewidth": 0,
             "ticks": ""
            },
            "colorscale": [
             [
              0,
              "#0d0887"
             ],
             [
              0.1111111111111111,
              "#46039f"
             ],
             [
              0.2222222222222222,
              "#7201a8"
             ],
             [
              0.3333333333333333,
              "#9c179e"
             ],
             [
              0.4444444444444444,
              "#bd3786"
             ],
             [
              0.5555555555555556,
              "#d8576b"
             ],
             [
              0.6666666666666666,
              "#ed7953"
             ],
             [
              0.7777777777777778,
              "#fb9f3a"
             ],
             [
              0.8888888888888888,
              "#fdca26"
             ],
             [
              1,
              "#f0f921"
             ]
            ],
            "type": "contour"
           }
          ],
          "contourcarpet": [
           {
            "colorbar": {
             "outlinewidth": 0,
             "ticks": ""
            },
            "type": "contourcarpet"
           }
          ],
          "heatmap": [
           {
            "colorbar": {
             "outlinewidth": 0,
             "ticks": ""
            },
            "colorscale": [
             [
              0,
              "#0d0887"
             ],
             [
              0.1111111111111111,
              "#46039f"
             ],
             [
              0.2222222222222222,
              "#7201a8"
             ],
             [
              0.3333333333333333,
              "#9c179e"
             ],
             [
              0.4444444444444444,
              "#bd3786"
             ],
             [
              0.5555555555555556,
              "#d8576b"
             ],
             [
              0.6666666666666666,
              "#ed7953"
             ],
             [
              0.7777777777777778,
              "#fb9f3a"
             ],
             [
              0.8888888888888888,
              "#fdca26"
             ],
             [
              1,
              "#f0f921"
             ]
            ],
            "type": "heatmap"
           }
          ],
          "histogram": [
           {
            "marker": {
             "pattern": {
              "fillmode": "overlay",
              "size": 10,
              "solidity": 0.2
             }
            },
            "type": "histogram"
           }
          ],
          "histogram2d": [
           {
            "colorbar": {
             "outlinewidth": 0,
             "ticks": ""
            },
            "colorscale": [
             [
              0,
              "#0d0887"
             ],
             [
              0.1111111111111111,
              "#46039f"
             ],
             [
              0.2222222222222222,
              "#7201a8"
             ],
             [
              0.3333333333333333,
              "#9c179e"
             ],
             [
              0.4444444444444444,
              "#bd3786"
             ],
             [
              0.5555555555555556,
              "#d8576b"
             ],
             [
              0.6666666666666666,
              "#ed7953"
             ],
             [
              0.7777777777777778,
              "#fb9f3a"
             ],
             [
              0.8888888888888888,
              "#fdca26"
             ],
             [
              1,
              "#f0f921"
             ]
            ],
            "type": "histogram2d"
           }
          ],
          "histogram2dcontour": [
           {
            "colorbar": {
             "outlinewidth": 0,
             "ticks": ""
            },
            "colorscale": [
             [
              0,
              "#0d0887"
             ],
             [
              0.1111111111111111,
              "#46039f"
             ],
             [
              0.2222222222222222,
              "#7201a8"
             ],
             [
              0.3333333333333333,
              "#9c179e"
             ],
             [
              0.4444444444444444,
              "#bd3786"
             ],
             [
              0.5555555555555556,
              "#d8576b"
             ],
             [
              0.6666666666666666,
              "#ed7953"
             ],
             [
              0.7777777777777778,
              "#fb9f3a"
             ],
             [
              0.8888888888888888,
              "#fdca26"
             ],
             [
              1,
              "#f0f921"
             ]
            ],
            "type": "histogram2dcontour"
           }
          ],
          "mesh3d": [
           {
            "colorbar": {
             "outlinewidth": 0,
             "ticks": ""
            },
            "type": "mesh3d"
           }
          ],
          "parcoords": [
           {
            "line": {
             "colorbar": {
              "outlinewidth": 0,
              "ticks": ""
             }
            },
            "type": "parcoords"
           }
          ],
          "pie": [
           {
            "automargin": true,
            "type": "pie"
           }
          ],
          "scatter": [
           {
            "fillpattern": {
             "fillmode": "overlay",
             "size": 10,
             "solidity": 0.2
            },
            "type": "scatter"
           }
          ],
          "scatter3d": [
           {
            "line": {
             "colorbar": {
              "outlinewidth": 0,
              "ticks": ""
             }
            },
            "marker": {
             "colorbar": {
              "outlinewidth": 0,
              "ticks": ""
             }
            },
            "type": "scatter3d"
           }
          ],
          "scattercarpet": [
           {
            "marker": {
             "colorbar": {
              "outlinewidth": 0,
              "ticks": ""
             }
            },
            "type": "scattercarpet"
           }
          ],
          "scattergeo": [
           {
            "marker": {
             "colorbar": {
              "outlinewidth": 0,
              "ticks": ""
             }
            },
            "type": "scattergeo"
           }
          ],
          "scattergl": [
           {
            "marker": {
             "colorbar": {
              "outlinewidth": 0,
              "ticks": ""
             }
            },
            "type": "scattergl"
           }
          ],
          "scattermap": [
           {
            "marker": {
             "colorbar": {
              "outlinewidth": 0,
              "ticks": ""
             }
            },
            "type": "scattermap"
           }
          ],
          "scattermapbox": [
           {
            "marker": {
             "colorbar": {
              "outlinewidth": 0,
              "ticks": ""
             }
            },
            "type": "scattermapbox"
           }
          ],
          "scatterpolar": [
           {
            "marker": {
             "colorbar": {
              "outlinewidth": 0,
              "ticks": ""
             }
            },
            "type": "scatterpolar"
           }
          ],
          "scatterpolargl": [
           {
            "marker": {
             "colorbar": {
              "outlinewidth": 0,
              "ticks": ""
             }
            },
            "type": "scatterpolargl"
           }
          ],
          "scatterternary": [
           {
            "marker": {
             "colorbar": {
              "outlinewidth": 0,
              "ticks": ""
             }
            },
            "type": "scatterternary"
           }
          ],
          "surface": [
           {
            "colorbar": {
             "outlinewidth": 0,
             "ticks": ""
            },
            "colorscale": [
             [
              0,
              "#0d0887"
             ],
             [
              0.1111111111111111,
              "#46039f"
             ],
             [
              0.2222222222222222,
              "#7201a8"
             ],
             [
              0.3333333333333333,
              "#9c179e"
             ],
             [
              0.4444444444444444,
              "#bd3786"
             ],
             [
              0.5555555555555556,
              "#d8576b"
             ],
             [
              0.6666666666666666,
              "#ed7953"
             ],
             [
              0.7777777777777778,
              "#fb9f3a"
             ],
             [
              0.8888888888888888,
              "#fdca26"
             ],
             [
              1,
              "#f0f921"
             ]
            ],
            "type": "surface"
           }
          ],
          "table": [
           {
            "cells": {
             "fill": {
              "color": "#EBF0F8"
             },
             "line": {
              "color": "white"
             }
            },
            "header": {
             "fill": {
              "color": "#C8D4E3"
             },
             "line": {
              "color": "white"
             }
            },
            "type": "table"
           }
          ]
         },
         "layout": {
          "annotationdefaults": {
           "arrowcolor": "#2a3f5f",
           "arrowhead": 0,
           "arrowwidth": 1
          },
          "autotypenumbers": "strict",
          "coloraxis": {
           "colorbar": {
            "outlinewidth": 0,
            "ticks": ""
           }
          },
          "colorscale": {
           "diverging": [
            [
             0,
             "#8e0152"
            ],
            [
             0.1,
             "#c51b7d"
            ],
            [
             0.2,
             "#de77ae"
            ],
            [
             0.3,
             "#f1b6da"
            ],
            [
             0.4,
             "#fde0ef"
            ],
            [
             0.5,
             "#f7f7f7"
            ],
            [
             0.6,
             "#e6f5d0"
            ],
            [
             0.7,
             "#b8e186"
            ],
            [
             0.8,
             "#7fbc41"
            ],
            [
             0.9,
             "#4d9221"
            ],
            [
             1,
             "#276419"
            ]
           ],
           "sequential": [
            [
             0,
             "#0d0887"
            ],
            [
             0.1111111111111111,
             "#46039f"
            ],
            [
             0.2222222222222222,
             "#7201a8"
            ],
            [
             0.3333333333333333,
             "#9c179e"
            ],
            [
             0.4444444444444444,
             "#bd3786"
            ],
            [
             0.5555555555555556,
             "#d8576b"
            ],
            [
             0.6666666666666666,
             "#ed7953"
            ],
            [
             0.7777777777777778,
             "#fb9f3a"
            ],
            [
             0.8888888888888888,
             "#fdca26"
            ],
            [
             1,
             "#f0f921"
            ]
           ],
           "sequentialminus": [
            [
             0,
             "#0d0887"
            ],
            [
             0.1111111111111111,
             "#46039f"
            ],
            [
             0.2222222222222222,
             "#7201a8"
            ],
            [
             0.3333333333333333,
             "#9c179e"
            ],
            [
             0.4444444444444444,
             "#bd3786"
            ],
            [
             0.5555555555555556,
             "#d8576b"
            ],
            [
             0.6666666666666666,
             "#ed7953"
            ],
            [
             0.7777777777777778,
             "#fb9f3a"
            ],
            [
             0.8888888888888888,
             "#fdca26"
            ],
            [
             1,
             "#f0f921"
            ]
           ]
          },
          "colorway": [
           "#636efa",
           "#EF553B",
           "#00cc96",
           "#ab63fa",
           "#FFA15A",
           "#19d3f3",
           "#FF6692",
           "#B6E880",
           "#FF97FF",
           "#FECB52"
          ],
          "font": {
           "color": "#2a3f5f"
          },
          "geo": {
           "bgcolor": "white",
           "lakecolor": "white",
           "landcolor": "#E5ECF6",
           "showlakes": true,
           "showland": true,
           "subunitcolor": "white"
          },
          "hoverlabel": {
           "align": "left"
          },
          "hovermode": "closest",
          "mapbox": {
           "style": "light"
          },
          "paper_bgcolor": "white",
          "plot_bgcolor": "#E5ECF6",
          "polar": {
           "angularaxis": {
            "gridcolor": "white",
            "linecolor": "white",
            "ticks": ""
           },
           "bgcolor": "#E5ECF6",
           "radialaxis": {
            "gridcolor": "white",
            "linecolor": "white",
            "ticks": ""
           }
          },
          "scene": {
           "xaxis": {
            "backgroundcolor": "#E5ECF6",
            "gridcolor": "white",
            "gridwidth": 2,
            "linecolor": "white",
            "showbackground": true,
            "ticks": "",
            "zerolinecolor": "white"
           },
           "yaxis": {
            "backgroundcolor": "#E5ECF6",
            "gridcolor": "white",
            "gridwidth": 2,
            "linecolor": "white",
            "showbackground": true,
            "ticks": "",
            "zerolinecolor": "white"
           },
           "zaxis": {
            "backgroundcolor": "#E5ECF6",
            "gridcolor": "white",
            "gridwidth": 2,
            "linecolor": "white",
            "showbackground": true,
            "ticks": "",
            "zerolinecolor": "white"
           }
          },
          "shapedefaults": {
           "line": {
            "color": "#2a3f5f"
           }
          },
          "ternary": {
           "aaxis": {
            "gridcolor": "white",
            "linecolor": "white",
            "ticks": ""
           },
           "baxis": {
            "gridcolor": "white",
            "linecolor": "white",
            "ticks": ""
           },
           "bgcolor": "#E5ECF6",
           "caxis": {
            "gridcolor": "white",
            "linecolor": "white",
            "ticks": ""
           }
          },
          "title": {
           "x": 0.05
          },
          "xaxis": {
           "automargin": true,
           "gridcolor": "white",
           "linecolor": "white",
           "ticks": "",
           "title": {
            "standoff": 15
           },
           "zerolinecolor": "white",
           "zerolinewidth": 2
          },
          "yaxis": {
           "automargin": true,
           "gridcolor": "white",
           "linecolor": "white",
           "ticks": "",
           "title": {
            "standoff": 15
           },
           "zerolinecolor": "white",
           "zerolinewidth": 2
          }
         }
        },
        "title": {
         "text": "그룹별 바이올린 플롯"
        },
        "violinmode": "group",
        "xaxis": {
         "anchor": "y",
         "domain": [
          0,
          1
         ],
         "title": {
          "text": "그룹"
         }
        },
        "yaxis": {
         "anchor": "x",
         "domain": [
          0,
          1
         ],
         "title": {
          "text": "값"
         }
        }
       }
      }
     },
     "metadata": {},
     "output_type": "display_data"
    }
   ],
   "source": [
    "import plotly.express as px\n",
    "import pandas as pd\n",
    "import numpy as np\n",
    "\n",
    "np.random.seed(0)\n",
    "df = pd.DataFrame({\n",
    "    \"그룹\": np.repeat([\"A\", \"B\", \"C\"], 100),\n",
    "    \"값\": np.concatenate([np.random.randn(100) + i for i in range(3)])\n",
    "})\n",
    "\n",
    "fig = px.violin(df, y=\"값\", x=\"그룹\", box=True, points=\"all\", title=\"그룹별 바이올린 플롯\")\n",
    "fig.show()\n"
   ]
  }
 ],
 "metadata": {
  "kernelspec": {
   "display_name": "Python 3",
   "language": "python",
   "name": "python3"
  },
  "language_info": {
   "codemirror_mode": {
    "name": "ipython",
    "version": 3
   },
   "file_extension": ".py",
   "mimetype": "text/x-python",
   "name": "python",
   "nbconvert_exporter": "python",
   "pygments_lexer": "ipython3",
   "version": "3.11.10"
  }
 },
 "nbformat": 4,
 "nbformat_minor": 2
}
