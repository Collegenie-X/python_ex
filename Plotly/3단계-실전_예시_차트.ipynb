{
 "cells": [
  {
   "cell_type": "markdown",
   "metadata": {},
   "source": [
    "## 3-1: 주식 데이터 캔들스틱 차트\n",
    "- 가상의 주식 가격 데이터를 이용하여 캔들스틱 차트를 만들어보세요."
   ]
  },
  {
   "cell_type": "code",
   "execution_count": null,
   "metadata": {},
   "outputs": [
    {
     "data": {
      "application/vnd.plotly.v1+json": {
       "config": {
        "plotlyServerURL": "https://plot.ly"
       },
       "data": [
        {
         "close": {
          "bdata": "Gjq30SDeWkBXFloGC39dQMHvcViIK1tAeOi0mWgDXEAiGOLehS1aQBuyUkB4GV1AbIQwt8v0W0CZRVSksaFdQGVIvuwVll1ATQj7bxLXWUBtz88ww3NdQAJnbrhAh1tAguRibjZlXEAlAzOWP4teQEpQ94lCi1pAuSo6WT1TWkCQHGhmYOFXQLmsVK0j0FxAwHTSDjx3XUDDXRZjdYdcQPLwwksY8l1AuEOrA7PhW0C4ovH8sI5aQLZMSmnusltAl2B4mFtTWkDJFiMkaYJbQGKCsWyEVFlA6gkq8yXLXkB7rYCDyh5cQLV3Kuok51lAttDVEgl8WUC/76nqwyxdQG6TCnlMeVtA0AbVy9gvW0BaPsmp8i1aQHZGXvuCX1xAxbbYmkkmXEDh51nIN09cQC+TTZBGS15A11SU8V/wW0DWFHMWCItaQNYrMm6zdVpAg2IBpyG0W0A/vKinfGlaQM+rnB7G7lxA5/ZoY09UXEB4vy/F1V5ZQPXuzlXQB1lAMMRFD+N4WUDaCLuQk6daQA==",
          "dtype": "f8"
         },
         "high": {
          "bdata": "3u1xP2grXUAP0zm5JaxdQLz8NawYfF5Ak8jbV8L6W0Ask4aS9aNbQAIgzYj7oVxATydu2BnSXEA7ORp5kxdeQM6Z0V7t+15Ap05OzjyHW0DT/HwJJltdQMrGgiag61tAwji44SV7XUBNCrRmM/ldQPbyUSa92FlArLX8dYJbWkAeAfyxUCdbQPb4qvHlZ11AUFk8TFP8XkA1+AhYHpddQDIEeWPIKmBAaepYF9wqXkDLuxcY0r9dQKa2wLAtal5AdubUG4VwW0DFdSDZLUxcQL9YFBl9bFpAUSKGHRoGXkCtajfefllcQHTeIsbAXltAUUB08iMeW0ChXY++JehdQGv+Q0TtcFtAmtmCEceSXUAeEikGrYJaQF6qwDZswFxAxejMfFxeXUDmhzclzFFcQJQQt3GaKF9AoTW+w3q7XkC01tLiDZhbQF3DsyWL2lxApqhTjVHRXED3ek67iRdbQEquXWmuDl1A0yubsKjPXECzh9VvqIRbQBZOVf3ksVlAatauGEWmXEAQuV8NjtRaQA==",
          "dtype": "f8"
         },
         "low": {
          "bdata": "IUlhv60MWkCWyC4lo+ZbQHUxglADLVpAseWkWaZRWUAaSFd9E39aQC7QHfcAylpAJuxnbTS1WUDc9bVsOgdcQPdMlFG3Ql1AoAUGuAuJWEDcAj5wP9dbQLuCvrBIh1lApoxFKG4XWkAkabhvZ+JcQKwJ9XUYUldAIaxBB8NxWEBY73Y3+eVWQF0WoB+9tVtACznp4bqvWkACI3w0ZZ5bQPoAR/93FFxAPn2lShO+W0Bx1ZDQzOpYQPwHPXLsSltA6suxwB+IWEA/IifbAa9aQIBeQGQ1q1lAsBfAFyv4XEDs5/lsdPVZQF4Z/RseWVpALOFh7xnHWEB4oW9um8xbQENrKkUr8VpAuD4u3LEYW0Dxiaf9RatXQH3N2zRqnFpApeHgE+qfWkBBUoCCoHNaQGm8RsWmFlxAfkp2R59UW0D+ycZaYY5YQFGYOEspRFpAVylRrgNmW0CZV8b1QRJXQGWKTUt/UVpA7oL3gu2XWkC9VgH8JM1ZQMPsq4mOWFdAhbZ7RKLKWEBit+CmSVJYQA==",
          "dtype": "f8"
         },
         "name": "주가",
         "open": {
          "bdata": "6tp+NXu+W0AgFWdAcZNcQHRFyYCJA1xAbo9HUnO5W0ArxWM0Rx5bQEaAPZW+OlxABJvPkxwwW0D2EkkteHVdQACgawN90V1AKm3sHc7qWkBu8uF1aPVcQN3LjEn8pFtAd9h+1xjXW0DJxaWBw6BdQL/7dRjtWllAH7Vnh4ZvWUAs6xoq4RlZQBMl+d7AKV1AxHR2ZwrkXEDGNquUnVldQPzGi6ih5F1ATiVAR+z+XEDCRrOOsU5bQOie7MwT51xAHU3zKWSXWUCIH/1RGTNcQM/6VQF+t1lA5WBZHC25XUD68RBC95tbQKzGq2zEEltALNA9laFSWkAr6DXlBN9cQOelQlffR1tAiaK1b5jXW0DR3LMKDRhZQK/yt8ySFlxASZLDhnsPXECX1p3urBVcQG9q0F7/t11A9P0n4LpoXEAUF4KMK8xaQDNgcKFmL1tAhuJPyvd8XEBhK7uuFk1ZQJ6ACB52VVxAdVj7nWpaXEDqTVkoSg1aQBscuJEGpVlAvkDhj7+TWkDvAdS+jNFaQA==",
          "dtype": "f8"
         },
         "type": "candlestick",
         "x": [
          "2023-01-01T00:00:00.000000000",
          "2023-01-02T00:00:00.000000000",
          "2023-01-03T00:00:00.000000000",
          "2023-01-04T00:00:00.000000000",
          "2023-01-05T00:00:00.000000000",
          "2023-01-06T00:00:00.000000000",
          "2023-01-07T00:00:00.000000000",
          "2023-01-08T00:00:00.000000000",
          "2023-01-09T00:00:00.000000000",
          "2023-01-10T00:00:00.000000000",
          "2023-01-11T00:00:00.000000000",
          "2023-01-12T00:00:00.000000000",
          "2023-01-13T00:00:00.000000000",
          "2023-01-14T00:00:00.000000000",
          "2023-01-15T00:00:00.000000000",
          "2023-01-16T00:00:00.000000000",
          "2023-01-17T00:00:00.000000000",
          "2023-01-18T00:00:00.000000000",
          "2023-01-19T00:00:00.000000000",
          "2023-01-20T00:00:00.000000000",
          "2023-01-21T00:00:00.000000000",
          "2023-01-22T00:00:00.000000000",
          "2023-01-23T00:00:00.000000000",
          "2023-01-24T00:00:00.000000000",
          "2023-01-25T00:00:00.000000000",
          "2023-01-26T00:00:00.000000000",
          "2023-01-27T00:00:00.000000000",
          "2023-01-28T00:00:00.000000000",
          "2023-01-29T00:00:00.000000000",
          "2023-01-30T00:00:00.000000000",
          "2023-01-31T00:00:00.000000000",
          "2023-02-01T00:00:00.000000000",
          "2023-02-02T00:00:00.000000000",
          "2023-02-03T00:00:00.000000000",
          "2023-02-04T00:00:00.000000000",
          "2023-02-05T00:00:00.000000000",
          "2023-02-06T00:00:00.000000000",
          "2023-02-07T00:00:00.000000000",
          "2023-02-08T00:00:00.000000000",
          "2023-02-09T00:00:00.000000000",
          "2023-02-10T00:00:00.000000000",
          "2023-02-11T00:00:00.000000000",
          "2023-02-12T00:00:00.000000000",
          "2023-02-13T00:00:00.000000000",
          "2023-02-14T00:00:00.000000000",
          "2023-02-15T00:00:00.000000000",
          "2023-02-16T00:00:00.000000000",
          "2023-02-17T00:00:00.000000000",
          "2023-02-18T00:00:00.000000000",
          "2023-02-19T00:00:00.000000000"
         ]
        }
       ],
       "layout": {
        "template": {
         "data": {
          "bar": [
           {
            "error_x": {
             "color": "#2a3f5f"
            },
            "error_y": {
             "color": "#2a3f5f"
            },
            "marker": {
             "line": {
              "color": "#E5ECF6",
              "width": 0.5
             },
             "pattern": {
              "fillmode": "overlay",
              "size": 10,
              "solidity": 0.2
             }
            },
            "type": "bar"
           }
          ],
          "barpolar": [
           {
            "marker": {
             "line": {
              "color": "#E5ECF6",
              "width": 0.5
             },
             "pattern": {
              "fillmode": "overlay",
              "size": 10,
              "solidity": 0.2
             }
            },
            "type": "barpolar"
           }
          ],
          "carpet": [
           {
            "aaxis": {
             "endlinecolor": "#2a3f5f",
             "gridcolor": "white",
             "linecolor": "white",
             "minorgridcolor": "white",
             "startlinecolor": "#2a3f5f"
            },
            "baxis": {
             "endlinecolor": "#2a3f5f",
             "gridcolor": "white",
             "linecolor": "white",
             "minorgridcolor": "white",
             "startlinecolor": "#2a3f5f"
            },
            "type": "carpet"
           }
          ],
          "choropleth": [
           {
            "colorbar": {
             "outlinewidth": 0,
             "ticks": ""
            },
            "type": "choropleth"
           }
          ],
          "contour": [
           {
            "colorbar": {
             "outlinewidth": 0,
             "ticks": ""
            },
            "colorscale": [
             [
              0,
              "#0d0887"
             ],
             [
              0.1111111111111111,
              "#46039f"
             ],
             [
              0.2222222222222222,
              "#7201a8"
             ],
             [
              0.3333333333333333,
              "#9c179e"
             ],
             [
              0.4444444444444444,
              "#bd3786"
             ],
             [
              0.5555555555555556,
              "#d8576b"
             ],
             [
              0.6666666666666666,
              "#ed7953"
             ],
             [
              0.7777777777777778,
              "#fb9f3a"
             ],
             [
              0.8888888888888888,
              "#fdca26"
             ],
             [
              1,
              "#f0f921"
             ]
            ],
            "type": "contour"
           }
          ],
          "contourcarpet": [
           {
            "colorbar": {
             "outlinewidth": 0,
             "ticks": ""
            },
            "type": "contourcarpet"
           }
          ],
          "heatmap": [
           {
            "colorbar": {
             "outlinewidth": 0,
             "ticks": ""
            },
            "colorscale": [
             [
              0,
              "#0d0887"
             ],
             [
              0.1111111111111111,
              "#46039f"
             ],
             [
              0.2222222222222222,
              "#7201a8"
             ],
             [
              0.3333333333333333,
              "#9c179e"
             ],
             [
              0.4444444444444444,
              "#bd3786"
             ],
             [
              0.5555555555555556,
              "#d8576b"
             ],
             [
              0.6666666666666666,
              "#ed7953"
             ],
             [
              0.7777777777777778,
              "#fb9f3a"
             ],
             [
              0.8888888888888888,
              "#fdca26"
             ],
             [
              1,
              "#f0f921"
             ]
            ],
            "type": "heatmap"
           }
          ],
          "histogram": [
           {
            "marker": {
             "pattern": {
              "fillmode": "overlay",
              "size": 10,
              "solidity": 0.2
             }
            },
            "type": "histogram"
           }
          ],
          "histogram2d": [
           {
            "colorbar": {
             "outlinewidth": 0,
             "ticks": ""
            },
            "colorscale": [
             [
              0,
              "#0d0887"
             ],
             [
              0.1111111111111111,
              "#46039f"
             ],
             [
              0.2222222222222222,
              "#7201a8"
             ],
             [
              0.3333333333333333,
              "#9c179e"
             ],
             [
              0.4444444444444444,
              "#bd3786"
             ],
             [
              0.5555555555555556,
              "#d8576b"
             ],
             [
              0.6666666666666666,
              "#ed7953"
             ],
             [
              0.7777777777777778,
              "#fb9f3a"
             ],
             [
              0.8888888888888888,
              "#fdca26"
             ],
             [
              1,
              "#f0f921"
             ]
            ],
            "type": "histogram2d"
           }
          ],
          "histogram2dcontour": [
           {
            "colorbar": {
             "outlinewidth": 0,
             "ticks": ""
            },
            "colorscale": [
             [
              0,
              "#0d0887"
             ],
             [
              0.1111111111111111,
              "#46039f"
             ],
             [
              0.2222222222222222,
              "#7201a8"
             ],
             [
              0.3333333333333333,
              "#9c179e"
             ],
             [
              0.4444444444444444,
              "#bd3786"
             ],
             [
              0.5555555555555556,
              "#d8576b"
             ],
             [
              0.6666666666666666,
              "#ed7953"
             ],
             [
              0.7777777777777778,
              "#fb9f3a"
             ],
             [
              0.8888888888888888,
              "#fdca26"
             ],
             [
              1,
              "#f0f921"
             ]
            ],
            "type": "histogram2dcontour"
           }
          ],
          "mesh3d": [
           {
            "colorbar": {
             "outlinewidth": 0,
             "ticks": ""
            },
            "type": "mesh3d"
           }
          ],
          "parcoords": [
           {
            "line": {
             "colorbar": {
              "outlinewidth": 0,
              "ticks": ""
             }
            },
            "type": "parcoords"
           }
          ],
          "pie": [
           {
            "automargin": true,
            "type": "pie"
           }
          ],
          "scatter": [
           {
            "fillpattern": {
             "fillmode": "overlay",
             "size": 10,
             "solidity": 0.2
            },
            "type": "scatter"
           }
          ],
          "scatter3d": [
           {
            "line": {
             "colorbar": {
              "outlinewidth": 0,
              "ticks": ""
             }
            },
            "marker": {
             "colorbar": {
              "outlinewidth": 0,
              "ticks": ""
             }
            },
            "type": "scatter3d"
           }
          ],
          "scattercarpet": [
           {
            "marker": {
             "colorbar": {
              "outlinewidth": 0,
              "ticks": ""
             }
            },
            "type": "scattercarpet"
           }
          ],
          "scattergeo": [
           {
            "marker": {
             "colorbar": {
              "outlinewidth": 0,
              "ticks": ""
             }
            },
            "type": "scattergeo"
           }
          ],
          "scattergl": [
           {
            "marker": {
             "colorbar": {
              "outlinewidth": 0,
              "ticks": ""
             }
            },
            "type": "scattergl"
           }
          ],
          "scattermap": [
           {
            "marker": {
             "colorbar": {
              "outlinewidth": 0,
              "ticks": ""
             }
            },
            "type": "scattermap"
           }
          ],
          "scattermapbox": [
           {
            "marker": {
             "colorbar": {
              "outlinewidth": 0,
              "ticks": ""
             }
            },
            "type": "scattermapbox"
           }
          ],
          "scatterpolar": [
           {
            "marker": {
             "colorbar": {
              "outlinewidth": 0,
              "ticks": ""
             }
            },
            "type": "scatterpolar"
           }
          ],
          "scatterpolargl": [
           {
            "marker": {
             "colorbar": {
              "outlinewidth": 0,
              "ticks": ""
             }
            },
            "type": "scatterpolargl"
           }
          ],
          "scatterternary": [
           {
            "marker": {
             "colorbar": {
              "outlinewidth": 0,
              "ticks": ""
             }
            },
            "type": "scatterternary"
           }
          ],
          "surface": [
           {
            "colorbar": {
             "outlinewidth": 0,
             "ticks": ""
            },
            "colorscale": [
             [
              0,
              "#0d0887"
             ],
             [
              0.1111111111111111,
              "#46039f"
             ],
             [
              0.2222222222222222,
              "#7201a8"
             ],
             [
              0.3333333333333333,
              "#9c179e"
             ],
             [
              0.4444444444444444,
              "#bd3786"
             ],
             [
              0.5555555555555556,
              "#d8576b"
             ],
             [
              0.6666666666666666,
              "#ed7953"
             ],
             [
              0.7777777777777778,
              "#fb9f3a"
             ],
             [
              0.8888888888888888,
              "#fdca26"
             ],
             [
              1,
              "#f0f921"
             ]
            ],
            "type": "surface"
           }
          ],
          "table": [
           {
            "cells": {
             "fill": {
              "color": "#EBF0F8"
             },
             "line": {
              "color": "white"
             }
            },
            "header": {
             "fill": {
              "color": "#C8D4E3"
             },
             "line": {
              "color": "white"
             }
            },
            "type": "table"
           }
          ]
         },
         "layout": {
          "annotationdefaults": {
           "arrowcolor": "#2a3f5f",
           "arrowhead": 0,
           "arrowwidth": 1
          },
          "autotypenumbers": "strict",
          "coloraxis": {
           "colorbar": {
            "outlinewidth": 0,
            "ticks": ""
           }
          },
          "colorscale": {
           "diverging": [
            [
             0,
             "#8e0152"
            ],
            [
             0.1,
             "#c51b7d"
            ],
            [
             0.2,
             "#de77ae"
            ],
            [
             0.3,
             "#f1b6da"
            ],
            [
             0.4,
             "#fde0ef"
            ],
            [
             0.5,
             "#f7f7f7"
            ],
            [
             0.6,
             "#e6f5d0"
            ],
            [
             0.7,
             "#b8e186"
            ],
            [
             0.8,
             "#7fbc41"
            ],
            [
             0.9,
             "#4d9221"
            ],
            [
             1,
             "#276419"
            ]
           ],
           "sequential": [
            [
             0,
             "#0d0887"
            ],
            [
             0.1111111111111111,
             "#46039f"
            ],
            [
             0.2222222222222222,
             "#7201a8"
            ],
            [
             0.3333333333333333,
             "#9c179e"
            ],
            [
             0.4444444444444444,
             "#bd3786"
            ],
            [
             0.5555555555555556,
             "#d8576b"
            ],
            [
             0.6666666666666666,
             "#ed7953"
            ],
            [
             0.7777777777777778,
             "#fb9f3a"
            ],
            [
             0.8888888888888888,
             "#fdca26"
            ],
            [
             1,
             "#f0f921"
            ]
           ],
           "sequentialminus": [
            [
             0,
             "#0d0887"
            ],
            [
             0.1111111111111111,
             "#46039f"
            ],
            [
             0.2222222222222222,
             "#7201a8"
            ],
            [
             0.3333333333333333,
             "#9c179e"
            ],
            [
             0.4444444444444444,
             "#bd3786"
            ],
            [
             0.5555555555555556,
             "#d8576b"
            ],
            [
             0.6666666666666666,
             "#ed7953"
            ],
            [
             0.7777777777777778,
             "#fb9f3a"
            ],
            [
             0.8888888888888888,
             "#fdca26"
            ],
            [
             1,
             "#f0f921"
            ]
           ]
          },
          "colorway": [
           "#636efa",
           "#EF553B",
           "#00cc96",
           "#ab63fa",
           "#FFA15A",
           "#19d3f3",
           "#FF6692",
           "#B6E880",
           "#FF97FF",
           "#FECB52"
          ],
          "font": {
           "color": "#2a3f5f"
          },
          "geo": {
           "bgcolor": "white",
           "lakecolor": "white",
           "landcolor": "#E5ECF6",
           "showlakes": true,
           "showland": true,
           "subunitcolor": "white"
          },
          "hoverlabel": {
           "align": "left"
          },
          "hovermode": "closest",
          "mapbox": {
           "style": "light"
          },
          "paper_bgcolor": "white",
          "plot_bgcolor": "#E5ECF6",
          "polar": {
           "angularaxis": {
            "gridcolor": "white",
            "linecolor": "white",
            "ticks": ""
           },
           "bgcolor": "#E5ECF6",
           "radialaxis": {
            "gridcolor": "white",
            "linecolor": "white",
            "ticks": ""
           }
          },
          "scene": {
           "xaxis": {
            "backgroundcolor": "#E5ECF6",
            "gridcolor": "white",
            "gridwidth": 2,
            "linecolor": "white",
            "showbackground": true,
            "ticks": "",
            "zerolinecolor": "white"
           },
           "yaxis": {
            "backgroundcolor": "#E5ECF6",
            "gridcolor": "white",
            "gridwidth": 2,
            "linecolor": "white",
            "showbackground": true,
            "ticks": "",
            "zerolinecolor": "white"
           },
           "zaxis": {
            "backgroundcolor": "#E5ECF6",
            "gridcolor": "white",
            "gridwidth": 2,
            "linecolor": "white",
            "showbackground": true,
            "ticks": "",
            "zerolinecolor": "white"
           }
          },
          "shapedefaults": {
           "line": {
            "color": "#2a3f5f"
           }
          },
          "ternary": {
           "aaxis": {
            "gridcolor": "white",
            "linecolor": "white",
            "ticks": ""
           },
           "baxis": {
            "gridcolor": "white",
            "linecolor": "white",
            "ticks": ""
           },
           "bgcolor": "#E5ECF6",
           "caxis": {
            "gridcolor": "white",
            "linecolor": "white",
            "ticks": ""
           }
          },
          "title": {
           "x": 0.05
          },
          "xaxis": {
           "automargin": true,
           "gridcolor": "white",
           "linecolor": "white",
           "ticks": "",
           "title": {
            "standoff": 15
           },
           "zerolinecolor": "white",
           "zerolinewidth": 2
          },
          "yaxis": {
           "automargin": true,
           "gridcolor": "white",
           "linecolor": "white",
           "ticks": "",
           "title": {
            "standoff": 15
           },
           "zerolinecolor": "white",
           "zerolinewidth": 2
          }
         }
        },
        "title": {
         "text": "주식 데이터 캔들스틱 차트"
        },
        "xaxis": {
         "title": {
          "text": "날짜"
         }
        },
        "yaxis": {
         "title": {
          "text": "가격"
         }
        }
       }
      }
     },
     "metadata": {},
     "output_type": "display_data"
    }
   ],
   "source": [
    "import plotly.graph_objects as go\n",
    "import pandas as pd\n",
    "import numpy as np\n",
    "\n",
    "# 가상 주식 데이터 생성\n",
    "np.random.seed(0)\n",
    "dates = pd.date_range(start=\"2023-01-01\", periods=50, freq=\"D\")\n",
    "open_prices = np.random.uniform(100, 120, 50)\n",
    "high_prices = open_prices + np.random.uniform(0, 10, 50)\n",
    "low_prices = open_prices - np.random.uniform(0, 10, 50)\n",
    "close_prices = open_prices + np.random.uniform(-5, 5, 50)\n",
    "\n",
    "# 데이터프레임 생성\n",
    "df = pd.DataFrame(\n",
    "    {\n",
    "        \"Date\": dates,\n",
    "        \"Open\": open_prices,\n",
    "        \"High\": high_prices,\n",
    "        \"Low\": low_prices,\n",
    "        \"Close\": close_prices,\n",
    "    }\n",
    ")\n",
    "\n",
    "# 캔들스틱 차트 생성\n",
    "fig = go.Figure(\n",
    "    data=[\n",
    "        go.Candlestick(\n",
    "            x=df[\"Date\"],\n",
    "            open=df[\"Open\"],\n",
    "            high=df[\"High\"],\n",
    "            low=df[\"Low\"],\n",
    "            close=df[\"Close\"],\n",
    "            name=\"주가\",\n",
    "        )\n",
    "    ]\n",
    ")\n",
    "fig.update_layout(\n",
    "    title=\"주식 데이터 캔들스틱 차트\", xaxis_title=\"날짜\", yaxis_title=\"가격\"\n",
    ")\n",
    "fig.show()"
   ]
  },
  {
   "cell_type": "markdown",
   "metadata": {},
   "source": [
    "##  1: 주식 데이터 캔들스틱 차트 및 이동평균\n",
    "- 가상의 주식 데이터를 사용하여 캔들스틱 차트를 그리고, 5일 이동평균을 계산하여 차트에 추가하세요."
   ]
  },
  {
   "cell_type": "code",
   "execution_count": 6,
   "metadata": {},
   "outputs": [
    {
     "data": {
      "application/vnd.plotly.v1+json": {
       "config": {
        "plotlyServerURL": "https://plot.ly"
       },
       "data": [
        {
         "close": {
          "bdata": "oEP6nbF5WkBGE86QiclcQAARyJPBuF1ApigXscfvXEADnilYySxZQA3+DRIQLlpApQ34hV4VWkBouU6zCHhdQJu5W1FnFFxAq9c3TR7lW0BoQqYV7xVYQOwu4OOz115AgseMTMspXkCfOF+f+mRaQEUQ1Qu3gVlAX9OKfECKWUDvmDWtChZbQPaihbvWnVxA9gzE+58gXEBN/CrG5CdbQFIN5GsSalxAO1ES12aoWEDOoPo0Y51ZQDHDKpEE1FtAs/N8WeKLW0BxudBN6bJbQJRn2DOGAFlAxjV7eNz6W0BQZSGyh7laQAMFkqlfYlhAxbJT19goXEAt9Dt0FVVaQNKtUXCFtFlAidO0GBsOXUB4kou/zVteQJotlYiWYlxARNyQUykWWkCxQqJZxhpaQAQZElWVy1xAUv/G7uUSXECMPvrIFAFaQOO2YECLpVtAh3HEGvgnWEDweaGqRDddQNkxwcf3tFlAKAy4kC6sW0AcVuKIt71bQMU1OAVFVVtA6FGT7rK2XED+wkfcikBaQJfF8l+/lV5ApZG7ldvhXEDqvBTyxuNdQBlmCSCXdF1AQsfmeUQ6W0CXLsxNXipeQAgIiff25FhAW9Ggl2vKWECcRk1C/pZZQICwdg7G0VlA",
          "dtype": "f8"
         },
         "high": {
          "bdata": "hDt7MSrYW0Bihqjjk25eQM+w2yBYu15AareM4JriXEBf5Yd/gHtaQHATVpz/IltAhC7x3ImkWUBfnYKNHFZfQA8cmL4jMVxApwMqx/ABX0DKnci1lQhbQLX/OqOpWF5AeUtXjA8tXUAxCPB6sBlcQESpl+kfrVtA1gIyhlK9W0BfVyIIC3NcQBQ8y6kTz1tAssbHxE4OXEAlKY3z7b5aQBj7Y9KON15ALWxrg3ZBW0AHb3NKuElbQKzoUtme/VpAGwEkW8wOXEAuN5h+JL1dQGx//MeH0ltAcEvDwUEqXUDglHdXGy5eQIE5iJCsaVpAEJZKnjJWXEA0/utev6JbQFrc2yArOltAj6EJeMolX0CQnD6RbcFfQL3mEB3HRl5AWmj7YnTUW0B00M2EpY5aQAS22SUWfFxAr3W9GXJ4W0CzQrnYUrBZQD9XOw0hEV1A5sy4gzT1WUADNtZUatFeQOZNKLcUkFxAEjZJV5PvXEBUNp+fopVbQPyDQWM9fV1ApULWUDhOXEBc6xR/4R1aQC5Zbl6Ckl5A6WXuBFpHXUAQlphWyAJgQIbqG3iTfl9Als2MvLCSXUDwxDjau8lfQAy/LNuec1tAf6eETUNyWkAvc8DxIHVbQLESYROa+VtA",
          "dtype": "f8"
         },
         "low": {
          "bdata": "Cq6lT6baWECC2CB3aoNbQEw05BVu3VtAt7k5gdm3W0CdhINK0zVZQFH0v/FStlhAOkZ9TNE+V0DIAi2A1i1bQKyveVT6/FtAPWpdYnRDW0BNPSKCNA9YQPsfrOpVS11Ajp0QENDcXEA1mPxouDdZQGJKURRGjVdAwEvha+gbWUBiN1VxZzlZQODSsI/B3VlApX9uqypAWkCVpi8w1QZYQEg6fJc0p1lAHcM/VmkRWUC60WLDtDdZQH5l6YthFFpAg63uvniRWkBqmc3matVcQJIQnxV2eVhAGW/caIFQWkC7CZggWNVbQBr8PW8fiVhA4hmqA17EWUCan1GG80BZQMult4eI9lhA/e1i31KFXEAJ5Y1VMV1bQDtArk7Vb1xAGhbcJr3XWEDjXsdwlZVXQPgwY/G601tALBLdM1ZhWUC0+Xvm07BYQCmjJpUm5VlAF9U77I6WV0BSQf3ICDVcQEhKzfJzEVpA6MxcV285WkB5XivhsMFZQAubSbJQIltA0SnWbLGhW0D17ko1cXJYQHMlhVhtJ1xAlhEPxo3VXEDFdr6v0WpcQERfWPVr6FxAXqtMwWZgWkAxAbmNZyxdQB136/sRt1dA0+n58VgDWUBOxZY8YuJWQPkRsc9oSFpA",
          "dtype": "f8"
         },
         "name": "캔들스틱",
         "open": {
          "bdata": "ZnJfTmnfWkB9WV0Q6sBdQCXAXMbzqFxA/H5/aUj+W0BPVScwtMdZQPn+z0isx1lA1nqJ1lhKWUC0ZHWZtFRdQNPb9l1tAVxAZCToOFWKXECeBokgWRpZQBKFcw982V1AHiv2zYYpXUDmH6BHyw9aQPzAvme86FlAC8xi/cHqWUBQ3SEZboVaQHAhATCwn1tAo7BjvuMoW0DF9vP2xXRaQE763/QrD1xAbXcnWY2yWUAHzVv18XVaQFA+5XLx1FpAPX8uA8VHW0AX8YJ1Bu1cQKUx3RqV/1lAI1E9VziSW0CcrupnSvZbQCmXCd90O1lAZtkMTKgJXEBzFEhYRdpZQFUfIhtEU1lAlsAW0JK+XUBJIPpNAtRdQKmqnaS/Cl1A+o0C1+eFWkBp8cQyBX1ZQGeQZnrRa1xAeVJNK2UzW0B2mSF9NZxZQKpP5ZHTeVtABL07bgQsWUDYkf4b7otdQGQoPQY9S1pAmttYTQdQXEBiBkR8/Y5aQEpFoeOvmVtAAdU6Bsq7W0CYAqUbnexZQPzDpn0R2V1A7vUHhivgXEBaOV8Dj7JdQPJDtAZheV1AEF103U/9W0AcP9S//5tdQGNFGzlFcVlAX1UTqtv6WUCbyfkT5DlZQBsgJz5soFpA",
          "dtype": "f8"
         },
         "type": "candlestick",
         "x": [
          "2023-01-01T00:00:00.000000000",
          "2023-01-02T00:00:00.000000000",
          "2023-01-03T00:00:00.000000000",
          "2023-01-04T00:00:00.000000000",
          "2023-01-05T00:00:00.000000000",
          "2023-01-06T00:00:00.000000000",
          "2023-01-07T00:00:00.000000000",
          "2023-01-08T00:00:00.000000000",
          "2023-01-09T00:00:00.000000000",
          "2023-01-10T00:00:00.000000000",
          "2023-01-11T00:00:00.000000000",
          "2023-01-12T00:00:00.000000000",
          "2023-01-13T00:00:00.000000000",
          "2023-01-14T00:00:00.000000000",
          "2023-01-15T00:00:00.000000000",
          "2023-01-16T00:00:00.000000000",
          "2023-01-17T00:00:00.000000000",
          "2023-01-18T00:00:00.000000000",
          "2023-01-19T00:00:00.000000000",
          "2023-01-20T00:00:00.000000000",
          "2023-01-21T00:00:00.000000000",
          "2023-01-22T00:00:00.000000000",
          "2023-01-23T00:00:00.000000000",
          "2023-01-24T00:00:00.000000000",
          "2023-01-25T00:00:00.000000000",
          "2023-01-26T00:00:00.000000000",
          "2023-01-27T00:00:00.000000000",
          "2023-01-28T00:00:00.000000000",
          "2023-01-29T00:00:00.000000000",
          "2023-01-30T00:00:00.000000000",
          "2023-01-31T00:00:00.000000000",
          "2023-02-01T00:00:00.000000000",
          "2023-02-02T00:00:00.000000000",
          "2023-02-03T00:00:00.000000000",
          "2023-02-04T00:00:00.000000000",
          "2023-02-05T00:00:00.000000000",
          "2023-02-06T00:00:00.000000000",
          "2023-02-07T00:00:00.000000000",
          "2023-02-08T00:00:00.000000000",
          "2023-02-09T00:00:00.000000000",
          "2023-02-10T00:00:00.000000000",
          "2023-02-11T00:00:00.000000000",
          "2023-02-12T00:00:00.000000000",
          "2023-02-13T00:00:00.000000000",
          "2023-02-14T00:00:00.000000000",
          "2023-02-15T00:00:00.000000000",
          "2023-02-16T00:00:00.000000000",
          "2023-02-17T00:00:00.000000000",
          "2023-02-18T00:00:00.000000000",
          "2023-02-19T00:00:00.000000000",
          "2023-02-20T00:00:00.000000000",
          "2023-02-21T00:00:00.000000000",
          "2023-02-22T00:00:00.000000000",
          "2023-02-23T00:00:00.000000000",
          "2023-02-24T00:00:00.000000000",
          "2023-02-25T00:00:00.000000000",
          "2023-02-26T00:00:00.000000000",
          "2023-02-27T00:00:00.000000000",
          "2023-02-28T00:00:00.000000000",
          "2023-03-01T00:00:00.000000000"
         ]
        },
        {
         "line": {
          "color": "blue",
          "width": 2
         },
         "mode": "lines",
         "name": "5일 이동평균",
         "type": "scatter",
         "x": [
          "2023-01-01T00:00:00.000000000",
          "2023-01-02T00:00:00.000000000",
          "2023-01-03T00:00:00.000000000",
          "2023-01-04T00:00:00.000000000",
          "2023-01-05T00:00:00.000000000",
          "2023-01-06T00:00:00.000000000",
          "2023-01-07T00:00:00.000000000",
          "2023-01-08T00:00:00.000000000",
          "2023-01-09T00:00:00.000000000",
          "2023-01-10T00:00:00.000000000",
          "2023-01-11T00:00:00.000000000",
          "2023-01-12T00:00:00.000000000",
          "2023-01-13T00:00:00.000000000",
          "2023-01-14T00:00:00.000000000",
          "2023-01-15T00:00:00.000000000",
          "2023-01-16T00:00:00.000000000",
          "2023-01-17T00:00:00.000000000",
          "2023-01-18T00:00:00.000000000",
          "2023-01-19T00:00:00.000000000",
          "2023-01-20T00:00:00.000000000",
          "2023-01-21T00:00:00.000000000",
          "2023-01-22T00:00:00.000000000",
          "2023-01-23T00:00:00.000000000",
          "2023-01-24T00:00:00.000000000",
          "2023-01-25T00:00:00.000000000",
          "2023-01-26T00:00:00.000000000",
          "2023-01-27T00:00:00.000000000",
          "2023-01-28T00:00:00.000000000",
          "2023-01-29T00:00:00.000000000",
          "2023-01-30T00:00:00.000000000",
          "2023-01-31T00:00:00.000000000",
          "2023-02-01T00:00:00.000000000",
          "2023-02-02T00:00:00.000000000",
          "2023-02-03T00:00:00.000000000",
          "2023-02-04T00:00:00.000000000",
          "2023-02-05T00:00:00.000000000",
          "2023-02-06T00:00:00.000000000",
          "2023-02-07T00:00:00.000000000",
          "2023-02-08T00:00:00.000000000",
          "2023-02-09T00:00:00.000000000",
          "2023-02-10T00:00:00.000000000",
          "2023-02-11T00:00:00.000000000",
          "2023-02-12T00:00:00.000000000",
          "2023-02-13T00:00:00.000000000",
          "2023-02-14T00:00:00.000000000",
          "2023-02-15T00:00:00.000000000",
          "2023-02-16T00:00:00.000000000",
          "2023-02-17T00:00:00.000000000",
          "2023-02-18T00:00:00.000000000",
          "2023-02-19T00:00:00.000000000",
          "2023-02-20T00:00:00.000000000",
          "2023-02-21T00:00:00.000000000",
          "2023-02-22T00:00:00.000000000",
          "2023-02-23T00:00:00.000000000",
          "2023-02-24T00:00:00.000000000",
          "2023-02-25T00:00:00.000000000",
          "2023-02-26T00:00:00.000000000",
          "2023-02-27T00:00:00.000000000",
          "2023-02-28T00:00:00.000000000",
          "2023-03-01T00:00:00.000000000"
         ],
         "y": {
          "bdata": "AAAAAAAA+H8AAAAAAAD4fwAAAAAAAPh/AAAAAAAA+H+DPJD1tdFbQGb7YKaVwltAeC02pCY4W0BagrfdNCtbQL4FkspU/1pAE96U+5iKW0DyHoAvXx9bQDO/4dsJE1xAOvW6LZc2XEDTQVU9TuBbQIuzdGMGZltAI2qiEX2wW0BWf7MGKPBaQNVE5Rz3oFpATW/5yLH5WkAbOKRUIU5bQBiqT1FL4VtAKAKvWfdkW0CGziylRstaQMW/p1z0u1pAQPGE4PPPWkDgRrQNUqtaQCUYD+3xvFpAI2nCLQo2W0DDvPPNiv1aQG3z992jW1pA476rLDpzWkA1DibTVrdaQGtZtwTfQlpA3dXUsi+6WkD1vgaEEuxbQB5xrdqe91tAIzmLOgnrW0C2I2icfP9bQDbLeqgu8ltA++C5fjN9W0CSF86+TANbQBgQXiEtU1tA3X/+R2rvWkA+k4G/8wRbQMADGh7Ei1pA3ixzrC/hWkCFGY1UBeZaQF3aPVCuiFtAW9IHkfduW0Bj71XI4YpbQEbhlL7+H1xAlVPAWmxaXEBoO7kjU91cQEAMBJRNA11AGg1XgD81XUDm7uivxR9dQC6gq/aXU1xA3T1hsYVOW0CSN9VRmohaQAUzJQmBQFpA",
          "dtype": "f8"
         }
        }
       ],
       "layout": {
        "template": {
         "data": {
          "bar": [
           {
            "error_x": {
             "color": "#2a3f5f"
            },
            "error_y": {
             "color": "#2a3f5f"
            },
            "marker": {
             "line": {
              "color": "#E5ECF6",
              "width": 0.5
             },
             "pattern": {
              "fillmode": "overlay",
              "size": 10,
              "solidity": 0.2
             }
            },
            "type": "bar"
           }
          ],
          "barpolar": [
           {
            "marker": {
             "line": {
              "color": "#E5ECF6",
              "width": 0.5
             },
             "pattern": {
              "fillmode": "overlay",
              "size": 10,
              "solidity": 0.2
             }
            },
            "type": "barpolar"
           }
          ],
          "carpet": [
           {
            "aaxis": {
             "endlinecolor": "#2a3f5f",
             "gridcolor": "white",
             "linecolor": "white",
             "minorgridcolor": "white",
             "startlinecolor": "#2a3f5f"
            },
            "baxis": {
             "endlinecolor": "#2a3f5f",
             "gridcolor": "white",
             "linecolor": "white",
             "minorgridcolor": "white",
             "startlinecolor": "#2a3f5f"
            },
            "type": "carpet"
           }
          ],
          "choropleth": [
           {
            "colorbar": {
             "outlinewidth": 0,
             "ticks": ""
            },
            "type": "choropleth"
           }
          ],
          "contour": [
           {
            "colorbar": {
             "outlinewidth": 0,
             "ticks": ""
            },
            "colorscale": [
             [
              0,
              "#0d0887"
             ],
             [
              0.1111111111111111,
              "#46039f"
             ],
             [
              0.2222222222222222,
              "#7201a8"
             ],
             [
              0.3333333333333333,
              "#9c179e"
             ],
             [
              0.4444444444444444,
              "#bd3786"
             ],
             [
              0.5555555555555556,
              "#d8576b"
             ],
             [
              0.6666666666666666,
              "#ed7953"
             ],
             [
              0.7777777777777778,
              "#fb9f3a"
             ],
             [
              0.8888888888888888,
              "#fdca26"
             ],
             [
              1,
              "#f0f921"
             ]
            ],
            "type": "contour"
           }
          ],
          "contourcarpet": [
           {
            "colorbar": {
             "outlinewidth": 0,
             "ticks": ""
            },
            "type": "contourcarpet"
           }
          ],
          "heatmap": [
           {
            "colorbar": {
             "outlinewidth": 0,
             "ticks": ""
            },
            "colorscale": [
             [
              0,
              "#0d0887"
             ],
             [
              0.1111111111111111,
              "#46039f"
             ],
             [
              0.2222222222222222,
              "#7201a8"
             ],
             [
              0.3333333333333333,
              "#9c179e"
             ],
             [
              0.4444444444444444,
              "#bd3786"
             ],
             [
              0.5555555555555556,
              "#d8576b"
             ],
             [
              0.6666666666666666,
              "#ed7953"
             ],
             [
              0.7777777777777778,
              "#fb9f3a"
             ],
             [
              0.8888888888888888,
              "#fdca26"
             ],
             [
              1,
              "#f0f921"
             ]
            ],
            "type": "heatmap"
           }
          ],
          "histogram": [
           {
            "marker": {
             "pattern": {
              "fillmode": "overlay",
              "size": 10,
              "solidity": 0.2
             }
            },
            "type": "histogram"
           }
          ],
          "histogram2d": [
           {
            "colorbar": {
             "outlinewidth": 0,
             "ticks": ""
            },
            "colorscale": [
             [
              0,
              "#0d0887"
             ],
             [
              0.1111111111111111,
              "#46039f"
             ],
             [
              0.2222222222222222,
              "#7201a8"
             ],
             [
              0.3333333333333333,
              "#9c179e"
             ],
             [
              0.4444444444444444,
              "#bd3786"
             ],
             [
              0.5555555555555556,
              "#d8576b"
             ],
             [
              0.6666666666666666,
              "#ed7953"
             ],
             [
              0.7777777777777778,
              "#fb9f3a"
             ],
             [
              0.8888888888888888,
              "#fdca26"
             ],
             [
              1,
              "#f0f921"
             ]
            ],
            "type": "histogram2d"
           }
          ],
          "histogram2dcontour": [
           {
            "colorbar": {
             "outlinewidth": 0,
             "ticks": ""
            },
            "colorscale": [
             [
              0,
              "#0d0887"
             ],
             [
              0.1111111111111111,
              "#46039f"
             ],
             [
              0.2222222222222222,
              "#7201a8"
             ],
             [
              0.3333333333333333,
              "#9c179e"
             ],
             [
              0.4444444444444444,
              "#bd3786"
             ],
             [
              0.5555555555555556,
              "#d8576b"
             ],
             [
              0.6666666666666666,
              "#ed7953"
             ],
             [
              0.7777777777777778,
              "#fb9f3a"
             ],
             [
              0.8888888888888888,
              "#fdca26"
             ],
             [
              1,
              "#f0f921"
             ]
            ],
            "type": "histogram2dcontour"
           }
          ],
          "mesh3d": [
           {
            "colorbar": {
             "outlinewidth": 0,
             "ticks": ""
            },
            "type": "mesh3d"
           }
          ],
          "parcoords": [
           {
            "line": {
             "colorbar": {
              "outlinewidth": 0,
              "ticks": ""
             }
            },
            "type": "parcoords"
           }
          ],
          "pie": [
           {
            "automargin": true,
            "type": "pie"
           }
          ],
          "scatter": [
           {
            "fillpattern": {
             "fillmode": "overlay",
             "size": 10,
             "solidity": 0.2
            },
            "type": "scatter"
           }
          ],
          "scatter3d": [
           {
            "line": {
             "colorbar": {
              "outlinewidth": 0,
              "ticks": ""
             }
            },
            "marker": {
             "colorbar": {
              "outlinewidth": 0,
              "ticks": ""
             }
            },
            "type": "scatter3d"
           }
          ],
          "scattercarpet": [
           {
            "marker": {
             "colorbar": {
              "outlinewidth": 0,
              "ticks": ""
             }
            },
            "type": "scattercarpet"
           }
          ],
          "scattergeo": [
           {
            "marker": {
             "colorbar": {
              "outlinewidth": 0,
              "ticks": ""
             }
            },
            "type": "scattergeo"
           }
          ],
          "scattergl": [
           {
            "marker": {
             "colorbar": {
              "outlinewidth": 0,
              "ticks": ""
             }
            },
            "type": "scattergl"
           }
          ],
          "scattermap": [
           {
            "marker": {
             "colorbar": {
              "outlinewidth": 0,
              "ticks": ""
             }
            },
            "type": "scattermap"
           }
          ],
          "scattermapbox": [
           {
            "marker": {
             "colorbar": {
              "outlinewidth": 0,
              "ticks": ""
             }
            },
            "type": "scattermapbox"
           }
          ],
          "scatterpolar": [
           {
            "marker": {
             "colorbar": {
              "outlinewidth": 0,
              "ticks": ""
             }
            },
            "type": "scatterpolar"
           }
          ],
          "scatterpolargl": [
           {
            "marker": {
             "colorbar": {
              "outlinewidth": 0,
              "ticks": ""
             }
            },
            "type": "scatterpolargl"
           }
          ],
          "scatterternary": [
           {
            "marker": {
             "colorbar": {
              "outlinewidth": 0,
              "ticks": ""
             }
            },
            "type": "scatterternary"
           }
          ],
          "surface": [
           {
            "colorbar": {
             "outlinewidth": 0,
             "ticks": ""
            },
            "colorscale": [
             [
              0,
              "#0d0887"
             ],
             [
              0.1111111111111111,
              "#46039f"
             ],
             [
              0.2222222222222222,
              "#7201a8"
             ],
             [
              0.3333333333333333,
              "#9c179e"
             ],
             [
              0.4444444444444444,
              "#bd3786"
             ],
             [
              0.5555555555555556,
              "#d8576b"
             ],
             [
              0.6666666666666666,
              "#ed7953"
             ],
             [
              0.7777777777777778,
              "#fb9f3a"
             ],
             [
              0.8888888888888888,
              "#fdca26"
             ],
             [
              1,
              "#f0f921"
             ]
            ],
            "type": "surface"
           }
          ],
          "table": [
           {
            "cells": {
             "fill": {
              "color": "#EBF0F8"
             },
             "line": {
              "color": "white"
             }
            },
            "header": {
             "fill": {
              "color": "#C8D4E3"
             },
             "line": {
              "color": "white"
             }
            },
            "type": "table"
           }
          ]
         },
         "layout": {
          "annotationdefaults": {
           "arrowcolor": "#2a3f5f",
           "arrowhead": 0,
           "arrowwidth": 1
          },
          "autotypenumbers": "strict",
          "coloraxis": {
           "colorbar": {
            "outlinewidth": 0,
            "ticks": ""
           }
          },
          "colorscale": {
           "diverging": [
            [
             0,
             "#8e0152"
            ],
            [
             0.1,
             "#c51b7d"
            ],
            [
             0.2,
             "#de77ae"
            ],
            [
             0.3,
             "#f1b6da"
            ],
            [
             0.4,
             "#fde0ef"
            ],
            [
             0.5,
             "#f7f7f7"
            ],
            [
             0.6,
             "#e6f5d0"
            ],
            [
             0.7,
             "#b8e186"
            ],
            [
             0.8,
             "#7fbc41"
            ],
            [
             0.9,
             "#4d9221"
            ],
            [
             1,
             "#276419"
            ]
           ],
           "sequential": [
            [
             0,
             "#0d0887"
            ],
            [
             0.1111111111111111,
             "#46039f"
            ],
            [
             0.2222222222222222,
             "#7201a8"
            ],
            [
             0.3333333333333333,
             "#9c179e"
            ],
            [
             0.4444444444444444,
             "#bd3786"
            ],
            [
             0.5555555555555556,
             "#d8576b"
            ],
            [
             0.6666666666666666,
             "#ed7953"
            ],
            [
             0.7777777777777778,
             "#fb9f3a"
            ],
            [
             0.8888888888888888,
             "#fdca26"
            ],
            [
             1,
             "#f0f921"
            ]
           ],
           "sequentialminus": [
            [
             0,
             "#0d0887"
            ],
            [
             0.1111111111111111,
             "#46039f"
            ],
            [
             0.2222222222222222,
             "#7201a8"
            ],
            [
             0.3333333333333333,
             "#9c179e"
            ],
            [
             0.4444444444444444,
             "#bd3786"
            ],
            [
             0.5555555555555556,
             "#d8576b"
            ],
            [
             0.6666666666666666,
             "#ed7953"
            ],
            [
             0.7777777777777778,
             "#fb9f3a"
            ],
            [
             0.8888888888888888,
             "#fdca26"
            ],
            [
             1,
             "#f0f921"
            ]
           ]
          },
          "colorway": [
           "#636efa",
           "#EF553B",
           "#00cc96",
           "#ab63fa",
           "#FFA15A",
           "#19d3f3",
           "#FF6692",
           "#B6E880",
           "#FF97FF",
           "#FECB52"
          ],
          "font": {
           "color": "#2a3f5f"
          },
          "geo": {
           "bgcolor": "white",
           "lakecolor": "white",
           "landcolor": "#E5ECF6",
           "showlakes": true,
           "showland": true,
           "subunitcolor": "white"
          },
          "hoverlabel": {
           "align": "left"
          },
          "hovermode": "closest",
          "mapbox": {
           "style": "light"
          },
          "paper_bgcolor": "white",
          "plot_bgcolor": "#E5ECF6",
          "polar": {
           "angularaxis": {
            "gridcolor": "white",
            "linecolor": "white",
            "ticks": ""
           },
           "bgcolor": "#E5ECF6",
           "radialaxis": {
            "gridcolor": "white",
            "linecolor": "white",
            "ticks": ""
           }
          },
          "scene": {
           "xaxis": {
            "backgroundcolor": "#E5ECF6",
            "gridcolor": "white",
            "gridwidth": 2,
            "linecolor": "white",
            "showbackground": true,
            "ticks": "",
            "zerolinecolor": "white"
           },
           "yaxis": {
            "backgroundcolor": "#E5ECF6",
            "gridcolor": "white",
            "gridwidth": 2,
            "linecolor": "white",
            "showbackground": true,
            "ticks": "",
            "zerolinecolor": "white"
           },
           "zaxis": {
            "backgroundcolor": "#E5ECF6",
            "gridcolor": "white",
            "gridwidth": 2,
            "linecolor": "white",
            "showbackground": true,
            "ticks": "",
            "zerolinecolor": "white"
           }
          },
          "shapedefaults": {
           "line": {
            "color": "#2a3f5f"
           }
          },
          "ternary": {
           "aaxis": {
            "gridcolor": "white",
            "linecolor": "white",
            "ticks": ""
           },
           "baxis": {
            "gridcolor": "white",
            "linecolor": "white",
            "ticks": ""
           },
           "bgcolor": "#E5ECF6",
           "caxis": {
            "gridcolor": "white",
            "linecolor": "white",
            "ticks": ""
           }
          },
          "title": {
           "x": 0.05
          },
          "xaxis": {
           "automargin": true,
           "gridcolor": "white",
           "linecolor": "white",
           "ticks": "",
           "title": {
            "standoff": 15
           },
           "zerolinecolor": "white",
           "zerolinewidth": 2
          },
          "yaxis": {
           "automargin": true,
           "gridcolor": "white",
           "linecolor": "white",
           "ticks": "",
           "title": {
            "standoff": 15
           },
           "zerolinecolor": "white",
           "zerolinewidth": 2
          }
         }
        },
        "title": {
         "text": "주식 데이터 캔들스틱 차트 및 이동평균"
        },
        "xaxis": {
         "title": {
          "text": "날짜"
         }
        },
        "yaxis": {
         "title": {
          "text": "가격"
         }
        }
       }
      }
     },
     "metadata": {},
     "output_type": "display_data"
    }
   ],
   "source": [
    "import plotly.graph_objects as go\n",
    "import pandas as pd\n",
    "import numpy as np\n",
    "\n",
    "# 가상 주식 데이터 생성\n",
    "np.random.seed(42)\n",
    "dates = pd.date_range(start='2023-01-01', periods=60, freq='D')\n",
    "data = pd.DataFrame({\n",
    "    'Date': dates,\n",
    "    'Open': np.random.uniform(100, 120, size=60),\n",
    "})\n",
    "data['High'] = data['Open'] + np.random.uniform(0, 10, size=60)\n",
    "data['Low'] = data['Open'] - np.random.uniform(0, 10, size=60)\n",
    "data['Close'] = data['Open'] + np.random.uniform(-5, 5, size=60)\n",
    "\n",
    "# 5일 이동평균 계산\n",
    "data['MA5'] = data['Close'].rolling(window=5).mean()\n",
    "\n",
    "# 캔들스틱 차트 생성\n",
    "fig = go.Figure(data=[go.Candlestick(\n",
    "    x=data['Date'],\n",
    "    open=data['Open'],\n",
    "    high=data['High'],\n",
    "    low=data['Low'],\n",
    "    close=data['Close'],\n",
    "    name='캔들스틱'\n",
    ")])\n",
    "\n",
    "# 이동평균 선 추가\n",
    "fig.add_trace(go.Scatter(\n",
    "    x=data['Date'],\n",
    "    y=data['MA5'],\n",
    "    mode='lines',\n",
    "    line=dict(color='blue', width=2),\n",
    "    name='5일 이동평균'\n",
    "))\n",
    "\n",
    "fig.update_layout(\n",
    "    title=\"주식 데이터 캔들스틱 차트 및 이동평균\",\n",
    "    xaxis_title=\"날짜\",\n",
    "    yaxis_title=\"가격\"\n",
    ")\n",
    "fig.show()\n"
   ]
  },
  {
   "cell_type": "markdown",
   "metadata": {},
   "source": [
    "## 1: 주식 데이터 캔들스틱 차트 및 이동평균\n",
    "- 가상의 주식 데이터를 사용하여 캔들스틱 차트를 그리고, 5일 이동평균선을 함께 표시하는 차트를 만들어보세요."
   ]
  },
  {
   "cell_type": "code",
   "execution_count": 16,
   "metadata": {},
   "outputs": [
    {
     "data": {
      "application/vnd.plotly.v1+json": {
       "config": {
        "plotlyServerURL": "https://plot.ly"
       },
       "data": [
        {
         "close": {
          "bdata": "oEP6nbF5WkBGE86QiclcQAARyJPBuF1ApigXscfvXEADnilYySxZQA3+DRIQLlpApQ34hV4VWkBouU6zCHhdQJu5W1FnFFxAq9c3TR7lW0BoQqYV7xVYQOwu4OOz115AgseMTMspXkCfOF+f+mRaQEUQ1Qu3gVlAX9OKfECKWUDvmDWtChZbQPaihbvWnVxA9gzE+58gXEBN/CrG5CdbQFIN5GsSalxAO1ES12aoWEDOoPo0Y51ZQDHDKpEE1FtAs/N8WeKLW0BxudBN6bJbQJRn2DOGAFlAxjV7eNz6W0BQZSGyh7laQAMFkqlfYlhAxbJT19goXEAt9Dt0FVVaQNKtUXCFtFlAidO0GBsOXUB4kou/zVteQJotlYiWYlxARNyQUykWWkCxQqJZxhpaQAQZElWVy1xAUv/G7uUSXECMPvrIFAFaQOO2YECLpVtAh3HEGvgnWEDweaGqRDddQNkxwcf3tFlAKAy4kC6sW0AcVuKIt71bQMU1OAVFVVtA6FGT7rK2XED+wkfcikBaQJfF8l+/lV5ApZG7ldvhXEDqvBTyxuNdQBlmCSCXdF1AQsfmeUQ6W0CXLsxNXipeQAgIiff25FhAW9Ggl2vKWECcRk1C/pZZQICwdg7G0VlA",
          "dtype": "f8"
         },
         "high": {
          "bdata": "hDt7MSrYW0Bihqjjk25eQM+w2yBYu15AareM4JriXEBf5Yd/gHtaQHATVpz/IltAhC7x3ImkWUBfnYKNHFZfQA8cmL4jMVxApwMqx/ABX0DKnci1lQhbQLX/OqOpWF5AeUtXjA8tXUAxCPB6sBlcQESpl+kfrVtA1gIyhlK9W0BfVyIIC3NcQBQ8y6kTz1tAssbHxE4OXEAlKY3z7b5aQBj7Y9KON15ALWxrg3ZBW0AHb3NKuElbQKzoUtme/VpAGwEkW8wOXEAuN5h+JL1dQGx//MeH0ltAcEvDwUEqXUDglHdXGy5eQIE5iJCsaVpAEJZKnjJWXEA0/utev6JbQFrc2yArOltAj6EJeMolX0CQnD6RbcFfQL3mEB3HRl5AWmj7YnTUW0B00M2EpY5aQAS22SUWfFxAr3W9GXJ4W0CzQrnYUrBZQD9XOw0hEV1A5sy4gzT1WUADNtZUatFeQOZNKLcUkFxAEjZJV5PvXEBUNp+fopVbQPyDQWM9fV1ApULWUDhOXEBc6xR/4R1aQC5Zbl6Ckl5A6WXuBFpHXUAQlphWyAJgQIbqG3iTfl9Als2MvLCSXUDwxDjau8lfQAy/LNuec1tAf6eETUNyWkAvc8DxIHVbQLESYROa+VtA",
          "dtype": "f8"
         },
         "low": {
          "bdata": "Cq6lT6baWECC2CB3aoNbQEw05BVu3VtAt7k5gdm3W0CdhINK0zVZQFH0v/FStlhAOkZ9TNE+V0DIAi2A1i1bQKyveVT6/FtAPWpdYnRDW0BNPSKCNA9YQPsfrOpVS11Ajp0QENDcXEA1mPxouDdZQGJKURRGjVdAwEvha+gbWUBiN1VxZzlZQODSsI/B3VlApX9uqypAWkCVpi8w1QZYQEg6fJc0p1lAHcM/VmkRWUC60WLDtDdZQH5l6YthFFpAg63uvniRWkBqmc3matVcQJIQnxV2eVhAGW/caIFQWkC7CZggWNVbQBr8PW8fiVhA4hmqA17EWUCan1GG80BZQMult4eI9lhA/e1i31KFXEAJ5Y1VMV1bQDtArk7Vb1xAGhbcJr3XWEDjXsdwlZVXQPgwY/G601tALBLdM1ZhWUC0+Xvm07BYQCmjJpUm5VlAF9U77I6WV0BSQf3ICDVcQEhKzfJzEVpA6MxcV285WkB5XivhsMFZQAubSbJQIltA0SnWbLGhW0D17ko1cXJYQHMlhVhtJ1xAlhEPxo3VXEDFdr6v0WpcQERfWPVr6FxAXqtMwWZgWkAxAbmNZyxdQB136/sRt1dA0+n58VgDWUBOxZY8YuJWQPkRsc9oSFpA",
          "dtype": "f8"
         },
         "name": "캔들스틱",
         "open": {
          "bdata": "ZnJfTmnfWkB9WV0Q6sBdQCXAXMbzqFxA/H5/aUj+W0BPVScwtMdZQPn+z0isx1lA1nqJ1lhKWUC0ZHWZtFRdQNPb9l1tAVxAZCToOFWKXECeBokgWRpZQBKFcw982V1AHiv2zYYpXUDmH6BHyw9aQPzAvme86FlAC8xi/cHqWUBQ3SEZboVaQHAhATCwn1tAo7BjvuMoW0DF9vP2xXRaQE763/QrD1xAbXcnWY2yWUAHzVv18XVaQFA+5XLx1FpAPX8uA8VHW0AX8YJ1Bu1cQKUx3RqV/1lAI1E9VziSW0CcrupnSvZbQCmXCd90O1lAZtkMTKgJXEBzFEhYRdpZQFUfIhtEU1lAlsAW0JK+XUBJIPpNAtRdQKmqnaS/Cl1A+o0C1+eFWkBp8cQyBX1ZQGeQZnrRa1xAeVJNK2UzW0B2mSF9NZxZQKpP5ZHTeVtABL07bgQsWUDYkf4b7otdQGQoPQY9S1pAmttYTQdQXEBiBkR8/Y5aQEpFoeOvmVtAAdU6Bsq7W0CYAqUbnexZQPzDpn0R2V1A7vUHhivgXEBaOV8Dj7JdQPJDtAZheV1AEF103U/9W0AcP9S//5tdQGNFGzlFcVlAX1UTqtv6WUCbyfkT5DlZQBsgJz5soFpA",
          "dtype": "f8"
         },
         "type": "candlestick",
         "x": [
          "2023-01-01T00:00:00.000000000",
          "2023-01-02T00:00:00.000000000",
          "2023-01-03T00:00:00.000000000",
          "2023-01-04T00:00:00.000000000",
          "2023-01-05T00:00:00.000000000",
          "2023-01-06T00:00:00.000000000",
          "2023-01-07T00:00:00.000000000",
          "2023-01-08T00:00:00.000000000",
          "2023-01-09T00:00:00.000000000",
          "2023-01-10T00:00:00.000000000",
          "2023-01-11T00:00:00.000000000",
          "2023-01-12T00:00:00.000000000",
          "2023-01-13T00:00:00.000000000",
          "2023-01-14T00:00:00.000000000",
          "2023-01-15T00:00:00.000000000",
          "2023-01-16T00:00:00.000000000",
          "2023-01-17T00:00:00.000000000",
          "2023-01-18T00:00:00.000000000",
          "2023-01-19T00:00:00.000000000",
          "2023-01-20T00:00:00.000000000",
          "2023-01-21T00:00:00.000000000",
          "2023-01-22T00:00:00.000000000",
          "2023-01-23T00:00:00.000000000",
          "2023-01-24T00:00:00.000000000",
          "2023-01-25T00:00:00.000000000",
          "2023-01-26T00:00:00.000000000",
          "2023-01-27T00:00:00.000000000",
          "2023-01-28T00:00:00.000000000",
          "2023-01-29T00:00:00.000000000",
          "2023-01-30T00:00:00.000000000",
          "2023-01-31T00:00:00.000000000",
          "2023-02-01T00:00:00.000000000",
          "2023-02-02T00:00:00.000000000",
          "2023-02-03T00:00:00.000000000",
          "2023-02-04T00:00:00.000000000",
          "2023-02-05T00:00:00.000000000",
          "2023-02-06T00:00:00.000000000",
          "2023-02-07T00:00:00.000000000",
          "2023-02-08T00:00:00.000000000",
          "2023-02-09T00:00:00.000000000",
          "2023-02-10T00:00:00.000000000",
          "2023-02-11T00:00:00.000000000",
          "2023-02-12T00:00:00.000000000",
          "2023-02-13T00:00:00.000000000",
          "2023-02-14T00:00:00.000000000",
          "2023-02-15T00:00:00.000000000",
          "2023-02-16T00:00:00.000000000",
          "2023-02-17T00:00:00.000000000",
          "2023-02-18T00:00:00.000000000",
          "2023-02-19T00:00:00.000000000",
          "2023-02-20T00:00:00.000000000",
          "2023-02-21T00:00:00.000000000",
          "2023-02-22T00:00:00.000000000",
          "2023-02-23T00:00:00.000000000",
          "2023-02-24T00:00:00.000000000",
          "2023-02-25T00:00:00.000000000",
          "2023-02-26T00:00:00.000000000",
          "2023-02-27T00:00:00.000000000",
          "2023-02-28T00:00:00.000000000",
          "2023-03-01T00:00:00.000000000"
         ]
        },
        {
         "line": {
          "color": "blue",
          "width": 2
         },
         "mode": "lines",
         "name": "5일 이동평균",
         "type": "scatter",
         "x": [
          "2023-01-01T00:00:00.000000000",
          "2023-01-02T00:00:00.000000000",
          "2023-01-03T00:00:00.000000000",
          "2023-01-04T00:00:00.000000000",
          "2023-01-05T00:00:00.000000000",
          "2023-01-06T00:00:00.000000000",
          "2023-01-07T00:00:00.000000000",
          "2023-01-08T00:00:00.000000000",
          "2023-01-09T00:00:00.000000000",
          "2023-01-10T00:00:00.000000000",
          "2023-01-11T00:00:00.000000000",
          "2023-01-12T00:00:00.000000000",
          "2023-01-13T00:00:00.000000000",
          "2023-01-14T00:00:00.000000000",
          "2023-01-15T00:00:00.000000000",
          "2023-01-16T00:00:00.000000000",
          "2023-01-17T00:00:00.000000000",
          "2023-01-18T00:00:00.000000000",
          "2023-01-19T00:00:00.000000000",
          "2023-01-20T00:00:00.000000000",
          "2023-01-21T00:00:00.000000000",
          "2023-01-22T00:00:00.000000000",
          "2023-01-23T00:00:00.000000000",
          "2023-01-24T00:00:00.000000000",
          "2023-01-25T00:00:00.000000000",
          "2023-01-26T00:00:00.000000000",
          "2023-01-27T00:00:00.000000000",
          "2023-01-28T00:00:00.000000000",
          "2023-01-29T00:00:00.000000000",
          "2023-01-30T00:00:00.000000000",
          "2023-01-31T00:00:00.000000000",
          "2023-02-01T00:00:00.000000000",
          "2023-02-02T00:00:00.000000000",
          "2023-02-03T00:00:00.000000000",
          "2023-02-04T00:00:00.000000000",
          "2023-02-05T00:00:00.000000000",
          "2023-02-06T00:00:00.000000000",
          "2023-02-07T00:00:00.000000000",
          "2023-02-08T00:00:00.000000000",
          "2023-02-09T00:00:00.000000000",
          "2023-02-10T00:00:00.000000000",
          "2023-02-11T00:00:00.000000000",
          "2023-02-12T00:00:00.000000000",
          "2023-02-13T00:00:00.000000000",
          "2023-02-14T00:00:00.000000000",
          "2023-02-15T00:00:00.000000000",
          "2023-02-16T00:00:00.000000000",
          "2023-02-17T00:00:00.000000000",
          "2023-02-18T00:00:00.000000000",
          "2023-02-19T00:00:00.000000000",
          "2023-02-20T00:00:00.000000000",
          "2023-02-21T00:00:00.000000000",
          "2023-02-22T00:00:00.000000000",
          "2023-02-23T00:00:00.000000000",
          "2023-02-24T00:00:00.000000000",
          "2023-02-25T00:00:00.000000000",
          "2023-02-26T00:00:00.000000000",
          "2023-02-27T00:00:00.000000000",
          "2023-02-28T00:00:00.000000000",
          "2023-03-01T00:00:00.000000000"
         ],
         "y": {
          "bdata": "AAAAAAAA+H8AAAAAAAD4fwAAAAAAAPh/AAAAAAAA+H+DPJD1tdFbQGb7YKaVwltAeC02pCY4W0BagrfdNCtbQL4FkspU/1pAE96U+5iKW0DyHoAvXx9bQDO/4dsJE1xAOvW6LZc2XEDTQVU9TuBbQIuzdGMGZltAI2qiEX2wW0BWf7MGKPBaQNVE5Rz3oFpATW/5yLH5WkAbOKRUIU5bQBiqT1FL4VtAKAKvWfdkW0CGziylRstaQMW/p1z0u1pAQPGE4PPPWkDgRrQNUqtaQCUYD+3xvFpAI2nCLQo2W0DDvPPNiv1aQG3z992jW1pA476rLDpzWkA1DibTVrdaQGtZtwTfQlpA3dXUsi+6WkD1vgaEEuxbQB5xrdqe91tAIzmLOgnrW0C2I2icfP9bQDbLeqgu8ltA++C5fjN9W0CSF86+TANbQBgQXiEtU1tA3X/+R2rvWkA+k4G/8wRbQMADGh7Ei1pA3ixzrC/hWkCFGY1UBeZaQF3aPVCuiFtAW9IHkfduW0Bj71XI4YpbQEbhlL7+H1xAlVPAWmxaXEBoO7kjU91cQEAMBJRNA11AGg1XgD81XUDm7uivxR9dQC6gq/aXU1xA3T1hsYVOW0CSN9VRmohaQAUzJQmBQFpA",
          "dtype": "f8"
         }
        }
       ],
       "layout": {
        "template": {
         "data": {
          "bar": [
           {
            "error_x": {
             "color": "#2a3f5f"
            },
            "error_y": {
             "color": "#2a3f5f"
            },
            "marker": {
             "line": {
              "color": "#E5ECF6",
              "width": 0.5
             },
             "pattern": {
              "fillmode": "overlay",
              "size": 10,
              "solidity": 0.2
             }
            },
            "type": "bar"
           }
          ],
          "barpolar": [
           {
            "marker": {
             "line": {
              "color": "#E5ECF6",
              "width": 0.5
             },
             "pattern": {
              "fillmode": "overlay",
              "size": 10,
              "solidity": 0.2
             }
            },
            "type": "barpolar"
           }
          ],
          "carpet": [
           {
            "aaxis": {
             "endlinecolor": "#2a3f5f",
             "gridcolor": "white",
             "linecolor": "white",
             "minorgridcolor": "white",
             "startlinecolor": "#2a3f5f"
            },
            "baxis": {
             "endlinecolor": "#2a3f5f",
             "gridcolor": "white",
             "linecolor": "white",
             "minorgridcolor": "white",
             "startlinecolor": "#2a3f5f"
            },
            "type": "carpet"
           }
          ],
          "choropleth": [
           {
            "colorbar": {
             "outlinewidth": 0,
             "ticks": ""
            },
            "type": "choropleth"
           }
          ],
          "contour": [
           {
            "colorbar": {
             "outlinewidth": 0,
             "ticks": ""
            },
            "colorscale": [
             [
              0,
              "#0d0887"
             ],
             [
              0.1111111111111111,
              "#46039f"
             ],
             [
              0.2222222222222222,
              "#7201a8"
             ],
             [
              0.3333333333333333,
              "#9c179e"
             ],
             [
              0.4444444444444444,
              "#bd3786"
             ],
             [
              0.5555555555555556,
              "#d8576b"
             ],
             [
              0.6666666666666666,
              "#ed7953"
             ],
             [
              0.7777777777777778,
              "#fb9f3a"
             ],
             [
              0.8888888888888888,
              "#fdca26"
             ],
             [
              1,
              "#f0f921"
             ]
            ],
            "type": "contour"
           }
          ],
          "contourcarpet": [
           {
            "colorbar": {
             "outlinewidth": 0,
             "ticks": ""
            },
            "type": "contourcarpet"
           }
          ],
          "heatmap": [
           {
            "colorbar": {
             "outlinewidth": 0,
             "ticks": ""
            },
            "colorscale": [
             [
              0,
              "#0d0887"
             ],
             [
              0.1111111111111111,
              "#46039f"
             ],
             [
              0.2222222222222222,
              "#7201a8"
             ],
             [
              0.3333333333333333,
              "#9c179e"
             ],
             [
              0.4444444444444444,
              "#bd3786"
             ],
             [
              0.5555555555555556,
              "#d8576b"
             ],
             [
              0.6666666666666666,
              "#ed7953"
             ],
             [
              0.7777777777777778,
              "#fb9f3a"
             ],
             [
              0.8888888888888888,
              "#fdca26"
             ],
             [
              1,
              "#f0f921"
             ]
            ],
            "type": "heatmap"
           }
          ],
          "histogram": [
           {
            "marker": {
             "pattern": {
              "fillmode": "overlay",
              "size": 10,
              "solidity": 0.2
             }
            },
            "type": "histogram"
           }
          ],
          "histogram2d": [
           {
            "colorbar": {
             "outlinewidth": 0,
             "ticks": ""
            },
            "colorscale": [
             [
              0,
              "#0d0887"
             ],
             [
              0.1111111111111111,
              "#46039f"
             ],
             [
              0.2222222222222222,
              "#7201a8"
             ],
             [
              0.3333333333333333,
              "#9c179e"
             ],
             [
              0.4444444444444444,
              "#bd3786"
             ],
             [
              0.5555555555555556,
              "#d8576b"
             ],
             [
              0.6666666666666666,
              "#ed7953"
             ],
             [
              0.7777777777777778,
              "#fb9f3a"
             ],
             [
              0.8888888888888888,
              "#fdca26"
             ],
             [
              1,
              "#f0f921"
             ]
            ],
            "type": "histogram2d"
           }
          ],
          "histogram2dcontour": [
           {
            "colorbar": {
             "outlinewidth": 0,
             "ticks": ""
            },
            "colorscale": [
             [
              0,
              "#0d0887"
             ],
             [
              0.1111111111111111,
              "#46039f"
             ],
             [
              0.2222222222222222,
              "#7201a8"
             ],
             [
              0.3333333333333333,
              "#9c179e"
             ],
             [
              0.4444444444444444,
              "#bd3786"
             ],
             [
              0.5555555555555556,
              "#d8576b"
             ],
             [
              0.6666666666666666,
              "#ed7953"
             ],
             [
              0.7777777777777778,
              "#fb9f3a"
             ],
             [
              0.8888888888888888,
              "#fdca26"
             ],
             [
              1,
              "#f0f921"
             ]
            ],
            "type": "histogram2dcontour"
           }
          ],
          "mesh3d": [
           {
            "colorbar": {
             "outlinewidth": 0,
             "ticks": ""
            },
            "type": "mesh3d"
           }
          ],
          "parcoords": [
           {
            "line": {
             "colorbar": {
              "outlinewidth": 0,
              "ticks": ""
             }
            },
            "type": "parcoords"
           }
          ],
          "pie": [
           {
            "automargin": true,
            "type": "pie"
           }
          ],
          "scatter": [
           {
            "fillpattern": {
             "fillmode": "overlay",
             "size": 10,
             "solidity": 0.2
            },
            "type": "scatter"
           }
          ],
          "scatter3d": [
           {
            "line": {
             "colorbar": {
              "outlinewidth": 0,
              "ticks": ""
             }
            },
            "marker": {
             "colorbar": {
              "outlinewidth": 0,
              "ticks": ""
             }
            },
            "type": "scatter3d"
           }
          ],
          "scattercarpet": [
           {
            "marker": {
             "colorbar": {
              "outlinewidth": 0,
              "ticks": ""
             }
            },
            "type": "scattercarpet"
           }
          ],
          "scattergeo": [
           {
            "marker": {
             "colorbar": {
              "outlinewidth": 0,
              "ticks": ""
             }
            },
            "type": "scattergeo"
           }
          ],
          "scattergl": [
           {
            "marker": {
             "colorbar": {
              "outlinewidth": 0,
              "ticks": ""
             }
            },
            "type": "scattergl"
           }
          ],
          "scattermap": [
           {
            "marker": {
             "colorbar": {
              "outlinewidth": 0,
              "ticks": ""
             }
            },
            "type": "scattermap"
           }
          ],
          "scattermapbox": [
           {
            "marker": {
             "colorbar": {
              "outlinewidth": 0,
              "ticks": ""
             }
            },
            "type": "scattermapbox"
           }
          ],
          "scatterpolar": [
           {
            "marker": {
             "colorbar": {
              "outlinewidth": 0,
              "ticks": ""
             }
            },
            "type": "scatterpolar"
           }
          ],
          "scatterpolargl": [
           {
            "marker": {
             "colorbar": {
              "outlinewidth": 0,
              "ticks": ""
             }
            },
            "type": "scatterpolargl"
           }
          ],
          "scatterternary": [
           {
            "marker": {
             "colorbar": {
              "outlinewidth": 0,
              "ticks": ""
             }
            },
            "type": "scatterternary"
           }
          ],
          "surface": [
           {
            "colorbar": {
             "outlinewidth": 0,
             "ticks": ""
            },
            "colorscale": [
             [
              0,
              "#0d0887"
             ],
             [
              0.1111111111111111,
              "#46039f"
             ],
             [
              0.2222222222222222,
              "#7201a8"
             ],
             [
              0.3333333333333333,
              "#9c179e"
             ],
             [
              0.4444444444444444,
              "#bd3786"
             ],
             [
              0.5555555555555556,
              "#d8576b"
             ],
             [
              0.6666666666666666,
              "#ed7953"
             ],
             [
              0.7777777777777778,
              "#fb9f3a"
             ],
             [
              0.8888888888888888,
              "#fdca26"
             ],
             [
              1,
              "#f0f921"
             ]
            ],
            "type": "surface"
           }
          ],
          "table": [
           {
            "cells": {
             "fill": {
              "color": "#EBF0F8"
             },
             "line": {
              "color": "white"
             }
            },
            "header": {
             "fill": {
              "color": "#C8D4E3"
             },
             "line": {
              "color": "white"
             }
            },
            "type": "table"
           }
          ]
         },
         "layout": {
          "annotationdefaults": {
           "arrowcolor": "#2a3f5f",
           "arrowhead": 0,
           "arrowwidth": 1
          },
          "autotypenumbers": "strict",
          "coloraxis": {
           "colorbar": {
            "outlinewidth": 0,
            "ticks": ""
           }
          },
          "colorscale": {
           "diverging": [
            [
             0,
             "#8e0152"
            ],
            [
             0.1,
             "#c51b7d"
            ],
            [
             0.2,
             "#de77ae"
            ],
            [
             0.3,
             "#f1b6da"
            ],
            [
             0.4,
             "#fde0ef"
            ],
            [
             0.5,
             "#f7f7f7"
            ],
            [
             0.6,
             "#e6f5d0"
            ],
            [
             0.7,
             "#b8e186"
            ],
            [
             0.8,
             "#7fbc41"
            ],
            [
             0.9,
             "#4d9221"
            ],
            [
             1,
             "#276419"
            ]
           ],
           "sequential": [
            [
             0,
             "#0d0887"
            ],
            [
             0.1111111111111111,
             "#46039f"
            ],
            [
             0.2222222222222222,
             "#7201a8"
            ],
            [
             0.3333333333333333,
             "#9c179e"
            ],
            [
             0.4444444444444444,
             "#bd3786"
            ],
            [
             0.5555555555555556,
             "#d8576b"
            ],
            [
             0.6666666666666666,
             "#ed7953"
            ],
            [
             0.7777777777777778,
             "#fb9f3a"
            ],
            [
             0.8888888888888888,
             "#fdca26"
            ],
            [
             1,
             "#f0f921"
            ]
           ],
           "sequentialminus": [
            [
             0,
             "#0d0887"
            ],
            [
             0.1111111111111111,
             "#46039f"
            ],
            [
             0.2222222222222222,
             "#7201a8"
            ],
            [
             0.3333333333333333,
             "#9c179e"
            ],
            [
             0.4444444444444444,
             "#bd3786"
            ],
            [
             0.5555555555555556,
             "#d8576b"
            ],
            [
             0.6666666666666666,
             "#ed7953"
            ],
            [
             0.7777777777777778,
             "#fb9f3a"
            ],
            [
             0.8888888888888888,
             "#fdca26"
            ],
            [
             1,
             "#f0f921"
            ]
           ]
          },
          "colorway": [
           "#636efa",
           "#EF553B",
           "#00cc96",
           "#ab63fa",
           "#FFA15A",
           "#19d3f3",
           "#FF6692",
           "#B6E880",
           "#FF97FF",
           "#FECB52"
          ],
          "font": {
           "color": "#2a3f5f"
          },
          "geo": {
           "bgcolor": "white",
           "lakecolor": "white",
           "landcolor": "#E5ECF6",
           "showlakes": true,
           "showland": true,
           "subunitcolor": "white"
          },
          "hoverlabel": {
           "align": "left"
          },
          "hovermode": "closest",
          "mapbox": {
           "style": "light"
          },
          "paper_bgcolor": "white",
          "plot_bgcolor": "#E5ECF6",
          "polar": {
           "angularaxis": {
            "gridcolor": "white",
            "linecolor": "white",
            "ticks": ""
           },
           "bgcolor": "#E5ECF6",
           "radialaxis": {
            "gridcolor": "white",
            "linecolor": "white",
            "ticks": ""
           }
          },
          "scene": {
           "xaxis": {
            "backgroundcolor": "#E5ECF6",
            "gridcolor": "white",
            "gridwidth": 2,
            "linecolor": "white",
            "showbackground": true,
            "ticks": "",
            "zerolinecolor": "white"
           },
           "yaxis": {
            "backgroundcolor": "#E5ECF6",
            "gridcolor": "white",
            "gridwidth": 2,
            "linecolor": "white",
            "showbackground": true,
            "ticks": "",
            "zerolinecolor": "white"
           },
           "zaxis": {
            "backgroundcolor": "#E5ECF6",
            "gridcolor": "white",
            "gridwidth": 2,
            "linecolor": "white",
            "showbackground": true,
            "ticks": "",
            "zerolinecolor": "white"
           }
          },
          "shapedefaults": {
           "line": {
            "color": "#2a3f5f"
           }
          },
          "ternary": {
           "aaxis": {
            "gridcolor": "white",
            "linecolor": "white",
            "ticks": ""
           },
           "baxis": {
            "gridcolor": "white",
            "linecolor": "white",
            "ticks": ""
           },
           "bgcolor": "#E5ECF6",
           "caxis": {
            "gridcolor": "white",
            "linecolor": "white",
            "ticks": ""
           }
          },
          "title": {
           "x": 0.05
          },
          "xaxis": {
           "automargin": true,
           "gridcolor": "white",
           "linecolor": "white",
           "ticks": "",
           "title": {
            "standoff": 15
           },
           "zerolinecolor": "white",
           "zerolinewidth": 2
          },
          "yaxis": {
           "automargin": true,
           "gridcolor": "white",
           "linecolor": "white",
           "ticks": "",
           "title": {
            "standoff": 15
           },
           "zerolinecolor": "white",
           "zerolinewidth": 2
          }
         }
        },
        "title": {
         "text": "주식 데이터 캔들스틱 차트 및 이동평균"
        },
        "xaxis": {
         "title": {
          "text": "날짜"
         }
        },
        "yaxis": {
         "title": {
          "text": "가격"
         }
        }
       }
      }
     },
     "metadata": {},
     "output_type": "display_data"
    }
   ],
   "source": [
    "import plotly.graph_objects as go\n",
    "import pandas as pd\n",
    "import numpy as np\n",
    "\n",
    "# 가상 주식 데이터 생성\n",
    "np.random.seed(42)\n",
    "dates = pd.date_range(start='2023-01-01', periods=60, freq='D')\n",
    "data = pd.DataFrame({\n",
    "    'Date': dates,\n",
    "    'Open': np.random.uniform(100, 120, size=60)\n",
    "})\n",
    "data['High'] = data['Open'] + np.random.uniform(0, 10, size=60)\n",
    "data['Low'] = data['Open'] - np.random.uniform(0, 10, size=60)\n",
    "data['Close'] = data['Open'] + np.random.uniform(-5, 5, size=60)\n",
    "\n",
    "# 5일 이동평균 계산\n",
    "data['MA5'] = data['Close'].rolling(window=5).mean()\n",
    "\n",
    "# 캔들스틱 차트 생성\n",
    "fig = go.Figure(data=[go.Candlestick(\n",
    "    x=data['Date'],\n",
    "    open=data['Open'],\n",
    "    high=data['High'],\n",
    "    low=data['Low'],\n",
    "    close=data['Close'],\n",
    "    name='캔들스틱'\n",
    ")])\n",
    "\n",
    "# 이동평균 선 추가\n",
    "fig.add_trace(go.Scatter(\n",
    "    x=data['Date'],\n",
    "    y=data['MA5'],\n",
    "    mode='lines',\n",
    "    line=dict(color='blue', width=2),\n",
    "    name='5일 이동평균'\n",
    "))\n",
    "\n",
    "fig.update_layout(\n",
    "    title=\"주식 데이터 캔들스틱 차트 및 이동평균\",\n",
    "    xaxis_title=\"날짜\",\n",
    "    yaxis_title=\"가격\"\n",
    ")\n",
    "fig.show()\n"
   ]
  },
  {
   "cell_type": "markdown",
   "metadata": {},
   "source": [
    "## 3-2: COVID-19 시계열 차트\n",
    "- 가상의 COVID-19 확진자 수 데이터를 시계열 차트로 시각화하고, 특정 날짜에 주석을 추가해보세요."
   ]
  },
  {
   "cell_type": "code",
   "execution_count": null,
   "metadata": {},
   "outputs": [
    {
     "data": {
      "application/vnd.plotly.v1+json": {
       "config": {
        "plotlyServerURL": "https://plot.ly"
       },
       "data": [
        {
         "mode": "lines+markers",
         "name": "확진자 수",
         "type": "scatter",
         "x": [
          "2023-01-01T00:00:00.000000000",
          "2023-01-02T00:00:00.000000000",
          "2023-01-03T00:00:00.000000000",
          "2023-01-04T00:00:00.000000000",
          "2023-01-05T00:00:00.000000000",
          "2023-01-06T00:00:00.000000000",
          "2023-01-07T00:00:00.000000000",
          "2023-01-08T00:00:00.000000000",
          "2023-01-09T00:00:00.000000000",
          "2023-01-10T00:00:00.000000000",
          "2023-01-11T00:00:00.000000000",
          "2023-01-12T00:00:00.000000000",
          "2023-01-13T00:00:00.000000000",
          "2023-01-14T00:00:00.000000000",
          "2023-01-15T00:00:00.000000000",
          "2023-01-16T00:00:00.000000000",
          "2023-01-17T00:00:00.000000000",
          "2023-01-18T00:00:00.000000000",
          "2023-01-19T00:00:00.000000000",
          "2023-01-20T00:00:00.000000000",
          "2023-01-21T00:00:00.000000000",
          "2023-01-22T00:00:00.000000000",
          "2023-01-23T00:00:00.000000000",
          "2023-01-24T00:00:00.000000000",
          "2023-01-25T00:00:00.000000000",
          "2023-01-26T00:00:00.000000000",
          "2023-01-27T00:00:00.000000000",
          "2023-01-28T00:00:00.000000000",
          "2023-01-29T00:00:00.000000000",
          "2023-01-30T00:00:00.000000000"
         ],
         "y": {
          "bdata": "KgF2AcABjwC3AI0BwQASAS0BvQGtAYAANQHNAOQBowB0AM4ACAHCAHwA2AAjAScBlwHsAL8BwQDfAVIB",
          "dtype": "i2"
         }
        }
       ],
       "layout": {
        "annotations": [
         {
          "arrowhead": 1,
          "showarrow": true,
          "text": "중요 사건 발생",
          "x": "2023-01-11T00:00:00",
          "y": 429
         }
        ],
        "template": {
         "data": {
          "bar": [
           {
            "error_x": {
             "color": "#2a3f5f"
            },
            "error_y": {
             "color": "#2a3f5f"
            },
            "marker": {
             "line": {
              "color": "#E5ECF6",
              "width": 0.5
             },
             "pattern": {
              "fillmode": "overlay",
              "size": 10,
              "solidity": 0.2
             }
            },
            "type": "bar"
           }
          ],
          "barpolar": [
           {
            "marker": {
             "line": {
              "color": "#E5ECF6",
              "width": 0.5
             },
             "pattern": {
              "fillmode": "overlay",
              "size": 10,
              "solidity": 0.2
             }
            },
            "type": "barpolar"
           }
          ],
          "carpet": [
           {
            "aaxis": {
             "endlinecolor": "#2a3f5f",
             "gridcolor": "white",
             "linecolor": "white",
             "minorgridcolor": "white",
             "startlinecolor": "#2a3f5f"
            },
            "baxis": {
             "endlinecolor": "#2a3f5f",
             "gridcolor": "white",
             "linecolor": "white",
             "minorgridcolor": "white",
             "startlinecolor": "#2a3f5f"
            },
            "type": "carpet"
           }
          ],
          "choropleth": [
           {
            "colorbar": {
             "outlinewidth": 0,
             "ticks": ""
            },
            "type": "choropleth"
           }
          ],
          "contour": [
           {
            "colorbar": {
             "outlinewidth": 0,
             "ticks": ""
            },
            "colorscale": [
             [
              0,
              "#0d0887"
             ],
             [
              0.1111111111111111,
              "#46039f"
             ],
             [
              0.2222222222222222,
              "#7201a8"
             ],
             [
              0.3333333333333333,
              "#9c179e"
             ],
             [
              0.4444444444444444,
              "#bd3786"
             ],
             [
              0.5555555555555556,
              "#d8576b"
             ],
             [
              0.6666666666666666,
              "#ed7953"
             ],
             [
              0.7777777777777778,
              "#fb9f3a"
             ],
             [
              0.8888888888888888,
              "#fdca26"
             ],
             [
              1,
              "#f0f921"
             ]
            ],
            "type": "contour"
           }
          ],
          "contourcarpet": [
           {
            "colorbar": {
             "outlinewidth": 0,
             "ticks": ""
            },
            "type": "contourcarpet"
           }
          ],
          "heatmap": [
           {
            "colorbar": {
             "outlinewidth": 0,
             "ticks": ""
            },
            "colorscale": [
             [
              0,
              "#0d0887"
             ],
             [
              0.1111111111111111,
              "#46039f"
             ],
             [
              0.2222222222222222,
              "#7201a8"
             ],
             [
              0.3333333333333333,
              "#9c179e"
             ],
             [
              0.4444444444444444,
              "#bd3786"
             ],
             [
              0.5555555555555556,
              "#d8576b"
             ],
             [
              0.6666666666666666,
              "#ed7953"
             ],
             [
              0.7777777777777778,
              "#fb9f3a"
             ],
             [
              0.8888888888888888,
              "#fdca26"
             ],
             [
              1,
              "#f0f921"
             ]
            ],
            "type": "heatmap"
           }
          ],
          "histogram": [
           {
            "marker": {
             "pattern": {
              "fillmode": "overlay",
              "size": 10,
              "solidity": 0.2
             }
            },
            "type": "histogram"
           }
          ],
          "histogram2d": [
           {
            "colorbar": {
             "outlinewidth": 0,
             "ticks": ""
            },
            "colorscale": [
             [
              0,
              "#0d0887"
             ],
             [
              0.1111111111111111,
              "#46039f"
             ],
             [
              0.2222222222222222,
              "#7201a8"
             ],
             [
              0.3333333333333333,
              "#9c179e"
             ],
             [
              0.4444444444444444,
              "#bd3786"
             ],
             [
              0.5555555555555556,
              "#d8576b"
             ],
             [
              0.6666666666666666,
              "#ed7953"
             ],
             [
              0.7777777777777778,
              "#fb9f3a"
             ],
             [
              0.8888888888888888,
              "#fdca26"
             ],
             [
              1,
              "#f0f921"
             ]
            ],
            "type": "histogram2d"
           }
          ],
          "histogram2dcontour": [
           {
            "colorbar": {
             "outlinewidth": 0,
             "ticks": ""
            },
            "colorscale": [
             [
              0,
              "#0d0887"
             ],
             [
              0.1111111111111111,
              "#46039f"
             ],
             [
              0.2222222222222222,
              "#7201a8"
             ],
             [
              0.3333333333333333,
              "#9c179e"
             ],
             [
              0.4444444444444444,
              "#bd3786"
             ],
             [
              0.5555555555555556,
              "#d8576b"
             ],
             [
              0.6666666666666666,
              "#ed7953"
             ],
             [
              0.7777777777777778,
              "#fb9f3a"
             ],
             [
              0.8888888888888888,
              "#fdca26"
             ],
             [
              1,
              "#f0f921"
             ]
            ],
            "type": "histogram2dcontour"
           }
          ],
          "mesh3d": [
           {
            "colorbar": {
             "outlinewidth": 0,
             "ticks": ""
            },
            "type": "mesh3d"
           }
          ],
          "parcoords": [
           {
            "line": {
             "colorbar": {
              "outlinewidth": 0,
              "ticks": ""
             }
            },
            "type": "parcoords"
           }
          ],
          "pie": [
           {
            "automargin": true,
            "type": "pie"
           }
          ],
          "scatter": [
           {
            "fillpattern": {
             "fillmode": "overlay",
             "size": 10,
             "solidity": 0.2
            },
            "type": "scatter"
           }
          ],
          "scatter3d": [
           {
            "line": {
             "colorbar": {
              "outlinewidth": 0,
              "ticks": ""
             }
            },
            "marker": {
             "colorbar": {
              "outlinewidth": 0,
              "ticks": ""
             }
            },
            "type": "scatter3d"
           }
          ],
          "scattercarpet": [
           {
            "marker": {
             "colorbar": {
              "outlinewidth": 0,
              "ticks": ""
             }
            },
            "type": "scattercarpet"
           }
          ],
          "scattergeo": [
           {
            "marker": {
             "colorbar": {
              "outlinewidth": 0,
              "ticks": ""
             }
            },
            "type": "scattergeo"
           }
          ],
          "scattergl": [
           {
            "marker": {
             "colorbar": {
              "outlinewidth": 0,
              "ticks": ""
             }
            },
            "type": "scattergl"
           }
          ],
          "scattermap": [
           {
            "marker": {
             "colorbar": {
              "outlinewidth": 0,
              "ticks": ""
             }
            },
            "type": "scattermap"
           }
          ],
          "scattermapbox": [
           {
            "marker": {
             "colorbar": {
              "outlinewidth": 0,
              "ticks": ""
             }
            },
            "type": "scattermapbox"
           }
          ],
          "scatterpolar": [
           {
            "marker": {
             "colorbar": {
              "outlinewidth": 0,
              "ticks": ""
             }
            },
            "type": "scatterpolar"
           }
          ],
          "scatterpolargl": [
           {
            "marker": {
             "colorbar": {
              "outlinewidth": 0,
              "ticks": ""
             }
            },
            "type": "scatterpolargl"
           }
          ],
          "scatterternary": [
           {
            "marker": {
             "colorbar": {
              "outlinewidth": 0,
              "ticks": ""
             }
            },
            "type": "scatterternary"
           }
          ],
          "surface": [
           {
            "colorbar": {
             "outlinewidth": 0,
             "ticks": ""
            },
            "colorscale": [
             [
              0,
              "#0d0887"
             ],
             [
              0.1111111111111111,
              "#46039f"
             ],
             [
              0.2222222222222222,
              "#7201a8"
             ],
             [
              0.3333333333333333,
              "#9c179e"
             ],
             [
              0.4444444444444444,
              "#bd3786"
             ],
             [
              0.5555555555555556,
              "#d8576b"
             ],
             [
              0.6666666666666666,
              "#ed7953"
             ],
             [
              0.7777777777777778,
              "#fb9f3a"
             ],
             [
              0.8888888888888888,
              "#fdca26"
             ],
             [
              1,
              "#f0f921"
             ]
            ],
            "type": "surface"
           }
          ],
          "table": [
           {
            "cells": {
             "fill": {
              "color": "#EBF0F8"
             },
             "line": {
              "color": "white"
             }
            },
            "header": {
             "fill": {
              "color": "#C8D4E3"
             },
             "line": {
              "color": "white"
             }
            },
            "type": "table"
           }
          ]
         },
         "layout": {
          "annotationdefaults": {
           "arrowcolor": "#2a3f5f",
           "arrowhead": 0,
           "arrowwidth": 1
          },
          "autotypenumbers": "strict",
          "coloraxis": {
           "colorbar": {
            "outlinewidth": 0,
            "ticks": ""
           }
          },
          "colorscale": {
           "diverging": [
            [
             0,
             "#8e0152"
            ],
            [
             0.1,
             "#c51b7d"
            ],
            [
             0.2,
             "#de77ae"
            ],
            [
             0.3,
             "#f1b6da"
            ],
            [
             0.4,
             "#fde0ef"
            ],
            [
             0.5,
             "#f7f7f7"
            ],
            [
             0.6,
             "#e6f5d0"
            ],
            [
             0.7,
             "#b8e186"
            ],
            [
             0.8,
             "#7fbc41"
            ],
            [
             0.9,
             "#4d9221"
            ],
            [
             1,
             "#276419"
            ]
           ],
           "sequential": [
            [
             0,
             "#0d0887"
            ],
            [
             0.1111111111111111,
             "#46039f"
            ],
            [
             0.2222222222222222,
             "#7201a8"
            ],
            [
             0.3333333333333333,
             "#9c179e"
            ],
            [
             0.4444444444444444,
             "#bd3786"
            ],
            [
             0.5555555555555556,
             "#d8576b"
            ],
            [
             0.6666666666666666,
             "#ed7953"
            ],
            [
             0.7777777777777778,
             "#fb9f3a"
            ],
            [
             0.8888888888888888,
             "#fdca26"
            ],
            [
             1,
             "#f0f921"
            ]
           ],
           "sequentialminus": [
            [
             0,
             "#0d0887"
            ],
            [
             0.1111111111111111,
             "#46039f"
            ],
            [
             0.2222222222222222,
             "#7201a8"
            ],
            [
             0.3333333333333333,
             "#9c179e"
            ],
            [
             0.4444444444444444,
             "#bd3786"
            ],
            [
             0.5555555555555556,
             "#d8576b"
            ],
            [
             0.6666666666666666,
             "#ed7953"
            ],
            [
             0.7777777777777778,
             "#fb9f3a"
            ],
            [
             0.8888888888888888,
             "#fdca26"
            ],
            [
             1,
             "#f0f921"
            ]
           ]
          },
          "colorway": [
           "#636efa",
           "#EF553B",
           "#00cc96",
           "#ab63fa",
           "#FFA15A",
           "#19d3f3",
           "#FF6692",
           "#B6E880",
           "#FF97FF",
           "#FECB52"
          ],
          "font": {
           "color": "#2a3f5f"
          },
          "geo": {
           "bgcolor": "white",
           "lakecolor": "white",
           "landcolor": "#E5ECF6",
           "showlakes": true,
           "showland": true,
           "subunitcolor": "white"
          },
          "hoverlabel": {
           "align": "left"
          },
          "hovermode": "closest",
          "mapbox": {
           "style": "light"
          },
          "paper_bgcolor": "white",
          "plot_bgcolor": "#E5ECF6",
          "polar": {
           "angularaxis": {
            "gridcolor": "white",
            "linecolor": "white",
            "ticks": ""
           },
           "bgcolor": "#E5ECF6",
           "radialaxis": {
            "gridcolor": "white",
            "linecolor": "white",
            "ticks": ""
           }
          },
          "scene": {
           "xaxis": {
            "backgroundcolor": "#E5ECF6",
            "gridcolor": "white",
            "gridwidth": 2,
            "linecolor": "white",
            "showbackground": true,
            "ticks": "",
            "zerolinecolor": "white"
           },
           "yaxis": {
            "backgroundcolor": "#E5ECF6",
            "gridcolor": "white",
            "gridwidth": 2,
            "linecolor": "white",
            "showbackground": true,
            "ticks": "",
            "zerolinecolor": "white"
           },
           "zaxis": {
            "backgroundcolor": "#E5ECF6",
            "gridcolor": "white",
            "gridwidth": 2,
            "linecolor": "white",
            "showbackground": true,
            "ticks": "",
            "zerolinecolor": "white"
           }
          },
          "shapedefaults": {
           "line": {
            "color": "#2a3f5f"
           }
          },
          "ternary": {
           "aaxis": {
            "gridcolor": "white",
            "linecolor": "white",
            "ticks": ""
           },
           "baxis": {
            "gridcolor": "white",
            "linecolor": "white",
            "ticks": ""
           },
           "bgcolor": "#E5ECF6",
           "caxis": {
            "gridcolor": "white",
            "linecolor": "white",
            "ticks": ""
           }
          },
          "title": {
           "x": 0.05
          },
          "xaxis": {
           "automargin": true,
           "gridcolor": "white",
           "linecolor": "white",
           "ticks": "",
           "title": {
            "standoff": 15
           },
           "zerolinecolor": "white",
           "zerolinewidth": 2
          },
          "yaxis": {
           "automargin": true,
           "gridcolor": "white",
           "linecolor": "white",
           "ticks": "",
           "title": {
            "standoff": 15
           },
           "zerolinecolor": "white",
           "zerolinewidth": 2
          }
         }
        },
        "title": {
         "text": "COVID-19 시계열 차트"
        },
        "xaxis": {
         "title": {
          "text": "날짜"
         }
        },
        "yaxis": {
         "title": {
          "text": "확진자 수"
         }
        }
       }
      }
     },
     "metadata": {},
     "output_type": "display_data"
    }
   ],
   "source": [
    "import plotly.graph_objects as go\n",
    "import pandas as pd\n",
    "import numpy as np\n",
    "\n",
    "# 가상 COVID-19 데이터 생성\n",
    "dates = pd.date_range(start=\"2023-01-01\", periods=30, freq=\"D\")\n",
    "cases = np.random.randint(100, 500, 30)\n",
    "\n",
    "# 시계열 차트 생성\n",
    "fig = go.Figure(\n",
    "    data=go.Scatter(x=dates, y=cases, mode=\"lines+markers\", name=\"확진자 수\")\n",
    ")\n",
    "fig.update_layout(\n",
    "    title=\"COVID-19 시계열 차트\", xaxis_title=\"날짜\", yaxis_title=\"확진자 수\"\n",
    ")\n",
    "\n",
    "# 특정 날짜에 주석 추가\n",
    "fig.add_annotation(\n",
    "    x=dates[10], y=cases[10], text=\"중요 사건 발생\", showarrow=True, arrowhead=1\n",
    ")\n",
    "fig.show()"
   ]
  },
  {
   "cell_type": "markdown",
   "metadata": {},
   "source": [
    "## 2: COVID-19 확진자 시계열 차트와 슬라이더 애니메이션\n",
    "- 가상의 COVID-19 확진자 데이터를 사용하여 시계열 차트를 만들고, 슬라이더 및 Play/Pause 버튼을 추가하여 연속적인 데이터 변화를 애니메이션 효과로 표현하세요."
   ]
  },
  {
   "cell_type": "code",
   "execution_count": 7,
   "metadata": {},
   "outputs": [
    {
     "data": {
      "application/vnd.plotly.v1+json": {
       "config": {
        "plotlyServerURL": "https://plot.ly"
       },
       "data": [
        {
         "mode": "markers+lines",
         "name": "확진자 수",
         "type": "scatter",
         "x": [
          "2023-01-01T00:00:00"
         ],
         "y": {
          "bdata": "PwE=",
          "dtype": "i2"
         }
        }
       ],
       "frames": [
        {
         "data": [
          {
           "mode": "markers+lines",
           "type": "scatter",
           "x": [
            "2023-01-01T00:00:00.000000000"
           ],
           "y": {
            "bdata": "PwE=",
            "dtype": "i2"
           }
          }
         ],
         "name": "2023-01-01 00:00:00"
        },
        {
         "data": [
          {
           "mode": "markers+lines",
           "type": "scatter",
           "x": [
            "2023-01-01T00:00:00.000000000",
            "2023-01-02T00:00:00.000000000"
           ],
           "y": {
            "bdata": "PwEBAQ==",
            "dtype": "i2"
           }
          }
         ],
         "name": "2023-01-02 00:00:00"
        },
        {
         "data": [
          {
           "mode": "markers+lines",
           "type": "scatter",
           "x": [
            "2023-01-01T00:00:00.000000000",
            "2023-01-02T00:00:00.000000000",
            "2023-01-03T00:00:00.000000000"
           ],
           "y": {
            "bdata": "PwEBAUAC",
            "dtype": "i2"
           }
          }
         ],
         "name": "2023-01-03 00:00:00"
        },
        {
         "data": [
          {
           "mode": "markers+lines",
           "type": "scatter",
           "x": [
            "2023-01-01T00:00:00.000000000",
            "2023-01-02T00:00:00.000000000",
            "2023-01-03T00:00:00.000000000",
            "2023-01-04T00:00:00.000000000"
           ],
           "y": {
            "bdata": "PwEBAUACkQA=",
            "dtype": "i2"
           }
          }
         ],
         "name": "2023-01-04 00:00:00"
        },
        {
         "data": [
          {
           "mode": "markers+lines",
           "type": "scatter",
           "x": [
            "2023-01-01T00:00:00.000000000",
            "2023-01-02T00:00:00.000000000",
            "2023-01-03T00:00:00.000000000",
            "2023-01-04T00:00:00.000000000",
            "2023-01-05T00:00:00.000000000"
           ],
           "y": {
            "bdata": "PwEBAUACkQDYAQ==",
            "dtype": "i2"
           }
          }
         ],
         "name": "2023-01-05 00:00:00"
        },
        {
         "data": [
          {
           "mode": "markers+lines",
           "type": "scatter",
           "x": [
            "2023-01-01T00:00:00.000000000",
            "2023-01-02T00:00:00.000000000",
            "2023-01-03T00:00:00.000000000",
            "2023-01-04T00:00:00.000000000",
            "2023-01-05T00:00:00.000000000",
            "2023-01-06T00:00:00.000000000"
           ],
           "y": {
            "bdata": "PwEBAUACkQDYAWkC",
            "dtype": "i2"
           }
          }
         ],
         "name": "2023-01-06 00:00:00"
        },
        {
         "data": [
          {
           "mode": "markers+lines",
           "type": "scatter",
           "x": [
            "2023-01-01T00:00:00.000000000",
            "2023-01-02T00:00:00.000000000",
            "2023-01-03T00:00:00.000000000",
            "2023-01-04T00:00:00.000000000",
            "2023-01-05T00:00:00.000000000",
            "2023-01-06T00:00:00.000000000",
            "2023-01-07T00:00:00.000000000"
           ],
           "y": {
            "bdata": "PwEBAUACkQDYAWkCxgA=",
            "dtype": "i2"
           }
          }
         ],
         "name": "2023-01-07 00:00:00"
        },
        {
         "data": [
          {
           "mode": "markers+lines",
           "type": "scatter",
           "x": [
            "2023-01-01T00:00:00.000000000",
            "2023-01-02T00:00:00.000000000",
            "2023-01-03T00:00:00.000000000",
            "2023-01-04T00:00:00.000000000",
            "2023-01-05T00:00:00.000000000",
            "2023-01-06T00:00:00.000000000",
            "2023-01-07T00:00:00.000000000",
            "2023-01-08T00:00:00.000000000"
           ],
           "y": {
            "bdata": "PwEBAUACkQDYAWkCxgDfAw==",
            "dtype": "i2"
           }
          }
         ],
         "name": "2023-01-08 00:00:00"
        },
        {
         "data": [
          {
           "mode": "markers+lines",
           "type": "scatter",
           "x": [
            "2023-01-01T00:00:00.000000000",
            "2023-01-02T00:00:00.000000000",
            "2023-01-03T00:00:00.000000000",
            "2023-01-04T00:00:00.000000000",
            "2023-01-05T00:00:00.000000000",
            "2023-01-06T00:00:00.000000000",
            "2023-01-07T00:00:00.000000000",
            "2023-01-08T00:00:00.000000000",
            "2023-01-09T00:00:00.000000000"
           ],
           "y": {
            "bdata": "PwEBAUACkQDYAWkCxgDfA0wD",
            "dtype": "i2"
           }
          }
         ],
         "name": "2023-01-09 00:00:00"
        },
        {
         "data": [
          {
           "mode": "markers+lines",
           "type": "scatter",
           "x": [
            "2023-01-01T00:00:00.000000000",
            "2023-01-02T00:00:00.000000000",
            "2023-01-03T00:00:00.000000000",
            "2023-01-04T00:00:00.000000000",
            "2023-01-05T00:00:00.000000000",
            "2023-01-06T00:00:00.000000000",
            "2023-01-07T00:00:00.000000000",
            "2023-01-08T00:00:00.000000000",
            "2023-01-09T00:00:00.000000000",
            "2023-01-10T00:00:00.000000000"
           ],
           "y": {
            "bdata": "PwEBAUACkQDYAWkCxgDfA0wDiAA=",
            "dtype": "i2"
           }
          }
         ],
         "name": "2023-01-10 00:00:00"
        },
        {
         "data": [
          {
           "mode": "markers+lines",
           "type": "scatter",
           "x": [
            "2023-01-01T00:00:00.000000000",
            "2023-01-02T00:00:00.000000000",
            "2023-01-03T00:00:00.000000000",
            "2023-01-04T00:00:00.000000000",
            "2023-01-05T00:00:00.000000000",
            "2023-01-06T00:00:00.000000000",
            "2023-01-07T00:00:00.000000000",
            "2023-01-08T00:00:00.000000000",
            "2023-01-09T00:00:00.000000000",
            "2023-01-10T00:00:00.000000000",
            "2023-01-11T00:00:00.000000000"
           ],
           "y": {
            "bdata": "PwEBAUACkQDYAWkCxgDfA0wDiAB7AQ==",
            "dtype": "i2"
           }
          }
         ],
         "name": "2023-01-11 00:00:00"
        },
        {
         "data": [
          {
           "mode": "markers+lines",
           "type": "scatter",
           "x": [
            "2023-01-01T00:00:00.000000000",
            "2023-01-02T00:00:00.000000000",
            "2023-01-03T00:00:00.000000000",
            "2023-01-04T00:00:00.000000000",
            "2023-01-05T00:00:00.000000000",
            "2023-01-06T00:00:00.000000000",
            "2023-01-07T00:00:00.000000000",
            "2023-01-08T00:00:00.000000000",
            "2023-01-09T00:00:00.000000000",
            "2023-01-10T00:00:00.000000000",
            "2023-01-11T00:00:00.000000000",
            "2023-01-12T00:00:00.000000000"
           ],
           "y": {
            "bdata": "PwEBAUACkQDYAWkCxgDfA0wDiAB7AcAB",
            "dtype": "i2"
           }
          }
         ],
         "name": "2023-01-12 00:00:00"
        },
        {
         "data": [
          {
           "mode": "markers+lines",
           "type": "scatter",
           "x": [
            "2023-01-01T00:00:00.000000000",
            "2023-01-02T00:00:00.000000000",
            "2023-01-03T00:00:00.000000000",
            "2023-01-04T00:00:00.000000000",
            "2023-01-05T00:00:00.000000000",
            "2023-01-06T00:00:00.000000000",
            "2023-01-07T00:00:00.000000000",
            "2023-01-08T00:00:00.000000000",
            "2023-01-09T00:00:00.000000000",
            "2023-01-10T00:00:00.000000000",
            "2023-01-11T00:00:00.000000000",
            "2023-01-12T00:00:00.000000000",
            "2023-01-13T00:00:00.000000000"
           ],
           "y": {
            "bdata": "PwEBAUACkQDYAWkCxgDfA0wDiAB7AcABVAI=",
            "dtype": "i2"
           }
          }
         ],
         "name": "2023-01-13 00:00:00"
        },
        {
         "data": [
          {
           "mode": "markers+lines",
           "type": "scatter",
           "x": [
            "2023-01-01T00:00:00.000000000",
            "2023-01-02T00:00:00.000000000",
            "2023-01-03T00:00:00.000000000",
            "2023-01-04T00:00:00.000000000",
            "2023-01-05T00:00:00.000000000",
            "2023-01-06T00:00:00.000000000",
            "2023-01-07T00:00:00.000000000",
            "2023-01-08T00:00:00.000000000",
            "2023-01-09T00:00:00.000000000",
            "2023-01-10T00:00:00.000000000",
            "2023-01-11T00:00:00.000000000",
            "2023-01-12T00:00:00.000000000",
            "2023-01-13T00:00:00.000000000",
            "2023-01-14T00:00:00.000000000"
           ],
           "y": {
            "bdata": "PwEBAUACkQDYAWkCxgDfA0wDiAB7AcABVAKRAQ==",
            "dtype": "i2"
           }
          }
         ],
         "name": "2023-01-14 00:00:00"
        },
        {
         "data": [
          {
           "mode": "markers+lines",
           "type": "scatter",
           "x": [
            "2023-01-01T00:00:00.000000000",
            "2023-01-02T00:00:00.000000000",
            "2023-01-03T00:00:00.000000000",
            "2023-01-04T00:00:00.000000000",
            "2023-01-05T00:00:00.000000000",
            "2023-01-06T00:00:00.000000000",
            "2023-01-07T00:00:00.000000000",
            "2023-01-08T00:00:00.000000000",
            "2023-01-09T00:00:00.000000000",
            "2023-01-10T00:00:00.000000000",
            "2023-01-11T00:00:00.000000000",
            "2023-01-12T00:00:00.000000000",
            "2023-01-13T00:00:00.000000000",
            "2023-01-14T00:00:00.000000000",
            "2023-01-15T00:00:00.000000000"
           ],
           "y": {
            "bdata": "PwEBAUACkQDYAWkCxgDfA0wDiAB7AcABVAKRARgB",
            "dtype": "i2"
           }
          }
         ],
         "name": "2023-01-15 00:00:00"
        },
        {
         "data": [
          {
           "mode": "markers+lines",
           "type": "scatter",
           "x": [
            "2023-01-01T00:00:00.000000000",
            "2023-01-02T00:00:00.000000000",
            "2023-01-03T00:00:00.000000000",
            "2023-01-04T00:00:00.000000000",
            "2023-01-05T00:00:00.000000000",
            "2023-01-06T00:00:00.000000000",
            "2023-01-07T00:00:00.000000000",
            "2023-01-08T00:00:00.000000000",
            "2023-01-09T00:00:00.000000000",
            "2023-01-10T00:00:00.000000000",
            "2023-01-11T00:00:00.000000000",
            "2023-01-12T00:00:00.000000000",
            "2023-01-13T00:00:00.000000000",
            "2023-01-14T00:00:00.000000000",
            "2023-01-15T00:00:00.000000000",
            "2023-01-16T00:00:00.000000000"
           ],
           "y": {
            "bdata": "PwEBAUACkQDYAWkCxgDfA0wDiAB7AcABVAKRARgBwgI=",
            "dtype": "i2"
           }
          }
         ],
         "name": "2023-01-16 00:00:00"
        },
        {
         "data": [
          {
           "mode": "markers+lines",
           "type": "scatter",
           "x": [
            "2023-01-01T00:00:00.000000000",
            "2023-01-02T00:00:00.000000000",
            "2023-01-03T00:00:00.000000000",
            "2023-01-04T00:00:00.000000000",
            "2023-01-05T00:00:00.000000000",
            "2023-01-06T00:00:00.000000000",
            "2023-01-07T00:00:00.000000000",
            "2023-01-08T00:00:00.000000000",
            "2023-01-09T00:00:00.000000000",
            "2023-01-10T00:00:00.000000000",
            "2023-01-11T00:00:00.000000000",
            "2023-01-12T00:00:00.000000000",
            "2023-01-13T00:00:00.000000000",
            "2023-01-14T00:00:00.000000000",
            "2023-01-15T00:00:00.000000000",
            "2023-01-16T00:00:00.000000000",
            "2023-01-17T00:00:00.000000000"
           ],
           "y": {
            "bdata": "PwEBAUACkQDYAWkCxgDfA0wDiAB7AcABVAKRARgBwgLGAA==",
            "dtype": "i2"
           }
          }
         ],
         "name": "2023-01-17 00:00:00"
        },
        {
         "data": [
          {
           "mode": "markers+lines",
           "type": "scatter",
           "x": [
            "2023-01-01T00:00:00.000000000",
            "2023-01-02T00:00:00.000000000",
            "2023-01-03T00:00:00.000000000",
            "2023-01-04T00:00:00.000000000",
            "2023-01-05T00:00:00.000000000",
            "2023-01-06T00:00:00.000000000",
            "2023-01-07T00:00:00.000000000",
            "2023-01-08T00:00:00.000000000",
            "2023-01-09T00:00:00.000000000",
            "2023-01-10T00:00:00.000000000",
            "2023-01-11T00:00:00.000000000",
            "2023-01-12T00:00:00.000000000",
            "2023-01-13T00:00:00.000000000",
            "2023-01-14T00:00:00.000000000",
            "2023-01-15T00:00:00.000000000",
            "2023-01-16T00:00:00.000000000",
            "2023-01-17T00:00:00.000000000",
            "2023-01-18T00:00:00.000000000"
           ],
           "y": {
            "bdata": "PwEBAUACkQDYAWkCxgDfA0wDiAB7AcABVAKRARgBwgLGAB8D",
            "dtype": "i2"
           }
          }
         ],
         "name": "2023-01-18 00:00:00"
        },
        {
         "data": [
          {
           "mode": "markers+lines",
           "type": "scatter",
           "x": [
            "2023-01-01T00:00:00.000000000",
            "2023-01-02T00:00:00.000000000",
            "2023-01-03T00:00:00.000000000",
            "2023-01-04T00:00:00.000000000",
            "2023-01-05T00:00:00.000000000",
            "2023-01-06T00:00:00.000000000",
            "2023-01-07T00:00:00.000000000",
            "2023-01-08T00:00:00.000000000",
            "2023-01-09T00:00:00.000000000",
            "2023-01-10T00:00:00.000000000",
            "2023-01-11T00:00:00.000000000",
            "2023-01-12T00:00:00.000000000",
            "2023-01-13T00:00:00.000000000",
            "2023-01-14T00:00:00.000000000",
            "2023-01-15T00:00:00.000000000",
            "2023-01-16T00:00:00.000000000",
            "2023-01-17T00:00:00.000000000",
            "2023-01-18T00:00:00.000000000",
            "2023-01-19T00:00:00.000000000"
           ],
           "y": {
            "bdata": "PwEBAUACkQDYAWkCxgDfA0wDiAB7AcABVAKRARgBwgLGAB8D1wA=",
            "dtype": "i2"
           }
          }
         ],
         "name": "2023-01-19 00:00:00"
        },
        {
         "data": [
          {
           "mode": "markers+lines",
           "type": "scatter",
           "x": [
            "2023-01-01T00:00:00.000000000",
            "2023-01-02T00:00:00.000000000",
            "2023-01-03T00:00:00.000000000",
            "2023-01-04T00:00:00.000000000",
            "2023-01-05T00:00:00.000000000",
            "2023-01-06T00:00:00.000000000",
            "2023-01-07T00:00:00.000000000",
            "2023-01-08T00:00:00.000000000",
            "2023-01-09T00:00:00.000000000",
            "2023-01-10T00:00:00.000000000",
            "2023-01-11T00:00:00.000000000",
            "2023-01-12T00:00:00.000000000",
            "2023-01-13T00:00:00.000000000",
            "2023-01-14T00:00:00.000000000",
            "2023-01-15T00:00:00.000000000",
            "2023-01-16T00:00:00.000000000",
            "2023-01-17T00:00:00.000000000",
            "2023-01-18T00:00:00.000000000",
            "2023-01-19T00:00:00.000000000",
            "2023-01-20T00:00:00.000000000"
           ],
           "y": {
            "bdata": "PwEBAUACkQDYAWkCxgDfA0wDiAB7AcABVAKRARgBwgLGAB8D1wAiAQ==",
            "dtype": "i2"
           }
          }
         ],
         "name": "2023-01-20 00:00:00"
        },
        {
         "data": [
          {
           "mode": "markers+lines",
           "type": "scatter",
           "x": [
            "2023-01-01T00:00:00.000000000",
            "2023-01-02T00:00:00.000000000",
            "2023-01-03T00:00:00.000000000",
            "2023-01-04T00:00:00.000000000",
            "2023-01-05T00:00:00.000000000",
            "2023-01-06T00:00:00.000000000",
            "2023-01-07T00:00:00.000000000",
            "2023-01-08T00:00:00.000000000",
            "2023-01-09T00:00:00.000000000",
            "2023-01-10T00:00:00.000000000",
            "2023-01-11T00:00:00.000000000",
            "2023-01-12T00:00:00.000000000",
            "2023-01-13T00:00:00.000000000",
            "2023-01-14T00:00:00.000000000",
            "2023-01-15T00:00:00.000000000",
            "2023-01-16T00:00:00.000000000",
            "2023-01-17T00:00:00.000000000",
            "2023-01-18T00:00:00.000000000",
            "2023-01-19T00:00:00.000000000",
            "2023-01-20T00:00:00.000000000",
            "2023-01-21T00:00:00.000000000"
           ],
           "y": {
            "bdata": "PwEBAUACkQDYAWkCxgDfA0wDiAB7AcABVAKRARgBwgLGAB8D1wAiAWAB",
            "dtype": "i2"
           }
          }
         ],
         "name": "2023-01-21 00:00:00"
        },
        {
         "data": [
          {
           "mode": "markers+lines",
           "type": "scatter",
           "x": [
            "2023-01-01T00:00:00.000000000",
            "2023-01-02T00:00:00.000000000",
            "2023-01-03T00:00:00.000000000",
            "2023-01-04T00:00:00.000000000",
            "2023-01-05T00:00:00.000000000",
            "2023-01-06T00:00:00.000000000",
            "2023-01-07T00:00:00.000000000",
            "2023-01-08T00:00:00.000000000",
            "2023-01-09T00:00:00.000000000",
            "2023-01-10T00:00:00.000000000",
            "2023-01-11T00:00:00.000000000",
            "2023-01-12T00:00:00.000000000",
            "2023-01-13T00:00:00.000000000",
            "2023-01-14T00:00:00.000000000",
            "2023-01-15T00:00:00.000000000",
            "2023-01-16T00:00:00.000000000",
            "2023-01-17T00:00:00.000000000",
            "2023-01-18T00:00:00.000000000",
            "2023-01-19T00:00:00.000000000",
            "2023-01-20T00:00:00.000000000",
            "2023-01-21T00:00:00.000000000",
            "2023-01-22T00:00:00.000000000"
           ],
           "y": {
            "bdata": "PwEBAUACkQDYAWkCxgDfA0wDiAB7AcABVAKRARgBwgLGAB8D1wAiAWABBAE=",
            "dtype": "i2"
           }
          }
         ],
         "name": "2023-01-22 00:00:00"
        },
        {
         "data": [
          {
           "mode": "markers+lines",
           "type": "scatter",
           "x": [
            "2023-01-01T00:00:00.000000000",
            "2023-01-02T00:00:00.000000000",
            "2023-01-03T00:00:00.000000000",
            "2023-01-04T00:00:00.000000000",
            "2023-01-05T00:00:00.000000000",
            "2023-01-06T00:00:00.000000000",
            "2023-01-07T00:00:00.000000000",
            "2023-01-08T00:00:00.000000000",
            "2023-01-09T00:00:00.000000000",
            "2023-01-10T00:00:00.000000000",
            "2023-01-11T00:00:00.000000000",
            "2023-01-12T00:00:00.000000000",
            "2023-01-13T00:00:00.000000000",
            "2023-01-14T00:00:00.000000000",
            "2023-01-15T00:00:00.000000000",
            "2023-01-16T00:00:00.000000000",
            "2023-01-17T00:00:00.000000000",
            "2023-01-18T00:00:00.000000000",
            "2023-01-19T00:00:00.000000000",
            "2023-01-20T00:00:00.000000000",
            "2023-01-21T00:00:00.000000000",
            "2023-01-22T00:00:00.000000000",
            "2023-01-23T00:00:00.000000000"
           ],
           "y": {
            "bdata": "PwEBAUACkQDYAWkCxgDfA0wDiAB7AcABVAKRARgBwgLGAB8D1wAiAWABBAFjAQ==",
            "dtype": "i2"
           }
          }
         ],
         "name": "2023-01-23 00:00:00"
        },
        {
         "data": [
          {
           "mode": "markers+lines",
           "type": "scatter",
           "x": [
            "2023-01-01T00:00:00.000000000",
            "2023-01-02T00:00:00.000000000",
            "2023-01-03T00:00:00.000000000",
            "2023-01-04T00:00:00.000000000",
            "2023-01-05T00:00:00.000000000",
            "2023-01-06T00:00:00.000000000",
            "2023-01-07T00:00:00.000000000",
            "2023-01-08T00:00:00.000000000",
            "2023-01-09T00:00:00.000000000",
            "2023-01-10T00:00:00.000000000",
            "2023-01-11T00:00:00.000000000",
            "2023-01-12T00:00:00.000000000",
            "2023-01-13T00:00:00.000000000",
            "2023-01-14T00:00:00.000000000",
            "2023-01-15T00:00:00.000000000",
            "2023-01-16T00:00:00.000000000",
            "2023-01-17T00:00:00.000000000",
            "2023-01-18T00:00:00.000000000",
            "2023-01-19T00:00:00.000000000",
            "2023-01-20T00:00:00.000000000",
            "2023-01-21T00:00:00.000000000",
            "2023-01-22T00:00:00.000000000",
            "2023-01-23T00:00:00.000000000",
            "2023-01-24T00:00:00.000000000"
           ],
           "y": {
            "bdata": "PwEBAUACkQDYAWkCxgDfA0wDiAB7AcABVAKRARgBwgLGAB8D1wAiAWABBAFjAaYB",
            "dtype": "i2"
           }
          }
         ],
         "name": "2023-01-24 00:00:00"
        },
        {
         "data": [
          {
           "mode": "markers+lines",
           "type": "scatter",
           "x": [
            "2023-01-01T00:00:00.000000000",
            "2023-01-02T00:00:00.000000000",
            "2023-01-03T00:00:00.000000000",
            "2023-01-04T00:00:00.000000000",
            "2023-01-05T00:00:00.000000000",
            "2023-01-06T00:00:00.000000000",
            "2023-01-07T00:00:00.000000000",
            "2023-01-08T00:00:00.000000000",
            "2023-01-09T00:00:00.000000000",
            "2023-01-10T00:00:00.000000000",
            "2023-01-11T00:00:00.000000000",
            "2023-01-12T00:00:00.000000000",
            "2023-01-13T00:00:00.000000000",
            "2023-01-14T00:00:00.000000000",
            "2023-01-15T00:00:00.000000000",
            "2023-01-16T00:00:00.000000000",
            "2023-01-17T00:00:00.000000000",
            "2023-01-18T00:00:00.000000000",
            "2023-01-19T00:00:00.000000000",
            "2023-01-20T00:00:00.000000000",
            "2023-01-21T00:00:00.000000000",
            "2023-01-22T00:00:00.000000000",
            "2023-01-23T00:00:00.000000000",
            "2023-01-24T00:00:00.000000000",
            "2023-01-25T00:00:00.000000000"
           ],
           "y": {
            "bdata": "PwEBAUACkQDYAWkCxgDfA0wDiAB7AcABVAKRARgBwgLGAB8D1wAiAWABBAFjAaYB4wA=",
            "dtype": "i2"
           }
          }
         ],
         "name": "2023-01-25 00:00:00"
        },
        {
         "data": [
          {
           "mode": "markers+lines",
           "type": "scatter",
           "x": [
            "2023-01-01T00:00:00.000000000",
            "2023-01-02T00:00:00.000000000",
            "2023-01-03T00:00:00.000000000",
            "2023-01-04T00:00:00.000000000",
            "2023-01-05T00:00:00.000000000",
            "2023-01-06T00:00:00.000000000",
            "2023-01-07T00:00:00.000000000",
            "2023-01-08T00:00:00.000000000",
            "2023-01-09T00:00:00.000000000",
            "2023-01-10T00:00:00.000000000",
            "2023-01-11T00:00:00.000000000",
            "2023-01-12T00:00:00.000000000",
            "2023-01-13T00:00:00.000000000",
            "2023-01-14T00:00:00.000000000",
            "2023-01-15T00:00:00.000000000",
            "2023-01-16T00:00:00.000000000",
            "2023-01-17T00:00:00.000000000",
            "2023-01-18T00:00:00.000000000",
            "2023-01-19T00:00:00.000000000",
            "2023-01-20T00:00:00.000000000",
            "2023-01-21T00:00:00.000000000",
            "2023-01-22T00:00:00.000000000",
            "2023-01-23T00:00:00.000000000",
            "2023-01-24T00:00:00.000000000",
            "2023-01-25T00:00:00.000000000",
            "2023-01-26T00:00:00.000000000"
           ],
           "y": {
            "bdata": "PwEBAUACkQDYAWkCxgDfA0wDiAB7AcABVAKRARgBwgLGAB8D1wAiAWABBAFjAaYB4wB1AA==",
            "dtype": "i2"
           }
          }
         ],
         "name": "2023-01-26 00:00:00"
        },
        {
         "data": [
          {
           "mode": "markers+lines",
           "type": "scatter",
           "x": [
            "2023-01-01T00:00:00.000000000",
            "2023-01-02T00:00:00.000000000",
            "2023-01-03T00:00:00.000000000",
            "2023-01-04T00:00:00.000000000",
            "2023-01-05T00:00:00.000000000",
            "2023-01-06T00:00:00.000000000",
            "2023-01-07T00:00:00.000000000",
            "2023-01-08T00:00:00.000000000",
            "2023-01-09T00:00:00.000000000",
            "2023-01-10T00:00:00.000000000",
            "2023-01-11T00:00:00.000000000",
            "2023-01-12T00:00:00.000000000",
            "2023-01-13T00:00:00.000000000",
            "2023-01-14T00:00:00.000000000",
            "2023-01-15T00:00:00.000000000",
            "2023-01-16T00:00:00.000000000",
            "2023-01-17T00:00:00.000000000",
            "2023-01-18T00:00:00.000000000",
            "2023-01-19T00:00:00.000000000",
            "2023-01-20T00:00:00.000000000",
            "2023-01-21T00:00:00.000000000",
            "2023-01-22T00:00:00.000000000",
            "2023-01-23T00:00:00.000000000",
            "2023-01-24T00:00:00.000000000",
            "2023-01-25T00:00:00.000000000",
            "2023-01-26T00:00:00.000000000",
            "2023-01-27T00:00:00.000000000"
           ],
           "y": {
            "bdata": "PwEBAUACkQDYAWkCxgDfA0wDiAB7AcABVAKRARgBwgLGAB8D1wAiAWABBAFjAaYB4wB1AHwD",
            "dtype": "i2"
           }
          }
         ],
         "name": "2023-01-27 00:00:00"
        },
        {
         "data": [
          {
           "mode": "markers+lines",
           "type": "scatter",
           "x": [
            "2023-01-01T00:00:00.000000000",
            "2023-01-02T00:00:00.000000000",
            "2023-01-03T00:00:00.000000000",
            "2023-01-04T00:00:00.000000000",
            "2023-01-05T00:00:00.000000000",
            "2023-01-06T00:00:00.000000000",
            "2023-01-07T00:00:00.000000000",
            "2023-01-08T00:00:00.000000000",
            "2023-01-09T00:00:00.000000000",
            "2023-01-10T00:00:00.000000000",
            "2023-01-11T00:00:00.000000000",
            "2023-01-12T00:00:00.000000000",
            "2023-01-13T00:00:00.000000000",
            "2023-01-14T00:00:00.000000000",
            "2023-01-15T00:00:00.000000000",
            "2023-01-16T00:00:00.000000000",
            "2023-01-17T00:00:00.000000000",
            "2023-01-18T00:00:00.000000000",
            "2023-01-19T00:00:00.000000000",
            "2023-01-20T00:00:00.000000000",
            "2023-01-21T00:00:00.000000000",
            "2023-01-22T00:00:00.000000000",
            "2023-01-23T00:00:00.000000000",
            "2023-01-24T00:00:00.000000000",
            "2023-01-25T00:00:00.000000000",
            "2023-01-26T00:00:00.000000000",
            "2023-01-27T00:00:00.000000000",
            "2023-01-28T00:00:00.000000000"
           ],
           "y": {
            "bdata": "PwEBAUACkQDYAWkCxgDfA0wDiAB7AcABVAKRARgBwgLGAB8D1wAiAWABBAFjAaYB4wB1AHwDQgM=",
            "dtype": "i2"
           }
          }
         ],
         "name": "2023-01-28 00:00:00"
        },
        {
         "data": [
          {
           "mode": "markers+lines",
           "type": "scatter",
           "x": [
            "2023-01-01T00:00:00.000000000",
            "2023-01-02T00:00:00.000000000",
            "2023-01-03T00:00:00.000000000",
            "2023-01-04T00:00:00.000000000",
            "2023-01-05T00:00:00.000000000",
            "2023-01-06T00:00:00.000000000",
            "2023-01-07T00:00:00.000000000",
            "2023-01-08T00:00:00.000000000",
            "2023-01-09T00:00:00.000000000",
            "2023-01-10T00:00:00.000000000",
            "2023-01-11T00:00:00.000000000",
            "2023-01-12T00:00:00.000000000",
            "2023-01-13T00:00:00.000000000",
            "2023-01-14T00:00:00.000000000",
            "2023-01-15T00:00:00.000000000",
            "2023-01-16T00:00:00.000000000",
            "2023-01-17T00:00:00.000000000",
            "2023-01-18T00:00:00.000000000",
            "2023-01-19T00:00:00.000000000",
            "2023-01-20T00:00:00.000000000",
            "2023-01-21T00:00:00.000000000",
            "2023-01-22T00:00:00.000000000",
            "2023-01-23T00:00:00.000000000",
            "2023-01-24T00:00:00.000000000",
            "2023-01-25T00:00:00.000000000",
            "2023-01-26T00:00:00.000000000",
            "2023-01-27T00:00:00.000000000",
            "2023-01-28T00:00:00.000000000",
            "2023-01-29T00:00:00.000000000"
           ],
           "y": {
            "bdata": "PwEBAUACkQDYAWkCxgDfA0wDiAB7AcABVAKRARgBwgLGAB8D1wAiAWABBAFjAaYB4wB1AHwDQgOZAg==",
            "dtype": "i2"
           }
          }
         ],
         "name": "2023-01-29 00:00:00"
        },
        {
         "data": [
          {
           "mode": "markers+lines",
           "type": "scatter",
           "x": [
            "2023-01-01T00:00:00.000000000",
            "2023-01-02T00:00:00.000000000",
            "2023-01-03T00:00:00.000000000",
            "2023-01-04T00:00:00.000000000",
            "2023-01-05T00:00:00.000000000",
            "2023-01-06T00:00:00.000000000",
            "2023-01-07T00:00:00.000000000",
            "2023-01-08T00:00:00.000000000",
            "2023-01-09T00:00:00.000000000",
            "2023-01-10T00:00:00.000000000",
            "2023-01-11T00:00:00.000000000",
            "2023-01-12T00:00:00.000000000",
            "2023-01-13T00:00:00.000000000",
            "2023-01-14T00:00:00.000000000",
            "2023-01-15T00:00:00.000000000",
            "2023-01-16T00:00:00.000000000",
            "2023-01-17T00:00:00.000000000",
            "2023-01-18T00:00:00.000000000",
            "2023-01-19T00:00:00.000000000",
            "2023-01-20T00:00:00.000000000",
            "2023-01-21T00:00:00.000000000",
            "2023-01-22T00:00:00.000000000",
            "2023-01-23T00:00:00.000000000",
            "2023-01-24T00:00:00.000000000",
            "2023-01-25T00:00:00.000000000",
            "2023-01-26T00:00:00.000000000",
            "2023-01-27T00:00:00.000000000",
            "2023-01-28T00:00:00.000000000",
            "2023-01-29T00:00:00.000000000",
            "2023-01-30T00:00:00.000000000"
           ],
           "y": {
            "bdata": "PwEBAUACkQDYAWkCxgDfA0wDiAB7AcABVAKRARgBwgLGAB8D1wAiAWABBAFjAaYB4wB1AHwDQgOZAp0C",
            "dtype": "i2"
           }
          }
         ],
         "name": "2023-01-30 00:00:00"
        }
       ],
       "layout": {
        "template": {
         "data": {
          "bar": [
           {
            "error_x": {
             "color": "#2a3f5f"
            },
            "error_y": {
             "color": "#2a3f5f"
            },
            "marker": {
             "line": {
              "color": "#E5ECF6",
              "width": 0.5
             },
             "pattern": {
              "fillmode": "overlay",
              "size": 10,
              "solidity": 0.2
             }
            },
            "type": "bar"
           }
          ],
          "barpolar": [
           {
            "marker": {
             "line": {
              "color": "#E5ECF6",
              "width": 0.5
             },
             "pattern": {
              "fillmode": "overlay",
              "size": 10,
              "solidity": 0.2
             }
            },
            "type": "barpolar"
           }
          ],
          "carpet": [
           {
            "aaxis": {
             "endlinecolor": "#2a3f5f",
             "gridcolor": "white",
             "linecolor": "white",
             "minorgridcolor": "white",
             "startlinecolor": "#2a3f5f"
            },
            "baxis": {
             "endlinecolor": "#2a3f5f",
             "gridcolor": "white",
             "linecolor": "white",
             "minorgridcolor": "white",
             "startlinecolor": "#2a3f5f"
            },
            "type": "carpet"
           }
          ],
          "choropleth": [
           {
            "colorbar": {
             "outlinewidth": 0,
             "ticks": ""
            },
            "type": "choropleth"
           }
          ],
          "contour": [
           {
            "colorbar": {
             "outlinewidth": 0,
             "ticks": ""
            },
            "colorscale": [
             [
              0,
              "#0d0887"
             ],
             [
              0.1111111111111111,
              "#46039f"
             ],
             [
              0.2222222222222222,
              "#7201a8"
             ],
             [
              0.3333333333333333,
              "#9c179e"
             ],
             [
              0.4444444444444444,
              "#bd3786"
             ],
             [
              0.5555555555555556,
              "#d8576b"
             ],
             [
              0.6666666666666666,
              "#ed7953"
             ],
             [
              0.7777777777777778,
              "#fb9f3a"
             ],
             [
              0.8888888888888888,
              "#fdca26"
             ],
             [
              1,
              "#f0f921"
             ]
            ],
            "type": "contour"
           }
          ],
          "contourcarpet": [
           {
            "colorbar": {
             "outlinewidth": 0,
             "ticks": ""
            },
            "type": "contourcarpet"
           }
          ],
          "heatmap": [
           {
            "colorbar": {
             "outlinewidth": 0,
             "ticks": ""
            },
            "colorscale": [
             [
              0,
              "#0d0887"
             ],
             [
              0.1111111111111111,
              "#46039f"
             ],
             [
              0.2222222222222222,
              "#7201a8"
             ],
             [
              0.3333333333333333,
              "#9c179e"
             ],
             [
              0.4444444444444444,
              "#bd3786"
             ],
             [
              0.5555555555555556,
              "#d8576b"
             ],
             [
              0.6666666666666666,
              "#ed7953"
             ],
             [
              0.7777777777777778,
              "#fb9f3a"
             ],
             [
              0.8888888888888888,
              "#fdca26"
             ],
             [
              1,
              "#f0f921"
             ]
            ],
            "type": "heatmap"
           }
          ],
          "histogram": [
           {
            "marker": {
             "pattern": {
              "fillmode": "overlay",
              "size": 10,
              "solidity": 0.2
             }
            },
            "type": "histogram"
           }
          ],
          "histogram2d": [
           {
            "colorbar": {
             "outlinewidth": 0,
             "ticks": ""
            },
            "colorscale": [
             [
              0,
              "#0d0887"
             ],
             [
              0.1111111111111111,
              "#46039f"
             ],
             [
              0.2222222222222222,
              "#7201a8"
             ],
             [
              0.3333333333333333,
              "#9c179e"
             ],
             [
              0.4444444444444444,
              "#bd3786"
             ],
             [
              0.5555555555555556,
              "#d8576b"
             ],
             [
              0.6666666666666666,
              "#ed7953"
             ],
             [
              0.7777777777777778,
              "#fb9f3a"
             ],
             [
              0.8888888888888888,
              "#fdca26"
             ],
             [
              1,
              "#f0f921"
             ]
            ],
            "type": "histogram2d"
           }
          ],
          "histogram2dcontour": [
           {
            "colorbar": {
             "outlinewidth": 0,
             "ticks": ""
            },
            "colorscale": [
             [
              0,
              "#0d0887"
             ],
             [
              0.1111111111111111,
              "#46039f"
             ],
             [
              0.2222222222222222,
              "#7201a8"
             ],
             [
              0.3333333333333333,
              "#9c179e"
             ],
             [
              0.4444444444444444,
              "#bd3786"
             ],
             [
              0.5555555555555556,
              "#d8576b"
             ],
             [
              0.6666666666666666,
              "#ed7953"
             ],
             [
              0.7777777777777778,
              "#fb9f3a"
             ],
             [
              0.8888888888888888,
              "#fdca26"
             ],
             [
              1,
              "#f0f921"
             ]
            ],
            "type": "histogram2dcontour"
           }
          ],
          "mesh3d": [
           {
            "colorbar": {
             "outlinewidth": 0,
             "ticks": ""
            },
            "type": "mesh3d"
           }
          ],
          "parcoords": [
           {
            "line": {
             "colorbar": {
              "outlinewidth": 0,
              "ticks": ""
             }
            },
            "type": "parcoords"
           }
          ],
          "pie": [
           {
            "automargin": true,
            "type": "pie"
           }
          ],
          "scatter": [
           {
            "fillpattern": {
             "fillmode": "overlay",
             "size": 10,
             "solidity": 0.2
            },
            "type": "scatter"
           }
          ],
          "scatter3d": [
           {
            "line": {
             "colorbar": {
              "outlinewidth": 0,
              "ticks": ""
             }
            },
            "marker": {
             "colorbar": {
              "outlinewidth": 0,
              "ticks": ""
             }
            },
            "type": "scatter3d"
           }
          ],
          "scattercarpet": [
           {
            "marker": {
             "colorbar": {
              "outlinewidth": 0,
              "ticks": ""
             }
            },
            "type": "scattercarpet"
           }
          ],
          "scattergeo": [
           {
            "marker": {
             "colorbar": {
              "outlinewidth": 0,
              "ticks": ""
             }
            },
            "type": "scattergeo"
           }
          ],
          "scattergl": [
           {
            "marker": {
             "colorbar": {
              "outlinewidth": 0,
              "ticks": ""
             }
            },
            "type": "scattergl"
           }
          ],
          "scattermap": [
           {
            "marker": {
             "colorbar": {
              "outlinewidth": 0,
              "ticks": ""
             }
            },
            "type": "scattermap"
           }
          ],
          "scattermapbox": [
           {
            "marker": {
             "colorbar": {
              "outlinewidth": 0,
              "ticks": ""
             }
            },
            "type": "scattermapbox"
           }
          ],
          "scatterpolar": [
           {
            "marker": {
             "colorbar": {
              "outlinewidth": 0,
              "ticks": ""
             }
            },
            "type": "scatterpolar"
           }
          ],
          "scatterpolargl": [
           {
            "marker": {
             "colorbar": {
              "outlinewidth": 0,
              "ticks": ""
             }
            },
            "type": "scatterpolargl"
           }
          ],
          "scatterternary": [
           {
            "marker": {
             "colorbar": {
              "outlinewidth": 0,
              "ticks": ""
             }
            },
            "type": "scatterternary"
           }
          ],
          "surface": [
           {
            "colorbar": {
             "outlinewidth": 0,
             "ticks": ""
            },
            "colorscale": [
             [
              0,
              "#0d0887"
             ],
             [
              0.1111111111111111,
              "#46039f"
             ],
             [
              0.2222222222222222,
              "#7201a8"
             ],
             [
              0.3333333333333333,
              "#9c179e"
             ],
             [
              0.4444444444444444,
              "#bd3786"
             ],
             [
              0.5555555555555556,
              "#d8576b"
             ],
             [
              0.6666666666666666,
              "#ed7953"
             ],
             [
              0.7777777777777778,
              "#fb9f3a"
             ],
             [
              0.8888888888888888,
              "#fdca26"
             ],
             [
              1,
              "#f0f921"
             ]
            ],
            "type": "surface"
           }
          ],
          "table": [
           {
            "cells": {
             "fill": {
              "color": "#EBF0F8"
             },
             "line": {
              "color": "white"
             }
            },
            "header": {
             "fill": {
              "color": "#C8D4E3"
             },
             "line": {
              "color": "white"
             }
            },
            "type": "table"
           }
          ]
         },
         "layout": {
          "annotationdefaults": {
           "arrowcolor": "#2a3f5f",
           "arrowhead": 0,
           "arrowwidth": 1
          },
          "autotypenumbers": "strict",
          "coloraxis": {
           "colorbar": {
            "outlinewidth": 0,
            "ticks": ""
           }
          },
          "colorscale": {
           "diverging": [
            [
             0,
             "#8e0152"
            ],
            [
             0.1,
             "#c51b7d"
            ],
            [
             0.2,
             "#de77ae"
            ],
            [
             0.3,
             "#f1b6da"
            ],
            [
             0.4,
             "#fde0ef"
            ],
            [
             0.5,
             "#f7f7f7"
            ],
            [
             0.6,
             "#e6f5d0"
            ],
            [
             0.7,
             "#b8e186"
            ],
            [
             0.8,
             "#7fbc41"
            ],
            [
             0.9,
             "#4d9221"
            ],
            [
             1,
             "#276419"
            ]
           ],
           "sequential": [
            [
             0,
             "#0d0887"
            ],
            [
             0.1111111111111111,
             "#46039f"
            ],
            [
             0.2222222222222222,
             "#7201a8"
            ],
            [
             0.3333333333333333,
             "#9c179e"
            ],
            [
             0.4444444444444444,
             "#bd3786"
            ],
            [
             0.5555555555555556,
             "#d8576b"
            ],
            [
             0.6666666666666666,
             "#ed7953"
            ],
            [
             0.7777777777777778,
             "#fb9f3a"
            ],
            [
             0.8888888888888888,
             "#fdca26"
            ],
            [
             1,
             "#f0f921"
            ]
           ],
           "sequentialminus": [
            [
             0,
             "#0d0887"
            ],
            [
             0.1111111111111111,
             "#46039f"
            ],
            [
             0.2222222222222222,
             "#7201a8"
            ],
            [
             0.3333333333333333,
             "#9c179e"
            ],
            [
             0.4444444444444444,
             "#bd3786"
            ],
            [
             0.5555555555555556,
             "#d8576b"
            ],
            [
             0.6666666666666666,
             "#ed7953"
            ],
            [
             0.7777777777777778,
             "#fb9f3a"
            ],
            [
             0.8888888888888888,
             "#fdca26"
            ],
            [
             1,
             "#f0f921"
            ]
           ]
          },
          "colorway": [
           "#636efa",
           "#EF553B",
           "#00cc96",
           "#ab63fa",
           "#FFA15A",
           "#19d3f3",
           "#FF6692",
           "#B6E880",
           "#FF97FF",
           "#FECB52"
          ],
          "font": {
           "color": "#2a3f5f"
          },
          "geo": {
           "bgcolor": "white",
           "lakecolor": "white",
           "landcolor": "#E5ECF6",
           "showlakes": true,
           "showland": true,
           "subunitcolor": "white"
          },
          "hoverlabel": {
           "align": "left"
          },
          "hovermode": "closest",
          "mapbox": {
           "style": "light"
          },
          "paper_bgcolor": "white",
          "plot_bgcolor": "#E5ECF6",
          "polar": {
           "angularaxis": {
            "gridcolor": "white",
            "linecolor": "white",
            "ticks": ""
           },
           "bgcolor": "#E5ECF6",
           "radialaxis": {
            "gridcolor": "white",
            "linecolor": "white",
            "ticks": ""
           }
          },
          "scene": {
           "xaxis": {
            "backgroundcolor": "#E5ECF6",
            "gridcolor": "white",
            "gridwidth": 2,
            "linecolor": "white",
            "showbackground": true,
            "ticks": "",
            "zerolinecolor": "white"
           },
           "yaxis": {
            "backgroundcolor": "#E5ECF6",
            "gridcolor": "white",
            "gridwidth": 2,
            "linecolor": "white",
            "showbackground": true,
            "ticks": "",
            "zerolinecolor": "white"
           },
           "zaxis": {
            "backgroundcolor": "#E5ECF6",
            "gridcolor": "white",
            "gridwidth": 2,
            "linecolor": "white",
            "showbackground": true,
            "ticks": "",
            "zerolinecolor": "white"
           }
          },
          "shapedefaults": {
           "line": {
            "color": "#2a3f5f"
           }
          },
          "ternary": {
           "aaxis": {
            "gridcolor": "white",
            "linecolor": "white",
            "ticks": ""
           },
           "baxis": {
            "gridcolor": "white",
            "linecolor": "white",
            "ticks": ""
           },
           "bgcolor": "#E5ECF6",
           "caxis": {
            "gridcolor": "white",
            "linecolor": "white",
            "ticks": ""
           }
          },
          "title": {
           "x": 0.05
          },
          "xaxis": {
           "automargin": true,
           "gridcolor": "white",
           "linecolor": "white",
           "ticks": "",
           "title": {
            "standoff": 15
           },
           "zerolinecolor": "white",
           "zerolinewidth": 2
          },
          "yaxis": {
           "automargin": true,
           "gridcolor": "white",
           "linecolor": "white",
           "ticks": "",
           "title": {
            "standoff": 15
           },
           "zerolinecolor": "white",
           "zerolinewidth": 2
          }
         }
        },
        "title": {
         "text": "COVID-19 확진자 시계열 차트"
        },
        "updatemenus": [
         {
          "buttons": [
           {
            "args": [
             null,
             {
              "frame": {
               "duration": 500,
               "redraw": true
              },
              "fromcurrent": true
             }
            ],
            "label": "Play",
            "method": "animate"
           },
           {
            "args": [
             [
              null
             ],
             {
              "frame": {
               "duration": 0,
               "redraw": true
              },
              "mode": "immediate",
              "transition": {
               "duration": 0
              }
             }
            ],
            "label": "Pause",
            "method": "animate"
           }
          ],
          "direction": "left",
          "pad": {
           "r": 10,
           "t": 87
          },
          "showactive": false,
          "type": "buttons",
          "x": 0.1,
          "xanchor": "right",
          "y": 0,
          "yanchor": "top"
         }
        ],
        "xaxis": {
         "range": [
          "2023-01-01T00:00:00",
          "2023-01-30T00:00:00"
         ],
         "title": {
          "text": "날짜"
         }
        },
        "yaxis": {
         "range": [
          0,
          1091
         ],
         "title": {
          "text": "확진자 수"
         }
        }
       }
      }
     },
     "metadata": {},
     "output_type": "display_data"
    }
   ],
   "source": [
    "import plotly.graph_objects as go\n",
    "import pandas as pd\n",
    "import numpy as np\n",
    "\n",
    "# 가상 COVID-19 데이터 생성\n",
    "dates = pd.date_range(start='2023-01-01', periods=30, freq='D')\n",
    "cases = np.random.randint(100, 1000, size=30)\n",
    "df = pd.DataFrame({'Date': dates, 'Cases': cases})\n",
    "\n",
    "# 초기 데이터 설정 (첫 날짜 데이터)\n",
    "initial_date = df['Date'].iloc[0]\n",
    "initial_cases = df[df['Date'] == initial_date]['Cases'].values\n",
    "\n",
    "fig = go.Figure(\n",
    "    data=[go.Scatter(x=[initial_date], y=initial_cases, mode='markers+lines', name='확진자 수')],\n",
    "    layout=go.Layout(\n",
    "        title=\"COVID-19 확진자 시계열 차트\",\n",
    "        xaxis=dict(title=\"날짜\", range=[dates.min(), dates.max()]),\n",
    "        yaxis=dict(title=\"확진자 수\", range=[0, df['Cases'].max()+100]),\n",
    "        updatemenus=[{\n",
    "            \"buttons\": [\n",
    "                {\n",
    "                    \"args\": [None, {\"frame\": {\"duration\": 500, \"redraw\": True},\n",
    "                                    \"fromcurrent\": True}],\n",
    "                    \"label\": \"Play\",\n",
    "                    \"method\": \"animate\"\n",
    "                },\n",
    "                {\n",
    "                    \"args\": [[None], {\"frame\": {\"duration\": 0, \"redraw\": True},\n",
    "                                      \"mode\": \"immediate\",\n",
    "                                      \"transition\": {\"duration\": 0}}],\n",
    "                    \"label\": \"Pause\",\n",
    "                    \"method\": \"animate\"\n",
    "                }\n",
    "            ],\n",
    "            \"direction\": \"left\",\n",
    "            \"pad\": {\"r\": 10, \"t\": 87},\n",
    "            \"showactive\": False,\n",
    "            \"type\": \"buttons\",\n",
    "            \"x\": 0.1,\n",
    "            \"xanchor\": \"right\",\n",
    "            \"y\": 0,\n",
    "            \"yanchor\": \"top\"\n",
    "        }]\n",
    "    ),\n",
    "    frames=[\n",
    "        go.Frame(\n",
    "            data=[go.Scatter(x=df['Date'][:k+1], y=df['Cases'][:k+1], mode='markers+lines')],\n",
    "            name=str(date)\n",
    "        )\n",
    "        for k, date in enumerate(df['Date'])\n",
    "    ]\n",
    ")\n",
    "\n",
    "fig.show()\n"
   ]
  },
  {
   "cell_type": "markdown",
   "metadata": {},
   "source": [
    "## 2: COVID-19 시계열 차트와 슬라이더 애니메이션\n",
    "- 가상의 COVID-19 확진자 데이터를 시간에 따라 애니메이션으로 표현하는 시계열 차트를 만들어보세요. 슬라이더와 Play/Pause 버튼을 추가하여 데이터의 변화를 확인할 수 있도록 하세요."
   ]
  },
  {
   "cell_type": "code",
   "execution_count": 17,
   "metadata": {},
   "outputs": [
    {
     "data": {
      "application/vnd.plotly.v1+json": {
       "config": {
        "plotlyServerURL": "https://plot.ly"
       },
       "data": [
        {
         "mode": "markers+lines",
         "name": "확진자 수",
         "type": "scatter",
         "x": [
          "2023-01-01T00:00:00"
         ],
         "y": {
          "bdata": "XwM=",
          "dtype": "i2"
         }
        }
       ],
       "frames": [
        {
         "data": [
          {
           "mode": "markers+lines",
           "type": "scatter",
           "x": [
            "2023-01-01T00:00:00.000000000"
           ],
           "y": {
            "bdata": "XwM=",
            "dtype": "i2"
           }
          }
         ],
         "name": "2023-01-01 00:00:00"
        },
        {
         "data": [
          {
           "mode": "markers+lines",
           "type": "scatter",
           "x": [
            "2023-01-01T00:00:00.000000000",
            "2023-01-02T00:00:00.000000000"
           ],
           "y": {
            "bdata": "XwNIAQ==",
            "dtype": "i2"
           }
          }
         ],
         "name": "2023-01-02 00:00:00"
        },
        {
         "data": [
          {
           "mode": "markers+lines",
           "type": "scatter",
           "x": [
            "2023-01-01T00:00:00.000000000",
            "2023-01-02T00:00:00.000000000",
            "2023-01-03T00:00:00.000000000"
           ],
           "y": {
            "bdata": "XwNIAQcD",
            "dtype": "i2"
           }
          }
         ],
         "name": "2023-01-03 00:00:00"
        },
        {
         "data": [
          {
           "mode": "markers+lines",
           "type": "scatter",
           "x": [
            "2023-01-01T00:00:00.000000000",
            "2023-01-02T00:00:00.000000000",
            "2023-01-03T00:00:00.000000000",
            "2023-01-04T00:00:00.000000000"
           ],
           "y": {
            "bdata": "XwNIAQcDRgE=",
            "dtype": "i2"
           }
          }
         ],
         "name": "2023-01-04 00:00:00"
        },
        {
         "data": [
          {
           "mode": "markers+lines",
           "type": "scatter",
           "x": [
            "2023-01-01T00:00:00.000000000",
            "2023-01-02T00:00:00.000000000",
            "2023-01-03T00:00:00.000000000",
            "2023-01-04T00:00:00.000000000",
            "2023-01-05T00:00:00.000000000"
           ],
           "y": {
            "bdata": "XwNIAQcDRgH2Ag==",
            "dtype": "i2"
           }
          }
         ],
         "name": "2023-01-05 00:00:00"
        },
        {
         "data": [
          {
           "mode": "markers+lines",
           "type": "scatter",
           "x": [
            "2023-01-01T00:00:00.000000000",
            "2023-01-02T00:00:00.000000000",
            "2023-01-03T00:00:00.000000000",
            "2023-01-04T00:00:00.000000000",
            "2023-01-05T00:00:00.000000000",
            "2023-01-06T00:00:00.000000000"
           ],
           "y": {
            "bdata": "XwNIAQcDRgH2AncC",
            "dtype": "i2"
           }
          }
         ],
         "name": "2023-01-06 00:00:00"
        },
        {
         "data": [
          {
           "mode": "markers+lines",
           "type": "scatter",
           "x": [
            "2023-01-01T00:00:00.000000000",
            "2023-01-02T00:00:00.000000000",
            "2023-01-03T00:00:00.000000000",
            "2023-01-04T00:00:00.000000000",
            "2023-01-05T00:00:00.000000000",
            "2023-01-06T00:00:00.000000000",
            "2023-01-07T00:00:00.000000000"
           ],
           "y": {
            "bdata": "XwNIAQcDRgH2AncCHAI=",
            "dtype": "i2"
           }
          }
         ],
         "name": "2023-01-07 00:00:00"
        },
        {
         "data": [
          {
           "mode": "markers+lines",
           "type": "scatter",
           "x": [
            "2023-01-01T00:00:00.000000000",
            "2023-01-02T00:00:00.000000000",
            "2023-01-03T00:00:00.000000000",
            "2023-01-04T00:00:00.000000000",
            "2023-01-05T00:00:00.000000000",
            "2023-01-06T00:00:00.000000000",
            "2023-01-07T00:00:00.000000000",
            "2023-01-08T00:00:00.000000000"
           ],
           "y": {
            "bdata": "XwNIAQcDRgH2AncCHAL1AQ==",
            "dtype": "i2"
           }
          }
         ],
         "name": "2023-01-08 00:00:00"
        },
        {
         "data": [
          {
           "mode": "markers+lines",
           "type": "scatter",
           "x": [
            "2023-01-01T00:00:00.000000000",
            "2023-01-02T00:00:00.000000000",
            "2023-01-03T00:00:00.000000000",
            "2023-01-04T00:00:00.000000000",
            "2023-01-05T00:00:00.000000000",
            "2023-01-06T00:00:00.000000000",
            "2023-01-07T00:00:00.000000000",
            "2023-01-08T00:00:00.000000000",
            "2023-01-09T00:00:00.000000000"
           ],
           "y": {
            "bdata": "XwNIAQcDRgH2AncCHAL1AZIA",
            "dtype": "i2"
           }
          }
         ],
         "name": "2023-01-09 00:00:00"
        },
        {
         "data": [
          {
           "mode": "markers+lines",
           "type": "scatter",
           "x": [
            "2023-01-01T00:00:00.000000000",
            "2023-01-02T00:00:00.000000000",
            "2023-01-03T00:00:00.000000000",
            "2023-01-04T00:00:00.000000000",
            "2023-01-05T00:00:00.000000000",
            "2023-01-06T00:00:00.000000000",
            "2023-01-07T00:00:00.000000000",
            "2023-01-08T00:00:00.000000000",
            "2023-01-09T00:00:00.000000000",
            "2023-01-10T00:00:00.000000000"
           ],
           "y": {
            "bdata": "XwNIAQcDRgH2AncCHAL1AZIATAE=",
            "dtype": "i2"
           }
          }
         ],
         "name": "2023-01-10 00:00:00"
        },
        {
         "data": [
          {
           "mode": "markers+lines",
           "type": "scatter",
           "x": [
            "2023-01-01T00:00:00.000000000",
            "2023-01-02T00:00:00.000000000",
            "2023-01-03T00:00:00.000000000",
            "2023-01-04T00:00:00.000000000",
            "2023-01-05T00:00:00.000000000",
            "2023-01-06T00:00:00.000000000",
            "2023-01-07T00:00:00.000000000",
            "2023-01-08T00:00:00.000000000",
            "2023-01-09T00:00:00.000000000",
            "2023-01-10T00:00:00.000000000",
            "2023-01-11T00:00:00.000000000"
           ],
           "y": {
            "bdata": "XwNIAQcDRgH2AncCHAL1AZIATAGUAQ==",
            "dtype": "i2"
           }
          }
         ],
         "name": "2023-01-11 00:00:00"
        },
        {
         "data": [
          {
           "mode": "markers+lines",
           "type": "scatter",
           "x": [
            "2023-01-01T00:00:00.000000000",
            "2023-01-02T00:00:00.000000000",
            "2023-01-03T00:00:00.000000000",
            "2023-01-04T00:00:00.000000000",
            "2023-01-05T00:00:00.000000000",
            "2023-01-06T00:00:00.000000000",
            "2023-01-07T00:00:00.000000000",
            "2023-01-08T00:00:00.000000000",
            "2023-01-09T00:00:00.000000000",
            "2023-01-10T00:00:00.000000000",
            "2023-01-11T00:00:00.000000000",
            "2023-01-12T00:00:00.000000000"
           ],
           "y": {
            "bdata": "XwNIAQcDRgH2AncCHAL1AZIATAGUAXEC",
            "dtype": "i2"
           }
          }
         ],
         "name": "2023-01-12 00:00:00"
        },
        {
         "data": [
          {
           "mode": "markers+lines",
           "type": "scatter",
           "x": [
            "2023-01-01T00:00:00.000000000",
            "2023-01-02T00:00:00.000000000",
            "2023-01-03T00:00:00.000000000",
            "2023-01-04T00:00:00.000000000",
            "2023-01-05T00:00:00.000000000",
            "2023-01-06T00:00:00.000000000",
            "2023-01-07T00:00:00.000000000",
            "2023-01-08T00:00:00.000000000",
            "2023-01-09T00:00:00.000000000",
            "2023-01-10T00:00:00.000000000",
            "2023-01-11T00:00:00.000000000",
            "2023-01-12T00:00:00.000000000",
            "2023-01-13T00:00:00.000000000"
           ],
           "y": {
            "bdata": "XwNIAQcDRgH2AncCHAL1AZIATAGUAXEC8gA=",
            "dtype": "i2"
           }
          }
         ],
         "name": "2023-01-13 00:00:00"
        },
        {
         "data": [
          {
           "mode": "markers+lines",
           "type": "scatter",
           "x": [
            "2023-01-01T00:00:00.000000000",
            "2023-01-02T00:00:00.000000000",
            "2023-01-03T00:00:00.000000000",
            "2023-01-04T00:00:00.000000000",
            "2023-01-05T00:00:00.000000000",
            "2023-01-06T00:00:00.000000000",
            "2023-01-07T00:00:00.000000000",
            "2023-01-08T00:00:00.000000000",
            "2023-01-09T00:00:00.000000000",
            "2023-01-10T00:00:00.000000000",
            "2023-01-11T00:00:00.000000000",
            "2023-01-12T00:00:00.000000000",
            "2023-01-13T00:00:00.000000000",
            "2023-01-14T00:00:00.000000000"
           ],
           "y": {
            "bdata": "XwNIAQcDRgH2AncCHAL1AZIATAGUAXEC8gACAg==",
            "dtype": "i2"
           }
          }
         ],
         "name": "2023-01-14 00:00:00"
        },
        {
         "data": [
          {
           "mode": "markers+lines",
           "type": "scatter",
           "x": [
            "2023-01-01T00:00:00.000000000",
            "2023-01-02T00:00:00.000000000",
            "2023-01-03T00:00:00.000000000",
            "2023-01-04T00:00:00.000000000",
            "2023-01-05T00:00:00.000000000",
            "2023-01-06T00:00:00.000000000",
            "2023-01-07T00:00:00.000000000",
            "2023-01-08T00:00:00.000000000",
            "2023-01-09T00:00:00.000000000",
            "2023-01-10T00:00:00.000000000",
            "2023-01-11T00:00:00.000000000",
            "2023-01-12T00:00:00.000000000",
            "2023-01-13T00:00:00.000000000",
            "2023-01-14T00:00:00.000000000",
            "2023-01-15T00:00:00.000000000"
           ],
           "y": {
            "bdata": "XwNIAQcDRgH2AncCHAL1AZIATAGUAXEC8gACAmQC",
            "dtype": "i2"
           }
          }
         ],
         "name": "2023-01-15 00:00:00"
        },
        {
         "data": [
          {
           "mode": "markers+lines",
           "type": "scatter",
           "x": [
            "2023-01-01T00:00:00.000000000",
            "2023-01-02T00:00:00.000000000",
            "2023-01-03T00:00:00.000000000",
            "2023-01-04T00:00:00.000000000",
            "2023-01-05T00:00:00.000000000",
            "2023-01-06T00:00:00.000000000",
            "2023-01-07T00:00:00.000000000",
            "2023-01-08T00:00:00.000000000",
            "2023-01-09T00:00:00.000000000",
            "2023-01-10T00:00:00.000000000",
            "2023-01-11T00:00:00.000000000",
            "2023-01-12T00:00:00.000000000",
            "2023-01-13T00:00:00.000000000",
            "2023-01-14T00:00:00.000000000",
            "2023-01-15T00:00:00.000000000",
            "2023-01-16T00:00:00.000000000"
           ],
           "y": {
            "bdata": "XwNIAQcDRgH2AncCHAL1AZIATAGUAXEC8gACAmQC2AE=",
            "dtype": "i2"
           }
          }
         ],
         "name": "2023-01-16 00:00:00"
        },
        {
         "data": [
          {
           "mode": "markers+lines",
           "type": "scatter",
           "x": [
            "2023-01-01T00:00:00.000000000",
            "2023-01-02T00:00:00.000000000",
            "2023-01-03T00:00:00.000000000",
            "2023-01-04T00:00:00.000000000",
            "2023-01-05T00:00:00.000000000",
            "2023-01-06T00:00:00.000000000",
            "2023-01-07T00:00:00.000000000",
            "2023-01-08T00:00:00.000000000",
            "2023-01-09T00:00:00.000000000",
            "2023-01-10T00:00:00.000000000",
            "2023-01-11T00:00:00.000000000",
            "2023-01-12T00:00:00.000000000",
            "2023-01-13T00:00:00.000000000",
            "2023-01-14T00:00:00.000000000",
            "2023-01-15T00:00:00.000000000",
            "2023-01-16T00:00:00.000000000",
            "2023-01-17T00:00:00.000000000"
           ],
           "y": {
            "bdata": "XwNIAQcDRgH2AncCHAL1AZIATAGUAXEC8gACAmQC2AGZAg==",
            "dtype": "i2"
           }
          }
         ],
         "name": "2023-01-17 00:00:00"
        },
        {
         "data": [
          {
           "mode": "markers+lines",
           "type": "scatter",
           "x": [
            "2023-01-01T00:00:00.000000000",
            "2023-01-02T00:00:00.000000000",
            "2023-01-03T00:00:00.000000000",
            "2023-01-04T00:00:00.000000000",
            "2023-01-05T00:00:00.000000000",
            "2023-01-06T00:00:00.000000000",
            "2023-01-07T00:00:00.000000000",
            "2023-01-08T00:00:00.000000000",
            "2023-01-09T00:00:00.000000000",
            "2023-01-10T00:00:00.000000000",
            "2023-01-11T00:00:00.000000000",
            "2023-01-12T00:00:00.000000000",
            "2023-01-13T00:00:00.000000000",
            "2023-01-14T00:00:00.000000000",
            "2023-01-15T00:00:00.000000000",
            "2023-01-16T00:00:00.000000000",
            "2023-01-17T00:00:00.000000000",
            "2023-01-18T00:00:00.000000000"
           ],
           "y": {
            "bdata": "XwNIAQcDRgH2AncCHAL1AZIATAGUAXEC8gACAmQC2AGZAtkD",
            "dtype": "i2"
           }
          }
         ],
         "name": "2023-01-18 00:00:00"
        },
        {
         "data": [
          {
           "mode": "markers+lines",
           "type": "scatter",
           "x": [
            "2023-01-01T00:00:00.000000000",
            "2023-01-02T00:00:00.000000000",
            "2023-01-03T00:00:00.000000000",
            "2023-01-04T00:00:00.000000000",
            "2023-01-05T00:00:00.000000000",
            "2023-01-06T00:00:00.000000000",
            "2023-01-07T00:00:00.000000000",
            "2023-01-08T00:00:00.000000000",
            "2023-01-09T00:00:00.000000000",
            "2023-01-10T00:00:00.000000000",
            "2023-01-11T00:00:00.000000000",
            "2023-01-12T00:00:00.000000000",
            "2023-01-13T00:00:00.000000000",
            "2023-01-14T00:00:00.000000000",
            "2023-01-15T00:00:00.000000000",
            "2023-01-16T00:00:00.000000000",
            "2023-01-17T00:00:00.000000000",
            "2023-01-18T00:00:00.000000000",
            "2023-01-19T00:00:00.000000000"
           ],
           "y": {
            "bdata": "XwNIAQcDRgH2AncCHAL1AZIATAGUAXEC8gACAmQC2AGZAtkDZgE=",
            "dtype": "i2"
           }
          }
         ],
         "name": "2023-01-19 00:00:00"
        },
        {
         "data": [
          {
           "mode": "markers+lines",
           "type": "scatter",
           "x": [
            "2023-01-01T00:00:00.000000000",
            "2023-01-02T00:00:00.000000000",
            "2023-01-03T00:00:00.000000000",
            "2023-01-04T00:00:00.000000000",
            "2023-01-05T00:00:00.000000000",
            "2023-01-06T00:00:00.000000000",
            "2023-01-07T00:00:00.000000000",
            "2023-01-08T00:00:00.000000000",
            "2023-01-09T00:00:00.000000000",
            "2023-01-10T00:00:00.000000000",
            "2023-01-11T00:00:00.000000000",
            "2023-01-12T00:00:00.000000000",
            "2023-01-13T00:00:00.000000000",
            "2023-01-14T00:00:00.000000000",
            "2023-01-15T00:00:00.000000000",
            "2023-01-16T00:00:00.000000000",
            "2023-01-17T00:00:00.000000000",
            "2023-01-18T00:00:00.000000000",
            "2023-01-19T00:00:00.000000000",
            "2023-01-20T00:00:00.000000000"
           ],
           "y": {
            "bdata": "XwNIAQcDRgH2AncCHAL1AZIATAGUAXEC8gACAmQC2AGZAtkDZgHzAg==",
            "dtype": "i2"
           }
          }
         ],
         "name": "2023-01-20 00:00:00"
        },
        {
         "data": [
          {
           "mode": "markers+lines",
           "type": "scatter",
           "x": [
            "2023-01-01T00:00:00.000000000",
            "2023-01-02T00:00:00.000000000",
            "2023-01-03T00:00:00.000000000",
            "2023-01-04T00:00:00.000000000",
            "2023-01-05T00:00:00.000000000",
            "2023-01-06T00:00:00.000000000",
            "2023-01-07T00:00:00.000000000",
            "2023-01-08T00:00:00.000000000",
            "2023-01-09T00:00:00.000000000",
            "2023-01-10T00:00:00.000000000",
            "2023-01-11T00:00:00.000000000",
            "2023-01-12T00:00:00.000000000",
            "2023-01-13T00:00:00.000000000",
            "2023-01-14T00:00:00.000000000",
            "2023-01-15T00:00:00.000000000",
            "2023-01-16T00:00:00.000000000",
            "2023-01-17T00:00:00.000000000",
            "2023-01-18T00:00:00.000000000",
            "2023-01-19T00:00:00.000000000",
            "2023-01-20T00:00:00.000000000",
            "2023-01-21T00:00:00.000000000"
           ],
           "y": {
            "bdata": "XwNIAQcDRgH2AncCHAL1AZIATAGUAXEC8gACAmQC2AGZAtkDZgHzAjoC",
            "dtype": "i2"
           }
          }
         ],
         "name": "2023-01-21 00:00:00"
        },
        {
         "data": [
          {
           "mode": "markers+lines",
           "type": "scatter",
           "x": [
            "2023-01-01T00:00:00.000000000",
            "2023-01-02T00:00:00.000000000",
            "2023-01-03T00:00:00.000000000",
            "2023-01-04T00:00:00.000000000",
            "2023-01-05T00:00:00.000000000",
            "2023-01-06T00:00:00.000000000",
            "2023-01-07T00:00:00.000000000",
            "2023-01-08T00:00:00.000000000",
            "2023-01-09T00:00:00.000000000",
            "2023-01-10T00:00:00.000000000",
            "2023-01-11T00:00:00.000000000",
            "2023-01-12T00:00:00.000000000",
            "2023-01-13T00:00:00.000000000",
            "2023-01-14T00:00:00.000000000",
            "2023-01-15T00:00:00.000000000",
            "2023-01-16T00:00:00.000000000",
            "2023-01-17T00:00:00.000000000",
            "2023-01-18T00:00:00.000000000",
            "2023-01-19T00:00:00.000000000",
            "2023-01-20T00:00:00.000000000",
            "2023-01-21T00:00:00.000000000",
            "2023-01-22T00:00:00.000000000"
           ],
           "y": {
            "bdata": "XwNIAQcDRgH2AncCHAL1AZIATAGUAXEC8gACAmQC2AGZAtkDZgHzAjoCbwA=",
            "dtype": "i2"
           }
          }
         ],
         "name": "2023-01-22 00:00:00"
        },
        {
         "data": [
          {
           "mode": "markers+lines",
           "type": "scatter",
           "x": [
            "2023-01-01T00:00:00.000000000",
            "2023-01-02T00:00:00.000000000",
            "2023-01-03T00:00:00.000000000",
            "2023-01-04T00:00:00.000000000",
            "2023-01-05T00:00:00.000000000",
            "2023-01-06T00:00:00.000000000",
            "2023-01-07T00:00:00.000000000",
            "2023-01-08T00:00:00.000000000",
            "2023-01-09T00:00:00.000000000",
            "2023-01-10T00:00:00.000000000",
            "2023-01-11T00:00:00.000000000",
            "2023-01-12T00:00:00.000000000",
            "2023-01-13T00:00:00.000000000",
            "2023-01-14T00:00:00.000000000",
            "2023-01-15T00:00:00.000000000",
            "2023-01-16T00:00:00.000000000",
            "2023-01-17T00:00:00.000000000",
            "2023-01-18T00:00:00.000000000",
            "2023-01-19T00:00:00.000000000",
            "2023-01-20T00:00:00.000000000",
            "2023-01-21T00:00:00.000000000",
            "2023-01-22T00:00:00.000000000",
            "2023-01-23T00:00:00.000000000"
           ],
           "y": {
            "bdata": "XwNIAQcDRgH2AncCHAL1AZIATAGUAXEC8gACAmQC2AGZAtkDZgHzAjoCbwCtAQ==",
            "dtype": "i2"
           }
          }
         ],
         "name": "2023-01-23 00:00:00"
        },
        {
         "data": [
          {
           "mode": "markers+lines",
           "type": "scatter",
           "x": [
            "2023-01-01T00:00:00.000000000",
            "2023-01-02T00:00:00.000000000",
            "2023-01-03T00:00:00.000000000",
            "2023-01-04T00:00:00.000000000",
            "2023-01-05T00:00:00.000000000",
            "2023-01-06T00:00:00.000000000",
            "2023-01-07T00:00:00.000000000",
            "2023-01-08T00:00:00.000000000",
            "2023-01-09T00:00:00.000000000",
            "2023-01-10T00:00:00.000000000",
            "2023-01-11T00:00:00.000000000",
            "2023-01-12T00:00:00.000000000",
            "2023-01-13T00:00:00.000000000",
            "2023-01-14T00:00:00.000000000",
            "2023-01-15T00:00:00.000000000",
            "2023-01-16T00:00:00.000000000",
            "2023-01-17T00:00:00.000000000",
            "2023-01-18T00:00:00.000000000",
            "2023-01-19T00:00:00.000000000",
            "2023-01-20T00:00:00.000000000",
            "2023-01-21T00:00:00.000000000",
            "2023-01-22T00:00:00.000000000",
            "2023-01-23T00:00:00.000000000",
            "2023-01-24T00:00:00.000000000"
           ],
           "y": {
            "bdata": "XwNIAQcDRgH2AncCHAL1AZIATAGUAXEC8gACAmQC2AGZAtkDZgHzAjoCbwCtAUMD",
            "dtype": "i2"
           }
          }
         ],
         "name": "2023-01-24 00:00:00"
        },
        {
         "data": [
          {
           "mode": "markers+lines",
           "type": "scatter",
           "x": [
            "2023-01-01T00:00:00.000000000",
            "2023-01-02T00:00:00.000000000",
            "2023-01-03T00:00:00.000000000",
            "2023-01-04T00:00:00.000000000",
            "2023-01-05T00:00:00.000000000",
            "2023-01-06T00:00:00.000000000",
            "2023-01-07T00:00:00.000000000",
            "2023-01-08T00:00:00.000000000",
            "2023-01-09T00:00:00.000000000",
            "2023-01-10T00:00:00.000000000",
            "2023-01-11T00:00:00.000000000",
            "2023-01-12T00:00:00.000000000",
            "2023-01-13T00:00:00.000000000",
            "2023-01-14T00:00:00.000000000",
            "2023-01-15T00:00:00.000000000",
            "2023-01-16T00:00:00.000000000",
            "2023-01-17T00:00:00.000000000",
            "2023-01-18T00:00:00.000000000",
            "2023-01-19T00:00:00.000000000",
            "2023-01-20T00:00:00.000000000",
            "2023-01-21T00:00:00.000000000",
            "2023-01-22T00:00:00.000000000",
            "2023-01-23T00:00:00.000000000",
            "2023-01-24T00:00:00.000000000",
            "2023-01-25T00:00:00.000000000"
           ],
           "y": {
            "bdata": "XwNIAQcDRgH2AncCHAL1AZIATAGUAXEC8gACAmQC2AGZAtkDZgHzAjoCbwCtAUMDcwM=",
            "dtype": "i2"
           }
          }
         ],
         "name": "2023-01-25 00:00:00"
        },
        {
         "data": [
          {
           "mode": "markers+lines",
           "type": "scatter",
           "x": [
            "2023-01-01T00:00:00.000000000",
            "2023-01-02T00:00:00.000000000",
            "2023-01-03T00:00:00.000000000",
            "2023-01-04T00:00:00.000000000",
            "2023-01-05T00:00:00.000000000",
            "2023-01-06T00:00:00.000000000",
            "2023-01-07T00:00:00.000000000",
            "2023-01-08T00:00:00.000000000",
            "2023-01-09T00:00:00.000000000",
            "2023-01-10T00:00:00.000000000",
            "2023-01-11T00:00:00.000000000",
            "2023-01-12T00:00:00.000000000",
            "2023-01-13T00:00:00.000000000",
            "2023-01-14T00:00:00.000000000",
            "2023-01-15T00:00:00.000000000",
            "2023-01-16T00:00:00.000000000",
            "2023-01-17T00:00:00.000000000",
            "2023-01-18T00:00:00.000000000",
            "2023-01-19T00:00:00.000000000",
            "2023-01-20T00:00:00.000000000",
            "2023-01-21T00:00:00.000000000",
            "2023-01-22T00:00:00.000000000",
            "2023-01-23T00:00:00.000000000",
            "2023-01-24T00:00:00.000000000",
            "2023-01-25T00:00:00.000000000",
            "2023-01-26T00:00:00.000000000"
           ],
           "y": {
            "bdata": "XwNIAQcDRgH2AncCHAL1AZIATAGUAXEC8gACAmQC2AGZAtkDZgHzAjoCbwCtAUMDcwPJAQ==",
            "dtype": "i2"
           }
          }
         ],
         "name": "2023-01-26 00:00:00"
        },
        {
         "data": [
          {
           "mode": "markers+lines",
           "type": "scatter",
           "x": [
            "2023-01-01T00:00:00.000000000",
            "2023-01-02T00:00:00.000000000",
            "2023-01-03T00:00:00.000000000",
            "2023-01-04T00:00:00.000000000",
            "2023-01-05T00:00:00.000000000",
            "2023-01-06T00:00:00.000000000",
            "2023-01-07T00:00:00.000000000",
            "2023-01-08T00:00:00.000000000",
            "2023-01-09T00:00:00.000000000",
            "2023-01-10T00:00:00.000000000",
            "2023-01-11T00:00:00.000000000",
            "2023-01-12T00:00:00.000000000",
            "2023-01-13T00:00:00.000000000",
            "2023-01-14T00:00:00.000000000",
            "2023-01-15T00:00:00.000000000",
            "2023-01-16T00:00:00.000000000",
            "2023-01-17T00:00:00.000000000",
            "2023-01-18T00:00:00.000000000",
            "2023-01-19T00:00:00.000000000",
            "2023-01-20T00:00:00.000000000",
            "2023-01-21T00:00:00.000000000",
            "2023-01-22T00:00:00.000000000",
            "2023-01-23T00:00:00.000000000",
            "2023-01-24T00:00:00.000000000",
            "2023-01-25T00:00:00.000000000",
            "2023-01-26T00:00:00.000000000",
            "2023-01-27T00:00:00.000000000"
           ],
           "y": {
            "bdata": "XwNIAQcDRgH2AncCHAL1AZIATAGUAXEC8gACAmQC2AGZAtkDZgHzAjoCbwCtAUMDcwPJAfsB",
            "dtype": "i2"
           }
          }
         ],
         "name": "2023-01-27 00:00:00"
        },
        {
         "data": [
          {
           "mode": "markers+lines",
           "type": "scatter",
           "x": [
            "2023-01-01T00:00:00.000000000",
            "2023-01-02T00:00:00.000000000",
            "2023-01-03T00:00:00.000000000",
            "2023-01-04T00:00:00.000000000",
            "2023-01-05T00:00:00.000000000",
            "2023-01-06T00:00:00.000000000",
            "2023-01-07T00:00:00.000000000",
            "2023-01-08T00:00:00.000000000",
            "2023-01-09T00:00:00.000000000",
            "2023-01-10T00:00:00.000000000",
            "2023-01-11T00:00:00.000000000",
            "2023-01-12T00:00:00.000000000",
            "2023-01-13T00:00:00.000000000",
            "2023-01-14T00:00:00.000000000",
            "2023-01-15T00:00:00.000000000",
            "2023-01-16T00:00:00.000000000",
            "2023-01-17T00:00:00.000000000",
            "2023-01-18T00:00:00.000000000",
            "2023-01-19T00:00:00.000000000",
            "2023-01-20T00:00:00.000000000",
            "2023-01-21T00:00:00.000000000",
            "2023-01-22T00:00:00.000000000",
            "2023-01-23T00:00:00.000000000",
            "2023-01-24T00:00:00.000000000",
            "2023-01-25T00:00:00.000000000",
            "2023-01-26T00:00:00.000000000",
            "2023-01-27T00:00:00.000000000",
            "2023-01-28T00:00:00.000000000"
           ],
           "y": {
            "bdata": "XwNIAQcDRgH2AncCHAL1AZIATAGUAXEC8gACAmQC2AGZAtkDZgHzAjoCbwCtAUMDcwPJAfsB/wI=",
            "dtype": "i2"
           }
          }
         ],
         "name": "2023-01-28 00:00:00"
        },
        {
         "data": [
          {
           "mode": "markers+lines",
           "type": "scatter",
           "x": [
            "2023-01-01T00:00:00.000000000",
            "2023-01-02T00:00:00.000000000",
            "2023-01-03T00:00:00.000000000",
            "2023-01-04T00:00:00.000000000",
            "2023-01-05T00:00:00.000000000",
            "2023-01-06T00:00:00.000000000",
            "2023-01-07T00:00:00.000000000",
            "2023-01-08T00:00:00.000000000",
            "2023-01-09T00:00:00.000000000",
            "2023-01-10T00:00:00.000000000",
            "2023-01-11T00:00:00.000000000",
            "2023-01-12T00:00:00.000000000",
            "2023-01-13T00:00:00.000000000",
            "2023-01-14T00:00:00.000000000",
            "2023-01-15T00:00:00.000000000",
            "2023-01-16T00:00:00.000000000",
            "2023-01-17T00:00:00.000000000",
            "2023-01-18T00:00:00.000000000",
            "2023-01-19T00:00:00.000000000",
            "2023-01-20T00:00:00.000000000",
            "2023-01-21T00:00:00.000000000",
            "2023-01-22T00:00:00.000000000",
            "2023-01-23T00:00:00.000000000",
            "2023-01-24T00:00:00.000000000",
            "2023-01-25T00:00:00.000000000",
            "2023-01-26T00:00:00.000000000",
            "2023-01-27T00:00:00.000000000",
            "2023-01-28T00:00:00.000000000",
            "2023-01-29T00:00:00.000000000"
           ],
           "y": {
            "bdata": "XwNIAQcDRgH2AncCHAL1AZIATAGUAXEC8gACAmQC2AGZAtkDZgHzAjoCbwCtAUMDcwPJAfsB/wLYAQ==",
            "dtype": "i2"
           }
          }
         ],
         "name": "2023-01-29 00:00:00"
        },
        {
         "data": [
          {
           "mode": "markers+lines",
           "type": "scatter",
           "x": [
            "2023-01-01T00:00:00.000000000",
            "2023-01-02T00:00:00.000000000",
            "2023-01-03T00:00:00.000000000",
            "2023-01-04T00:00:00.000000000",
            "2023-01-05T00:00:00.000000000",
            "2023-01-06T00:00:00.000000000",
            "2023-01-07T00:00:00.000000000",
            "2023-01-08T00:00:00.000000000",
            "2023-01-09T00:00:00.000000000",
            "2023-01-10T00:00:00.000000000",
            "2023-01-11T00:00:00.000000000",
            "2023-01-12T00:00:00.000000000",
            "2023-01-13T00:00:00.000000000",
            "2023-01-14T00:00:00.000000000",
            "2023-01-15T00:00:00.000000000",
            "2023-01-16T00:00:00.000000000",
            "2023-01-17T00:00:00.000000000",
            "2023-01-18T00:00:00.000000000",
            "2023-01-19T00:00:00.000000000",
            "2023-01-20T00:00:00.000000000",
            "2023-01-21T00:00:00.000000000",
            "2023-01-22T00:00:00.000000000",
            "2023-01-23T00:00:00.000000000",
            "2023-01-24T00:00:00.000000000",
            "2023-01-25T00:00:00.000000000",
            "2023-01-26T00:00:00.000000000",
            "2023-01-27T00:00:00.000000000",
            "2023-01-28T00:00:00.000000000",
            "2023-01-29T00:00:00.000000000",
            "2023-01-30T00:00:00.000000000"
           ],
           "y": {
            "bdata": "XwNIAQcDRgH2AncCHAL1AZIATAGUAXEC8gACAmQC2AGZAtkDZgHzAjoCbwCtAUMDcwPJAfsB/wLYAWsA",
            "dtype": "i2"
           }
          }
         ],
         "name": "2023-01-30 00:00:00"
        }
       ],
       "layout": {
        "template": {
         "data": {
          "bar": [
           {
            "error_x": {
             "color": "#2a3f5f"
            },
            "error_y": {
             "color": "#2a3f5f"
            },
            "marker": {
             "line": {
              "color": "#E5ECF6",
              "width": 0.5
             },
             "pattern": {
              "fillmode": "overlay",
              "size": 10,
              "solidity": 0.2
             }
            },
            "type": "bar"
           }
          ],
          "barpolar": [
           {
            "marker": {
             "line": {
              "color": "#E5ECF6",
              "width": 0.5
             },
             "pattern": {
              "fillmode": "overlay",
              "size": 10,
              "solidity": 0.2
             }
            },
            "type": "barpolar"
           }
          ],
          "carpet": [
           {
            "aaxis": {
             "endlinecolor": "#2a3f5f",
             "gridcolor": "white",
             "linecolor": "white",
             "minorgridcolor": "white",
             "startlinecolor": "#2a3f5f"
            },
            "baxis": {
             "endlinecolor": "#2a3f5f",
             "gridcolor": "white",
             "linecolor": "white",
             "minorgridcolor": "white",
             "startlinecolor": "#2a3f5f"
            },
            "type": "carpet"
           }
          ],
          "choropleth": [
           {
            "colorbar": {
             "outlinewidth": 0,
             "ticks": ""
            },
            "type": "choropleth"
           }
          ],
          "contour": [
           {
            "colorbar": {
             "outlinewidth": 0,
             "ticks": ""
            },
            "colorscale": [
             [
              0,
              "#0d0887"
             ],
             [
              0.1111111111111111,
              "#46039f"
             ],
             [
              0.2222222222222222,
              "#7201a8"
             ],
             [
              0.3333333333333333,
              "#9c179e"
             ],
             [
              0.4444444444444444,
              "#bd3786"
             ],
             [
              0.5555555555555556,
              "#d8576b"
             ],
             [
              0.6666666666666666,
              "#ed7953"
             ],
             [
              0.7777777777777778,
              "#fb9f3a"
             ],
             [
              0.8888888888888888,
              "#fdca26"
             ],
             [
              1,
              "#f0f921"
             ]
            ],
            "type": "contour"
           }
          ],
          "contourcarpet": [
           {
            "colorbar": {
             "outlinewidth": 0,
             "ticks": ""
            },
            "type": "contourcarpet"
           }
          ],
          "heatmap": [
           {
            "colorbar": {
             "outlinewidth": 0,
             "ticks": ""
            },
            "colorscale": [
             [
              0,
              "#0d0887"
             ],
             [
              0.1111111111111111,
              "#46039f"
             ],
             [
              0.2222222222222222,
              "#7201a8"
             ],
             [
              0.3333333333333333,
              "#9c179e"
             ],
             [
              0.4444444444444444,
              "#bd3786"
             ],
             [
              0.5555555555555556,
              "#d8576b"
             ],
             [
              0.6666666666666666,
              "#ed7953"
             ],
             [
              0.7777777777777778,
              "#fb9f3a"
             ],
             [
              0.8888888888888888,
              "#fdca26"
             ],
             [
              1,
              "#f0f921"
             ]
            ],
            "type": "heatmap"
           }
          ],
          "histogram": [
           {
            "marker": {
             "pattern": {
              "fillmode": "overlay",
              "size": 10,
              "solidity": 0.2
             }
            },
            "type": "histogram"
           }
          ],
          "histogram2d": [
           {
            "colorbar": {
             "outlinewidth": 0,
             "ticks": ""
            },
            "colorscale": [
             [
              0,
              "#0d0887"
             ],
             [
              0.1111111111111111,
              "#46039f"
             ],
             [
              0.2222222222222222,
              "#7201a8"
             ],
             [
              0.3333333333333333,
              "#9c179e"
             ],
             [
              0.4444444444444444,
              "#bd3786"
             ],
             [
              0.5555555555555556,
              "#d8576b"
             ],
             [
              0.6666666666666666,
              "#ed7953"
             ],
             [
              0.7777777777777778,
              "#fb9f3a"
             ],
             [
              0.8888888888888888,
              "#fdca26"
             ],
             [
              1,
              "#f0f921"
             ]
            ],
            "type": "histogram2d"
           }
          ],
          "histogram2dcontour": [
           {
            "colorbar": {
             "outlinewidth": 0,
             "ticks": ""
            },
            "colorscale": [
             [
              0,
              "#0d0887"
             ],
             [
              0.1111111111111111,
              "#46039f"
             ],
             [
              0.2222222222222222,
              "#7201a8"
             ],
             [
              0.3333333333333333,
              "#9c179e"
             ],
             [
              0.4444444444444444,
              "#bd3786"
             ],
             [
              0.5555555555555556,
              "#d8576b"
             ],
             [
              0.6666666666666666,
              "#ed7953"
             ],
             [
              0.7777777777777778,
              "#fb9f3a"
             ],
             [
              0.8888888888888888,
              "#fdca26"
             ],
             [
              1,
              "#f0f921"
             ]
            ],
            "type": "histogram2dcontour"
           }
          ],
          "mesh3d": [
           {
            "colorbar": {
             "outlinewidth": 0,
             "ticks": ""
            },
            "type": "mesh3d"
           }
          ],
          "parcoords": [
           {
            "line": {
             "colorbar": {
              "outlinewidth": 0,
              "ticks": ""
             }
            },
            "type": "parcoords"
           }
          ],
          "pie": [
           {
            "automargin": true,
            "type": "pie"
           }
          ],
          "scatter": [
           {
            "fillpattern": {
             "fillmode": "overlay",
             "size": 10,
             "solidity": 0.2
            },
            "type": "scatter"
           }
          ],
          "scatter3d": [
           {
            "line": {
             "colorbar": {
              "outlinewidth": 0,
              "ticks": ""
             }
            },
            "marker": {
             "colorbar": {
              "outlinewidth": 0,
              "ticks": ""
             }
            },
            "type": "scatter3d"
           }
          ],
          "scattercarpet": [
           {
            "marker": {
             "colorbar": {
              "outlinewidth": 0,
              "ticks": ""
             }
            },
            "type": "scattercarpet"
           }
          ],
          "scattergeo": [
           {
            "marker": {
             "colorbar": {
              "outlinewidth": 0,
              "ticks": ""
             }
            },
            "type": "scattergeo"
           }
          ],
          "scattergl": [
           {
            "marker": {
             "colorbar": {
              "outlinewidth": 0,
              "ticks": ""
             }
            },
            "type": "scattergl"
           }
          ],
          "scattermap": [
           {
            "marker": {
             "colorbar": {
              "outlinewidth": 0,
              "ticks": ""
             }
            },
            "type": "scattermap"
           }
          ],
          "scattermapbox": [
           {
            "marker": {
             "colorbar": {
              "outlinewidth": 0,
              "ticks": ""
             }
            },
            "type": "scattermapbox"
           }
          ],
          "scatterpolar": [
           {
            "marker": {
             "colorbar": {
              "outlinewidth": 0,
              "ticks": ""
             }
            },
            "type": "scatterpolar"
           }
          ],
          "scatterpolargl": [
           {
            "marker": {
             "colorbar": {
              "outlinewidth": 0,
              "ticks": ""
             }
            },
            "type": "scatterpolargl"
           }
          ],
          "scatterternary": [
           {
            "marker": {
             "colorbar": {
              "outlinewidth": 0,
              "ticks": ""
             }
            },
            "type": "scatterternary"
           }
          ],
          "surface": [
           {
            "colorbar": {
             "outlinewidth": 0,
             "ticks": ""
            },
            "colorscale": [
             [
              0,
              "#0d0887"
             ],
             [
              0.1111111111111111,
              "#46039f"
             ],
             [
              0.2222222222222222,
              "#7201a8"
             ],
             [
              0.3333333333333333,
              "#9c179e"
             ],
             [
              0.4444444444444444,
              "#bd3786"
             ],
             [
              0.5555555555555556,
              "#d8576b"
             ],
             [
              0.6666666666666666,
              "#ed7953"
             ],
             [
              0.7777777777777778,
              "#fb9f3a"
             ],
             [
              0.8888888888888888,
              "#fdca26"
             ],
             [
              1,
              "#f0f921"
             ]
            ],
            "type": "surface"
           }
          ],
          "table": [
           {
            "cells": {
             "fill": {
              "color": "#EBF0F8"
             },
             "line": {
              "color": "white"
             }
            },
            "header": {
             "fill": {
              "color": "#C8D4E3"
             },
             "line": {
              "color": "white"
             }
            },
            "type": "table"
           }
          ]
         },
         "layout": {
          "annotationdefaults": {
           "arrowcolor": "#2a3f5f",
           "arrowhead": 0,
           "arrowwidth": 1
          },
          "autotypenumbers": "strict",
          "coloraxis": {
           "colorbar": {
            "outlinewidth": 0,
            "ticks": ""
           }
          },
          "colorscale": {
           "diverging": [
            [
             0,
             "#8e0152"
            ],
            [
             0.1,
             "#c51b7d"
            ],
            [
             0.2,
             "#de77ae"
            ],
            [
             0.3,
             "#f1b6da"
            ],
            [
             0.4,
             "#fde0ef"
            ],
            [
             0.5,
             "#f7f7f7"
            ],
            [
             0.6,
             "#e6f5d0"
            ],
            [
             0.7,
             "#b8e186"
            ],
            [
             0.8,
             "#7fbc41"
            ],
            [
             0.9,
             "#4d9221"
            ],
            [
             1,
             "#276419"
            ]
           ],
           "sequential": [
            [
             0,
             "#0d0887"
            ],
            [
             0.1111111111111111,
             "#46039f"
            ],
            [
             0.2222222222222222,
             "#7201a8"
            ],
            [
             0.3333333333333333,
             "#9c179e"
            ],
            [
             0.4444444444444444,
             "#bd3786"
            ],
            [
             0.5555555555555556,
             "#d8576b"
            ],
            [
             0.6666666666666666,
             "#ed7953"
            ],
            [
             0.7777777777777778,
             "#fb9f3a"
            ],
            [
             0.8888888888888888,
             "#fdca26"
            ],
            [
             1,
             "#f0f921"
            ]
           ],
           "sequentialminus": [
            [
             0,
             "#0d0887"
            ],
            [
             0.1111111111111111,
             "#46039f"
            ],
            [
             0.2222222222222222,
             "#7201a8"
            ],
            [
             0.3333333333333333,
             "#9c179e"
            ],
            [
             0.4444444444444444,
             "#bd3786"
            ],
            [
             0.5555555555555556,
             "#d8576b"
            ],
            [
             0.6666666666666666,
             "#ed7953"
            ],
            [
             0.7777777777777778,
             "#fb9f3a"
            ],
            [
             0.8888888888888888,
             "#fdca26"
            ],
            [
             1,
             "#f0f921"
            ]
           ]
          },
          "colorway": [
           "#636efa",
           "#EF553B",
           "#00cc96",
           "#ab63fa",
           "#FFA15A",
           "#19d3f3",
           "#FF6692",
           "#B6E880",
           "#FF97FF",
           "#FECB52"
          ],
          "font": {
           "color": "#2a3f5f"
          },
          "geo": {
           "bgcolor": "white",
           "lakecolor": "white",
           "landcolor": "#E5ECF6",
           "showlakes": true,
           "showland": true,
           "subunitcolor": "white"
          },
          "hoverlabel": {
           "align": "left"
          },
          "hovermode": "closest",
          "mapbox": {
           "style": "light"
          },
          "paper_bgcolor": "white",
          "plot_bgcolor": "#E5ECF6",
          "polar": {
           "angularaxis": {
            "gridcolor": "white",
            "linecolor": "white",
            "ticks": ""
           },
           "bgcolor": "#E5ECF6",
           "radialaxis": {
            "gridcolor": "white",
            "linecolor": "white",
            "ticks": ""
           }
          },
          "scene": {
           "xaxis": {
            "backgroundcolor": "#E5ECF6",
            "gridcolor": "white",
            "gridwidth": 2,
            "linecolor": "white",
            "showbackground": true,
            "ticks": "",
            "zerolinecolor": "white"
           },
           "yaxis": {
            "backgroundcolor": "#E5ECF6",
            "gridcolor": "white",
            "gridwidth": 2,
            "linecolor": "white",
            "showbackground": true,
            "ticks": "",
            "zerolinecolor": "white"
           },
           "zaxis": {
            "backgroundcolor": "#E5ECF6",
            "gridcolor": "white",
            "gridwidth": 2,
            "linecolor": "white",
            "showbackground": true,
            "ticks": "",
            "zerolinecolor": "white"
           }
          },
          "shapedefaults": {
           "line": {
            "color": "#2a3f5f"
           }
          },
          "ternary": {
           "aaxis": {
            "gridcolor": "white",
            "linecolor": "white",
            "ticks": ""
           },
           "baxis": {
            "gridcolor": "white",
            "linecolor": "white",
            "ticks": ""
           },
           "bgcolor": "#E5ECF6",
           "caxis": {
            "gridcolor": "white",
            "linecolor": "white",
            "ticks": ""
           }
          },
          "title": {
           "x": 0.05
          },
          "xaxis": {
           "automargin": true,
           "gridcolor": "white",
           "linecolor": "white",
           "ticks": "",
           "title": {
            "standoff": 15
           },
           "zerolinecolor": "white",
           "zerolinewidth": 2
          },
          "yaxis": {
           "automargin": true,
           "gridcolor": "white",
           "linecolor": "white",
           "ticks": "",
           "title": {
            "standoff": 15
           },
           "zerolinecolor": "white",
           "zerolinewidth": 2
          }
         }
        },
        "title": {
         "text": "COVID-19 확진자 시계열 차트"
        },
        "updatemenus": [
         {
          "buttons": [
           {
            "args": [
             null,
             {
              "frame": {
               "duration": 500,
               "redraw": true
              },
              "fromcurrent": true
             }
            ],
            "label": "Play",
            "method": "animate"
           },
           {
            "args": [
             [
              null
             ],
             {
              "frame": {
               "duration": 0,
               "redraw": true
              },
              "mode": "immediate",
              "transition": {
               "duration": 0
              }
             }
            ],
            "label": "Pause",
            "method": "animate"
           }
          ],
          "direction": "left",
          "pad": {
           "r": 10,
           "t": 87
          },
          "showactive": false,
          "type": "buttons",
          "x": 0.1,
          "xanchor": "right",
          "y": 0,
          "yanchor": "top"
         }
        ],
        "xaxis": {
         "range": [
          "2023-01-01T00:00:00",
          "2023-01-30T00:00:00"
         ],
         "title": {
          "text": "날짜"
         }
        },
        "yaxis": {
         "range": [
          0,
          1085
         ],
         "title": {
          "text": "확진자 수"
         }
        }
       }
      }
     },
     "metadata": {},
     "output_type": "display_data"
    }
   ],
   "source": [
    "import plotly.graph_objects as go\n",
    "import pandas as pd\n",
    "import numpy as np\n",
    "\n",
    "# 가상 COVID-19 데이터 생성\n",
    "dates = pd.date_range(start='2023-01-01', periods=30, freq='D')\n",
    "cases = np.random.randint(100, 1000, size=30)\n",
    "df = pd.DataFrame({'Date': dates, 'Cases': cases})\n",
    "\n",
    "# 초기 데이터 설정\n",
    "initial_date = df['Date'].iloc[0]\n",
    "initial_cases = df[df['Date'] == initial_date]['Cases'].values\n",
    "\n",
    "fig = go.Figure(\n",
    "    data=[go.Scatter(x=[initial_date], y=initial_cases, mode='markers+lines', name='확진자 수')],\n",
    "    layout=go.Layout(\n",
    "        title=\"COVID-19 확진자 시계열 차트\",\n",
    "        xaxis=dict(title=\"날짜\", range=[dates.min(), dates.max()]),\n",
    "        yaxis=dict(title=\"확진자 수\", range=[0, df['Cases'].max()+100]),\n",
    "        updatemenus=[{\n",
    "            \"buttons\": [\n",
    "                {\n",
    "                    \"args\": [None, {\"frame\": {\"duration\": 500, \"redraw\": True},\n",
    "                                    \"fromcurrent\": True}],\n",
    "                    \"label\": \"Play\",\n",
    "                    \"method\": \"animate\"\n",
    "                },\n",
    "                {\n",
    "                    \"args\": [[None], {\"frame\": {\"duration\": 0, \"redraw\": True},\n",
    "                                      \"mode\": \"immediate\",\n",
    "                                      \"transition\": {\"duration\": 0}}],\n",
    "                    \"label\": \"Pause\",\n",
    "                    \"method\": \"animate\"\n",
    "                }\n",
    "            ],\n",
    "            \"direction\": \"left\",\n",
    "            \"pad\": {\"r\": 10, \"t\": 87},\n",
    "            \"showactive\": False,\n",
    "            \"type\": \"buttons\",\n",
    "            \"x\": 0.1,\n",
    "            \"xanchor\": \"right\",\n",
    "            \"y\": 0,\n",
    "            \"yanchor\": \"top\"\n",
    "        }]\n",
    "    ),\n",
    "    frames=[\n",
    "        go.Frame(\n",
    "            data=[go.Scatter(x=df['Date'][:k+1], y=df['Cases'][:k+1], mode='markers+lines')],\n",
    "            name=str(date)\n",
    "        )\n",
    "        for k, date in enumerate(df['Date'])\n",
    "    ]\n",
    ")\n",
    "\n",
    "fig.show()\n"
   ]
  },
  {
   "cell_type": "markdown",
   "metadata": {},
   "source": [
    "## 3-3: 대시보드 레이아웃 (서브플롯)\n",
    "- 두 개의 차트(선 그래프와 막대 그래프)를 하나의 레이아웃에 서브플롯으로 배치하여 대시보드를 구성해보세요."
   ]
  },
  {
   "cell_type": "code",
   "execution_count": null,
   "metadata": {},
   "outputs": [
    {
     "data": {
      "application/vnd.plotly.v1+json": {
       "config": {
        "plotlyServerURL": "https://plot.ly"
       },
       "data": [
        {
         "mode": "lines+markers",
         "name": "Line",
         "type": "scatter",
         "x": {
          "bdata": "AQIDBAUGBwgJCg==",
          "dtype": "i1"
         },
         "xaxis": "x",
         "y": {
          "bdata": "EQoNEhERCxIOEQ==",
          "dtype": "i1"
         },
         "yaxis": "y"
        },
        {
         "name": "Bar",
         "type": "bar",
         "x": {
          "bdata": "AQIDBAUGBwgJCg==",
          "dtype": "i1"
         },
         "xaxis": "x2",
         "y": {
          "bdata": "FB8YFB4iJhgXJw==",
          "dtype": "i1"
         },
         "yaxis": "y2"
        }
       ],
       "layout": {
        "annotations": [
         {
          "font": {
           "size": 16
          },
          "showarrow": false,
          "text": "선 그래프",
          "x": 0.225,
          "xanchor": "center",
          "xref": "paper",
          "y": 1,
          "yanchor": "bottom",
          "yref": "paper"
         },
         {
          "font": {
           "size": 16
          },
          "showarrow": false,
          "text": "막대 그래프",
          "x": 0.775,
          "xanchor": "center",
          "xref": "paper",
          "y": 1,
          "yanchor": "bottom",
          "yref": "paper"
         }
        ],
        "template": {
         "data": {
          "bar": [
           {
            "error_x": {
             "color": "#2a3f5f"
            },
            "error_y": {
             "color": "#2a3f5f"
            },
            "marker": {
             "line": {
              "color": "#E5ECF6",
              "width": 0.5
             },
             "pattern": {
              "fillmode": "overlay",
              "size": 10,
              "solidity": 0.2
             }
            },
            "type": "bar"
           }
          ],
          "barpolar": [
           {
            "marker": {
             "line": {
              "color": "#E5ECF6",
              "width": 0.5
             },
             "pattern": {
              "fillmode": "overlay",
              "size": 10,
              "solidity": 0.2
             }
            },
            "type": "barpolar"
           }
          ],
          "carpet": [
           {
            "aaxis": {
             "endlinecolor": "#2a3f5f",
             "gridcolor": "white",
             "linecolor": "white",
             "minorgridcolor": "white",
             "startlinecolor": "#2a3f5f"
            },
            "baxis": {
             "endlinecolor": "#2a3f5f",
             "gridcolor": "white",
             "linecolor": "white",
             "minorgridcolor": "white",
             "startlinecolor": "#2a3f5f"
            },
            "type": "carpet"
           }
          ],
          "choropleth": [
           {
            "colorbar": {
             "outlinewidth": 0,
             "ticks": ""
            },
            "type": "choropleth"
           }
          ],
          "contour": [
           {
            "colorbar": {
             "outlinewidth": 0,
             "ticks": ""
            },
            "colorscale": [
             [
              0,
              "#0d0887"
             ],
             [
              0.1111111111111111,
              "#46039f"
             ],
             [
              0.2222222222222222,
              "#7201a8"
             ],
             [
              0.3333333333333333,
              "#9c179e"
             ],
             [
              0.4444444444444444,
              "#bd3786"
             ],
             [
              0.5555555555555556,
              "#d8576b"
             ],
             [
              0.6666666666666666,
              "#ed7953"
             ],
             [
              0.7777777777777778,
              "#fb9f3a"
             ],
             [
              0.8888888888888888,
              "#fdca26"
             ],
             [
              1,
              "#f0f921"
             ]
            ],
            "type": "contour"
           }
          ],
          "contourcarpet": [
           {
            "colorbar": {
             "outlinewidth": 0,
             "ticks": ""
            },
            "type": "contourcarpet"
           }
          ],
          "heatmap": [
           {
            "colorbar": {
             "outlinewidth": 0,
             "ticks": ""
            },
            "colorscale": [
             [
              0,
              "#0d0887"
             ],
             [
              0.1111111111111111,
              "#46039f"
             ],
             [
              0.2222222222222222,
              "#7201a8"
             ],
             [
              0.3333333333333333,
              "#9c179e"
             ],
             [
              0.4444444444444444,
              "#bd3786"
             ],
             [
              0.5555555555555556,
              "#d8576b"
             ],
             [
              0.6666666666666666,
              "#ed7953"
             ],
             [
              0.7777777777777778,
              "#fb9f3a"
             ],
             [
              0.8888888888888888,
              "#fdca26"
             ],
             [
              1,
              "#f0f921"
             ]
            ],
            "type": "heatmap"
           }
          ],
          "histogram": [
           {
            "marker": {
             "pattern": {
              "fillmode": "overlay",
              "size": 10,
              "solidity": 0.2
             }
            },
            "type": "histogram"
           }
          ],
          "histogram2d": [
           {
            "colorbar": {
             "outlinewidth": 0,
             "ticks": ""
            },
            "colorscale": [
             [
              0,
              "#0d0887"
             ],
             [
              0.1111111111111111,
              "#46039f"
             ],
             [
              0.2222222222222222,
              "#7201a8"
             ],
             [
              0.3333333333333333,
              "#9c179e"
             ],
             [
              0.4444444444444444,
              "#bd3786"
             ],
             [
              0.5555555555555556,
              "#d8576b"
             ],
             [
              0.6666666666666666,
              "#ed7953"
             ],
             [
              0.7777777777777778,
              "#fb9f3a"
             ],
             [
              0.8888888888888888,
              "#fdca26"
             ],
             [
              1,
              "#f0f921"
             ]
            ],
            "type": "histogram2d"
           }
          ],
          "histogram2dcontour": [
           {
            "colorbar": {
             "outlinewidth": 0,
             "ticks": ""
            },
            "colorscale": [
             [
              0,
              "#0d0887"
             ],
             [
              0.1111111111111111,
              "#46039f"
             ],
             [
              0.2222222222222222,
              "#7201a8"
             ],
             [
              0.3333333333333333,
              "#9c179e"
             ],
             [
              0.4444444444444444,
              "#bd3786"
             ],
             [
              0.5555555555555556,
              "#d8576b"
             ],
             [
              0.6666666666666666,
              "#ed7953"
             ],
             [
              0.7777777777777778,
              "#fb9f3a"
             ],
             [
              0.8888888888888888,
              "#fdca26"
             ],
             [
              1,
              "#f0f921"
             ]
            ],
            "type": "histogram2dcontour"
           }
          ],
          "mesh3d": [
           {
            "colorbar": {
             "outlinewidth": 0,
             "ticks": ""
            },
            "type": "mesh3d"
           }
          ],
          "parcoords": [
           {
            "line": {
             "colorbar": {
              "outlinewidth": 0,
              "ticks": ""
             }
            },
            "type": "parcoords"
           }
          ],
          "pie": [
           {
            "automargin": true,
            "type": "pie"
           }
          ],
          "scatter": [
           {
            "fillpattern": {
             "fillmode": "overlay",
             "size": 10,
             "solidity": 0.2
            },
            "type": "scatter"
           }
          ],
          "scatter3d": [
           {
            "line": {
             "colorbar": {
              "outlinewidth": 0,
              "ticks": ""
             }
            },
            "marker": {
             "colorbar": {
              "outlinewidth": 0,
              "ticks": ""
             }
            },
            "type": "scatter3d"
           }
          ],
          "scattercarpet": [
           {
            "marker": {
             "colorbar": {
              "outlinewidth": 0,
              "ticks": ""
             }
            },
            "type": "scattercarpet"
           }
          ],
          "scattergeo": [
           {
            "marker": {
             "colorbar": {
              "outlinewidth": 0,
              "ticks": ""
             }
            },
            "type": "scattergeo"
           }
          ],
          "scattergl": [
           {
            "marker": {
             "colorbar": {
              "outlinewidth": 0,
              "ticks": ""
             }
            },
            "type": "scattergl"
           }
          ],
          "scattermap": [
           {
            "marker": {
             "colorbar": {
              "outlinewidth": 0,
              "ticks": ""
             }
            },
            "type": "scattermap"
           }
          ],
          "scattermapbox": [
           {
            "marker": {
             "colorbar": {
              "outlinewidth": 0,
              "ticks": ""
             }
            },
            "type": "scattermapbox"
           }
          ],
          "scatterpolar": [
           {
            "marker": {
             "colorbar": {
              "outlinewidth": 0,
              "ticks": ""
             }
            },
            "type": "scatterpolar"
           }
          ],
          "scatterpolargl": [
           {
            "marker": {
             "colorbar": {
              "outlinewidth": 0,
              "ticks": ""
             }
            },
            "type": "scatterpolargl"
           }
          ],
          "scatterternary": [
           {
            "marker": {
             "colorbar": {
              "outlinewidth": 0,
              "ticks": ""
             }
            },
            "type": "scatterternary"
           }
          ],
          "surface": [
           {
            "colorbar": {
             "outlinewidth": 0,
             "ticks": ""
            },
            "colorscale": [
             [
              0,
              "#0d0887"
             ],
             [
              0.1111111111111111,
              "#46039f"
             ],
             [
              0.2222222222222222,
              "#7201a8"
             ],
             [
              0.3333333333333333,
              "#9c179e"
             ],
             [
              0.4444444444444444,
              "#bd3786"
             ],
             [
              0.5555555555555556,
              "#d8576b"
             ],
             [
              0.6666666666666666,
              "#ed7953"
             ],
             [
              0.7777777777777778,
              "#fb9f3a"
             ],
             [
              0.8888888888888888,
              "#fdca26"
             ],
             [
              1,
              "#f0f921"
             ]
            ],
            "type": "surface"
           }
          ],
          "table": [
           {
            "cells": {
             "fill": {
              "color": "#EBF0F8"
             },
             "line": {
              "color": "white"
             }
            },
            "header": {
             "fill": {
              "color": "#C8D4E3"
             },
             "line": {
              "color": "white"
             }
            },
            "type": "table"
           }
          ]
         },
         "layout": {
          "annotationdefaults": {
           "arrowcolor": "#2a3f5f",
           "arrowhead": 0,
           "arrowwidth": 1
          },
          "autotypenumbers": "strict",
          "coloraxis": {
           "colorbar": {
            "outlinewidth": 0,
            "ticks": ""
           }
          },
          "colorscale": {
           "diverging": [
            [
             0,
             "#8e0152"
            ],
            [
             0.1,
             "#c51b7d"
            ],
            [
             0.2,
             "#de77ae"
            ],
            [
             0.3,
             "#f1b6da"
            ],
            [
             0.4,
             "#fde0ef"
            ],
            [
             0.5,
             "#f7f7f7"
            ],
            [
             0.6,
             "#e6f5d0"
            ],
            [
             0.7,
             "#b8e186"
            ],
            [
             0.8,
             "#7fbc41"
            ],
            [
             0.9,
             "#4d9221"
            ],
            [
             1,
             "#276419"
            ]
           ],
           "sequential": [
            [
             0,
             "#0d0887"
            ],
            [
             0.1111111111111111,
             "#46039f"
            ],
            [
             0.2222222222222222,
             "#7201a8"
            ],
            [
             0.3333333333333333,
             "#9c179e"
            ],
            [
             0.4444444444444444,
             "#bd3786"
            ],
            [
             0.5555555555555556,
             "#d8576b"
            ],
            [
             0.6666666666666666,
             "#ed7953"
            ],
            [
             0.7777777777777778,
             "#fb9f3a"
            ],
            [
             0.8888888888888888,
             "#fdca26"
            ],
            [
             1,
             "#f0f921"
            ]
           ],
           "sequentialminus": [
            [
             0,
             "#0d0887"
            ],
            [
             0.1111111111111111,
             "#46039f"
            ],
            [
             0.2222222222222222,
             "#7201a8"
            ],
            [
             0.3333333333333333,
             "#9c179e"
            ],
            [
             0.4444444444444444,
             "#bd3786"
            ],
            [
             0.5555555555555556,
             "#d8576b"
            ],
            [
             0.6666666666666666,
             "#ed7953"
            ],
            [
             0.7777777777777778,
             "#fb9f3a"
            ],
            [
             0.8888888888888888,
             "#fdca26"
            ],
            [
             1,
             "#f0f921"
            ]
           ]
          },
          "colorway": [
           "#636efa",
           "#EF553B",
           "#00cc96",
           "#ab63fa",
           "#FFA15A",
           "#19d3f3",
           "#FF6692",
           "#B6E880",
           "#FF97FF",
           "#FECB52"
          ],
          "font": {
           "color": "#2a3f5f"
          },
          "geo": {
           "bgcolor": "white",
           "lakecolor": "white",
           "landcolor": "#E5ECF6",
           "showlakes": true,
           "showland": true,
           "subunitcolor": "white"
          },
          "hoverlabel": {
           "align": "left"
          },
          "hovermode": "closest",
          "mapbox": {
           "style": "light"
          },
          "paper_bgcolor": "white",
          "plot_bgcolor": "#E5ECF6",
          "polar": {
           "angularaxis": {
            "gridcolor": "white",
            "linecolor": "white",
            "ticks": ""
           },
           "bgcolor": "#E5ECF6",
           "radialaxis": {
            "gridcolor": "white",
            "linecolor": "white",
            "ticks": ""
           }
          },
          "scene": {
           "xaxis": {
            "backgroundcolor": "#E5ECF6",
            "gridcolor": "white",
            "gridwidth": 2,
            "linecolor": "white",
            "showbackground": true,
            "ticks": "",
            "zerolinecolor": "white"
           },
           "yaxis": {
            "backgroundcolor": "#E5ECF6",
            "gridcolor": "white",
            "gridwidth": 2,
            "linecolor": "white",
            "showbackground": true,
            "ticks": "",
            "zerolinecolor": "white"
           },
           "zaxis": {
            "backgroundcolor": "#E5ECF6",
            "gridcolor": "white",
            "gridwidth": 2,
            "linecolor": "white",
            "showbackground": true,
            "ticks": "",
            "zerolinecolor": "white"
           }
          },
          "shapedefaults": {
           "line": {
            "color": "#2a3f5f"
           }
          },
          "ternary": {
           "aaxis": {
            "gridcolor": "white",
            "linecolor": "white",
            "ticks": ""
           },
           "baxis": {
            "gridcolor": "white",
            "linecolor": "white",
            "ticks": ""
           },
           "bgcolor": "#E5ECF6",
           "caxis": {
            "gridcolor": "white",
            "linecolor": "white",
            "ticks": ""
           }
          },
          "title": {
           "x": 0.05
          },
          "xaxis": {
           "automargin": true,
           "gridcolor": "white",
           "linecolor": "white",
           "ticks": "",
           "title": {
            "standoff": 15
           },
           "zerolinecolor": "white",
           "zerolinewidth": 2
          },
          "yaxis": {
           "automargin": true,
           "gridcolor": "white",
           "linecolor": "white",
           "ticks": "",
           "title": {
            "standoff": 15
           },
           "zerolinecolor": "white",
           "zerolinewidth": 2
          }
         }
        },
        "title": {
         "text": "대시보드 레이아웃 예시"
        },
        "xaxis": {
         "anchor": "y",
         "domain": [
          0,
          0.45
         ]
        },
        "xaxis2": {
         "anchor": "y2",
         "domain": [
          0.55,
          1
         ]
        },
        "yaxis": {
         "anchor": "x",
         "domain": [
          0,
          1
         ]
        },
        "yaxis2": {
         "anchor": "x2",
         "domain": [
          0,
          1
         ]
        }
       }
      }
     },
     "metadata": {},
     "output_type": "display_data"
    }
   ],
   "source": [
    "import plotly.graph_objects as go\n",
    "from plotly.subplots import make_subplots\n",
    "import numpy as np\n",
    "\n",
    "# 데이터 설정\n",
    "x = np.arange(1, 11)\n",
    "y_line = np.random.randint(10, 20, 10)\n",
    "y_bar = np.random.randint(20, 40, 10)\n",
    "\n",
    "# 서브플롯 구성 (행 1, 열 2)\n",
    "fig = make_subplots(rows=1, cols=2, subplot_titles=(\"선 그래프\", \"막대 그래프\"))\n",
    "\n",
    "# 서브플롯에 차트 추가\n",
    "fig.add_trace(\n",
    "    go.Scatter(x=x, y=y_line, mode=\"lines+markers\", name=\"Line\"), row=1, col=1\n",
    ")\n",
    "fig.add_trace(go.Bar(x=x, y=y_bar, name=\"Bar\"), row=1, col=2)\n",
    "\n",
    "fig.update_layout(title=\"대시보드 레이아웃 예시\")\n",
    "fig.show()"
   ]
  },
  {
   "cell_type": "markdown",
   "metadata": {},
   "source": [
    "## 3: 종합 대시보드 – 서브플롯으로 여러 차트 결합\n",
    "- 판매 데이터와 고객 분석 데이터를 사용하여 한 화면에 선 그래프, 막대 그래프, 파이 차트를 서브플롯 형태로 결합한 대시보드를 구성하려고 할 때, Pie 차트를 추가하는 과정에서 \"Trace type 'pie' is not compatible with subplot type 'xy'\" 오류가 발생합니다. 이 문제를 해결하는 코드를 작성하세요."
   ]
  },
  {
   "cell_type": "code",
   "execution_count": 15,
   "metadata": {},
   "outputs": [
    {
     "data": {
      "application/vnd.plotly.v1+json": {
       "config": {
        "plotlyServerURL": "https://plot.ly"
       },
       "data": [
        {
         "mode": "lines+markers",
         "name": "매출",
         "type": "scatter",
         "x": [
          "1월",
          "2월",
          "3월",
          "4월",
          "5월"
         ],
         "xaxis": "x",
         "y": [
          200,
          250,
          300,
          280,
          320
         ],
         "yaxis": "y"
        },
        {
         "marker": {
          "color": "lightsalmon"
         },
         "name": "고객 수",
         "type": "bar",
         "x": [
          "1월",
          "2월",
          "3월",
          "4월",
          "5월"
         ],
         "xaxis": "x2",
         "y": [
          50,
          65,
          70,
          60,
          80
         ],
         "yaxis": "y2"
        },
        {
         "domain": {
          "x": [
           0.55,
           1
          ],
          "y": [
           0,
           0.375
          ]
         },
         "labels": [
          "서울",
          "부산",
          "대구",
          "인천"
         ],
         "name": "지역 매출",
         "type": "pie",
         "values": [
          150,
          120,
          100,
          130
         ]
        }
       ],
       "layout": {
        "annotations": [
         {
          "font": {
           "size": 16
          },
          "showarrow": false,
          "text": "월별 매출 추이",
          "x": 0.5,
          "xanchor": "center",
          "xref": "paper",
          "y": 1,
          "yanchor": "bottom",
          "yref": "paper"
         },
         {
          "font": {
           "size": 16
          },
          "showarrow": false,
          "text": "월별 고객 수",
          "x": 0.225,
          "xanchor": "center",
          "xref": "paper",
          "y": 0.375,
          "yanchor": "bottom",
          "yref": "paper"
         },
         {
          "font": {
           "size": 16
          },
          "showarrow": false,
          "text": "지역별 매출 비율",
          "x": 0.775,
          "xanchor": "center",
          "xref": "paper",
          "y": 0.375,
          "yanchor": "bottom",
          "yref": "paper"
         }
        ],
        "showlegend": false,
        "template": {
         "data": {
          "bar": [
           {
            "error_x": {
             "color": "#2a3f5f"
            },
            "error_y": {
             "color": "#2a3f5f"
            },
            "marker": {
             "line": {
              "color": "#E5ECF6",
              "width": 0.5
             },
             "pattern": {
              "fillmode": "overlay",
              "size": 10,
              "solidity": 0.2
             }
            },
            "type": "bar"
           }
          ],
          "barpolar": [
           {
            "marker": {
             "line": {
              "color": "#E5ECF6",
              "width": 0.5
             },
             "pattern": {
              "fillmode": "overlay",
              "size": 10,
              "solidity": 0.2
             }
            },
            "type": "barpolar"
           }
          ],
          "carpet": [
           {
            "aaxis": {
             "endlinecolor": "#2a3f5f",
             "gridcolor": "white",
             "linecolor": "white",
             "minorgridcolor": "white",
             "startlinecolor": "#2a3f5f"
            },
            "baxis": {
             "endlinecolor": "#2a3f5f",
             "gridcolor": "white",
             "linecolor": "white",
             "minorgridcolor": "white",
             "startlinecolor": "#2a3f5f"
            },
            "type": "carpet"
           }
          ],
          "choropleth": [
           {
            "colorbar": {
             "outlinewidth": 0,
             "ticks": ""
            },
            "type": "choropleth"
           }
          ],
          "contour": [
           {
            "colorbar": {
             "outlinewidth": 0,
             "ticks": ""
            },
            "colorscale": [
             [
              0,
              "#0d0887"
             ],
             [
              0.1111111111111111,
              "#46039f"
             ],
             [
              0.2222222222222222,
              "#7201a8"
             ],
             [
              0.3333333333333333,
              "#9c179e"
             ],
             [
              0.4444444444444444,
              "#bd3786"
             ],
             [
              0.5555555555555556,
              "#d8576b"
             ],
             [
              0.6666666666666666,
              "#ed7953"
             ],
             [
              0.7777777777777778,
              "#fb9f3a"
             ],
             [
              0.8888888888888888,
              "#fdca26"
             ],
             [
              1,
              "#f0f921"
             ]
            ],
            "type": "contour"
           }
          ],
          "contourcarpet": [
           {
            "colorbar": {
             "outlinewidth": 0,
             "ticks": ""
            },
            "type": "contourcarpet"
           }
          ],
          "heatmap": [
           {
            "colorbar": {
             "outlinewidth": 0,
             "ticks": ""
            },
            "colorscale": [
             [
              0,
              "#0d0887"
             ],
             [
              0.1111111111111111,
              "#46039f"
             ],
             [
              0.2222222222222222,
              "#7201a8"
             ],
             [
              0.3333333333333333,
              "#9c179e"
             ],
             [
              0.4444444444444444,
              "#bd3786"
             ],
             [
              0.5555555555555556,
              "#d8576b"
             ],
             [
              0.6666666666666666,
              "#ed7953"
             ],
             [
              0.7777777777777778,
              "#fb9f3a"
             ],
             [
              0.8888888888888888,
              "#fdca26"
             ],
             [
              1,
              "#f0f921"
             ]
            ],
            "type": "heatmap"
           }
          ],
          "histogram": [
           {
            "marker": {
             "pattern": {
              "fillmode": "overlay",
              "size": 10,
              "solidity": 0.2
             }
            },
            "type": "histogram"
           }
          ],
          "histogram2d": [
           {
            "colorbar": {
             "outlinewidth": 0,
             "ticks": ""
            },
            "colorscale": [
             [
              0,
              "#0d0887"
             ],
             [
              0.1111111111111111,
              "#46039f"
             ],
             [
              0.2222222222222222,
              "#7201a8"
             ],
             [
              0.3333333333333333,
              "#9c179e"
             ],
             [
              0.4444444444444444,
              "#bd3786"
             ],
             [
              0.5555555555555556,
              "#d8576b"
             ],
             [
              0.6666666666666666,
              "#ed7953"
             ],
             [
              0.7777777777777778,
              "#fb9f3a"
             ],
             [
              0.8888888888888888,
              "#fdca26"
             ],
             [
              1,
              "#f0f921"
             ]
            ],
            "type": "histogram2d"
           }
          ],
          "histogram2dcontour": [
           {
            "colorbar": {
             "outlinewidth": 0,
             "ticks": ""
            },
            "colorscale": [
             [
              0,
              "#0d0887"
             ],
             [
              0.1111111111111111,
              "#46039f"
             ],
             [
              0.2222222222222222,
              "#7201a8"
             ],
             [
              0.3333333333333333,
              "#9c179e"
             ],
             [
              0.4444444444444444,
              "#bd3786"
             ],
             [
              0.5555555555555556,
              "#d8576b"
             ],
             [
              0.6666666666666666,
              "#ed7953"
             ],
             [
              0.7777777777777778,
              "#fb9f3a"
             ],
             [
              0.8888888888888888,
              "#fdca26"
             ],
             [
              1,
              "#f0f921"
             ]
            ],
            "type": "histogram2dcontour"
           }
          ],
          "mesh3d": [
           {
            "colorbar": {
             "outlinewidth": 0,
             "ticks": ""
            },
            "type": "mesh3d"
           }
          ],
          "parcoords": [
           {
            "line": {
             "colorbar": {
              "outlinewidth": 0,
              "ticks": ""
             }
            },
            "type": "parcoords"
           }
          ],
          "pie": [
           {
            "automargin": true,
            "type": "pie"
           }
          ],
          "scatter": [
           {
            "fillpattern": {
             "fillmode": "overlay",
             "size": 10,
             "solidity": 0.2
            },
            "type": "scatter"
           }
          ],
          "scatter3d": [
           {
            "line": {
             "colorbar": {
              "outlinewidth": 0,
              "ticks": ""
             }
            },
            "marker": {
             "colorbar": {
              "outlinewidth": 0,
              "ticks": ""
             }
            },
            "type": "scatter3d"
           }
          ],
          "scattercarpet": [
           {
            "marker": {
             "colorbar": {
              "outlinewidth": 0,
              "ticks": ""
             }
            },
            "type": "scattercarpet"
           }
          ],
          "scattergeo": [
           {
            "marker": {
             "colorbar": {
              "outlinewidth": 0,
              "ticks": ""
             }
            },
            "type": "scattergeo"
           }
          ],
          "scattergl": [
           {
            "marker": {
             "colorbar": {
              "outlinewidth": 0,
              "ticks": ""
             }
            },
            "type": "scattergl"
           }
          ],
          "scattermap": [
           {
            "marker": {
             "colorbar": {
              "outlinewidth": 0,
              "ticks": ""
             }
            },
            "type": "scattermap"
           }
          ],
          "scattermapbox": [
           {
            "marker": {
             "colorbar": {
              "outlinewidth": 0,
              "ticks": ""
             }
            },
            "type": "scattermapbox"
           }
          ],
          "scatterpolar": [
           {
            "marker": {
             "colorbar": {
              "outlinewidth": 0,
              "ticks": ""
             }
            },
            "type": "scatterpolar"
           }
          ],
          "scatterpolargl": [
           {
            "marker": {
             "colorbar": {
              "outlinewidth": 0,
              "ticks": ""
             }
            },
            "type": "scatterpolargl"
           }
          ],
          "scatterternary": [
           {
            "marker": {
             "colorbar": {
              "outlinewidth": 0,
              "ticks": ""
             }
            },
            "type": "scatterternary"
           }
          ],
          "surface": [
           {
            "colorbar": {
             "outlinewidth": 0,
             "ticks": ""
            },
            "colorscale": [
             [
              0,
              "#0d0887"
             ],
             [
              0.1111111111111111,
              "#46039f"
             ],
             [
              0.2222222222222222,
              "#7201a8"
             ],
             [
              0.3333333333333333,
              "#9c179e"
             ],
             [
              0.4444444444444444,
              "#bd3786"
             ],
             [
              0.5555555555555556,
              "#d8576b"
             ],
             [
              0.6666666666666666,
              "#ed7953"
             ],
             [
              0.7777777777777778,
              "#fb9f3a"
             ],
             [
              0.8888888888888888,
              "#fdca26"
             ],
             [
              1,
              "#f0f921"
             ]
            ],
            "type": "surface"
           }
          ],
          "table": [
           {
            "cells": {
             "fill": {
              "color": "#EBF0F8"
             },
             "line": {
              "color": "white"
             }
            },
            "header": {
             "fill": {
              "color": "#C8D4E3"
             },
             "line": {
              "color": "white"
             }
            },
            "type": "table"
           }
          ]
         },
         "layout": {
          "annotationdefaults": {
           "arrowcolor": "#2a3f5f",
           "arrowhead": 0,
           "arrowwidth": 1
          },
          "autotypenumbers": "strict",
          "coloraxis": {
           "colorbar": {
            "outlinewidth": 0,
            "ticks": ""
           }
          },
          "colorscale": {
           "diverging": [
            [
             0,
             "#8e0152"
            ],
            [
             0.1,
             "#c51b7d"
            ],
            [
             0.2,
             "#de77ae"
            ],
            [
             0.3,
             "#f1b6da"
            ],
            [
             0.4,
             "#fde0ef"
            ],
            [
             0.5,
             "#f7f7f7"
            ],
            [
             0.6,
             "#e6f5d0"
            ],
            [
             0.7,
             "#b8e186"
            ],
            [
             0.8,
             "#7fbc41"
            ],
            [
             0.9,
             "#4d9221"
            ],
            [
             1,
             "#276419"
            ]
           ],
           "sequential": [
            [
             0,
             "#0d0887"
            ],
            [
             0.1111111111111111,
             "#46039f"
            ],
            [
             0.2222222222222222,
             "#7201a8"
            ],
            [
             0.3333333333333333,
             "#9c179e"
            ],
            [
             0.4444444444444444,
             "#bd3786"
            ],
            [
             0.5555555555555556,
             "#d8576b"
            ],
            [
             0.6666666666666666,
             "#ed7953"
            ],
            [
             0.7777777777777778,
             "#fb9f3a"
            ],
            [
             0.8888888888888888,
             "#fdca26"
            ],
            [
             1,
             "#f0f921"
            ]
           ],
           "sequentialminus": [
            [
             0,
             "#0d0887"
            ],
            [
             0.1111111111111111,
             "#46039f"
            ],
            [
             0.2222222222222222,
             "#7201a8"
            ],
            [
             0.3333333333333333,
             "#9c179e"
            ],
            [
             0.4444444444444444,
             "#bd3786"
            ],
            [
             0.5555555555555556,
             "#d8576b"
            ],
            [
             0.6666666666666666,
             "#ed7953"
            ],
            [
             0.7777777777777778,
             "#fb9f3a"
            ],
            [
             0.8888888888888888,
             "#fdca26"
            ],
            [
             1,
             "#f0f921"
            ]
           ]
          },
          "colorway": [
           "#636efa",
           "#EF553B",
           "#00cc96",
           "#ab63fa",
           "#FFA15A",
           "#19d3f3",
           "#FF6692",
           "#B6E880",
           "#FF97FF",
           "#FECB52"
          ],
          "font": {
           "color": "#2a3f5f"
          },
          "geo": {
           "bgcolor": "white",
           "lakecolor": "white",
           "landcolor": "#E5ECF6",
           "showlakes": true,
           "showland": true,
           "subunitcolor": "white"
          },
          "hoverlabel": {
           "align": "left"
          },
          "hovermode": "closest",
          "mapbox": {
           "style": "light"
          },
          "paper_bgcolor": "white",
          "plot_bgcolor": "#E5ECF6",
          "polar": {
           "angularaxis": {
            "gridcolor": "white",
            "linecolor": "white",
            "ticks": ""
           },
           "bgcolor": "#E5ECF6",
           "radialaxis": {
            "gridcolor": "white",
            "linecolor": "white",
            "ticks": ""
           }
          },
          "scene": {
           "xaxis": {
            "backgroundcolor": "#E5ECF6",
            "gridcolor": "white",
            "gridwidth": 2,
            "linecolor": "white",
            "showbackground": true,
            "ticks": "",
            "zerolinecolor": "white"
           },
           "yaxis": {
            "backgroundcolor": "#E5ECF6",
            "gridcolor": "white",
            "gridwidth": 2,
            "linecolor": "white",
            "showbackground": true,
            "ticks": "",
            "zerolinecolor": "white"
           },
           "zaxis": {
            "backgroundcolor": "#E5ECF6",
            "gridcolor": "white",
            "gridwidth": 2,
            "linecolor": "white",
            "showbackground": true,
            "ticks": "",
            "zerolinecolor": "white"
           }
          },
          "shapedefaults": {
           "line": {
            "color": "#2a3f5f"
           }
          },
          "ternary": {
           "aaxis": {
            "gridcolor": "white",
            "linecolor": "white",
            "ticks": ""
           },
           "baxis": {
            "gridcolor": "white",
            "linecolor": "white",
            "ticks": ""
           },
           "bgcolor": "#E5ECF6",
           "caxis": {
            "gridcolor": "white",
            "linecolor": "white",
            "ticks": ""
           }
          },
          "title": {
           "x": 0.05
          },
          "xaxis": {
           "automargin": true,
           "gridcolor": "white",
           "linecolor": "white",
           "ticks": "",
           "title": {
            "standoff": 15
           },
           "zerolinecolor": "white",
           "zerolinewidth": 2
          },
          "yaxis": {
           "automargin": true,
           "gridcolor": "white",
           "linecolor": "white",
           "ticks": "",
           "title": {
            "standoff": 15
           },
           "zerolinecolor": "white",
           "zerolinewidth": 2
          }
         }
        },
        "title": {
         "text": "종합 대시보드 예시"
        },
        "xaxis": {
         "anchor": "y",
         "domain": [
          0,
          1
         ]
        },
        "xaxis2": {
         "anchor": "y2",
         "domain": [
          0,
          0.45
         ]
        },
        "yaxis": {
         "anchor": "x",
         "domain": [
          0.625,
          1
         ]
        },
        "yaxis2": {
         "anchor": "x2",
         "domain": [
          0,
          0.375
         ]
        }
       }
      }
     },
     "metadata": {},
     "output_type": "display_data"
    }
   ],
   "source": [
    "import plotly.graph_objects as go\n",
    "from plotly.subplots import make_subplots\n",
    "import numpy as np\n",
    "\n",
    "# 예제 데이터 생성\n",
    "months = ['1월', '2월', '3월', '4월', '5월']\n",
    "sales = [200, 250, 300, 280, 320]    # 선 그래프: 매출 데이터\n",
    "customers = [50, 65, 70, 60, 80]      # 막대 그래프: 고객 수\n",
    "region_labels = ['서울', '부산', '대구', '인천']\n",
    "region_sales = [150, 120, 100, 130]    # 파이 차트: 지역별 매출 비율\n",
    "\n",
    "# 서브플롯 구성: 2행 2열\n",
    "# 상단 전체에는 선 그래프 (type: 'xy'), 하단 왼쪽은 막대 그래프 (type: 'xy'),\n",
    "# 하단 오른쪽은 파이 차트를 위한 도메인 서브플롯 (type: 'domain')\n",
    "fig = make_subplots(\n",
    "    rows=2, cols=2, \n",
    "    specs=[[{\"colspan\": 2, \"type\": \"xy\"}, None],\n",
    "           [{\"type\": \"xy\"}, {\"type\": \"domain\"}]],\n",
    "    subplot_titles=(\"월별 매출 추이\", \"월별 고객 수\", \"지역별 매출 비율\")\n",
    ")\n",
    "\n",
    "# 선 그래프: 월별 매출 추이 (상단 전체)\n",
    "fig.add_trace(go.Scatter(x=months, y=sales, mode='lines+markers', name='매출'), row=1, col=1)\n",
    "\n",
    "# 막대 그래프: 월별 고객 수 (좌측 하단)\n",
    "fig.add_trace(go.Bar(x=months, y=customers, name='고객 수', marker_color='lightsalmon'), row=2, col=1)\n",
    "\n",
    "# 파이 차트: 지역별 매출 비율 (우측 하단) -> 서브플롯 타입 'domain' 사용\n",
    "fig.add_trace(go.Pie(labels=region_labels, values=region_sales, name='지역 매출'), row=2, col=2)\n",
    "\n",
    "fig.update_layout(title_text=\"종합 대시보드 예시\", showlegend=False)\n",
    "fig.show()\n"
   ]
  },
  {
   "cell_type": "markdown",
   "metadata": {},
   "source": [
    "## 3-4: 지도 시각화 (Scattergeo)\n",
    "- 가상의 위도/경도 데이터를 이용하여 전 세계 주요 도시를 표시하는 지도 차트를 만들어보세요."
   ]
  },
  {
   "cell_type": "code",
   "execution_count": null,
   "metadata": {},
   "outputs": [
    {
     "data": {
      "application/vnd.plotly.v1+json": {
       "config": {
        "plotlyServerURL": "https://plot.ly"
       },
       "data": [
        {
         "lat": [
          37.5665,
          40.7128,
          51.5074,
          35.6895,
          -33.8688
         ],
         "lon": [
          126.978,
          -74.006,
          -0.1278,
          139.6917,
          151.2093
         ],
         "marker": {
          "color": "red",
          "size": 8
         },
         "mode": "markers",
         "text": [
          "서울",
          "뉴욕",
          "런던",
          "도쿄",
          "시드니"
         ],
         "type": "scattergeo"
        }
       ],
       "layout": {
        "geo": {
         "scope": "world"
        },
        "template": {
         "data": {
          "bar": [
           {
            "error_x": {
             "color": "#2a3f5f"
            },
            "error_y": {
             "color": "#2a3f5f"
            },
            "marker": {
             "line": {
              "color": "#E5ECF6",
              "width": 0.5
             },
             "pattern": {
              "fillmode": "overlay",
              "size": 10,
              "solidity": 0.2
             }
            },
            "type": "bar"
           }
          ],
          "barpolar": [
           {
            "marker": {
             "line": {
              "color": "#E5ECF6",
              "width": 0.5
             },
             "pattern": {
              "fillmode": "overlay",
              "size": 10,
              "solidity": 0.2
             }
            },
            "type": "barpolar"
           }
          ],
          "carpet": [
           {
            "aaxis": {
             "endlinecolor": "#2a3f5f",
             "gridcolor": "white",
             "linecolor": "white",
             "minorgridcolor": "white",
             "startlinecolor": "#2a3f5f"
            },
            "baxis": {
             "endlinecolor": "#2a3f5f",
             "gridcolor": "white",
             "linecolor": "white",
             "minorgridcolor": "white",
             "startlinecolor": "#2a3f5f"
            },
            "type": "carpet"
           }
          ],
          "choropleth": [
           {
            "colorbar": {
             "outlinewidth": 0,
             "ticks": ""
            },
            "type": "choropleth"
           }
          ],
          "contour": [
           {
            "colorbar": {
             "outlinewidth": 0,
             "ticks": ""
            },
            "colorscale": [
             [
              0,
              "#0d0887"
             ],
             [
              0.1111111111111111,
              "#46039f"
             ],
             [
              0.2222222222222222,
              "#7201a8"
             ],
             [
              0.3333333333333333,
              "#9c179e"
             ],
             [
              0.4444444444444444,
              "#bd3786"
             ],
             [
              0.5555555555555556,
              "#d8576b"
             ],
             [
              0.6666666666666666,
              "#ed7953"
             ],
             [
              0.7777777777777778,
              "#fb9f3a"
             ],
             [
              0.8888888888888888,
              "#fdca26"
             ],
             [
              1,
              "#f0f921"
             ]
            ],
            "type": "contour"
           }
          ],
          "contourcarpet": [
           {
            "colorbar": {
             "outlinewidth": 0,
             "ticks": ""
            },
            "type": "contourcarpet"
           }
          ],
          "heatmap": [
           {
            "colorbar": {
             "outlinewidth": 0,
             "ticks": ""
            },
            "colorscale": [
             [
              0,
              "#0d0887"
             ],
             [
              0.1111111111111111,
              "#46039f"
             ],
             [
              0.2222222222222222,
              "#7201a8"
             ],
             [
              0.3333333333333333,
              "#9c179e"
             ],
             [
              0.4444444444444444,
              "#bd3786"
             ],
             [
              0.5555555555555556,
              "#d8576b"
             ],
             [
              0.6666666666666666,
              "#ed7953"
             ],
             [
              0.7777777777777778,
              "#fb9f3a"
             ],
             [
              0.8888888888888888,
              "#fdca26"
             ],
             [
              1,
              "#f0f921"
             ]
            ],
            "type": "heatmap"
           }
          ],
          "histogram": [
           {
            "marker": {
             "pattern": {
              "fillmode": "overlay",
              "size": 10,
              "solidity": 0.2
             }
            },
            "type": "histogram"
           }
          ],
          "histogram2d": [
           {
            "colorbar": {
             "outlinewidth": 0,
             "ticks": ""
            },
            "colorscale": [
             [
              0,
              "#0d0887"
             ],
             [
              0.1111111111111111,
              "#46039f"
             ],
             [
              0.2222222222222222,
              "#7201a8"
             ],
             [
              0.3333333333333333,
              "#9c179e"
             ],
             [
              0.4444444444444444,
              "#bd3786"
             ],
             [
              0.5555555555555556,
              "#d8576b"
             ],
             [
              0.6666666666666666,
              "#ed7953"
             ],
             [
              0.7777777777777778,
              "#fb9f3a"
             ],
             [
              0.8888888888888888,
              "#fdca26"
             ],
             [
              1,
              "#f0f921"
             ]
            ],
            "type": "histogram2d"
           }
          ],
          "histogram2dcontour": [
           {
            "colorbar": {
             "outlinewidth": 0,
             "ticks": ""
            },
            "colorscale": [
             [
              0,
              "#0d0887"
             ],
             [
              0.1111111111111111,
              "#46039f"
             ],
             [
              0.2222222222222222,
              "#7201a8"
             ],
             [
              0.3333333333333333,
              "#9c179e"
             ],
             [
              0.4444444444444444,
              "#bd3786"
             ],
             [
              0.5555555555555556,
              "#d8576b"
             ],
             [
              0.6666666666666666,
              "#ed7953"
             ],
             [
              0.7777777777777778,
              "#fb9f3a"
             ],
             [
              0.8888888888888888,
              "#fdca26"
             ],
             [
              1,
              "#f0f921"
             ]
            ],
            "type": "histogram2dcontour"
           }
          ],
          "mesh3d": [
           {
            "colorbar": {
             "outlinewidth": 0,
             "ticks": ""
            },
            "type": "mesh3d"
           }
          ],
          "parcoords": [
           {
            "line": {
             "colorbar": {
              "outlinewidth": 0,
              "ticks": ""
             }
            },
            "type": "parcoords"
           }
          ],
          "pie": [
           {
            "automargin": true,
            "type": "pie"
           }
          ],
          "scatter": [
           {
            "fillpattern": {
             "fillmode": "overlay",
             "size": 10,
             "solidity": 0.2
            },
            "type": "scatter"
           }
          ],
          "scatter3d": [
           {
            "line": {
             "colorbar": {
              "outlinewidth": 0,
              "ticks": ""
             }
            },
            "marker": {
             "colorbar": {
              "outlinewidth": 0,
              "ticks": ""
             }
            },
            "type": "scatter3d"
           }
          ],
          "scattercarpet": [
           {
            "marker": {
             "colorbar": {
              "outlinewidth": 0,
              "ticks": ""
             }
            },
            "type": "scattercarpet"
           }
          ],
          "scattergeo": [
           {
            "marker": {
             "colorbar": {
              "outlinewidth": 0,
              "ticks": ""
             }
            },
            "type": "scattergeo"
           }
          ],
          "scattergl": [
           {
            "marker": {
             "colorbar": {
              "outlinewidth": 0,
              "ticks": ""
             }
            },
            "type": "scattergl"
           }
          ],
          "scattermap": [
           {
            "marker": {
             "colorbar": {
              "outlinewidth": 0,
              "ticks": ""
             }
            },
            "type": "scattermap"
           }
          ],
          "scattermapbox": [
           {
            "marker": {
             "colorbar": {
              "outlinewidth": 0,
              "ticks": ""
             }
            },
            "type": "scattermapbox"
           }
          ],
          "scatterpolar": [
           {
            "marker": {
             "colorbar": {
              "outlinewidth": 0,
              "ticks": ""
             }
            },
            "type": "scatterpolar"
           }
          ],
          "scatterpolargl": [
           {
            "marker": {
             "colorbar": {
              "outlinewidth": 0,
              "ticks": ""
             }
            },
            "type": "scatterpolargl"
           }
          ],
          "scatterternary": [
           {
            "marker": {
             "colorbar": {
              "outlinewidth": 0,
              "ticks": ""
             }
            },
            "type": "scatterternary"
           }
          ],
          "surface": [
           {
            "colorbar": {
             "outlinewidth": 0,
             "ticks": ""
            },
            "colorscale": [
             [
              0,
              "#0d0887"
             ],
             [
              0.1111111111111111,
              "#46039f"
             ],
             [
              0.2222222222222222,
              "#7201a8"
             ],
             [
              0.3333333333333333,
              "#9c179e"
             ],
             [
              0.4444444444444444,
              "#bd3786"
             ],
             [
              0.5555555555555556,
              "#d8576b"
             ],
             [
              0.6666666666666666,
              "#ed7953"
             ],
             [
              0.7777777777777778,
              "#fb9f3a"
             ],
             [
              0.8888888888888888,
              "#fdca26"
             ],
             [
              1,
              "#f0f921"
             ]
            ],
            "type": "surface"
           }
          ],
          "table": [
           {
            "cells": {
             "fill": {
              "color": "#EBF0F8"
             },
             "line": {
              "color": "white"
             }
            },
            "header": {
             "fill": {
              "color": "#C8D4E3"
             },
             "line": {
              "color": "white"
             }
            },
            "type": "table"
           }
          ]
         },
         "layout": {
          "annotationdefaults": {
           "arrowcolor": "#2a3f5f",
           "arrowhead": 0,
           "arrowwidth": 1
          },
          "autotypenumbers": "strict",
          "coloraxis": {
           "colorbar": {
            "outlinewidth": 0,
            "ticks": ""
           }
          },
          "colorscale": {
           "diverging": [
            [
             0,
             "#8e0152"
            ],
            [
             0.1,
             "#c51b7d"
            ],
            [
             0.2,
             "#de77ae"
            ],
            [
             0.3,
             "#f1b6da"
            ],
            [
             0.4,
             "#fde0ef"
            ],
            [
             0.5,
             "#f7f7f7"
            ],
            [
             0.6,
             "#e6f5d0"
            ],
            [
             0.7,
             "#b8e186"
            ],
            [
             0.8,
             "#7fbc41"
            ],
            [
             0.9,
             "#4d9221"
            ],
            [
             1,
             "#276419"
            ]
           ],
           "sequential": [
            [
             0,
             "#0d0887"
            ],
            [
             0.1111111111111111,
             "#46039f"
            ],
            [
             0.2222222222222222,
             "#7201a8"
            ],
            [
             0.3333333333333333,
             "#9c179e"
            ],
            [
             0.4444444444444444,
             "#bd3786"
            ],
            [
             0.5555555555555556,
             "#d8576b"
            ],
            [
             0.6666666666666666,
             "#ed7953"
            ],
            [
             0.7777777777777778,
             "#fb9f3a"
            ],
            [
             0.8888888888888888,
             "#fdca26"
            ],
            [
             1,
             "#f0f921"
            ]
           ],
           "sequentialminus": [
            [
             0,
             "#0d0887"
            ],
            [
             0.1111111111111111,
             "#46039f"
            ],
            [
             0.2222222222222222,
             "#7201a8"
            ],
            [
             0.3333333333333333,
             "#9c179e"
            ],
            [
             0.4444444444444444,
             "#bd3786"
            ],
            [
             0.5555555555555556,
             "#d8576b"
            ],
            [
             0.6666666666666666,
             "#ed7953"
            ],
            [
             0.7777777777777778,
             "#fb9f3a"
            ],
            [
             0.8888888888888888,
             "#fdca26"
            ],
            [
             1,
             "#f0f921"
            ]
           ]
          },
          "colorway": [
           "#636efa",
           "#EF553B",
           "#00cc96",
           "#ab63fa",
           "#FFA15A",
           "#19d3f3",
           "#FF6692",
           "#B6E880",
           "#FF97FF",
           "#FECB52"
          ],
          "font": {
           "color": "#2a3f5f"
          },
          "geo": {
           "bgcolor": "white",
           "lakecolor": "white",
           "landcolor": "#E5ECF6",
           "showlakes": true,
           "showland": true,
           "subunitcolor": "white"
          },
          "hoverlabel": {
           "align": "left"
          },
          "hovermode": "closest",
          "mapbox": {
           "style": "light"
          },
          "paper_bgcolor": "white",
          "plot_bgcolor": "#E5ECF6",
          "polar": {
           "angularaxis": {
            "gridcolor": "white",
            "linecolor": "white",
            "ticks": ""
           },
           "bgcolor": "#E5ECF6",
           "radialaxis": {
            "gridcolor": "white",
            "linecolor": "white",
            "ticks": ""
           }
          },
          "scene": {
           "xaxis": {
            "backgroundcolor": "#E5ECF6",
            "gridcolor": "white",
            "gridwidth": 2,
            "linecolor": "white",
            "showbackground": true,
            "ticks": "",
            "zerolinecolor": "white"
           },
           "yaxis": {
            "backgroundcolor": "#E5ECF6",
            "gridcolor": "white",
            "gridwidth": 2,
            "linecolor": "white",
            "showbackground": true,
            "ticks": "",
            "zerolinecolor": "white"
           },
           "zaxis": {
            "backgroundcolor": "#E5ECF6",
            "gridcolor": "white",
            "gridwidth": 2,
            "linecolor": "white",
            "showbackground": true,
            "ticks": "",
            "zerolinecolor": "white"
           }
          },
          "shapedefaults": {
           "line": {
            "color": "#2a3f5f"
           }
          },
          "ternary": {
           "aaxis": {
            "gridcolor": "white",
            "linecolor": "white",
            "ticks": ""
           },
           "baxis": {
            "gridcolor": "white",
            "linecolor": "white",
            "ticks": ""
           },
           "bgcolor": "#E5ECF6",
           "caxis": {
            "gridcolor": "white",
            "linecolor": "white",
            "ticks": ""
           }
          },
          "title": {
           "x": 0.05
          },
          "xaxis": {
           "automargin": true,
           "gridcolor": "white",
           "linecolor": "white",
           "ticks": "",
           "title": {
            "standoff": 15
           },
           "zerolinecolor": "white",
           "zerolinewidth": 2
          },
          "yaxis": {
           "automargin": true,
           "gridcolor": "white",
           "linecolor": "white",
           "ticks": "",
           "title": {
            "standoff": 15
           },
           "zerolinecolor": "white",
           "zerolinewidth": 2
          }
         }
        },
        "title": {
         "text": "전 세계 주요 도시 지도"
        }
       }
      }
     },
     "metadata": {},
     "output_type": "display_data"
    }
   ],
   "source": [
    "import plotly.graph_objects as go\n",
    "\n",
    "# 가상 도시 데이터 (도시명, 위도, 경도)\n",
    "cities = [\"서울\", \"뉴욕\", \"런던\", \"도쿄\", \"시드니\"]\n",
    "lats = [37.5665, 40.7128, 51.5074, 35.6895, -33.8688]\n",
    "lons = [126.9780, -74.0060, -0.1278, 139.6917, 151.2093]\n",
    "\n",
    "fig = go.Figure(\n",
    "    data=go.Scattergeo(\n",
    "        lon=lons,\n",
    "        lat=lats,\n",
    "        text=cities,\n",
    "        mode=\"markers\",\n",
    "        marker=dict(size=8, color=\"red\"),\n",
    "    )\n",
    ")\n",
    "fig.update_layout(title=\"전 세계 주요 도시 지도\", geo_scope=\"world\")\n",
    "fig.show()"
   ]
  },
  {
   "cell_type": "markdown",
   "metadata": {},
   "source": [
    "## 4: 세계 Choropleth 지도 – 국가별 평균 기온 시각화\n",
    "- 국가별 평균 기온 데이터를 사용하여 Choropleth 지도를 통해 각 국가의 기후를 시각화하세요."
   ]
  },
  {
   "cell_type": "code",
   "execution_count": 9,
   "metadata": {},
   "outputs": [
    {
     "data": {
      "application/vnd.plotly.v1+json": {
       "config": {
        "plotlyServerURL": "https://plot.ly"
       },
       "data": [
        {
         "colorbar": {
          "title": {
           "text": "평균 기온 (°C)"
          }
         },
         "colorscale": [
          [
           0,
           "rgb(165,0,38)"
          ],
          [
           0.1,
           "rgb(215,48,39)"
          ],
          [
           0.2,
           "rgb(244,109,67)"
          ],
          [
           0.3,
           "rgb(253,174,97)"
          ],
          [
           0.4,
           "rgb(254,224,144)"
          ],
          [
           0.5,
           "rgb(255,255,191)"
          ],
          [
           0.6,
           "rgb(224,243,248)"
          ],
          [
           0.7,
           "rgb(171,217,233)"
          ],
          [
           0.8,
           "rgb(116,173,209)"
          ],
          [
           0.9,
           "rgb(69,117,180)"
          ],
          [
           1,
           "rgb(49,54,149)"
          ]
         ],
         "locationmode": "ISO-3",
         "locations": [
          "USA",
          "CAN",
          "BRA",
          "RUS",
          "AUS",
          "IND"
         ],
         "type": "choropleth",
         "z": [
          12,
          -5,
          25,
          -2,
          22,
          28
         ]
        }
       ],
       "layout": {
        "geo": {
         "projection": {
          "type": "equirectangular"
         },
         "showcoastlines": true,
         "showframe": false
        },
        "template": {
         "data": {
          "bar": [
           {
            "error_x": {
             "color": "#2a3f5f"
            },
            "error_y": {
             "color": "#2a3f5f"
            },
            "marker": {
             "line": {
              "color": "#E5ECF6",
              "width": 0.5
             },
             "pattern": {
              "fillmode": "overlay",
              "size": 10,
              "solidity": 0.2
             }
            },
            "type": "bar"
           }
          ],
          "barpolar": [
           {
            "marker": {
             "line": {
              "color": "#E5ECF6",
              "width": 0.5
             },
             "pattern": {
              "fillmode": "overlay",
              "size": 10,
              "solidity": 0.2
             }
            },
            "type": "barpolar"
           }
          ],
          "carpet": [
           {
            "aaxis": {
             "endlinecolor": "#2a3f5f",
             "gridcolor": "white",
             "linecolor": "white",
             "minorgridcolor": "white",
             "startlinecolor": "#2a3f5f"
            },
            "baxis": {
             "endlinecolor": "#2a3f5f",
             "gridcolor": "white",
             "linecolor": "white",
             "minorgridcolor": "white",
             "startlinecolor": "#2a3f5f"
            },
            "type": "carpet"
           }
          ],
          "choropleth": [
           {
            "colorbar": {
             "outlinewidth": 0,
             "ticks": ""
            },
            "type": "choropleth"
           }
          ],
          "contour": [
           {
            "colorbar": {
             "outlinewidth": 0,
             "ticks": ""
            },
            "colorscale": [
             [
              0,
              "#0d0887"
             ],
             [
              0.1111111111111111,
              "#46039f"
             ],
             [
              0.2222222222222222,
              "#7201a8"
             ],
             [
              0.3333333333333333,
              "#9c179e"
             ],
             [
              0.4444444444444444,
              "#bd3786"
             ],
             [
              0.5555555555555556,
              "#d8576b"
             ],
             [
              0.6666666666666666,
              "#ed7953"
             ],
             [
              0.7777777777777778,
              "#fb9f3a"
             ],
             [
              0.8888888888888888,
              "#fdca26"
             ],
             [
              1,
              "#f0f921"
             ]
            ],
            "type": "contour"
           }
          ],
          "contourcarpet": [
           {
            "colorbar": {
             "outlinewidth": 0,
             "ticks": ""
            },
            "type": "contourcarpet"
           }
          ],
          "heatmap": [
           {
            "colorbar": {
             "outlinewidth": 0,
             "ticks": ""
            },
            "colorscale": [
             [
              0,
              "#0d0887"
             ],
             [
              0.1111111111111111,
              "#46039f"
             ],
             [
              0.2222222222222222,
              "#7201a8"
             ],
             [
              0.3333333333333333,
              "#9c179e"
             ],
             [
              0.4444444444444444,
              "#bd3786"
             ],
             [
              0.5555555555555556,
              "#d8576b"
             ],
             [
              0.6666666666666666,
              "#ed7953"
             ],
             [
              0.7777777777777778,
              "#fb9f3a"
             ],
             [
              0.8888888888888888,
              "#fdca26"
             ],
             [
              1,
              "#f0f921"
             ]
            ],
            "type": "heatmap"
           }
          ],
          "histogram": [
           {
            "marker": {
             "pattern": {
              "fillmode": "overlay",
              "size": 10,
              "solidity": 0.2
             }
            },
            "type": "histogram"
           }
          ],
          "histogram2d": [
           {
            "colorbar": {
             "outlinewidth": 0,
             "ticks": ""
            },
            "colorscale": [
             [
              0,
              "#0d0887"
             ],
             [
              0.1111111111111111,
              "#46039f"
             ],
             [
              0.2222222222222222,
              "#7201a8"
             ],
             [
              0.3333333333333333,
              "#9c179e"
             ],
             [
              0.4444444444444444,
              "#bd3786"
             ],
             [
              0.5555555555555556,
              "#d8576b"
             ],
             [
              0.6666666666666666,
              "#ed7953"
             ],
             [
              0.7777777777777778,
              "#fb9f3a"
             ],
             [
              0.8888888888888888,
              "#fdca26"
             ],
             [
              1,
              "#f0f921"
             ]
            ],
            "type": "histogram2d"
           }
          ],
          "histogram2dcontour": [
           {
            "colorbar": {
             "outlinewidth": 0,
             "ticks": ""
            },
            "colorscale": [
             [
              0,
              "#0d0887"
             ],
             [
              0.1111111111111111,
              "#46039f"
             ],
             [
              0.2222222222222222,
              "#7201a8"
             ],
             [
              0.3333333333333333,
              "#9c179e"
             ],
             [
              0.4444444444444444,
              "#bd3786"
             ],
             [
              0.5555555555555556,
              "#d8576b"
             ],
             [
              0.6666666666666666,
              "#ed7953"
             ],
             [
              0.7777777777777778,
              "#fb9f3a"
             ],
             [
              0.8888888888888888,
              "#fdca26"
             ],
             [
              1,
              "#f0f921"
             ]
            ],
            "type": "histogram2dcontour"
           }
          ],
          "mesh3d": [
           {
            "colorbar": {
             "outlinewidth": 0,
             "ticks": ""
            },
            "type": "mesh3d"
           }
          ],
          "parcoords": [
           {
            "line": {
             "colorbar": {
              "outlinewidth": 0,
              "ticks": ""
             }
            },
            "type": "parcoords"
           }
          ],
          "pie": [
           {
            "automargin": true,
            "type": "pie"
           }
          ],
          "scatter": [
           {
            "fillpattern": {
             "fillmode": "overlay",
             "size": 10,
             "solidity": 0.2
            },
            "type": "scatter"
           }
          ],
          "scatter3d": [
           {
            "line": {
             "colorbar": {
              "outlinewidth": 0,
              "ticks": ""
             }
            },
            "marker": {
             "colorbar": {
              "outlinewidth": 0,
              "ticks": ""
             }
            },
            "type": "scatter3d"
           }
          ],
          "scattercarpet": [
           {
            "marker": {
             "colorbar": {
              "outlinewidth": 0,
              "ticks": ""
             }
            },
            "type": "scattercarpet"
           }
          ],
          "scattergeo": [
           {
            "marker": {
             "colorbar": {
              "outlinewidth": 0,
              "ticks": ""
             }
            },
            "type": "scattergeo"
           }
          ],
          "scattergl": [
           {
            "marker": {
             "colorbar": {
              "outlinewidth": 0,
              "ticks": ""
             }
            },
            "type": "scattergl"
           }
          ],
          "scattermap": [
           {
            "marker": {
             "colorbar": {
              "outlinewidth": 0,
              "ticks": ""
             }
            },
            "type": "scattermap"
           }
          ],
          "scattermapbox": [
           {
            "marker": {
             "colorbar": {
              "outlinewidth": 0,
              "ticks": ""
             }
            },
            "type": "scattermapbox"
           }
          ],
          "scatterpolar": [
           {
            "marker": {
             "colorbar": {
              "outlinewidth": 0,
              "ticks": ""
             }
            },
            "type": "scatterpolar"
           }
          ],
          "scatterpolargl": [
           {
            "marker": {
             "colorbar": {
              "outlinewidth": 0,
              "ticks": ""
             }
            },
            "type": "scatterpolargl"
           }
          ],
          "scatterternary": [
           {
            "marker": {
             "colorbar": {
              "outlinewidth": 0,
              "ticks": ""
             }
            },
            "type": "scatterternary"
           }
          ],
          "surface": [
           {
            "colorbar": {
             "outlinewidth": 0,
             "ticks": ""
            },
            "colorscale": [
             [
              0,
              "#0d0887"
             ],
             [
              0.1111111111111111,
              "#46039f"
             ],
             [
              0.2222222222222222,
              "#7201a8"
             ],
             [
              0.3333333333333333,
              "#9c179e"
             ],
             [
              0.4444444444444444,
              "#bd3786"
             ],
             [
              0.5555555555555556,
              "#d8576b"
             ],
             [
              0.6666666666666666,
              "#ed7953"
             ],
             [
              0.7777777777777778,
              "#fb9f3a"
             ],
             [
              0.8888888888888888,
              "#fdca26"
             ],
             [
              1,
              "#f0f921"
             ]
            ],
            "type": "surface"
           }
          ],
          "table": [
           {
            "cells": {
             "fill": {
              "color": "#EBF0F8"
             },
             "line": {
              "color": "white"
             }
            },
            "header": {
             "fill": {
              "color": "#C8D4E3"
             },
             "line": {
              "color": "white"
             }
            },
            "type": "table"
           }
          ]
         },
         "layout": {
          "annotationdefaults": {
           "arrowcolor": "#2a3f5f",
           "arrowhead": 0,
           "arrowwidth": 1
          },
          "autotypenumbers": "strict",
          "coloraxis": {
           "colorbar": {
            "outlinewidth": 0,
            "ticks": ""
           }
          },
          "colorscale": {
           "diverging": [
            [
             0,
             "#8e0152"
            ],
            [
             0.1,
             "#c51b7d"
            ],
            [
             0.2,
             "#de77ae"
            ],
            [
             0.3,
             "#f1b6da"
            ],
            [
             0.4,
             "#fde0ef"
            ],
            [
             0.5,
             "#f7f7f7"
            ],
            [
             0.6,
             "#e6f5d0"
            ],
            [
             0.7,
             "#b8e186"
            ],
            [
             0.8,
             "#7fbc41"
            ],
            [
             0.9,
             "#4d9221"
            ],
            [
             1,
             "#276419"
            ]
           ],
           "sequential": [
            [
             0,
             "#0d0887"
            ],
            [
             0.1111111111111111,
             "#46039f"
            ],
            [
             0.2222222222222222,
             "#7201a8"
            ],
            [
             0.3333333333333333,
             "#9c179e"
            ],
            [
             0.4444444444444444,
             "#bd3786"
            ],
            [
             0.5555555555555556,
             "#d8576b"
            ],
            [
             0.6666666666666666,
             "#ed7953"
            ],
            [
             0.7777777777777778,
             "#fb9f3a"
            ],
            [
             0.8888888888888888,
             "#fdca26"
            ],
            [
             1,
             "#f0f921"
            ]
           ],
           "sequentialminus": [
            [
             0,
             "#0d0887"
            ],
            [
             0.1111111111111111,
             "#46039f"
            ],
            [
             0.2222222222222222,
             "#7201a8"
            ],
            [
             0.3333333333333333,
             "#9c179e"
            ],
            [
             0.4444444444444444,
             "#bd3786"
            ],
            [
             0.5555555555555556,
             "#d8576b"
            ],
            [
             0.6666666666666666,
             "#ed7953"
            ],
            [
             0.7777777777777778,
             "#fb9f3a"
            ],
            [
             0.8888888888888888,
             "#fdca26"
            ],
            [
             1,
             "#f0f921"
            ]
           ]
          },
          "colorway": [
           "#636efa",
           "#EF553B",
           "#00cc96",
           "#ab63fa",
           "#FFA15A",
           "#19d3f3",
           "#FF6692",
           "#B6E880",
           "#FF97FF",
           "#FECB52"
          ],
          "font": {
           "color": "#2a3f5f"
          },
          "geo": {
           "bgcolor": "white",
           "lakecolor": "white",
           "landcolor": "#E5ECF6",
           "showlakes": true,
           "showland": true,
           "subunitcolor": "white"
          },
          "hoverlabel": {
           "align": "left"
          },
          "hovermode": "closest",
          "mapbox": {
           "style": "light"
          },
          "paper_bgcolor": "white",
          "plot_bgcolor": "#E5ECF6",
          "polar": {
           "angularaxis": {
            "gridcolor": "white",
            "linecolor": "white",
            "ticks": ""
           },
           "bgcolor": "#E5ECF6",
           "radialaxis": {
            "gridcolor": "white",
            "linecolor": "white",
            "ticks": ""
           }
          },
          "scene": {
           "xaxis": {
            "backgroundcolor": "#E5ECF6",
            "gridcolor": "white",
            "gridwidth": 2,
            "linecolor": "white",
            "showbackground": true,
            "ticks": "",
            "zerolinecolor": "white"
           },
           "yaxis": {
            "backgroundcolor": "#E5ECF6",
            "gridcolor": "white",
            "gridwidth": 2,
            "linecolor": "white",
            "showbackground": true,
            "ticks": "",
            "zerolinecolor": "white"
           },
           "zaxis": {
            "backgroundcolor": "#E5ECF6",
            "gridcolor": "white",
            "gridwidth": 2,
            "linecolor": "white",
            "showbackground": true,
            "ticks": "",
            "zerolinecolor": "white"
           }
          },
          "shapedefaults": {
           "line": {
            "color": "#2a3f5f"
           }
          },
          "ternary": {
           "aaxis": {
            "gridcolor": "white",
            "linecolor": "white",
            "ticks": ""
           },
           "baxis": {
            "gridcolor": "white",
            "linecolor": "white",
            "ticks": ""
           },
           "bgcolor": "#E5ECF6",
           "caxis": {
            "gridcolor": "white",
            "linecolor": "white",
            "ticks": ""
           }
          },
          "title": {
           "x": 0.05
          },
          "xaxis": {
           "automargin": true,
           "gridcolor": "white",
           "linecolor": "white",
           "ticks": "",
           "title": {
            "standoff": 15
           },
           "zerolinecolor": "white",
           "zerolinewidth": 2
          },
          "yaxis": {
           "automargin": true,
           "gridcolor": "white",
           "linecolor": "white",
           "ticks": "",
           "title": {
            "standoff": 15
           },
           "zerolinecolor": "white",
           "zerolinewidth": 2
          }
         }
        },
        "title": {
         "text": "국가별 평균 기온 시각화"
        }
       }
      }
     },
     "metadata": {},
     "output_type": "display_data"
    }
   ],
   "source": [
    "import plotly.graph_objects as go\n",
    "\n",
    "# 예제 데이터: 국가별 평균 기온 (섭씨)\n",
    "countries = ['USA', 'CAN', 'BRA', 'RUS', 'AUS', 'IND']\n",
    "avg_temp = [12, -5, 25, -2, 22, 28]\n",
    "\n",
    "fig = go.Figure(data=go.Choropleth(\n",
    "    locations=countries,\n",
    "    z=avg_temp,\n",
    "    locationmode='ISO-3',\n",
    "    colorscale='RdYlBu',\n",
    "    colorbar_title=\"평균 기온 (°C)\"\n",
    "))\n",
    "\n",
    "fig.update_layout(\n",
    "    title_text=\"국가별 평균 기온 시각화\",\n",
    "    geo=dict(showframe=False, showcoastlines=True, projection_type='equirectangular')\n",
    ")\n",
    "fig.show()\n"
   ]
  },
  {
   "cell_type": "markdown",
   "metadata": {},
   "source": [
    "## 3-5: 결합 차트 (라인 + 막대)\n",
    "- 한 차트에 라인 그래프와 막대 그래프를 결합하여, 두 가지 데이터를 동시에 비교하는 결합 차트를 만들어보세요."
   ]
  },
  {
   "cell_type": "code",
   "execution_count": null,
   "metadata": {},
   "outputs": [
    {
     "data": {
      "application/vnd.plotly.v1+json": {
       "config": {
        "plotlyServerURL": "https://plot.ly"
       },
       "data": [
        {
         "marker": {
          "color": "lightsalmon"
         },
         "name": "매출",
         "type": "bar",
         "x": [
          "1월",
          "2월",
          "3월",
          "4월",
          "5월"
         ],
         "y": [
          200,
          250,
          300,
          280,
          320
         ],
         "yaxis": "y"
        },
        {
         "marker": {
          "color": "darkblue"
         },
         "mode": "lines+markers",
         "name": "성장률",
         "type": "scatter",
         "x": [
          "1월",
          "2월",
          "3월",
          "4월",
          "5월"
         ],
         "y": [
          5,
          10,
          15,
          10,
          20
         ],
         "yaxis": "y2"
        }
       ],
       "layout": {
        "legend": {
         "orientation": "h",
         "x": 0.1,
         "y": 1.1
        },
        "template": {
         "data": {
          "bar": [
           {
            "error_x": {
             "color": "#2a3f5f"
            },
            "error_y": {
             "color": "#2a3f5f"
            },
            "marker": {
             "line": {
              "color": "#E5ECF6",
              "width": 0.5
             },
             "pattern": {
              "fillmode": "overlay",
              "size": 10,
              "solidity": 0.2
             }
            },
            "type": "bar"
           }
          ],
          "barpolar": [
           {
            "marker": {
             "line": {
              "color": "#E5ECF6",
              "width": 0.5
             },
             "pattern": {
              "fillmode": "overlay",
              "size": 10,
              "solidity": 0.2
             }
            },
            "type": "barpolar"
           }
          ],
          "carpet": [
           {
            "aaxis": {
             "endlinecolor": "#2a3f5f",
             "gridcolor": "white",
             "linecolor": "white",
             "minorgridcolor": "white",
             "startlinecolor": "#2a3f5f"
            },
            "baxis": {
             "endlinecolor": "#2a3f5f",
             "gridcolor": "white",
             "linecolor": "white",
             "minorgridcolor": "white",
             "startlinecolor": "#2a3f5f"
            },
            "type": "carpet"
           }
          ],
          "choropleth": [
           {
            "colorbar": {
             "outlinewidth": 0,
             "ticks": ""
            },
            "type": "choropleth"
           }
          ],
          "contour": [
           {
            "colorbar": {
             "outlinewidth": 0,
             "ticks": ""
            },
            "colorscale": [
             [
              0,
              "#0d0887"
             ],
             [
              0.1111111111111111,
              "#46039f"
             ],
             [
              0.2222222222222222,
              "#7201a8"
             ],
             [
              0.3333333333333333,
              "#9c179e"
             ],
             [
              0.4444444444444444,
              "#bd3786"
             ],
             [
              0.5555555555555556,
              "#d8576b"
             ],
             [
              0.6666666666666666,
              "#ed7953"
             ],
             [
              0.7777777777777778,
              "#fb9f3a"
             ],
             [
              0.8888888888888888,
              "#fdca26"
             ],
             [
              1,
              "#f0f921"
             ]
            ],
            "type": "contour"
           }
          ],
          "contourcarpet": [
           {
            "colorbar": {
             "outlinewidth": 0,
             "ticks": ""
            },
            "type": "contourcarpet"
           }
          ],
          "heatmap": [
           {
            "colorbar": {
             "outlinewidth": 0,
             "ticks": ""
            },
            "colorscale": [
             [
              0,
              "#0d0887"
             ],
             [
              0.1111111111111111,
              "#46039f"
             ],
             [
              0.2222222222222222,
              "#7201a8"
             ],
             [
              0.3333333333333333,
              "#9c179e"
             ],
             [
              0.4444444444444444,
              "#bd3786"
             ],
             [
              0.5555555555555556,
              "#d8576b"
             ],
             [
              0.6666666666666666,
              "#ed7953"
             ],
             [
              0.7777777777777778,
              "#fb9f3a"
             ],
             [
              0.8888888888888888,
              "#fdca26"
             ],
             [
              1,
              "#f0f921"
             ]
            ],
            "type": "heatmap"
           }
          ],
          "histogram": [
           {
            "marker": {
             "pattern": {
              "fillmode": "overlay",
              "size": 10,
              "solidity": 0.2
             }
            },
            "type": "histogram"
           }
          ],
          "histogram2d": [
           {
            "colorbar": {
             "outlinewidth": 0,
             "ticks": ""
            },
            "colorscale": [
             [
              0,
              "#0d0887"
             ],
             [
              0.1111111111111111,
              "#46039f"
             ],
             [
              0.2222222222222222,
              "#7201a8"
             ],
             [
              0.3333333333333333,
              "#9c179e"
             ],
             [
              0.4444444444444444,
              "#bd3786"
             ],
             [
              0.5555555555555556,
              "#d8576b"
             ],
             [
              0.6666666666666666,
              "#ed7953"
             ],
             [
              0.7777777777777778,
              "#fb9f3a"
             ],
             [
              0.8888888888888888,
              "#fdca26"
             ],
             [
              1,
              "#f0f921"
             ]
            ],
            "type": "histogram2d"
           }
          ],
          "histogram2dcontour": [
           {
            "colorbar": {
             "outlinewidth": 0,
             "ticks": ""
            },
            "colorscale": [
             [
              0,
              "#0d0887"
             ],
             [
              0.1111111111111111,
              "#46039f"
             ],
             [
              0.2222222222222222,
              "#7201a8"
             ],
             [
              0.3333333333333333,
              "#9c179e"
             ],
             [
              0.4444444444444444,
              "#bd3786"
             ],
             [
              0.5555555555555556,
              "#d8576b"
             ],
             [
              0.6666666666666666,
              "#ed7953"
             ],
             [
              0.7777777777777778,
              "#fb9f3a"
             ],
             [
              0.8888888888888888,
              "#fdca26"
             ],
             [
              1,
              "#f0f921"
             ]
            ],
            "type": "histogram2dcontour"
           }
          ],
          "mesh3d": [
           {
            "colorbar": {
             "outlinewidth": 0,
             "ticks": ""
            },
            "type": "mesh3d"
           }
          ],
          "parcoords": [
           {
            "line": {
             "colorbar": {
              "outlinewidth": 0,
              "ticks": ""
             }
            },
            "type": "parcoords"
           }
          ],
          "pie": [
           {
            "automargin": true,
            "type": "pie"
           }
          ],
          "scatter": [
           {
            "fillpattern": {
             "fillmode": "overlay",
             "size": 10,
             "solidity": 0.2
            },
            "type": "scatter"
           }
          ],
          "scatter3d": [
           {
            "line": {
             "colorbar": {
              "outlinewidth": 0,
              "ticks": ""
             }
            },
            "marker": {
             "colorbar": {
              "outlinewidth": 0,
              "ticks": ""
             }
            },
            "type": "scatter3d"
           }
          ],
          "scattercarpet": [
           {
            "marker": {
             "colorbar": {
              "outlinewidth": 0,
              "ticks": ""
             }
            },
            "type": "scattercarpet"
           }
          ],
          "scattergeo": [
           {
            "marker": {
             "colorbar": {
              "outlinewidth": 0,
              "ticks": ""
             }
            },
            "type": "scattergeo"
           }
          ],
          "scattergl": [
           {
            "marker": {
             "colorbar": {
              "outlinewidth": 0,
              "ticks": ""
             }
            },
            "type": "scattergl"
           }
          ],
          "scattermap": [
           {
            "marker": {
             "colorbar": {
              "outlinewidth": 0,
              "ticks": ""
             }
            },
            "type": "scattermap"
           }
          ],
          "scattermapbox": [
           {
            "marker": {
             "colorbar": {
              "outlinewidth": 0,
              "ticks": ""
             }
            },
            "type": "scattermapbox"
           }
          ],
          "scatterpolar": [
           {
            "marker": {
             "colorbar": {
              "outlinewidth": 0,
              "ticks": ""
             }
            },
            "type": "scatterpolar"
           }
          ],
          "scatterpolargl": [
           {
            "marker": {
             "colorbar": {
              "outlinewidth": 0,
              "ticks": ""
             }
            },
            "type": "scatterpolargl"
           }
          ],
          "scatterternary": [
           {
            "marker": {
             "colorbar": {
              "outlinewidth": 0,
              "ticks": ""
             }
            },
            "type": "scatterternary"
           }
          ],
          "surface": [
           {
            "colorbar": {
             "outlinewidth": 0,
             "ticks": ""
            },
            "colorscale": [
             [
              0,
              "#0d0887"
             ],
             [
              0.1111111111111111,
              "#46039f"
             ],
             [
              0.2222222222222222,
              "#7201a8"
             ],
             [
              0.3333333333333333,
              "#9c179e"
             ],
             [
              0.4444444444444444,
              "#bd3786"
             ],
             [
              0.5555555555555556,
              "#d8576b"
             ],
             [
              0.6666666666666666,
              "#ed7953"
             ],
             [
              0.7777777777777778,
              "#fb9f3a"
             ],
             [
              0.8888888888888888,
              "#fdca26"
             ],
             [
              1,
              "#f0f921"
             ]
            ],
            "type": "surface"
           }
          ],
          "table": [
           {
            "cells": {
             "fill": {
              "color": "#EBF0F8"
             },
             "line": {
              "color": "white"
             }
            },
            "header": {
             "fill": {
              "color": "#C8D4E3"
             },
             "line": {
              "color": "white"
             }
            },
            "type": "table"
           }
          ]
         },
         "layout": {
          "annotationdefaults": {
           "arrowcolor": "#2a3f5f",
           "arrowhead": 0,
           "arrowwidth": 1
          },
          "autotypenumbers": "strict",
          "coloraxis": {
           "colorbar": {
            "outlinewidth": 0,
            "ticks": ""
           }
          },
          "colorscale": {
           "diverging": [
            [
             0,
             "#8e0152"
            ],
            [
             0.1,
             "#c51b7d"
            ],
            [
             0.2,
             "#de77ae"
            ],
            [
             0.3,
             "#f1b6da"
            ],
            [
             0.4,
             "#fde0ef"
            ],
            [
             0.5,
             "#f7f7f7"
            ],
            [
             0.6,
             "#e6f5d0"
            ],
            [
             0.7,
             "#b8e186"
            ],
            [
             0.8,
             "#7fbc41"
            ],
            [
             0.9,
             "#4d9221"
            ],
            [
             1,
             "#276419"
            ]
           ],
           "sequential": [
            [
             0,
             "#0d0887"
            ],
            [
             0.1111111111111111,
             "#46039f"
            ],
            [
             0.2222222222222222,
             "#7201a8"
            ],
            [
             0.3333333333333333,
             "#9c179e"
            ],
            [
             0.4444444444444444,
             "#bd3786"
            ],
            [
             0.5555555555555556,
             "#d8576b"
            ],
            [
             0.6666666666666666,
             "#ed7953"
            ],
            [
             0.7777777777777778,
             "#fb9f3a"
            ],
            [
             0.8888888888888888,
             "#fdca26"
            ],
            [
             1,
             "#f0f921"
            ]
           ],
           "sequentialminus": [
            [
             0,
             "#0d0887"
            ],
            [
             0.1111111111111111,
             "#46039f"
            ],
            [
             0.2222222222222222,
             "#7201a8"
            ],
            [
             0.3333333333333333,
             "#9c179e"
            ],
            [
             0.4444444444444444,
             "#bd3786"
            ],
            [
             0.5555555555555556,
             "#d8576b"
            ],
            [
             0.6666666666666666,
             "#ed7953"
            ],
            [
             0.7777777777777778,
             "#fb9f3a"
            ],
            [
             0.8888888888888888,
             "#fdca26"
            ],
            [
             1,
             "#f0f921"
            ]
           ]
          },
          "colorway": [
           "#636efa",
           "#EF553B",
           "#00cc96",
           "#ab63fa",
           "#FFA15A",
           "#19d3f3",
           "#FF6692",
           "#B6E880",
           "#FF97FF",
           "#FECB52"
          ],
          "font": {
           "color": "#2a3f5f"
          },
          "geo": {
           "bgcolor": "white",
           "lakecolor": "white",
           "landcolor": "#E5ECF6",
           "showlakes": true,
           "showland": true,
           "subunitcolor": "white"
          },
          "hoverlabel": {
           "align": "left"
          },
          "hovermode": "closest",
          "mapbox": {
           "style": "light"
          },
          "paper_bgcolor": "white",
          "plot_bgcolor": "#E5ECF6",
          "polar": {
           "angularaxis": {
            "gridcolor": "white",
            "linecolor": "white",
            "ticks": ""
           },
           "bgcolor": "#E5ECF6",
           "radialaxis": {
            "gridcolor": "white",
            "linecolor": "white",
            "ticks": ""
           }
          },
          "scene": {
           "xaxis": {
            "backgroundcolor": "#E5ECF6",
            "gridcolor": "white",
            "gridwidth": 2,
            "linecolor": "white",
            "showbackground": true,
            "ticks": "",
            "zerolinecolor": "white"
           },
           "yaxis": {
            "backgroundcolor": "#E5ECF6",
            "gridcolor": "white",
            "gridwidth": 2,
            "linecolor": "white",
            "showbackground": true,
            "ticks": "",
            "zerolinecolor": "white"
           },
           "zaxis": {
            "backgroundcolor": "#E5ECF6",
            "gridcolor": "white",
            "gridwidth": 2,
            "linecolor": "white",
            "showbackground": true,
            "ticks": "",
            "zerolinecolor": "white"
           }
          },
          "shapedefaults": {
           "line": {
            "color": "#2a3f5f"
           }
          },
          "ternary": {
           "aaxis": {
            "gridcolor": "white",
            "linecolor": "white",
            "ticks": ""
           },
           "baxis": {
            "gridcolor": "white",
            "linecolor": "white",
            "ticks": ""
           },
           "bgcolor": "#E5ECF6",
           "caxis": {
            "gridcolor": "white",
            "linecolor": "white",
            "ticks": ""
           }
          },
          "title": {
           "x": 0.05
          },
          "xaxis": {
           "automargin": true,
           "gridcolor": "white",
           "linecolor": "white",
           "ticks": "",
           "title": {
            "standoff": 15
           },
           "zerolinecolor": "white",
           "zerolinewidth": 2
          },
          "yaxis": {
           "automargin": true,
           "gridcolor": "white",
           "linecolor": "white",
           "ticks": "",
           "title": {
            "standoff": 15
           },
           "zerolinecolor": "white",
           "zerolinewidth": 2
          }
         }
        },
        "title": {
         "text": "결합 차트 (매출 vs 성장률)"
        },
        "xaxis": {
         "title": {
          "text": "월"
         }
        },
        "yaxis": {
         "title": {
          "text": "매출"
         }
        },
        "yaxis2": {
         "overlaying": "y",
         "side": "right",
         "title": {
          "text": "성장률"
         }
        }
       }
      }
     },
     "metadata": {},
     "output_type": "display_data"
    }
   ],
   "source": [
    "import plotly.graph_objects as go\n",
    "\n",
    "# 데이터 설정\n",
    "x = [\"1월\", \"2월\", \"3월\", \"4월\", \"5월\"]\n",
    "revenue = [200, 250, 300, 280, 320]  # 매출 (막대)\n",
    "growth = [5, 10, 15, 10, 20]  # 성장률 (라인)\n",
    "\n",
    "fig = go.Figure()\n",
    "\n",
    "# 막대 차트: 매출\n",
    "fig.add_trace(\n",
    "    go.Bar(x=x, y=revenue, name=\"매출\", yaxis=\"y\", marker_color=\"lightsalmon\")\n",
    ")\n",
    "\n",
    "# 라인 차트: 성장률 (보조 y축)\n",
    "fig.add_trace(\n",
    "    go.Scatter(\n",
    "        x=x,\n",
    "        y=growth,\n",
    "        name=\"성장률\",\n",
    "        yaxis=\"y2\",\n",
    "        mode=\"lines+markers\",\n",
    "        marker_color=\"darkblue\",\n",
    "    )\n",
    ")\n",
    "\n",
    "# 레이아웃 설정 (이중 y축)\n",
    "fig.update_layout(\n",
    "    title=\"결합 차트 (매출 vs 성장률)\",\n",
    "    xaxis_title=\"월\",\n",
    "    yaxis=dict(title=\"매출\"),\n",
    "    yaxis2=dict(title=\"성장률\", overlaying=\"y\", side=\"right\"),\n",
    "    legend=dict(x=0.1, y=1.1, orientation=\"h\"),\n",
    ")\n",
    "fig.show()"
   ]
  },
  {
   "cell_type": "markdown",
   "metadata": {},
   "source": [
    "## 5: 애니메이션 버블 차트 – 연도별 도시 인구 변화\n",
    "- 가상의 데이터를 사용하여, 연도별로 변화하는 도시의 인구수와 면적을 버블 차트로 애니메이션 효과를 주어 시각화하세요.\n",
    "- (버블의 크기는 인구, 색상은 인구밀도로 표현)"
   ]
  },
  {
   "cell_type": "code",
   "execution_count": 10,
   "metadata": {},
   "outputs": [
    {
     "data": {
      "application/vnd.plotly.v1+json": {
       "config": {
        "plotlyServerURL": "https://plot.ly"
       },
       "data": [
        {
         "marker": {
          "color": {
           "bdata": "nOo3Ste/3EAyWgdkJ4zDQDCUSeon4tRAmqOtnTkE3kA=",
           "dtype": "f8"
          },
          "colorbar": {
           "title": {
            "text": "인구밀도"
           }
          },
          "colorscale": [
           [
            0,
            "#440154"
           ],
           [
            0.1111111111111111,
            "#482878"
           ],
           [
            0.2222222222222222,
            "#3e4989"
           ],
           [
            0.3333333333333333,
            "#31688e"
           ],
           [
            0.4444444444444444,
            "#26828e"
           ],
           [
            0.5555555555555556,
            "#1f9e89"
           ],
           [
            0.6666666666666666,
            "#35b779"
           ],
           [
            0.7777777777777778,
            "#6ece58"
           ],
           [
            0.8888888888888888,
            "#b5de2b"
           ],
           [
            1,
            "#fde725"
           ]
          ],
          "showscale": true,
          "size": {
           "bdata": "1EM0uoNQV0ClMVpHVRNAQKrU7IFWDldAVYfcDDciUUA=",
           "dtype": "f8"
          }
         },
         "mode": "markers",
         "name": "도시",
         "text": [
          "서울",
          "부산",
          "대구",
          "인천"
         ],
         "type": "scatter",
         "x": {
          "bdata": "oKtHM3vMc0CrJmx05RN0QBFKqWc29HpAL6jLuRjfa0A=",
          "dtype": "f8"
         },
         "y": {
          "bdata": "7EyOAAAPMQADuYwAVZNoAA==",
          "dtype": "i4"
         }
        }
       ],
       "frames": [
        {
         "data": [
          {
           "marker": {
            "color": {
             "bdata": "nOo3Ste/3EAyWgdkJ4zDQDCUSeon4tRAmqOtnTkE3kA=",
             "dtype": "f8"
            },
            "colorscale": [
             [
              0,
              "#440154"
             ],
             [
              0.1111111111111111,
              "#482878"
             ],
             [
              0.2222222222222222,
              "#3e4989"
             ],
             [
              0.3333333333333333,
              "#31688e"
             ],
             [
              0.4444444444444444,
              "#26828e"
             ],
             [
              0.5555555555555556,
              "#1f9e89"
             ],
             [
              0.6666666666666666,
              "#35b779"
             ],
             [
              0.7777777777777778,
              "#6ece58"
             ],
             [
              0.8888888888888888,
              "#b5de2b"
             ],
             [
              1,
              "#fde725"
             ]
            ],
            "size": {
             "bdata": "1EM0uoNQV0ClMVpHVRNAQKrU7IFWDldAVYfcDDciUUA=",
             "dtype": "f8"
            }
           },
           "mode": "markers",
           "text": [
            "서울",
            "부산",
            "대구",
            "인천"
           ],
           "type": "scatter",
           "x": {
            "bdata": "oKtHM3vMc0CrJmx05RN0QBFKqWc29HpAL6jLuRjfa0A=",
            "dtype": "f8"
           },
           "y": {
            "bdata": "7EyOAAAPMQADuYwAVZNoAA==",
            "dtype": "i4"
           }
          }
         ],
         "name": "2000"
        },
        {
         "data": [
          {
           "marker": {
            "color": {
             "bdata": "obfWTJ+WwEAH+8xRiUnLQCJ6b3+fIdxAM5b+maEk00A=",
             "dtype": "f8"
            },
            "colorscale": [
             [
              0,
              "#440154"
             ],
             [
              0.1111111111111111,
              "#482878"
             ],
             [
              0.2222222222222222,
              "#3e4989"
             ],
             [
              0.3333333333333333,
              "#31688e"
             ],
             [
              0.4444444444444444,
              "#26828e"
             ],
             [
              0.5555555555555556,
              "#1f9e89"
             ],
             [
              0.6666666666666666,
              "#35b779"
             ],
             [
              0.7777777777777778,
              "#6ece58"
             ],
             [
              0.8888888888888888,
              "#b5de2b"
             ],
             [
              1,
              "#fde725"
             ]
            ],
            "size": {
             "bdata": "rp6T3jcqQ0DSHcTOFIJCQFJ+Uu3TJ1NAfh04Z0QRMEA=",
             "dtype": "f8"
            }
           },
           "mode": "markers",
           "text": [
            "서울",
            "부산",
            "대구",
            "인천"
           ],
           "type": "scatter",
           "x": {
            "bdata": "qwq7/sM0fEByjSBYMI9wQHg9k+zVn3BATaBeptZ9VEA=",
            "dtype": "f8"
           },
           "y": {
            "bdata": "l3w6AHp7OACX6nQAWYQYAA==",
            "dtype": "i4"
           }
          }
         ],
         "name": "2005"
        },
        {
         "data": [
          {
           "marker": {
            "color": {
             "bdata": "p06vmPp80UD+vwm4VWvJQGtOoX3qYeNAt1ZEtMA94kA=",
             "dtype": "f8"
            },
            "colorscale": [
             [
              0,
              "#440154"
             ],
             [
              0.1111111111111111,
              "#482878"
             ],
             [
              0.2222222222222222,
              "#3e4989"
             ],
             [
              0.3333333333333333,
              "#31688e"
             ],
             [
              0.4444444444444444,
              "#26828e"
             ],
             [
              0.5555555555555556,
              "#1f9e89"
             ],
             [
              0.6666666666666666,
              "#35b779"
             ],
             [
              0.7777777777777778,
              "#6ece58"
             ],
             [
              0.8888888888888888,
              "#b5de2b"
             ],
             [
              1,
              "#fde725"
             ]
            ],
            "size": {
             "bdata": "FW9kHvmXTkCKzce1oaJLQHam0HmNdUZAyVnY0w6TWEA=",
             "dtype": "f8"
            }
           },
           "mode": "markers",
           "text": [
            "서울",
            "부산",
            "대구",
            "인천"
           ],
           "type": "scatter",
           "x": {
            "bdata": "UTICZdZadUCMcDnm3Ip6QC8L3DsaSlxAIj5bWfpxcEA=",
            "dtype": "f8"
           },
           "y": {
            "bdata": "SV1dABBWVAA+ikQAkv2VAA==",
            "dtype": "i4"
           }
          }
         ],
         "name": "2010"
        },
        {
         "data": [
          {
           "marker": {
            "color": {
             "bdata": "rIYCsKSXt0AzmqcGLpTNQHlhBq6Igs5A6UbH3qyIykA=",
             "dtype": "f8"
            },
            "colorscale": [
             [
              0,
              "#440154"
             ],
             [
              0.1111111111111111,
              "#482878"
             ],
             [
              0.2222222222222222,
              "#3e4989"
             ],
             [
              0.3333333333333333,
              "#31688e"
             ],
             [
              0.4444444444444444,
              "#26828e"
             ],
             [
              0.5555555555555556,
              "#1f9e89"
             ],
             [
              0.6666666666666666,
              "#35b779"
             ],
             [
              0.7777777777777778,
              "#6ece58"
             ],
             [
              0.8888888888888888,
              "#b5de2b"
             ],
             [
              1,
              "#fde725"
             ]
            ],
            "size": {
             "bdata": "OdGuQsofL0DIQQkzbVdMQFcJFoczP0ZArK3YX3bfQUA=",
             "dtype": "f8"
            }
           },
           "mode": "markers",
           "text": [
            "서울",
            "부산",
            "대구",
            "인천"
           ],
           "type": "scatter",
           "x": {
            "bdata": "Am6wwqYacEDN7fMbjmR3QBxRn9NOzXFAnBn+SuxxcEA=",
            "dtype": "f8"
           },
           "y": {
            "bdata": "8b4XAM59VgBg5EMANIs2AA==",
            "dtype": "i4"
           }
          }
         ],
         "name": "2015"
        },
        {
         "data": [
          {
           "marker": {
            "color": {
             "bdata": "rVk1iKyexkC+iKLt9pnaQPFBzK9ZVdhAxak7TpPstkA=",
             "dtype": "f8"
            },
            "colorscale": [
             [
              0,
              "#440154"
             ],
             [
              0.1111111111111111,
              "#482878"
             ],
             [
              0.2222222222222222,
              "#3e4989"
             ],
             [
              0.3333333333333333,
              "#31688e"
             ],
             [
              0.4444444444444444,
              "#26828e"
             ],
             [
              0.5555555555555556,
              "#1f9e89"
             ],
             [
              0.6666666666666666,
              "#35b779"
             ],
             [
              0.7777777777777778,
              "#6ece58"
             ],
             [
              0.8888888888888888,
              "#b5de2b"
             ],
             [
              1,
              "#fde725"
             ]
            ],
            "size": {
             "bdata": "W9O84xQZRkCz6nO1FdNUQKBP5EnSPT1A/7J78rDwNEA=",
             "dtype": "f8"
            }
           },
           "mode": "markers",
           "text": [
            "서울",
            "부산",
            "대구",
            "인천"
           ],
           "type": "scatter",
           "x": {
            "bdata": "CYmGlc/Zd0BEsl10uRxzQGmLW9yiVl1AevTgLBtNdkA=",
            "dtype": "f8"
           },
           "y": {
            "bdata": "C3BDAFwafwB1niwAxPMfAA==",
            "dtype": "i4"
           }
          }
         ],
         "name": "2020"
        }
       ],
       "layout": {
        "template": {
         "data": {
          "bar": [
           {
            "error_x": {
             "color": "#2a3f5f"
            },
            "error_y": {
             "color": "#2a3f5f"
            },
            "marker": {
             "line": {
              "color": "#E5ECF6",
              "width": 0.5
             },
             "pattern": {
              "fillmode": "overlay",
              "size": 10,
              "solidity": 0.2
             }
            },
            "type": "bar"
           }
          ],
          "barpolar": [
           {
            "marker": {
             "line": {
              "color": "#E5ECF6",
              "width": 0.5
             },
             "pattern": {
              "fillmode": "overlay",
              "size": 10,
              "solidity": 0.2
             }
            },
            "type": "barpolar"
           }
          ],
          "carpet": [
           {
            "aaxis": {
             "endlinecolor": "#2a3f5f",
             "gridcolor": "white",
             "linecolor": "white",
             "minorgridcolor": "white",
             "startlinecolor": "#2a3f5f"
            },
            "baxis": {
             "endlinecolor": "#2a3f5f",
             "gridcolor": "white",
             "linecolor": "white",
             "minorgridcolor": "white",
             "startlinecolor": "#2a3f5f"
            },
            "type": "carpet"
           }
          ],
          "choropleth": [
           {
            "colorbar": {
             "outlinewidth": 0,
             "ticks": ""
            },
            "type": "choropleth"
           }
          ],
          "contour": [
           {
            "colorbar": {
             "outlinewidth": 0,
             "ticks": ""
            },
            "colorscale": [
             [
              0,
              "#0d0887"
             ],
             [
              0.1111111111111111,
              "#46039f"
             ],
             [
              0.2222222222222222,
              "#7201a8"
             ],
             [
              0.3333333333333333,
              "#9c179e"
             ],
             [
              0.4444444444444444,
              "#bd3786"
             ],
             [
              0.5555555555555556,
              "#d8576b"
             ],
             [
              0.6666666666666666,
              "#ed7953"
             ],
             [
              0.7777777777777778,
              "#fb9f3a"
             ],
             [
              0.8888888888888888,
              "#fdca26"
             ],
             [
              1,
              "#f0f921"
             ]
            ],
            "type": "contour"
           }
          ],
          "contourcarpet": [
           {
            "colorbar": {
             "outlinewidth": 0,
             "ticks": ""
            },
            "type": "contourcarpet"
           }
          ],
          "heatmap": [
           {
            "colorbar": {
             "outlinewidth": 0,
             "ticks": ""
            },
            "colorscale": [
             [
              0,
              "#0d0887"
             ],
             [
              0.1111111111111111,
              "#46039f"
             ],
             [
              0.2222222222222222,
              "#7201a8"
             ],
             [
              0.3333333333333333,
              "#9c179e"
             ],
             [
              0.4444444444444444,
              "#bd3786"
             ],
             [
              0.5555555555555556,
              "#d8576b"
             ],
             [
              0.6666666666666666,
              "#ed7953"
             ],
             [
              0.7777777777777778,
              "#fb9f3a"
             ],
             [
              0.8888888888888888,
              "#fdca26"
             ],
             [
              1,
              "#f0f921"
             ]
            ],
            "type": "heatmap"
           }
          ],
          "histogram": [
           {
            "marker": {
             "pattern": {
              "fillmode": "overlay",
              "size": 10,
              "solidity": 0.2
             }
            },
            "type": "histogram"
           }
          ],
          "histogram2d": [
           {
            "colorbar": {
             "outlinewidth": 0,
             "ticks": ""
            },
            "colorscale": [
             [
              0,
              "#0d0887"
             ],
             [
              0.1111111111111111,
              "#46039f"
             ],
             [
              0.2222222222222222,
              "#7201a8"
             ],
             [
              0.3333333333333333,
              "#9c179e"
             ],
             [
              0.4444444444444444,
              "#bd3786"
             ],
             [
              0.5555555555555556,
              "#d8576b"
             ],
             [
              0.6666666666666666,
              "#ed7953"
             ],
             [
              0.7777777777777778,
              "#fb9f3a"
             ],
             [
              0.8888888888888888,
              "#fdca26"
             ],
             [
              1,
              "#f0f921"
             ]
            ],
            "type": "histogram2d"
           }
          ],
          "histogram2dcontour": [
           {
            "colorbar": {
             "outlinewidth": 0,
             "ticks": ""
            },
            "colorscale": [
             [
              0,
              "#0d0887"
             ],
             [
              0.1111111111111111,
              "#46039f"
             ],
             [
              0.2222222222222222,
              "#7201a8"
             ],
             [
              0.3333333333333333,
              "#9c179e"
             ],
             [
              0.4444444444444444,
              "#bd3786"
             ],
             [
              0.5555555555555556,
              "#d8576b"
             ],
             [
              0.6666666666666666,
              "#ed7953"
             ],
             [
              0.7777777777777778,
              "#fb9f3a"
             ],
             [
              0.8888888888888888,
              "#fdca26"
             ],
             [
              1,
              "#f0f921"
             ]
            ],
            "type": "histogram2dcontour"
           }
          ],
          "mesh3d": [
           {
            "colorbar": {
             "outlinewidth": 0,
             "ticks": ""
            },
            "type": "mesh3d"
           }
          ],
          "parcoords": [
           {
            "line": {
             "colorbar": {
              "outlinewidth": 0,
              "ticks": ""
             }
            },
            "type": "parcoords"
           }
          ],
          "pie": [
           {
            "automargin": true,
            "type": "pie"
           }
          ],
          "scatter": [
           {
            "fillpattern": {
             "fillmode": "overlay",
             "size": 10,
             "solidity": 0.2
            },
            "type": "scatter"
           }
          ],
          "scatter3d": [
           {
            "line": {
             "colorbar": {
              "outlinewidth": 0,
              "ticks": ""
             }
            },
            "marker": {
             "colorbar": {
              "outlinewidth": 0,
              "ticks": ""
             }
            },
            "type": "scatter3d"
           }
          ],
          "scattercarpet": [
           {
            "marker": {
             "colorbar": {
              "outlinewidth": 0,
              "ticks": ""
             }
            },
            "type": "scattercarpet"
           }
          ],
          "scattergeo": [
           {
            "marker": {
             "colorbar": {
              "outlinewidth": 0,
              "ticks": ""
             }
            },
            "type": "scattergeo"
           }
          ],
          "scattergl": [
           {
            "marker": {
             "colorbar": {
              "outlinewidth": 0,
              "ticks": ""
             }
            },
            "type": "scattergl"
           }
          ],
          "scattermap": [
           {
            "marker": {
             "colorbar": {
              "outlinewidth": 0,
              "ticks": ""
             }
            },
            "type": "scattermap"
           }
          ],
          "scattermapbox": [
           {
            "marker": {
             "colorbar": {
              "outlinewidth": 0,
              "ticks": ""
             }
            },
            "type": "scattermapbox"
           }
          ],
          "scatterpolar": [
           {
            "marker": {
             "colorbar": {
              "outlinewidth": 0,
              "ticks": ""
             }
            },
            "type": "scatterpolar"
           }
          ],
          "scatterpolargl": [
           {
            "marker": {
             "colorbar": {
              "outlinewidth": 0,
              "ticks": ""
             }
            },
            "type": "scatterpolargl"
           }
          ],
          "scatterternary": [
           {
            "marker": {
             "colorbar": {
              "outlinewidth": 0,
              "ticks": ""
             }
            },
            "type": "scatterternary"
           }
          ],
          "surface": [
           {
            "colorbar": {
             "outlinewidth": 0,
             "ticks": ""
            },
            "colorscale": [
             [
              0,
              "#0d0887"
             ],
             [
              0.1111111111111111,
              "#46039f"
             ],
             [
              0.2222222222222222,
              "#7201a8"
             ],
             [
              0.3333333333333333,
              "#9c179e"
             ],
             [
              0.4444444444444444,
              "#bd3786"
             ],
             [
              0.5555555555555556,
              "#d8576b"
             ],
             [
              0.6666666666666666,
              "#ed7953"
             ],
             [
              0.7777777777777778,
              "#fb9f3a"
             ],
             [
              0.8888888888888888,
              "#fdca26"
             ],
             [
              1,
              "#f0f921"
             ]
            ],
            "type": "surface"
           }
          ],
          "table": [
           {
            "cells": {
             "fill": {
              "color": "#EBF0F8"
             },
             "line": {
              "color": "white"
             }
            },
            "header": {
             "fill": {
              "color": "#C8D4E3"
             },
             "line": {
              "color": "white"
             }
            },
            "type": "table"
           }
          ]
         },
         "layout": {
          "annotationdefaults": {
           "arrowcolor": "#2a3f5f",
           "arrowhead": 0,
           "arrowwidth": 1
          },
          "autotypenumbers": "strict",
          "coloraxis": {
           "colorbar": {
            "outlinewidth": 0,
            "ticks": ""
           }
          },
          "colorscale": {
           "diverging": [
            [
             0,
             "#8e0152"
            ],
            [
             0.1,
             "#c51b7d"
            ],
            [
             0.2,
             "#de77ae"
            ],
            [
             0.3,
             "#f1b6da"
            ],
            [
             0.4,
             "#fde0ef"
            ],
            [
             0.5,
             "#f7f7f7"
            ],
            [
             0.6,
             "#e6f5d0"
            ],
            [
             0.7,
             "#b8e186"
            ],
            [
             0.8,
             "#7fbc41"
            ],
            [
             0.9,
             "#4d9221"
            ],
            [
             1,
             "#276419"
            ]
           ],
           "sequential": [
            [
             0,
             "#0d0887"
            ],
            [
             0.1111111111111111,
             "#46039f"
            ],
            [
             0.2222222222222222,
             "#7201a8"
            ],
            [
             0.3333333333333333,
             "#9c179e"
            ],
            [
             0.4444444444444444,
             "#bd3786"
            ],
            [
             0.5555555555555556,
             "#d8576b"
            ],
            [
             0.6666666666666666,
             "#ed7953"
            ],
            [
             0.7777777777777778,
             "#fb9f3a"
            ],
            [
             0.8888888888888888,
             "#fdca26"
            ],
            [
             1,
             "#f0f921"
            ]
           ],
           "sequentialminus": [
            [
             0,
             "#0d0887"
            ],
            [
             0.1111111111111111,
             "#46039f"
            ],
            [
             0.2222222222222222,
             "#7201a8"
            ],
            [
             0.3333333333333333,
             "#9c179e"
            ],
            [
             0.4444444444444444,
             "#bd3786"
            ],
            [
             0.5555555555555556,
             "#d8576b"
            ],
            [
             0.6666666666666666,
             "#ed7953"
            ],
            [
             0.7777777777777778,
             "#fb9f3a"
            ],
            [
             0.8888888888888888,
             "#fdca26"
            ],
            [
             1,
             "#f0f921"
            ]
           ]
          },
          "colorway": [
           "#636efa",
           "#EF553B",
           "#00cc96",
           "#ab63fa",
           "#FFA15A",
           "#19d3f3",
           "#FF6692",
           "#B6E880",
           "#FF97FF",
           "#FECB52"
          ],
          "font": {
           "color": "#2a3f5f"
          },
          "geo": {
           "bgcolor": "white",
           "lakecolor": "white",
           "landcolor": "#E5ECF6",
           "showlakes": true,
           "showland": true,
           "subunitcolor": "white"
          },
          "hoverlabel": {
           "align": "left"
          },
          "hovermode": "closest",
          "mapbox": {
           "style": "light"
          },
          "paper_bgcolor": "white",
          "plot_bgcolor": "#E5ECF6",
          "polar": {
           "angularaxis": {
            "gridcolor": "white",
            "linecolor": "white",
            "ticks": ""
           },
           "bgcolor": "#E5ECF6",
           "radialaxis": {
            "gridcolor": "white",
            "linecolor": "white",
            "ticks": ""
           }
          },
          "scene": {
           "xaxis": {
            "backgroundcolor": "#E5ECF6",
            "gridcolor": "white",
            "gridwidth": 2,
            "linecolor": "white",
            "showbackground": true,
            "ticks": "",
            "zerolinecolor": "white"
           },
           "yaxis": {
            "backgroundcolor": "#E5ECF6",
            "gridcolor": "white",
            "gridwidth": 2,
            "linecolor": "white",
            "showbackground": true,
            "ticks": "",
            "zerolinecolor": "white"
           },
           "zaxis": {
            "backgroundcolor": "#E5ECF6",
            "gridcolor": "white",
            "gridwidth": 2,
            "linecolor": "white",
            "showbackground": true,
            "ticks": "",
            "zerolinecolor": "white"
           }
          },
          "shapedefaults": {
           "line": {
            "color": "#2a3f5f"
           }
          },
          "ternary": {
           "aaxis": {
            "gridcolor": "white",
            "linecolor": "white",
            "ticks": ""
           },
           "baxis": {
            "gridcolor": "white",
            "linecolor": "white",
            "ticks": ""
           },
           "bgcolor": "#E5ECF6",
           "caxis": {
            "gridcolor": "white",
            "linecolor": "white",
            "ticks": ""
           }
          },
          "title": {
           "x": 0.05
          },
          "xaxis": {
           "automargin": true,
           "gridcolor": "white",
           "linecolor": "white",
           "ticks": "",
           "title": {
            "standoff": 15
           },
           "zerolinecolor": "white",
           "zerolinewidth": 2
          },
          "yaxis": {
           "automargin": true,
           "gridcolor": "white",
           "linecolor": "white",
           "ticks": "",
           "title": {
            "standoff": 15
           },
           "zerolinecolor": "white",
           "zerolinewidth": 2
          }
         }
        },
        "title": {
         "text": "연도별 도시 인구 변화 애니메이션"
        },
        "updatemenus": [
         {
          "buttons": [
           {
            "args": [
             null,
             {
              "frame": {
               "duration": 1000,
               "redraw": true
              },
              "fromcurrent": true
             }
            ],
            "label": "Play",
            "method": "animate"
           }
          ],
          "direction": "left",
          "pad": {
           "r": 10,
           "t": 87
          },
          "showactive": false,
          "type": "buttons",
          "x": 0.1,
          "xanchor": "right",
          "y": 0,
          "yanchor": "top"
         }
        ],
        "xaxis": {
         "range": [
          0,
          501.2978503519359
         ],
         "title": {
          "text": "면적 (km²)"
         }
        },
        "yaxis": {
         "range": [
          0,
          10829778
         ],
         "title": {
          "text": "인구수"
         }
        }
       }
      }
     },
     "metadata": {},
     "output_type": "display_data"
    }
   ],
   "source": [
    "import plotly.graph_objects as go\n",
    "import pandas as pd\n",
    "import numpy as np\n",
    "\n",
    "# 가상 데이터 생성: 도시별, 연도별 데이터\n",
    "years = [2000, 2005, 2010, 2015, 2020]\n",
    "cities = ['서울', '부산', '대구', '인천']\n",
    "data = []\n",
    "np.random.seed(0)\n",
    "for year in years:\n",
    "    for city in cities:\n",
    "        population = np.random.randint(1_000_000, 10_000_000)\n",
    "        area = np.random.uniform(50, 500)\n",
    "        density = population / area\n",
    "        data.append({'Year': year, 'City': city, 'Population': population, 'Area': area, 'Density': density})\n",
    "df = pd.DataFrame(data)\n",
    "\n",
    "# 초기 데이터: 2000년\n",
    "df_initial = df[df['Year'] == 2000]\n",
    "\n",
    "fig = go.Figure(\n",
    "    data=[go.Scatter(\n",
    "        x=df_initial['Area'],\n",
    "        y=df_initial['Population'],\n",
    "        mode='markers',\n",
    "        marker=dict(\n",
    "            size=df_initial['Population'] / 100000,  # 크기 조정\n",
    "            color=df_initial['Density'],\n",
    "            colorscale='Viridis',\n",
    "            showscale=True,\n",
    "            colorbar=dict(title='인구밀도')\n",
    "        ),\n",
    "        text=df_initial['City'],\n",
    "        name='도시'\n",
    "    )],\n",
    "    layout=go.Layout(\n",
    "        title=\"연도별 도시 인구 변화 애니메이션\",\n",
    "        xaxis_title=\"면적 (km²)\",\n",
    "        yaxis_title=\"인구수\",\n",
    "        xaxis=dict(range=[0, df['Area'].max()+50]),\n",
    "        yaxis=dict(range=[0, df['Population'].max()+1_000_000]),\n",
    "        updatemenus=[{\n",
    "            \"buttons\": [\n",
    "                {\n",
    "                    \"args\": [None, {\"frame\": {\"duration\": 1000, \"redraw\": True},\n",
    "                                    \"fromcurrent\": True}],\n",
    "                    \"label\": \"Play\",\n",
    "                    \"method\": \"animate\"\n",
    "                }\n",
    "            ],\n",
    "            \"direction\": \"left\",\n",
    "            \"pad\": {\"r\": 10, \"t\": 87},\n",
    "            \"showactive\": False,\n",
    "            \"type\": \"buttons\",\n",
    "            \"x\": 0.1,\n",
    "            \"xanchor\": \"right\",\n",
    "            \"y\": 0,\n",
    "            \"yanchor\": \"top\"\n",
    "        }]\n",
    "    ),\n",
    "    frames=[\n",
    "        go.Frame(\n",
    "            data=[go.Scatter(\n",
    "                x=df[df['Year'] == year]['Area'],\n",
    "                y=df[df['Year'] == year]['Population'],\n",
    "                mode='markers',\n",
    "                marker=dict(\n",
    "                    size=df[df['Year'] == year]['Population'] / 100000,\n",
    "                    color=df[df['Year'] == year]['Density'],\n",
    "                    colorscale='Viridis'\n",
    "                ),\n",
    "                text=df[df['Year'] == year]['City']\n",
    "            )],\n",
    "            name=str(year)\n",
    "        ) for year in years\n",
    "    ]\n",
    ")\n",
    "\n",
    "fig.show()\n"
   ]
  },
  {
   "cell_type": "markdown",
   "metadata": {},
   "source": [
    "## 6: 대시보드 인터랙티브 필터 – 드롭다운 메뉴 활용\n",
    "- 가상의 판매 데이터를 이용하여, 드롭다운 메뉴를 통해 제품 카테고리를 선택하면 해당 카테고리의 판매 데이터를 표시하는 인터랙티브 막대 차트를 만드세요."
   ]
  },
  {
   "cell_type": "code",
   "execution_count": 11,
   "metadata": {},
   "outputs": [
    {
     "data": {
      "application/vnd.plotly.v1+json": {
       "config": {
        "plotlyServerURL": "https://plot.ly"
       },
       "data": [
        {
         "marker": {
          "color": "blue"
         },
         "name": "전자제품",
         "type": "bar",
         "x": [
          "1월",
          "2월",
          "3월",
          "4월",
          "5월"
         ],
         "y": {
          "bdata": "ygDAAXIBzgCrAA==",
          "dtype": "i2"
         }
        }
       ],
       "layout": {
        "template": {
         "data": {
          "bar": [
           {
            "error_x": {
             "color": "#2a3f5f"
            },
            "error_y": {
             "color": "#2a3f5f"
            },
            "marker": {
             "line": {
              "color": "#E5ECF6",
              "width": 0.5
             },
             "pattern": {
              "fillmode": "overlay",
              "size": 10,
              "solidity": 0.2
             }
            },
            "type": "bar"
           }
          ],
          "barpolar": [
           {
            "marker": {
             "line": {
              "color": "#E5ECF6",
              "width": 0.5
             },
             "pattern": {
              "fillmode": "overlay",
              "size": 10,
              "solidity": 0.2
             }
            },
            "type": "barpolar"
           }
          ],
          "carpet": [
           {
            "aaxis": {
             "endlinecolor": "#2a3f5f",
             "gridcolor": "white",
             "linecolor": "white",
             "minorgridcolor": "white",
             "startlinecolor": "#2a3f5f"
            },
            "baxis": {
             "endlinecolor": "#2a3f5f",
             "gridcolor": "white",
             "linecolor": "white",
             "minorgridcolor": "white",
             "startlinecolor": "#2a3f5f"
            },
            "type": "carpet"
           }
          ],
          "choropleth": [
           {
            "colorbar": {
             "outlinewidth": 0,
             "ticks": ""
            },
            "type": "choropleth"
           }
          ],
          "contour": [
           {
            "colorbar": {
             "outlinewidth": 0,
             "ticks": ""
            },
            "colorscale": [
             [
              0,
              "#0d0887"
             ],
             [
              0.1111111111111111,
              "#46039f"
             ],
             [
              0.2222222222222222,
              "#7201a8"
             ],
             [
              0.3333333333333333,
              "#9c179e"
             ],
             [
              0.4444444444444444,
              "#bd3786"
             ],
             [
              0.5555555555555556,
              "#d8576b"
             ],
             [
              0.6666666666666666,
              "#ed7953"
             ],
             [
              0.7777777777777778,
              "#fb9f3a"
             ],
             [
              0.8888888888888888,
              "#fdca26"
             ],
             [
              1,
              "#f0f921"
             ]
            ],
            "type": "contour"
           }
          ],
          "contourcarpet": [
           {
            "colorbar": {
             "outlinewidth": 0,
             "ticks": ""
            },
            "type": "contourcarpet"
           }
          ],
          "heatmap": [
           {
            "colorbar": {
             "outlinewidth": 0,
             "ticks": ""
            },
            "colorscale": [
             [
              0,
              "#0d0887"
             ],
             [
              0.1111111111111111,
              "#46039f"
             ],
             [
              0.2222222222222222,
              "#7201a8"
             ],
             [
              0.3333333333333333,
              "#9c179e"
             ],
             [
              0.4444444444444444,
              "#bd3786"
             ],
             [
              0.5555555555555556,
              "#d8576b"
             ],
             [
              0.6666666666666666,
              "#ed7953"
             ],
             [
              0.7777777777777778,
              "#fb9f3a"
             ],
             [
              0.8888888888888888,
              "#fdca26"
             ],
             [
              1,
              "#f0f921"
             ]
            ],
            "type": "heatmap"
           }
          ],
          "histogram": [
           {
            "marker": {
             "pattern": {
              "fillmode": "overlay",
              "size": 10,
              "solidity": 0.2
             }
            },
            "type": "histogram"
           }
          ],
          "histogram2d": [
           {
            "colorbar": {
             "outlinewidth": 0,
             "ticks": ""
            },
            "colorscale": [
             [
              0,
              "#0d0887"
             ],
             [
              0.1111111111111111,
              "#46039f"
             ],
             [
              0.2222222222222222,
              "#7201a8"
             ],
             [
              0.3333333333333333,
              "#9c179e"
             ],
             [
              0.4444444444444444,
              "#bd3786"
             ],
             [
              0.5555555555555556,
              "#d8576b"
             ],
             [
              0.6666666666666666,
              "#ed7953"
             ],
             [
              0.7777777777777778,
              "#fb9f3a"
             ],
             [
              0.8888888888888888,
              "#fdca26"
             ],
             [
              1,
              "#f0f921"
             ]
            ],
            "type": "histogram2d"
           }
          ],
          "histogram2dcontour": [
           {
            "colorbar": {
             "outlinewidth": 0,
             "ticks": ""
            },
            "colorscale": [
             [
              0,
              "#0d0887"
             ],
             [
              0.1111111111111111,
              "#46039f"
             ],
             [
              0.2222222222222222,
              "#7201a8"
             ],
             [
              0.3333333333333333,
              "#9c179e"
             ],
             [
              0.4444444444444444,
              "#bd3786"
             ],
             [
              0.5555555555555556,
              "#d8576b"
             ],
             [
              0.6666666666666666,
              "#ed7953"
             ],
             [
              0.7777777777777778,
              "#fb9f3a"
             ],
             [
              0.8888888888888888,
              "#fdca26"
             ],
             [
              1,
              "#f0f921"
             ]
            ],
            "type": "histogram2dcontour"
           }
          ],
          "mesh3d": [
           {
            "colorbar": {
             "outlinewidth": 0,
             "ticks": ""
            },
            "type": "mesh3d"
           }
          ],
          "parcoords": [
           {
            "line": {
             "colorbar": {
              "outlinewidth": 0,
              "ticks": ""
             }
            },
            "type": "parcoords"
           }
          ],
          "pie": [
           {
            "automargin": true,
            "type": "pie"
           }
          ],
          "scatter": [
           {
            "fillpattern": {
             "fillmode": "overlay",
             "size": 10,
             "solidity": 0.2
            },
            "type": "scatter"
           }
          ],
          "scatter3d": [
           {
            "line": {
             "colorbar": {
              "outlinewidth": 0,
              "ticks": ""
             }
            },
            "marker": {
             "colorbar": {
              "outlinewidth": 0,
              "ticks": ""
             }
            },
            "type": "scatter3d"
           }
          ],
          "scattercarpet": [
           {
            "marker": {
             "colorbar": {
              "outlinewidth": 0,
              "ticks": ""
             }
            },
            "type": "scattercarpet"
           }
          ],
          "scattergeo": [
           {
            "marker": {
             "colorbar": {
              "outlinewidth": 0,
              "ticks": ""
             }
            },
            "type": "scattergeo"
           }
          ],
          "scattergl": [
           {
            "marker": {
             "colorbar": {
              "outlinewidth": 0,
              "ticks": ""
             }
            },
            "type": "scattergl"
           }
          ],
          "scattermap": [
           {
            "marker": {
             "colorbar": {
              "outlinewidth": 0,
              "ticks": ""
             }
            },
            "type": "scattermap"
           }
          ],
          "scattermapbox": [
           {
            "marker": {
             "colorbar": {
              "outlinewidth": 0,
              "ticks": ""
             }
            },
            "type": "scattermapbox"
           }
          ],
          "scatterpolar": [
           {
            "marker": {
             "colorbar": {
              "outlinewidth": 0,
              "ticks": ""
             }
            },
            "type": "scatterpolar"
           }
          ],
          "scatterpolargl": [
           {
            "marker": {
             "colorbar": {
              "outlinewidth": 0,
              "ticks": ""
             }
            },
            "type": "scatterpolargl"
           }
          ],
          "scatterternary": [
           {
            "marker": {
             "colorbar": {
              "outlinewidth": 0,
              "ticks": ""
             }
            },
            "type": "scatterternary"
           }
          ],
          "surface": [
           {
            "colorbar": {
             "outlinewidth": 0,
             "ticks": ""
            },
            "colorscale": [
             [
              0,
              "#0d0887"
             ],
             [
              0.1111111111111111,
              "#46039f"
             ],
             [
              0.2222222222222222,
              "#7201a8"
             ],
             [
              0.3333333333333333,
              "#9c179e"
             ],
             [
              0.4444444444444444,
              "#bd3786"
             ],
             [
              0.5555555555555556,
              "#d8576b"
             ],
             [
              0.6666666666666666,
              "#ed7953"
             ],
             [
              0.7777777777777778,
              "#fb9f3a"
             ],
             [
              0.8888888888888888,
              "#fdca26"
             ],
             [
              1,
              "#f0f921"
             ]
            ],
            "type": "surface"
           }
          ],
          "table": [
           {
            "cells": {
             "fill": {
              "color": "#EBF0F8"
             },
             "line": {
              "color": "white"
             }
            },
            "header": {
             "fill": {
              "color": "#C8D4E3"
             },
             "line": {
              "color": "white"
             }
            },
            "type": "table"
           }
          ]
         },
         "layout": {
          "annotationdefaults": {
           "arrowcolor": "#2a3f5f",
           "arrowhead": 0,
           "arrowwidth": 1
          },
          "autotypenumbers": "strict",
          "coloraxis": {
           "colorbar": {
            "outlinewidth": 0,
            "ticks": ""
           }
          },
          "colorscale": {
           "diverging": [
            [
             0,
             "#8e0152"
            ],
            [
             0.1,
             "#c51b7d"
            ],
            [
             0.2,
             "#de77ae"
            ],
            [
             0.3,
             "#f1b6da"
            ],
            [
             0.4,
             "#fde0ef"
            ],
            [
             0.5,
             "#f7f7f7"
            ],
            [
             0.6,
             "#e6f5d0"
            ],
            [
             0.7,
             "#b8e186"
            ],
            [
             0.8,
             "#7fbc41"
            ],
            [
             0.9,
             "#4d9221"
            ],
            [
             1,
             "#276419"
            ]
           ],
           "sequential": [
            [
             0,
             "#0d0887"
            ],
            [
             0.1111111111111111,
             "#46039f"
            ],
            [
             0.2222222222222222,
             "#7201a8"
            ],
            [
             0.3333333333333333,
             "#9c179e"
            ],
            [
             0.4444444444444444,
             "#bd3786"
            ],
            [
             0.5555555555555556,
             "#d8576b"
            ],
            [
             0.6666666666666666,
             "#ed7953"
            ],
            [
             0.7777777777777778,
             "#fb9f3a"
            ],
            [
             0.8888888888888888,
             "#fdca26"
            ],
            [
             1,
             "#f0f921"
            ]
           ],
           "sequentialminus": [
            [
             0,
             "#0d0887"
            ],
            [
             0.1111111111111111,
             "#46039f"
            ],
            [
             0.2222222222222222,
             "#7201a8"
            ],
            [
             0.3333333333333333,
             "#9c179e"
            ],
            [
             0.4444444444444444,
             "#bd3786"
            ],
            [
             0.5555555555555556,
             "#d8576b"
            ],
            [
             0.6666666666666666,
             "#ed7953"
            ],
            [
             0.7777777777777778,
             "#fb9f3a"
            ],
            [
             0.8888888888888888,
             "#fdca26"
            ],
            [
             1,
             "#f0f921"
            ]
           ]
          },
          "colorway": [
           "#636efa",
           "#EF553B",
           "#00cc96",
           "#ab63fa",
           "#FFA15A",
           "#19d3f3",
           "#FF6692",
           "#B6E880",
           "#FF97FF",
           "#FECB52"
          ],
          "font": {
           "color": "#2a3f5f"
          },
          "geo": {
           "bgcolor": "white",
           "lakecolor": "white",
           "landcolor": "#E5ECF6",
           "showlakes": true,
           "showland": true,
           "subunitcolor": "white"
          },
          "hoverlabel": {
           "align": "left"
          },
          "hovermode": "closest",
          "mapbox": {
           "style": "light"
          },
          "paper_bgcolor": "white",
          "plot_bgcolor": "#E5ECF6",
          "polar": {
           "angularaxis": {
            "gridcolor": "white",
            "linecolor": "white",
            "ticks": ""
           },
           "bgcolor": "#E5ECF6",
           "radialaxis": {
            "gridcolor": "white",
            "linecolor": "white",
            "ticks": ""
           }
          },
          "scene": {
           "xaxis": {
            "backgroundcolor": "#E5ECF6",
            "gridcolor": "white",
            "gridwidth": 2,
            "linecolor": "white",
            "showbackground": true,
            "ticks": "",
            "zerolinecolor": "white"
           },
           "yaxis": {
            "backgroundcolor": "#E5ECF6",
            "gridcolor": "white",
            "gridwidth": 2,
            "linecolor": "white",
            "showbackground": true,
            "ticks": "",
            "zerolinecolor": "white"
           },
           "zaxis": {
            "backgroundcolor": "#E5ECF6",
            "gridcolor": "white",
            "gridwidth": 2,
            "linecolor": "white",
            "showbackground": true,
            "ticks": "",
            "zerolinecolor": "white"
           }
          },
          "shapedefaults": {
           "line": {
            "color": "#2a3f5f"
           }
          },
          "ternary": {
           "aaxis": {
            "gridcolor": "white",
            "linecolor": "white",
            "ticks": ""
           },
           "baxis": {
            "gridcolor": "white",
            "linecolor": "white",
            "ticks": ""
           },
           "bgcolor": "#E5ECF6",
           "caxis": {
            "gridcolor": "white",
            "linecolor": "white",
            "ticks": ""
           }
          },
          "title": {
           "x": 0.05
          },
          "xaxis": {
           "automargin": true,
           "gridcolor": "white",
           "linecolor": "white",
           "ticks": "",
           "title": {
            "standoff": 15
           },
           "zerolinecolor": "white",
           "zerolinewidth": 2
          },
          "yaxis": {
           "automargin": true,
           "gridcolor": "white",
           "linecolor": "white",
           "ticks": "",
           "title": {
            "standoff": 15
           },
           "zerolinecolor": "white",
           "zerolinewidth": 2
          }
         }
        },
        "title": {
         "text": "제품 카테고리별 판매 데이터"
        },
        "updatemenus": [
         {
          "buttons": [
           {
            "args": [
             {
              "y": [
               [
                202,
                448,
                370,
                206,
                171
               ]
              ]
             }
            ],
            "label": "전자제품",
            "method": "restyle"
           },
           {
            "args": [
             {
              "y": [
               [
                288,
                120,
                202,
                221,
                314
               ]
              ]
             }
            ],
            "label": "의류",
            "method": "restyle"
           },
           {
            "args": [
             {
              "y": [
               [
                430,
                187,
                472,
                199,
                459
               ]
              ]
             }
            ],
            "label": "식품",
            "method": "restyle"
           }
          ],
          "direction": "down",
          "pad": {
           "r": 10,
           "t": 10
          },
          "showactive": true,
          "x": 0.1,
          "xanchor": "left",
          "y": 1.1,
          "yanchor": "top"
         }
        ],
        "xaxis": {
         "title": {
          "text": "월"
         }
        },
        "yaxis": {
         "title": {
          "text": "매출"
         }
        }
       }
      }
     },
     "metadata": {},
     "output_type": "display_data"
    }
   ],
   "source": [
    "import plotly.graph_objects as go\n",
    "import pandas as pd\n",
    "import numpy as np\n",
    "\n",
    "# 가상 판매 데이터 생성\n",
    "np.random.seed(42)\n",
    "categories = ['전자제품', '의류', '식품']\n",
    "months = ['1월', '2월', '3월', '4월', '5월']\n",
    "data = {\n",
    "    '월': np.tile(months, len(categories)),\n",
    "    '카테고리': np.repeat(categories, len(months)),\n",
    "    '매출': np.random.randint(100, 500, len(months) * len(categories))\n",
    "}\n",
    "df = pd.DataFrame(data)\n",
    "\n",
    "# 기본 차트: 첫 번째 카테고리 데이터\n",
    "default_category = categories[0]\n",
    "df_default = df[df['카테고리'] == default_category]\n",
    "\n",
    "fig = go.Figure()\n",
    "\n",
    "fig.add_trace(go.Bar(\n",
    "    x=df_default['월'],\n",
    "    y=df_default['매출'],\n",
    "    name=default_category,\n",
    "    marker_color='blue'\n",
    "))\n",
    "\n",
    "# 드롭다운 버튼 구성\n",
    "updatemenus = [\n",
    "    dict(\n",
    "        buttons=list([\n",
    "            dict(\n",
    "                args=[{\"y\": [df[df['카테고리'] == cat]['매출']]}],\n",
    "                label=cat,\n",
    "                method=\"restyle\"\n",
    "            ) for cat in categories\n",
    "        ]),\n",
    "        direction=\"down\",\n",
    "        pad={\"r\": 10, \"t\": 10},\n",
    "        showactive=True,\n",
    "        x=0.1,\n",
    "        xanchor=\"left\",\n",
    "        y=1.1,\n",
    "        yanchor=\"top\"\n",
    "    )\n",
    "]\n",
    "\n",
    "fig.update_layout(\n",
    "    title=\"제품 카테고리별 판매 데이터\",\n",
    "    xaxis_title=\"월\",\n",
    "    yaxis_title=\"매출\",\n",
    "    updatemenus=updatemenus\n",
    ")\n",
    "fig.show()\n"
   ]
  },
  {
   "cell_type": "markdown",
   "metadata": {},
   "source": [
    "##  7: Plotly Dash를 활용한 웹 대시보드 예제\n",
    "- Plotly Dash를 사용하여 실시간 데이터를 기반으로 여러 차트를 동적으로 업데이트하는 웹 대시보드를 개발하세요.\n",
    "- (아래 코드는 간단한 Dash 애플리케이션 예제로, 파일로 저장 후 실행할 수 있습니다.)"
   ]
  },
  {
   "cell_type": "code",
   "execution_count": null,
   "metadata": {},
   "outputs": [
    {
     "data": {
      "text/html": [
       "\n",
       "        <iframe\n",
       "            width=\"100%\"\n",
       "            height=\"650\"\n",
       "            src=\"http://127.0.0.1:8050/\"\n",
       "            frameborder=\"0\"\n",
       "            allowfullscreen\n",
       "            \n",
       "        ></iframe>\n",
       "        "
      ],
      "text/plain": [
       "<IPython.lib.display.IFrame at 0x323fc18d0>"
      ]
     },
     "metadata": {},
     "output_type": "display_data"
    },
    {
     "name": "stderr",
     "output_type": "stream",
     "text": [
      "/var/folders/h8/dk4pn1l11_5f5z7pscs8gr0r0000gn/T/ipykernel_53592/637836838.py:13: FutureWarning:\n",
      "\n",
      "'S' is deprecated and will be removed in a future version, please use 's' instead.\n",
      "\n",
      "/var/folders/h8/dk4pn1l11_5f5z7pscs8gr0r0000gn/T/ipykernel_53592/637836838.py:13: FutureWarning:\n",
      "\n",
      "'S' is deprecated and will be removed in a future version, please use 's' instead.\n",
      "\n",
      "/var/folders/h8/dk4pn1l11_5f5z7pscs8gr0r0000gn/T/ipykernel_53592/637836838.py:13: FutureWarning:\n",
      "\n",
      "'S' is deprecated and will be removed in a future version, please use 's' instead.\n",
      "\n",
      "/var/folders/h8/dk4pn1l11_5f5z7pscs8gr0r0000gn/T/ipykernel_53592/637836838.py:13: FutureWarning:\n",
      "\n",
      "'S' is deprecated and will be removed in a future version, please use 's' instead.\n",
      "\n"
     ]
    }
   ],
   "source": [
    "# dash_app.py\n",
    "import dash\n",
    "from dash import dcc, html\n",
    "import plotly.graph_objects as go\n",
    "import pandas as pd\n",
    "import numpy as np\n",
    "from dash.dependencies import Input, Output\n",
    "import datetime\n",
    "\n",
    "# 가상 데이터 생성 함수\n",
    "def generate_data():\n",
    "    now = datetime.datetime.now()\n",
    "    times = pd.date_range(start=now, periods=10, freq='S')\n",
    "    values = np.random.randint(0, 100, size=10)\n",
    "    return times, values\n",
    "\n",
    "app = dash.Dash(__name__)\n",
    "\n",
    "app.layout = html.Div([\n",
    "    html.H1(\"실시간 데이터 대시보드\"),\n",
    "    dcc.Graph(id='live-update-graph'),\n",
    "    dcc.Interval(\n",
    "        id='interval-component',\n",
    "        interval=1*1000,  # 1초마다 업데이트\n",
    "        n_intervals=0\n",
    "    )\n",
    "])\n",
    "\n",
    "@app.callback(Output('live-update-graph', 'figure'),\n",
    "              [Input('interval-component', 'n_intervals')])\n",
    "def update_graph_live(n):\n",
    "    times, values = generate_data()\n",
    "    fig = go.Figure(data=go.Scatter(x=times, y=values, mode='lines+markers'))\n",
    "    fig.update_layout(title=\"실시간 데이터 업데이트\", xaxis_title=\"시간\", yaxis_title=\"값\")\n",
    "    return fig\n",
    "\n",
    "if __name__ == '__main__':\n",
    "    app.run_server(debug=True)\n"
   ]
  },
  {
   "cell_type": "code",
   "execution_count": 13,
   "metadata": {},
   "outputs": [
    {
     "name": "stdout",
     "output_type": "stream",
     "text": [
      "Collecting dash\n",
      "  Downloading dash-2.18.2-py3-none-any.whl.metadata (10 kB)\n",
      "Collecting Flask<3.1,>=1.0.4 (from dash)\n",
      "  Downloading flask-3.0.3-py3-none-any.whl.metadata (3.2 kB)\n",
      "Collecting Werkzeug<3.1 (from dash)\n",
      "  Downloading werkzeug-3.0.6-py3-none-any.whl.metadata (3.7 kB)\n",
      "Requirement already satisfied: plotly>=5.0.0 in /opt/homebrew/lib/python3.11/site-packages (from dash) (6.0.0)\n",
      "Collecting dash-html-components==2.0.0 (from dash)\n",
      "  Downloading dash_html_components-2.0.0-py3-none-any.whl.metadata (3.8 kB)\n",
      "Collecting dash-core-components==2.0.0 (from dash)\n",
      "  Downloading dash_core_components-2.0.0-py3-none-any.whl.metadata (2.9 kB)\n",
      "Collecting dash-table==5.0.0 (from dash)\n",
      "  Downloading dash_table-5.0.0-py3-none-any.whl.metadata (2.4 kB)\n",
      "Requirement already satisfied: importlib-metadata in /opt/homebrew/lib/python3.11/site-packages (from dash) (7.1.0)\n",
      "Requirement already satisfied: typing-extensions>=4.1.1 in /opt/homebrew/lib/python3.11/site-packages (from dash) (4.11.0)\n",
      "Requirement already satisfied: requests in /opt/homebrew/lib/python3.11/site-packages (from dash) (2.31.0)\n",
      "Collecting retrying (from dash)\n",
      "  Downloading retrying-1.3.4-py3-none-any.whl.metadata (6.9 kB)\n",
      "Requirement already satisfied: nest-asyncio in /opt/homebrew/lib/python3.11/site-packages (from dash) (1.6.0)\n",
      "Requirement already satisfied: setuptools in /opt/homebrew/lib/python3.11/site-packages (from dash) (74.1.2)\n",
      "Requirement already satisfied: Jinja2>=3.1.2 in /opt/homebrew/lib/python3.11/site-packages (from Flask<3.1,>=1.0.4->dash) (3.1.3)\n",
      "Collecting itsdangerous>=2.1.2 (from Flask<3.1,>=1.0.4->dash)\n",
      "  Downloading itsdangerous-2.2.0-py3-none-any.whl.metadata (1.9 kB)\n",
      "Requirement already satisfied: click>=8.1.3 in /opt/homebrew/lib/python3.11/site-packages (from Flask<3.1,>=1.0.4->dash) (8.1.7)\n",
      "Requirement already satisfied: blinker>=1.6.2 in /opt/homebrew/lib/python3.11/site-packages (from Flask<3.1,>=1.0.4->dash) (1.9.0)\n",
      "Requirement already satisfied: narwhals>=1.15.1 in /opt/homebrew/lib/python3.11/site-packages (from plotly>=5.0.0->dash) (1.27.1)\n",
      "Requirement already satisfied: packaging in /opt/homebrew/lib/python3.11/site-packages (from plotly>=5.0.0->dash) (24.0)\n",
      "Requirement already satisfied: MarkupSafe>=2.1.1 in /opt/homebrew/lib/python3.11/site-packages (from Werkzeug<3.1->dash) (2.1.5)\n",
      "Requirement already satisfied: zipp>=0.5 in /opt/homebrew/lib/python3.11/site-packages (from importlib-metadata->dash) (3.18.1)\n",
      "Requirement already satisfied: charset-normalizer<4,>=2 in /opt/homebrew/lib/python3.11/site-packages (from requests->dash) (3.3.2)\n",
      "Requirement already satisfied: idna<4,>=2.5 in /opt/homebrew/lib/python3.11/site-packages (from requests->dash) (3.7)\n",
      "Requirement already satisfied: urllib3<3,>=1.21.1 in /opt/homebrew/lib/python3.11/site-packages (from requests->dash) (2.2.1)\n",
      "Requirement already satisfied: certifi>=2017.4.17 in /opt/homebrew/lib/python3.11/site-packages (from requests->dash) (2024.2.2)\n",
      "Requirement already satisfied: six>=1.7.0 in /opt/homebrew/lib/python3.11/site-packages (from retrying->dash) (1.16.0)\n",
      "Downloading dash-2.18.2-py3-none-any.whl (7.8 MB)\n",
      "\u001b[2K   \u001b[90m━━━━━━━━━━━━━━━━━━━━━━━━━━━━━━━━━━━━━━━━\u001b[0m \u001b[32m7.8/7.8 MB\u001b[0m \u001b[31m10.9 MB/s\u001b[0m eta \u001b[36m0:00:00\u001b[0ma \u001b[36m0:00:01\u001b[0m\n",
      "\u001b[?25hDownloading dash_core_components-2.0.0-py3-none-any.whl (3.8 kB)\n",
      "Downloading dash_html_components-2.0.0-py3-none-any.whl (4.1 kB)\n",
      "Downloading dash_table-5.0.0-py3-none-any.whl (3.9 kB)\n",
      "Downloading flask-3.0.3-py3-none-any.whl (101 kB)\n",
      "Downloading werkzeug-3.0.6-py3-none-any.whl (227 kB)\n",
      "Downloading retrying-1.3.4-py3-none-any.whl (11 kB)\n",
      "Downloading itsdangerous-2.2.0-py3-none-any.whl (16 kB)\n",
      "Installing collected packages: dash-table, dash-html-components, dash-core-components, Werkzeug, retrying, itsdangerous, Flask, dash\n",
      "Successfully installed Flask-3.0.3 Werkzeug-3.0.6 dash-2.18.2 dash-core-components-2.0.0 dash-html-components-2.0.0 dash-table-5.0.0 itsdangerous-2.2.0 retrying-1.3.4\n"
     ]
    }
   ],
   "source": [
    "!pip install dash"
   ]
  }
 ],
 "metadata": {
  "kernelspec": {
   "display_name": "Python 3",
   "language": "python",
   "name": "python3"
  },
  "language_info": {
   "codemirror_mode": {
    "name": "ipython",
    "version": 3
   },
   "file_extension": ".py",
   "mimetype": "text/x-python",
   "name": "python",
   "nbconvert_exporter": "python",
   "pygments_lexer": "ipython3",
   "version": "3.11.10"
  }
 },
 "nbformat": 4,
 "nbformat_minor": 2
}
