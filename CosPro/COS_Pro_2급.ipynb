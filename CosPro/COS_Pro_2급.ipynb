{
 "cells": [
  {
   "cell_type": "markdown",
   "metadata": {},
   "source": [
    "<1번>\n",
    "- round(반올림하고싶은값, 자릿수)\n",
    "* 반올림해서 보고 싶은 자릿수가 몇자리인지\n",
    "예: 셋째 자리에서 반올림해서 둘째 자리까지 보고 싶다면 - 2"
   ]
  },
  {
   "cell_type": "code",
   "execution_count": 1,
   "metadata": {},
   "outputs": [
    {
     "name": "stdout",
     "output_type": "stream",
     "text": [
      "sum = 70\n",
      "avg = 23.33\n"
     ]
    }
   ],
   "source": [
    "a, b, c = map(int, input(\"세 수를 입력하세요: \").split())\n",
    "\n",
    "hap = a + b + c\n",
    "ave = hap / 3\n",
    "print(\"sum =\", hap)\n",
    "print(\"avg =\", round(ave, 2))\n"
   ]
  },
  {
   "cell_type": "markdown",
   "metadata": {},
   "source": [
    "<2번>\n",
    "- 1번에서는 띄어쓰기(\" \")를 기준으로 입력을 받았는데,\n",
    "2번에서는 엔터를 기준으로 입력을 받습니다.\n",
    ">> 한 줄에 input() 함수 한 개.\n",
    "\n",
    "- len(문자열) : 문자열의 길이를 반환한다."
   ]
  },
  {
   "cell_type": "code",
   "execution_count": 2,
   "metadata": {},
   "outputs": [
    {
     "name": "stdout",
     "output_type": "stream",
     "text": [
      "9\n"
     ]
    }
   ],
   "source": [
    "s1 = input()\n",
    "s2 = input()\n",
    "\n",
    "print(len(s1)+len(s2))"
   ]
  },
  {
   "cell_type": "markdown",
   "metadata": {},
   "source": [
    "<3번>\n",
    "표준 입력으로 자연수를 입력받는다. >> int(input())\n",
    "\n",
    "- range(시작, 끝, 스텝)\n",
    "시작은 포함하고 끝은 포함하지 않는다.\n",
    "\n",
    "1, 2, 3, 4, 5\n",
    "시작이 1이고 끝은 5+1=6이고, 스텝은 1인 range 함수를 작성해야겠다. >> range(1, 6, 1)\n",
    "\n",
    "- 문자열 * 정수 = 문자열이 정수 번 반복된다."
   ]
  },
  {
   "cell_type": "code",
   "execution_count": 3,
   "metadata": {},
   "outputs": [
    {
     "name": "stdout",
     "output_type": "stream",
     "text": [
      "*\n",
      "**\n",
      "***\n",
      "****\n",
      "*****\n"
     ]
    }
   ],
   "source": [
    "N = int(input())\n",
    "\n",
    "for i in range(1, 6, 1):\n",
    "    print(\"*\"*i)"
   ]
  },
  {
   "cell_type": "markdown",
   "metadata": {},
   "source": [
    "<4번>\n",
    "- 큰따옴표를 출력하고 싶을 때는 작은따옴표 안에 큰따옴표를 넣는다.\n",
    "- 작은따옴표를 출력하고 싶을 때는 큰따옴표 안에 작은따옴표를 넣는다.\n",
    "\n",
    "- 공백과 함께 문자열 여러 개를 출력하고 싶을 때는 쉼표(,)로 구분한다.\n",
    "- 공백 없이 문자열 여러 개를 붙여서 출력하고 싶을 때는 더하기(+)로 구분한다."
   ]
  },
  {
   "cell_type": "code",
   "execution_count": 4,
   "metadata": {},
   "outputs": [
    {
     "name": "stdout",
     "output_type": "stream",
     "text": [
      "'I'm a happy'\n"
     ]
    }
   ],
   "source": [
    "str = input(\"문자열을 입력하세요.\")\n",
    "print(\"'\"+str+\"'\")"
   ]
  },
  {
   "cell_type": "markdown",
   "metadata": {},
   "source": [
    "<5번>\n",
    "- 숫자를 입력받아 2로 나눈 나머지가 0이면 짝수, 그렇지 않으면 홀수\n",
    "- '~이면' >> IF \n",
    "- 나머지 >> %"
   ]
  },
  {
   "cell_type": "code",
   "execution_count": 6,
   "metadata": {},
   "outputs": [
    {
     "name": "stdout",
     "output_type": "stream",
     "text": [
      "짝수\n"
     ]
    }
   ],
   "source": [
    "n = int(input())\n",
    "\n",
    "if n%2 == 0: print(\"짝수\")\n",
    "else: print(\"홀수\")"
   ]
  },
  {
   "cell_type": "markdown",
   "metadata": {},
   "source": [
    "<6번>\n",
    "- 큰 수에서 작은 수를 빼라-고 했는데, 첫번째 수와 두번째 수 중 어떤 수가 큰지 모르므로,\n",
    "- 첫 번째 수가 더 크면, 첫번째 수  - 두번째 수,\n",
    "- 두 번째 수가 더 크면, 두번째 수 - 첫번째 수를 출력하면 되겠다.\n",
    "\n",
    "- map() : 여러 개의 변수의 자료형을 한 번에 바꿔줄 때 사용\n",
    "- 입력받은 문자열을 정수로 바꿔줄 때 자주 사용한다.\n",
    "map(int, 바꾸고싶은변수)"
   ]
  },
  {
   "cell_type": "code",
   "execution_count": 7,
   "metadata": {},
   "outputs": [
    {
     "name": "stdout",
     "output_type": "stream",
     "text": [
      "8\n"
     ]
    }
   ],
   "source": [
    "n1, n2 = map(int, input().split())\n",
    "\n",
    "if n1 > n2: print(n1 - n2)\n",
    "else: print(n2 - n1)"
   ]
  },
  {
   "cell_type": "markdown",
   "metadata": {},
   "source": [
    "<7번>\n",
    "- while문 안에서 어떤 동작이 일어나는지 파악\n",
    ": 숫자 n을 입력받아 1씩 작아지다가, n이 1이 되면 멈추는 동작 (5, 4, 3, 2, 1)\n",
    ">> while문 안에 n=n-1 이 들어있겠구나! 생각\n",
    "\n",
    "- 그 때 출력하는 숫자는 n=5일 때 5 출력, n=4일 때 4 출력, ... print() 안에 들어가는 변수는 n 이겠구나. >> print(n)\n",
    "- 엔터 기준이 아니라, 띄어쓰기를 기준으로 출력하므로, 뒤에 end 옵션을 넣는다. >>  end=\" \"\n",
    "\n",
    "- while문 옆자리 (while문에 들어가는 조건)\n",
    "n과 1을 비교해야겠구나. : 후보1 n<=1 / 후보2 n>=1 >> 조건이 어려우시면 둘 다 써보고 실행해보시면 됩니다.\n",
    "맨 처음에 n이 5일 때 while문 안에 들어가려면, 5가 1보다 커야겠죠 ? >>  n >= 1"
   ]
  },
  {
   "cell_type": "code",
   "execution_count": 8,
   "metadata": {},
   "outputs": [
    {
     "name": "stdout",
     "output_type": "stream",
     "text": [
      "10 9 8 7 6 5 4 3 2 1 "
     ]
    }
   ],
   "source": [
    "n = int(input(\"1부터 1,000이하 숫자 입력\"))\n",
    "\n",
    "while n > 0 :\n",
    "    print(n ,end=\" \")\n",
    "    n -= 1 "
   ]
  },
  {
   "cell_type": "markdown",
   "metadata": {},
   "source": []
  },
  {
   "cell_type": "markdown",
   "metadata": {},
   "source": [
    "<8번>\n",
    "- list() 함수 안에 여러 개의 변수를 넣으면, 리스트(배열) 형식으로 반환한다.\n",
    "- 여러 개의 숫자를 띄어쓰기를 기준으로 입력받아 배열 형식으로 바꿔서 계산하고 싶을 때 쓴다.\n",
    "list(map(int, input().split())\n",
    "\n",
    "- arr 안에 있는 숫자들을 하나하나 확인하면서 짝수인지 홀수인지 판단할 것이다.\n",
    "- 하나하나 확인 >> for문\n",
    "\n",
    "★ 배열이나 문자열을 하나씩 확인할 때는 FOR문을 쓴다. ★\n",
    "\n",
    "- arr 안에 있는 정수들을 하나씩 순회하면서 i에 넣는다.\n",
    "- 만약 i 를 2로 나눈 나머지가 0이면 짝수의 개수에 1을 더한다.\n",
    "- 그렇지 않으면 홀수의 개수에 1을 더한다.\n",
    "- 홀수의 개수와 짝수의 개수를 출력한다.\n",
    "+) 홀수의 개수와 짝수의 개수를 합하면 무조건 n 이므로, 변수를 하나만 선언해도 된다.\n"
   ]
  },
  {
   "cell_type": "code",
   "execution_count": 10,
   "metadata": {},
   "outputs": [
    {
     "name": "stdout",
     "output_type": "stream",
     "text": [
      "[1, 2, 3, 4, 5]\n",
      "3 2\n"
     ]
    }
   ],
   "source": [
    "n = int(input())\n",
    "arr = list(map(int,input().split()))\n",
    "\n",
    "zzak = 0\n",
    "\n",
    "for i in arr:\n",
    "    if i % 2 == 0: zzak = zzak + 1\n",
    "\n",
    "print(arr)\n",
    "print(n-zzak, zzak)"
   ]
  },
  {
   "cell_type": "markdown",
   "metadata": {},
   "source": [
    "<9번>\n",
    "\n",
    "- 주어진 arr를 하나하나 순회하면서, 그 값을 x에 넣고, x를 변수 hap에 차곡차곡 쌓으면서 더해준다.\n",
    "\n",
    "hap = hap + x\n",
    "hap += x\n",
    "\n",
    "- 평균 = 합 / 개수 = hap/n\n",
    "- 소수점 첫째 자리까지 나타내라고 하였므로, round() 함수 사용"
   ]
  },
  {
   "cell_type": "code",
   "execution_count": 11,
   "metadata": {},
   "outputs": [
    {
     "name": "stdout",
     "output_type": "stream",
     "text": [
      "85\n",
      "17.0\n"
     ]
    }
   ],
   "source": [
    "for x in arr :\n",
    "    hap += x\n",
    "\n",
    "print(hap)\n",
    "print(round(hap/n, 1))"
   ]
  },
  {
   "cell_type": "code",
   "execution_count": 12,
   "metadata": {},
   "outputs": [
    {
     "name": "stdout",
     "output_type": "stream",
     "text": [
      "15\n",
      "3.0\n"
     ]
    }
   ],
   "source": [
    "\n",
    "n = int(input(\"숫자 length 갑 입력\"))\n",
    "arr= []\n",
    "arr = input(\"숫자 배열 입력\").split()\n",
    "\n",
    "hap = 0\n",
    "avg = 0\n",
    "\n",
    "for i in range(n):\n",
    "    arr[i] = int(arr[i])\n",
    "\n",
    "for x in arr : \n",
    "    hap += x\n",
    "\n",
    "print(hap)\n",
    "print( round(hap/n, 1))  "
   ]
  },
  {
   "cell_type": "markdown",
   "metadata": {},
   "source": [
    "<10번>\n",
    "\n",
    "- s를 한 글자씩 확인하면서 p 이거나 P 이면 cnt에 1씩 더한다.\n",
    "- for x in s\n",
    ": s 문자열의 문자들이 한 글자씩 x에 들어간다.\n",
    "- 무엇이 p 이거나 P여야 하는지 생각 >> x\n",
    ">>> ★ x가 p 이거나 x가 P 이면 cnt에 1을 더하면 되겠다 !\n",
    "\n",
    "x == 'p' 이거나 x == 'P'\n",
    "이거나 >> OR"
   ]
  },
  {
   "cell_type": "code",
   "execution_count": 14,
   "metadata": {},
   "outputs": [
    {
     "name": "stdout",
     "output_type": "stream",
     "text": [
      "2\n"
     ]
    }
   ],
   "source": [
    "s = input(\"\")\n",
    "\n",
    "cnt = 0 # p와 P 의 개수를 저장할 변수를 선언하고 0으로 초기화\n",
    "for x in s :\n",
    "   if (x == 'p') or (x == 'P') :\n",
    "        cnt += 1\n",
    "\n",
    "print(cnt)"
   ]
  },
  {
   "cell_type": "code",
   "execution_count": null,
   "metadata": {},
   "outputs": [],
   "source": []
  }
 ],
 "metadata": {
  "kernelspec": {
   "display_name": "Python 3",
   "language": "python",
   "name": "python3"
  },
  "language_info": {
   "codemirror_mode": {
    "name": "ipython",
    "version": 3
   },
   "file_extension": ".py",
   "mimetype": "text/x-python",
   "name": "python",
   "nbconvert_exporter": "python",
   "pygments_lexer": "ipython3",
   "version": "3.11.10"
  }
 },
 "nbformat": 4,
 "nbformat_minor": 2
}
