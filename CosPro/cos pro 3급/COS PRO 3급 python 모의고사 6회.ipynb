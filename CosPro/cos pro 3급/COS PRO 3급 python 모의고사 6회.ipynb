{
 "cells": [
  {
   "cell_type": "markdown",
   "id": "42b8ab01-22ee-4bfe-83ff-377e3c511581",
   "metadata": {},
   "source": [
    "# COS PRO 3급 모의고사(6회)"
   ]
  },
  {
   "cell_type": "markdown",
   "id": "78713e89-9f98-49d3-9267-7d48f9cf0a82",
   "metadata": {},
   "source": [
    "---"
   ]
  },
  {
   "cell_type": "markdown",
   "id": "827a6338-8fe0-4c80-8a5f-f97bac7dca55",
   "metadata": {},
   "source": [
    "## <모의고사 6회>"
   ]
  },
  {
   "cell_type": "markdown",
   "id": "dc5d2529-1c53-4139-b1d7-abc02cd0c2ad",
   "metadata": {},
   "source": [
    "### 문제 1  \n",
    "> 자연수 n을 입력 받아 약수의 개수를 출력하는 프로그램을 작성하세요."
   ]
  },
  {
   "cell_type": "markdown",
   "id": "e9dd0a4f-ec26-4560-b738-9f9fe786511b",
   "metadata": {},
   "source": [
    "* 입력 설명  \n",
    "첫 줄에 정수 N이 주어집니다.  \n",
    "\n",
    "* 출력 설명  \n",
    "N의 약수의 개수를 출력하세요.  \n",
    "\n",
    "* 입출력 예\n",
    "입력  \n",
    "12  \n",
    "출력  \n",
    "6  "
   ]
  },
  {
   "cell_type": "code",
   "execution_count": 8,
   "id": "4e9af26a-5460-4488-b209-a669a7124499",
   "metadata": {},
   "outputs": [
    {
     "name": "stdin",
     "output_type": "stream",
     "text": [
      " 12\n"
     ]
    },
    {
     "name": "stdout",
     "output_type": "stream",
     "text": [
      "1\n",
      "2\n",
      "3\n",
      "4\n",
      "6\n",
      "12\n",
      "6\n"
     ]
    }
   ],
   "source": [
    "# 이곳에 코드를 작성하세요.\n",
    "N = int(input())\n",
    "answer = 0\n",
    "\n",
    "for i in range(1, N+1):\n",
    "    if N % i == 0:\n",
    "        answer += 1\n",
    "\n",
    "print(answer)\n"
   ]
  },
  {
   "cell_type": "markdown",
   "id": "a500648a-3f13-4322-8306-90ad38c7b44e",
   "metadata": {},
   "source": [
    "### 문제 2  \n",
    "> 짝수인 정수 n을 입력받아 1부터 n까지의 숫자를 2개씩 나누어서 출력해 주세요."
   ]
  },
  {
   "cell_type": "markdown",
   "id": "64bb3986-22f9-4c2f-af68-d5ce36957a48",
   "metadata": {},
   "source": [
    "* 입력 설명  \n",
    "표준 입력으로 정수 n이 주어집니다.(n은 항상 짝수입니다.)  \n",
    "\n",
    "* 입출력 예  \n",
    "입력  \n",
    "10  \n",
    "출력  \n",
    "1 2  \n",
    "3 4  \n",
    "5 6  \n",
    "7 8  \n",
    "9 10  "
   ]
  },
  {
   "cell_type": "code",
   "execution_count": 9,
   "id": "a08e74c9-2560-40ca-ae96-a1a5c7c0e264",
   "metadata": {},
   "outputs": [
    {
     "name": "stdin",
     "output_type": "stream",
     "text": [
      " 10\n"
     ]
    },
    {
     "name": "stdout",
     "output_type": "stream",
     "text": [
      "1 2\n",
      "3 4\n",
      "5 6\n",
      "7 8\n",
      "9 10\n"
     ]
    }
   ],
   "source": [
    "# 주어진 코드를 변경해서 모든 입력에 대해 올바르게 동작하도록 수정하세요.\n",
    "i = 1\n",
    "\n",
    "n = input(\"\")\n",
    "n = int(n)\n",
    "\n",
    "while i < 10:\n",
    "    print(i, i+1)\n",
    "    i += 2"
   ]
  },
  {
   "cell_type": "markdown",
   "id": "23a89887-4b1d-4693-bb29-ce0830bff95f",
   "metadata": {},
   "source": [
    "### 문제 3  \n",
    "> 세 과목 점수를 입력 받아 세 과목 모두 60점 이상이면 \"YES\", 아니면 \"NO\"를 출력하는 프로그램을 작성하세요."
   ]
  },
  {
   "cell_type": "markdown",
   "id": "aeb8f054-561a-426a-b36d-b89bb75bca20",
   "metadata": {},
   "source": [
    "* 입력 설명  \n",
    "표준 입력으로 정수 3 개가 주어집니다.  \n",
    "N은 1 이상 100 이하입니다.  \n",
    "\n",
    "* 출력 설명  \n",
    "세 과목 모두 60점 이상이면 \"YES\", 아니면 \"NO\"를 출력해주세요.  \n",
    "\n",
    "* 입출력 예  \n",
    "  입력  \n",
    "  75  \n",
    "  95  \n",
    "  85  \n",
    "  출력  \n",
    "  YES  "
   ]
  },
  {
   "cell_type": "code",
   "execution_count": 11,
   "id": "70b8c2ee-f040-4f96-b76f-650a5753ae63",
   "metadata": {},
   "outputs": [
    {
     "name": "stdin",
     "output_type": "stream",
     "text": [
      " 50\n",
      " 90\n",
      " 100\n"
     ]
    },
    {
     "name": "stdout",
     "output_type": "stream",
     "text": [
      "NO\n"
     ]
    }
   ],
   "source": [
    "a = input(\"\")\n",
    "b = input(\"\")\n",
    "c = input(\"\")\n",
    "\n",
    "a=int(a)\n",
    "b=int(b)\n",
    "c=int(c)\n",
    "\n",
    "if a >= 60 and b >= 60 and c >= 60:\n",
    "    print(\"YES\")\n",
    "else:\n",
    "    print(\"NO\")"
   ]
  },
  {
   "cell_type": "markdown",
   "id": "e259d0e0-6cd9-405a-8e15-3d4f2214cc66",
   "metadata": {},
   "source": [
    "### 문제 4  \n",
    "> 1 ~ 100 사이의 수 중에서  \n",
    "> 3의 배수 이거나 7의 배수인 수를 출력하는 프로그램을 작성해 주세요."
   ]
  },
  {
   "cell_type": "markdown",
   "id": "9fd58a49-ce9c-4eb8-a8fb-cb5fef3b3783",
   "metadata": {},
   "source": [
    "* 입력 설명  \n",
    "입력 데이터는 없습니다.\n",
    "\n",
    "* 출력 설명  \n",
    "3의 배수이거나 7의 배수인 수를 출력해 주세요.\n",
    "\n",
    "* 입출력 예  \n",
    "출력  \n",
    "3 6 7 9 12 14 15 18 21 ... ..."
   ]
  },
  {
   "cell_type": "code",
   "execution_count": 12,
   "id": "c17da9de-1517-498d-b08c-1f7c30a38b4d",
   "metadata": {},
   "outputs": [
    {
     "name": "stdout",
     "output_type": "stream",
     "text": [
      "3 6 7 9 12 14 15 18 21 24 27 28 30 33 35 36 39 42 45 48 49 51 54 56 57 60 63 66 69 70 72 75 77 78 81 84 87 90 91 93 96 98 99 "
     ]
    }
   ],
   "source": [
    "# 주어진 코드를 변경해서 모든 입력에 대해 올바르게 동작하도록 수정하세요.\n",
    "\n",
    "a = 1\n",
    "\n",
    "while a<100:\n",
    "    if a % 3 == 0 or a % 7 == 0:\n",
    "        print(a, end= ' ')\n",
    "    a+=1"
   ]
  },
  {
   "cell_type": "markdown",
   "id": "203495df-afda-461c-882c-c7718742ae7b",
   "metadata": {},
   "source": [
    "### 문제 5  \n",
    "> 1부터 입력 받은 수까지의 합을 출력하는 프로그램을 작성하세요."
   ]
  },
  {
   "cell_type": "markdown",
   "id": "92b7bc20-54ac-43ce-b17b-eb84420e48c5",
   "metadata": {},
   "source": [
    "* 입력 설명  \n",
    "표준 입력으로 숫자 한 개가 주어집니다.  \n",
    "입력되는 수는 1 이상 1,000 이하인 정수입니다.  \n",
    "\n",
    "* 출력 설명  \n",
    "1부터 입력받은 숫자까지의 합을 형식에 맞춰 출력해주세요.  \n",
    "\n",
    "* 입출력 예  \n",
    "입력  \n",
    "5  \n",
    "출력  \n",
    "1~5 합계: 15"
   ]
  },
  {
   "cell_type": "code",
   "execution_count": 14,
   "id": "1e5185be-8155-4423-a2e4-4785266aabba",
   "metadata": {},
   "outputs": [
    {
     "name": "stdin",
     "output_type": "stream",
     "text": [
      " 10\n"
     ]
    },
    {
     "name": "stdout",
     "output_type": "stream",
     "text": [
      "1~10 합계: 55\n"
     ]
    }
   ],
   "source": [
    "# 이곳에 코드를 작성하세요.\n",
    "N = int(input())\n",
    "sum = 0\n",
    "\n",
    "for i in range(1, N+1):\n",
    "    sum += i\n",
    "\n",
    "print(f\"1~{N} 합계: {sum}\")"
   ]
  },
  {
   "cell_type": "markdown",
   "id": "53ecfe87-7406-4196-85df-8998cd7df1ec",
   "metadata": {},
   "source": [
    "### 문제 6  \n",
    "> 문자열과 정수 n을 입력받아, 입력받은 문자열을 n번 출력하세요."
   ]
  },
  {
   "cell_type": "markdown",
   "id": "a2de7e94-14eb-4a29-b460-2f69ac8ad000",
   "metadata": {},
   "source": [
    "* 입력 설명  \n",
    "표준 입력으로 문자열과 정수 n이 주어집니다.\n",
    "\n",
    "* 출력 설명  \n",
    "입력받은 문자열을 n번 출력해 주세요.\n",
    "\n",
    "* 입출력 예  \n",
    "입력  \n",
    "Hello\n",
    "3  \n",
    "출력  \n",
    "HelloHelloHello"
   ]
  },
  {
   "cell_type": "code",
   "execution_count": 15,
   "id": "f9ff2db7-b989-4293-ae8c-6e9ef26a3450",
   "metadata": {},
   "outputs": [
    {
     "name": "stdin",
     "output_type": "stream",
     "text": [
      " Hello\n",
      " 3\n"
     ]
    },
    {
     "name": "stdout",
     "output_type": "stream",
     "text": [
      "HelloHelloHello\n"
     ]
    }
   ],
   "source": [
    "# 이곳에 코드를 작성하세요.\n",
    "s = input()\n",
    "n = int(input())\n",
    "\n",
    "print(s * n) # 문자열도 곱셈이 가능하다-> 문자가 반복적으로 출력"
   ]
  },
  {
   "cell_type": "markdown",
   "id": "284d8fb2-4872-4682-ae0e-41795c904546",
   "metadata": {},
   "source": [
    "### 문제 7  \n",
    "> 문자열과 문자1개를 입력받아, 문자열에서 입력받은 문자를 제거하고 출력하세요."
   ]
  },
  {
   "cell_type": "markdown",
   "id": "fc34655e-43ee-499f-a729-498cd4c6fccd",
   "metadata": {},
   "source": [
    "* 입력 설명  \n",
    "표준 입력으로 문자열과 문자가 주어집니다.  \n",
    "\n",
    "* 출력 설명  \n",
    "입력받은 문자를 제거한 문자열을 출력해 주세요.  \n",
    "\n",
    "* 입출력 예  \n",
    "입력  \n",
    "ABCdefabcABC  \n",
    "A  \n",
    "출력  \n",
    "BCdefabcBC  "
   ]
  },
  {
   "cell_type": "code",
   "execution_count": 17,
   "id": "0d1feb67-b6d3-450d-914b-d8b8fa081cbd",
   "metadata": {},
   "outputs": [
    {
     "name": "stdin",
     "output_type": "stream",
     "text": [
      " ABCdefabcABC\n",
      " B\n"
     ]
    },
    {
     "name": "stdout",
     "output_type": "stream",
     "text": [
      "ACdefabcAC"
     ]
    }
   ],
   "source": [
    "# 이곳에 코드를 작성하세요.\n",
    "string = input()\n",
    "a = input()\n",
    "\n",
    "for s in string:\n",
    "    if s == a:\n",
    "        continue #print 하지 않고 넘어갑니다.\n",
    "    else:\n",
    "        print(s, end=\"\")"
   ]
  },
  {
   "cell_type": "markdown",
   "id": "c25db523-d9e2-4a8c-893b-0c91da479ce9",
   "metadata": {},
   "source": [
    "### 문제 8  \n",
    ">  정수 n과 배열 arr을 입력받아  \n",
    ">  0의 개수, 1의 개수 .... 9의 개수를 출력하는 프로그램을 작성하세요."
   ]
  },
  {
   "cell_type": "markdown",
   "id": "cec68adf-0590-421d-9faf-307caa127abd",
   "metadata": {},
   "source": [
    "* 입력 설명  \n",
    "표준 입력으로 자연수 n과 배열 arr이 주어집니다.  \n",
    "n은 2 이상 50 이하입니다.  \n",
    "arr의 원소는 0 이상 9 이하인 정수입니다.  \n",
    "\n",
    "* 출력 설명  \n",
    "0부터 9까지 수의 개수를 출력하세요. \n",
    "\n",
    "* 입출력 예  \n",
    "입력  \n",
    "11  \n",
    "0 5 7 2 2 1 9 2 1 6 5  \n",
    "출력  \n",
    "0의 개수는 1개입니다.  \n",
    "1의 개수는 2개입니다.  \n",
    "2의 개수는 3개입니다.  \n",
    "3의 개수는 0개입니다.  \n",
    "4의 개수는 0개입니다.  \n",
    "5의 개수는 1개입니다.  \n",
    "6의 개수는 1개입니다.  \n",
    "7의 개수는 1개입니다.  \n",
    "8의 개수는 0개입니다.  \n",
    "9의 개수는 1개입니다.  "
   ]
  },
  {
   "cell_type": "code",
   "execution_count": 22,
   "id": "23455bce-fac5-4e5c-8cd0-1376ba79eb90",
   "metadata": {},
   "outputs": [
    {
     "name": "stdin",
     "output_type": "stream",
     "text": [
      " 11\n",
      " 0 5 7 2 2 1 9 2 1 6 5\n"
     ]
    },
    {
     "name": "stdout",
     "output_type": "stream",
     "text": [
      "0의 개수는 1개입니다.\n",
      "1의 개수는 2개입니다.\n",
      "2의 개수는 3개입니다.\n",
      "3의 개수는 0개입니다.\n",
      "4의 개수는 0개입니다.\n",
      "5의 개수는 2개입니다.\n",
      "6의 개수는 1개입니다.\n",
      "7의 개수는 1개입니다.\n",
      "8의 개수는 0개입니다.\n",
      "9의 개수는 1개입니다.\n"
     ]
    }
   ],
   "source": [
    "# 이곳에 코드를 작성하세요.\n",
    "N = int(input())\n",
    "arr = list(map(int, input().split()))\n",
    "count = [0] * 10 # 숫자의 개수를 담을 빈 배열\n",
    "\n",
    "for a in arr:\n",
    "    count[a] += 1\n",
    "\n",
    "for c in range(10):\n",
    "    print(f\"{c}의 개수는 {count[c]}개입니다.\")\n"
   ]
  },
  {
   "cell_type": "markdown",
   "id": "499d93d5-9877-456c-bf1f-edbff30082c6",
   "metadata": {},
   "source": [
    "### 문제 9  \n",
    "> 정수 배열 arr의 각 값을 두 배 한 정수 배열을 출력해 주세요."
   ]
  },
  {
   "cell_type": "markdown",
   "id": "748f5b90-f614-4c08-b29c-71bf702512dc",
   "metadata": {},
   "source": [
    "* 입력 설명  \n",
    "정수 배열 arr가 입력됩니다.\n",
    "\n",
    "* 출력 설명  \n",
    "각 값을 두 배 한 정수 배열 문자 형식으로 출력해 주세요.\n",
    "\n",
    "* 입출력 예  \n",
    "입력  \n",
    "1 2 3 4 5  \n",
    "출력  \n",
    "2 4 6 8 10"
   ]
  },
  {
   "cell_type": "code",
   "execution_count": 24,
   "id": "a0bf2066-748e-4e54-aa40-87aa30fcdf9b",
   "metadata": {},
   "outputs": [
    {
     "name": "stdin",
     "output_type": "stream",
     "text": [
      " 1 2 3 4 5\n"
     ]
    },
    {
     "name": "stdout",
     "output_type": "stream",
     "text": [
      "2 4 6 8 10\n"
     ]
    }
   ],
   "source": [
    "# 이곳에 코드를 작성하세요.\n",
    "arr = map(int, input().split())\n",
    "arr2 = []\n",
    "\n",
    "for a in arr:\n",
    "    arr2.append(a * 2)\n",
    "\n",
    "print(*arr2)"
   ]
  },
  {
   "cell_type": "markdown",
   "id": "b1f02cc2-c141-47a6-8d74-0876e1d50a22",
   "metadata": {},
   "source": [
    "### 문제 10  \n",
    "> 정수 배열 arr를 입력받아,  \n",
    "> 각 값이 50보다 크거나 같은 짝수라면 2로 나누고,  \n",
    "> 50보다 작은 홀수라면 2를 곱한 결과의 정수 배열을 출력해 주세요."
   ]
  },
  {
   "cell_type": "markdown",
   "id": "e92f5818-8aa5-446f-8a99-bfd004c462bc",
   "metadata": {},
   "source": [
    "* 입력 설명  \n",
    "정수 배열 arr를 입력받습니다.  \n",
    "  \n",
    "* 출력 설명  \n",
    "각 값이 50보다 크거나 같은 짝수라면 2로 나누고,  \n",
    "50보다 작은 홀수라면 2를 곱한 결과의 정수 배열을 출력해 주세요.\n",
    "\n",
    "* 입출력 예  \n",
    "입력  \n",
    "1 2 3 100 99 98  \n",
    "출력  \n",
    "2 2 6 50 99 49  "
   ]
  },
  {
   "cell_type": "code",
   "execution_count": 30,
   "id": "1c171bf6-ed48-4f72-851d-1325a3050dea",
   "metadata": {},
   "outputs": [
    {
     "name": "stdin",
     "output_type": "stream",
     "text": [
      " 2 30 15 22 150\n"
     ]
    },
    {
     "name": "stdout",
     "output_type": "stream",
     "text": [
      "2 30 30 22 75 "
     ]
    }
   ],
   "source": [
    "# 이곳에 코드를 작성하세요.\n",
    "arr = map(int, input().split())\n",
    "\n",
    "for a in arr:\n",
    "    if a >= 50 and a % 2 == 0:\n",
    "        print(int(a/2), end=\" \")\n",
    "    elif a < 50 and a % 2 == 1:\n",
    "        print(int(a*2), end=\" \")\n",
    "    else:\n",
    "        print(a, end=\" \")\n"
   ]
  },
  {
   "cell_type": "code",
   "execution_count": null,
   "id": "e8f74373-278b-4619-89f5-c908aa0e51af",
   "metadata": {},
   "outputs": [],
   "source": []
  }
 ],
 "metadata": {
  "kernelspec": {
   "display_name": "Python 3 (ipykernel)",
   "language": "python",
   "name": "python3"
  },
  "language_info": {
   "codemirror_mode": {
    "name": "ipython",
    "version": 3
   },
   "file_extension": ".py",
   "mimetype": "text/x-python",
   "name": "python",
   "nbconvert_exporter": "python",
   "pygments_lexer": "ipython3",
   "version": "3.12.4"
  }
 },
 "nbformat": 4,
 "nbformat_minor": 5
}
