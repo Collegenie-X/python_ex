{
 "cells": [
  {
   "cell_type": "markdown",
   "id": "42b8ab01-22ee-4bfe-83ff-377e3c511581",
   "metadata": {},
   "source": [
    "# COS PRO 3급 모의고사(2회)"
   ]
  },
  {
   "cell_type": "markdown",
   "id": "78713e89-9f98-49d3-9267-7d48f9cf0a82",
   "metadata": {},
   "source": [
    "---"
   ]
  },
  {
   "cell_type": "markdown",
   "id": "827a6338-8fe0-4c80-8a5f-f97bac7dca55",
   "metadata": {},
   "source": [
    "## <모의고사 2회>"
   ]
  },
  {
   "cell_type": "markdown",
   "id": "dc5d2529-1c53-4139-b1d7-abc02cd0c2ad",
   "metadata": {},
   "source": [
    "### 문제 1  \n",
    "> 세 수의 합과 평균을 구하려 합니다.  \n",
    "> 표준 입력으로 수 세 개를 입력받아, 세 수의 합과 평균을  출력하도록 코드를 작성하려 합니다.  \n",
    "> 빈칸을 채워 전체 코드를 완성해주세요. (평균은 소수 셋째자리에서 반올림하여 둘째자리까지 출력하세요)  "
   ]
  },
  {
   "cell_type": "markdown",
   "id": "68218b31-6143-4346-a21b-b267578247b8",
   "metadata": {},
   "source": [
    "* 입력 설명  \n",
    "표준 입력으로 숫자 세 개가 주어집니다.  \n",
    "세 수는 1 이상 100 이하인 자연수입니다.  \n",
    "\n",
    "* 출력 설명  \n",
    "세 수의 합과 평균을 출력해 주세요.  \n",
    "\n",
    "* 입출력 예  \n",
    "입력  \n",
    "5 3 6  \n",
    "출력  \n",
    "sum = 14  \n",
    "avg = 4.67  "
   ]
  },
  {
   "cell_type": "code",
   "execution_count": 8,
   "id": "4e9af26a-5460-4488-b209-a669a7124499",
   "metadata": {},
   "outputs": [
    {
     "name": "stdin",
     "output_type": "stream",
     "text": [
      "세 수를 입력하세요:  5 3 6\n"
     ]
    },
    {
     "name": "stdout",
     "output_type": "stream",
     "text": [
      "sum = 14\n",
      "avg = 4.67\n"
     ]
    }
   ],
   "source": [
    "# 주어진 코드를 변경해서 모든 입력에 대해 올바르게 동작하도록 수정하세요.\n",
    "\n",
    "a, b, c = map(int, input(\"세 수를 입력하세요: \").split())\n",
    "\n",
    "hap = a + b + c\n",
    "ave = hap / 3\n",
    "print(\"sum =\", hap)\n",
    "print(\"avg =\", round(ave, 2))"
   ]
  },
  {
   "cell_type": "markdown",
   "id": "f8c8d371-c90a-4219-9085-fdc03f5a3eae",
   "metadata": {},
   "source": [
    "### 문제 2  \n",
    "> 두 문자열을 입력 받아 두 문자열의 길이의 합을 출력하세요.  \n",
    "> 표준 입력으로 문자열 두 개를 입력받아, 두 문자열 길이의 합을 출력하세요.  "
   ]
  },
  {
   "cell_type": "markdown",
   "id": "f6a262a9-3f98-452b-801a-a8508dcfa739",
   "metadata": {},
   "source": [
    "* 입력 설명  \r\n",
    "표준 입력으로 문자열 두 개가 주어집니다.  \r\n",
    "두 문자열의 길이는 1 이상 100 이하입니다.  \r\n",
    "\r\n",
    "* 출력 설명  \r\n",
    "두 문자열의 길이의 합을 출력해 주세요.  \r\n",
    "\r\n",
    "* 입출력 예  \r\n",
    "입력  \r\n",
    "\"HelloWorld\"  \r\n",
    "\"Programmingisfun\"  \r\n",
    "출력  \r\n",
    "26  "
   ]
  },
  {
   "cell_type": "code",
   "execution_count": 11,
   "id": "a08e74c9-2560-40ca-ae96-a1a5c7c0e264",
   "metadata": {},
   "outputs": [
    {
     "name": "stdin",
     "output_type": "stream",
     "text": [
      " HelloWorld\n",
      " Programmingisfun\n"
     ]
    },
    {
     "name": "stdout",
     "output_type": "stream",
     "text": [
      "26\n"
     ]
    }
   ],
   "source": [
    "# 이곳에 코드를 작성하세요.\n",
    "\n",
    "s1 = input()\n",
    "s2 = input()\n",
    "\n",
    "print(len(s1)+len(s2))"
   ]
  },
  {
   "cell_type": "markdown",
   "id": "6a2bddbf-02a1-4e14-b146-028aab49e035",
   "metadata": {},
   "source": [
    "### 문제 3  \n",
    "> 별(\"*\")로 밑변과 높이가 N인 직각삼각형을 출력하려고 합니다.  \n",
    "> 표준 입력으로 자연수 N을 입력받아 밑변과 높이가 N인 직각삼각형을 출력해주세요.  "
   ]
  },
  {
   "cell_type": "markdown",
   "id": "aeb8f054-561a-426a-b36d-b89bb75bca20",
   "metadata": {},
   "source": [
    "* 입력 설명  \n",
    "표준 입력으로 자연수 N이 주어집니다.  \n",
    "N은 1 이상 100 이하입니다.  \n",
    "\n",
    "* 출력 설명  \n",
    "별로 밑변과 높이가 N인 직각삼각형을 출력해주세요.  "
   ]
  },
  {
   "cell_type": "code",
   "execution_count": null,
   "id": "70b8c2ee-f040-4f96-b76f-650a5753ae63",
   "metadata": {},
   "outputs": [],
   "source": [
    "# 입출력 예\n",
    "# 입력\n",
    "# 5\n",
    "\n",
    "# 출력\n",
    "# *\n",
    "# **\n",
    "# ***\n",
    "# ****\n",
    "# *****"
   ]
  },
  {
   "cell_type": "code",
   "execution_count": 13,
   "id": "66626215-3f2c-45b3-9d5d-23d8e566964d",
   "metadata": {},
   "outputs": [
    {
     "name": "stdin",
     "output_type": "stream",
     "text": [
      " 5\n"
     ]
    },
    {
     "name": "stdout",
     "output_type": "stream",
     "text": [
      "*\n",
      "**\n",
      "***\n",
      "****\n",
      "*****\n"
     ]
    }
   ],
   "source": [
    "# 이곳에 코드를 작성하세요.\n",
    "\n",
    "N = int(input())\n",
    "\n",
    "for i in range(1, 6, 1):\n",
    "    print(\"*\"*i)"
   ]
  },
  {
   "cell_type": "markdown",
   "id": "e259d0e0-6cd9-405a-8e15-3d4f2214cc66",
   "metadata": {},
   "source": [
    "### 문제 4  \n",
    "> 문자열 한 개가 주어졌을 때, 주어진 문자열 양 옆에 작은따옴표를 붙이려 합니다.  \n",
    "> 표준 입력으로 문자열 한 개를 입력받아, 입력받은 문자열 양 옆에 작은따옴표를 붙여 출력하도록 코드를 작성하려 합니다.  \n",
    "> 빈칸을 채워 전체 코드를 완성해 주세요.  "
   ]
  },
  {
   "cell_type": "markdown",
   "id": "9fd58a49-ce9c-4eb8-a8fb-cb5fef3b3783",
   "metadata": {},
   "source": [
    "* 입력 설명  \n",
    "표준 입력으로 문자열 한 개가 주어집니다.  \n",
    "문자열은 알파벳 대문자와 소문자로만 이루어집니다.  \n",
    "문자열 길이는 1 이상 100 이하입니다.  \n",
    "\n",
    "* 출력 설명  \n",
    "입력받은 문자열 양 옆에 작은따옴표를 붙여 출력해주세요.  \n",
    "\n",
    "* 입출력 예  \n",
    "입력  \n",
    "HelloWorld  \n",
    "출력  \n",
    "'HelloWorld'  "
   ]
  },
  {
   "cell_type": "code",
   "execution_count": 15,
   "id": "c17da9de-1517-498d-b08c-1f7c30a38b4d",
   "metadata": {},
   "outputs": [
    {
     "name": "stdin",
     "output_type": "stream",
     "text": [
      "문자열을 입력하세요. HelloWorld\n"
     ]
    },
    {
     "name": "stdout",
     "output_type": "stream",
     "text": [
      "'HelloWorld'\n"
     ]
    }
   ],
   "source": [
    "# 주어진 코드를 변경해서 모든 입력에 대해 올바르게 동작하도록 수정하세요.\n",
    "\n",
    "str = input(\"문자열을 입력하세요.\")\n",
    "print(\"'\"+str+\"'\")"
   ]
  },
  {
   "cell_type": "markdown",
   "id": "203495df-afda-461c-882c-c7718742ae7b",
   "metadata": {},
   "source": [
    "### 문제 5  \n",
    "> 수 한 개가 주어졌을 때 그 숫자가 짝수인지 홀수인지 판별하는 프로그램을 작성하세요.  \n",
    "> 표준 입력으로 숫자 한 개를 입력받아, 짝수 혹은 홀수를 출력해주세요.  "
   ]
  },
  {
   "cell_type": "markdown",
   "id": "5152bc9e-778f-4dc5-adf7-e544f2005034",
   "metadata": {},
   "source": [
    "* 입력 설명  \n",
    "표준 입력으로 숫자 한 개가 주어집니다.  \n",
    "입력되는 수는 1이상 1,000 이하인 정수입니다.  \n",
    "\n",
    "* 출력 설명  \n",
    "홀수 또는 짝수를 출력해주세요.  \n",
    "\n",
    "* 입출력 예  \n",
    "입력  \n",
    "13  \n",
    "출력  \n",
    "홀수  "
   ]
  },
  {
   "cell_type": "code",
   "execution_count": 19,
   "id": "1e5185be-8155-4423-a2e4-4785266aabba",
   "metadata": {},
   "outputs": [
    {
     "name": "stdin",
     "output_type": "stream",
     "text": [
      " 13\n"
     ]
    },
    {
     "name": "stdout",
     "output_type": "stream",
     "text": [
      "홀수\n"
     ]
    }
   ],
   "source": [
    "# 이곳에 코드를 작성하세요.\n",
    "\n",
    "n = int(input())\n",
    "\n",
    "if n%2 == 0: print(\"짝수\")\n",
    "else: print(\"홀수\")"
   ]
  },
  {
   "cell_type": "markdown",
   "id": "53ecfe87-7406-4196-85df-8998cd7df1ec",
   "metadata": {},
   "source": [
    "### 문제 6  \n",
    "> 표준 입력으로 두 수를 입력 받아 큰 수에서 작은 수를 뺀 값(차)를 출력하세요.  "
   ]
  },
  {
   "cell_type": "markdown",
   "id": "e80ed840-f72d-42bb-a2b0-c515717a9879",
   "metadata": {},
   "source": [
    "* 입력 설명  \n",
    "표준 입력으로 숫자 두 개가 주어집니다.  \n",
    "두 숫자는 1 이상 100 이하인 자연수입니다.  \n",
    "\n",
    "* 출력 설명  \n",
    "두 수 중 큰 수에서 작은 수를 뺀 값을 출력해 주세요. \n",
    "\n",
    "* 입출력 예  \n",
    "입력  \n",
    "5 7  \n",
    "출력  \n",
    "2  "
   ]
  },
  {
   "cell_type": "code",
   "execution_count": 25,
   "id": "f9ff2db7-b989-4293-ae8c-6e9ef26a3450",
   "metadata": {},
   "outputs": [
    {
     "name": "stdin",
     "output_type": "stream",
     "text": [
      " 5 7\n"
     ]
    },
    {
     "name": "stdout",
     "output_type": "stream",
     "text": [
      "2\n"
     ]
    }
   ],
   "source": [
    "# 이곳에 코드를 작성하세요.\n",
    "\n",
    "n1, n2 = map(int, input().split())\n",
    "\n",
    "if n1 > n2: print(n1 - n2)\n",
    "else: print(n2 - n1)"
   ]
  },
  {
   "cell_type": "markdown",
   "id": "7e2354a6-0ac5-4610-b47e-9eb08c76bede",
   "metadata": {},
   "source": [
    "### 문제 7  \n",
    "> n부터 1까지의 숫자를 출력하려고 합니다.  \n",
    "> 표준 입력으로 자연수 n을 받아 n부터 1까지의 정수를 가로로 출력하는 코드를 작성하려 합니다.  \n",
    "> 빈칸을 채워 전체 코드를 완성해주세요.  "
   ]
  },
  {
   "cell_type": "markdown",
   "id": "7afffb73-7a2a-4f54-bd11-8cd17eedefb2",
   "metadata": {},
   "source": [
    "* 입력 설명  \n",
    "표준 입력으로 자연수 n이 주어집니다.  \n",
    "n은 1 이상 1,000 이하입니다.  \n",
    "\n",
    "* 출력 설명  \n",
    "n부터 1까지의 자연수를 가로로 출력해주세요.  \n",
    "\n",
    "* 입출력 예  \n",
    "입력  \n",
    "5  \n",
    "출력  \n",
    "5 4 3 2 1  "
   ]
  },
  {
   "cell_type": "code",
   "execution_count": 28,
   "id": "360762bb-c0d3-4ba7-a85b-d6d5b5469541",
   "metadata": {},
   "outputs": [
    {
     "name": "stdin",
     "output_type": "stream",
     "text": [
      " 5\n"
     ]
    },
    {
     "name": "stdout",
     "output_type": "stream",
     "text": [
      "5 4 3 2 1 "
     ]
    }
   ],
   "source": [
    "# 주어진 코드를 변경해서 모든 입력에 대해 올바르게 동작하도록 수정하세요.\n",
    "\n",
    "n = int(input(\"\"))\n",
    "\n",
    "while (n >= 1) :\n",
    "    print(n, end=\" \")\n",
    "    n = n-1"
   ]
  },
  {
   "cell_type": "markdown",
   "id": "00db6a37-e502-4035-8927-26bd8426f13f",
   "metadata": {},
   "source": [
    "### 문제 8  \n",
    "> 길이가 n인 배열 arr에서 짝수의 개수와 홀수의 개수를 출력하세요.  \n",
    "> 표준 입력으로 자연수 n과 배열 arr을 입력받아, 짝수의 개수와 홀수의 개수를 출력하는 코드를 작성하려 합니다.  "
   ]
  },
  {
   "cell_type": "markdown",
   "id": "88a0f1e1-5caf-4391-9564-21db787c85bb",
   "metadata": {},
   "source": [
    "* 입력 설명  \n",
    "표준 입력으로 자연수 n과 배열 arr이 주어집니다.  \n",
    "n은 2 이상 50 이하입니다.  \n",
    "arr의 원소는 1 이상 100 이하인 정수입니다.  \n",
    "\n",
    "* 출력 설명  \n",
    "배열 arr에서 홀수의 개수와 짝수의 개수를  차례대로 출력해주세요.\n",
    "\n",
    "* 입출력 예  \n",
    "입력  \n",
    "5  \n",
    "3 6 2 1 10  \n",
    "출력  \n",
    "2 3  "
   ]
  },
  {
   "cell_type": "code",
   "execution_count": 35,
   "id": "23455bce-fac5-4e5c-8cd0-1376ba79eb90",
   "metadata": {},
   "outputs": [
    {
     "name": "stdin",
     "output_type": "stream",
     "text": [
      " 5\n",
      " 3 6 2 1 10\n"
     ]
    },
    {
     "name": "stdout",
     "output_type": "stream",
     "text": [
      "2 3\n"
     ]
    }
   ],
   "source": [
    "# 이곳에 코드를 작성하세요.\n",
    "\n",
    "n = int(input())\n",
    "arr = list(map(int,input().split()))\n",
    "\n",
    "hol = 0\n",
    "zzak = 0\n",
    "\n",
    "for i in arr:\n",
    "    if i % 2 == 0: zzak = zzak + 1\n",
    "    else: hol = hol + 1\n",
    "\n",
    "print(hol, zzak)"
   ]
  },
  {
   "cell_type": "code",
   "execution_count": 36,
   "id": "1e3173a0-3027-49af-b18b-639faec4e1af",
   "metadata": {},
   "outputs": [
    {
     "name": "stdin",
     "output_type": "stream",
     "text": [
      " 5\n",
      " 3 6 2 1 10\n"
     ]
    },
    {
     "name": "stdout",
     "output_type": "stream",
     "text": [
      "2 3\n"
     ]
    }
   ],
   "source": [
    "n = int(input())\n",
    "arr = list(map(int,input().split()))\n",
    "\n",
    "zzak = 0\n",
    "\n",
    "for i in arr:\n",
    "    if i % 2 == 0: zzak = zzak + 1\n",
    "\n",
    "print(n-zzak, zzak)"
   ]
  },
  {
   "cell_type": "markdown",
   "id": "2b25cff3-ad36-40d3-b4ba-703dfb8ad27f",
   "metadata": {},
   "source": [
    "### 문제 9  \n",
    "> 길이가 n인 배열 arr의 합과 평균을 출력하세요.  \n",
    "> 표준 입력으로 자연수 n과 배열 arr을 입력받아, arr배열의 총합과 평균을 출력하는 코드를 작성하려 합니다.  \n",
    "> 빈칸을 채워 전체 코드를 완성해주세요. (평균은 소수 첫째자리까지 출력하세요)  "
   ]
  },
  {
   "cell_type": "markdown",
   "id": "1cc4265c-9a8b-4e2f-8e3f-7060490652a3",
   "metadata": {},
   "source": [
    "* 입력 설명  \n",
    "표준 입력으로 자연수 n과 배열 arr이 주어집니다.  \n",
    "n은 2 이상 50 이하입니다.  \n",
    "arr의 원소는 1 이상 100 이하인 정수입니다.  \n",
    "\n",
    "* 출력 설명  \n",
    "배열 arr에의 총합과 평균을 차례대로 출력해주세요.  \n",
    "\n",
    "* 입출력 예  \n",
    "입력  \n",
    "6  \n",
    "12 1 9 17 31 7  \n",
    "출력  \n",
    "77  \n",
    "12.8  "
   ]
  },
  {
   "cell_type": "code",
   "execution_count": 39,
   "id": "a0bf2066-748e-4e54-aa40-87aa30fcdf9b",
   "metadata": {},
   "outputs": [
    {
     "name": "stdin",
     "output_type": "stream",
     "text": [
      " 6\n",
      " 12 1 9 17 31 7\n"
     ]
    },
    {
     "name": "stdout",
     "output_type": "stream",
     "text": [
      "77\n",
      "12.8\n"
     ]
    }
   ],
   "source": [
    "# 주어진 코드를 변경해서 모든 입력에 대해 올바르게 동작하도록 수정하세요.\n",
    "\n",
    "n = int(input(\"\")) # 자연수 n을 입력받는다.\n",
    "arr= [] # 배열 arr를 선언한다.\n",
    "arr = input().split() # 입력받은 값을 배열 arr에 저장한다.\n",
    "\n",
    "hap = 0 # 합을 저장할 변수를 선언하고 0으로 초기화한다.\n",
    "avg = 0 # 평균을 저장할 변수를 선언하고 0으로 초기화한다.\n",
    "\n",
    "for i in range(n):\n",
    "    arr[i] = int(arr[i]) # 문자열인 arr의 원소들을 정수로 바꿔서 다시 저장한다.\n",
    "\n",
    "for x in arr :\n",
    "    hap += x\n",
    "\n",
    "print(hap)\n",
    "print(round(hap/n, 1))"
   ]
  },
  {
   "cell_type": "markdown",
   "id": "b1f02cc2-c141-47a6-8d74-0876e1d50a22",
   "metadata": {},
   "source": [
    "### 문제 10  \n",
    "> 문자열 s에서 'p'와 'P'의 개수를 출력해주세요.  \n",
    "> 예를 들어 s가 \"happyHappy\"일 때, 'p'와 'P'의 개수  4를 출력합니다.  \n",
    "> 표준 입력으로 문자열 s를 입력받아 s에서 'p'와 'P'의  개수를 출력해주세요.  주세요."
   ]
  },
  {
   "cell_type": "markdown",
   "id": "3459a56c-820d-4417-8221-f113ae811d35",
   "metadata": {},
   "source": [
    "* 입력 설명  \n",
    "표준 입력으로 문자열 s가 주어집니다.  \n",
    "문자열 s의 길이는 1 이상 1,000 이하입니다.  \n",
    "문자열 s는 영문자로 이루어진 문자열입니다.   \n",
    "  \n",
    "* 출력 설명  \n",
    "문자열 s에서 'p'와 'P'의 개수를 출력해 주세요.  \n",
    "  \n",
    "* 입출력 예  \n",
    "입력  \n",
    "\"Happy\"  \n",
    "출력  \n",
    "2  "
   ]
  },
  {
   "cell_type": "code",
   "execution_count": 41,
   "id": "1c171bf6-ed48-4f72-851d-1325a3050dea",
   "metadata": {},
   "outputs": [
    {
     "name": "stdin",
     "output_type": "stream",
     "text": [
      " aappPPPbdk\n"
     ]
    },
    {
     "name": "stdout",
     "output_type": "stream",
     "text": [
      "5\n"
     ]
    }
   ],
   "source": [
    "# 주어진 코드를 변경해서 모든 입력에 대해 올바르게 동작하도록 수정하세요.\n",
    "s = input(\"\")\n",
    "\n",
    "cnt = 0 # p와 P 의 개수를 저장할 변수를 선언하고 0으로 초기화\n",
    "for x in s :\n",
    "   if (x == 'p') or (x == 'P') :\n",
    "        cnt += 1\n",
    "\n",
    "print(cnt)"
   ]
  },
  {
   "cell_type": "code",
   "execution_count": null,
   "id": "56b95c9d-6c30-4fcb-8ef7-dd169459c0c7",
   "metadata": {},
   "outputs": [],
   "source": [
    "if point < 1000:\n",
    "    return 0 # 조건을 만족하면 여기에서 함수가 끝나고 0을 리턴한다.\n",
    "return point * 100 // 100 # 조건을 만족하지 못하면 여기까지 코드를 확인하고 값을 리턴"
   ]
  },
  {
   "cell_type": "code",
   "execution_count": null,
   "id": "213539c3-3884-4036-bd69-6a706c863101",
   "metadata": {},
   "outputs": [],
   "source": [
    "if point < 1000:\n",
    "    return 0\n",
    "else:\n",
    "    return point * 100 // 100"
   ]
  }
 ],
 "metadata": {
  "kernelspec": {
   "display_name": "Python 3 (ipykernel)",
   "language": "python",
   "name": "python3"
  },
  "language_info": {
   "codemirror_mode": {
    "name": "ipython",
    "version": 3
   },
   "file_extension": ".py",
   "mimetype": "text/x-python",
   "name": "python",
   "nbconvert_exporter": "python",
   "pygments_lexer": "ipython3",
   "version": "3.12.4"
  }
 },
 "nbformat": 4,
 "nbformat_minor": 5
}
