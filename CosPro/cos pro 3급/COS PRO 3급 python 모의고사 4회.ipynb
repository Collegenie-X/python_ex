{
 "cells": [
  {
   "cell_type": "markdown",
   "id": "42b8ab01-22ee-4bfe-83ff-377e3c511581",
   "metadata": {},
   "source": [
    "# COS PRO 3급 모의고사(4회)"
   ]
  },
  {
   "cell_type": "markdown",
   "id": "78713e89-9f98-49d3-9267-7d48f9cf0a82",
   "metadata": {},
   "source": [
    "---"
   ]
  },
  {
   "cell_type": "markdown",
   "id": "827a6338-8fe0-4c80-8a5f-f97bac7dca55",
   "metadata": {},
   "source": [
    "## <모의고사 4회>"
   ]
  },
  {
   "cell_type": "markdown",
   "id": "321a1642-bf5d-46d0-9d74-3a8e3c13abf2",
   "metadata": {},
   "source": [
    "### 문제 1  \n",
    "> 영문자, 숫자, 특수문자열로 구성된 문자열을 입력받아  \n",
    "> 대문자, 소문자, 숫자의 갯수를 출력하는 프로그램을 작성하세요.  \n",
    "> 표준 입력으로 문자열이 주어집니다.(공백은 포함하지 않습니다.)  "
   ]
  },
  {
   "cell_type": "markdown",
   "id": "e9dd0a4f-ec26-4560-b738-9f9fe786511b",
   "metadata": {},
   "source": [
    "* 입력 설명  \n",
    "표준 입력으로 문자열 한 개가 주어집니다.\n",
    "\n",
    "* 출력 설명  \n",
    "대문자의 개수, 소문자의 개수, 숫자의 개수를 차례대로 출력하세요.  \n",
    "\n",
    "* 입출력 예\n",
    "입력  \n",
    "Coding-C++/Python  \n",
    "출력  \n",
    "3 10 0  "
   ]
  },
  {
   "cell_type": "code",
   "execution_count": 2,
   "id": "4e9af26a-5460-4488-b209-a669a7124499",
   "metadata": {},
   "outputs": [
    {
     "name": "stdin",
     "output_type": "stream",
     "text": [
      " Coding-C++/Python\n"
     ]
    },
    {
     "name": "stdout",
     "output_type": "stream",
     "text": [
      "3 10 0\n"
     ]
    }
   ],
   "source": [
    "# 이곳에 코드를 작성하세요.\n",
    "\n",
    "string = input()\n",
    "\n",
    "upper = 0\n",
    "lower = 0\n",
    "digit = 0\n",
    "\n",
    "for s in string:\n",
    "    if s.isupper(): # 대문자\n",
    "        upper += 1\n",
    "    elif s.islower(): # 소문자\n",
    "        lower += 1\n",
    "    elif s.isdigit(): # 숫자\n",
    "        digit += 1\n",
    "\n",
    "print(upper, lower, digit)"
   ]
  },
  {
   "cell_type": "markdown",
   "id": "a500648a-3f13-4322-8306-90ad38c7b44e",
   "metadata": {},
   "source": [
    "### 문제 2  \n",
    "> 별(\"*\")로 밑변과 높이가 N인, 오른쪽 정렬된 직각삼각형을 출력해 주세요."
   ]
  },
  {
   "cell_type": "markdown",
   "id": "674d14a8-8962-452f-9865-480d09619c6e",
   "metadata": {},
   "source": [
    "* 입력 설명  \n",
    "표준 입력으로 자연수 N이 주어집니다.  \n",
    "N은 1 이상 100 이하입니다.  "
   ]
  },
  {
   "cell_type": "code",
   "execution_count": null,
   "id": "96c06da0-123d-4f19-8255-b564cc132758",
   "metadata": {},
   "outputs": [],
   "source": [
    "# 입력\n",
    "# 5\n",
    "\n",
    "# 출력\n",
    "#     *\n",
    "#    **\n",
    "#   ***\n",
    "#  ****\n",
    "# *****"
   ]
  },
  {
   "cell_type": "code",
   "execution_count": 3,
   "id": "a08e74c9-2560-40ca-ae96-a1a5c7c0e264",
   "metadata": {},
   "outputs": [
    {
     "name": "stdin",
     "output_type": "stream",
     "text": [
      "숫자를 입력해 주세요:  5\n"
     ]
    },
    {
     "name": "stdout",
     "output_type": "stream",
     "text": [
      "    *\n",
      "   **\n",
      "  ***\n",
      " ****\n",
      "*****\n"
     ]
    }
   ],
   "source": [
    "# 이곳에 코드를 작성하세요.\n",
    "N = int(input(\"숫자를 입력해 주세요: \"))\n",
    "\n",
    "for i in range(N):\n",
    "    print(' ' * (N-i-1) + '*' * (i+1))"
   ]
  },
  {
   "cell_type": "markdown",
   "id": "5cc66272-6a4d-455d-9c9f-bba979f15ef2",
   "metadata": {},
   "source": [
    "### 문제 3  \n",
    "> 국어, 영어, 수학, 컴퓨터 점수를 입력받아서  \n",
    "> 총점과 평균을 구하는 프로그램을 작성하세요.  \n",
    "> (단, 평균은 소수점 첫째자리까지 출력하세요,)  "
   ]
  },
  {
   "cell_type": "markdown",
   "id": "aeb8f054-561a-426a-b36d-b89bb75bca20",
   "metadata": {},
   "source": [
    "* 입력 설명  \n",
    "정수 4개가 차례대로 주어집니다.  \n",
    "\n",
    "* 출력 설명  \n",
    "총점과 평균을 출력합니다.  \n",
    "  \n",
    "* 입출력 예  \n",
    "  입력  \n",
    "  70 85 61 99  \n",
    "  \n",
    "  출력  \n",
    "  sum = 315  \n",
    "  avg = 78.8  "
   ]
  },
  {
   "cell_type": "code",
   "execution_count": 10,
   "id": "70b8c2ee-f040-4f96-b76f-650a5753ae63",
   "metadata": {},
   "outputs": [
    {
     "name": "stdin",
     "output_type": "stream",
     "text": [
      " 70 85 61 99\n"
     ]
    },
    {
     "name": "stdout",
     "output_type": "stream",
     "text": [
      "sum =  315\n",
      "avg =  78.8\n"
     ]
    }
   ],
   "source": [
    "# 주어진 코드를 변경해서 모든 입력에 대해 올바르게 동작하도록 수정하세요.\n",
    "\n",
    "score = list(map(int, input().split()))\n",
    "\n",
    "print(\"sum = \", sum(score))\n",
    "print(\"avg = \", round(sum(score) / len(score), 1))"
   ]
  },
  {
   "cell_type": "markdown",
   "id": "e259d0e0-6cd9-405a-8e15-3d4f2214cc66",
   "metadata": {},
   "source": [
    "### 문제 4  \n",
    "> 2개의 정수를 입력 받아서  \n",
    "> 두 수가 짝수이면 두 수의 합을, 그렇지 않으면 짝수에서 홀수를 뺀 값을 출력하세요.  "
   ]
  },
  {
   "cell_type": "markdown",
   "id": "33423824-6a6c-4b66-9a4a-df3b67a5ad20",
   "metadata": {},
   "source": [
    "* 입력 설명  \n",
    "표준 입력으로 수 두 개가 주어집니다.  \n",
    "입력되는 수는 1이상 1,000 이하인 정수입니다.  \n",
    "\n",
    "* 출력 설명  \n",
    "두 수가 짝수이면 두 수의 합을, 그렇지 않으면 짝수에서 홀수를 뺀 값을 출력하세요.  \n",
    "\n",
    "* 입출력 예  \n",
    "  입력  \n",
    "  10 6  \n",
    "\n",
    "  출력  \n",
    "  16  "
   ]
  },
  {
   "cell_type": "code",
   "execution_count": 11,
   "id": "c17da9de-1517-498d-b08c-1f7c30a38b4d",
   "metadata": {},
   "outputs": [
    {
     "name": "stdin",
     "output_type": "stream",
     "text": [
      " 10 6\n"
     ]
    },
    {
     "name": "stdout",
     "output_type": "stream",
     "text": [
      "16\n"
     ]
    }
   ],
   "source": [
    "# 주어진 코드를 변경해서 모든 입력에 대해 올바르게 동작하도록 수정하세요.\n",
    "\n",
    "a, b = map(int, input(\"\").split())\n",
    "\n",
    "if a % 2 == 0 and b % 2 == 0 : # 두 수가 짝수이면\n",
    "    print(a+b)\n",
    "else:\n",
    "    if a % 2 == 0 and b % 2 != 0:\n",
    "        print(a-b)\n",
    "    else:\n",
    "        print(b-a)"
   ]
  },
  {
   "cell_type": "markdown",
   "id": "203495df-afda-461c-882c-c7718742ae7b",
   "metadata": {},
   "source": [
    "### 문제 5  \n",
    "> 다음은 1 ~ n 사이에서 3의 배수와 7의 배수를 출력하는 프로그램입니다.  \n",
    "> 빈칸을 채워 전체 코드를 완성해주세요.  "
   ]
  },
  {
   "cell_type": "markdown",
   "id": "59f53851-6882-461f-aa47-591bff26508f",
   "metadata": {},
   "source": [
    "* 입력 설명  \n",
    "표준 입력으로 자연수 n이 주어집니다.  \n",
    "\n",
    "* 출력 설명  \n",
    "1 ~ n 사이에서 3의 배수와 7의 배수를 출력하는 프로그램을 빈칸을 채워 코드를 완성해주세요.  \n",
    "\n",
    "* 입출력 예  \n",
    "입력  \n",
    "30  \n",
    "출력  \n",
    "3 6 7 9 12 14 15 18 21 24 27 28 30  "
   ]
  },
  {
   "cell_type": "code",
   "execution_count": 12,
   "id": "1e5185be-8155-4423-a2e4-4785266aabba",
   "metadata": {},
   "outputs": [
    {
     "name": "stdin",
     "output_type": "stream",
     "text": [
      " 30\n"
     ]
    },
    {
     "name": "stdout",
     "output_type": "stream",
     "text": [
      "3 6 7 9 12 14 15 18 21 24 27 28 30 "
     ]
    }
   ],
   "source": [
    "# 주어진 코드를 변경해서 모든 입력에 대해 올바르게 동작하도록 수정하세요.\n",
    "\n",
    "n = int(input(\"\"))\n",
    "\n",
    "a = 1;\n",
    "\n",
    "while a <= n :\n",
    "    if a % 3 == 0 or a % 7 == 0:\n",
    "        print(a, end=' ')\n",
    "    a += 1"
   ]
  },
  {
   "cell_type": "markdown",
   "id": "53ecfe87-7406-4196-85df-8998cd7df1ec",
   "metadata": {},
   "source": [
    "### 문제 6  \n",
    "> 입력 받은 정수의 구구단을 출력하는 프로그램을 완성해주세요.  "
   ]
  },
  {
   "cell_type": "markdown",
   "id": "4b63c2c0-3f78-482d-9e66-26a6eabf479a",
   "metadata": {},
   "source": [
    "* 입력 설명  \n",
    "표준 입력으로 자연수 n과 m이 주어집니다.  \n",
    "n, m은 1 이상 9 이하입니다.  \n",
    "\n",
    "* 출력 설명  \n",
    "n단을 출력의 예와 같이 출력하세요.  \n",
    "\n",
    "* 입출력 예  \n",
    "  입력  \n",
    "  3  \n",
    "\n",
    "  출력  \n",
    "  3 x 1 = 3  \n",
    "  3 x 2 = 6  \n",
    "  3 x 3 = 9  \n",
    "  3 x 4 = 12  \n",
    "  3 x 5 = 15  \n",
    "  3 x 6 = 18  \n",
    "  3 x 7 = 21  \n",
    "  3 x 8 = 24  \n",
    "  3 x 9 = 27 "
   ]
  },
  {
   "cell_type": "code",
   "execution_count": 13,
   "id": "f9ff2db7-b989-4293-ae8c-6e9ef26a3450",
   "metadata": {},
   "outputs": [
    {
     "name": "stdin",
     "output_type": "stream",
     "text": [
      " 3\n"
     ]
    },
    {
     "name": "stdout",
     "output_type": "stream",
     "text": [
      "3 X 1 = 3\n",
      "3 X 2 = 6\n",
      "3 X 3 = 9\n",
      "3 X 4 = 12\n",
      "3 X 5 = 15\n",
      "3 X 6 = 18\n",
      "3 X 7 = 21\n",
      "3 X 8 = 24\n",
      "3 X 9 = 27\n"
     ]
    }
   ],
   "source": [
    "# 주어진 코드를 변경해서 모든 입력에 대해 올바르게 동작하도록 수정하세요.\n",
    "\n",
    "n = int(input(\"\"))\n",
    "\n",
    "a = 1;\n",
    "\n",
    "while a <= 9:\n",
    "    print(n, \"X\", a, \"=\", n*a)\n",
    "    a += 1"
   ]
  },
  {
   "cell_type": "markdown",
   "id": "284d8fb2-4872-4682-ae0e-41795c904546",
   "metadata": {},
   "source": [
    "### 문제 7  \n",
    "> 정수 n과 m을 입력받아  \n",
    "> n x m 크기의 정수 사각형을 출력하는 프로그램을 완성해 주세요.  "
   ]
  },
  {
   "cell_type": "markdown",
   "id": "6bb78bc5-87aa-4f46-b65b-30486a0f5b72",
   "metadata": {},
   "source": [
    "* 입력 설명  \n",
    "표준 입력으로 자연수 n과 m이 주어집니다.  \n",
    "* n은 2 이상 50 이하입니다.  \n",
    "\n",
    "* 출력 설명 n x m 크기의 정수 사각형을 출력하세요.  \n",
    "\n",
    "* 입출력 예  \n",
    "  입력  \n",
    "  4 6\n",
    "\n",
    "  출력  \n",
    "  1 2 3 4 5 6  \n",
    "  2 3 4 5 6 7  \n",
    "  3 4 5 6 7 8  \n",
    "  4 5 6 7 8 9  "
   ]
  },
  {
   "cell_type": "code",
   "execution_count": 14,
   "id": "0d1feb67-b6d3-450d-914b-d8b8fa081cbd",
   "metadata": {},
   "outputs": [
    {
     "name": "stdin",
     "output_type": "stream",
     "text": [
      " 4 6\n"
     ]
    },
    {
     "name": "stdout",
     "output_type": "stream",
     "text": [
      "1 2 3 4 5 6 \n",
      "2 3 4 5 6 7 \n",
      "3 4 5 6 7 8 \n",
      "4 5 6 7 8 9 \n"
     ]
    }
   ],
   "source": [
    "# 주어진 코드를 변경해서 모든 입력에 대해 올바르게 동작하도록 수정하세요.\n",
    "\n",
    "n, m = map(int,input(\"\").split())\n",
    "\n",
    "\n",
    "for i in range(n):\n",
    "    for j in range(i+1, m+i+1):\n",
    "        print(j , end=' ')\n",
    "    print()"
   ]
  },
  {
   "cell_type": "markdown",
   "id": "c25db523-d9e2-4a8c-893b-0c91da479ce9",
   "metadata": {},
   "source": [
    "### 문제 8  \n",
    "> 정수 배열을 입력받아, 마지막 원소가 그 전 원소보다 크면 마지막 원소에서 그 전 원소를 뺀 값을 추가하고, 그렇지 않으면 마지막 원소를 두 배 한 값을 정수 배열에 추가하여 출력하는 프로그램을 작성해 주세요."
   ]
  },
  {
   "cell_type": "markdown",
   "id": "d2343f8d-4a37-4b3a-bd79-e7a082f18122",
   "metadata": {},
   "source": [
    "* 입력 설명  \n",
    "표준 입력으로 정수 배열 한 개를 입력받습니다.  \n",
    "\n",
    "* 출력 설명  \n",
    "마지막 원소가 그 전 원소보다 크면 마지막 원소에서 그 전 원소를 뺀 값을 추가하고,  \n",
    "그렇지 않으면 마지막 원소를 두 배 한 값을 정수 배열에 추가하여 출력합니다.  \n",
    "\n",
    "* 입출력 예   \n",
    "입력  \n",
    "2 1 6  \n",
    "출력  \n",
    "[2, 1, 6, 5]"
   ]
  },
  {
   "cell_type": "code",
   "execution_count": 15,
   "id": "23455bce-fac5-4e5c-8cd0-1376ba79eb90",
   "metadata": {},
   "outputs": [
    {
     "name": "stdin",
     "output_type": "stream",
     "text": [
      " 2 1 6\n"
     ]
    },
    {
     "name": "stdout",
     "output_type": "stream",
     "text": [
      "[2, 1, 6, 5]\n"
     ]
    }
   ],
   "source": [
    "# 주어진 코드를 변경해서 모든 입력에 대해 올바르게 동작하도록 수정하세요.\n",
    "\n",
    "arr = list(map(int, input().split()))\n",
    "\n",
    "if int(arr[-1]) > int(arr[-2]):\n",
    "    arr.append(int(arr[-1]) - int(arr[-2]))\n",
    "else:\n",
    "    arr.append(2*arr[-1])\n",
    "\n",
    "print(arr)"
   ]
  },
  {
   "cell_type": "markdown",
   "id": "499d93d5-9877-456c-bf1f-edbff30082c6",
   "metadata": {},
   "source": [
    "### 문제 9  \n",
    "> 표준 입력으로 정수 5개를 입력받아  \n",
    "> 그 중 10 이상 20 이하의 수를 배열 형식으로 출력하는 프로그램을 작성해 주세요.  "
   ]
  },
  {
   "cell_type": "markdown",
   "id": "111a5102-1323-4a5c-9b4a-ae54a45d897f",
   "metadata": {},
   "source": [
    "* 입력 설명  \n",
    "표준 입력으로 정수 5개가 차례대로 주어집니다.  \n",
    "\n",
    "* 출력 설명  \n",
    "입력받은 5개의 정수 중, 10 이상 20 이하의 수를 배열 형식으로 출력해 주세요.  \n",
    "\n",
    "* 입출력 예  \n",
    "  입력  \n",
    "  1  \n",
    "  12  \n",
    "  43  \n",
    "  5  \n",
    "  16  \n",
    "\n",
    "  출력  \n",
    "  [12, 16]  "
   ]
  },
  {
   "cell_type": "code",
   "execution_count": 17,
   "id": "a0bf2066-748e-4e54-aa40-87aa30fcdf9b",
   "metadata": {},
   "outputs": [
    {
     "name": "stdin",
     "output_type": "stream",
     "text": [
      " 1\n",
      " 12\n",
      " 43\n",
      " 5\n",
      " 16\n"
     ]
    },
    {
     "name": "stdout",
     "output_type": "stream",
     "text": [
      "[12, 16]\n"
     ]
    }
   ],
   "source": [
    "# 이곳에 코드를 작성하세요.\n",
    "\n",
    "answer = []\n",
    "\n",
    "for _ in range(5):\n",
    "    n = int(input())\n",
    "    if 10 <= n <= 20:\n",
    "        answer.append(n)\n",
    "\n",
    "print(answer)"
   ]
  },
  {
   "cell_type": "markdown",
   "id": "b1f02cc2-c141-47a6-8d74-0876e1d50a22",
   "metadata": {},
   "source": [
    "### 문제 10  \n",
    "> 표준 입력으로 정수 5개를 입력받아  \n",
    "> 그 중 최대값과 최소값을 출력하는 프로그램을 작성하세요.  "
   ]
  },
  {
   "cell_type": "markdown",
   "id": "cc4209f9-38e3-4c1d-9539-d62f5f66f9c1",
   "metadata": {},
   "source": [
    "* 입력 설명  \n",
    "표준 입력으로 정수 5개를 입력받습니다.  \n",
    "  \n",
    "* 출력 설명  \n",
    "정수 5개 중 최대값과 최소값을 배열 형식으로 출력해 주세요.  \n",
    "  \n",
    "* 입출력 예  \n",
    "입력  \n",
    "15 4 36 8 25  \n",
    "출력  \n",
    "[36, 4]  "
   ]
  },
  {
   "cell_type": "code",
   "execution_count": 21,
   "id": "1c171bf6-ed48-4f72-851d-1325a3050dea",
   "metadata": {},
   "outputs": [
    {
     "name": "stdin",
     "output_type": "stream",
     "text": [
      " 15 4 36 8 25\n"
     ]
    },
    {
     "name": "stdout",
     "output_type": "stream",
     "text": [
      "[36, 4]\n"
     ]
    }
   ],
   "source": [
    "# 이곳에 코드를 작성하세요.\n",
    "\n",
    "nums = list(map(int, input().split()))\n",
    "\n",
    "print([max(nums), min(nums)])"
   ]
  },
  {
   "cell_type": "code",
   "execution_count": null,
   "id": "6a6127a3-cf36-4df3-803f-69c5e48ca1ec",
   "metadata": {},
   "outputs": [],
   "source": []
  }
 ],
 "metadata": {
  "kernelspec": {
   "display_name": "Python 3 (ipykernel)",
   "language": "python",
   "name": "python3"
  },
  "language_info": {
   "codemirror_mode": {
    "name": "ipython",
    "version": 3
   },
   "file_extension": ".py",
   "mimetype": "text/x-python",
   "name": "python",
   "nbconvert_exporter": "python",
   "pygments_lexer": "ipython3",
   "version": "3.12.4"
  }
 },
 "nbformat": 4,
 "nbformat_minor": 5
}
