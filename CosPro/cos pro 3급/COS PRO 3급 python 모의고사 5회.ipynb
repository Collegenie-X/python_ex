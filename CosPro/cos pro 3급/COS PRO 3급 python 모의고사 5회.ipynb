{
 "cells": [
  {
   "cell_type": "markdown",
   "id": "42b8ab01-22ee-4bfe-83ff-377e3c511581",
   "metadata": {},
   "source": [
    "# COS PRO 3급 모의고사(5회)"
   ]
  },
  {
   "cell_type": "markdown",
   "id": "78713e89-9f98-49d3-9267-7d48f9cf0a82",
   "metadata": {},
   "source": [
    "---"
   ]
  },
  {
   "cell_type": "markdown",
   "id": "827a6338-8fe0-4c80-8a5f-f97bac7dca55",
   "metadata": {},
   "source": [
    "## <모의고사 5회>"
   ]
  },
  {
   "cell_type": "markdown",
   "id": "dc5d2529-1c53-4139-b1d7-abc02cd0c2ad",
   "metadata": {},
   "source": [
    "### 문제 1  \n",
    "> 이름과 나이를 입력받아 주어진 형식에 맞춰 출력해 주세요."
   ]
  },
  {
   "cell_type": "markdown",
   "id": "e2871155-0e97-4c84-9cb8-fc394d3ef0b2",
   "metadata": {},
   "source": [
    "* 입력 설명  \n",
    "첫 번째 줄에는 이름이, 두 번째 줄에는 나이가 입력됩니다.  \n",
    "\n",
    "* 출력 설명  \n",
    "다음 형식에 맞춰 출력해 주세요.  \n",
    "My name is (이름).  \n",
    "I'm (나이) years old.  \n",
    "\n",
    "* 입출력 예  \n",
    "\n",
    "입력  \n",
    "Hong Gil Dong  \n",
    "16  \n",
    "출력  \n",
    "My name is Hong Gil Dong.  \n",
    "I'm 16 years old.  "
   ]
  },
  {
   "cell_type": "code",
   "execution_count": 29,
   "id": "a90dbf8a-0b63-41f7-8261-c91ac60ef4ee",
   "metadata": {},
   "outputs": [
    {
     "name": "stdin",
     "output_type": "stream",
     "text": [
      " Hong Gil Dong\n",
      " 16\n"
     ]
    },
    {
     "name": "stdout",
     "output_type": "stream",
     "text": [
      "My name is Hong Gil Dong\n",
      "I'm 16 years old\n"
     ]
    }
   ],
   "source": [
    "# 이곳에 코드를 작성하세요.\n",
    "name = input()\n",
    "age = input()\n",
    "\n",
    "print(f\"My name is {name}\") #문자열 포맷팅\n",
    "print(f\"I'm {age} years old\")"
   ]
  },
  {
   "cell_type": "markdown",
   "id": "a500648a-3f13-4322-8306-90ad38c7b44e",
   "metadata": {},
   "source": [
    "### 문제 2  \n",
    "> 두 개의 숫자를 입력받아 예시와 같이 연산을 수행하세요."
   ]
  },
  {
   "cell_type": "markdown",
   "id": "eb700331-b2d6-421c-bca8-dab62f7e444c",
   "metadata": {},
   "source": [
    "* 입력 설명  \n",
    "표준 입력으로 정수 두 개가 주어집니다.  \n",
    "\n",
    "* 출력 설명  \n",
    "예시와 같이 더하기, 빼기, 곱하기, 나누기, 나머지 연산을 수행하세요.  \n",
    "\n",
    "* 입출력 예  \n",
    "입력  \n",
    "10  \n",
    "4  \n",
    "출력  \n",
    "10 + 4 = 14  \n",
    "10 - 4 =  6  \n",
    "10 x 4 =  40  \n",
    "10 / 4 =  2  \n",
    "10 % 4 =  2   "
   ]
  },
  {
   "cell_type": "code",
   "execution_count": 32,
   "id": "a08e74c9-2560-40ca-ae96-a1a5c7c0e264",
   "metadata": {},
   "outputs": [
    {
     "name": "stdin",
     "output_type": "stream",
     "text": [
      " 10\n",
      " 4\n"
     ]
    },
    {
     "name": "stdout",
     "output_type": "stream",
     "text": [
      "10 + 4 = 14\n",
      "10 - 4 = 6\n",
      "10 x 4 = 40\n",
      "10 / 4 = 2\n",
      "10 % 4 = 2\n"
     ]
    }
   ],
   "source": [
    "# 이곳에 코드를 작성하세요.\n",
    "a = int(input())\n",
    "b = int(input())\n",
    "\n",
    "print(f\"{a} + {b} = {a+b}\")\n",
    "print(f\"{a} - {b} = {a-b}\")\n",
    "print(f\"{a} x {b} = {a*b}\")\n",
    "print(f\"{a} / {b} = {int(a/b)}\")\n",
    "print(f\"{a} % {b} = {a%b}\") # 나머지를 구하는 수식"
   ]
  },
  {
   "cell_type": "markdown",
   "id": "e55357c0-b0fd-48a8-89a1-ee92181b0275",
   "metadata": {},
   "source": [
    "### 문제 3  \n",
    "> 정수 N을 입력받아 정수 삼각형을 만들어 주세요.  "
   ]
  },
  {
   "cell_type": "markdown",
   "id": "aeb8f054-561a-426a-b36d-b89bb75bca20",
   "metadata": {},
   "source": [
    "* 입력 설명  \n",
    "표준 입력으로 자연수 N이 주어집니다.  \n",
    "N은 1 이상 100 이하입니다.  \n",
    "\n",
    "* 출력 설명  \n",
    "크기가 N인 정수 삼각형을 출력해 주세요.  "
   ]
  },
  {
   "cell_type": "code",
   "execution_count": null,
   "id": "70b8c2ee-f040-4f96-b76f-650a5753ae63",
   "metadata": {},
   "outputs": [],
   "source": [
    "# 입출력 예\n",
    "# 입력\n",
    "# 5\n",
    "\n",
    "#출력\n",
    "1 2 3 4 5\n",
    "1 2 3 4\n",
    "1 2 3\n",
    "1 2\n",
    "1"
   ]
  },
  {
   "cell_type": "code",
   "execution_count": 37,
   "id": "66626215-3f2c-45b3-9d5d-23d8e566964d",
   "metadata": {},
   "outputs": [
    {
     "name": "stdin",
     "output_type": "stream",
     "text": [
      " 5\n"
     ]
    },
    {
     "name": "stdout",
     "output_type": "stream",
     "text": [
      "1 2 3 4 5 \n",
      "1 2 3 4 \n",
      "1 2 3 \n",
      "1 2 \n",
      "1 \n"
     ]
    }
   ],
   "source": [
    "# 이곳에 코드를 작성하세요.\n",
    "N = int(input())\n",
    "\n",
    "for i in range(N):\n",
    "    for j in range(N-i):\n",
    "        print(j+1, end=\" \")\n",
    "    print()\n",
    "\n"
   ]
  },
  {
   "cell_type": "markdown",
   "id": "e259d0e0-6cd9-405a-8e15-3d4f2214cc66",
   "metadata": {},
   "source": [
    "### 문제 4  \n",
    "> 정수 3개를 입력받아 가장 큰 수와 가장 작은 수를 출력하는 프로그램을 작성하세요."
   ]
  },
  {
   "cell_type": "markdown",
   "id": "9fd58a49-ce9c-4eb8-a8fb-cb5fef3b3783",
   "metadata": {},
   "source": [
    "* 입력 설명  \n",
    "정수 3개가 차례대로 주어집니다.\n",
    "\n",
    "* 출력 설명  \n",
    "가장 큰 수와 가장 작은 수를 출력하세요.\n",
    "\n",
    "* 입출력 예  \n",
    "입력  \n",
    "5 9 12  \n",
    "출력  \n",
    "12 5  "
   ]
  },
  {
   "cell_type": "code",
   "execution_count": 40,
   "id": "c17da9de-1517-498d-b08c-1f7c30a38b4d",
   "metadata": {},
   "outputs": [
    {
     "name": "stdin",
     "output_type": "stream",
     "text": [
      " 5 9 12\n"
     ]
    },
    {
     "name": "stdout",
     "output_type": "stream",
     "text": [
      "12 5\n"
     ]
    }
   ],
   "source": [
    "# 이곳에 코드를 작성하세요.\n",
    "# a, b, c = map(int, input().split())\n",
    "nums = list(map(int, input().split()))\n",
    "\n",
    "print(max(nums), min(nums))"
   ]
  },
  {
   "cell_type": "markdown",
   "id": "203495df-afda-461c-882c-c7718742ae7b",
   "metadata": {},
   "source": [
    "### 문제 5  \n",
    "> 1개의 정수를 입력받아 약수를 출력하는 프로그램을 작성하세요. "
   ]
  },
  {
   "cell_type": "markdown",
   "id": "92b7bc20-54ac-43ce-b17b-eb84420e48c5",
   "metadata": {},
   "source": [
    "* 입력 설명  \n",
    "표준 입력으로 숫자 한 개가 주어집니다.  \n",
    "입력되는 수는 1 이상 1,000 이하인 정수입니다.  \n",
    "\n",
    "* 출력 설명  \n",
    "약수를 차례대로 출력해주세요.  \n",
    "\n",
    "* 입출력 예  \n",
    "입력  \n",
    "16  \n",
    "출력  \n",
    "1 2 4 8 16  "
   ]
  },
  {
   "cell_type": "code",
   "execution_count": 42,
   "id": "1e5185be-8155-4423-a2e4-4785266aabba",
   "metadata": {},
   "outputs": [
    {
     "name": "stdin",
     "output_type": "stream",
     "text": [
      " 16\n"
     ]
    },
    {
     "name": "stdout",
     "output_type": "stream",
     "text": [
      "1 2 4 8 16\n"
     ]
    }
   ],
   "source": [
    "# 이곳에 코드를 작성하세요.\n",
    "N = int(input())\n",
    "answer = []\n",
    "\n",
    "for i in range(1, N+1):\n",
    "    if N % i == 0:\n",
    "        answer.append(i)\n",
    "\n",
    "# for i in range(len(answer)):\n",
    "#     print(i, end=\" \")\n",
    "\n",
    "print(*answer) #애스터리스크 리스트 앞에 붙일 경우 공백을 사이로 둔 문자열 출력\n",
    "    "
   ]
  },
  {
   "cell_type": "markdown",
   "id": "605ae036-29fa-4dcf-b8a2-4be94338eadb",
   "metadata": {},
   "source": [
    "### 문제 6  \n",
    "> 5개의 수를 입력 받아 첫 줄에는 짝수를, 둘째줄에는 짝수의 합을,  \n",
    "> 셋째 줄에는 짝수의 평균을 출력하는 프로그램을 작성하세요.  \n",
    "> 평균은 소수 둘째자리까지 출력하세요.(셋째자리에서 반올림)"
   ]
  },
  {
   "cell_type": "markdown",
   "id": "d3b540d4-3bcc-4476-9aea-fe729fbb1799",
   "metadata": {},
   "source": [
    "* 입력 설명  \n",
    "표준 입력으로 자연수 5개가 차례대로 주어집니다.  \n",
    "\n",
    "* 출력 설명  \n",
    "짝수, 짝수의 합, 짝수의 평균을 순서대로 출력해 주세요.  \n",
    "\n",
    "* 입출력 예  \n",
    "입력  \n",
    "2  \n",
    "8  \n",
    "10  \n",
    "3  \n",
    "2  \n",
    "출력  \n",
    "2 8 10 2  \n",
    "22  \n",
    "5.5  "
   ]
  },
  {
   "cell_type": "code",
   "execution_count": 50,
   "id": "f9ff2db7-b989-4293-ae8c-6e9ef26a3450",
   "metadata": {},
   "outputs": [
    {
     "name": "stdin",
     "output_type": "stream",
     "text": [
      " 2\n",
      " 8\n",
      " 10\n",
      " 3\n",
      " 2\n"
     ]
    },
    {
     "name": "stdout",
     "output_type": "stream",
     "text": [
      "[2, 8, 10, 2]\n",
      "22\n",
      "5.00\n"
     ]
    }
   ],
   "source": [
    "# 주어진 코드를 변경해서 모든 입력에 대해 올바르게 동작하도록 수정하세요.\n",
    "\n",
    "even = []\n",
    "# 5개의 수를 입력받는 코드\n",
    "for _ in range(5):\n",
    "    a = int(input())\n",
    "    if a % 2 == 0:\n",
    "        even.append(a)\n",
    "\n",
    "print(even)\n",
    "print(sum(even))\n",
    "print(format(int(sum(even)/len(even)), \".2f\"))\n"
   ]
  },
  {
   "cell_type": "markdown",
   "id": "284d8fb2-4872-4682-ae0e-41795c904546",
   "metadata": {},
   "source": [
    "### 문제 7  \n",
    "> 정수 n과 길이가 n인 배열 arr을 입력 받아  \n",
    "> 10이상 30이하의 수만 출력하는 프로그램을 작성하세요."
   ]
  },
  {
   "cell_type": "markdown",
   "id": "46c8ed54-92f8-4193-ba3c-c2230047137e",
   "metadata": {},
   "source": [
    "* 입력 설명  \n",
    "표준 입력으로 자연수 n을 입력받고, 길이가 n 배열 arr를 입력받습니다.  \n",
    "n은 2 이상 50 이하입니다.  \n",
    "\n",
    "* 출력 설명  \n",
    "10 이상 30 이하의 수만 출력하세요.  \n",
    "\n",
    "* 입출력 예  \n",
    "입력  \n",
    "5  \n",
    "12  \n",
    "6  \n",
    "25  \n",
    "33  \n",
    "7  \n",
    "출력  \n",
    "12  \n",
    "25  "
   ]
  },
  {
   "cell_type": "code",
   "execution_count": 52,
   "id": "0d1feb67-b6d3-450d-914b-d8b8fa081cbd",
   "metadata": {},
   "outputs": [
    {
     "name": "stdin",
     "output_type": "stream",
     "text": [
      " 5\n",
      " 12\n",
      " 6\n",
      " 25\n",
      " 33\n",
      " 7\n"
     ]
    },
    {
     "name": "stdout",
     "output_type": "stream",
     "text": [
      "12\n",
      "25\n"
     ]
    }
   ],
   "source": [
    "# 주어진 코드를 변경해서 모든 입력에 대해 올바르게 동작하도록 수정하세요.\n",
    "\n",
    "n = int(input())\n",
    "\n",
    "arr = [] # 10이상 30이하의 수\n",
    "\n",
    "for i in range(n):\n",
    "    b = int(input())\n",
    "    arr.append(b)\n",
    "\n",
    "for a in arr:\n",
    "    if 10 <= a <= 30:\n",
    "        print(a)"
   ]
  },
  {
   "cell_type": "markdown",
   "id": "c25db523-d9e2-4a8c-893b-0c91da479ce9",
   "metadata": {},
   "source": [
    "### 문제 8  \n",
    "> 문자열을 입력 받아 홀수번째 문자만 출력하는 프로그램을 작성하세요."
   ]
  },
  {
   "cell_type": "markdown",
   "id": "4b84b4f3-1a4d-4159-86b4-46ea53dcc8e9",
   "metadata": {},
   "source": [
    "* 입력 설명  \n",
    "문자열이 주어집니다.  \n",
    "\n",
    "* 출력 설명  \n",
    "홀수번째 입력 받은 문자만 차례대로 출력하세요.  \n",
    "\n",
    "* 입출력 예  \n",
    "  입력  \n",
    "  ABCDEFGHIJK  \n",
    "  출력  \n",
    "  ACEGIK  "
   ]
  },
  {
   "cell_type": "code",
   "execution_count": 55,
   "id": "23455bce-fac5-4e5c-8cd0-1376ba79eb90",
   "metadata": {},
   "outputs": [
    {
     "name": "stdin",
     "output_type": "stream",
     "text": [
      " 5\n"
     ]
    },
    {
     "name": "stdout",
     "output_type": "stream",
     "text": [
      "5"
     ]
    }
   ],
   "source": [
    "# 이곳에 코드를 작성하세요.\n",
    "string = input()\n",
    "\n",
    "for i in range(0, len(string), 2):\n",
    "    print(string[i], end=\"\")"
   ]
  },
  {
   "cell_type": "markdown",
   "id": "7ab214d0-212f-4f1b-92cb-bdfba2420547",
   "metadata": {},
   "source": [
    "### 문제 9  \n",
    "> 표준 입력으로 자연수 n과 배열 arr를 입력받아  \n",
    "> 첫 번째 줄에는 n개의 수 중 짝수이면서 5의 배수인 수를  출력하세요.  \n",
    "> 두 번째 줄에는 짝수이면서 5의 배수인 수 중 최대값과 최소값을 출력하세요."
   ]
  },
  {
   "cell_type": "markdown",
   "id": "cd61a07c-f23f-4a9d-898b-65ad126af1b0",
   "metadata": {},
   "source": [
    "* 입력 설명  \n",
    "표준 입력으로 자연수 n과 배열 arr가 주어집니다.  \n",
    "\n",
    "* 출력 설명  \n",
    "첫 번째 줄에는 n개의 수 중 짝수이면서 5의 배수인 수를 출력하세요.  \n",
    "두 번째 줄에는 짝수이면서 5의 배수인 수 중 최대값과 최소값을 출력하세요.  \n",
    "\n",
    "* 입출력 예  \n",
    "입력  \n",
    "8  \n",
    "5 10 100 7 20  8 4 16  \n",
    "출력  \n",
    "10 100 20  \n",
    "100 10  "
   ]
  },
  {
   "cell_type": "code",
   "execution_count": 56,
   "id": "a0bf2066-748e-4e54-aa40-87aa30fcdf9b",
   "metadata": {},
   "outputs": [
    {
     "name": "stdin",
     "output_type": "stream",
     "text": [
      " 8\n",
      " 5 10 100 7 20 8 4 16\n"
     ]
    },
    {
     "name": "stdout",
     "output_type": "stream",
     "text": [
      "10 100 20\n",
      "100 10\n"
     ]
    }
   ],
   "source": [
    "# 주어진 코드를 변경해서 모든 입력에 대해 올바르게 동작하도록 수정하세요.\n",
    "\n",
    "n = int(input())\n",
    "\n",
    "arr = []\n",
    "arr = list(map(int, input().split()))\n",
    "\n",
    "arr2 = [] # 첫번째 조건을 만족하는 수\n",
    "for a in arr:\n",
    "    if a % 2 == 0 and a % 5 == 0:\n",
    "        arr2.append(a)\n",
    "\n",
    "print(*arr2)\n",
    "print(max(arr2), min(arr2))"
   ]
  },
  {
   "cell_type": "markdown",
   "id": "b1f02cc2-c141-47a6-8d74-0876e1d50a22",
   "metadata": {},
   "source": [
    "### 문제 10  \n",
    "> 정수 배열 arr를 입력받아 가장 많이 나오는 정수를 출력해 주세요.  \n",
    "> 가장 많이 나오는 정수가 여러 개면 -1을 출력해 주세요.  "
   ]
  },
  {
   "cell_type": "markdown",
   "id": "e3b80fd0-0429-4025-bf66-a826215479d2",
   "metadata": {},
   "source": [
    "* 입력 설명  \n",
    "정수 arr를 입력받습니다. \n",
    "  \n",
    "* 출력 설명  \n",
    "가장 많이 나오는 정수를 출력하고,  \n",
    "만약 가장 많이 나오는 정수가 여러 개면 -1을 출력합니다.\n",
    "  \n",
    "* 입출력 예  \n",
    "입력  \n",
    "1 2 3 3 3 4  \n",
    "출력  \n",
    "3  "
   ]
  },
  {
   "cell_type": "code",
   "execution_count": 59,
   "id": "1c171bf6-ed48-4f72-851d-1325a3050dea",
   "metadata": {},
   "outputs": [
    {
     "name": "stdin",
     "output_type": "stream",
     "text": [
      " 1 2 3 3 3 4\n"
     ]
    },
    {
     "name": "stdout",
     "output_type": "stream",
     "text": [
      "3\n"
     ]
    }
   ],
   "source": [
    "# 주어진 코드를 변경해서 모든 입력에 대해 올바르게 동작하도록 수정하세요.\n",
    "\n",
    "arr = list(map(int, input().split()))\n",
    "count = [0] * (max(arr)+1) # arr에서 최댓값을 찾아서 최대값 만큼의 빈 리스트를 만듭니다.\n",
    "\n",
    "for i in arr:\n",
    "    count[i] += 1\n",
    "\n",
    "print(max(count))\n",
    "\n",
    "# m = 0\n",
    "# for c in count:\n",
    "#     if c == @@@ (count):\n",
    "#         m = m + 1\n",
    "        \n",
    "# if m > 1:\n",
    "#     print(-1)\n",
    "# else:\n",
    "#     print(count.index(max(count)))"
   ]
  },
  {
   "cell_type": "code",
   "execution_count": null,
   "id": "bb5210d9-8f66-4389-a94e-11283d9eb31d",
   "metadata": {},
   "outputs": [],
   "source": []
  }
 ],
 "metadata": {
  "kernelspec": {
   "display_name": "Python 3 (ipykernel)",
   "language": "python",
   "name": "python3"
  },
  "language_info": {
   "codemirror_mode": {
    "name": "ipython",
    "version": 3
   },
   "file_extension": ".py",
   "mimetype": "text/x-python",
   "name": "python",
   "nbconvert_exporter": "python",
   "pygments_lexer": "ipython3",
   "version": "3.12.4"
  }
 },
 "nbformat": 4,
 "nbformat_minor": 5
}
