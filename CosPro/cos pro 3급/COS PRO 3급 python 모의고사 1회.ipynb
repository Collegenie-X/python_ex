{
 "cells": [
  {
   "cell_type": "markdown",
   "id": "42b8ab01-22ee-4bfe-83ff-377e3c511581",
   "metadata": {},
   "source": [
    "# COS PRO 3급 모의고사(1회)"
   ]
  },
  {
   "cell_type": "markdown",
   "id": "78713e89-9f98-49d3-9267-7d48f9cf0a82",
   "metadata": {},
   "source": [
    "---"
   ]
  },
  {
   "cell_type": "markdown",
   "id": "827a6338-8fe0-4c80-8a5f-f97bac7dca55",
   "metadata": {},
   "source": [
    "## <모의고사 1회>"
   ]
  },
  {
   "cell_type": "markdown",
   "id": "dc5d2529-1c53-4139-b1d7-abc02cd0c2ad",
   "metadata": {},
   "source": [
    "### 문제 1  \n",
    "> 두 숫자를 더한 값을 구하려 합니다.  \n",
    "> 표준 입력으로 숫자 두 개를 입력받아, 두 수의 값을 출력하도록 코드를 작성하려 합니다.  \n",
    "> 주어진 코드를 변경해서 모든 입력에 대해 올바르게 동작하도록 수정하세요.  "
   ]
  },
  {
   "cell_type": "markdown",
   "id": "e9dd0a4f-ec26-4560-b738-9f9fe786511b",
   "metadata": {},
   "source": [
    "* 입력 설명  \n",
    "표준 입력으로 숫자 두 개가 주어집니다. 두 수는 1 이상 100 이하인 자연수입니다.  \n",
    "\n",
    "* 출력 설명  \n",
    "두 수의 합을 출력해주세요.  \n",
    "\n",
    "* 입출력 예\n",
    "입력  \n",
    "5 3  \n",
    "출력  \n",
    "8  \n",
    "\n",
    "5와 3을 더하면 8이므로 8을 출력합니다.  "
   ]
  },
  {
   "cell_type": "code",
   "execution_count": 1,
   "id": "4e9af26a-5460-4488-b209-a669a7124499",
   "metadata": {},
   "outputs": [
    {
     "name": "stdin",
     "output_type": "stream",
     "text": [
      "숫자 두 개를 입력하세요:  1 2\n"
     ]
    },
    {
     "name": "stdout",
     "output_type": "stream",
     "text": [
      "3\n"
     ]
    }
   ],
   "source": [
    "# 주어진 코드를 변경해서 모든 입력에 대해 올바르게 동작하도록 수정하세요.\n",
    "\n",
    "num1, num2 = input(\"숫자 두 개를 입력하세요: \").split() # 1 2\n",
    "num1 = int(num1)\n",
    "num2 = int(num2)\n",
    "print( num1+num2 )"
   ]
  },
  {
   "cell_type": "markdown",
   "id": "a500648a-3f13-4322-8306-90ad38c7b44e",
   "metadata": {},
   "source": [
    "### 문제 2  \n",
    "> 두 문자열 중 더 긴 문자열을 찾고자 합니다.  \n",
    "> 표준 입력으로 문자열 두 개를 입력받아, 두 문자열 중 더 긴 문자열을 출력해 주세요.  "
   ]
  },
  {
   "cell_type": "markdown",
   "id": "64bb3986-22f9-4c2f-af68-d5ce36957a48",
   "metadata": {},
   "source": [
    "* 입력 설명  \n",
    "표준 입력으로 문자열 두 개가 주어집니다.  \n",
    "두 문자열의 길이는 1 이상 100 이하입니다.  \n",
    "두 문자열의 길이가 같은 경우는 없습니다.  \n",
    "\n",
    "* 출력 설명  \n",
    "두 문자열 중 더 긴 문자열을 출력해 주세요.  \n",
    "\n",
    "* 입출력 예  \n",
    "입력  \n",
    "\"HelloWorld\"  \n",
    "\"Programmingisfun\"  \n",
    "출력  \n",
    "\"Programmingisfun\"  \n",
    "  \n",
    "첫 번째 입력받은 문자열의 길이는 10, 두 번째 문자열의 길이는 16입니다.  \n",
    "두 번째 문자열의 길이가 더 길므로 \"Programmingisfun\"을 출력합니다.  "
   ]
  },
  {
   "cell_type": "code",
   "execution_count": 6,
   "id": "a08e74c9-2560-40ca-ae96-a1a5c7c0e264",
   "metadata": {},
   "outputs": [
    {
     "name": "stdin",
     "output_type": "stream",
     "text": [
      " HelloWorld\n",
      " Programmingisfun\n"
     ]
    },
    {
     "name": "stdout",
     "output_type": "stream",
     "text": [
      "Programmingisfun\n"
     ]
    }
   ],
   "source": [
    "# 이곳에 코드를 작성하세요.\n",
    "\n",
    "str1 = input()\n",
    "str2 = input()\n",
    "\n",
    "if len(str1) > len(str2): print(str1)\n",
    "else: print(str2)"
   ]
  },
  {
   "cell_type": "markdown",
   "id": "23a89887-4b1d-4693-bb29-ce0830bff95f",
   "metadata": {},
   "source": [
    "### 문제 3  \n",
    "> 별(\"*\")로 밑변과 높이가 N인 직각삼각형을 거꾸로 출력하려고 합니다.  \n",
    "> 표준 입력으로 자연수 N을 입력받아 밑변과 높이가 N인 직각삼각형을 거꾸로 출력해 주세요.  "
   ]
  },
  {
   "cell_type": "markdown",
   "id": "aeb8f054-561a-426a-b36d-b89bb75bca20",
   "metadata": {},
   "source": [
    "* 입력 설명  \n",
    "표준 입력으로 자연수 N이 주어집니다.  \n",
    "N은 1 이상 100 이하입니다.  \n",
    "\n",
    "* 출력 설명  \n",
    "별로 밑변과 높이가 N인 직각삼각형을 거꾸로 출력해주세요.  "
   ]
  },
  {
   "cell_type": "code",
   "execution_count": null,
   "id": "70b8c2ee-f040-4f96-b76f-650a5753ae63",
   "metadata": {},
   "outputs": [],
   "source": [
    "# 입출력 예\n",
    "# 입력\n",
    "# 5\n",
    "\n",
    "#출력\n",
    "# *****  \n",
    "# ****  \n",
    "# ***  \n",
    "# **  \n",
    "# *  "
   ]
  },
  {
   "cell_type": "code",
   "execution_count": 9,
   "id": "66626215-3f2c-45b3-9d5d-23d8e566964d",
   "metadata": {},
   "outputs": [
    {
     "name": "stdin",
     "output_type": "stream",
     "text": [
      " 5\n"
     ]
    },
    {
     "name": "stdout",
     "output_type": "stream",
     "text": [
      "*****\n",
      "****\n",
      "***\n",
      "**\n",
      "*\n"
     ]
    }
   ],
   "source": [
    "# 이곳에 코드를 작성하세요.\n",
    "\n",
    "N = int(input())\n",
    "\n",
    "for i in range(N, 0, -1):\n",
    "    print(\"*\"*i)"
   ]
  },
  {
   "cell_type": "markdown",
   "id": "e259d0e0-6cd9-405a-8e15-3d4f2214cc66",
   "metadata": {},
   "source": [
    "### 문제 4  \n",
    "> 문자열 한 개가 주어졌을 때, 주어진 문자열 양 옆에 큰따옴표를 붙이려 합니다.  \n",
    "> 표준 입력으로 문자열 한 개를 입력받아, 입력받은 문자열 양 옆에 큰따옴표를 붙여 출력하도록 코드를 작성하려 합니다.  \n",
    "> 빈칸을 채워 전체 코드를 완성해 주세요.  "
   ]
  },
  {
   "cell_type": "markdown",
   "id": "9fd58a49-ce9c-4eb8-a8fb-cb5fef3b3783",
   "metadata": {},
   "source": [
    "* 입력 설명  \n",
    "표준 입력으로 문자열 한 개가 주어집니다.  \n",
    "문자열은 알파벳 대문자와 소문자로만 이루어집니다.  \n",
    "문자열 길이는 1 이상 100 이하입니다.  \n",
    "\n",
    "* 출력 설명  \n",
    "입력받은 문자열 양 옆에 큰따옴표를 붙여 출력해주세요.  \n",
    "\n",
    "* 입출력 예  \n",
    "입력  \n",
    "HelloWorld  \n",
    "출력  \n",
    "\"HelloWorld\"  "
   ]
  },
  {
   "cell_type": "code",
   "execution_count": 13,
   "id": "c17da9de-1517-498d-b08c-1f7c30a38b4d",
   "metadata": {},
   "outputs": [
    {
     "name": "stdin",
     "output_type": "stream",
     "text": [
      "문자열을 입력하세요:  hello\n"
     ]
    },
    {
     "name": "stdout",
     "output_type": "stream",
     "text": [
      "\"hello\"\n"
     ]
    }
   ],
   "source": [
    "# 주어진 코드를 변경해서 모든 입력에 대해 올바르게 동작하도록 수정하세요.\n",
    "\n",
    "str = input(\"문자열을 입력하세요: \")\n",
    "print('\"'+str+'\"')"
   ]
  },
  {
   "cell_type": "markdown",
   "id": "203495df-afda-461c-882c-c7718742ae7b",
   "metadata": {},
   "source": [
    "### 문제 5  \n",
    "> 숫자 한 개가 주어졌을 때 그 숫자의 절댓값을 구하려 합니다.  \n",
    "> 표준 입력으로 숫자 한 개를 입력받아, 그 수의 절댓값을 출력해주세요.  "
   ]
  },
  {
   "cell_type": "markdown",
   "id": "92b7bc20-54ac-43ce-b17b-eb84420e48c5",
   "metadata": {},
   "source": [
    "* 입력 설명  \n",
    "표준 입력으로 숫자 한 개가 주어집니다.  \n",
    "입력되는 수는 -1,000 이상 1,000 이하인 정수입니다.  \n",
    "\n",
    "* 출력 설명  \n",
    "입력받은 수의 절댓값을 출력해주세요.  \n",
    "\n",
    "* 입출력 예  \n",
    "입력  \n",
    "-13  \n",
    "출력  \n",
    "13  \n",
    "\n",
    "-13의 절댓값은 13이므로 13을 출력합니다.  "
   ]
  },
  {
   "cell_type": "code",
   "execution_count": 17,
   "id": "1e5185be-8155-4423-a2e4-4785266aabba",
   "metadata": {},
   "outputs": [
    {
     "name": "stdin",
     "output_type": "stream",
     "text": [
      " 13\n"
     ]
    },
    {
     "name": "stdout",
     "output_type": "stream",
     "text": [
      "13\n"
     ]
    }
   ],
   "source": [
    "# 이곳에 코드를 작성하세요.\n",
    "\n",
    "N = int(input())\n",
    "\n",
    "if N >= 0: print(N)\n",
    "else: print(N * (-1))"
   ]
  },
  {
   "cell_type": "code",
   "execution_count": 19,
   "id": "bed6630b-0b30-47af-af4b-cc675d30516e",
   "metadata": {},
   "outputs": [
    {
     "name": "stdin",
     "output_type": "stream",
     "text": [
      " 5\n"
     ]
    },
    {
     "name": "stdout",
     "output_type": "stream",
     "text": [
      "5\n"
     ]
    }
   ],
   "source": [
    "N = int(input())\n",
    "print(abs(N))"
   ]
  },
  {
   "cell_type": "markdown",
   "id": "53ecfe87-7406-4196-85df-8998cd7df1ec",
   "metadata": {},
   "source": [
    "### 문제 6  \n",
    "> 두 숫자가 같으면 두 숫자의 합을, 다르면 차를 구하려 합니다.  \n",
    "> 표준 입력으로 숫자 두 개를 입력받아 두 숫자가 같으면 두 숫자의 합을, 다르면 차를 출력해주세요.  "
   ]
  },
  {
   "cell_type": "markdown",
   "id": "a2de7e94-14eb-4a29-b460-2f69ac8ad000",
   "metadata": {},
   "source": [
    "* 입력 설명  \n",
    "표준 입력으로 숫자 두 개가 주어집니다.  \n",
    "두 숫자는 1 이상 100 이하인 자연수입니다.  \n",
    "두번째 숫자는 첫번째 숫자와 같거나 큽니다.  \n",
    "\n",
    "* 출력 설명  \n",
    "두 숫자가 같으면 두 숫자의 합을, 다르면 차를 출력해주세요.  \n",
    "\n",
    "* 입출력 예  \n",
    "입력  \n",
    "5 5  \n",
    "출력  \n",
    "10  \n",
    "\n",
    "첫 번째 수와 두 번째 수가 같으므로 두 숫자를 합한 10을 출력합니다."
   ]
  },
  {
   "cell_type": "code",
   "execution_count": 24,
   "id": "f9ff2db7-b989-4293-ae8c-6e9ef26a3450",
   "metadata": {},
   "outputs": [
    {
     "name": "stdin",
     "output_type": "stream",
     "text": [
      " 4 6\n"
     ]
    },
    {
     "name": "stdout",
     "output_type": "stream",
     "text": [
      "2\n"
     ]
    }
   ],
   "source": [
    "# 이곳에 코드를 작성하세요.\n",
    "\n",
    "# num1, num2 = input().split()\n",
    "# num1 = int(num1)\n",
    "# num2 = int(num2)\n",
    "\n",
    "num1, num2 = list(map(int, input().split()))\n",
    "\n",
    "if num1 == num2: print(num1+num2)\n",
    "else: print(num2-num1)"
   ]
  },
  {
   "cell_type": "markdown",
   "id": "284d8fb2-4872-4682-ae0e-41795c904546",
   "metadata": {},
   "source": [
    "### 문제 7  \n",
    "> 1부터 n까지의 숫자를 출력하려고 합니다.  \n",
    "> 표준 입력으로 자연수 n을 받아 1부터 n까지의 정수를 출력하는 코드를 작성하려 합니다.  \n",
    "> 주어진 코드를 변경해서 모든 입력에 대해 올바르게 동작하도록 수정하세요.  "
   ]
  },
  {
   "cell_type": "markdown",
   "id": "50177155-8052-49d6-bcaa-c82a822509f7",
   "metadata": {},
   "source": [
    "* 입력 설명  \n",
    "표준 입력으로 자연수 n이 주어집니다.  \n",
    "n은 1 이상 1,000 이하입니다.  \n",
    "\n",
    "* 출력 설명  \n",
    "1부터 n까지의 자연수를 출력해주세요.  \n",
    "\n",
    "* 입출력 예  \n",
    "입력  \n",
    "5  \n",
    "출력  \n",
    "1  \n",
    "2  \n",
    "3  \n",
    "4  \n",
    "5  "
   ]
  },
  {
   "cell_type": "code",
   "execution_count": 26,
   "id": "0d1feb67-b6d3-450d-914b-d8b8fa081cbd",
   "metadata": {},
   "outputs": [
    {
     "name": "stdin",
     "output_type": "stream",
     "text": [
      "수를 입력하세요  5\n"
     ]
    },
    {
     "name": "stdout",
     "output_type": "stream",
     "text": [
      "1\n",
      "2\n",
      "3\n",
      "4\n",
      "5\n"
     ]
    }
   ],
   "source": [
    "# 주어진 코드를 변경해서 모든 입력에 대해 올바르게 동작하도록 수정하세요.\n",
    "\n",
    "n = int(input(\"수를 입력하세요 \"))\n",
    "\n",
    "i = 1\n",
    "while (n >= i):\n",
    "    print(i)\n",
    "    i = i + 1"
   ]
  },
  {
   "cell_type": "markdown",
   "id": "c25db523-d9e2-4a8c-893b-0c91da479ce9",
   "metadata": {},
   "source": [
    "### 문제 8  \n",
    "> 길이가 n인 배열 arr에서 인접하는 두 숫자 중 첫 번째 숫자에서 두 번째 숫자를 뺀 값을 모두 출력하려 합니다.  \n",
    "> 표준 입력으로 자연수 n과 배열 arr을 입력받아, 인접하는 두 숫자 중 첫 번째 숫자에서 두 번째 숫자를 뺀 값을 차례대로 출력하는 코드를 작성하려 합니다.  \n",
    "> 주어진 코드를 변경해서 모든 입력에 대해 올바르게 동작하도록 수정하세요.  "
   ]
  },
  {
   "cell_type": "markdown",
   "id": "d2343f8d-4a37-4b3a-bd79-e7a082f18122",
   "metadata": {},
   "source": [
    "* 입력 설명  \n",
    "표준 입력으로 자연수 n과 배열 arr이 주어집니다.  \n",
    "n은 2 이상 50 이하입니다.  \n",
    "arr의 원소는 -100 이상 100 이하인 정수입니다.  \n",
    "\n",
    "* 출력 설명  \n",
    "배열 arr에서 인접하는 두 숫자 중 첫 번째 숫자에서 두 번째 숫자를 뺀 값을 차례대로 출력해주세요.  \n",
    "\n",
    "* 입출력 예  \n",
    "입력  \n",
    "4  \n",
    "1 3 6 2  \n",
    "출력  \n",
    "-2  \n",
    "-3  \n",
    "4  \n",
    "\n",
    "배열의 첫 번째 숫자부터 차례대로 인접한 숫자를 뺀 -2, -3, 4를 출력합니다. 2가 배열의 마지막 요소이므로 출력을 멈춥니다.  "
   ]
  },
  {
   "cell_type": "code",
   "execution_count": 31,
   "id": "23455bce-fac5-4e5c-8cd0-1376ba79eb90",
   "metadata": {},
   "outputs": [
    {
     "name": "stdin",
     "output_type": "stream",
     "text": [
      " 4\n",
      " 1 3 6 2\n"
     ]
    },
    {
     "name": "stdout",
     "output_type": "stream",
     "text": [
      "-2\n",
      "-3\n",
      "4\n"
     ]
    }
   ],
   "source": [
    "# 주어진 코드를 변경해서 모든 입력에 대해 올바르게 동작하도록 수정하세요.\n",
    "\n",
    "n = int(input(\"\"))\n",
    "arr= []\n",
    "arr = input().split()\n",
    "\n",
    "for i in range(n):\n",
    "    arr[i] = int(arr[i])\n",
    "\n",
    "for i in range(n-1):\n",
    "    print(arr[i]-arr[i+1])"
   ]
  },
  {
   "cell_type": "markdown",
   "id": "499d93d5-9877-456c-bf1f-edbff30082c6",
   "metadata": {},
   "source": [
    "### 문제 9  \n",
    "> 숫자 한 개를 입력받았을 때 숫자를 거꾸로 출력하려고 합니다.  \n",
    "> 예를 들어, 12345가 입력되면 54321을 출력합니다.  \n",
    "> 표준 입력으로 자연수 n을 입력받아 숫자 n을 거꾸로 출력하도록 코드를 작성하려 합니다.  \n",
    "> 빈칸을 채워 전체 코드를 완성해주세요.  주세요."
   ]
  },
  {
   "cell_type": "markdown",
   "id": "748f5b90-f614-4c08-b29c-71bf702512dc",
   "metadata": {},
   "source": [
    "* 입력 설명  \n",
    "표준 입력으로 자연수 n이 주어집니다.  \n",
    "n은 1 이상 100,000,000 이하입니다.  \n",
    "n은 0으로 끝나지 않습니다.  \n",
    "\n",
    "* 출력 설명  \n",
    "숫자 n을 거꾸로 출력해주세요.  \n",
    "\n",
    "* 입출력 예  \n",
    "입력  \n",
    "12345  \n",
    "출력  \n",
    "54321  \n",
    "\n",
    "\n",
    "12345를 거꾸로 하면 54321이므로 54321을 출력합니다.  "
   ]
  },
  {
   "cell_type": "code",
   "execution_count": 34,
   "id": "a0bf2066-748e-4e54-aa40-87aa30fcdf9b",
   "metadata": {},
   "outputs": [
    {
     "name": "stdin",
     "output_type": "stream",
     "text": [
      " 12345\n"
     ]
    },
    {
     "name": "stdout",
     "output_type": "stream",
     "text": [
      "54321"
     ]
    }
   ],
   "source": [
    "# 주어진 코드를 변경해서 모든 입력에 대해 올바르게 동작하도록 수정하세요.\n",
    "\n",
    "n = input(\"\")\n",
    "\n",
    "for i in range(len(n)):\n",
    "    print(n[len(n)-i-1], end=\"\")"
   ]
  },
  {
   "cell_type": "markdown",
   "id": "b1f02cc2-c141-47a6-8d74-0876e1d50a22",
   "metadata": {},
   "source": [
    "### 문제 10  \n",
    "> 문자열 s에서 '1'의 개수를 구하려 합니다.  \n",
    "> 예를 들어 s가 \"4156721\"일 때, 2번째와 마지막 번째 문자가 '1'이므로 2를 출력합니다.  \n",
    "> 표준 입력으로 문자열 s를 입력받아 s에서 '1'의 개수를 출력해주세요.  주세요."
   ]
  },
  {
   "cell_type": "markdown",
   "id": "fc457c84-8ffa-4c4e-8493-7f238fe2bfc3",
   "metadata": {},
   "source": [
    "* 입력 설명  \r\n",
    "표준 입력으로 문자열 s가 주어집니다.  \r\n",
    "문자열 s의 길이는 1 이상 1,000 이하입니다.  \r\n",
    "문자열 s는 '1'~'9'로 이루어진 문자열입니다.   \r\n",
    "  \r\n",
    "* 출력 설명  \r\n",
    "문자열 s에서 '1'의 개수를 출력해 주세요.  \r\n",
    "  \r\n",
    "* 입출력 예  \r\n",
    "입력  \r\n",
    "\"4156721\"  \r\n",
    "출력  \r\n",
    "2  "
   ]
  },
  {
   "cell_type": "code",
   "execution_count": 37,
   "id": "1c171bf6-ed48-4f72-851d-1325a3050dea",
   "metadata": {},
   "outputs": [
    {
     "name": "stdin",
     "output_type": "stream",
     "text": [
      " 4156721\n"
     ]
    },
    {
     "name": "stdout",
     "output_type": "stream",
     "text": [
      "2\n"
     ]
    }
   ],
   "source": [
    "# 이곳에 코드를 작성하세요.\n",
    "\n",
    "s = input()\n",
    "# print(s.count('1'))\n",
    "\n",
    "cnt = 0\n",
    "for i in s:\n",
    "    if i == '1':\n",
    "        cnt = cnt + 1\n",
    "print(cnt)"
   ]
  }
 ],
 "metadata": {
  "kernelspec": {
   "display_name": "Python 3 (ipykernel)",
   "language": "python",
   "name": "python3"
  },
  "language_info": {
   "codemirror_mode": {
    "name": "ipython",
    "version": 3
   },
   "file_extension": ".py",
   "mimetype": "text/x-python",
   "name": "python",
   "nbconvert_exporter": "python",
   "pygments_lexer": "ipython3",
   "version": "3.12.4"
  }
 },
 "nbformat": 4,
 "nbformat_minor": 5
}
