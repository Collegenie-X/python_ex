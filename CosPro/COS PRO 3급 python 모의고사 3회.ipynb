{
 "cells": [
  {
   "cell_type": "markdown",
   "id": "42b8ab01-22ee-4bfe-83ff-377e3c511581",
   "metadata": {},
   "source": [
    "# COS PRO 3급 모의고사(3회)"
   ]
  },
  {
   "cell_type": "markdown",
   "id": "78713e89-9f98-49d3-9267-7d48f9cf0a82",
   "metadata": {},
   "source": [
    "---"
   ]
  },
  {
   "cell_type": "markdown",
   "id": "827a6338-8fe0-4c80-8a5f-f97bac7dca55",
   "metadata": {},
   "source": [
    "## <모의고사 3회>"
   ]
  },
  {
   "cell_type": "markdown",
   "id": "f5bf03e1-98e8-4649-9f7d-800595a52d13",
   "metadata": {},
   "source": [
    "### 문제 1  \n",
    "> 두 개의 수 a와 b를 입력받아 a가 b보다 크면 a - b, a가 b보다 작으면 a + b, a와 b가 같으면 a = b를 출력하세요.  \n",
    "> 표준 입력으로 숫자 두 개를 입력받아, 다음과 같이 출력되도록  빈칸을 채워 전체 코드를 완성해주세요.  "
   ]
  },
  {
   "cell_type": "markdown",
   "id": "e9dd0a4f-ec26-4560-b738-9f9fe786511b",
   "metadata": {},
   "source": [
    "* 입력 설명  \n",
    "표준 입력으로 숫자 두 개가 주어집니다. 두 수는 1 이상 100 이하인 자연수입니다.  \n",
    "\n",
    "* 출력 설명  \n",
    "계산식과 함께 계산 결과를 출력해주세요.  \n",
    "\n",
    "* 입출력 예  \n",
    "입력  \n",
    "5 3  \n",
    "출력  \n",
    "5 - 3 = 2\n",
    "  \n",
    "  입력  \n",
    "  2 9  \n",
    "  출력  \n",
    "  2 + 9 = 11  \n",
    "\n",
    "  입력  \n",
    "  5 5  \n",
    "  출력  \n",
    "  5 = 5  "
   ]
  },
  {
   "cell_type": "code",
   "execution_count": 1,
   "id": "4e9af26a-5460-4488-b209-a669a7124499",
   "metadata": {},
   "outputs": [
    {
     "name": "stdout",
     "output_type": "stream",
     "text": [
      "11\n"
     ]
    }
   ],
   "source": [
    "# 주어진 코드를 변경해서 모든 입력에 대해 올바르게 동작하도록 수정하세요.\n",
    "\n",
    "a, b = map(int,input(\"\").split())\n",
    "\n",
    "if a<b:\n",
    "    print(a+b)\n",
    "elif a>b:\n",
    "    print(a-b)\n",
    "else:\n",
    "    print(a=b)"
   ]
  },
  {
   "cell_type": "markdown",
   "id": "9f9e2c27-1422-4671-b229-c3f556e671a7",
   "metadata": {},
   "source": [
    "### 문제 2  \n",
    "> 한 문자를 입력받아 대문자는 소문자로 소문자는 대문자로 변환하여 출력해주세요.  \n",
    "> 표준 입력으로 문자 한 개를 입력받아, 대문자는 소문자로 소문자는 대문자로 변환하여 출력해주세요."
   ]
  },
  {
   "cell_type": "markdown",
   "id": "64bb3986-22f9-4c2f-af68-d5ce36957a48",
   "metadata": {},
   "source": [
    "* 입력 설명  \n",
    "표준 입력으로 문자 한 개가 주어집니다.  \n",
    "영문자 이외의 문자는 주어지지 않습니다.\n",
    "\n",
    "* 출력 설명  \n",
    "대문자는 소문자로 소문자는 대문자로 변환하여 출력해주세요.  \n",
    "\n",
    "* 입출력 예  \n",
    "입력  \n",
    "A \n",
    "출력  \n",
    "a  "
   ]
  },
  {
   "cell_type": "code",
   "execution_count": 7,
   "id": "a08e74c9-2560-40ca-ae96-a1a5c7c0e264",
   "metadata": {},
   "outputs": [
    {
     "name": "stdout",
     "output_type": "stream",
     "text": [
      "A\n"
     ]
    }
   ],
   "source": [
    "# 입력 받기\n",
    "char = input()\n",
    "\n",
    "# 변환 결과를 담을 변수 초기화\n",
    "result = \"\"\n",
    "\n",
    "# 문자를 확인하여 대소문자 변환\n",
    "if char.isupper():\n",
    "    result = char.lower()\n",
    "elif char.islower():\n",
    "    result = char.upper()\n",
    "\n",
    "# 결과 출력\n",
    "print(result)\n",
    "\n"
   ]
  },
  {
   "cell_type": "markdown",
   "id": "23a89887-4b1d-4693-bb29-ce0830bff95f",
   "metadata": {},
   "source": [
    "### 문제 3  \n",
    "> 별(\"*\")로 높이가 N인 정삼각형을 출력하려고 합니다.  \n",
    "> 표준 입력으로 자연수 N을 입력받아 높이가 N인 정삼각형을 출력해 주세요.  "
   ]
  },
  {
   "cell_type": "markdown",
   "id": "aeb8f054-561a-426a-b36d-b89bb75bca20",
   "metadata": {},
   "source": [
    "* 입력 설명  \n",
    "표준 입력으로 자연수 N이 주어집니다.  \n",
    "N은 1 이상 100 이하입니다.  \n",
    "\n",
    "* 출력 설명  \n",
    "별로 높이가 N인 정삼각형을 출력해주세요.  "
   ]
  },
  {
   "cell_type": "code",
   "execution_count": null,
   "id": "70b8c2ee-f040-4f96-b76f-650a5753ae63",
   "metadata": {},
   "outputs": [],
   "source": [
    "# 입출력 예\n",
    "# 입력\n",
    "# 5\n",
    "\n",
    "#출력\n",
    "#     *\n",
    "#    ***\n",
    "#   *****\n",
    "#  *******\n",
    "# *********  "
   ]
  },
  {
   "cell_type": "code",
   "execution_count": null,
   "id": "66626215-3f2c-45b3-9d5d-23d8e566964d",
   "metadata": {},
   "outputs": [
    {
     "name": "stdout",
     "output_type": "stream",
     "text": [
      "stars: *\n",
      "    *    \n",
      "stars: ***\n",
      "   ***   \n",
      "stars: *****\n",
      "  *****  \n",
      "stars: *******\n",
      " ******* \n",
      "stars: *********\n",
      "*********\n"
     ]
    }
   ],
   "source": [
    "# 이곳에 코드를 작성하세요.\n",
    "# N 입력 받기\n",
    "N = int(input())\n",
    "\n",
    "# 높이 N에 맞춰 정삼각형 출력\n",
    "for i in range(1, N+1):\n",
    "    # 각 줄의 별 갯수는 2*i - 1\n",
    "    stars = '*' * (2 * i - 1)\n",
    "    # print(\"stars: \" + stars)\n",
    "    # 가운데 정렬을 위해 공백을 추가하여 출력\n",
    "    print(stars.center(2 * N - 1))\n",
    "\n",
    "\n"
   ]
  },
  {
   "cell_type": "markdown",
   "id": "e259d0e0-6cd9-405a-8e15-3d4f2214cc66",
   "metadata": {},
   "source": [
    "### 문제 4  \n",
    "> 문자열 두 개를 입력받아, 첫 번째 문자열의 순서를 바꾸어 두 번째 문자열을 만들 수 있으면 1을, 만들 수 없으면 0을 출력해 주세요."
   ]
  },
  {
   "cell_type": "markdown",
   "id": "51d586de-8d4d-4213-8bf4-bf3c543bd535",
   "metadata": {},
   "source": [
    "* 입력 설명  \n",
    "표준 입력으로 문자열 두 개를 입력받습니다.  \n",
    "\n",
    "* 출력 설명  \n",
    "첫 번째 문자열의 순서를 바꾸어 두 번째 문자열을 만들 수 있으면 1을 출력하고, 만들 수 없으면 0을 출력해 주세요.  \n",
    "\n",
    "* 입출력 예  \n",
    "입력  \n",
    "olleh  \n",
    "hello  \n",
    "출력  \n",
    "1  \n",
    "입력  \n",
    "allpe  \n",
    "apple  \n",
    "출력  \n",
    "0  "
   ]
  },
  {
   "cell_type": "code",
   "execution_count": 14,
   "id": "c17da9de-1517-498d-b08c-1f7c30a38b4d",
   "metadata": {},
   "outputs": [
    {
     "name": "stdout",
     "output_type": "stream",
     "text": [
      "1\n"
     ]
    }
   ],
   "source": [
    "# 주어진 코드를 변경해서 모든 입력에 대해 올바르게 동작하도록 수정하세요.\n",
    "\n",
    "before = input()\n",
    "after = input()\n",
    "\n",
    "before = before[::-1]\n",
    "\n",
    "if before == after:\n",
    "   print (\"1\")\n",
    "else:\n",
    "   print(\"0\")"
   ]
  },
  {
   "cell_type": "code",
   "execution_count": null,
   "id": "d9e2dab9",
   "metadata": {},
   "outputs": [
    {
     "name": "stdout",
     "output_type": "stream",
     "text": [
      "olleh\n",
      "hello\n"
     ]
    }
   ],
   "source": [
    "before = input()\n",
    "after = input()\n",
    "\n",
    "before = @@@ (before)\n",
    "after = @@@ (after)\n",
    "if before == after:\n",
    "    return 1\n",
    "else:\n",
    "    return 0"
   ]
  },
  {
   "cell_type": "markdown",
   "id": "f0ca2a5d-ee53-4773-8daf-f7a37940e0d4",
   "metadata": {},
   "source": [
    "### 문제 5  \n",
    "> 초를 입력 받아 분/초의 형태로 출력하세요.  \n",
    "> 60 -> 1 0 (1분 0초를 뜻함)  \n",
    "> 70 -> 1 10 (1분 10초를 뜻함)  \n",
    "> 표준 입력으로 숫자 한 개를 입력받아, 분/초의 형태로 출력하세요.  "
   ]
  },
  {
   "cell_type": "markdown",
   "id": "92b7bc20-54ac-43ce-b17b-eb84420e48c5",
   "metadata": {},
   "source": [
    "* 입력 설명  \n",
    "표준 입력으로 숫자 한 개가 주어집니다.  \n",
    "입력되는 수는 1 이상 1,000 이하인 정수입니다.  \n",
    "\n",
    "* 출력 설명  \n",
    "입력받은 수를 분/초의 형태로 출력하세요.\n",
    "\n",
    "* 입출력 예  \n",
    "입력  \n",
    "65  \n",
    "출력  \n",
    "1 5  "
   ]
  },
  {
   "cell_type": "code",
   "execution_count": 15,
   "id": "1e5185be-8155-4423-a2e4-4785266aabba",
   "metadata": {},
   "outputs": [
    {
     "name": "stdout",
     "output_type": "stream",
     "text": [
      "1 5\n"
     ]
    }
   ],
   "source": [
    "# 이곳에 코드를 작성하세요.\n",
    "\n",
    "seconds = int(input(\"몇 초 입력\"))\n",
    "\n",
    "if (seconds > 60) : \n",
    "    minutes = seconds // 60\n",
    "    seconds %= 60\n",
    "    print(minutes, seconds)\n",
    "else : \n",
    "    seconds \n",
    "    print(seconds)\n",
    "\n"
   ]
  },
  {
   "cell_type": "markdown",
   "id": "e6447df3-706e-4c17-b41f-0a9ab571e9a2",
   "metadata": {},
   "source": [
    "### 문제 6  \n",
    "> 다음은 while문을 이용하여 1 ~ n 사이에서(n포함) 3의 배수의 합을 구하는 프로그램입니다.  \n",
    "> 빈칸을 채워 전체 코드를 완성해주세요."
   ]
  },
  {
   "cell_type": "markdown",
   "id": "a2de7e94-14eb-4a29-b460-2f69ac8ad000",
   "metadata": {},
   "source": [
    "* 입력 설명  \n",
    "표준 입력으로 자연수 n이 주어집니다.\n",
    "\n",
    "* 출력 설명  \n",
    "1부터 n 사이에서(n 포함) 3의 배수의 합을 출력합니다.\n",
    "\n",
    "* 입출력 예  \n",
    "입력  \n",
    "10  \n",
    "출력  \n",
    "18  "
   ]
  },
  {
   "cell_type": "code",
   "execution_count": 16,
   "id": "f9ff2db7-b989-4293-ae8c-6e9ef26a3450",
   "metadata": {},
   "outputs": [
    {
     "name": "stdout",
     "output_type": "stream",
     "text": [
      "18\n"
     ]
    }
   ],
   "source": [
    "# 주어진 코드를 변경해서 모든 입력에 대해 올바르게 동작하도록 수정하세요.\n",
    "\n",
    "hap = 0\n",
    "i = 1\n",
    "\n",
    "n = int(input(\"\"))\n",
    "\n",
    "while i < n :\n",
    "    if i % 3 == 0 :\n",
    "        hap += i\n",
    "    i+=1\n",
    "\n",
    "print(hap)"
   ]
  },
  {
   "cell_type": "markdown",
   "id": "284d8fb2-4872-4682-ae0e-41795c904546",
   "metadata": {},
   "source": [
    "### 문제 7  \n",
    "> 자연수 n과 m을 입력받아 n * m 크기의 사각형을 출력해 주세요.  "
   ]
  },
  {
   "cell_type": "markdown",
   "id": "50177155-8052-49d6-bcaa-c82a822509f7",
   "metadata": {},
   "source": [
    "* 입력 설명  \n",
    "표준 입력으로 자연수 n과 m이이 주어집니다.  \n",
    "n과 m은 1 이상 1,000 이하입니다.  \n",
    "\n",
    "* 출력 설명  \n",
    "가로가 m, 세로가 n인 사각형을 출력하세요."
   ]
  },
  {
   "cell_type": "code",
   "execution_count": null,
   "id": "83423d14-1245-4c52-9b6b-9d2e57b1fe98",
   "metadata": {},
   "outputs": [],
   "source": [
    "# 입력\n",
    "# 3 4\n",
    "\n",
    "# 출력\n",
    "# ****\n",
    "# ****\n",
    "# ****"
   ]
  },
  {
   "cell_type": "code",
   "execution_count": 19,
   "id": "0d1feb67-b6d3-450d-914b-d8b8fa081cbd",
   "metadata": {},
   "outputs": [
    {
     "name": "stdout",
     "output_type": "stream",
     "text": [
      "****\n",
      "****\n",
      "****\n"
     ]
    }
   ],
   "source": [
    "# 이곳에 코드를 작성하세요.\n",
    "\n",
    "n,m = map(int ,input().split()) \n",
    "\n",
    "\n",
    "for i in range(n):\n",
    "    for j in range(m):\n",
    "        print(\"*\", end=\"\")\n",
    "    print()\n",
    "\n",
    "\n"
   ]
  },
  {
   "cell_type": "markdown",
   "id": "c25db523-d9e2-4a8c-893b-0c91da479ce9",
   "metadata": {},
   "source": [
    "### 문제 8  \n",
    "> 표준 입력으로 자연수 n과 배열 arr을 입력받아 배열 arr에서 가장 큰 수와 가장 작은 수의 차를 출력하는 코드를 작성해 주세요.  "
   ]
  },
  {
   "cell_type": "markdown",
   "id": "ff097aae-06ae-482a-9d45-363cb90560e3",
   "metadata": {},
   "source": [
    "* 입력 설명  \n",
    "표준 입력으로 자연수 n과 배열 arr이 주어집니다.  \n",
    "n은 2 이상 50 이하입니다.  \n",
    "arr의 원소는 -100 이상 100 이하인 정수입니다.  \n",
    "\n",
    "* 출력 설명  \n",
    "배열 arr에서 가장 큰 수와 가장 작은 수의 차를 출력해주세요.  \n",
    "\n",
    "* 입출력 예  \n",
    "입력  \n",
    "6  \n",
    "3 6 2 12 8 20  \n",
    "출력  \n",
    "18  "
   ]
  },
  {
   "cell_type": "code",
   "execution_count": 20,
   "id": "23455bce-fac5-4e5c-8cd0-1376ba79eb90",
   "metadata": {},
   "outputs": [
    {
     "name": "stdout",
     "output_type": "stream",
     "text": [
      "18\n"
     ]
    }
   ],
   "source": [
    "# 주어진 코드를 변경해서 모든 입력에 대해 올바르게 동작하도록 수정하세요.\n",
    "\n",
    "n = int(input(\"\"))\n",
    "\n",
    "arr = []\n",
    "arr = input().split()\n",
    "\n",
    "for i in range(n):\n",
    "    arr[i] = int(arr[i])\n",
    "\n",
    "print( max(arr) - min(arr))"
   ]
  },
  {
   "cell_type": "markdown",
   "id": "499d93d5-9877-456c-bf1f-edbff30082c6",
   "metadata": {},
   "source": [
    "### 문제 9  \n",
    "> 표준 입력으로 자연수 n과 배열 arr을 입력받은 뒤,  \n",
    "> 첫번째 줄에는 홀수번째 입력받은 수를, 두번째 줄에는 짝수번째 입력받은 수를 출력하는 코드를 빈칸을 채워 완성해주세요."
   ]
  },
  {
   "cell_type": "markdown",
   "id": "f85446ec-d481-4919-8d24-19e522e6c9d0",
   "metadata": {},
   "source": [
    "* 입력 설명  \n",
    "표준 입력으로 자연수 n과 배열 arr이 주어집니다.  \n",
    "\n",
    "* 출력 설명  \n",
    "첫번째 줄에는 홀수번째 입력받은 수를, 두번째 줄에는 짝수번째 입력받은 수를 출력하세요.  \n",
    "\n",
    "* 입출력 예  \n",
    "입력  \n",
    "7  \n",
    "12 4 2 10 83 6 8  \n",
    "출력  \n",
    "12 2 83 8  \n",
    "4 10 6  "
   ]
  },
  {
   "cell_type": "code",
   "execution_count": 24,
   "id": "a0bf2066-748e-4e54-aa40-87aa30fcdf9b",
   "metadata": {},
   "outputs": [
    {
     "name": "stdout",
     "output_type": "stream",
     "text": [
      "12 2 83 8 \n",
      "4 10 6 "
     ]
    }
   ],
   "source": [
    "# 주어진 코드를 변경해서 모든 입력에 대해 올바르게 동작하도록 수정하세요.\n",
    "\n",
    "n = int(input(\"\"))\n",
    "\n",
    "arr = []\n",
    "arr = input().split()\n",
    "\n",
    "for i in range(n):\n",
    "    arr[i] = int(arr[i])\n",
    "\n",
    "for i in range( 0,n,2 ):\n",
    "    print(arr[i],end=\" \")\n",
    "    \n",
    "print()\n",
    "\n",
    "for i in range(1, n,2 ):\n",
    "    print( arr[i],end=\" \")"
   ]
  },
  {
   "cell_type": "markdown",
   "id": "b1f02cc2-c141-47a6-8d74-0876e1d50a22",
   "metadata": {},
   "source": [
    "### 문제 10  \n",
    "> 표준 입력으로 자연수 n과 배열 arr을 입력받은 뒤,  \n",
    "> 배열 arr에서 첫번째 줄에는 홀수를, 두번째 줄에는 짝수를, 세번째 줄에는 홀수의 합과 짝수의 합을 출력하세요.  "
   ]
  },
  {
   "cell_type": "markdown",
   "id": "10ee2f77-35c6-445a-a4d0-3b82e5f43d5f",
   "metadata": {},
   "source": [
    "* 입력 설명  \n",
    "표준 입력으로 자연수 n과 배열 arr이 주어집니다.  \n",
    "\n",
    "* 출력 설명  \n",
    "첫번째 줄에는 홀수를, 두번째 줄에는 짝수를, 세번째 줄에는 홀수의 합과 짝수의 합을 출력하세요.  \n",
    "\n",
    "* 입출력 예  \n",
    "입력  \n",
    "5  \n",
    "4 8 1 1 9  \n",
    "출력  \n",
    "1 1 9  \n",
    "4 8  \n",
    "11 12  "
   ]
  },
  {
   "cell_type": "code",
   "execution_count": 30,
   "id": "1c171bf6-ed48-4f72-851d-1325a3050dea",
   "metadata": {},
   "outputs": [
    {
     "name": "stdout",
     "output_type": "stream",
     "text": [
      "1 1 9 \n",
      "4 8 \n",
      "11 12\n"
     ]
    }
   ],
   "source": [
    "# 이곳에 코드를 작성하세요.\n",
    "\n",
    "\n",
    "length = int(input())\n",
    "list_numbers = list(map(int, input().split())) \n",
    "\n",
    "odd_sum = 0 \n",
    "even_sum = 0 \n",
    "\n",
    "for number in list_numbers:  \n",
    "    if number % 2 == 1: \n",
    "        print(number, end=\" \")\n",
    "        odd_sum += number\n",
    "\n",
    "print()\n",
    "for number in list_numbers: \n",
    "    if number % 2 == 0: \n",
    "        print(number, end=\" \")\n",
    "        even_sum += number\n",
    "print() \n",
    "print(odd_sum,even_sum)\n",
    "    \n",
    "\n",
    "    \n"
   ]
  },
  {
   "cell_type": "code",
   "execution_count": null,
   "id": "8d4588b6",
   "metadata": {},
   "outputs": [],
   "source": []
  }
 ],
 "metadata": {
  "kernelspec": {
   "display_name": "Python 3",
   "language": "python",
   "name": "python3"
  },
  "language_info": {
   "codemirror_mode": {
    "name": "ipython",
    "version": 3
   },
   "file_extension": ".py",
   "mimetype": "text/x-python",
   "name": "python",
   "nbconvert_exporter": "python",
   "pygments_lexer": "ipython3",
   "version": "3.11.10"
  }
 },
 "nbformat": 4,
 "nbformat_minor": 5
}
