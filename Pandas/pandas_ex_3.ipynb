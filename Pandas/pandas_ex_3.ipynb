{
 "cells": [
  {
   "cell_type": "markdown",
   "metadata": {},
   "source": [
    "## Pandas 소개 및 설치\n",
    "- 이론: Pandas는 Python에서 데이터 조작 및 분석을 위한 강력한 라이브러리입니다. DataFrame은 표 형식의 데이터를 처리할 때 매우 유용합니다."
   ]
  },
  {
   "cell_type": "code",
   "execution_count": 1,
   "metadata": {},
   "outputs": [
    {
     "name": "stdout",
     "output_type": "stream",
     "text": [
      "2.2.3\n"
     ]
    }
   ],
   "source": [
    "import pandas as pd\n",
    "\n",
    "# Pandas 버전 확인\n",
    "print(pd.__version__)\n"
   ]
  },
  {
   "cell_type": "markdown",
   "metadata": {},
   "source": [
    "## 기본 데이터 구조\n",
    "- 이론: Pandas에서 가장 중요한 데이터 구조는 Series와 DataFrame입니다. Series는 1차원 배열, DataFrame은 2차원 테이블 형식입니다."
   ]
  },
  {
   "cell_type": "code",
   "execution_count": 2,
   "metadata": {},
   "outputs": [
    {
     "name": "stdout",
     "output_type": "stream",
     "text": [
      "0    1\n",
      "1    2\n",
      "2    3\n",
      "3    4\n",
      "4    5\n",
      "dtype: int64\n",
      "      Name  Age\n",
      "0    Alice   25\n",
      "1      Bob   30\n",
      "2  Charlie   35\n"
     ]
    }
   ],
   "source": [
    "# Series 예시\n",
    "data = [1, 2, 3, 4, 5]\n",
    "series = pd.Series(data)\n",
    "print(series)\n",
    "\n",
    "# DataFrame 예시\n",
    "data = {'Name': ['Alice', 'Bob', 'Charlie'], 'Age': [25, 30, 35]}\n",
    "df = pd.DataFrame(data)\n",
    "print(df)\n"
   ]
  },
  {
   "cell_type": "code",
   "execution_count": 28,
   "metadata": {},
   "outputs": [
    {
     "name": "stdout",
     "output_type": "stream",
     "text": [
      "a    10\n",
      "b    20\n",
      "c    30\n",
      "d    40\n",
      "e    50\n",
      "dtype: int64\n"
     ]
    }
   ],
   "source": [
    "data = [10, 20, 30, 40, 50]\n",
    "index = ['a', 'b', 'c', 'd', 'e']\n",
    "series = pd.Series(data, index=index)\n",
    "print(series)\n",
    "\n",
    "# 출력\n",
    "# a    10\n",
    "# b    20\n",
    "# c    30\n",
    "# d    40\n",
    "# e    50\n",
    "# dtype: int64\n"
   ]
  },
  {
   "cell_type": "code",
   "execution_count": 30,
   "metadata": {},
   "outputs": [
    {
     "name": "stdout",
     "output_type": "stream",
     "text": [
      "      Name  Age  Salary\n",
      "a    Alice   25   50000\n",
      "b      Bob   30   55000\n",
      "c  Charlie   35   60000\n"
     ]
    }
   ],
   "source": [
    "# 인덱스와 컬럼 지정\n",
    "data = {'Name': ['Alice', 'Bob', 'Charlie'],\n",
    "        'Age': [25, 30, 35],\n",
    "        'Salary': [50000, 55000, 60000]}\n",
    "\n",
    "index = ['a', 'b', 'c']\n",
    "columns = ['Name', 'Age', 'Salary']\n",
    "\n",
    "df = pd.DataFrame(data, index=index, columns=columns)\n",
    "print(df)\n"
   ]
  },
  {
   "cell_type": "markdown",
   "metadata": {},
   "source": [
    "## 데이터 탐색 및 기본 연산\n",
    "- 이론: 데이터를 탐색할 때는 head(), tail(), describe(), info() 등을 사용하여 데이터를 이해할 수 있습니다.\n"
   ]
  },
  {
   "cell_type": "code",
   "execution_count": 4,
   "metadata": {},
   "outputs": [
    {
     "name": "stdout",
     "output_type": "stream",
     "text": [
      "      Name  Age  Salary\n",
      "0    Alice   25   50000\n",
      "1      Bob   30   55000\n",
      "2  Charlie   35   60000\n",
      "3    David   40   65000\n",
      "\n",
      "             Age        Salary\n",
      "count   4.000000      4.000000\n",
      "mean   32.500000  57500.000000\n",
      "std     6.454972   6454.972244\n",
      "min    25.000000  50000.000000\n",
      "25%    28.750000  53750.000000\n",
      "50%    32.500000  57500.000000\n",
      "75%    36.250000  61250.000000\n",
      "max    40.000000  65000.000000\n",
      "\n",
      "<class 'pandas.core.frame.DataFrame'>\n",
      "RangeIndex: 4 entries, 0 to 3\n",
      "Data columns (total 3 columns):\n",
      " #   Column  Non-Null Count  Dtype \n",
      "---  ------  --------------  ----- \n",
      " 0   Name    4 non-null      object\n",
      " 1   Age     4 non-null      int64 \n",
      " 2   Salary  4 non-null      int64 \n",
      "dtypes: int64(2), object(1)\n",
      "memory usage: 228.0+ bytes\n",
      "None\n",
      "\n",
      "Name      0\n",
      "Age       0\n",
      "Salary    0\n",
      "dtype: int64\n",
      "\n"
     ]
    }
   ],
   "source": [
    "# DataFrame 생성\n",
    "df = pd.DataFrame({\n",
    "    'Name': ['Alice', 'Bob', 'Charlie', 'David'],\n",
    "    'Age': [25, 30, 35, 40],\n",
    "    'Salary': [50000, 55000, 60000, 65000]\n",
    "})\n",
    "\n",
    "# 데이터 탐색\n",
    "print(df.head())  # 처음 5행 출력\n",
    "print()\n",
    "print(df.describe())  # 기본 통계량 출력\n",
    "print()\n",
    "print(df.info())  # 데이터 타입 및 null 값 정보\n",
    "print()\n",
    "print(df.isnull().sum()) # 데이터의 null 값 확인\n",
    "print()\n"
   ]
  },
  {
   "cell_type": "code",
   "execution_count": 9,
   "metadata": {},
   "outputs": [
    {
     "data": {
      "text/html": [
       "<div>\n",
       "<style scoped>\n",
       "    .dataframe tbody tr th:only-of-type {\n",
       "        vertical-align: middle;\n",
       "    }\n",
       "\n",
       "    .dataframe tbody tr th {\n",
       "        vertical-align: top;\n",
       "    }\n",
       "\n",
       "    .dataframe thead th {\n",
       "        text-align: right;\n",
       "    }\n",
       "</style>\n",
       "<table border=\"1\" class=\"dataframe\">\n",
       "  <thead>\n",
       "    <tr style=\"text-align: right;\">\n",
       "      <th></th>\n",
       "      <th>Name</th>\n",
       "      <th>Age</th>\n",
       "      <th>Salary</th>\n",
       "    </tr>\n",
       "  </thead>\n",
       "  <tbody>\n",
       "    <tr>\n",
       "      <th>0</th>\n",
       "      <td>Eve</td>\n",
       "      <td>31</td>\n",
       "      <td>62093</td>\n",
       "    </tr>\n",
       "    <tr>\n",
       "      <th>1</th>\n",
       "      <td>Alice</td>\n",
       "      <td>21</td>\n",
       "      <td>56739</td>\n",
       "    </tr>\n",
       "    <tr>\n",
       "      <th>2</th>\n",
       "      <td>David</td>\n",
       "      <td>30</td>\n",
       "      <td>79956</td>\n",
       "    </tr>\n",
       "    <tr>\n",
       "      <th>3</th>\n",
       "      <td>Charlie</td>\n",
       "      <td>36</td>\n",
       "      <td>95795</td>\n",
       "    </tr>\n",
       "    <tr>\n",
       "      <th>4</th>\n",
       "      <td>Jack</td>\n",
       "      <td>35</td>\n",
       "      <td>37642</td>\n",
       "    </tr>\n",
       "    <tr>\n",
       "      <th>...</th>\n",
       "      <td>...</td>\n",
       "      <td>...</td>\n",
       "      <td>...</td>\n",
       "    </tr>\n",
       "    <tr>\n",
       "      <th>95</th>\n",
       "      <td>Hannah</td>\n",
       "      <td>31</td>\n",
       "      <td>86169</td>\n",
       "    </tr>\n",
       "    <tr>\n",
       "      <th>96</th>\n",
       "      <td>Charlie</td>\n",
       "      <td>42</td>\n",
       "      <td>72740</td>\n",
       "    </tr>\n",
       "    <tr>\n",
       "      <th>97</th>\n",
       "      <td>David</td>\n",
       "      <td>51</td>\n",
       "      <td>65063</td>\n",
       "    </tr>\n",
       "    <tr>\n",
       "      <th>98</th>\n",
       "      <td>Alice</td>\n",
       "      <td>39</td>\n",
       "      <td>94180</td>\n",
       "    </tr>\n",
       "    <tr>\n",
       "      <th>99</th>\n",
       "      <td>Grace</td>\n",
       "      <td>57</td>\n",
       "      <td>76677</td>\n",
       "    </tr>\n",
       "  </tbody>\n",
       "</table>\n",
       "<p>100 rows × 3 columns</p>\n",
       "</div>"
      ],
      "text/plain": [
       "       Name  Age  Salary\n",
       "0       Eve   31   62093\n",
       "1     Alice   21   56739\n",
       "2     David   30   79956\n",
       "3   Charlie   36   95795\n",
       "4      Jack   35   37642\n",
       "..      ...  ...     ...\n",
       "95   Hannah   31   86169\n",
       "96  Charlie   42   72740\n",
       "97    David   51   65063\n",
       "98    Alice   39   94180\n",
       "99    Grace   57   76677\n",
       "\n",
       "[100 rows x 3 columns]"
      ]
     },
     "execution_count": 9,
     "metadata": {},
     "output_type": "execute_result"
    }
   ],
   "source": [
    "import pandas as pd\n",
    "import random\n",
    "\n",
    "# Name list for generating random names\n",
    "names = ['Alice', 'Bob', 'Charlie', 'David', 'Eve', 'Frank', 'Grace', 'Hannah', 'Ivy', 'Jack']\n",
    "\n",
    "# Generate random data for 100 rows\n",
    "data = {\n",
    "    'Name': [random.choice(names) for _ in range(100)],\n",
    "    'Age': [random.randint(20, 60) for _ in range(100)],\n",
    "    'Salary': [random.randint(30000, 100000) for _ in range(100)]\n",
    "}\n",
    "\n",
    "df = pd.DataFrame(data) \n",
    "df"
   ]
  },
  {
   "cell_type": "markdown",
   "metadata": {},
   "source": [
    "## 4. 데이터 필터링 및 인덱싱\n",
    "- 이론: 조건을 사용하여 데이터를 필터링하거나 특정 인덱스를 선택할 수 있습니다."
   ]
  },
  {
   "cell_type": "code",
   "execution_count": 12,
   "metadata": {},
   "outputs": [
    {
     "name": "stdout",
     "output_type": "stream",
     "text": [
      "       Name  Age  Salary\n",
      "0       Eve   31   62093\n",
      "2     David   30   79956\n",
      "3   Charlie   36   95795\n",
      "4      Jack   35   37642\n",
      "5       Bob   55   69141\n",
      "..      ...  ...     ...\n",
      "95   Hannah   31   86169\n",
      "96  Charlie   42   72740\n",
      "97    David   51   65063\n",
      "98    Alice   39   94180\n",
      "99    Grace   57   76677\n",
      "\n",
      "[78 rows x 3 columns]\n",
      "78\n",
      "\n",
      "0     31\n",
      "1     21\n",
      "2     30\n",
      "3     36\n",
      "4     35\n",
      "      ..\n",
      "95    31\n",
      "96    42\n",
      "97    51\n",
      "98    39\n",
      "99    57\n",
      "Name: Age, Length: 100, dtype: int64\n"
     ]
    }
   ],
   "source": [
    "# 나이가 30 이상인 사람만 필터링\n",
    "df_filtered = df[df['Age'] >= 30]\n",
    "print(df_filtered)\n",
    "print(len(df_filtered))\n",
    "print()\n",
    "\n",
    "# 특정 열 선택\n",
    "ages = df['Age']\n",
    "print(ages)\n"
   ]
  },
  {
   "cell_type": "code",
   "execution_count": 13,
   "metadata": {},
   "outputs": [
    {
     "name": "stdout",
     "output_type": "stream",
     "text": [
      "       Name  Age  Salary\n",
      "3   Charlie   36   95795\n",
      "4      Jack   35   37642\n",
      "5       Bob   55   69141\n",
      "6     Alice   52   81544\n",
      "7     David   51   30476\n",
      "..      ...  ...     ...\n",
      "94    Grace   55   87462\n",
      "96  Charlie   42   72740\n",
      "97    David   51   65063\n",
      "98    Alice   39   94180\n",
      "99    Grace   57   76677\n",
      "\n",
      "[65 rows x 3 columns]\n",
      "\n",
      "       Name  Age  Salary   Bonus\n",
      "0       Eve   31   62093  6209.3\n",
      "1     Alice   21   56739  5673.9\n",
      "2     David   30   79956  7995.6\n",
      "3   Charlie   36   95795  9579.5\n",
      "4      Jack   35   37642  3764.2\n",
      "..      ...  ...     ...     ...\n",
      "95   Hannah   31   86169  8616.9\n",
      "96  Charlie   42   72740  7274.0\n",
      "97    David   51   65063  6506.3\n",
      "98    Alice   39   94180  9418.0\n",
      "99    Grace   57   76677  7667.7\n",
      "\n",
      "[100 rows x 4 columns]\n"
     ]
    }
   ],
   "source": [
    "# 조건에 맞는 데이터 필터링 (Age가 35 이상인 데이터)\n",
    "df_filtered = df[df['Age'] >= 35]\n",
    "print(df_filtered)\n",
    "print()\n",
    "\n",
    "# 새로운 컬럼 추가 (Salary의 10%를 bonus로 추가)\n",
    "df['Bonus'] = df['Salary'] * 0.1\n",
    "print(df) \n"
   ]
  },
  {
   "cell_type": "markdown",
   "metadata": {},
   "source": [
    "## 두 데이터프레임 병합"
   ]
  },
  {
   "cell_type": "code",
   "execution_count": 14,
   "metadata": {},
   "outputs": [
    {
     "name": "stdout",
     "output_type": "stream",
     "text": [
      "   ID     Name  Age\n",
      "0   1    Alice   25\n",
      "1   2      Bob   30\n",
      "2   3  Charlie   35\n"
     ]
    }
   ],
   "source": [
    "# 두 데이터프레임 병합 (공통된 'ID' 컬럼을 기준으로)\n",
    "df1 = pd.DataFrame({'ID': [1, 2, 3], 'Name': ['Alice', 'Bob', 'Charlie']})\n",
    "df2 = pd.DataFrame({'ID': [1, 2, 3], 'Age': [25, 30, 35]})\n",
    "df_merged = pd.merge(df1, df2, on='ID')\n",
    "print(df_merged)\n"
   ]
  },
  {
   "cell_type": "markdown",
   "metadata": {},
   "source": [
    "## 5. 데이터 정렬 및 순서 지정"
   ]
  },
  {
   "cell_type": "code",
   "execution_count": 20,
   "metadata": {},
   "outputs": [
    {
     "name": "stdout",
     "output_type": "stream",
     "text": [
      "        Name  Age  Salary   Bonus\n",
      "1    Charlie   38   30012  3001.2\n",
      "2        Eve   59   30115  3011.5\n",
      "3      David   51   30476  3047.6\n",
      "4    Charlie   37   30567  3056.7\n",
      "5        Eve   32   32111  3211.1\n",
      "..       ...  ...     ...     ...\n",
      "96   Charlie   43   94908  9490.8\n",
      "97   Charlie   36   95795  9579.5\n",
      "98     Grace   38   97778  9777.8\n",
      "99   Charlie   40   98569  9856.9\n",
      "100      Bob   29   99394  9939.4\n",
      "\n",
      "[100 rows x 4 columns]\n",
      "\n",
      "      Name  Age  Salary   Bonus\n",
      "36   Alice   60   37680  3768.0\n",
      "31   David   60   91025  9102.5\n",
      "87     Eve   59   30115  3011.5\n",
      "90    Jack   59   64720  6472.0\n",
      "33  Hannah   59   59089  5908.9\n",
      "..     ...  ...     ...     ...\n",
      "75  Hannah   22   53198  5319.8\n",
      "1    Alice   21   56739  5673.9\n",
      "81   Alice   21   69787  6978.7\n",
      "62     Bob   21   41173  4117.3\n",
      "77    Jack   20   85761  8576.1\n",
      "\n",
      "[100 rows x 4 columns]\n"
     ]
    }
   ],
   "source": [
    "# Salary 기준으로 오름차순 정렬\n",
    "df_sorted = df.sort_values(by='Salary')\n",
    "df_sorted.index = range(1,len(df_sorted)+1)\n",
    "print(df_sorted)\n",
    "print()\n",
    "\n",
    "# 나이 기준 내림차순 정렬\n",
    "df_sorted_desc = df.sort_values(by='Age', ascending=False)\n",
    "print(df_sorted_desc)\n",
    "\n"
   ]
  },
  {
   "cell_type": "markdown",
   "metadata": {},
   "source": [
    "## 6.결측치 처리\n",
    "- 이론: 결측치는 데이터 분석에서 중요한 문제입니다. Pandas는 결측치 처리 방법을 다양하게 제공합니다."
   ]
  },
  {
   "cell_type": "code",
   "execution_count": 21,
   "metadata": {},
   "outputs": [
    {
     "data": {
      "text/html": [
       "<div>\n",
       "<style scoped>\n",
       "    .dataframe tbody tr th:only-of-type {\n",
       "        vertical-align: middle;\n",
       "    }\n",
       "\n",
       "    .dataframe tbody tr th {\n",
       "        vertical-align: top;\n",
       "    }\n",
       "\n",
       "    .dataframe thead th {\n",
       "        text-align: right;\n",
       "    }\n",
       "</style>\n",
       "<table border=\"1\" class=\"dataframe\">\n",
       "  <thead>\n",
       "    <tr style=\"text-align: right;\">\n",
       "      <th></th>\n",
       "      <th>Name</th>\n",
       "      <th>Age</th>\n",
       "    </tr>\n",
       "  </thead>\n",
       "  <tbody>\n",
       "    <tr>\n",
       "      <th>0</th>\n",
       "      <td>Hannah</td>\n",
       "      <td>NaN</td>\n",
       "    </tr>\n",
       "    <tr>\n",
       "      <th>1</th>\n",
       "      <td>Ivy</td>\n",
       "      <td>49.0</td>\n",
       "    </tr>\n",
       "    <tr>\n",
       "      <th>2</th>\n",
       "      <td>Grace</td>\n",
       "      <td>37.0</td>\n",
       "    </tr>\n",
       "    <tr>\n",
       "      <th>3</th>\n",
       "      <td>Hannah</td>\n",
       "      <td>NaN</td>\n",
       "    </tr>\n",
       "    <tr>\n",
       "      <th>4</th>\n",
       "      <td>Bob</td>\n",
       "      <td>32.0</td>\n",
       "    </tr>\n",
       "    <tr>\n",
       "      <th>...</th>\n",
       "      <td>...</td>\n",
       "      <td>...</td>\n",
       "    </tr>\n",
       "    <tr>\n",
       "      <th>95</th>\n",
       "      <td>Grace</td>\n",
       "      <td>44.0</td>\n",
       "    </tr>\n",
       "    <tr>\n",
       "      <th>96</th>\n",
       "      <td>Grace</td>\n",
       "      <td>44.0</td>\n",
       "    </tr>\n",
       "    <tr>\n",
       "      <th>97</th>\n",
       "      <td>Jack</td>\n",
       "      <td>23.0</td>\n",
       "    </tr>\n",
       "    <tr>\n",
       "      <th>98</th>\n",
       "      <td>Jack</td>\n",
       "      <td>60.0</td>\n",
       "    </tr>\n",
       "    <tr>\n",
       "      <th>99</th>\n",
       "      <td>Ivy</td>\n",
       "      <td>NaN</td>\n",
       "    </tr>\n",
       "  </tbody>\n",
       "</table>\n",
       "<p>100 rows × 2 columns</p>\n",
       "</div>"
      ],
      "text/plain": [
       "      Name   Age\n",
       "0   Hannah   NaN\n",
       "1      Ivy  49.0\n",
       "2    Grace  37.0\n",
       "3   Hannah   NaN\n",
       "4      Bob  32.0\n",
       "..     ...   ...\n",
       "95   Grace  44.0\n",
       "96   Grace  44.0\n",
       "97    Jack  23.0\n",
       "98    Jack  60.0\n",
       "99     Ivy   NaN\n",
       "\n",
       "[100 rows x 2 columns]"
      ]
     },
     "execution_count": 21,
     "metadata": {},
     "output_type": "execute_result"
    }
   ],
   "source": [
    "# 결측치가 포함된 데이터프레임\n",
    "data_with_na = {\n",
    "    'Name': [random.choice(names + [None]) for _ in range(100)],\n",
    "    'Age': [random.choice([None, random.randint(20, 60)]) for _ in range(100)]\n",
    "}\n",
    "\n",
    "# Create DataFrame with NaN values\n",
    "df_with_na = pd.DataFrame(data_with_na)\n",
    "# 결측치 확인\n",
    "df_with_na"
   ]
  },
  {
   "cell_type": "code",
   "execution_count": 25,
   "metadata": {},
   "outputs": [
    {
     "name": "stdout",
     "output_type": "stream",
     "text": [
      "     Name    Age\n",
      "0   False   True\n",
      "1   False  False\n",
      "2   False  False\n",
      "3   False   True\n",
      "4   False  False\n",
      "..    ...    ...\n",
      "95  False  False\n",
      "96  False  False\n",
      "97  False  False\n",
      "98  False  False\n",
      "99  False   True\n",
      "\n",
      "[100 rows x 2 columns]\n",
      "Name    10\n",
      "Age     52\n",
      "dtype: int64\n"
     ]
    }
   ],
   "source": [
    "print(df_with_na.isnull())\n",
    "print(df_with_na.isnull().sum())"
   ]
  },
  {
   "cell_type": "code",
   "execution_count": 26,
   "metadata": {},
   "outputs": [
    {
     "name": "stdout",
     "output_type": "stream",
     "text": [
      "\n",
      "      Name   Age\n",
      "0   Hannah   0.0\n",
      "1      Ivy  49.0\n",
      "2    Grace  37.0\n",
      "3   Hannah   0.0\n",
      "4      Bob  32.0\n",
      "..     ...   ...\n",
      "95   Grace  44.0\n",
      "96   Grace  44.0\n",
      "97    Jack  23.0\n",
      "98    Jack  60.0\n",
      "99     Ivy   0.0\n",
      "\n",
      "[100 rows x 2 columns]\n"
     ]
    }
   ],
   "source": [
    "## 결측치 0으로 제거\n",
    "df_filled = df_with_na.fillna(0)\n",
    "print()\n",
    "print(df_filled)\n"
   ]
  },
  {
   "cell_type": "code",
   "execution_count": null,
   "metadata": {},
   "outputs": [
    {
     "name": "stdout",
     "output_type": "stream",
     "text": [
      "\n",
      "       Name   Age\n",
      "1       Ivy  49.0\n",
      "2     Grace  37.0\n",
      "3       Bob  32.0\n",
      "4       Ivy  53.0\n",
      "5     Alice  25.0\n",
      "6     David  39.0\n",
      "7     Alice  35.0\n",
      "8      Jack  42.0\n",
      "9       Eve  56.0\n",
      "10  Charlie  51.0\n",
      "11  Charlie  24.0\n",
      "12  Charlie  32.0\n",
      "13      Bob  27.0\n",
      "14   Hannah  38.0\n",
      "15     Jack  51.0\n",
      "16    Grace  45.0\n",
      "17    Alice  20.0\n",
      "18      Bob  38.0\n",
      "19    Alice  44.0\n",
      "20      Eve  34.0\n",
      "21     Jack  55.0\n",
      "22     Jack  60.0\n",
      "23      Ivy  31.0\n",
      "24   Hannah  39.0\n",
      "25      Bob  50.0\n",
      "26     Jack  51.0\n",
      "27    Alice  56.0\n",
      "28     Jack  32.0\n",
      "29      Bob  28.0\n",
      "30   Hannah  22.0\n",
      "31  Charlie  27.0\n",
      "32    Grace  24.0\n",
      "33      Eve  42.0\n",
      "34    Frank  26.0\n",
      "35   Hannah  33.0\n",
      "36    David  41.0\n",
      "37    Grace  51.0\n",
      "38      Ivy  56.0\n",
      "39   Hannah  46.0\n",
      "40  Charlie  29.0\n",
      "41      Bob  49.0\n",
      "42    Grace  44.0\n",
      "43    Grace  44.0\n",
      "44     Jack  23.0\n",
      "45     Jack  60.0\n"
     ]
    }
   ],
   "source": [
    "\n",
    "\n",
    "# 결측치 있는 행 제거\n",
    "df_dropped = df_with_na.dropna()\n",
    "df_dropped.index = range(1,len(df_dropped)+1)\n",
    "print()\n",
    "print(df_dropped)"
   ]
  },
  {
   "cell_type": "markdown",
   "metadata": {},
   "source": [
    "## 7. 데이터 병합 및 합치기\n",
    "- 이론: concat()과 merge()를 사용하여 여러 데이터프레임을 병합할 수 있습니다."
   ]
  },
  {
   "cell_type": "code",
   "execution_count": 11,
   "metadata": {},
   "outputs": [
    {
     "name": "stdout",
     "output_type": "stream",
     "text": [
      "   ID     Name  Age\n",
      "0   1    Alice   25\n",
      "1   2      Bob   30\n",
      "2   3  Charlie   35\n",
      "\n",
      "   ID     Name  ID  Age\n",
      "0   1    Alice   1   25\n",
      "1   2      Bob   2   30\n",
      "2   3  Charlie   3   35\n"
     ]
    }
   ],
   "source": [
    "# 데이터프레임 생성\n",
    "df1 = pd.DataFrame({'ID': [1, 2, 3], 'Name': ['Alice', 'Bob', 'Charlie']})\n",
    "df2 = pd.DataFrame({'ID': [1, 2, 3], 'Age': [25, 30, 35]})\n",
    "\n",
    "# ID를 기준으로 병합\n",
    "df_merged = pd.merge(df1, df2, on='ID')\n",
    "print(df_merged)\n",
    "\n",
    "# 수평 병합 (axis=1)\n",
    "df_concat = pd.concat([df1, df2], axis=1)\n",
    "print()\n",
    "print(df_concat)\n"
   ]
  },
  {
   "cell_type": "markdown",
   "metadata": {},
   "source": [
    "## 8. 그룹화 및 집계\n",
    "- 이론: groupby() 함수는 데이터를 그룹화하고, 그룹별로 집계할 수 있게 해줍니다."
   ]
  },
  {
   "cell_type": "code",
   "execution_count": 31,
   "metadata": {},
   "outputs": [
    {
     "data": {
      "text/html": [
       "<div>\n",
       "<style scoped>\n",
       "    .dataframe tbody tr th:only-of-type {\n",
       "        vertical-align: middle;\n",
       "    }\n",
       "\n",
       "    .dataframe tbody tr th {\n",
       "        vertical-align: top;\n",
       "    }\n",
       "\n",
       "    .dataframe thead th {\n",
       "        text-align: right;\n",
       "    }\n",
       "</style>\n",
       "<table border=\"1\" class=\"dataframe\">\n",
       "  <thead>\n",
       "    <tr style=\"text-align: right;\">\n",
       "      <th></th>\n",
       "      <th>Department</th>\n",
       "      <th>Salary</th>\n",
       "    </tr>\n",
       "  </thead>\n",
       "  <tbody>\n",
       "    <tr>\n",
       "      <th>0</th>\n",
       "      <td>IT</td>\n",
       "      <td>45774</td>\n",
       "    </tr>\n",
       "    <tr>\n",
       "      <th>1</th>\n",
       "      <td>Design</td>\n",
       "      <td>64181</td>\n",
       "    </tr>\n",
       "    <tr>\n",
       "      <th>2</th>\n",
       "      <td>Design</td>\n",
       "      <td>47180</td>\n",
       "    </tr>\n",
       "    <tr>\n",
       "      <th>3</th>\n",
       "      <td>Design</td>\n",
       "      <td>52913</td>\n",
       "    </tr>\n",
       "    <tr>\n",
       "      <th>4</th>\n",
       "      <td>Design</td>\n",
       "      <td>77315</td>\n",
       "    </tr>\n",
       "    <tr>\n",
       "      <th>...</th>\n",
       "      <td>...</td>\n",
       "      <td>...</td>\n",
       "    </tr>\n",
       "    <tr>\n",
       "      <th>95</th>\n",
       "      <td>IT</td>\n",
       "      <td>67235</td>\n",
       "    </tr>\n",
       "    <tr>\n",
       "      <th>96</th>\n",
       "      <td>IT</td>\n",
       "      <td>62042</td>\n",
       "    </tr>\n",
       "    <tr>\n",
       "      <th>97</th>\n",
       "      <td>IT</td>\n",
       "      <td>69627</td>\n",
       "    </tr>\n",
       "    <tr>\n",
       "      <th>98</th>\n",
       "      <td>HR</td>\n",
       "      <td>66318</td>\n",
       "    </tr>\n",
       "    <tr>\n",
       "      <th>99</th>\n",
       "      <td>IT</td>\n",
       "      <td>64683</td>\n",
       "    </tr>\n",
       "  </tbody>\n",
       "</table>\n",
       "<p>100 rows × 2 columns</p>\n",
       "</div>"
      ],
      "text/plain": [
       "   Department  Salary\n",
       "0          IT   45774\n",
       "1      Design   64181\n",
       "2      Design   47180\n",
       "3      Design   52913\n",
       "4      Design   77315\n",
       "..        ...     ...\n",
       "95         IT   67235\n",
       "96         IT   62042\n",
       "97         IT   69627\n",
       "98         HR   66318\n",
       "99         IT   64683\n",
       "\n",
       "[100 rows x 2 columns]"
      ]
     },
     "execution_count": 31,
     "metadata": {},
     "output_type": "execute_result"
    }
   ],
   "source": [
    "# 데이터프레임 생성\n",
    "# Define possible department values\n",
    "departments = ['HR', 'IT','Design']\n",
    "\n",
    "# Generate random data for 100 rows\n",
    "data_department_salary = {\n",
    "    'Department': [random.choice(departments) for _ in range(100)],\n",
    "    'Salary': [random.randint(40000, 80000) for _ in range(100)]\n",
    "}\n",
    "\n",
    "df = pd.DataFrame(data_department_salary) \n",
    "df\n"
   ]
  },
  {
   "cell_type": "code",
   "execution_count": 35,
   "metadata": {},
   "outputs": [
    {
     "name": "stdout",
     "output_type": "stream",
     "text": [
      "36\n",
      "38\n",
      "26\n"
     ]
    }
   ],
   "source": [
    "print(len(df[df[\"Department\"]==\"Design\"]))\n",
    "print(len(df[df[\"Department\"]==\"IT\"] ))\n",
    "print(len(df[df[\"Department\"]==\"HR\"]))"
   ]
  },
  {
   "cell_type": "code",
   "execution_count": 41,
   "metadata": {},
   "outputs": [
    {
     "name": "stdout",
     "output_type": "stream",
     "text": [
      "<pandas.core.groupby.generic.SeriesGroupBy object at 0x10fdf7a50>\n",
      "Department\n",
      "Design    62658.3\n",
      "HR        61626.5\n",
      "IT        60029.6\n",
      "Name: Salary, dtype: float64\n",
      "Department\n",
      "Design    44083\n",
      "HR        40524\n",
      "IT        41310\n",
      "Name: Salary, dtype: int64\n",
      "Department\n",
      "Design    79773\n",
      "HR        79558\n",
      "IT        78852\n",
      "Name: Salary, dtype: int64\n"
     ]
    }
   ],
   "source": [
    "grouped_df = df.groupby('Department')['Salary']\n",
    "print(grouped_df)\n",
    "# 부서별 평균 급여 계산\n",
    "print(round(grouped_df.mean(),1))\n",
    "print(round(grouped_df.min(),1))\n",
    "print(round(grouped_df.max(),1))\n",
    "\n"
   ]
  },
  {
   "cell_type": "markdown",
   "metadata": {},
   "source": [
    "## 9. 데이터 변환 및 적용\n",
    "- 이론: apply(), map(), applymap()을 사용하여 데이터에 함수를 적용할 수 있습니다.\n"
   ]
  },
  {
   "cell_type": "code",
   "execution_count": 43,
   "metadata": {},
   "outputs": [
    {
     "name": "stdout",
     "output_type": "stream",
     "text": [
      "    Age     Name\n",
      "0    32    David\n",
      "1    50     John\n",
      "2    50    Alice\n",
      "3    46    Grace\n",
      "4    40    Alice\n",
      "5    26    David\n",
      "6    32    Frank\n",
      "7    21  Charlie\n",
      "8    36    Frank\n",
      "9    43    David\n",
      "10   45      Ivy\n",
      "11   36    David\n",
      "12   24      Eve\n",
      "13   20    Grace\n",
      "14   31    Frank\n",
      "15   26     John\n",
      "16   29    Frank\n",
      "17   31    Frank\n",
      "18   26  Charlie\n",
      "19   29    David\n"
     ]
    }
   ],
   "source": [
    "import pandas as pd\n",
    "\n",
    "# 예시 데이터셋 생성\n",
    "names = ['John', 'Alice', 'Bob', 'Charlie', 'David', 'Eve', 'Frank', 'Grace', 'Hannah', 'Ivy']\n",
    "\n",
    "data_random = {\n",
    "    'Age': [random.randint(20, 50) for _ in range(20)],\n",
    "    'Name': [random.choice(names) for _ in range(20)]\n",
    "}\n",
    "\n",
    "df = pd.DataFrame(data_random)\n",
    "print(df) \n"
   ]
  },
  {
   "cell_type": "code",
   "execution_count": 44,
   "metadata": {},
   "outputs": [
    {
     "name": "stdout",
     "output_type": "stream",
     "text": [
      "    Age     Name  Age_plus_1\n",
      "0    32    David          33\n",
      "1    50     John          51\n",
      "2    50    Alice          51\n",
      "3    46    Grace          47\n",
      "4    40    Alice          41\n",
      "5    26    David          27\n",
      "6    32    Frank          33\n",
      "7    21  Charlie          22\n",
      "8    36    Frank          37\n",
      "9    43    David          44\n",
      "10   45      Ivy          46\n",
      "11   36    David          37\n",
      "12   24      Eve          25\n",
      "13   20    Grace          21\n",
      "14   31    Frank          32\n",
      "15   26     John          27\n",
      "16   29    Frank          30\n",
      "17   31    Frank          32\n",
      "18   26  Charlie          27\n",
      "19   29    David          30\n",
      "\n"
     ]
    }
   ],
   "source": [
    "\n",
    "\n",
    "# 나이 값에 1을 더하는 함수\n",
    "df['Age_plus_1'] = df['Age'].apply(lambda x: x + 1)\n",
    "print(df)\n",
    "print() \n"
   ]
  },
  {
   "cell_type": "code",
   "execution_count": 45,
   "metadata": {},
   "outputs": [
    {
     "name": "stdout",
     "output_type": "stream",
     "text": [
      "    Age     Name  Age_plus_1 Name_upper\n",
      "0    32    David          33      DAVID\n",
      "1    50     John          51       JOHN\n",
      "2    50    Alice          51      ALICE\n",
      "3    46    Grace          47      GRACE\n",
      "4    40    Alice          41      ALICE\n",
      "5    26    David          27      DAVID\n",
      "6    32    Frank          33      FRANK\n",
      "7    21  Charlie          22    CHARLIE\n",
      "8    36    Frank          37      FRANK\n",
      "9    43    David          44      DAVID\n",
      "10   45      Ivy          46        IVY\n",
      "11   36    David          37      DAVID\n",
      "12   24      Eve          25        EVE\n",
      "13   20    Grace          21      GRACE\n",
      "14   31    Frank          32      FRANK\n",
      "15   26     John          27       JOHN\n",
      "16   29    Frank          30      FRANK\n",
      "17   31    Frank          32      FRANK\n",
      "18   26  Charlie          27    CHARLIE\n",
      "19   29    David          30      DAVID\n"
     ]
    }
   ],
   "source": [
    "\n",
    "# 문자열 값을 대문자로 변환\n",
    "df['Name_upper'] = df['Name'].map(lambda x: x.upper())\n",
    "print(df)"
   ]
  },
  {
   "cell_type": "markdown",
   "metadata": {},
   "source": [
    "## 10. 문자열 처리\n",
    "- 이론: Pandas는 문자열을 쉽게 처리할 수 있는 기능을 제공합니다.\n"
   ]
  },
  {
   "cell_type": "code",
   "execution_count": 47,
   "metadata": {},
   "outputs": [
    {
     "data": {
      "text/html": [
       "<div>\n",
       "<style scoped>\n",
       "    .dataframe tbody tr th:only-of-type {\n",
       "        vertical-align: middle;\n",
       "    }\n",
       "\n",
       "    .dataframe tbody tr th {\n",
       "        vertical-align: top;\n",
       "    }\n",
       "\n",
       "    .dataframe thead th {\n",
       "        text-align: right;\n",
       "    }\n",
       "</style>\n",
       "<table border=\"1\" class=\"dataframe\">\n",
       "  <thead>\n",
       "    <tr style=\"text-align: right;\">\n",
       "      <th></th>\n",
       "      <th>Email</th>\n",
       "    </tr>\n",
       "  </thead>\n",
       "  <tbody>\n",
       "    <tr>\n",
       "      <th>0</th>\n",
       "      <td>alice@example.com</td>\n",
       "    </tr>\n",
       "    <tr>\n",
       "      <th>1</th>\n",
       "      <td>bob@example.com</td>\n",
       "    </tr>\n",
       "    <tr>\n",
       "      <th>2</th>\n",
       "      <td>charlie@example.com</td>\n",
       "    </tr>\n",
       "  </tbody>\n",
       "</table>\n",
       "</div>"
      ],
      "text/plain": [
       "                 Email\n",
       "0    alice@example.com\n",
       "1      bob@example.com\n",
       "2  charlie@example.com"
      ]
     },
     "execution_count": 47,
     "metadata": {},
     "output_type": "execute_result"
    }
   ],
   "source": [
    "# 문자열 데이터가 있는 DataFrame\n",
    "df = pd.DataFrame({\n",
    "    'Email': ['alice@example.com', 'bob@example.com', 'charlie@example.com']\n",
    "})\n",
    "df\n"
   ]
  },
  {
   "cell_type": "code",
   "execution_count": 50,
   "metadata": {},
   "outputs": [
    {
     "name": "stdout",
     "output_type": "stream",
     "text": [
      "                  Email     name\n",
      "0     grace@example.com    grace\n",
      "1     alice@example.com    alice\n",
      "2       eve@example.com      eve\n",
      "3       eve@example.com      eve\n",
      "4       eve@example.com      eve\n",
      "5     grace@example.com    grace\n",
      "6     frank@example.com    frank\n",
      "7   charlie@example.com  charlie\n",
      "8       bob@example.com      bob\n",
      "9   charlie@example.com  charlie\n",
      "10  charlie@example.com  charlie\n",
      "11      ivy@example.com      ivy\n",
      "12    frank@example.com    frank\n",
      "13    david@example.com    david\n",
      "14      eve@example.com      eve\n",
      "15    david@example.com    david\n",
      "16      eve@example.com      eve\n",
      "17     john@example.com     john\n",
      "18    grace@example.com    grace\n",
      "19  charlie@example.com  charlie\n"
     ]
    }
   ],
   "source": [
    "\n",
    "emails = [f\"{random.choice(names).lower()}@example.com\" for _ in range(20)]\n",
    "\n",
    "# Create DataFrame with random email addresses\n",
    "df = pd.DataFrame({'Email': emails})\n",
    "\n",
    "# 이메일에서 도메인 부분만 추출\n",
    "df['name'] = df['Email'].str.split('@').str[0]\n",
    "print(df)\n"
   ]
  },
  {
   "cell_type": "markdown",
   "metadata": {},
   "source": [
    "## 11. 날짜 및 시간 처리\n",
    "- 이론: Pandas는 날짜 및 시간 데이터를 쉽게 처리할 수 있는 기능을 제공합니다."
   ]
  },
  {
   "cell_type": "code",
   "execution_count": 51,
   "metadata": {},
   "outputs": [
    {
     "data": {
      "text/html": [
       "<div>\n",
       "<style scoped>\n",
       "    .dataframe tbody tr th:only-of-type {\n",
       "        vertical-align: middle;\n",
       "    }\n",
       "\n",
       "    .dataframe tbody tr th {\n",
       "        vertical-align: top;\n",
       "    }\n",
       "\n",
       "    .dataframe thead th {\n",
       "        text-align: right;\n",
       "    }\n",
       "</style>\n",
       "<table border=\"1\" class=\"dataframe\">\n",
       "  <thead>\n",
       "    <tr style=\"text-align: right;\">\n",
       "      <th></th>\n",
       "      <th>Date</th>\n",
       "    </tr>\n",
       "  </thead>\n",
       "  <tbody>\n",
       "    <tr>\n",
       "      <th>0</th>\n",
       "      <td>2021-01-01</td>\n",
       "    </tr>\n",
       "    <tr>\n",
       "      <th>1</th>\n",
       "      <td>2021-02-01</td>\n",
       "    </tr>\n",
       "    <tr>\n",
       "      <th>2</th>\n",
       "      <td>2021-03-01</td>\n",
       "    </tr>\n",
       "  </tbody>\n",
       "</table>\n",
       "</div>"
      ],
      "text/plain": [
       "         Date\n",
       "0  2021-01-01\n",
       "1  2021-02-01\n",
       "2  2021-03-01"
      ]
     },
     "execution_count": 51,
     "metadata": {},
     "output_type": "execute_result"
    }
   ],
   "source": [
    "# 날짜 문자열을 datetime 형식으로 변환\n",
    "df = pd.DataFrame({\n",
    "    'Date': ['2021-01-01', '2021-02-01', '2021-03-01']\n",
    "})\n",
    "\n",
    "df"
   ]
  },
  {
   "cell_type": "code",
   "execution_count": 53,
   "metadata": {},
   "outputs": [
    {
     "data": {
      "text/html": [
       "<div>\n",
       "<style scoped>\n",
       "    .dataframe tbody tr th:only-of-type {\n",
       "        vertical-align: middle;\n",
       "    }\n",
       "\n",
       "    .dataframe tbody tr th {\n",
       "        vertical-align: top;\n",
       "    }\n",
       "\n",
       "    .dataframe thead th {\n",
       "        text-align: right;\n",
       "    }\n",
       "</style>\n",
       "<table border=\"1\" class=\"dataframe\">\n",
       "  <thead>\n",
       "    <tr style=\"text-align: right;\">\n",
       "      <th></th>\n",
       "      <th>Date</th>\n",
       "    </tr>\n",
       "  </thead>\n",
       "  <tbody>\n",
       "    <tr>\n",
       "      <th>0</th>\n",
       "      <td>2021-08-23</td>\n",
       "    </tr>\n",
       "    <tr>\n",
       "      <th>1</th>\n",
       "      <td>2023-11-27</td>\n",
       "    </tr>\n",
       "    <tr>\n",
       "      <th>2</th>\n",
       "      <td>2020-01-04</td>\n",
       "    </tr>\n",
       "    <tr>\n",
       "      <th>3</th>\n",
       "      <td>2020-11-13</td>\n",
       "    </tr>\n",
       "    <tr>\n",
       "      <th>4</th>\n",
       "      <td>2022-07-02</td>\n",
       "    </tr>\n",
       "    <tr>\n",
       "      <th>...</th>\n",
       "      <td>...</td>\n",
       "    </tr>\n",
       "    <tr>\n",
       "      <th>95</th>\n",
       "      <td>2022-10-28</td>\n",
       "    </tr>\n",
       "    <tr>\n",
       "      <th>96</th>\n",
       "      <td>2021-12-23</td>\n",
       "    </tr>\n",
       "    <tr>\n",
       "      <th>97</th>\n",
       "      <td>2020-07-28</td>\n",
       "    </tr>\n",
       "    <tr>\n",
       "      <th>98</th>\n",
       "      <td>2023-11-10</td>\n",
       "    </tr>\n",
       "    <tr>\n",
       "      <th>99</th>\n",
       "      <td>2020-12-20</td>\n",
       "    </tr>\n",
       "  </tbody>\n",
       "</table>\n",
       "<p>100 rows × 1 columns</p>\n",
       "</div>"
      ],
      "text/plain": [
       "         Date\n",
       "0  2021-08-23\n",
       "1  2023-11-27\n",
       "2  2020-01-04\n",
       "3  2020-11-13\n",
       "4  2022-07-02\n",
       "..        ...\n",
       "95 2022-10-28\n",
       "96 2021-12-23\n",
       "97 2020-07-28\n",
       "98 2023-11-10\n",
       "99 2020-12-20\n",
       "\n",
       "[100 rows x 1 columns]"
      ]
     },
     "execution_count": 53,
     "metadata": {},
     "output_type": "execute_result"
    }
   ],
   "source": [
    "date_range = pd.date_range(start=\"2020-01-01\", end=\"2023-12-31\", freq=\"D\")\n",
    "\n",
    "# Randomly sample 100 dates from the range\n",
    "random_dates = random.sample(list(date_range), 100)\n",
    "df = pd.DataFrame({'Date':random_dates})\n",
    "df\n"
   ]
  },
  {
   "cell_type": "code",
   "execution_count": 54,
   "metadata": {},
   "outputs": [
    {
     "name": "stdout",
     "output_type": "stream",
     "text": [
      "         Date\n",
      "0  2021-08-23\n",
      "1  2023-11-27\n",
      "2  2020-01-04\n",
      "3  2020-11-13\n",
      "4  2022-07-02\n",
      "..        ...\n",
      "95 2022-10-28\n",
      "96 2021-12-23\n",
      "97 2020-07-28\n",
      "98 2023-11-10\n",
      "99 2020-12-20\n",
      "\n",
      "[100 rows x 1 columns]\n",
      "         Date  Days_Since\n",
      "0  2021-08-23        1265\n",
      "1  2023-11-27         439\n",
      "2  2020-01-04        1862\n",
      "3  2020-11-13        1548\n",
      "4  2022-07-02         952\n",
      "..        ...         ...\n",
      "95 2022-10-28         834\n",
      "96 2021-12-23        1143\n",
      "97 2020-07-28        1656\n",
      "98 2023-11-10         456\n",
      "99 2020-12-20        1511\n",
      "\n",
      "[100 rows x 2 columns]\n"
     ]
    }
   ],
   "source": [
    "\n",
    "df['Date'] = pd.to_datetime(df['Date'])\n",
    "print(df)\n",
    "\n",
    "# 날짜 차이 계산\n",
    "today = pd.to_datetime('2025-02-08')\n",
    "df['Days_Since'] = (today - df['Date']).dt.days\n",
    "print(df)\n"
   ]
  },
  {
   "cell_type": "markdown",
   "metadata": {},
   "source": [
    "## 12. 고급 분석 기법\n",
    "- 이론: 피벗 테이블 및 다양한 통계 분석을 통해 데이터를 심도 깊게 분석할 수 있습니다."
   ]
  },
  {
   "cell_type": "code",
   "execution_count": 55,
   "metadata": {},
   "outputs": [
    {
     "name": "stdout",
     "output_type": "stream",
     "text": [
      "             Salary\n",
      "Department         \n",
      "HR          56000.0\n",
      "IT          57500.0\n"
     ]
    }
   ],
   "source": [
    "# 피벗 테이블 생성\n",
    "df = pd.DataFrame({\n",
    "    'Department': ['HR', 'IT', 'IT', 'HR', 'HR'],\n",
    "    'Salary': [50000, 60000, 55000, 70000, 48000],\n",
    "    'Age': [25, 30, 35, 40, 45]\n",
    "})\n",
    "pivot = df.pivot_table(values='Salary', index='Department', aggfunc='mean')\n",
    "print(pivot)\n"
   ]
  },
  {
   "cell_type": "code",
   "execution_count": 4,
   "metadata": {},
   "outputs": [
    {
     "data": {
      "text/html": [
       "<div>\n",
       "<style scoped>\n",
       "    .dataframe tbody tr th:only-of-type {\n",
       "        vertical-align: middle;\n",
       "    }\n",
       "\n",
       "    .dataframe tbody tr th {\n",
       "        vertical-align: top;\n",
       "    }\n",
       "\n",
       "    .dataframe thead th {\n",
       "        text-align: right;\n",
       "    }\n",
       "</style>\n",
       "<table border=\"1\" class=\"dataframe\">\n",
       "  <thead>\n",
       "    <tr style=\"text-align: right;\">\n",
       "      <th></th>\n",
       "      <th>Department</th>\n",
       "      <th>Salary</th>\n",
       "      <th>Age</th>\n",
       "    </tr>\n",
       "  </thead>\n",
       "  <tbody>\n",
       "    <tr>\n",
       "      <th>0</th>\n",
       "      <td>FrontEnd</td>\n",
       "      <td>69892</td>\n",
       "      <td>34</td>\n",
       "    </tr>\n",
       "    <tr>\n",
       "      <th>1</th>\n",
       "      <td>BackEnd</td>\n",
       "      <td>70488</td>\n",
       "      <td>26</td>\n",
       "    </tr>\n",
       "    <tr>\n",
       "      <th>2</th>\n",
       "      <td>FrontEnd</td>\n",
       "      <td>64909</td>\n",
       "      <td>41</td>\n",
       "    </tr>\n",
       "    <tr>\n",
       "      <th>3</th>\n",
       "      <td>FrontEnd</td>\n",
       "      <td>50709</td>\n",
       "      <td>43</td>\n",
       "    </tr>\n",
       "    <tr>\n",
       "      <th>4</th>\n",
       "      <td>HR</td>\n",
       "      <td>50525</td>\n",
       "      <td>39</td>\n",
       "    </tr>\n",
       "    <tr>\n",
       "      <th>...</th>\n",
       "      <td>...</td>\n",
       "      <td>...</td>\n",
       "      <td>...</td>\n",
       "    </tr>\n",
       "    <tr>\n",
       "      <th>95</th>\n",
       "      <td>IT</td>\n",
       "      <td>76291</td>\n",
       "      <td>40</td>\n",
       "    </tr>\n",
       "    <tr>\n",
       "      <th>96</th>\n",
       "      <td>HR</td>\n",
       "      <td>47215</td>\n",
       "      <td>50</td>\n",
       "    </tr>\n",
       "    <tr>\n",
       "      <th>97</th>\n",
       "      <td>IT</td>\n",
       "      <td>50196</td>\n",
       "      <td>26</td>\n",
       "    </tr>\n",
       "    <tr>\n",
       "      <th>98</th>\n",
       "      <td>HR</td>\n",
       "      <td>61617</td>\n",
       "      <td>20</td>\n",
       "    </tr>\n",
       "    <tr>\n",
       "      <th>99</th>\n",
       "      <td>IT</td>\n",
       "      <td>55900</td>\n",
       "      <td>43</td>\n",
       "    </tr>\n",
       "  </tbody>\n",
       "</table>\n",
       "<p>100 rows × 3 columns</p>\n",
       "</div>"
      ],
      "text/plain": [
       "   Department  Salary  Age\n",
       "0    FrontEnd   69892   34\n",
       "1     BackEnd   70488   26\n",
       "2    FrontEnd   64909   41\n",
       "3    FrontEnd   50709   43\n",
       "4          HR   50525   39\n",
       "..        ...     ...  ...\n",
       "95         IT   76291   40\n",
       "96         HR   47215   50\n",
       "97         IT   50196   26\n",
       "98         HR   61617   20\n",
       "99         IT   55900   43\n",
       "\n",
       "[100 rows x 3 columns]"
      ]
     },
     "execution_count": 4,
     "metadata": {},
     "output_type": "execute_result"
    }
   ],
   "source": [
    "import pandas as pd\n",
    "import random\n",
    "departments = ['Design', 'FrontEnd', 'BackEnd', 'IT', 'HR']\n",
    "\n",
    "# Generate random data for the dataframe\n",
    "data_random_departments = {\n",
    "    'Department': [random.choice(departments) for _ in range(100)],\n",
    "    'Salary': [random.randint(40000, 80000) for _ in range(100)],\n",
    "    'Age': [random.randint(20, 50) for _ in range(100)]\n",
    "}\n",
    "\n",
    "# Create DataFrame with random data\n",
    "df = pd.DataFrame(data_random_departments)\n",
    "df\n"
   ]
  },
  {
   "cell_type": "code",
   "execution_count": 5,
   "metadata": {},
   "outputs": [
    {
     "name": "stdout",
     "output_type": "stream",
     "text": [
      "             Salary\n",
      "Department         \n",
      "BackEnd     1262233\n",
      "Design      1146977\n",
      "FrontEnd    1079646\n",
      "HR          1200345\n",
      "IT          1345468\n"
     ]
    }
   ],
   "source": [
    "pivot_sum = df.pivot_table(values='Salary', index='Department', aggfunc='sum')\n",
    "print(pivot_sum)"
   ]
  },
  {
   "cell_type": "code",
   "execution_count": 6,
   "metadata": {},
   "outputs": [
    {
     "name": "stdout",
     "output_type": "stream",
     "text": [
      "            Salary\n",
      "Department        \n",
      "BackEnd      79527\n",
      "Design       77169\n",
      "FrontEnd     78495\n",
      "HR           77561\n",
      "IT           78229\n"
     ]
    }
   ],
   "source": [
    "pivot_max = df.pivot_table(values='Salary', index='Department', aggfunc='max')\n",
    "print(pivot_max)"
   ]
  },
  {
   "cell_type": "code",
   "execution_count": 7,
   "metadata": {},
   "outputs": [
    {
     "name": "stdout",
     "output_type": "stream",
     "text": [
      "            Salary\n",
      "Department        \n",
      "BackEnd      44059\n",
      "Design       41903\n",
      "FrontEnd     40643\n",
      "HR           45726\n",
      "IT           42355\n"
     ]
    }
   ],
   "source": [
    "pivot_min = df.pivot_table(values='Salary', index='Department', aggfunc='min')\n",
    "print(pivot_min)"
   ]
  },
  {
   "cell_type": "code",
   "execution_count": 9,
   "metadata": {},
   "outputs": [
    {
     "name": "stdout",
     "output_type": "stream",
     "text": [
      "             Salary\n",
      "Department         \n",
      "BackEnd     63111.6\n",
      "Design      60367.2\n",
      "FrontEnd    56823.5\n",
      "HR          63176.1\n",
      "IT          58498.6\n"
     ]
    }
   ],
   "source": [
    "pivot_fill = round(df.pivot_table(values='Salary', index='Department', aggfunc='mean', fill_value=0),1)\n",
    "print(pivot_fill)"
   ]
  },
  {
   "cell_type": "code",
   "execution_count": 11,
   "metadata": {},
   "outputs": [
    {
     "name": "stdout",
     "output_type": "stream",
     "text": [
      "             Age   Salary\n",
      "Department               \n",
      "BackEnd     38.6  63111.6\n",
      "Design      32.6  60367.2\n",
      "FrontEnd    34.5  56823.5\n",
      "HR          35.2  63176.1\n",
      "IT          32.3  58498.6\n"
     ]
    }
   ],
   "source": [
    "pivot_multi = round(df.pivot_table(values=['Salary', 'Age'], index='Department', aggfunc='mean'),1)\n",
    "print(pivot_multi)"
   ]
  },
  {
   "cell_type": "markdown",
   "metadata": {},
   "source": [
    "## 13. Pandas를 이용한 시각화\n",
    "- 이론: Pandas는 기본적인 시각화 기능을 내장하고 있습니다. plot() 함수를 사용하여 데이터를 시각화할 수 있습니다."
   ]
  },
  {
   "cell_type": "code",
   "execution_count": 12,
   "metadata": {},
   "outputs": [
    {
     "data": {
      "image/png": "[encoded data removed]",
      "text/plain": [
       "<Figure size 640x480 with 1 Axes>"
      ]
     },
     "metadata": {},
     "output_type": "display_data"
    }
   ],
   "source": [
    "import matplotlib.pyplot as plt\n",
    "\n",
    "# 간단한 데이터 시각화\n",
    "departments = ['Design', 'FrontEnd', 'BackEnd', 'IT', 'HR']\n",
    "\n",
    "# Generate random data for the dataframe\n",
    "data_random_departments = {\n",
    "    'Department': [random.choice(departments) for _ in range(100)],\n",
    "    'Salary': [random.randint(40000, 80000) for _ in range(100)],    \n",
    "}\n",
    "\n",
    "\n",
    "df.groupby('Department')['Salary'].mean().plot(kind='bar')\n",
    "plt.title('Average Salary by Department')\n",
    "plt.show()\n"
   ]
  },
  {
   "cell_type": "markdown",
   "metadata": {},
   "source": [
    "## 15. 최적화 및 성능 개선\n",
    "- 이론: 대용량 데이터를 다룰 때 성능을 최적화할 수 있는 방법을 설명합니다."
   ]
  },
  {
   "cell_type": "code",
   "execution_count": 26,
   "metadata": {},
   "outputs": [
    {
     "data": {
      "text/html": [
       "<div>\n",
       "<style scoped>\n",
       "    .dataframe tbody tr th:only-of-type {\n",
       "        vertical-align: middle;\n",
       "    }\n",
       "\n",
       "    .dataframe tbody tr th {\n",
       "        vertical-align: top;\n",
       "    }\n",
       "\n",
       "    .dataframe thead th {\n",
       "        text-align: right;\n",
       "    }\n",
       "</style>\n",
       "<table border=\"1\" class=\"dataframe\">\n",
       "  <thead>\n",
       "    <tr style=\"text-align: right;\">\n",
       "      <th></th>\n",
       "      <th>Age</th>\n",
       "      <th>Salary</th>\n",
       "    </tr>\n",
       "  </thead>\n",
       "  <tbody>\n",
       "    <tr>\n",
       "      <th>0</th>\n",
       "      <td>59</td>\n",
       "      <td>48032.536637</td>\n",
       "    </tr>\n",
       "    <tr>\n",
       "      <th>1</th>\n",
       "      <td>31</td>\n",
       "      <td>78659.672604</td>\n",
       "    </tr>\n",
       "    <tr>\n",
       "      <th>2</th>\n",
       "      <td>46</td>\n",
       "      <td>87902.521215</td>\n",
       "    </tr>\n",
       "    <tr>\n",
       "      <th>3</th>\n",
       "      <td>20</td>\n",
       "      <td>93250.837329</td>\n",
       "    </tr>\n",
       "    <tr>\n",
       "      <th>4</th>\n",
       "      <td>43</td>\n",
       "      <td>102126.506806</td>\n",
       "    </tr>\n",
       "    <tr>\n",
       "      <th>...</th>\n",
       "      <td>...</td>\n",
       "      <td>...</td>\n",
       "    </tr>\n",
       "    <tr>\n",
       "      <th>99995</th>\n",
       "      <td>36</td>\n",
       "      <td>83492.921035</td>\n",
       "    </tr>\n",
       "    <tr>\n",
       "      <th>99996</th>\n",
       "      <td>53</td>\n",
       "      <td>78509.596091</td>\n",
       "    </tr>\n",
       "    <tr>\n",
       "      <th>99997</th>\n",
       "      <td>55</td>\n",
       "      <td>94092.133584</td>\n",
       "    </tr>\n",
       "    <tr>\n",
       "      <th>99998</th>\n",
       "      <td>34</td>\n",
       "      <td>97615.582345</td>\n",
       "    </tr>\n",
       "    <tr>\n",
       "      <th>99999</th>\n",
       "      <td>41</td>\n",
       "      <td>77506.005366</td>\n",
       "    </tr>\n",
       "  </tbody>\n",
       "</table>\n",
       "<p>100000 rows × 2 columns</p>\n",
       "</div>"
      ],
      "text/plain": [
       "       Age         Salary\n",
       "0       59   48032.536637\n",
       "1       31   78659.672604\n",
       "2       46   87902.521215\n",
       "3       20   93250.837329\n",
       "4       43  102126.506806\n",
       "...    ...            ...\n",
       "99995   36   83492.921035\n",
       "99996   53   78509.596091\n",
       "99997   55   94092.133584\n",
       "99998   34   97615.582345\n",
       "99999   41   77506.005366\n",
       "\n",
       "[100000 rows x 2 columns]"
      ]
     },
     "execution_count": 26,
     "metadata": {},
     "output_type": "execute_result"
    }
   ],
   "source": [
    "# Creating a large dataset example for demonstration\n",
    "import numpy as np\n",
    "\n",
    "# Generating a sample large dataset with columns 'Age' and 'Salary'\n",
    "data = {\n",
    "    'Age': np.random.randint(18, 60, size=100000),  # Random ages between 18 and 60\n",
    "    'Salary': np.random.uniform(30000, 120000, size=100000)  # Random salaries between 30k and 120k\n",
    "}\n",
    "\n",
    "large_df = pd.DataFrame(data)\n",
    "\n",
    "# Saving the dataset as 'large_dataset.csv'\n",
    "large_df.to_csv('./data/large_dataset.csv', index=False)\n",
    "\n",
    "large_df\n",
    "\n"
   ]
  },
  {
   "cell_type": "code",
   "execution_count": 27,
   "metadata": {},
   "outputs": [
    {
     "name": "stdout",
     "output_type": "stream",
     "text": [
      "Age         int32\n",
      "Salary    float32\n",
      "dtype: object\n"
     ]
    }
   ],
   "source": [
    "# 큰 데이터셋을 처리할 때 dtype 최적화\n",
    "df = pd.read_csv('data/large_dataset.csv', dtype={'Age': 'int32', 'Salary': 'float32'})\n",
    "print(df.dtypes)\n"
   ]
  },
  {
   "cell_type": "markdown",
   "metadata": {},
   "source": []
  },
  {
   "cell_type": "markdown",
   "metadata": {},
   "source": []
  }
 ],
 "metadata": {
  "kernelspec": {
   "display_name": "Python 3",
   "language": "python",
   "name": "python3"
  },
  "language_info": {
   "codemirror_mode": {
    "name": "ipython",
    "version": 3
   },
   "file_extension": ".py",
   "mimetype": "text/x-python",
   "name": "python",
   "nbconvert_exporter": "python",
   "pygments_lexer": "ipython3",
   "version": "3.11.10"
  }
 },
 "nbformat": 4,
 "nbformat_minor": 2
}
