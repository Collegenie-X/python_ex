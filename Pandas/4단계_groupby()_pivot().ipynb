{
 "cells": [
  {
   "cell_type": "markdown",
   "metadata": {},
   "source": [
    "## groupby() 함수\n",
    "> groupby()는 주로 **열(column)**을 기준으로 데이터를 그룹화합니다. 이후 각 그룹에 대해 집계(예: 평균, 합계, 개수 등) 또는 변환을 수행할 수 있습니다."
   ]
  },
  {
   "cell_type": "code",
   "execution_count": null,
   "metadata": {},
   "outputs": [
    {
     "name": "stdout",
     "output_type": "stream",
     "text": [
      "Category\n",
      "A     90\n",
      "B    120\n",
      "Name: Value, dtype: int64\n"
     ]
    }
   ],
   "source": [
    "import pandas as pd\n",
    "\n",
    "# 예시 데이터프레임\n",
    "df = pd.DataFrame(\n",
    "    {\"Category\": [\"A\", \"B\", \"A\", \"B\", \"A\", \"B\"], \"Value\": [10, 20, 30, 40, 50, 60]}\n",
    ")\n",
    "\n",
    "# Category 열을 기준으로 그룹화하고, 각 그룹의 Value 합계 계산\n",
    "grouped = df.groupby(\"Category\")[\"Value\"].sum()\n",
    "print(grouped)"
   ]
  },
  {
   "cell_type": "code",
   "execution_count": null,
   "metadata": {},
   "outputs": [
    {
     "name": "stdout",
     "output_type": "stream",
     "text": [
      "   ID  Age  Salary   JoinDate   Department\n",
      "0   1   56   88053 2020-07-14        Sales\n",
      "1   2   69   51959 2022-04-23           HR\n",
      "2   3   46   35530 2017-05-25           HR\n",
      "3   4   32   33748 2012-08-29  Engineering\n",
      "4   5   60   43545 2013-03-12        Sales\n"
     ]
    }
   ],
   "source": [
    "import pandas as pd\n",
    "import numpy as np\n",
    "\n",
    "# 임의의 데이터 생성\n",
    "np.random.seed(42)\n",
    "\n",
    "# 200개의 샘플을 생성\n",
    "data = {\n",
    "    \"ID\": range(1, 201),\n",
    "    \"Age\": np.random.randint(18, 70, 200),\n",
    "    \"Salary\": np.random.randint(30000, 120000, 200),\n",
    "    \"JoinDate\": pd.to_datetime(\n",
    "        np.random.choice(pd.date_range(\"2010-01-01\", \"2024-01-01\", freq=\"D\"), 200)\n",
    "    ),\n",
    "    \"Department\": np.random.choice([\"HR\", \"Engineering\", \"Marketing\", \"Sales\"], 200),\n",
    "}\n",
    "\n",
    "df = pd.DataFrame(data)\n",
    "\n",
    "# 예시 데이터 출력\n",
    "print(df.head())"
   ]
  },
  {
   "cell_type": "code",
   "execution_count": null,
   "metadata": {},
   "outputs": [
    {
     "name": "stdout",
     "output_type": "stream",
     "text": [
      "    Department  Salary Age\n",
      "0  Engineering  69,940  39\n",
      "1           HR  74,215  46\n",
      "2    Marketing  78,425  43\n",
      "3        Sales  70,936  41\n"
     ]
    }
   ],
   "source": [
    "# 부서별 평균 Salary와 Age 계산\n",
    "df_grouped = (\n",
    "    df.groupby(\"Department\").agg({\"Salary\": \"mean\", \"Age\": \"mean\"}).reset_index()\n",
    ")\n",
    "\n",
    "df_grouped[\"Age\"] = df_grouped[\"Age\"].astype(int).apply(lambda x: f\"{x:,}\")\n",
    "df_grouped[\"Salary\"] = df_grouped[\"Salary\"].astype(int).apply(lambda x: f\"{x:,}\")\n",
    "\n",
    "# 그룹화 결과 출력\n",
    "print(df_grouped)"
   ]
  },
  {
   "cell_type": "code",
   "execution_count": null,
   "metadata": {},
   "outputs": [
    {
     "name": "stdout",
     "output_type": "stream",
     "text": [
      "     Department AgeGroup  Salary\n",
      "0   Engineering      20s   82927\n",
      "1   Engineering      30s   54684\n",
      "2   Engineering      40s   77273\n",
      "3   Engineering      50s   64838\n",
      "4   Engineering      60s   58671\n",
      "5            HR      20s   93663\n",
      "6            HR      30s   71029\n",
      "7            HR      40s   68392\n",
      "8            HR      50s   69270\n",
      "9            HR      60s   74467\n",
      "10    Marketing      20s   78948\n",
      "11    Marketing      30s   77102\n",
      "12    Marketing      40s   78859\n",
      "13    Marketing      50s   77060\n",
      "14    Marketing      60s   80412\n",
      "15        Sales      20s   80436\n",
      "16        Sales      30s   87935\n",
      "17        Sales      40s   56644\n",
      "18        Sales      50s   56206\n",
      "19        Sales      60s   68368\n"
     ]
    },
    {
     "name": "stderr",
     "output_type": "stream",
     "text": [
      "/var/folders/h8/dk4pn1l11_5f5z7pscs8gr0r0000gn/T/ipykernel_12065/778185819.py:5: FutureWarning: The default of observed=False is deprecated and will be changed to True in a future version of pandas. Pass observed=False to retain current behavior or observed=True to adopt the future default and silence this warning.\n",
      "  df_grouped_age = df.groupby(['Department', 'AgeGroup']).agg({'Salary': 'mean'}).astype(int).reset_index()\n"
     ]
    }
   ],
   "source": [
    "# 나이대 생성 (20대, 30대, 40대, ...)\n",
    "df[\"AgeGroup\"] = pd.cut(\n",
    "    df[\"Age\"], bins=[18, 29, 39, 49, 59, 70], labels=[\"20s\", \"30s\", \"40s\", \"50s\", \"60s\"]\n",
    ")\n",
    "\n",
    "# 부서별, 나이대별 평균 Salary 계산\n",
    "df_grouped_age = (\n",
    "    df.groupby([\"Department\", \"AgeGroup\"])\n",
    "    .agg({\"Salary\": \"mean\"})\n",
    "    .astype(int)\n",
    "    .reset_index()\n",
    ")\n",
    "\n",
    "# 결과 출력\n",
    "print(df_grouped_age)"
   ]
  },
  {
   "cell_type": "code",
   "execution_count": null,
   "metadata": {},
   "outputs": [],
   "source": [
    "# 데이터 생성을 위한 코드\n",
    "import pandas as pd\n",
    "import numpy as np\n",
    "\n",
    "# 난수 생성기 시드 설정 (재현성 위해)\n",
    "np.random.seed(0)\n",
    "\n",
    "# 랜덤 이름, 나이, 점수 생성\n",
    "names = [\n",
    "    \"Alice\",\n",
    "    \"Bob\",\n",
    "    \"Charlie\",\n",
    "    \"David\",\n",
    "    \"Eve\",\n",
    "    \"Frank\",\n",
    "    \"Grace\",\n",
    "    \"Hannah\",\n",
    "    \"Ivy\",\n",
    "    \"Jack\",\n",
    "]\n",
    "age = np.random.randint(20, 50, size=100)  # 나이는 20-50 사이에서 랜덤 생성\n",
    "score = np.random.randint(60, 100, size=100)  # 점수는 60-100 사이에서 랜덤 생성\n",
    "city = np.random.choice(\n",
    "    [\"Seoul\", \"Busan\", \"Incheon\"], size=100\n",
    ")  # 도시 목록에서 랜덤으로 선택\n",
    "\n",
    "# 랜덤하게 이름 선택\n",
    "name = np.random.choice(names, size=100)\n",
    "\n",
    "# DataFrame 생성\n",
    "df = pd.DataFrame(\n",
    "    {\n",
    "        \"name\": name,\n",
    "        \"age\": age.astype(int),  # int형으로 변환\n",
    "        \"score\": score.astype(int),  # int형으로 변환\n",
    "        \"city\": city,\n",
    "    }\n",
    ")"
   ]
  },
  {
   "cell_type": "code",
   "execution_count": null,
   "metadata": {},
   "outputs": [
    {
     "name": "stdout",
     "output_type": "stream",
     "text": [
      "                 age  score\n",
      "city    name               \n",
      "Busan   Alice     35     80\n",
      "        Bob       35     72\n",
      "        Charlie   31     96\n",
      "        David     28     65\n",
      "        Eve       32     77\n",
      "        Frank     38     82\n",
      "        Grace     35     77\n",
      "        Hannah    29     80\n",
      "        Ivy       36     77\n",
      "        Jack      37     83\n",
      "Incheon Alice     36     74\n",
      "        Bob       47     74\n",
      "        Charlie   31     77\n",
      "        David     31     79\n",
      "        Eve       37     81\n",
      "        Frank     39     75\n",
      "        Grace     29     95\n",
      "        Hannah    33     79\n",
      "        Ivy       37     76\n",
      "        Jack      27     70\n",
      "Seoul   Alice     23     75\n",
      "        Bob       28     73\n",
      "        Charlie   41     63\n",
      "        David     27     77\n",
      "        Eve       26     93\n",
      "        Grace     26     82\n",
      "        Hannah    31     81\n",
      "        Ivy       35     76\n",
      "        Jack      27     80\n"
     ]
    }
   ],
   "source": [
    "# 'city'를 기준으로 그룹화하여 평균 점수 계산\n",
    "grouped = df.groupby([\"city\", \"name\"]).mean().astype(int)\n",
    "print(grouped)"
   ]
  },
  {
   "cell_type": "code",
   "execution_count": null,
   "metadata": {},
   "outputs": [
    {
     "name": "stdout",
     "output_type": "stream",
     "text": [
      "         age     score\n",
      "        mean max   sum\n",
      "city                  \n",
      "Busan     34  48  3196\n",
      "Incheon   34  49  2351\n",
      "Seoul     29  44  2285\n"
     ]
    }
   ],
   "source": [
    "# 'city'를 기준으로 'age'와 'score'에 대해 여러 집계 함수 적용\n",
    "grouped = df.groupby(\"city\").agg({\"age\": [\"mean\", \"max\"], \"score\": \"sum\"}).astype(int)\n",
    "print(grouped)"
   ]
  },
  {
   "cell_type": "code",
   "execution_count": null,
   "metadata": {},
   "outputs": [
    {
     "name": "stdout",
     "output_type": "stream",
     "text": [
      "       name  age  score     city  normalized_score\n",
      "0      Jack   32     66  Incheon               -12\n",
      "1      Jack   35     64    Seoul               -14\n",
      "2   Charlie   41     63    Seoul               -15\n",
      "3     Alice   20     72    Busan                -5\n",
      "4      Jack   23     96    Seoul                17\n",
      "..      ...  ...    ...      ...               ...\n",
      "95   Hannah   45     75    Busan                -2\n",
      "96    Grace   30     71    Busan                -6\n",
      "97     Jack   40     98    Busan                20\n",
      "98      Eve   31     89  Incheon                10\n",
      "99      Bob   24     61    Busan               -16\n",
      "\n",
      "[100 rows x 5 columns]\n"
     ]
    }
   ],
   "source": [
    "# 그룹화 후 변환: 각 그룹의 평균을 빼서 데이터 정규화\n",
    "df[\"normalized_score\"] = (\n",
    "    df.groupby(\"city\")[\"score\"].transform(lambda x: x - x.mean()).astype(int)\n",
    ")\n",
    "print(df)"
   ]
  },
  {
   "cell_type": "markdown",
   "metadata": {},
   "source": [
    "### pivot() 함수\n",
    "> pivot() 함수는 데이터를 재구성하는 데 사용됩니다. 주로 **행(row)**과 **열(column)**을 기준으로 데이터를 변환하여 원하는 형태로 데이터를 **피벗(pivot)**할 수 있습니다. pivot()을 사용하면 인덱스와 열을 기준으로 데이터를 재구성할 수 있습니다.\n",
    "\n",
    "> - 2.1 기본 사용법\n",
    "> - pivot() 함수는 index, columns, values 매개변수를 사용하여 데이터를 재구성합니다.\n",
    "\n",
    "> - index: 행 인덱스로 사용할 열\n",
    "> - columns: 열 인덱스로 사용할 열\n",
    "> - values: 피벗할 값이 있는 열"
   ]
  },
  {
   "cell_type": "code",
   "execution_count": null,
   "metadata": {},
   "outputs": [
    {
     "name": "stdout",
     "output_type": "stream",
     "text": [
      "   ID  Age  Salary   JoinDate   Department\n",
      "0   1   56   88053 2020-07-14        Sales\n",
      "1   2   69   51959 2022-04-23           HR\n",
      "2   3   46   35530 2017-05-25           HR\n",
      "3   4   32   33748 2012-08-29  Engineering\n",
      "4   5   60   43545 2013-03-12        Sales\n"
     ]
    }
   ],
   "source": [
    "import pandas as pd\n",
    "import numpy as np\n",
    "\n",
    "# 임의의 데이터 생성\n",
    "np.random.seed(42)\n",
    "\n",
    "# 200개의 샘플을 생성\n",
    "data = {\n",
    "    \"ID\": range(1, 201),\n",
    "    \"Age\": np.random.randint(18, 70, 200),\n",
    "    \"Salary\": np.random.randint(30000, 120000, 200),\n",
    "    \"JoinDate\": pd.to_datetime(\n",
    "        np.random.choice(pd.date_range(\"2010-01-01\", \"2024-01-01\", freq=\"D\"), 200)\n",
    "    ),\n",
    "    \"Department\": np.random.choice([\"HR\", \"Engineering\", \"Marketing\", \"Sales\"], 200),\n",
    "}\n",
    "\n",
    "df = pd.DataFrame(data)\n",
    "\n",
    "# 예시 데이터 출력\n",
    "print(df.head())"
   ]
  },
  {
   "cell_type": "code",
   "execution_count": null,
   "metadata": {},
   "outputs": [
    {
     "name": "stdout",
     "output_type": "stream",
     "text": [
      "             Salary\n",
      "Department         \n",
      "Engineering  69,940\n",
      "HR           74,215\n",
      "Marketing    78,425\n",
      "Sales        70,936\n"
     ]
    }
   ],
   "source": [
    "# 부서별 평균 Salary 계산 (피벗)\n",
    "df_pivot = (\n",
    "    df.pivot_table(values=\"Salary\", index=\"Department\", aggfunc=\"mean\")\n",
    "    .astype(int)\n",
    "    .map(lambda x: f\"{x:,}\")\n",
    ")\n",
    "\n",
    "# 피벗 결과 출력\n",
    "print(df_pivot)"
   ]
  },
  {
   "cell_type": "code",
   "execution_count": null,
   "metadata": {},
   "outputs": [
    {
     "name": "stdout",
     "output_type": "stream",
     "text": [
      "     Department AgeGroup  Salary\n",
      "0   Engineering      20s   82927\n",
      "1   Engineering      30s   54684\n",
      "2   Engineering      40s   77273\n",
      "3   Engineering      50s   64838\n",
      "4   Engineering      60s   58671\n",
      "5            HR      20s   93663\n",
      "6            HR      30s   71029\n",
      "7            HR      40s   68392\n",
      "8            HR      50s   69270\n",
      "9            HR      60s   74467\n",
      "10    Marketing      20s   78948\n",
      "11    Marketing      30s   77102\n",
      "12    Marketing      40s   78859\n",
      "13    Marketing      50s   77060\n",
      "14    Marketing      60s   80412\n",
      "15        Sales      20s   80436\n",
      "16        Sales      30s   87935\n",
      "17        Sales      40s   56644\n",
      "18        Sales      50s   56206\n",
      "19        Sales      60s   68368\n"
     ]
    },
    {
     "name": "stderr",
     "output_type": "stream",
     "text": [
      "/var/folders/h8/dk4pn1l11_5f5z7pscs8gr0r0000gn/T/ipykernel_12065/778185819.py:5: FutureWarning: The default of observed=False is deprecated and will be changed to True in a future version of pandas. Pass observed=False to retain current behavior or observed=True to adopt the future default and silence this warning.\n",
      "  df_grouped_age = df.groupby(['Department', 'AgeGroup']).agg({'Salary': 'mean'}).astype(int).reset_index()\n"
     ]
    }
   ],
   "source": [
    "# 나이대 생성 (20대, 30대, 40대, ...)\n",
    "df[\"AgeGroup\"] = pd.cut(\n",
    "    df[\"Age\"], bins=[18, 29, 39, 49, 59, 70], labels=[\"20s\", \"30s\", \"40s\", \"50s\", \"60s\"]\n",
    ")\n",
    "\n",
    "# 부서별, 나이대별 평균 Salary 계산\n",
    "df_grouped_age = (\n",
    "    df.groupby([\"Department\", \"AgeGroup\"])\n",
    "    .agg({\"Salary\": \"mean\"})\n",
    "    .astype(int)\n",
    "    .reset_index()\n",
    ")\n",
    "\n",
    "# 결과 출력\n",
    "print(df_grouped_age)"
   ]
  },
  {
   "cell_type": "code",
   "execution_count": null,
   "metadata": {},
   "outputs": [
    {
     "name": "stdout",
     "output_type": "stream",
     "text": [
      "AgeGroup         20s      30s      40s      50s      60s\n",
      "Department                                              \n",
      "Engineering  82,927$  54,684$  77,273$  64,838$  58,671$\n",
      "HR           93,663$  71,029$  68,392$  69,270$  74,467$\n",
      "Marketing    78,948$  77,102$  78,859$  77,060$  80,412$\n",
      "Sales        80,436$  87,935$  56,644$  56,206$  68,368$\n"
     ]
    },
    {
     "name": "stderr",
     "output_type": "stream",
     "text": [
      "/var/folders/h8/dk4pn1l11_5f5z7pscs8gr0r0000gn/T/ipykernel_12065/3438589008.py:2: FutureWarning: The default value of observed=False is deprecated and will change to observed=True in a future version of pandas. Specify observed=False to silence this warning and retain the current behavior\n",
      "  df_pivot_age = df.pivot_table(values='Salary', index='Department', columns='AgeGroup', aggfunc='mean').astype(int).map(lambda x : f'{x:,}$')\n"
     ]
    }
   ],
   "source": [
    "# 부서별, 나이대별 평균 Salary 계산 (피벗)\n",
    "df_pivot_age = (\n",
    "    df.pivot_table(\n",
    "        values=\"Salary\", index=\"Department\", columns=\"AgeGroup\", aggfunc=\"mean\"\n",
    "    )\n",
    "    .astype(int)\n",
    "    .map(lambda x: f\"{x:,}$\")\n",
    ")\n",
    "\n",
    "# 피벗 결과 출력\n",
    "print(df_pivot_age)"
   ]
  },
  {
   "cell_type": "code",
   "execution_count": null,
   "metadata": {},
   "outputs": [
    {
     "name": "stdout",
     "output_type": "stream",
     "text": [
      "             Salary\n",
      "Department         \n",
      "Engineering   69940\n",
      "HR            74215\n",
      "Marketing     78425\n",
      "Sales         70936\n"
     ]
    }
   ],
   "source": [
    "# 부서별 평균 Salary 계산 (피벗)\n",
    "df_pivot = df.pivot_table(values=\"Salary\", index=\"Department\", aggfunc=\"mean\").astype(\n",
    "    int\n",
    ")\n",
    "\n",
    "# 피벗 결과 출력\n",
    "print(df_pivot)"
   ]
  },
  {
   "cell_type": "code",
   "execution_count": null,
   "metadata": {},
   "outputs": [
    {
     "name": "stdout",
     "output_type": "stream",
     "text": [
      "      ID  Age  Salary   JoinDate   Department AgeGroup\n",
      "0      1   56   88053 2020-07-14        Sales      50s\n",
      "1      2   69   51959 2022-04-23           HR      60s\n",
      "6      7   38   64766 2017-08-06    Marketing      30s\n",
      "7      8   56  103530 2015-06-06    Marketing      50s\n",
      "8      9   36   91087 2012-05-03           HR      30s\n",
      "..   ...  ...     ...        ...          ...      ...\n",
      "191  192   56   80993 2014-03-23           HR      50s\n",
      "192  193   50   59592 2013-04-06  Engineering      50s\n",
      "195  196   69  118891 2013-05-02           HR      60s\n",
      "196  197   30  117545 2014-03-21    Marketing      30s\n",
      "197  198   58  119912 2018-11-11           HR      50s\n",
      "\n",
      "[110 rows x 6 columns]\n"
     ]
    }
   ],
   "source": [
    "# 30대 이상이고, Salary가 50,000 이상인 데이터 선택\n",
    "df_filtered_age = df[(df[\"Age\"] >= 30) & (df[\"Salary\"] >= 50000)]\n",
    "\n",
    "# 결과 출력\n",
    "print(df_filtered_age)"
   ]
  },
  {
   "cell_type": "code",
   "execution_count": null,
   "metadata": {},
   "outputs": [
    {
     "name": "stdout",
     "output_type": "stream",
     "text": [
      "AgeGroup         30s      40s      50s\n",
      "Department                            \n",
      "Engineering  54,684$  77,273$  64,838$\n",
      "HR           71,029$  68,392$  69,270$\n",
      "Marketing    77,102$  78,859$  77,060$\n",
      "Sales        87,935$  56,644$  56,206$\n"
     ]
    }
   ],
   "source": [
    "# 나이대가 30대 이상인 직원들만 선택 (피벗 테이블 결과에서)\n",
    "df_pivot_age_filtered = df_pivot_age[[\"30s\", \"40s\", \"50s\"]]\n",
    "\n",
    "# 결과 출력\n",
    "print(df_pivot_age_filtered)"
   ]
  },
  {
   "cell_type": "code",
   "execution_count": null,
   "metadata": {},
   "outputs": [
    {
     "name": "stdout",
     "output_type": "stream",
     "text": [
      "     Department AgeGroup  Salary\n",
      "2   Engineering      40s   77273\n",
      "3   Engineering      50s   64838\n",
      "6            HR      30s   71029\n",
      "7            HR      40s   68392\n",
      "8            HR      50s   69270\n",
      "11    Marketing      30s   77102\n",
      "12    Marketing      40s   78859\n",
      "13    Marketing      50s   77060\n",
      "16        Sales      30s   87935\n"
     ]
    }
   ],
   "source": [
    "# 부서별 평균 Salary가 60,000 이상이고, 나이대가 30대 이상인 부서만 선택\n",
    "df_filtered_complex = df_grouped_age[\n",
    "    (df_grouped_age[\"Salary\"] >= 60000)\n",
    "    & (df_grouped_age[\"AgeGroup\"].isin([\"30s\", \"40s\", \"50s\"]))\n",
    "]\n",
    "\n",
    "# 결과 출력\n",
    "print(df_filtered_complex)"
   ]
  },
  {
   "cell_type": "code",
   "execution_count": null,
   "metadata": {},
   "outputs": [
    {
     "data": {
      "image/png": "[encoded data removed]",
      "text/plain": [
       "<Figure size 1000x600 with 1 Axes>"
      ]
     },
     "metadata": {},
     "output_type": "display_data"
    }
   ],
   "source": [
    "import seaborn as sns\n",
    "import matplotlib.pyplot as plt\n",
    "\n",
    "# 부서별 평균 Salary를 시각화\n",
    "plt.figure(figsize=(10, 6))\n",
    "sns.barplot(x=\"Department\", y=\"Salary\", data=df)\n",
    "plt.title(\"Average Salary by Department\")\n",
    "plt.show()\n",
    "\n",
    "# 부서별, 나이대별 평균 연봉 시각화\n",
    "# plt.figure(figsize=(12, 6))\n",
    "# sns.heatmap(df_pivot_age, annot=True, cmap='YlGnBu', fmt='.0f', linewidths=0.5)\n",
    "# plt.title('Average Salary by Department and Age Group')\n",
    "# plt.show()"
   ]
  },
  {
   "cell_type": "code",
   "execution_count": null,
   "metadata": {},
   "outputs": [
    {
     "name": "stdout",
     "output_type": "stream",
     "text": [
      "city        Busan  Seoul\n",
      "date                    \n",
      "2022-01-01     10      5\n",
      "2022-01-02     12      7\n"
     ]
    }
   ],
   "source": [
    "# 예시 데이터프레임 생성\n",
    "df = pd.DataFrame(\n",
    "    {\n",
    "        \"date\": [\"2022-01-01\", \"2022-01-02\", \"2022-01-01\", \"2022-01-02\"],\n",
    "        \"city\": [\"Seoul\", \"Seoul\", \"Busan\", \"Busan\"],\n",
    "        \"temperature\": [5, 7, 10, 12],\n",
    "    }\n",
    ")\n",
    "\n",
    "# 'date'를 행 인덱스, 'city'를 열 인덱스로, 'temperature' 값을 피벗\n",
    "pivot_df = df.pivot(index=\"date\", columns=\"city\", values=\"temperature\")\n",
    "print(pivot_df)"
   ]
  },
  {
   "cell_type": "code",
   "execution_count": null,
   "metadata": {},
   "outputs": [
    {
     "name": "stdout",
     "output_type": "stream",
     "text": [
      "city        Busan  Seoul\n",
      "date                    \n",
      "2022-01-01    NaN    6.0\n",
      "2022-01-02   11.0    NaN\n"
     ]
    }
   ],
   "source": [
    "# 중복된 값이 있는 예시\n",
    "df = pd.DataFrame(\n",
    "    {\n",
    "        \"date\": [\"2022-01-01\", \"2022-01-01\", \"2022-01-02\", \"2022-01-02\"],\n",
    "        \"city\": [\"Seoul\", \"Seoul\", \"Busan\", \"Busan\"],\n",
    "        \"temperature\": [5, 7, 10, 12],\n",
    "    }\n",
    ")\n",
    "\n",
    "# pivot_table()을 사용하여 중복값을 평균으로 처리\n",
    "pivot_df = df.pivot_table(\n",
    "    index=\"date\", columns=\"city\", values=\"temperature\", aggfunc=\"mean\"\n",
    ")\n",
    "print(pivot_df)"
   ]
  },
  {
   "cell_type": "code",
   "execution_count": null,
   "metadata": {},
   "outputs": [
    {
     "name": "stdout",
     "output_type": "stream",
     "text": [
      "Groupby result:\n",
      "                     score\n",
      "city    name              \n",
      "Busan   Alice    77.600000\n",
      "        Bob      93.666667\n",
      "        Charlie  87.333333\n",
      "        David    72.500000\n",
      "        Eve      81.833333\n",
      "        Frank    76.000000\n",
      "        Grace    97.000000\n",
      "        Hannah   79.000000\n",
      "        Ivy      75.000000\n",
      "        Jack     74.000000\n",
      "Incheon Alice    80.500000\n",
      "        Bob      80.333333\n",
      "        Charlie  80.000000\n",
      "        David    91.500000\n",
      "        Eve      79.500000\n",
      "        Frank    98.000000\n",
      "        Grace    73.000000\n",
      "        Hannah   91.333333\n",
      "        Ivy      73.000000\n",
      "        Jack     85.000000\n",
      "Seoul   Alice    78.333333\n",
      "        Bob      82.400000\n",
      "        Charlie  95.000000\n",
      "        David    66.666667\n",
      "        Eve      93.500000\n",
      "        Frank    84.000000\n",
      "        Grace    95.000000\n",
      "        Hannah   89.000000\n",
      "        Ivy      81.250000\n",
      "        Jack     71.000000\n",
      "\n",
      "Pivot Table result:\n",
      "name         Alice        Bob    Charlie      David        Eve  Frank  Grace  \\\n",
      "city                                                                           \n",
      "Busan    77.600000  93.666667  87.333333  72.500000  81.833333   76.0   97.0   \n",
      "Incheon  80.500000  80.333333  80.000000  91.500000  79.500000   98.0   73.0   \n",
      "Seoul    78.333333  82.400000  95.000000  66.666667  93.500000   84.0   95.0   \n",
      "\n",
      "name        Hannah    Ivy  Jack  \n",
      "city                             \n",
      "Busan    79.000000  75.00  74.0  \n",
      "Incheon  91.333333  73.00  85.0  \n",
      "Seoul    89.000000  81.25  71.0  \n"
     ]
    }
   ],
   "source": [
    "names = [\n",
    "    \"Alice\",\n",
    "    \"Bob\",\n",
    "    \"Charlie\",\n",
    "    \"David\",\n",
    "    \"Eve\",\n",
    "    \"Frank\",\n",
    "    \"Grace\",\n",
    "    \"Hannah\",\n",
    "    \"Ivy\",\n",
    "    \"Jack\",\n",
    "]\n",
    "age = np.random.randint(20, 50, size=100)  # 나이는 20-50 사이에서 랜덤 생성\n",
    "score = np.random.randint(60, 100, size=100)  # 점수는 60-100 사이에서 랜덤 생성\n",
    "city = np.random.choice(\n",
    "    [\"Seoul\", \"Busan\", \"Incheon\"], size=100\n",
    ")  # 도시 목록에서 랜덤으로 선택\n",
    "\n",
    "# 랜덤하게 이름 선택\n",
    "name = np.random.choice(names, size=100)\n",
    "\n",
    "# 예시 데이터프레임\n",
    "df = pd.DataFrame(\n",
    "    {\n",
    "        \"name\": name,\n",
    "        \"age\": age.astype(int),  # int형으로 변환\n",
    "        \"score\": score.astype(int),  # int형으로 변환\n",
    "        \"city\": city,\n",
    "    }\n",
    ")\n",
    "\n",
    "# 1. 'city'와 'name'을 기준으로 평균 점수 계산 (groupby 사용)\n",
    "grouped_df = df.groupby([\"city\", \"name\"]).agg({\"score\": \"mean\"})\n",
    "print(\"Groupby result:\")\n",
    "print(grouped_df)\n",
    "\n",
    "# 2. 'city'와 'name'을 기준으로 피벗 (pivot_table 사용)\n",
    "pivot_df = df.pivot_table(index=\"city\", columns=\"name\", values=\"score\", aggfunc=\"mean\")\n",
    "print(\"\\nPivot Table result:\")\n",
    "print(pivot_df)"
   ]
  },
  {
   "cell_type": "markdown",
   "metadata": {},
   "source": [
    "### pivot_table()의 주요 매개변수:\n",
    "> - index: 행 인덱스 기준이 되는 열\n",
    "> - columns: 열 인덱스 기준이 되는 열\n",
    "> - values: 피벗하려는 값이 들어 있는 열\n",
    "> - aggfunc: 중복 값에 대한 집계 함수(기본값은 mean으로 평균을 계산)"
   ]
  },
  {
   "cell_type": "code",
   "execution_count": null,
   "metadata": {},
   "outputs": [],
   "source": []
  },
  {
   "cell_type": "code",
   "execution_count": null,
   "metadata": {},
   "outputs": [],
   "source": []
  }
 ],
 "metadata": {
  "kernelspec": {
   "display_name": "Python 3",
   "language": "python",
   "name": "python3"
  },
  "language_info": {
   "codemirror_mode": {
    "name": "ipython",
    "version": 3
   },
   "file_extension": ".py",
   "mimetype": "text/x-python",
   "name": "python",
   "nbconvert_exporter": "python",
   "pygments_lexer": "ipython3",
   "version": "3.11.10"
  }
 },
 "nbformat": 4,
 "nbformat_minor": 2
}
