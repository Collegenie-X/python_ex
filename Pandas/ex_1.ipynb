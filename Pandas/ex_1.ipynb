{
 "cells": [
  {
   "cell_type": "markdown",
   "metadata": {},
   "source": [
    "## Pandas 소개 및 설치\n",
    "- 이론: Pandas는 Python에서 데이터 조작 및 분석을 위한 강력한 라이브러리입니다. DataFrame은 표 형식의 데이터를 처리할 때 매우 유용합니다."
   ]
  },
  {
   "cell_type": "code",
   "execution_count": 1,
   "metadata": {},
   "outputs": [
    {
     "name": "stdout",
     "output_type": "stream",
     "text": [
      "2.2.3\n"
     ]
    }
   ],
   "source": [
    "import pandas as pd\n",
    "\n",
    "# Pandas 버전 확인\n",
    "print(pd.__version__)\n"
   ]
  },
  {
   "cell_type": "markdown",
   "metadata": {},
   "source": [
    "## 기본 데이터 구조\n",
    "- 이론: Pandas에서 가장 중요한 데이터 구조는 Series와 DataFrame입니다. Series는 1차원 배열, DataFrame은 2차원 테이블 형식입니다."
   ]
  },
  {
   "cell_type": "code",
   "execution_count": 2,
   "metadata": {},
   "outputs": [
    {
     "name": "stdout",
     "output_type": "stream",
     "text": [
      "0    1\n",
      "1    2\n",
      "2    3\n",
      "3    4\n",
      "4    5\n",
      "dtype: int64\n",
      "      Name  Age\n",
      "0    Alice   25\n",
      "1      Bob   30\n",
      "2  Charlie   35\n"
     ]
    }
   ],
   "source": [
    "# Series 예시\n",
    "data = [1, 2, 3, 4, 5]\n",
    "series = pd.Series(data)\n",
    "print(series)\n",
    "\n",
    "# DataFrame 예시\n",
    "data = {'Name': ['Alice', 'Bob', 'Charlie'], 'Age': [25, 30, 35]}\n",
    "df = pd.DataFrame(data)\n",
    "print(df)\n"
   ]
  },
  {
   "cell_type": "code",
   "execution_count": 28,
   "metadata": {},
   "outputs": [
    {
     "name": "stdout",
     "output_type": "stream",
     "text": [
      "a    10\n",
      "b    20\n",
      "c    30\n",
      "d    40\n",
      "e    50\n",
      "dtype: int64\n"
     ]
    }
   ],
   "source": [
    "data = [10, 20, 30, 40, 50]\n",
    "index = ['a', 'b', 'c', 'd', 'e']\n",
    "series = pd.Series(data, index=index)\n",
    "print(series)\n",
    "\n",
    "# 출력\n",
    "# a    10\n",
    "# b    20\n",
    "# c    30\n",
    "# d    40\n",
    "# e    50\n",
    "# dtype: int64\n"
   ]
  },
  {
   "cell_type": "code",
   "execution_count": 30,
   "metadata": {},
   "outputs": [
    {
     "name": "stdout",
     "output_type": "stream",
     "text": [
      "      Name  Age  Salary\n",
      "a    Alice   25   50000\n",
      "b      Bob   30   55000\n",
      "c  Charlie   35   60000\n"
     ]
    }
   ],
   "source": [
    "# 인덱스와 컬럼 지정\n",
    "data = {'Name': ['Alice', 'Bob', 'Charlie'],\n",
    "        'Age': [25, 30, 35],\n",
    "        'Salary': [50000, 55000, 60000]}\n",
    "\n",
    "index = ['a', 'b', 'c']\n",
    "columns = ['Name', 'Age', 'Salary']\n",
    "\n",
    "df = pd.DataFrame(data, index=index, columns=columns)\n",
    "print(df)\n"
   ]
  },
  {
   "cell_type": "markdown",
   "metadata": {},
   "source": [
    "## 데이터 탐색 및 기본 연산\n",
    "- 이론: 데이터를 탐색할 때는 head(), tail(), describe(), info() 등을 사용하여 데이터를 이해할 수 있습니다.\n"
   ]
  },
  {
   "cell_type": "code",
   "execution_count": 33,
   "metadata": {},
   "outputs": [
    {
     "name": "stdout",
     "output_type": "stream",
     "text": [
      "      Name  Age  Salary\n",
      "0    Alice   25   50000\n",
      "1      Bob   30   55000\n",
      "2  Charlie   35   60000\n",
      "3    David   40   65000\n",
      "\n",
      "             Age        Salary\n",
      "count   4.000000      4.000000\n",
      "mean   32.500000  57500.000000\n",
      "std     6.454972   6454.972244\n",
      "min    25.000000  50000.000000\n",
      "25%    28.750000  53750.000000\n",
      "50%    32.500000  57500.000000\n",
      "75%    36.250000  61250.000000\n",
      "max    40.000000  65000.000000\n",
      "\n",
      "<class 'pandas.core.frame.DataFrame'>\n",
      "RangeIndex: 4 entries, 0 to 3\n",
      "Data columns (total 3 columns):\n",
      " #   Column  Non-Null Count  Dtype \n",
      "---  ------  --------------  ----- \n",
      " 0   Name    4 non-null      object\n",
      " 1   Age     4 non-null      int64 \n",
      " 2   Salary  4 non-null      int64 \n",
      "dtypes: int64(2), object(1)\n",
      "memory usage: 228.0+ bytes\n",
      "None\n",
      "\n",
      "Name      0\n",
      "Age       0\n",
      "Salary    0\n",
      "dtype: int64\n",
      "\n"
     ]
    }
   ],
   "source": [
    "# DataFrame 생성\n",
    "df = pd.DataFrame({\n",
    "    'Name': ['Alice', 'Bob', 'Charlie', 'David'],\n",
    "    'Age': [25, 30, 35, 40],\n",
    "    'Salary': [50000, 55000, 60000, 65000]\n",
    "})\n",
    "\n",
    "# 데이터 탐색\n",
    "print(df.head())  # 처음 5행 출력\n",
    "print()\n",
    "print(df.describe())  # 기본 통계량 출력\n",
    "print()\n",
    "print(df.info())  # 데이터 타입 및 null 값 정보\n",
    "print()\n",
    "print(df.isnull().sum()) # 데이터의 null 값 확인\n",
    "print()\n"
   ]
  },
  {
   "cell_type": "code",
   "execution_count": 4,
   "metadata": {},
   "outputs": [
    {
     "name": "stdout",
     "output_type": "stream",
     "text": [
      "      Name  Age  Salary\n",
      "1      Bob   30   55000\n",
      "2  Charlie   35   60000\n",
      "3    David   40   65000\n",
      "0    25\n",
      "1    30\n",
      "2    35\n",
      "3    40\n",
      "Name: Age, dtype: int64\n"
     ]
    }
   ],
   "source": [
    "# 나이가 30 이상인 사람만 필터링\n",
    "df_filtered = df[df['Age'] >= 30]\n",
    "print(df_filtered)\n",
    "\n",
    "# 특정 열 선택\n",
    "ages = df['Age']\n",
    "print(ages)\n"
   ]
  },
  {
   "cell_type": "code",
   "execution_count": null,
   "metadata": {},
   "outputs": [
    {
     "name": "stdout",
     "output_type": "stream",
     "text": [
      "      Name  Age  Salary   Bonus\n",
      "2  Charlie   35   60000  6000.0\n",
      "3    David   40   65000  6500.0\n",
      "\n",
      "      Name  Age  Salary   Bonus\n",
      "0    Alice   25   50000  5000.0\n",
      "1      Bob   30   55000  5500.0\n",
      "2  Charlie   35   60000  6000.0\n",
      "3    David   40   65000  6500.0\n"
     ]
    }
   ],
   "source": [
    "# 조건에 맞는 데이터 필터링 (Age가 35 이상인 데이터)\n",
    "df_filtered = df[df['Age'] >= 35]\n",
    "print(df_filtered)\n",
    "print()\n",
    "\n",
    "# 새로운 컬럼 추가 (Salary의 10%를 bonus로 추가)\n",
    "df['Bonus'] = df['Salary'] * 0.1\n",
    "print(df) \n"
   ]
  },
  {
   "cell_type": "markdown",
   "metadata": {},
   "source": [
    "## 4. 데이터 필터링 및 인덱싱\n",
    "- 이론: 조건을 사용하여 데이터를 필터링하거나 특정 인덱스를 선택할 수 있습니다."
   ]
  },
  {
   "cell_type": "code",
   "execution_count": 5,
   "metadata": {},
   "outputs": [
    {
     "name": "stdout",
     "output_type": "stream",
     "text": [
      "      Name  Age  Salary\n",
      "1      Bob   30   55000\n",
      "2  Charlie   35   60000\n",
      "3    David   40   65000\n",
      "0    25\n",
      "1    30\n",
      "2    35\n",
      "3    40\n",
      "Name: Age, dtype: int64\n"
     ]
    }
   ],
   "source": [
    "# 나이가 30 이상인 사람만 필터링\n",
    "df_filtered = df[df['Age'] >= 30]\n",
    "print(df_filtered)\n",
    "\n",
    "# 특정 열 선택\n",
    "ages = df['Age']\n",
    "print(ages)\n"
   ]
  },
  {
   "cell_type": "markdown",
   "metadata": {},
   "source": [
    "## 5. 데이터 정렬 및 순서 지정"
   ]
  },
  {
   "cell_type": "code",
   "execution_count": 6,
   "metadata": {},
   "outputs": [
    {
     "name": "stdout",
     "output_type": "stream",
     "text": [
      "      Name  Age  Salary\n",
      "0    Alice   25   50000\n",
      "1      Bob   30   55000\n",
      "2  Charlie   35   60000\n",
      "3    David   40   65000\n",
      "      Name  Age  Salary\n",
      "3    David   40   65000\n",
      "2  Charlie   35   60000\n",
      "1      Bob   30   55000\n",
      "0    Alice   25   50000\n"
     ]
    }
   ],
   "source": [
    "# Salary 기준으로 오름차순 정렬\n",
    "df_sorted = df.sort_values(by='Salary')\n",
    "print(df_sorted)\n",
    "\n",
    "# 나이 기준 내림차순 정렬\n",
    "df_sorted_desc = df.sort_values(by='Age', ascending=False)\n",
    "print(df_sorted_desc)\n"
   ]
  },
  {
   "cell_type": "markdown",
   "metadata": {},
   "source": [
    "## 6.결측치 처리\n",
    "- 이론: 결측치는 데이터 분석에서 중요한 문제입니다. Pandas는 결측치 처리 방법을 다양하게 제공합니다."
   ]
  },
  {
   "cell_type": "code",
   "execution_count": 9,
   "metadata": {},
   "outputs": [
    {
     "name": "stdout",
     "output_type": "stream",
     "text": [
      "    Name    Age\n",
      "0  False  False\n",
      "1  False   True\n",
      "2   True  False\n",
      "3  False  False\n",
      "\n",
      "    Name   Age\n",
      "0  Alice  25.0\n",
      "1    Bob   0.0\n",
      "2      0  35.0\n",
      "3  David  40.0\n",
      "\n",
      "    Name   Age\n",
      "0  Alice  25.0\n",
      "3  David  40.0\n"
     ]
    }
   ],
   "source": [
    "# 결측치가 포함된 데이터프레임\n",
    "df_with_na = pd.DataFrame({\n",
    "    'Name': ['Alice', 'Bob', None, 'David'],\n",
    "    'Age': [25, None, 35, 40]\n",
    "})\n",
    "\n",
    "# 결측치 확인\n",
    "print(df_with_na.isnull())\n",
    "\n",
    "# 결측치를 0으로 채우기\n",
    "df_filled = df_with_na.fillna(0)\n",
    "print()\n",
    "print(df_filled)\n",
    "\n",
    "# 결측치 있는 행 제거\n",
    "df_dropped = df_with_na.dropna()\n",
    "print()\n",
    "print(df_dropped)\n"
   ]
  },
  {
   "cell_type": "markdown",
   "metadata": {},
   "source": [
    "## 7. 데이터 병합 및 합치기\n",
    "- 이론: concat()과 merge()를 사용하여 여러 데이터프레임을 병합할 수 있습니다."
   ]
  },
  {
   "cell_type": "code",
   "execution_count": 11,
   "metadata": {},
   "outputs": [
    {
     "name": "stdout",
     "output_type": "stream",
     "text": [
      "   ID     Name  Age\n",
      "0   1    Alice   25\n",
      "1   2      Bob   30\n",
      "2   3  Charlie   35\n",
      "\n",
      "   ID     Name  ID  Age\n",
      "0   1    Alice   1   25\n",
      "1   2      Bob   2   30\n",
      "2   3  Charlie   3   35\n"
     ]
    }
   ],
   "source": [
    "# 데이터프레임 생성\n",
    "df1 = pd.DataFrame({'ID': [1, 2, 3], 'Name': ['Alice', 'Bob', 'Charlie']})\n",
    "df2 = pd.DataFrame({'ID': [1, 2, 3], 'Age': [25, 30, 35]})\n",
    "\n",
    "# ID를 기준으로 병합\n",
    "df_merged = pd.merge(df1, df2, on='ID')\n",
    "print(df_merged)\n",
    "\n",
    "# 수평 병합 (axis=1)\n",
    "df_concat = pd.concat([df1, df2], axis=1)\n",
    "print()\n",
    "print(df_concat)\n"
   ]
  },
  {
   "cell_type": "markdown",
   "metadata": {},
   "source": [
    "## 8. 그룹화 및 집계\n",
    "- 이론: groupby() 함수는 데이터를 그룹화하고, 그룹별로 집계할 수 있게 해줍니다."
   ]
  },
  {
   "cell_type": "code",
   "execution_count": 12,
   "metadata": {},
   "outputs": [
    {
     "name": "stdout",
     "output_type": "stream",
     "text": [
      "Department\n",
      "HR    56000.0\n",
      "IT    57500.0\n",
      "Name: Salary, dtype: float64\n"
     ]
    }
   ],
   "source": [
    "# 데이터프레임 생성\n",
    "df = pd.DataFrame({\n",
    "    'Department': ['HR', 'IT', 'IT', 'HR', 'HR'],\n",
    "    'Salary': [50000, 60000, 55000, 70000, 48000]\n",
    "})\n",
    "\n",
    "# 부서별 평균 급여 계산\n",
    "grouped = df.groupby('Department')['Salary'].mean()\n",
    "print(grouped)\n"
   ]
  },
  {
   "cell_type": "markdown",
   "metadata": {},
   "source": [
    "## 9. 데이터 변환 및 적용\n",
    "- 이론: apply(), map(), applymap()을 사용하여 데이터에 함수를 적용할 수 있습니다.\n"
   ]
  },
  {
   "cell_type": "code",
   "execution_count": 14,
   "metadata": {},
   "outputs": [
    {
     "data": {
      "text/html": [
       "<div>\n",
       "<style scoped>\n",
       "    .dataframe tbody tr th:only-of-type {\n",
       "        vertical-align: middle;\n",
       "    }\n",
       "\n",
       "    .dataframe tbody tr th {\n",
       "        vertical-align: top;\n",
       "    }\n",
       "\n",
       "    .dataframe thead th {\n",
       "        text-align: right;\n",
       "    }\n",
       "</style>\n",
       "<table border=\"1\" class=\"dataframe\">\n",
       "  <thead>\n",
       "    <tr style=\"text-align: right;\">\n",
       "      <th></th>\n",
       "      <th>Department</th>\n",
       "      <th>Salary</th>\n",
       "    </tr>\n",
       "  </thead>\n",
       "  <tbody>\n",
       "    <tr>\n",
       "      <th>0</th>\n",
       "      <td>HR</td>\n",
       "      <td>50000</td>\n",
       "    </tr>\n",
       "    <tr>\n",
       "      <th>1</th>\n",
       "      <td>IT</td>\n",
       "      <td>60000</td>\n",
       "    </tr>\n",
       "    <tr>\n",
       "      <th>2</th>\n",
       "      <td>IT</td>\n",
       "      <td>55000</td>\n",
       "    </tr>\n",
       "    <tr>\n",
       "      <th>3</th>\n",
       "      <td>HR</td>\n",
       "      <td>70000</td>\n",
       "    </tr>\n",
       "    <tr>\n",
       "      <th>4</th>\n",
       "      <td>HR</td>\n",
       "      <td>48000</td>\n",
       "    </tr>\n",
       "  </tbody>\n",
       "</table>\n",
       "</div>"
      ],
      "text/plain": [
       "  Department  Salary\n",
       "0         HR   50000\n",
       "1         IT   60000\n",
       "2         IT   55000\n",
       "3         HR   70000\n",
       "4         HR   48000"
      ]
     },
     "execution_count": 14,
     "metadata": {},
     "output_type": "execute_result"
    }
   ],
   "source": [
    "df"
   ]
  },
  {
   "cell_type": "code",
   "execution_count": 19,
   "metadata": {},
   "outputs": [
    {
     "name": "stdout",
     "output_type": "stream",
     "text": [
      "   Age     Name\n",
      "0   23     John\n",
      "1   30    Alice\n",
      "2   25      Bob\n",
      "3   40  Charlie\n",
      "4   35    David\n",
      "\n",
      "   Age     Name  Age_plus_1\n",
      "0   23     John          24\n",
      "1   30    Alice          31\n",
      "2   25      Bob          26\n",
      "3   40  Charlie          41\n",
      "4   35    David          36\n",
      "\n",
      "   Age     Name  Age_plus_1 Name_upper\n",
      "0   23     John          24       JOHN\n",
      "1   30    Alice          31      ALICE\n",
      "2   25      Bob          26        BOB\n",
      "3   40  Charlie          41    CHARLIE\n",
      "4   35    David          36      DAVID\n"
     ]
    }
   ],
   "source": [
    "import pandas as pd\n",
    "\n",
    "# 예시 데이터셋 생성\n",
    "data = {\n",
    "    'Age': [23, 30, 25, 40, 35],\n",
    "    'Name': ['John', 'Alice', 'Bob', 'Charlie', 'David']\n",
    "}\n",
    "\n",
    "df = pd.DataFrame(data)\n",
    "print(df) \n",
    "print() \n",
    "\n",
    "# 나이 값에 1을 더하는 함수\n",
    "df['Age_plus_1'] = df['Age'].apply(lambda x: x + 1)\n",
    "print(df)\n",
    "print() \n",
    "\n",
    "# 문자열 값을 대문자로 변환\n",
    "df['Name_upper'] = df['Name'].map(lambda x: x.upper())\n",
    "print(df)"
   ]
  },
  {
   "cell_type": "markdown",
   "metadata": {},
   "source": [
    "## 10. 문자열 처리\n",
    "- 이론: Pandas는 문자열을 쉽게 처리할 수 있는 기능을 제공합니다.\n"
   ]
  },
  {
   "cell_type": "code",
   "execution_count": 20,
   "metadata": {},
   "outputs": [
    {
     "name": "stdout",
     "output_type": "stream",
     "text": [
      "                 Email       Domain\n",
      "0    alice@example.com  example.com\n",
      "1      bob@example.com  example.com\n",
      "2  charlie@example.com  example.com\n"
     ]
    }
   ],
   "source": [
    "# 문자열 데이터가 있는 DataFrame\n",
    "df = pd.DataFrame({\n",
    "    'Email': ['alice@example.com', 'bob@example.com', 'charlie@example.com']\n",
    "})\n",
    "\n",
    "# 이메일에서 도메인 부분만 추출\n",
    "df['Domain'] = df['Email'].str.split('@').str[1]\n",
    "print(df)\n"
   ]
  },
  {
   "cell_type": "markdown",
   "metadata": {},
   "source": [
    "## 11. 날짜 및 시간 처리\n",
    "- 이론: Pandas는 날짜 및 시간 데이터를 쉽게 처리할 수 있는 기능을 제공합니다."
   ]
  },
  {
   "cell_type": "code",
   "execution_count": 21,
   "metadata": {},
   "outputs": [
    {
     "name": "stdout",
     "output_type": "stream",
     "text": [
      "        Date\n",
      "0 2021-01-01\n",
      "1 2021-02-01\n",
      "2 2021-03-01\n",
      "        Date  Days_Since\n",
      "0 2021-01-01        1499\n",
      "1 2021-02-01        1468\n",
      "2 2021-03-01        1440\n"
     ]
    }
   ],
   "source": [
    "# 날짜 문자열을 datetime 형식으로 변환\n",
    "df = pd.DataFrame({\n",
    "    'Date': ['2021-01-01', '2021-02-01', '2021-03-01']\n",
    "})\n",
    "df['Date'] = pd.to_datetime(df['Date'])\n",
    "print(df)\n",
    "\n",
    "# 날짜 차이 계산\n",
    "today = pd.to_datetime('2025-02-08')\n",
    "df['Days_Since'] = (today - df['Date']).dt.days\n",
    "print(df)\n"
   ]
  },
  {
   "cell_type": "markdown",
   "metadata": {},
   "source": [
    "## 12. 고급 분석 기법\n",
    "- 이론: 피벗 테이블 및 다양한 통계 분석을 통해 데이터를 심도 깊게 분석할 수 있습니다."
   ]
  },
  {
   "cell_type": "code",
   "execution_count": 22,
   "metadata": {},
   "outputs": [
    {
     "name": "stdout",
     "output_type": "stream",
     "text": [
      "             Salary\n",
      "Department         \n",
      "HR          56000.0\n",
      "IT          57500.0\n"
     ]
    }
   ],
   "source": [
    "# 피벗 테이블 생성\n",
    "df = pd.DataFrame({\n",
    "    'Department': ['HR', 'IT', 'IT', 'HR', 'HR'],\n",
    "    'Salary': [50000, 60000, 55000, 70000, 48000],\n",
    "    'Age': [25, 30, 35, 40, 45]\n",
    "})\n",
    "pivot = df.pivot_table(values='Salary', index='Department', aggfunc='mean')\n",
    "print(pivot)\n"
   ]
  },
  {
   "cell_type": "markdown",
   "metadata": {},
   "source": [
    "## 13. Pandas를 이용한 시각화\n",
    "- 이론: Pandas는 기본적인 시각화 기능을 내장하고 있습니다. plot() 함수를 사용하여 데이터를 시각화할 수 있습니다."
   ]
  },
  {
   "cell_type": "code",
   "execution_count": 23,
   "metadata": {},
   "outputs": [
    {
     "data": {
      "image/png": "[encoded data removed]",
      "text/plain": [
       "<Figure size 640x480 with 1 Axes>"
      ]
     },
     "metadata": {},
     "output_type": "display_data"
    }
   ],
   "source": [
    "import matplotlib.pyplot as plt\n",
    "\n",
    "# 간단한 데이터 시각화\n",
    "df = pd.DataFrame({\n",
    "    'Department': ['HR', 'IT', 'IT', 'HR', 'HR'],\n",
    "    'Salary': [50000, 60000, 55000, 70000, 48000]\n",
    "})\n",
    "\n",
    "df.groupby('Department')['Salary'].mean().plot(kind='bar')\n",
    "plt.title('Average Salary by Department')\n",
    "plt.show()\n"
   ]
  },
  {
   "cell_type": "markdown",
   "metadata": {},
   "source": [
    "## 15. 최적화 및 성능 개선\n",
    "- 이론: 대용량 데이터를 다룰 때 성능을 최적화할 수 있는 방법을 설명합니다."
   ]
  },
  {
   "cell_type": "code",
   "execution_count": 26,
   "metadata": {},
   "outputs": [
    {
     "data": {
      "text/html": [
       "<div>\n",
       "<style scoped>\n",
       "    .dataframe tbody tr th:only-of-type {\n",
       "        vertical-align: middle;\n",
       "    }\n",
       "\n",
       "    .dataframe tbody tr th {\n",
       "        vertical-align: top;\n",
       "    }\n",
       "\n",
       "    .dataframe thead th {\n",
       "        text-align: right;\n",
       "    }\n",
       "</style>\n",
       "<table border=\"1\" class=\"dataframe\">\n",
       "  <thead>\n",
       "    <tr style=\"text-align: right;\">\n",
       "      <th></th>\n",
       "      <th>Age</th>\n",
       "      <th>Salary</th>\n",
       "    </tr>\n",
       "  </thead>\n",
       "  <tbody>\n",
       "    <tr>\n",
       "      <th>0</th>\n",
       "      <td>59</td>\n",
       "      <td>48032.536637</td>\n",
       "    </tr>\n",
       "    <tr>\n",
       "      <th>1</th>\n",
       "      <td>31</td>\n",
       "      <td>78659.672604</td>\n",
       "    </tr>\n",
       "    <tr>\n",
       "      <th>2</th>\n",
       "      <td>46</td>\n",
       "      <td>87902.521215</td>\n",
       "    </tr>\n",
       "    <tr>\n",
       "      <th>3</th>\n",
       "      <td>20</td>\n",
       "      <td>93250.837329</td>\n",
       "    </tr>\n",
       "    <tr>\n",
       "      <th>4</th>\n",
       "      <td>43</td>\n",
       "      <td>102126.506806</td>\n",
       "    </tr>\n",
       "    <tr>\n",
       "      <th>...</th>\n",
       "      <td>...</td>\n",
       "      <td>...</td>\n",
       "    </tr>\n",
       "    <tr>\n",
       "      <th>99995</th>\n",
       "      <td>36</td>\n",
       "      <td>83492.921035</td>\n",
       "    </tr>\n",
       "    <tr>\n",
       "      <th>99996</th>\n",
       "      <td>53</td>\n",
       "      <td>78509.596091</td>\n",
       "    </tr>\n",
       "    <tr>\n",
       "      <th>99997</th>\n",
       "      <td>55</td>\n",
       "      <td>94092.133584</td>\n",
       "    </tr>\n",
       "    <tr>\n",
       "      <th>99998</th>\n",
       "      <td>34</td>\n",
       "      <td>97615.582345</td>\n",
       "    </tr>\n",
       "    <tr>\n",
       "      <th>99999</th>\n",
       "      <td>41</td>\n",
       "      <td>77506.005366</td>\n",
       "    </tr>\n",
       "  </tbody>\n",
       "</table>\n",
       "<p>100000 rows × 2 columns</p>\n",
       "</div>"
      ],
      "text/plain": [
       "       Age         Salary\n",
       "0       59   48032.536637\n",
       "1       31   78659.672604\n",
       "2       46   87902.521215\n",
       "3       20   93250.837329\n",
       "4       43  102126.506806\n",
       "...    ...            ...\n",
       "99995   36   83492.921035\n",
       "99996   53   78509.596091\n",
       "99997   55   94092.133584\n",
       "99998   34   97615.582345\n",
       "99999   41   77506.005366\n",
       "\n",
       "[100000 rows x 2 columns]"
      ]
     },
     "execution_count": 26,
     "metadata": {},
     "output_type": "execute_result"
    }
   ],
   "source": [
    "# Creating a large dataset example for demonstration\n",
    "import numpy as np\n",
    "\n",
    "# Generating a sample large dataset with columns 'Age' and 'Salary'\n",
    "data = {\n",
    "    'Age': np.random.randint(18, 60, size=100000),  # Random ages between 18 and 60\n",
    "    'Salary': np.random.uniform(30000, 120000, size=100000)  # Random salaries between 30k and 120k\n",
    "}\n",
    "\n",
    "large_df = pd.DataFrame(data)\n",
    "\n",
    "# Saving the dataset as 'large_dataset.csv'\n",
    "large_df.to_csv('./data/large_dataset.csv', index=False)\n",
    "\n",
    "large_df\n",
    "\n"
   ]
  },
  {
   "cell_type": "code",
   "execution_count": 27,
   "metadata": {},
   "outputs": [
    {
     "name": "stdout",
     "output_type": "stream",
     "text": [
      "Age         int32\n",
      "Salary    float32\n",
      "dtype: object\n"
     ]
    }
   ],
   "source": [
    "# 큰 데이터셋을 처리할 때 dtype 최적화\n",
    "df = pd.read_csv('data/large_dataset.csv', dtype={'Age': 'int32', 'Salary': 'float32'})\n",
    "print(df.dtypes)\n"
   ]
  },
  {
   "cell_type": "markdown",
   "metadata": {},
   "source": []
  },
  {
   "cell_type": "markdown",
   "metadata": {},
   "source": []
  }
 ],
 "metadata": {
  "kernelspec": {
   "display_name": "Python 3",
   "language": "python",
   "name": "python3"
  },
  "language_info": {
   "codemirror_mode": {
    "name": "ipython",
    "version": 3
   },
   "file_extension": ".py",
   "mimetype": "text/x-python",
   "name": "python",
   "nbconvert_exporter": "python",
   "pygments_lexer": "ipython3",
   "version": "3.11.10"
  }
 },
 "nbformat": 4,
 "nbformat_minor": 2
}
