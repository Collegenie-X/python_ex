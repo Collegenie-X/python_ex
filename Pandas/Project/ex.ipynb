{
 "cells": [
  {
   "cell_type": "code",
   "execution_count": 4,
   "metadata": {},
   "outputs": [
    {
     "data": {
      "text/plain": [
       "'/Users/kimjongphil/Documents/GitHub/python_ex/Pandas/Project'"
      ]
     },
     "execution_count": 4,
     "metadata": {},
     "output_type": "execute_result"
    }
   ],
   "source": [
    "import os\n",
    "os.getcwd() "
   ]
  },
  {
   "cell_type": "markdown",
   "metadata": {},
   "source": [
    "## 실제 기업 환경에서 Pandas는 데이터 처리, 분석, 보고서 작성 등 다양한 업무에 사용됩니다. 기업에서 활용되는 Pandas 코드 예시를 통해 왜 해당 방식으로 데이터를 처리하는지, 그리고 그 동작 순서까지 설명드리겠습니다. 아래에서는 매출 분석, 고객 세그먼트화, 주식 데이터 분석을 중심으로 세 가지 실전 예시를 제공하겠습니다."
   ]
  },
  {
   "cell_type": "code",
   "execution_count": null,
   "metadata": {},
   "outputs": [
    {
     "data": {
      "text/plain": [
       "(   Sales_Date Region Product  Sales\n",
       " 0  2023-01-01  North       A   1000\n",
       " 1  2023-01-02  South       B   1500\n",
       " 2  2023-01-03   East       C   1200\n",
       " 3  2023-01-04   West       D   1300\n",
       " 4  2023-01-05  North       A   1100,\n",
       "    Customer_ID     Name  Age  Purchase_Amount\n",
       " 0            1    Alice   24              500\n",
       " 1            2      Bob   27              600\n",
       " 2            3  Charlie   22              450\n",
       " 3            4    David   35              800\n",
       " 4            5      Eva   29              700,\n",
       "          Date  Stock_Price\n",
       " 0  2023-01-01          150\n",
       " 1  2023-01-02          153\n",
       " 2  2023-01-03          149\n",
       " 3  2023-01-04          155\n",
       " 4  2023-01-05          158)"
      ]
     },
     "execution_count": 5,
     "metadata": {},
     "output_type": "execute_result"
    }
   ],
   "source": [
    "import pandas as pd\n",
    "\n",
    "# 1. **매출 분석 (Sales Analysis)** CSV 데이터 생성\n",
    "\n",
    "sales_data = {\n",
    "    'Sales_Date': ['2023-01-01', '2023-01-02', '2023-01-03', '2023-01-04', '2023-01-05',\n",
    "                   '2023-01-06', '2023-01-07', '2023-01-08', '2023-01-09', '2023-01-10'],\n",
    "    'Region': ['North', 'South', 'East', 'West', 'North', 'South', 'East', 'West', 'North', 'South'],\n",
    "    'Product': ['A', 'B', 'C', 'D', 'A', 'B', 'C', 'D', 'A', 'B'],\n",
    "    'Sales': [1000, 1500, 1200, 1300, 1100, 1400, 1150, 1250, 1050, 1600]\n",
    "}\n",
    "\n",
    "df_sales = pd.DataFrame(sales_data)\n",
    "\n",
    "# 2. **고객 세그먼트화 (Customer Segmentation)** CSV 데이터 생성\n",
    "customer_data = {\n",
    "    'Customer_ID': [1, 2, 3, 4, 5, 6, 7, 8, 9, 10],\n",
    "    'Name': ['Alice', 'Bob', 'Charlie', 'David', 'Eva', 'Frank', 'Grace', 'Hank', 'Ivy', 'Jack'],\n",
    "    'Age': [24, 27, 22, 35, 29, 40, 28, 32, 23, 45],\n",
    "    'Purchase_Amount': [500, 600, 450, 800, 700, 850, 400, 750, 550, 900]\n",
    "}\n",
    "\n",
    "df_customer = pd.DataFrame(customer_data)\n",
    "\n",
    "# 3. **주식 데이터 분석 (Stock Data Analysis)** CSV 데이터 생성\n",
    "stock_data = {\n",
    "    'Date': ['2023-01-01', '2023-01-02', '2023-01-03', '2023-01-04', '2023-01-05',\n",
    "             '2023-01-06', '2023-01-07', '2023-01-08', '2023-01-09', '2023-01-10'],\n",
    "    'Close': [150, 153, 149, 155, 158, 157, 160, 162, 165, 168]\n",
    "}\n",
    "\n",
    "df_stock = pd.DataFrame(stock_data)\n",
    "\n",
    "# 데이터프레임을 CSV 파일로 저장\n",
    "df_sales.to_csv('./data/sales_data.csv', index=False)\n",
    "df_customer.to_csv('./data/customer_data.csv', index=False)\n",
    "df_stock.to_csv('./data/stock_data.csv', index=False)\n",
    "\n",
    "# 데이터 프레임 출력\n",
    "df_sales.head(), df_customer.head(), df_stock.head()\n"
   ]
  },
  {
   "cell_type": "code",
   "execution_count": 16,
   "metadata": {},
   "outputs": [
    {
     "name": "stdout",
     "output_type": "stream",
     "text": [
      "        Date  Close\n",
      "0 2023-01-01    150\n",
      "1 2023-01-02    153\n",
      "2 2023-01-03    149\n",
      "3 2023-01-04    155\n",
      "4 2023-01-05    158\n",
      "5 2023-01-06    157\n",
      "6 2023-01-07    160\n",
      "7 2023-01-08    162\n",
      "8 2023-01-09    165\n",
      "9 2023-01-10    168\n"
     ]
    }
   ],
   "source": [
    "import pandas as pd \n",
    "\n",
    "# 주식 데이터 예시 (Date와 Close 열 포함)\n",
    "stock_data = {\n",
    "    'Date': ['2023-01-01', '2023-01-02', '2023-01-03', '2023-01-04', '2023-01-05',\n",
    "             '2023-01-06', '2023-01-07', '2023-01-08', '2023-01-09', '2023-01-10'],\n",
    "    'Close': [150, 153, 149, 155, 158, 157, 160, 162, 165, 168]  # 주식 종가 데이터\n",
    "}\n",
    "\n",
    "# 데이터프레임 생성\n",
    "df_stock = pd.DataFrame(stock_data)\n",
    "\n",
    "# Date 열을 날짜 형식으로 변환\n",
    "df_stock['Date'] = pd.to_datetime(df_stock['Date'])\n",
    "\n",
    "# 데이터를 CSV 파일로 저장\n",
    "df_stock.to_csv('./data/stock_data.csv', index=False)\n",
    "\n",
    "# 데이터 확인\n",
    "print(df_stock)"
   ]
  },
  {
   "cell_type": "markdown",
   "metadata": {},
   "source": [
    "## 1. 매출 분석 (Sales Analysis)\n",
    "- 목표: 주어진 매출 데이터를 바탕으로 지역별, 제품별 매출을 분석하여, 특정 지역에서 판매가 부진한 제품을 파악"
   ]
  },
  {
   "cell_type": "code",
   "execution_count": 12,
   "metadata": {},
   "outputs": [
    {
     "name": "stdout",
     "output_type": "stream",
     "text": [
      "Region\n",
      "South    4500\n",
      "North    3150\n",
      "West     2550\n",
      "East     2350\n",
      "Name: Sales, dtype: int64\n",
      "Product\n",
      "B    4500\n",
      "A    3150\n",
      "D    2550\n",
      "C    2350\n",
      "Name: Sales, dtype: int64\n"
     ]
    }
   ],
   "source": [
    "import pandas as pd\n",
    "\n",
    "# 매출 데이터 로드\n",
    "df = pd.read_csv('data/sales_data.csv')\n",
    "\n",
    "# 데이터 탐색 (결측치, 중복, 형식 변환 확인)\n",
    "df['Sales_Date'] = pd.to_datetime(df['Sales_Date'])  # 날짜 형식 변환\n",
    "\n",
    "# 결측치 처리: 결측치가 있는 행은 삭제\n",
    "df_cleaned = df.dropna()\n",
    "\n",
    "# 지역별 매출 합계 계산\n",
    "regional_sales = df_cleaned.groupby('Region')['Sales'].sum()\n",
    "\n",
    "# 제품별 매출 합계 계산\n",
    "product_sales = df_cleaned.groupby('Product')['Sales'].sum()\n",
    "\n",
    "# 지역별 매출 상위 5개\n",
    "top_regions = regional_sales.nlargest(5)\n",
    "print(top_regions)\n",
    "\n",
    "# 제품별 매출 상위 5개\n",
    "top_products = product_sales.nlargest(5)\n",
    "print(top_products)\n"
   ]
  },
  {
   "cell_type": "markdown",
   "metadata": {},
   "source": [
    "## 구성한 이유:\n",
    "- dropna(): 결측치가 있는 데이터는 분석에 영향을 미칠 수 있으므로, 이를 삭제하여 깨끗한 데이터를 유지합니다.\n",
    "- groupby(): groupby()는 데이터를 특정 기준으로 그룹화하여 집계할 수 있는 매우 중요한 메서드입니다. \n",
    "            매출 데이터를 지역별, 제품별로 그룹화하여 합계를 계산하고, 유의미한 인사이트를 도출합니다.\n",
    "- nlargest(): 상위 5개의 매출 데이터를 추출하여, 가장 중요한 분석 결과를 빠르게 도출할 수 있습니다.\n",
    "## 동작 순서:\n",
    "- 데이터 로드: CSV 파일에서 매출 데이터를 불러옵니다.\n",
    "- 결측치 처리: 결측치를 처리하여 분석에 영향을 미치지 않도록 합니다.\n",
    "- 그룹화: groupby()를 사용하여 지역별 및 제품별로 매출 합계를 계산합니다.\n",
    "- 상위 값 추출: nlargest()를 사용하여 매출이 높은 상위 5개 지역과 제품을 도출합니다."
   ]
  },
  {
   "cell_type": "markdown",
   "metadata": {},
   "source": [
    "------------------------------------------------------------------------------------------------------------------------\n",
    "# 1. 매출 분석: groupby()와 filter() 사용\n",
    "- 매출 데이터를 지역별, 제품별로 분석하고, 매출이 1200 이상인 지역만 필터링해서 보고하는 방법입니다."
   ]
  },
  {
   "cell_type": "code",
   "execution_count": 7,
   "metadata": {},
   "outputs": [
    {
     "name": "stdout",
     "output_type": "stream",
     "text": [
      "지역별 매출 합계:\n",
      "Region\n",
      "East     2350\n",
      "North    3150\n",
      "South    4500\n",
      "West     2550\n",
      "Name: Sales, dtype: int64\n",
      "\n",
      "제품별 매출 합계:\n",
      "Product\n",
      "A    3150\n",
      "B    4500\n",
      "C    2350\n",
      "D    2550\n",
      "Name: Sales, dtype: int64\n",
      "\n",
      "매출이 1200 이상인 지역:\n",
      "Region\n",
      "East     2350\n",
      "North    3150\n",
      "South    4500\n",
      "West     2550\n",
      "Name: Sales, dtype: int64\n"
     ]
    }
   ],
   "source": [
    "# 매출 데이터 불러오기\n",
    "df_sales = pd.read_csv('./data/sales_data.csv')\n",
    "\n",
    "# 지역별 매출 합계 계산\n",
    "region_sales = df_sales.groupby('Region')['Sales'].sum()\n",
    "print(\"지역별 매출 합계:\")\n",
    "print(region_sales)\n",
    "\n",
    "# 제품별 매출 합계 계산\n",
    "product_sales = df_sales.groupby('Product')['Sales'].sum()\n",
    "print(\"\\n제품별 매출 합계:\")\n",
    "print(product_sales)\n",
    "\n",
    "# 매출이 1200 이상인 지역만 필터링\n",
    "high_sales_regions = region_sales[region_sales >= 1200]\n",
    "print(\"\\n매출이 1200 이상인 지역:\")\n",
    "print(high_sales_regions)\n"
   ]
  },
  {
   "cell_type": "markdown",
   "metadata": {},
   "source": [
    "## 동작 순서:\n",
    "- **groupby()**를 사용해 Region 및 Product별로 매출 합계를 계산합니다.\n",
    "- Sales 값이 1200 이상인 지역을 필터링하여, 매출이 높은 지역을 파악합니다.\n"
   ]
  },
  {
   "cell_type": "markdown",
   "metadata": {},
   "source": [
    "------------------------------------------------------------------------------------------------------------------------\n",
    "# 2. 고객 세그먼트화: groupby()와 apply() 사용\n",
    "- 고객을 나이대별로 그룹화하고, 각 그룹의 평균 구매 금액을 계산하는 방법입니다."
   ]
  },
  {
   "cell_type": "code",
   "execution_count": 9,
   "metadata": {},
   "outputs": [
    {
     "name": "stdout",
     "output_type": "stream",
     "text": [
      "\n",
      "나이대별 평균 구매 금액:\n",
      "Age_Group\n",
      "0-18            NaN\n",
      "19-30    533.333333\n",
      "31-40    800.000000\n",
      "41-50    900.000000\n",
      "51+             NaN\n",
      "Name: Purchase_Amount, dtype: float64\n"
     ]
    },
    {
     "name": "stderr",
     "output_type": "stream",
     "text": [
      "/var/folders/h8/dk4pn1l11_5f5z7pscs8gr0r0000gn/T/ipykernel_4260/394606968.py:10: FutureWarning: The default of observed=False is deprecated and will be changed to True in a future version of pandas. Pass observed=False to retain current behavior or observed=True to adopt the future default and silence this warning.\n",
      "  age_group_avg_purchase = df_customer.groupby('Age_Group')['Purchase_Amount'].mean()\n"
     ]
    }
   ],
   "source": [
    "# 고객 데이터 불러오기\n",
    "df_customer = pd.read_csv('./data/customer_data.csv')\n",
    "\n",
    "# 나이대별 고객 세그먼트화\n",
    "bins = [0, 18, 30, 40, 50, 100]\n",
    "labels = ['0-18', '19-30', '31-40', '41-50', '51+']\n",
    "df_customer['Age_Group'] = pd.cut(df_customer['Age'], bins=bins, labels=labels)\n",
    "\n",
    "# 나이대별 평균 구매 금액 계산\n",
    "age_group_avg_purchase = df_customer.groupby('Age_Group')['Purchase_Amount'].mean()\n",
    "print(\"\\n나이대별 평균 구매 금액:\")\n",
    "print(age_group_avg_purchase)\n"
   ]
  },
  {
   "cell_type": "markdown",
   "metadata": {},
   "source": [
    "## 동작 순서:\n",
    "- **pd.cut()**을 사용하여 나이를 기준으로 고객을 세그먼트화합니다.\n",
    "- **groupby()**와 **mean()**을 사용하여 각 나이대의 평균 구매 금액을 계산합니다."
   ]
  },
  {
   "cell_type": "markdown",
   "metadata": {},
   "source": [
    "## 3. 주식 데이터 분석 (Stock Data Analysis)\n",
    "- 목표: 주식 가격 데이터를 바탕으로 이동 평균을 계산하고, 주식의 가격 트렌드를 분석하여, 특정 기간의 이동 평균을 비교"
   ]
  },
  {
   "cell_type": "code",
   "execution_count": 19,
   "metadata": {},
   "outputs": [
    {
     "name": "stdout",
     "output_type": "stream",
     "text": [
      "         Date  Close\n",
      "0  2023-01-01    150\n",
      "1  2023-01-02    153\n",
      "2  2023-01-03    149\n",
      "3  2023-01-04    155\n",
      "4  2023-01-05    158\n",
      "5  2023-01-06    157\n",
      "6  2023-01-07    160\n",
      "7  2023-01-08    162\n",
      "8  2023-01-09    165\n",
      "9  2023-01-10    168\n"
     ]
    },
    {
     "data": {
      "text/plain": [
       "<Axes: title={'center': 'Stock Price and Moving Averages'}, xlabel='Date'>"
      ]
     },
     "execution_count": 19,
     "metadata": {},
     "output_type": "execute_result"
    },
    {
     "data": {
      "image/png": "[encoded data removed]",
      "text/plain": [
       "<Figure size 640x480 with 1 Axes>"
      ]
     },
     "metadata": {},
     "output_type": "display_data"
    }
   ],
   "source": [
    "import pandas as pd\n",
    "\n",
    "# 주식 데이터 로드\n",
    "df = pd.read_csv('data/stock_data.csv')\n",
    "print(df)\n",
    "\n",
    "# 날짜 형식 변환\n",
    "df['Date'] = pd.to_datetime(df['Date'])\n",
    "\n",
    "# 20일, 50일 이동 평균 계산\n",
    "df['MA_20'] = df['Close'].rolling(window=20).mean()\n",
    "df['MA_50'] = df['Close'].rolling(window=50).mean()\n",
    "\n",
    "# 이동 평균과 주가 비교\n",
    "df[['Date', 'Close', 'MA_20', 'MA_50']].plot(x='Date', title='Stock Price and Moving Averages')\n"
   ]
  },
  {
   "cell_type": "markdown",
   "metadata": {},
   "source": [
    "------------------------------------------------------------------------------------------------------------------------\n",
    "# 3. 주식 데이터 분석: 이동 평균 (rolling() 사용)\n",
    "- 주식 가격 데이터를 바탕으로 20일과 50일 이동 평균을 계산하여, 주식 가격 트렌드를 분석하는 방법입니다."
   ]
  },
  {
   "cell_type": "code",
   "execution_count": 26,
   "metadata": {},
   "outputs": [
    {
     "name": "stdout",
     "output_type": "stream",
     "text": [
      "         Date  Close\n",
      "0  2023-01-01    150\n",
      "1  2023-01-02    153\n",
      "2  2023-01-03    149\n",
      "3  2023-01-04    155\n",
      "4  2023-01-05    158\n",
      "5  2023-01-06    157\n",
      "6  2023-01-07    160\n",
      "7  2023-01-08    162\n",
      "8  2023-01-09    165\n",
      "9  2023-01-10    168\n",
      "\n",
      "주식 가격과 이동 평균:\n",
      "         Date  Close   MA_3   MA_5\n",
      "0  2023-01-01    150    NaN    NaN\n",
      "1  2023-01-02    153    NaN    NaN\n",
      "2  2023-01-03    149  150.7    NaN\n",
      "3  2023-01-04    155  152.3    NaN\n",
      "4  2023-01-05    158  154.0  153.0\n",
      "5  2023-01-06    157  156.7  154.4\n",
      "6  2023-01-07    160  158.3  155.8\n",
      "7  2023-01-08    162  159.7  158.4\n",
      "8  2023-01-09    165  162.3  160.4\n",
      "9  2023-01-10    168  165.0  162.4\n"
     ]
    }
   ],
   "source": [
    "# 주식 데이터 불러오기\n",
    "df_stock = pd.read_csv('./data/stock_data.csv')\n",
    "print(df_stock)\n",
    "\n",
    "# 20일, 50일 이동 평균 계산\n",
    "df_stock['MA_3'] = round(df_stock['Close'].rolling(window=3).mean(),1) \n",
    "df_stock['MA_5'] = round(df_stock['Close'].rolling(window=5).mean(),1) \n",
    "\n",
    "# 이동 평균과 주식 가격 비교\n",
    "print(\"\\n주식 가격과 이동 평균:\")\n",
    "print(df_stock[['Date', 'Close', 'MA_3', 'MA_5']])\n"
   ]
  },
  {
   "cell_type": "markdown",
   "metadata": {},
   "source": [
    "- groupby(): 데이터를 특정 기준으로 그룹화하고 집계하는 데 사용됩니다. 이를 통해 각 그룹별로 유의미한 정보를 도출할 수 있습니다.\n",
    "- filter(): 특정 조건에 맞는 데이터를 필터링할 때 사용됩니다. 예를 들어, 매출이 1200 이상인 지역만 선택하거나, 고객의 평균 구매 금액을 비교하는 데 유용합니다.\n",
    "- rolling(): 시계열 데이터를 다룰 때, 이동 평균을 계산하여 트렌드를 분석할 수 있습니다."
   ]
  },
  {
   "cell_type": "markdown",
   "metadata": {},
   "source": []
  }
 ],
 "metadata": {
  "kernelspec": {
   "display_name": "Python 3",
   "language": "python",
   "name": "python3"
  },
  "language_info": {
   "codemirror_mode": {
    "name": "ipython",
    "version": 3
   },
   "file_extension": ".py",
   "mimetype": "text/x-python",
   "name": "python",
   "nbconvert_exporter": "python",
   "pygments_lexer": "ipython3",
   "version": "3.11.10"
  }
 },
 "nbformat": 4,
 "nbformat_minor": 2
}
