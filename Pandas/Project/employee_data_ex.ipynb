{
 "cells": [
  {
   "cell_type": "code",
   "execution_count": 1,
   "metadata": {},
   "outputs": [],
   "source": [
    "import pandas as pd\n",
    "import numpy as np\n",
    "\n",
    "# 난수 생성 시드 설정\n",
    "np.random.seed(42)\n",
    "\n",
    "# 데이터 생성\n",
    "data = {\n",
    "    'ID': range(1, 201),  # 1부터 200까지의 직원 ID\n",
    "    'Age': np.random.randint(18, 70, 200),  # 18세에서 70세 사이의 나이\n",
    "    'Salary' : [np.random.choice([np.random.randint(30000, 120000),\n",
    "                             np.random.randint(30000, 120000),\n",
    "                             np.random.randint(30000, 120000),\n",
    "                             np.random.randint(300000, 500000)]) for _ in range(200)],\n",
    " # 30,000에서 120,000 사이의 연봉\n",
    "    'Department': np.random.choice(['HR', 'Engineering', 'Marketing', 'Sales'], 200),  # 부서명\n",
    "    'JoinDate': pd.to_datetime(np.random.choice(pd.date_range('2010-01-01', '2024-01-01', freq='D'), 200))  # 입사일\n",
    "    \n",
    "}\n",
    "\n",
    "# DataFrame 생성\n",
    "df = pd.DataFrame(data)\n",
    "\n",
    "df.loc[0:9, 'Age'] = np.nan\n",
    "df.loc[20:29, 'Salary'] = np.nan\n",
    "df.loc[40:49, 'JoinDate'] = np.nan\n",
    "df.loc[60:69, 'Department'] = np.nan\n",
    "\n",
    "\n",
    "\n",
    "# CSV 파일로 저장\n",
    "df.to_csv('employee_data.csv', index=False)\n"
   ]
  },
  {
   "cell_type": "code",
   "execution_count": 2,
   "metadata": {},
   "outputs": [
    {
     "name": "stdout",
     "output_type": "stream",
     "text": [
      "ID             0\n",
      "Age           10\n",
      "Salary        10\n",
      "Department    10\n",
      "JoinDate      10\n",
      "dtype: int64\n"
     ]
    }
   ],
   "source": [
    "# 데이터 불러오기\n",
    "df = pd.read_csv('employee_data.csv')\n",
    "\n",
    "# 결측치 확인\n",
    "print(df.isnull().sum())\n",
    "\n",
    "# 결측치가 있는 행 삭제\n",
    "df_no_missing = df.dropna()\n"
   ]
  },
  {
   "cell_type": "code",
   "execution_count": 63,
   "metadata": {},
   "outputs": [
    {
     "name": "stdout",
     "output_type": "stream",
     "text": [
      "   ID  Age  Salary Department    JoinDate\n",
      "0   1  NaN   88053  Marketing  2023-09-15\n",
      "1   2  NaN   96199      Sales  2012-04-02\n",
      "2   3  NaN   91087      Sales  2012-08-01\n",
      "3   4  NaN  113211      Sales  2022-02-12\n",
      "4   5  NaN   97172      Sales  2012-02-14\n"
     ]
    }
   ],
   "source": [
    "# 'Salary' 결측치를 평균값으로 대체\n",
    "df['Salary'] = df['Salary'].fillna(df['Salary'].mean())\n",
    "\n",
    "\n",
    "# 'Salary'를 정수형으로 변환\n",
    "df['Salary'] = df['Salary'].astype(int)\n",
    "\n",
    "# 데이터 확인\n",
    "print(df.head())\n",
    "\n",
    "\n"
   ]
  },
  {
   "cell_type": "code",
   "execution_count": 67,
   "metadata": {},
   "outputs": [
    {
     "data": {
      "text/plain": [
       "158"
      ]
     },
     "execution_count": 67,
     "metadata": {},
     "output_type": "execute_result"
    }
   ],
   "source": [
    "# 이상치 제거 (IQR 방식)\n",
    "Q1 = df['Salary'].quantile(0.25)\n",
    "Q3 = df['Salary'].quantile(0.75)\n",
    "IQR = Q3 - Q1\n",
    "\n",
    "# IQR 범위 벗어난 값 제거\n",
    "df_no_outliers = df[(df['Salary'] >= (Q1 - 1.5 * IQR)) & (df['Salary'] <= (Q3 + 1.5 * IQR))]\n",
    "len(df_no_outliers)\n",
    "\n"
   ]
  },
  {
   "cell_type": "code",
   "execution_count": 70,
   "metadata": {},
   "outputs": [
    {
     "data": {
      "text/html": [
       "<div>\n",
       "<style scoped>\n",
       "    .dataframe tbody tr th:only-of-type {\n",
       "        vertical-align: middle;\n",
       "    }\n",
       "\n",
       "    .dataframe tbody tr th {\n",
       "        vertical-align: top;\n",
       "    }\n",
       "\n",
       "    .dataframe thead th {\n",
       "        text-align: right;\n",
       "    }\n",
       "</style>\n",
       "<table border=\"1\" class=\"dataframe\">\n",
       "  <thead>\n",
       "    <tr style=\"text-align: right;\">\n",
       "      <th></th>\n",
       "      <th>ID</th>\n",
       "      <th>Age</th>\n",
       "      <th>Salary</th>\n",
       "      <th>Department</th>\n",
       "      <th>JoinDate</th>\n",
       "    </tr>\n",
       "  </thead>\n",
       "  <tbody>\n",
       "    <tr>\n",
       "      <th>0</th>\n",
       "      <td>1</td>\n",
       "      <td>NaN</td>\n",
       "      <td>88053</td>\n",
       "      <td>Marketing</td>\n",
       "      <td>2023-09-15</td>\n",
       "    </tr>\n",
       "    <tr>\n",
       "      <th>1</th>\n",
       "      <td>2</td>\n",
       "      <td>NaN</td>\n",
       "      <td>96199</td>\n",
       "      <td>Sales</td>\n",
       "      <td>2012-04-02</td>\n",
       "    </tr>\n",
       "    <tr>\n",
       "      <th>2</th>\n",
       "      <td>3</td>\n",
       "      <td>NaN</td>\n",
       "      <td>91087</td>\n",
       "      <td>Sales</td>\n",
       "      <td>2012-08-01</td>\n",
       "    </tr>\n",
       "    <tr>\n",
       "      <th>3</th>\n",
       "      <td>4</td>\n",
       "      <td>NaN</td>\n",
       "      <td>113211</td>\n",
       "      <td>Sales</td>\n",
       "      <td>2022-02-12</td>\n",
       "    </tr>\n",
       "    <tr>\n",
       "      <th>4</th>\n",
       "      <td>5</td>\n",
       "      <td>NaN</td>\n",
       "      <td>97172</td>\n",
       "      <td>Sales</td>\n",
       "      <td>2012-02-14</td>\n",
       "    </tr>\n",
       "    <tr>\n",
       "      <th>...</th>\n",
       "      <td>...</td>\n",
       "      <td>...</td>\n",
       "      <td>...</td>\n",
       "      <td>...</td>\n",
       "      <td>...</td>\n",
       "    </tr>\n",
       "    <tr>\n",
       "      <th>195</th>\n",
       "      <td>196</td>\n",
       "      <td>69.0</td>\n",
       "      <td>470738</td>\n",
       "      <td>Sales</td>\n",
       "      <td>2016-09-27</td>\n",
       "    </tr>\n",
       "    <tr>\n",
       "      <th>196</th>\n",
       "      <td>197</td>\n",
       "      <td>30.0</td>\n",
       "      <td>107834</td>\n",
       "      <td>Sales</td>\n",
       "      <td>2021-11-25</td>\n",
       "    </tr>\n",
       "    <tr>\n",
       "      <th>197</th>\n",
       "      <td>198</td>\n",
       "      <td>58.0</td>\n",
       "      <td>85318</td>\n",
       "      <td>HR</td>\n",
       "      <td>2023-04-17</td>\n",
       "    </tr>\n",
       "    <tr>\n",
       "      <th>198</th>\n",
       "      <td>199</td>\n",
       "      <td>20.0</td>\n",
       "      <td>105993</td>\n",
       "      <td>Engineering</td>\n",
       "      <td>2014-12-10</td>\n",
       "    </tr>\n",
       "    <tr>\n",
       "      <th>199</th>\n",
       "      <td>200</td>\n",
       "      <td>56.0</td>\n",
       "      <td>391751</td>\n",
       "      <td>HR</td>\n",
       "      <td>2018-10-18</td>\n",
       "    </tr>\n",
       "  </tbody>\n",
       "</table>\n",
       "<p>200 rows × 5 columns</p>\n",
       "</div>"
      ],
      "text/plain": [
       "      ID   Age  Salary   Department   JoinDate\n",
       "0      1   NaN   88053    Marketing 2023-09-15\n",
       "1      2   NaN   96199        Sales 2012-04-02\n",
       "2      3   NaN   91087        Sales 2012-08-01\n",
       "3      4   NaN  113211        Sales 2022-02-12\n",
       "4      5   NaN   97172        Sales 2012-02-14\n",
       "..   ...   ...     ...          ...        ...\n",
       "195  196  69.0  470738        Sales 2016-09-27\n",
       "196  197  30.0  107834        Sales 2021-11-25\n",
       "197  198  58.0   85318           HR 2023-04-17\n",
       "198  199  20.0  105993  Engineering 2014-12-10\n",
       "199  200  56.0  391751           HR 2018-10-18\n",
       "\n",
       "[200 rows x 5 columns]"
      ]
     },
     "execution_count": 70,
     "metadata": {},
     "output_type": "execute_result"
    }
   ],
   "source": [
    "# 'JoinDate'를 datetime 형식으로 변환\n",
    "df['JoinDate'] = pd.to_datetime(df['JoinDate'])\n",
    "df\n"
   ]
  },
  {
   "cell_type": "code",
   "execution_count": 71,
   "metadata": {},
   "outputs": [
    {
     "data": {
      "image/png": "[encoded data removed]",
      "text/plain": [
       "<Figure size 1000x600 with 1 Axes>"
      ]
     },
     "metadata": {},
     "output_type": "display_data"
    }
   ],
   "source": [
    "import seaborn as sns\n",
    "import matplotlib.pyplot as plt\n",
    "\n",
    "# 결측치 히트맵 확인\n",
    "plt.figure(figsize=(10, 6))\n",
    "sns.heatmap(df.isnull(), cbar=False, cmap='viridis')\n",
    "plt.title('Missing Data Heatmap')\n",
    "plt.show()\n"
   ]
  },
  {
   "cell_type": "code",
   "execution_count": 72,
   "metadata": {},
   "outputs": [
    {
     "name": "stdout",
     "output_type": "stream",
     "text": [
      "Empty DataFrame\n",
      "Columns: [ID, Age, Salary, Department, JoinDate]\n",
      "Index: []\n"
     ]
    }
   ],
   "source": [
    "# 중복된 데이터 확인\n",
    "print(df[df.duplicated()])\n",
    "\n",
    "# 중복 행 삭제 (첫 번째 값만 유지)\n",
    "df_no_duplicates = df.drop_duplicates(keep='first')\n"
   ]
  },
  {
   "cell_type": "code",
   "execution_count": 75,
   "metadata": {},
   "outputs": [
    {
     "data": {
      "text/html": [
       "<div>\n",
       "<style scoped>\n",
       "    .dataframe tbody tr th:only-of-type {\n",
       "        vertical-align: middle;\n",
       "    }\n",
       "\n",
       "    .dataframe tbody tr th {\n",
       "        vertical-align: top;\n",
       "    }\n",
       "\n",
       "    .dataframe thead th {\n",
       "        text-align: right;\n",
       "    }\n",
       "</style>\n",
       "<table border=\"1\" class=\"dataframe\">\n",
       "  <thead>\n",
       "    <tr style=\"text-align: right;\">\n",
       "      <th></th>\n",
       "      <th>ID</th>\n",
       "      <th>Age</th>\n",
       "      <th>Salary</th>\n",
       "      <th>JoinDate</th>\n",
       "      <th>Department</th>\n",
       "    </tr>\n",
       "  </thead>\n",
       "  <tbody>\n",
       "    <tr>\n",
       "      <th>0</th>\n",
       "      <td>1</td>\n",
       "      <td>NaN</td>\n",
       "      <td>88053.0</td>\n",
       "      <td>2020-07-14</td>\n",
       "      <td>Sales</td>\n",
       "    </tr>\n",
       "    <tr>\n",
       "      <th>1</th>\n",
       "      <td>2</td>\n",
       "      <td>NaN</td>\n",
       "      <td>51959.0</td>\n",
       "      <td>2022-04-23</td>\n",
       "      <td>HR</td>\n",
       "    </tr>\n",
       "    <tr>\n",
       "      <th>5</th>\n",
       "      <td>6</td>\n",
       "      <td>NaN</td>\n",
       "      <td>96199.0</td>\n",
       "      <td>2023-07-01</td>\n",
       "      <td>HR</td>\n",
       "    </tr>\n",
       "    <tr>\n",
       "      <th>6</th>\n",
       "      <td>7</td>\n",
       "      <td>NaN</td>\n",
       "      <td>64766.0</td>\n",
       "      <td>2017-08-06</td>\n",
       "      <td>Marketing</td>\n",
       "    </tr>\n",
       "    <tr>\n",
       "      <th>7</th>\n",
       "      <td>8</td>\n",
       "      <td>NaN</td>\n",
       "      <td>103530.0</td>\n",
       "      <td>2015-06-06</td>\n",
       "      <td>Marketing</td>\n",
       "    </tr>\n",
       "    <tr>\n",
       "      <th>...</th>\n",
       "      <td>...</td>\n",
       "      <td>...</td>\n",
       "      <td>...</td>\n",
       "      <td>...</td>\n",
       "      <td>...</td>\n",
       "    </tr>\n",
       "    <tr>\n",
       "      <th>192</th>\n",
       "      <td>193</td>\n",
       "      <td>50.0</td>\n",
       "      <td>59592.0</td>\n",
       "      <td>2013-04-06</td>\n",
       "      <td>Engineering</td>\n",
       "    </tr>\n",
       "    <tr>\n",
       "      <th>195</th>\n",
       "      <td>196</td>\n",
       "      <td>69.0</td>\n",
       "      <td>118891.0</td>\n",
       "      <td>2013-05-02</td>\n",
       "      <td>HR</td>\n",
       "    </tr>\n",
       "    <tr>\n",
       "      <th>196</th>\n",
       "      <td>197</td>\n",
       "      <td>30.0</td>\n",
       "      <td>117545.0</td>\n",
       "      <td>2014-03-21</td>\n",
       "      <td>Marketing</td>\n",
       "    </tr>\n",
       "    <tr>\n",
       "      <th>197</th>\n",
       "      <td>198</td>\n",
       "      <td>58.0</td>\n",
       "      <td>119912.0</td>\n",
       "      <td>2018-11-11</td>\n",
       "      <td>HR</td>\n",
       "    </tr>\n",
       "    <tr>\n",
       "      <th>198</th>\n",
       "      <td>199</td>\n",
       "      <td>20.0</td>\n",
       "      <td>100316.0</td>\n",
       "      <td>2016-07-14</td>\n",
       "      <td>HR</td>\n",
       "    </tr>\n",
       "  </tbody>\n",
       "</table>\n",
       "<p>142 rows × 5 columns</p>\n",
       "</div>"
      ],
      "text/plain": [
       "      ID   Age    Salary   JoinDate   Department\n",
       "0      1   NaN   88053.0 2020-07-14        Sales\n",
       "1      2   NaN   51959.0 2022-04-23           HR\n",
       "5      6   NaN   96199.0 2023-07-01           HR\n",
       "6      7   NaN   64766.0 2017-08-06    Marketing\n",
       "7      8   NaN  103530.0 2015-06-06    Marketing\n",
       "..   ...   ...       ...        ...          ...\n",
       "192  193  50.0   59592.0 2013-04-06  Engineering\n",
       "195  196  69.0  118891.0 2013-05-02           HR\n",
       "196  197  30.0  117545.0 2014-03-21    Marketing\n",
       "197  198  58.0  119912.0 2018-11-11           HR\n",
       "198  199  20.0  100316.0 2016-07-14           HR\n",
       "\n",
       "[142 rows x 5 columns]"
      ]
     },
     "execution_count": 75,
     "metadata": {},
     "output_type": "execute_result"
    }
   ],
   "source": [
    "# 연봉이 50,000 이상인 직원 필터링\n",
    "df_filtered = df[df['Salary'] >= 50000]\n",
    "df_filtered\n"
   ]
  },
  {
   "cell_type": "code",
   "execution_count": 78,
   "metadata": {},
   "outputs": [
    {
     "data": {
      "text/html": [
       "<div>\n",
       "<style scoped>\n",
       "    .dataframe tbody tr th:only-of-type {\n",
       "        vertical-align: middle;\n",
       "    }\n",
       "\n",
       "    .dataframe tbody tr th {\n",
       "        vertical-align: top;\n",
       "    }\n",
       "\n",
       "    .dataframe thead th {\n",
       "        text-align: right;\n",
       "    }\n",
       "</style>\n",
       "<table border=\"1\" class=\"dataframe\">\n",
       "  <thead>\n",
       "    <tr style=\"text-align: right;\">\n",
       "      <th></th>\n",
       "      <th>index</th>\n",
       "      <th>ID</th>\n",
       "      <th>Age</th>\n",
       "      <th>Salary</th>\n",
       "      <th>JoinDate</th>\n",
       "      <th>Department</th>\n",
       "    </tr>\n",
       "  </thead>\n",
       "  <tbody>\n",
       "    <tr>\n",
       "      <th>0</th>\n",
       "      <td>12</td>\n",
       "      <td>13</td>\n",
       "      <td>41.0</td>\n",
       "      <td>76576.0</td>\n",
       "      <td>2011-07-29</td>\n",
       "      <td>Engineering</td>\n",
       "    </tr>\n",
       "    <tr>\n",
       "      <th>1</th>\n",
       "      <td>13</td>\n",
       "      <td>14</td>\n",
       "      <td>53.0</td>\n",
       "      <td>69353.0</td>\n",
       "      <td>2018-12-06</td>\n",
       "      <td>Sales</td>\n",
       "    </tr>\n",
       "    <tr>\n",
       "      <th>2</th>\n",
       "      <td>14</td>\n",
       "      <td>15</td>\n",
       "      <td>57.0</td>\n",
       "      <td>92003.0</td>\n",
       "      <td>2013-02-22</td>\n",
       "      <td>Marketing</td>\n",
       "    </tr>\n",
       "    <tr>\n",
       "      <th>3</th>\n",
       "      <td>15</td>\n",
       "      <td>16</td>\n",
       "      <td>41.0</td>\n",
       "      <td>113211.0</td>\n",
       "      <td>2014-09-12</td>\n",
       "      <td>Marketing</td>\n",
       "    </tr>\n",
       "    <tr>\n",
       "      <th>4</th>\n",
       "      <td>17</td>\n",
       "      <td>18</td>\n",
       "      <td>39.0</td>\n",
       "      <td>95318.0</td>\n",
       "      <td>2023-07-05</td>\n",
       "      <td>Sales</td>\n",
       "    </tr>\n",
       "    <tr>\n",
       "      <th>...</th>\n",
       "      <td>...</td>\n",
       "      <td>...</td>\n",
       "      <td>...</td>\n",
       "      <td>...</td>\n",
       "      <td>...</td>\n",
       "      <td>...</td>\n",
       "    </tr>\n",
       "    <tr>\n",
       "      <th>78</th>\n",
       "      <td>190</td>\n",
       "      <td>191</td>\n",
       "      <td>42.0</td>\n",
       "      <td>79689.0</td>\n",
       "      <td>2019-01-15</td>\n",
       "      <td>HR</td>\n",
       "    </tr>\n",
       "    <tr>\n",
       "      <th>79</th>\n",
       "      <td>191</td>\n",
       "      <td>192</td>\n",
       "      <td>56.0</td>\n",
       "      <td>80993.0</td>\n",
       "      <td>2014-03-23</td>\n",
       "      <td>HR</td>\n",
       "    </tr>\n",
       "    <tr>\n",
       "      <th>80</th>\n",
       "      <td>195</td>\n",
       "      <td>196</td>\n",
       "      <td>69.0</td>\n",
       "      <td>118891.0</td>\n",
       "      <td>2013-05-02</td>\n",
       "      <td>HR</td>\n",
       "    </tr>\n",
       "    <tr>\n",
       "      <th>81</th>\n",
       "      <td>196</td>\n",
       "      <td>197</td>\n",
       "      <td>30.0</td>\n",
       "      <td>117545.0</td>\n",
       "      <td>2014-03-21</td>\n",
       "      <td>Marketing</td>\n",
       "    </tr>\n",
       "    <tr>\n",
       "      <th>82</th>\n",
       "      <td>197</td>\n",
       "      <td>198</td>\n",
       "      <td>58.0</td>\n",
       "      <td>119912.0</td>\n",
       "      <td>2018-11-11</td>\n",
       "      <td>HR</td>\n",
       "    </tr>\n",
       "  </tbody>\n",
       "</table>\n",
       "<p>83 rows × 6 columns</p>\n",
       "</div>"
      ],
      "text/plain": [
       "    index   ID   Age    Salary   JoinDate   Department\n",
       "0      12   13  41.0   76576.0 2011-07-29  Engineering\n",
       "1      13   14  53.0   69353.0 2018-12-06        Sales\n",
       "2      14   15  57.0   92003.0 2013-02-22    Marketing\n",
       "3      15   16  41.0  113211.0 2014-09-12    Marketing\n",
       "4      17   18  39.0   95318.0 2023-07-05        Sales\n",
       "..    ...  ...   ...       ...        ...          ...\n",
       "78    190  191  42.0   79689.0 2019-01-15           HR\n",
       "79    191  192  56.0   80993.0 2014-03-23           HR\n",
       "80    195  196  69.0  118891.0 2013-05-02           HR\n",
       "81    196  197  30.0  117545.0 2014-03-21    Marketing\n",
       "82    197  198  58.0  119912.0 2018-11-11           HR\n",
       "\n",
       "[83 rows x 6 columns]"
      ]
     },
     "execution_count": 78,
     "metadata": {},
     "output_type": "execute_result"
    }
   ],
   "source": [
    "# 30대 이상이고 연봉이 60,000 이상인 직원\n",
    "df_filtered_complex = df[(df['Age'] >= 30) & (df['Salary'] >= 60000)]\n",
    "df_filtered_complex.reset_index()\n"
   ]
  },
  {
   "cell_type": "code",
   "execution_count": 89,
   "metadata": {},
   "outputs": [
    {
     "name": "stdout",
     "output_type": "stream",
     "text": [
      "      Age    Salary\n",
      "0     NaN   88053.0\n",
      "1     NaN   51959.0\n",
      "2     NaN   35530.0\n",
      "3     NaN   33748.0\n",
      "4     NaN   43545.0\n",
      "..    ...       ...\n",
      "195  69.0  118891.0\n",
      "196  30.0  117545.0\n",
      "197  58.0  119912.0\n",
      "198  20.0  100316.0\n",
      "199  56.0   32368.0\n",
      "\n",
      "[200 rows x 2 columns]\n",
      "      Age    Salary\n",
      "0    28.0   84384.0\n",
      "1    28.0   81005.0\n",
      "2    41.0   76576.0\n",
      "3    53.0   69353.0\n",
      "4    57.0   92003.0\n",
      "..    ...       ...\n",
      "175  69.0  118891.0\n",
      "176  30.0  117545.0\n",
      "177  58.0  119912.0\n",
      "178  20.0  100316.0\n",
      "179  56.0   32368.0\n",
      "\n",
      "[180 rows x 2 columns]\n"
     ]
    }
   ],
   "source": [
    "# 'Age'와 'Salary'만 선택\n",
    "df_subset = df[['Age', 'Salary']]\n",
    "print(df_subset)\n",
    "\n",
    "# 'Age'에서 NaN 값만 삭제하고 인덱스를 리셋\n",
    "df_subset = df_subset.dropna(subset=['Age','Salary']).reset_index(drop=True)\n",
    "print(df_subset)\n"
   ]
  },
  {
   "cell_type": "code",
   "execution_count": 92,
   "metadata": {},
   "outputs": [
    {
     "name": "stdout",
     "output_type": "stream",
     "text": [
      "    Department  Salary  Age\n",
      "0  Engineering   70414   40\n",
      "1           HR   72024   47\n",
      "2    Marketing   79575   42\n",
      "3        Sales   70625   41\n"
     ]
    }
   ],
   "source": [
    "# 부서별 평균 Salary와 Age 계산\n",
    "df_grouped = df.groupby('Department').agg({'Salary': 'mean', 'Age': 'mean'}).reset_index()\n",
    "\n",
    "# 각 열을 정수형으로 변환\n",
    "df_grouped['Salary'] = df_grouped['Salary'].astype(int)\n",
    "df_grouped['Age'] = df_grouped['Age'].astype(int)\n",
    "\n",
    "print(df_grouped)\n"
   ]
  },
  {
   "cell_type": "code",
   "execution_count": 3,
   "metadata": {},
   "outputs": [
    {
     "name": "stdout",
     "output_type": "stream",
     "text": [
      "AgeGroup         20s      30s      40s      50s      60s\n",
      "Department                                              \n",
      "Engineering  246,028   64,038  122,361  164,394  126,006\n",
      "HR           118,117  108,162  180,413  119,072   97,836\n",
      "Marketing    109,020  158,856  126,599  250,862  137,594\n",
      "Sales        156,577   83,568  168,193  108,182  250,823\n"
     ]
    },
    {
     "name": "stderr",
     "output_type": "stream",
     "text": [
      "/var/folders/h8/dk4pn1l11_5f5z7pscs8gr0r0000gn/T/ipykernel_3131/1525734231.py:3: FutureWarning: The default value of observed=False is deprecated and will change to observed=True in a future version of pandas. Specify observed=False to silence this warning and retain the current behavior\n",
      "  df_pivot = df.pivot_table(values='Salary', index='Department', columns='AgeGroup', aggfunc='mean').astype(int).applymap(lambda x: f'{x:,}')\n",
      "/var/folders/h8/dk4pn1l11_5f5z7pscs8gr0r0000gn/T/ipykernel_3131/1525734231.py:3: FutureWarning: DataFrame.applymap has been deprecated. Use DataFrame.map instead.\n",
      "  df_pivot = df.pivot_table(values='Salary', index='Department', columns='AgeGroup', aggfunc='mean').astype(int).applymap(lambda x: f'{x:,}')\n"
     ]
    }
   ],
   "source": [
    "# 부서별, 나이대별 평균 Salary 계산 (피벗)\n",
    "df['AgeGroup'] = pd.cut(df['Age'], bins=[18, 29, 39, 49, 59, 70], labels=['20s', '30s', '40s', '50s', '60s'])\n",
    "df_pivot = df.pivot_table(values='Salary', index='Department', columns='AgeGroup', aggfunc='mean').astype(int).applymap(lambda x: f'{x:,}')\n",
    "print(df_pivot)\n"
   ]
  },
  {
   "cell_type": "code",
   "execution_count": 12,
   "metadata": {},
   "outputs": [
    {
     "data": {
      "image/png": "[encoded data removed]",
      "text/plain": [
       "<Figure size 1000x600 with 1 Axes>"
      ]
     },
     "metadata": {},
     "output_type": "display_data"
    }
   ],
   "source": [
    "import seaborn as sns\n",
    "import matplotlib.pyplot as plt\n",
    "\n",
    "# 부서별 연봉 분포\n",
    "plt.figure(figsize=(10, 6))\n",
    "sns.boxplot(x='AgeGroup', y='Salary', hue='Department', data=df)\n",
    "# sns.boxplot(x='AgeGroup', y='Salary', data=df)\n",
    "plt.title('Salary Distribution by Department')\n",
    "plt.show()\n"
   ]
  },
  {
   "cell_type": "code",
   "execution_count": 101,
   "metadata": {},
   "outputs": [
    {
     "data": {
      "image/png": "[encoded data removed]",
      "text/plain": [
       "<Figure size 600x400 with 2 Axes>"
      ]
     },
     "metadata": {},
     "output_type": "display_data"
    }
   ],
   "source": [
    "# 상관관계 히트맵\n",
    "corr = df[['Age', 'Salary']].corr()\n",
    "plt.figure(figsize=(6, 4))\n",
    "sns.heatmap(corr, annot=True, cmap='coolwarm', fmt='.2f')\n",
    "plt.title('Correlation Heatmap')\n",
    "plt.show()\n"
   ]
  },
  {
   "cell_type": "code",
   "execution_count": 105,
   "metadata": {},
   "outputs": [
    {
     "data": {
      "text/plain": [
       "''"
      ]
     },
     "execution_count": 105,
     "metadata": {},
     "output_type": "execute_result"
    }
   ],
   "source": [
    "from fpdf import FPDF\n",
    "\n",
    "# PDF 객체 생성\n",
    "pdf = FPDF()\n",
    "pdf.set_auto_page_break(auto=True, margin=15)\n",
    "pdf.add_page()\n",
    "\n",
    "# 제목\n",
    "pdf.set_font(\"Arial\", size=16, style='B')\n",
    "pdf.cell(200, 10, txt=\"Employee Data Analysis Report\", ln=True, align='C')\n",
    "\n",
    "# 데이터 그룹화 결과\n",
    "pdf.ln(10)\n",
    "pdf.set_font(\"Arial\", size=12)\n",
    "pdf.cell(200, 10, txt=\"Department-wise Salary and Age Analysis\", ln=True)\n",
    "pdf.ln(5)\n",
    "\n",
    "# 테이블 추가\n",
    "pdf.set_font(\"Arial\", size=10)\n",
    "pdf.cell(40, 10, \"Department\", border=1)\n",
    "pdf.cell(40, 10, \"Average Salary\", border=1)\n",
    "pdf.cell(40, 10, \"Average Age\", border=1)\n",
    "pdf.ln()\n",
    "\n",
    "for _, row in df_grouped.iterrows():\n",
    "    pdf.cell(40, 10, row['Department'], border=1)\n",
    "    pdf.cell(40, 10, str(row['Salary']), border=1)\n",
    "    pdf.cell(40, 10, str(row['Age']), border=1)\n",
    "    pdf.ln()\n",
    "\n",
    "# PDF 저장\n",
    "pdf.output(\"employee_report.pdf\")\n"
   ]
  },
  {
   "cell_type": "code",
   "execution_count": 103,
   "metadata": {},
   "outputs": [
    {
     "name": "stdout",
     "output_type": "stream",
     "text": [
      "Collecting fpdf\n",
      "  Downloading fpdf-1.7.2.tar.gz (39 kB)\n",
      "  Preparing metadata (setup.py) ... \u001b[?25ldone\n",
      "\u001b[?25hBuilding wheels for collected packages: fpdf\n",
      "  Building wheel for fpdf (setup.py) ... \u001b[?25ldone\n",
      "\u001b[?25h  Created wheel for fpdf: filename=fpdf-1.7.2-py2.py3-none-any.whl size=40705 sha256=a4f02e9ec3d7c356ad51900628f64e6523b4fd5a5af4c5e7dfc6ccb16f78e4cc\n",
      "  Stored in directory: /Users/kimjongphil/Library/Caches/pip/wheels/65/4f/66/bbda9866da446a72e206d6484cd97381cbc7859a7068541c36\n",
      "Successfully built fpdf\n",
      "Installing collected packages: fpdf\n",
      "Successfully installed fpdf-1.7.2\n"
     ]
    }
   ],
   "source": [
    "!pip install fpdf"
   ]
  },
  {
   "cell_type": "markdown",
   "metadata": {},
   "source": [
    "------------------------------------------------------------------------------------------------------------------------------------------------------------"
   ]
  },
  {
   "cell_type": "code",
   "execution_count": 73,
   "metadata": {},
   "outputs": [],
   "source": [
    "import pandas as pd\n",
    "import numpy as np\n",
    "\n",
    "# 임의의 데이터 생성\n",
    "np.random.seed(42)\n",
    "\n",
    "# 200개의 샘플을 생성\n",
    "data = {\n",
    "    'ID': range(1, 201),\n",
    "    'Age': np.random.randint(18, 70, 200),\n",
    "    'Salary': np.random.randint(30000, 120000, 200),\n",
    "    'JoinDate': pd.to_datetime(np.random.choice(pd.date_range('2010-01-01', '2024-01-01', freq='D'), 200)),\n",
    "    'Department': np.random.choice(['HR', 'Engineering', 'Marketing', 'Sales'], 200)\n",
    "}\n",
    "\n",
    "df = pd.DataFrame(data)\n",
    "\n",
    "# 일부러 결측치 추가 (각각 10개씩)\n",
    "df.loc[0:9, 'Age'] = np.nan\n",
    "df.loc[20:29, 'Salary'] = np.nan\n",
    "df.loc[40:49, 'JoinDate'] = np.nan\n",
    "df.loc[60:69, 'Department'] = np.nan\n",
    "\n",
    "# CSV 파일로 저장\n",
    "df.to_csv('./data/employee_data_with_missing.csv', index=False)\n"
   ]
  },
  {
   "cell_type": "code",
   "execution_count": 2,
   "metadata": {},
   "outputs": [
    {
     "name": "stdout",
     "output_type": "stream",
     "text": [
      "결측치 개수 확인:\n",
      "ID             0\n",
      "Age           10\n",
      "Salary        10\n",
      "JoinDate      10\n",
      "Department    10\n",
      "dtype: int64\n"
     ]
    }
   ],
   "source": [
    "# CSV 파일 불러오기\n",
    "df = pd.read_csv('./data/employee_data_with_missing.csv')\n",
    "\n",
    "# 결측치 확인\n",
    "print(\"결측치 개수 확인:\")\n",
    "print(df.isnull().sum())\n"
   ]
  },
  {
   "cell_type": "code",
   "execution_count": 17,
   "metadata": {},
   "outputs": [
    {
     "data": {
      "text/plain": [
       "0      43\n",
       "1      43\n",
       "2      43\n",
       "3      43\n",
       "4      43\n",
       "       ..\n",
       "195    69\n",
       "196    30\n",
       "197    58\n",
       "198    20\n",
       "199    56\n",
       "Name: Age, Length: 200, dtype: int64"
      ]
     },
     "execution_count": 17,
     "metadata": {},
     "output_type": "execute_result"
    }
   ],
   "source": [
    "df_filled = df.copy()\n",
    "df_filled['Age'].fillna(df_filled['Age'].mean()).astype(int)"
   ]
  },
  {
   "cell_type": "code",
   "execution_count": 18,
   "metadata": {},
   "outputs": [
    {
     "name": "stdout",
     "output_type": "stream",
     "text": [
      "결측치가 제거된 데이터:\n",
      "      ID   Age    Salary    JoinDate   Department\n",
      "10    11  28.0   84384.0  2020-03-25        Sales\n",
      "11    12  28.0   81005.0  2020-04-27        Sales\n",
      "12    13  41.0   76576.0  2011-07-29  Engineering\n",
      "13    14  53.0   69353.0  2018-12-06        Sales\n",
      "14    15  57.0   92003.0  2013-02-22    Marketing\n",
      "..   ...   ...       ...         ...          ...\n",
      "195  196  69.0  118891.0  2013-05-02           HR\n",
      "196  197  30.0  117545.0  2014-03-21    Marketing\n",
      "197  198  58.0  119912.0  2018-11-11           HR\n",
      "198  199  20.0  100316.0  2016-07-14           HR\n",
      "199  200  56.0   32368.0  2020-03-08        Sales\n",
      "\n",
      "[160 rows x 5 columns]\n",
      "\n",
      "결측치가 대체된 데이터:\n",
      "      ID  Age  Salary    JoinDate   Department\n",
      "0      1   43   88053  2020-07-14        Sales\n",
      "1      2   43   51959  2022-04-23           HR\n",
      "2      3   43   35530  2017-05-25           HR\n",
      "3      4   43   33748  2012-08-29  Engineering\n",
      "4      5   43   43545  2013-03-12        Sales\n",
      "..   ...  ...     ...         ...          ...\n",
      "195  196   69  118891  2013-05-02           HR\n",
      "196  197   30  117545  2014-03-21    Marketing\n",
      "197  198   58  119912  2018-11-11           HR\n",
      "198  199   20  100316  2016-07-14           HR\n",
      "199  200   56   32368  2020-03-08        Sales\n",
      "\n",
      "[200 rows x 5 columns]\n"
     ]
    }
   ],
   "source": [
    "# 결측치가 있는 행 제거\n",
    "df_no_missing = df.dropna()\n",
    "\n",
    "# 결측치를 각 컬럼의 평균값으로 대체\n",
    "df_filled = df.copy()\n",
    "df_filled['Age'] = df_filled['Age'].fillna(df_filled['Age'].mean()).astype(int)\n",
    "df_filled['Salary'] = df_filled['Salary'].fillna(df_filled['Salary'].mean()).astype(int)\n",
    "df_filled['JoinDate'] = df_filled['JoinDate'].fillna(df_filled['JoinDate'].mode()[0])\n",
    "df_filled['Department'] = df_filled['Department'].fillna(df_filled['Department'].mode()[0])\n",
    "\n",
    "print(\"결측치가 제거된 데이터:\")\n",
    "print(df_no_missing)\n",
    "print() \n",
    "\n",
    "print(\"결측치가 대체된 데이터:\")\n",
    "print(df_filled)\n"
   ]
  },
  {
   "cell_type": "code",
   "execution_count": 19,
   "metadata": {},
   "outputs": [
    {
     "name": "stdout",
     "output_type": "stream",
     "text": [
      "중복된 데이터 확인:\n",
      "Empty DataFrame\n",
      "Columns: [ID, Age, Salary, JoinDate, Department]\n",
      "Index: []\n",
      "중복 제거된 데이터:\n",
      "      ID  Age  Salary    JoinDate   Department\n",
      "0      1   43   88053  2020-07-14        Sales\n",
      "1      2   43   51959  2022-04-23           HR\n",
      "2      3   43   35530  2017-05-25           HR\n",
      "3      4   43   33748  2012-08-29  Engineering\n",
      "4      5   43   43545  2013-03-12        Sales\n",
      "..   ...  ...     ...         ...          ...\n",
      "195  196   69  118891  2013-05-02           HR\n",
      "196  197   30  117545  2014-03-21    Marketing\n",
      "197  198   58  119912  2018-11-11           HR\n",
      "198  199   20  100316  2016-07-14           HR\n",
      "199  200   56   32368  2020-03-08        Sales\n",
      "\n",
      "[200 rows x 5 columns]\n"
     ]
    }
   ],
   "source": [
    "# 중복된 행 확인\n",
    "print(\"중복된 데이터 확인:\")\n",
    "print(df_filled[df_filled.duplicated()])\n",
    "\n",
    "# 중복된 행 제거 (first, last 선택 가능)\n",
    "df_no_duplicates = df_filled.drop_duplicates(keep='first')\n",
    "print(\"중복 제거된 데이터:\")\n",
    "print(df_no_duplicates)\n"
   ]
  },
  {
   "cell_type": "code",
   "execution_count": 22,
   "metadata": {},
   "outputs": [
    {
     "data": {
      "image/png": "[encoded data removed]",
      "text/plain": [
       "<Figure size 1000x600 with 1 Axes>"
      ]
     },
     "metadata": {},
     "output_type": "display_data"
    },
    {
     "name": "stdout",
     "output_type": "stream",
     "text": [
      "Salary의 이상치 범위: -11750.625 ~ 157658.375\n",
      "이 범위를 벗어난 Salary 값: Empty DataFrame\n",
      "Columns: [ID, Age, Salary, JoinDate, Department]\n",
      "Index: []\n"
     ]
    }
   ],
   "source": [
    "# 이상치를 시각적으로 확인하기 위한 Boxplot\n",
    "import seaborn as sns\n",
    "import matplotlib.pyplot as plt\n",
    "\n",
    "plt.figure(figsize=(10, 6))\n",
    "sns.boxplot(x=df_filled['Salary'])\n",
    "plt.title('Salary Distribution with Boxplot')\n",
    "plt.show()\n",
    "\n",
    "# Salary 이상치 범위 확인 (IQR 방식)\n",
    "Q1 = df_filled['Salary'].quantile(0.25)\n",
    "Q3 = df_filled['Salary'].quantile(0.75)\n",
    "IQR = Q3 - Q1\n",
    "lower_bound = Q1 - 1.5 * IQR\n",
    "upper_bound = Q3 + 1.5 * IQR\n",
    "\n",
    "print(f\"Salary의 이상치 범위: {lower_bound} ~ {upper_bound}\")\n",
    "print(f\"이 범위를 벗어난 Salary 값: {df_filled[(df_filled['Salary'] < lower_bound) | (df_filled['Salary'] > upper_bound)]}\")\n"
   ]
  },
  {
   "cell_type": "code",
   "execution_count": 23,
   "metadata": {},
   "outputs": [
    {
     "name": "stdout",
     "output_type": "stream",
     "text": [
      "이상치가 제거된 데이터:\n",
      "   ID  Age  Salary    JoinDate   Department\n",
      "0   1   43   88053  2020-07-14        Sales\n",
      "1   2   43   51959  2022-04-23           HR\n",
      "2   3   43   35530  2017-05-25           HR\n",
      "3   4   43   33748  2012-08-29  Engineering\n",
      "4   5   43   43545  2013-03-12        Sales\n"
     ]
    }
   ],
   "source": [
    "# 이상치 제거\n",
    "df_no_outliers = df_filled[(df_filled['Salary'] >= lower_bound) & (df_filled['Salary'] <= upper_bound)]\n",
    "print(\"이상치가 제거된 데이터:\")\n",
    "print(df_no_outliers.head())\n"
   ]
  },
  {
   "cell_type": "code",
   "execution_count": 27,
   "metadata": {},
   "outputs": [
    {
     "name": "stdout",
     "output_type": "stream",
     "text": [
      "데이터 유형 확인:\n",
      "ID                     int64\n",
      "Age                  float64\n",
      "Salary               float64\n",
      "JoinDate      datetime64[ns]\n",
      "Department            object\n",
      "dtype: object\n",
      "데이터 유형이 정규화된 데이터:\n",
      "ID                     int64\n",
      "Age                  float64\n",
      "Salary                 int64\n",
      "JoinDate      datetime64[ns]\n",
      "Department            object\n",
      "dtype: object\n"
     ]
    }
   ],
   "source": [
    "# 데이터 유형 확인\n",
    "print(\"데이터 유형 확인:\")\n",
    "print(df.dtypes)\n",
    "\n",
    "# Salary를 정수형으로 변환\n",
    "# 결측치를 평균값으로 채운 후 Salary 열을 정수형으로 변환\n",
    "df['Salary'] = df['Salary'].fillna(df['Salary'].mean()).astype(int)\n",
    "\n",
    "# JoinDate가 datetime 형식으로 되어있는지 확인 후 변환\n",
    "df['JoinDate'] = pd.to_datetime(df['JoinDate'], errors='coerce')\n",
    "\n",
    "print(\"데이터 유형이 정규화된 데이터:\")\n",
    "print(df.dtypes)\n"
   ]
  }
 ],
 "metadata": {
  "kernelspec": {
   "display_name": "Python 3",
   "language": "python",
   "name": "python3"
  },
  "language_info": {
   "codemirror_mode": {
    "name": "ipython",
    "version": 3
   },
   "file_extension": ".py",
   "mimetype": "text/x-python",
   "name": "python",
   "nbconvert_exporter": "python",
   "pygments_lexer": "ipython3",
   "version": "3.11.10"
  }
 },
 "nbformat": 4,
 "nbformat_minor": 2
}
