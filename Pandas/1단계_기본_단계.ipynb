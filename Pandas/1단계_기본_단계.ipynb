{
 "cells": [
  {
   "cell_type": "markdown",
   "metadata": {},
   "source": [
    "## 데이터 생성 (Creating Data)"
   ]
  },
  {
   "cell_type": "code",
   "execution_count": 1,
   "metadata": {},
   "outputs": [
    {
     "name": "stdout",
     "output_type": "stream",
     "text": [
      "0    1\n",
      "1    2\n",
      "2    3\n",
      "3    4\n",
      "4    5\n",
      "dtype: int64\n",
      "0    1\n",
      "1    2\n",
      "2    3\n",
      "3    4\n",
      "4    5\n",
      "dtype: int64\n"
     ]
    }
   ],
   "source": [
    "import pandas as pd\n",
    "\n",
    "# 리스트를 이용하여 Series 생성\n",
    "s = pd.Series([1, 2, 3, 4, 5])\n",
    "print(s)\n",
    "import pandas as pd\n",
    "\n",
    "# 리스트를 이용하여 Series 생성\n",
    "s = pd.Series([1, 2, 3, 4, 5])\n",
    "print(s)\n"
   ]
  },
  {
   "cell_type": "code",
   "execution_count": 2,
   "metadata": {},
   "outputs": [
    {
     "name": "stdout",
     "output_type": "stream",
     "text": [
      "a    1.0\n",
      "b    2.0\n",
      "c    3.0\n",
      "d    4.0\n",
      "e    5.0\n",
      "dtype: float64\n"
     ]
    }
   ],
   "source": [
    "# 사용자 정의 인덱스와 dtype 지정\n",
    "s = pd.Series([1, 2, 3, 4, 5], index=['a', 'b', 'c', 'd', 'e'], dtype='float64')\n",
    "print(s)\n"
   ]
  },
  {
   "cell_type": "markdown",
   "metadata": {},
   "source": [
    "## DataFrame 생성\n",
    "- DataFrame은 2차원 테이블 구조로, 여러 열을 포함할 수 있는 데이터 구조입니다. pd.DataFrame()을 사용하여 DataFrame을 생성할 수 있습니다."
   ]
  },
  {
   "cell_type": "code",
   "execution_count": 3,
   "metadata": {},
   "outputs": [
    {
     "name": "stdout",
     "output_type": "stream",
     "text": [
      "      name  age  score\n",
      "0    Alice   25     85\n",
      "1      Bob   30     90\n",
      "2  Charlie   35     88\n"
     ]
    }
   ],
   "source": [
    "# 딕셔너리를 이용한 DataFrame 생성\n",
    "data = {'name': ['Alice', 'Bob', 'Charlie'], 'age': [25, 30, 35], 'score': [85, 90, 88]}\n",
    "df = pd.DataFrame(data)\n",
    "print(df)\n"
   ]
  },
  {
   "cell_type": "code",
   "execution_count": 4,
   "metadata": {},
   "outputs": [
    {
     "name": "stdout",
     "output_type": "stream",
     "text": [
      "      name  age  score\n",
      "a    Alice   25     85\n",
      "b      Bob   30     90\n",
      "c  Charlie   35     88\n"
     ]
    }
   ],
   "source": [
    "# 열 순서 지정 및 인덱스 설정\n",
    "df = pd.DataFrame(data, columns=['name', 'age', 'score'], index=['a', 'b', 'c'])\n",
    "print(df)\n"
   ]
  },
  {
   "cell_type": "markdown",
   "metadata": {},
   "source": [
    "## numpy 배열을 이용한 DataFrame 생성\n",
    "> numpy 배열을 사용하여 DataFrame을 만들 수도 있습니다."
   ]
  },
  {
   "cell_type": "code",
   "execution_count": 6,
   "metadata": {},
   "outputs": [
    {
     "name": "stdout",
     "output_type": "stream",
     "text": [
      "   A  B  C\n",
      "0  1  2  3\n",
      "1  4  5  6\n",
      "2  7  8  9\n"
     ]
    }
   ],
   "source": [
    "import numpy as np\n",
    "\n",
    "# 2D numpy 배열을 이용한 DataFrame 생성\n",
    "data = np.array([[1, 2, 3], [4, 5, 6], [7, 8, 9]])\n",
    "df = pd.DataFrame(data, columns=['A', 'B', 'C'])\n",
    "print(df)\n"
   ]
  },
  {
   "cell_type": "markdown",
   "metadata": {},
   "source": [
    "## DataFrame의 기본 정보 확인\n",
    "> - shape: 데이터의 행(row)과 열(column) 크기를 튜플로 반환합니다.\n",
    "> - columns: 열 이름을 반환합니다.\n",
    "> - index: 행 인덱스를 반환합니다.\n",
    "> - dtypes: 각 열의 데이터 타입을 반환합니다.\n",
    "> - head(): DataFrame의 상위 5개 행을 반환합니다.\n",
    "> - tail(): DataFrame의 하위 5개 행을 반환합니다.\n",
    "> - info(): DataFrame에 대한 요약 정보를 출력합니다."
   ]
  },
  {
   "cell_type": "code",
   "execution_count": 14,
   "metadata": {},
   "outputs": [
    {
     "name": "stdout",
     "output_type": "stream",
     "text": [
      "(3, 3)\n",
      "--------------------------------------------------------\n",
      "Index(['A', 'B', 'C'], dtype='object')\n",
      "--------------------------------------------------------\n",
      "RangeIndex(start=0, stop=3, step=1)\n",
      "--------------------------------------------------------\n",
      "A    int64\n",
      "B    int64\n",
      "C    int64\n",
      "dtype: object\n",
      "--------------------------------------------------------\n",
      "\n",
      "   A  B  C\n",
      "0  1  2  3\n",
      "1  4  5  6\n",
      "2  7  8  9\n",
      "   A  B  C\n",
      "0  1  2  3\n",
      "1  4  5  6\n",
      "2  7  8  9\n",
      "<class 'pandas.core.frame.DataFrame'>\n",
      "RangeIndex: 3 entries, 0 to 2\n",
      "Data columns (total 3 columns):\n",
      " #   Column  Non-Null Count  Dtype\n",
      "---  ------  --------------  -----\n",
      " 0   A       3 non-null      int64\n",
      " 1   B       3 non-null      int64\n",
      " 2   C       3 non-null      int64\n",
      "dtypes: int64(3)\n",
      "memory usage: 204.0 bytes\n",
      "None\n",
      "\n"
     ]
    }
   ],
   "source": [
    "# DataFrame 기본 속성 확인\n",
    "\n",
    "print(df.shape)  # (행, 열) 크기\n",
    "print(\"--------------------------------------------------------\") \n",
    "print(df.columns)  # 열 이름\n",
    "print(\"--------------------------------------------------------\") \n",
    "print(df.index)  # 인덱스\n",
    "print(\"--------------------------------------------------------\") \n",
    "print(df.dtypes)  # 데이터 타입\n",
    "print(\"--------------------------------------------------------\") \n",
    "print()\n",
    "# 상위 5개 행\n",
    "print(df.head())\n",
    "\n",
    "# 하위 5개 행\n",
    "print(df.tail())\n",
    "\n",
    "# DataFrame 요약 정보\n",
    "print(df.info())\n",
    "print() "
   ]
  },
  {
   "cell_type": "markdown",
   "metadata": {},
   "source": [
    "### Series의 기본 속성 확인\n",
    "> - index: Series의 인덱스를 반환합니다.\n",
    "> - dtype: Series의 데이터 타입을 반환합니다.\n",
    "> - values: Series의 값을 반환합니다."
   ]
  },
  {
   "cell_type": "code",
   "execution_count": 15,
   "metadata": {},
   "outputs": [
    {
     "name": "stdout",
     "output_type": "stream",
     "text": [
      "Index(['a', 'b', 'c', 'd', 'e'], dtype='object')\n",
      "float64\n",
      "[1. 2. 3. 4. 5.]\n"
     ]
    }
   ],
   "source": [
    "# Series의 기본 속성 확인\n",
    "print(s.index)  # 인덱스\n",
    "print(s.dtype)  # 데이터 타입\n",
    "print(s.values)  # 값들\n"
   ]
  },
  {
   "cell_type": "markdown",
   "metadata": {},
   "source": [
    "### describe() - 기초 통계량 계산\n",
    "> describe() 함수는 데이터셋에 대한 통계적 요약을 제공하며, 기본적으로 수치형 데이터에 대한 정보를 보여줍니다."
   ]
  },
  {
   "cell_type": "code",
   "execution_count": 17,
   "metadata": {},
   "outputs": [
    {
     "name": "stdout",
     "output_type": "stream",
     "text": [
      "         A    B    C\n",
      "count  3.0  3.0  3.0\n",
      "mean   4.0  5.0  6.0\n",
      "std    3.0  3.0  3.0\n",
      "min    1.0  2.0  3.0\n",
      "25%    2.5  3.5  4.5\n",
      "50%    4.0  5.0  6.0\n",
      "75%    5.5  6.5  7.5\n",
      "max    7.0  8.0  9.0\n",
      "\n",
      "count    5.000000\n",
      "mean     3.000000\n",
      "std      1.581139\n",
      "min      1.000000\n",
      "25%      2.000000\n",
      "50%      3.000000\n",
      "75%      4.000000\n",
      "max      5.000000\n",
      "dtype: float64\n"
     ]
    }
   ],
   "source": [
    "# DataFrame의 기초 통계량\n",
    "print(df.describe())\n",
    "print()\n",
    "\n",
    "# Series의 기초 통계량\n",
    "print(s.describe())\n"
   ]
  },
  {
   "cell_type": "markdown",
   "metadata": {},
   "source": [
    "### sum(), mean(), std() \n",
    "> pandas는 여러 기본 통계 함수도 제공하며, 각 열에 대해 합계, 평균, 표준편차 등을 계산할 수 있습니다."
   ]
  },
  {
   "cell_type": "code",
   "execution_count": 19,
   "metadata": {},
   "outputs": [
    {
     "name": "stdout",
     "output_type": "stream",
     "text": [
      "A    12\n",
      "B    15\n",
      "C    18\n",
      "dtype: int64\n",
      "\n",
      "A    4.0\n",
      "B    5.0\n",
      "C    6.0\n",
      "dtype: float64\n",
      "\n",
      "A    3.0\n",
      "B    3.0\n",
      "C    3.0\n",
      "dtype: float64\n"
     ]
    }
   ],
   "source": [
    "# 각 열에 대한 합계\n",
    "print(df.sum())\n",
    "print()\n",
    "\n",
    "# 각 열에 대한 평균\n",
    "print(df.mean())\n",
    "print()\n",
    "\n",
    "# 각 열에 대한 표준편차\n",
    "print(df.std())\n"
   ]
  },
  {
   "cell_type": "markdown",
   "metadata": {},
   "source": [
    "## 데이터 수정 및 값 변경\n",
    "> 열 추가/삭제\n",
    "> 열을 추가하려면 새로운 열을 할당하면 됩니다. 열을 삭제하려면 **drop()**을 사용합니다."
   ]
  },
  {
   "cell_type": "code",
   "execution_count": 20,
   "metadata": {},
   "outputs": [
    {
     "name": "stdout",
     "output_type": "stream",
     "text": [
      "   A  B  C gender\n",
      "0  1  2  3      F\n",
      "1  4  5  6      M\n",
      "2  7  8  9      M\n",
      "   A  B  C\n",
      "0  1  2  3\n",
      "1  4  5  6\n",
      "2  7  8  9\n"
     ]
    }
   ],
   "source": [
    "# 열 추가\n",
    "df['gender'] = ['F', 'M', 'M']\n",
    "print(df)\n",
    "\n",
    "# 열 삭제\n",
    "df = df.drop('gender', axis=1)  # axis=1은 열을 의미\n",
    "print(df)\n"
   ]
  },
  {
   "cell_type": "markdown",
   "metadata": {},
   "source": [
    "> - 행 추가/삭제\n",
    "> - 행을 추가하려면 loc[] 또는 **append()**를 사용하고, 행을 삭제하려면 **drop()**을 사용합니다."
   ]
  },
  {
   "cell_type": "code",
   "execution_count": 21,
   "metadata": {},
   "outputs": [
    {
     "name": "stdout",
     "output_type": "stream",
     "text": [
      "     A   B   C\n",
      "0    1   2   3\n",
      "1    4   5   6\n",
      "2    7   8   9\n",
      "3  Eve  40  85\n",
      "   A  B  C\n",
      "0  1  2  3\n",
      "1  4  5  6\n",
      "2  7  8  9\n"
     ]
    }
   ],
   "source": [
    "# 행 추가\n",
    "df.loc[3] = ['Eve', 40, 85]  # 새로운 행 추가\n",
    "print(df)\n",
    "\n",
    "# 행 삭제\n",
    "df = df.drop(3, axis=0)  # 3번 인덱스의 행 삭제\n",
    "print(df)\n"
   ]
  },
  {
   "cell_type": "markdown",
   "metadata": {},
   "source": [
    "값 수정\n",
    "특정 위치의 값을 수정하려면 **loc[]**이나 **iloc[]**을 사용합니다."
   ]
  },
  {
   "cell_type": "code",
   "execution_count": 23,
   "metadata": {},
   "outputs": [
    {
     "data": {
      "text/plain": [
       "Index(['A', 'B', 'C'], dtype='object')"
      ]
     },
     "execution_count": 23,
     "metadata": {},
     "output_type": "execute_result"
    }
   ],
   "source": [
    "df.columns"
   ]
  },
  {
   "cell_type": "code",
   "execution_count": 35,
   "metadata": {},
   "outputs": [],
   "source": [
    "import pandas as pd\n",
    "import numpy as np\n",
    "\n",
    "# 난수 생성기 시드 설정 (재현성 위해)\n",
    "np.random.seed(0)\n",
    "\n",
    "# 데이터 생성\n",
    "names = ['Alice', 'Bob', 'Charlie', 'David', 'Eve']\n",
    "age = np.random.randint(20, 50, size=100)  # 나이는 20-50 사이에서 랜덤 생성\n",
    "score = np.random.randint(30, 100, size=100)  # 점수는 60-100 사이에서 랜덤 생성\n",
    "\n",
    "# 랜덤하게 이름 선택\n",
    "name = np.random.choice(names, size=100)\n",
    "\n",
    "# 데이터프레임 생성\n",
    "df = pd.DataFrame({\n",
    "    'name': name,\n",
    "    'age': age,\n",
    "    'score': score\n",
    "})\n",
    "\n"
   ]
  },
  {
   "cell_type": "code",
   "execution_count": 36,
   "metadata": {},
   "outputs": [
    {
     "name": "stdout",
     "output_type": "stream",
     "text": [
      "     name  age  score\n",
      "0   David   32    100\n",
      "1   Alice   35    100\n",
      "2   David   41    100\n",
      "3   Alice   20     33\n",
      "4     Eve   23     82\n",
      "..    ...  ...    ...\n",
      "95  David   45    100\n",
      "96  David   30    100\n",
      "97  Alice   40    100\n",
      "98  David   31    100\n",
      "99  Alice   24     65\n",
      "\n",
      "[100 rows x 3 columns]\n"
     ]
    }
   ],
   "source": [
    "# 'age'가 30 이상인 학생의 'score' 값을 100으로 수정\n",
    "df.loc[df['age'] >= 30, 'score'] = 100\n",
    "print(df)\n"
   ]
  },
  {
   "cell_type": "markdown",
   "metadata": {},
   "source": [
    "### DataFrame의 정렬 (Sorting)\n",
    "> pandas는 데이터프레임을 정렬할 수 있는 기능도 제공합니다. sort_values()는 데이터를 오름차순 또는 내림차순으로 정렬합니다."
   ]
  },
  {
   "cell_type": "code",
   "execution_count": 38,
   "metadata": {},
   "outputs": [
    {
     "name": "stdout",
     "output_type": "stream",
     "text": [
      "       name  age  score\n",
      "49      Eve   20     62\n",
      "90      Eve   20     70\n",
      "3     Alice   20     33\n",
      "53      Eve   20     49\n",
      "63      Eve   20     70\n",
      "..      ...  ...    ...\n",
      "76  Charlie   46    100\n",
      "89    Alice   47    100\n",
      "5   Charlie   47    100\n",
      "61  Charlie   48    100\n",
      "44    David   49    100\n",
      "\n",
      "[100 rows x 3 columns]\n",
      "\n",
      "       name  age  score\n",
      "0     David   32    100\n",
      "32    Alice   39    100\n",
      "86    Alice   31    100\n",
      "36    Alice   35    100\n",
      "37    David   35    100\n",
      "..      ...  ...    ...\n",
      "92    David   23     41\n",
      "73      Bob   24     41\n",
      "26  Charlie   25     40\n",
      "3     Alice   20     33\n",
      "51      Bob   29     30\n",
      "\n",
      "[100 rows x 3 columns]\n"
     ]
    }
   ],
   "source": [
    "# 'age' 열 기준으로 오름차순 정렬\n",
    "df_sorted = df.sort_values(by='age')\n",
    "print(df_sorted)\n",
    "\n",
    "print()\n",
    "\n",
    "# 'age' 열 기준으로 내림차순 정렬\n",
    "df_sorted_desc = df.sort_values(by='score', ascending=False)\n",
    "print(df_sorted_desc)\n"
   ]
  },
  {
   "cell_type": "markdown",
   "metadata": {},
   "source": [
    "### 중복 제거\n",
    "> drop_duplicates()를 사용하여 중복된 행을 제거할 수 있습니다."
   ]
  },
  {
   "cell_type": "code",
   "execution_count": 39,
   "metadata": {},
   "outputs": [
    {
     "name": "stdout",
     "output_type": "stream",
     "text": [
      "     name  age  score\n",
      "0   David   32    100\n",
      "1   Alice   35    100\n",
      "2   David   41    100\n",
      "3   Alice   20     33\n",
      "4     Eve   23     82\n",
      "..    ...  ...    ...\n",
      "93  Alice   41    100\n",
      "94  Alice   32    100\n",
      "97  Alice   40    100\n",
      "98  David   31    100\n",
      "99  Alice   24     65\n",
      "\n",
      "[86 rows x 3 columns]\n"
     ]
    }
   ],
   "source": [
    "# 중복된 행 제거\n",
    "df_no_duplicates = df.drop_duplicates()\n",
    "print(df_no_duplicates)\n"
   ]
  },
  {
   "cell_type": "code",
   "execution_count": null,
   "metadata": {},
   "outputs": [],
   "source": []
  }
 ],
 "metadata": {
  "kernelspec": {
   "display_name": "Python 3",
   "language": "python",
   "name": "python3"
  },
  "language_info": {
   "codemirror_mode": {
    "name": "ipython",
    "version": 3
   },
   "file_extension": ".py",
   "mimetype": "text/x-python",
   "name": "python",
   "nbconvert_exporter": "python",
   "pygments_lexer": "ipython3",
   "version": "3.11.10"
  }
 },
 "nbformat": 4,
 "nbformat_minor": 2
}
