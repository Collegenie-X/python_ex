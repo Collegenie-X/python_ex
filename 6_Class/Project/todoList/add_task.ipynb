{
 "cells": [
  {
   "cell_type": "code",
   "execution_count": null,
   "metadata": {},
   "outputs": [],
   "source": [
    "# add_task.py\n",
    "from task import Task\n",
    "\n",
    "\n",
    "class AddTask:\n",
    "    def __init__(self, task_name, tasks, index_counter):\n",
    "        self.task_name = task_name\n",
    "        self.tasks = tasks\n",
    "        self.index_counter = index_counter\n",
    "\n",
    "    def execute(self):\n",
    "        \"\"\"새로운 할 일 추가\"\"\"\n",
    "        task = Task(self.index_counter, self.task_name)\n",
    "        self.tasks.append(task)\n",
    "        self.index_counter += 1\n",
    "        print(f\"할 일 '{self.task_name}'가 추가되었습니다.\")"
   ]
  },
  {
   "cell_type": "code",
   "execution_count": null,
   "metadata": {},
   "outputs": [
    {
     "name": "stdout",
     "output_type": "stream",
     "text": [
      "할 일 '영화 보기'가 추가되었습니다.\n"
     ]
    }
   ],
   "source": [
    "idx = 1\n",
    "tasks = []\n",
    "task = AddTask(task_name=\"영화 보기\", tasks=tasks, index_counter=idx)\n",
    "task.execute()\n",
    "idx += 1"
   ]
  },
  {
   "cell_type": "code",
   "execution_count": 7,
   "metadata": {},
   "outputs": [],
   "source": [
    "from view_task import ViewTasks "
   ]
  },
  {
   "cell_type": "code",
   "execution_count": 8,
   "metadata": {},
   "outputs": [
    {
     "name": "stdout",
     "output_type": "stream",
     "text": [
      "\n",
      "--- 할 일 목록 ---\n",
      "[1] 영화 보기 (미완료)\n"
     ]
    }
   ],
   "source": [
    "view_task = ViewTasks(tasks=tasks) \n",
    "view_task.execute() "
   ]
  }
 ],
 "metadata": {
  "kernelspec": {
   "display_name": "Python 3",
   "language": "python",
   "name": "python3"
  },
  "language_info": {
   "codemirror_mode": {
    "name": "ipython",
    "version": 3
   },
   "file_extension": ".py",
   "mimetype": "text/x-python",
   "name": "python",
   "nbconvert_exporter": "python",
   "pygments_lexer": "ipython3",
   "version": "3.11.10"
  }
 },
 "nbformat": 4,
 "nbformat_minor": 2
}
