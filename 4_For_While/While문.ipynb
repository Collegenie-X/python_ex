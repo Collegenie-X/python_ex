{
 "cells": [
  {
   "cell_type": "markdown",
   "metadata": {},
   "source": [
    "### 🔹 while 문 기본 구조\n",
    "\n",
    "- while 조건:\n",
    "-     실행문\n",
    "- 조건: 반복을 계속할 조건 (조건이 True인 동안 실행)\n",
    "- 실행문: 조건이 참이면 실행되는 코드 블록"
   ]
  },
  {
   "cell_type": "code",
   "execution_count": null,
   "metadata": {},
   "outputs": [],
   "source": [
    "num = 1\n",
    "\n",
    "while num <= 5:\n",
    "    print(num)\n",
    "    num += 1  # 변수 증가 (없으면 무한 루프)\n"
   ]
  },
  {
   "cell_type": "markdown",
   "metadata": {},
   "source": [
    "- 🔥 2. 사용자 입력을 활용한 while 문\n",
    "- ✅ 예제 2: 특정 입력이 들어올 때까지 반복"
   ]
  },
  {
   "cell_type": "code",
   "execution_count": 1,
   "metadata": {},
   "outputs": [
    {
     "name": "stdout",
     "output_type": "stream",
     "text": [
      "입력값: exit\n",
      "프로그램 종료!\n"
     ]
    }
   ],
   "source": [
    "user_input = \"\"\n",
    "\n",
    "while user_input != \"exit\":\n",
    "    user_input = input(\"종료하려면 'exit'를 입력하세요: \")\n",
    "    print(f\"입력값: {user_input}\")\n",
    "\n",
    "print(\"프로그램 종료!\")\n"
   ]
  },
  {
   "cell_type": "markdown",
   "metadata": {},
   "source": [
    "### 🔥 3. break 문 (반복문 종료)\n",
    "- break를 사용하면 특정 조건이 충족되면 while 문을 즉시 종료할 수 있습니다.\n",
    "- ✅ 예제 3: 1부터 숫자를 증가시키다가 10이 되면 종료"
   ]
  },
  {
   "cell_type": "code",
   "execution_count": 2,
   "metadata": {},
   "outputs": [
    {
     "name": "stdout",
     "output_type": "stream",
     "text": [
      "1\n",
      "2\n",
      "3\n",
      "4\n",
      "5\n",
      "6\n",
      "7\n",
      "8\n",
      "9\n",
      "10\n"
     ]
    }
   ],
   "source": [
    "num = 1\n",
    "\n",
    "while True:  # 무한 루프\n",
    "    print(num)\n",
    "    if num == 10:\n",
    "        break  # 10이 되면 반복문 종료\n",
    "    num += 1\n"
   ]
  },
  {
   "cell_type": "markdown",
   "metadata": {},
   "source": [
    "### 🔥 4. continue 문 (현재 반복 건너뛰기)\n",
    "- continue는 특정 조건일 때 현재 반복을 건너뛰고 다음 반복을 실행합니다.\n",
    "- ✅ 예제 4: 짝수만 출력 (홀수는 건너뛰기)"
   ]
  },
  {
   "cell_type": "code",
   "execution_count": 3,
   "metadata": {},
   "outputs": [
    {
     "name": "stdout",
     "output_type": "stream",
     "text": [
      "2\n",
      "4\n",
      "6\n",
      "8\n",
      "10\n"
     ]
    }
   ],
   "source": [
    "num = 0\n",
    "\n",
    "while num < 10:\n",
    "    num += 1\n",
    "    if num % 2 != 0:\n",
    "        continue  # 홀수면 건너뛰고 다음 반복 진행\n",
    "    print(num)\n"
   ]
  },
  {
   "cell_type": "markdown",
   "metadata": {},
   "source": [
    "### 🔥 5. while-else 문\n",
    "- while 문이 정상적으로 종료되었을 때 (break 없이 종료될 때) else 블록이 실행됩니다.\n",
    "- ✅ 예제 5: 숫자가 5보다 커지면 종료하고 메시지 출력"
   ]
  },
  {
   "cell_type": "code",
   "execution_count": 4,
   "metadata": {},
   "outputs": [
    {
     "name": "stdout",
     "output_type": "stream",
     "text": [
      "1\n",
      "2\n",
      "3\n",
      "4\n",
      "5\n",
      "반복문이 정상적으로 종료되었습니다!\n"
     ]
    }
   ],
   "source": [
    "num = 1\n",
    "\n",
    "while num <= 5:\n",
    "    print(num)\n",
    "    num += 1\n",
    "else:\n",
    "    print(\"반복문이 정상적으로 종료되었습니다!\")\n"
   ]
  },
  {
   "cell_type": "markdown",
   "metadata": {},
   "source": [
    "### ❓ 문제 1: 1부터 100까지의 숫자 중 3의 배수만 출력\n",
    "- while 문을 사용하여 1부터 100까지 숫자 중 3의 배수만 출력하세요."
   ]
  },
  {
   "cell_type": "code",
   "execution_count": 7,
   "metadata": {},
   "outputs": [
    {
     "name": "stdout",
     "output_type": "stream",
     "text": [
      "3\n",
      "6\n",
      "9\n",
      "12\n",
      "15\n",
      "18\n",
      "21\n",
      "24\n",
      "27\n",
      "30\n",
      "33\n",
      "36\n",
      "39\n",
      "42\n",
      "45\n",
      "48\n",
      "51\n",
      "54\n",
      "57\n",
      "60\n",
      "63\n",
      "66\n",
      "69\n",
      "72\n",
      "75\n",
      "78\n",
      "81\n",
      "84\n",
      "87\n",
      "90\n",
      "93\n",
      "96\n",
      "99\n"
     ]
    }
   ],
   "source": [
    "num = 1\n",
    "\n",
    "while num <= 100:\n",
    "    if num % 3 == 0:\n",
    "        print(num)\n",
    "    num += 1\n",
    "\n"
   ]
  },
  {
   "cell_type": "code",
   "execution_count": 8,
   "metadata": {},
   "outputs": [
    {
     "name": "stdout",
     "output_type": "stream",
     "text": [
      "현재 합: 129\n",
      "합이 100 이상이므로 종료합니다.\n"
     ]
    }
   ],
   "source": [
    "total = 0\n",
    "\n",
    "while True:\n",
    "    num = int(input(\"숫자를 입력하세요: \"))\n",
    "    total += num\n",
    "    print(f\"현재 합: {total}\")\n",
    "\n",
    "    if total >= 100:\n",
    "        print(\"합이 100 이상이므로 종료합니다.\")\n",
    "        break\n"
   ]
  },
  {
   "cell_type": "code",
   "execution_count": 9,
   "metadata": {},
   "outputs": [
    {
     "name": "stdout",
     "output_type": "stream",
     "text": [
      "🎯 숫자 맞추기 게임을 시작합니다! (1~100 사이)\n",
      "💡 숫자를 입력하면 힌트를 제공합니다.\n",
      "🔼 너무 작습니다! 더 큰 숫자를 입력하세요.\n",
      "🔽 너무 큽니다! 더 작은 숫자를 입력하세요.\n",
      "🔼 너무 작습니다! 더 큰 숫자를 입력하세요.\n",
      "🔼 너무 작습니다! 더 큰 숫자를 입력하세요.\n",
      "🔼 너무 작습니다! 더 큰 숫자를 입력하세요.\n",
      "🔼 너무 작습니다! 더 큰 숫자를 입력하세요.\n",
      "🔽 너무 큽니다! 더 작은 숫자를 입력하세요.\n",
      "🔽 너무 큽니다! 더 작은 숫자를 입력하세요.\n",
      "🎉 정답입니다! 9번 만에 맞췄어요.\n"
     ]
    }
   ],
   "source": [
    "import random\n",
    "\n",
    "# 1부터 100 사이의 랜덤 숫자 선택\n",
    "target_number = random.randint(1, 100)\n",
    "attempts = 0  # 시도 횟수\n",
    "\n",
    "print(\"🎯 숫자 맞추기 게임을 시작합니다! (1~100 사이)\")\n",
    "print(\"💡 숫자를 입력하면 힌트를 제공합니다.\")\n",
    "\n",
    "while True:\n",
    "    try:\n",
    "        user_input = int(input(\"숫자를 입력하세요: \"))  # 사용자 입력\n",
    "        attempts += 1  # 시도 횟수 증가\n",
    "\n",
    "        if user_input < 1 or user_input > 100:\n",
    "            print(\"⚠️ 1에서 100 사이의 숫자를 입력하세요!\")\n",
    "            continue\n",
    "\n",
    "        if user_input > target_number:\n",
    "            print(\"🔽 너무 큽니다! 더 작은 숫자를 입력하세요.\")\n",
    "        elif user_input < target_number:\n",
    "            print(\"🔼 너무 작습니다! 더 큰 숫자를 입력하세요.\")\n",
    "        else:\n",
    "            print(f\"🎉 정답입니다! {attempts}번 만에 맞췄어요.\")\n",
    "            break  # 정답을 맞추면 게임 종료\n",
    "\n",
    "    except ValueError:\n",
    "        print(\"❌ 숫자를 입력하세요!\")  # 숫자가 아닌 값 입력 방지\n"
   ]
  }
 ],
 "metadata": {
  "kernelspec": {
   "display_name": "Python 3",
   "language": "python",
   "name": "python3"
  },
  "language_info": {
   "codemirror_mode": {
    "name": "ipython",
    "version": 3
   },
   "file_extension": ".py",
   "mimetype": "text/x-python",
   "name": "python",
   "nbconvert_exporter": "python",
   "pygments_lexer": "ipython3",
   "version": "3.11.10"
  }
 },
 "nbformat": 4,
 "nbformat_minor": 2
}
