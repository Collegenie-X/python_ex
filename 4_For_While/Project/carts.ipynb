{
 "cells": [
  {
   "cell_type": "code",
   "execution_count": 1,
   "metadata": {},
   "outputs": [],
   "source": [
    "# 상품 목록과 가격 (리스트로 변경)\n",
    "products = [\n",
    "    {\"id\": 1, \"name\": \"상품1\", \"price\": 1000},\n",
    "    {\"id\": 2, \"name\": \"상품2\", \"price\": 1500},\n",
    "    {\"id\": 3, \"name\": \"상품3\", \"price\": 2000},\n",
    "    {\"id\": 4, \"name\": \"상품4\", \"price\": 2500},\n",
    "    {\"id\": 5, \"name\": \"상품5\", \"price\": 3000},\n",
    "    {\"id\": 6, \"name\": \"상품6\", \"price\": 3500},\n",
    "    {\"id\": 7, \"name\": \"상품7\", \"price\": 4000},\n",
    "    {\"id\": 8, \"name\": \"상품8\", \"price\": 4500},\n",
    "    {\"id\": 9, \"name\": \"상품9\", \"price\": 5000},\n",
    "    {\"id\": 10, \"name\": \"상품10\", \"price\": 5500},\n",
    "]\n",
    "\n",
    "# 장바구니 초기화\n",
    "cart = []"
   ]
  },
  {
   "cell_type": "code",
   "execution_count": 2,
   "metadata": {},
   "outputs": [
    {
     "name": "stdout",
     "output_type": "stream",
     "text": [
      "\n",
      "*** 장바구니 프로그램 ***\n",
      "1. 상품 목록 보기\n",
      "2. 장바구니에 상품 담기\n",
      "3. 결제하기\n",
      "4. 종료\n",
      "🔚 프로그램을 종료합니다.\n"
     ]
    }
   ],
   "source": [
    "# 프로그램 메인 루프\n",
    "while True:\n",
    "    print(\"\\n*** 장바구니 프로그램 ***\")\n",
    "    print(\"1. 상품 목록 보기\")\n",
    "    print(\"2. 장바구니에 상품 담기\")\n",
    "    print(\"3. 결제하기\")\n",
    "    print(\"4. 종료\")\n",
    "\n",
    "    # 메뉴 선택\n",
    "    user_choice = input(\"원하는 작업을 선택하세요 (1, 2, 3, 4): \")\n",
    "\n",
    "    if user_choice == \"1\":\n",
    "        # 상품 목록 보기\n",
    "        print(\"\\n📌 상품 목록 ***\")\n",
    "        for product in products:\n",
    "            print(f\"{product['id']}. {product['name']} - {product['price']}원\")\n",
    "\n",
    "    elif user_choice == \"2\":\n",
    "        # 장바구니에 상품 담기\n",
    "        try:\n",
    "            product_id = int(input(\"장바구니에 담을 상품 번호를 입력하세요: \"))\n",
    "            # 상품 ID에 맞는 상품 찾기\n",
    "            product = next(\n",
    "                (item for item in products if item[\"id\"] == product_id), None\n",
    "            )\n",
    "            if product:\n",
    "                cart.append(product)\n",
    "                print(f\"✅ {product['name']}가 장바구니에 추가되었습니다.\")\n",
    "            else:\n",
    "                print(\"⚠ 잘못된 상품 번호입니다.\")\n",
    "        except ValueError:\n",
    "            print(\"⚠ 유효하지 않은 입력입니다. 상품 번호를 숫자로 입력해주세요.\")\n",
    "\n",
    "    elif user_choice == \"3\":\n",
    "        # 결제하기\n",
    "        if cart:\n",
    "            total_price = sum(item[\"price\"] for item in cart)\n",
    "            print(f\"\\n🛒 결제 금액: {total_price}원\")\n",
    "            # 결제 후 장바구니 비우기\n",
    "            cart.clear()\n",
    "            print(\"✅ 결제가 완료되었습니다. 장바구니가 비워졌습니다.\")\n",
    "        else:\n",
    "            print(\"⚠ 장바구니에 담긴 상품이 없습니다. 상품을 담아주세요.\")\n",
    "\n",
    "    elif user_choice == \"4\":\n",
    "        # 종료\n",
    "        print(\"🔚 프로그램을 종료합니다.\")\n",
    "        break\n",
    "\n",
    "    else:\n",
    "        print(\"⚠ 잘못된 선택입니다. 다시 선택해주세요.\")"
   ]
  }
 ],
 "metadata": {
  "kernelspec": {
   "display_name": "Python 3",
   "language": "python",
   "name": "python3"
  },
  "language_info": {
   "codemirror_mode": {
    "name": "ipython",
    "version": 3
   },
   "file_extension": ".py",
   "mimetype": "text/x-python",
   "name": "python",
   "nbconvert_exporter": "python",
   "pygments_lexer": "ipython3",
   "version": "3.11.10"
  }
 },
 "nbformat": 4,
 "nbformat_minor": 2
}
