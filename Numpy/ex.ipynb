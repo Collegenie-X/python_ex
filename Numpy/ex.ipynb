{
 "cells": [
  {
   "cell_type": "code",
   "execution_count": null,
   "metadata": {},
   "outputs": [
    {
     "name": "stdout",
     "output_type": "stream",
     "text": [
      "TF-IDF 행렬:\n",
      "[[0.         0.         0.         0.52303503 0.         0.\n",
      "  0.52303503 0.         0.52303503 0.42344193]\n",
      " [0.         0.         0.57457953 0.         0.57457953 0.\n",
      "  0.         0.         0.4530051  0.36674667]\n",
      " [0.         0.61422608 0.         0.4842629  0.         0.\n",
      "  0.4842629  0.         0.         0.39205255]\n",
      " [0.40824829 0.         0.         0.         0.         0.81649658\n",
      "  0.         0.40824829 0.         0.        ]]\n"
     ]
    }
   ],
   "source": [
    "import numpy as np\n",
    "from sklearn.feature_extraction.text import TfidfVectorizer\n",
    "####### !pip install scikit-learn\n",
    "\n",
    "# 문서 예시\n",
    "documents = [\n",
    "    \"I love programming in Python\",\n",
    "    \"Python programming is fun\",\n",
    "    \"I love coding in Python\",\n",
    "    \"I am learning machine learning\"\n",
    "]\n",
    "\n",
    "# TF-IDF 벡터화\n",
    "vectorizer = TfidfVectorizer()\n",
    "X = vectorizer.fit_transform(documents)\n",
    "\n",
    "# 변환된 TF-IDF 행렬을 Numpy 배열로 변환\n",
    "tfidf_matrix = X.toarray()\n",
    "\n",
    "# 결과 출력\n",
    "print(\"TF-IDF 행렬:\")\n",
    "print(tfidf_matrix)\n",
    "\n"
   ]
  },
  {
   "cell_type": "code",
   "execution_count": 1,
   "metadata": {},
   "outputs": [],
   "source": [
    "import numpy as np\n"
   ]
  },
  {
   "cell_type": "code",
   "execution_count": 2,
   "metadata": {},
   "outputs": [
    {
     "name": "stdout",
     "output_type": "stream",
     "text": [
      "1D 배열: [1 2 3 4]\n",
      "2D 배열:\n",
      " [[1 2]\n",
      " [3 4]\n",
      " [5 6]]\n"
     ]
    }
   ],
   "source": [
    "import numpy as np\n",
    "\n",
    "# 1D 배열\n",
    "arr1 = np.array([1, 2, 3, 4])\n",
    "print(\"1D 배열:\", arr1)\n",
    "\n",
    "# 2D 배열\n",
    "arr2 = np.array([[1, 2], [3, 4], [5, 6]])\n",
    "print(\"2D 배열:\\n\", arr2)\n"
   ]
  },
  {
   "cell_type": "code",
   "execution_count": 4,
   "metadata": {},
   "outputs": [
    {
     "name": "stdout",
     "output_type": "stream",
     "text": [
      "첫 번째 요소: 1\n",
      "2D 배열에서 특정 값: 4\n",
      "배열의 첫 3개 요소: [1 2 3]\n"
     ]
    }
   ],
   "source": [
    "# 배열의 첫 번째 요소\n",
    "print(\"첫 번째 요소:\", arr1[0])\n",
    "\n",
    "# 2D 배열에서 2번째 행, 2번째 열 값\n",
    "print(\"2D 배열에서 특정 값:\", arr2[1, 1])\n",
    "\n",
    "# 슬라이싱\n",
    "print(\"배열의 첫 3개 요소:\", arr1[:3])\n"
   ]
  },
  {
   "cell_type": "code",
   "execution_count": 5,
   "metadata": {},
   "outputs": [
    {
     "name": "stdout",
     "output_type": "stream",
     "text": [
      "합: 10\n",
      "평균: 2.5\n",
      "배열 간 더하기: [ 6  8 10 12]\n"
     ]
    }
   ],
   "source": [
    "arr3 = np.array([1, 2, 3, 4])\n",
    "\n",
    "# 합 구하기\n",
    "print(\"합:\", np.sum(arr3))\n",
    "\n",
    "# 평균 구하기\n",
    "print(\"평균:\", np.mean(arr3))\n",
    "\n",
    "# 배열 간 연산\n",
    "arr4 = np.array([5, 6, 7, 8])\n",
    "print(\"배열 간 더하기:\", arr3 + arr4)\n"
   ]
  },
  {
   "cell_type": "code",
   "execution_count": 6,
   "metadata": {},
   "outputs": [
    {
     "name": "stdout",
     "output_type": "stream",
     "text": [
      "Numpy 배열: [1 2 3 4 5]\n",
      "Python 리스트: [1, 2, 3, 4, 5]\n",
      "배열에 10 더하기: [11 12 13 14 15]\n"
     ]
    }
   ],
   "source": [
    "import numpy as np\n",
    "\n",
    "# Numpy 배열 생성\n",
    "arr = np.array([1, 2, 3, 4, 5])\n",
    "print(\"Numpy 배열:\", arr)\n",
    "\n",
    "# Python 리스트\n",
    "lst = [1, 2, 3, 4, 5]\n",
    "print(\"Python 리스트:\", lst)\n",
    "\n",
    "# Numpy 배열로 벡터화 연산 가능\n",
    "arr_sum = arr + 10\n",
    "print(\"배열에 10 더하기:\", arr_sum)\n"
   ]
  },
  {
   "cell_type": "code",
   "execution_count": 7,
   "metadata": {},
   "outputs": [
    {
     "name": "stdout",
     "output_type": "stream",
     "text": [
      "np.arange(0, 10, 2): [0 2 4 6 8]\n",
      "np.linspace(0, 1, 5): [0.   0.25 0.5  0.75 1.  ]\n",
      "np.zeros((2, 3)):\n",
      " [[0. 0. 0.]\n",
      " [0. 0. 0.]]\n",
      "np.ones((3, 2)):\n",
      " [[1. 1.]\n",
      " [1. 1.]\n",
      " [1. 1.]]\n",
      "np.eye(3):\n",
      " [[1. 0. 0.]\n",
      " [0. 1. 0.]\n",
      " [0. 0. 1.]]\n"
     ]
    }
   ],
   "source": [
    "# np.arange() 사용\n",
    "arr1 = np.arange(0, 10, 2)\n",
    "print(\"np.arange(0, 10, 2):\", arr1)\n",
    "\n",
    "# np.linspace() 사용\n",
    "arr2 = np.linspace(0, 1, 5)\n",
    "print(\"np.linspace(0, 1, 5):\", arr2)\n",
    "\n",
    "# np.zeros() 사용\n",
    "arr3 = np.zeros((2, 3))\n",
    "print(\"np.zeros((2, 3)):\\n\", arr3)\n",
    "\n",
    "# np.ones() 사용\n",
    "arr4 = np.ones((3, 2))\n",
    "print(\"np.ones((3, 2)):\\n\", arr4)\n",
    "\n",
    "# np.eye() 사용\n",
    "arr5 = np.eye(3)\n",
    "print(\"np.eye(3):\\n\", arr5)\n"
   ]
  },
  {
   "cell_type": "code",
   "execution_count": 8,
   "metadata": {},
   "outputs": [
    {
     "name": "stdout",
     "output_type": "stream",
     "text": [
      "배열의 형태: (2, 3)\n",
      "배열의 크기: 6\n",
      "배열의 차원: 2\n",
      "배열의 데이터 타입: int64\n"
     ]
    }
   ],
   "source": [
    "arr = np.array([[1, 2, 3], [4, 5, 6]])\n",
    "\n",
    "print(\"배열의 형태:\", arr.shape)  # (2, 3)\n",
    "print(\"배열의 크기:\", arr.size)   # 6\n",
    "print(\"배열의 차원:\", arr.ndim)   # 2\n",
    "print(\"배열의 데이터 타입:\", arr.dtype)  # int64\n"
   ]
  },
  {
   "cell_type": "code",
   "execution_count": 9,
   "metadata": {},
   "outputs": [
    {
     "name": "stdout",
     "output_type": "stream",
     "text": [
      "reshape(3, 2):\n",
      " [[1 2]\n",
      " [3 4]\n",
      " [5 6]]\n",
      "resize(3, 2):\n",
      " [[1 2]\n",
      " [3 4]\n",
      " [5 6]]\n"
     ]
    }
   ],
   "source": [
    "# reshape() 사용\n",
    "reshaped = arr.reshape(3, 2)\n",
    "print(\"reshape(3, 2):\\n\", reshaped)\n",
    "\n",
    "# resize() 사용\n",
    "arr.resize(3, 2)\n",
    "print(\"resize(3, 2):\\n\", arr)\n"
   ]
  },
  {
   "cell_type": "code",
   "execution_count": 10,
   "metadata": {},
   "outputs": [
    {
     "name": "stdout",
     "output_type": "stream",
     "text": [
      "첫 번째 요소: 10\n",
      "마지막 요소: 50\n"
     ]
    }
   ],
   "source": [
    "arr1d = np.array([10, 20, 30, 40, 50])\n",
    "\n",
    "# 첫 번째 요소\n",
    "print(\"첫 번째 요소:\", arr1d[0])\n",
    "\n",
    "# 마지막 요소\n",
    "print(\"마지막 요소:\", arr1d[-1])\n"
   ]
  },
  {
   "cell_type": "code",
   "execution_count": 11,
   "metadata": {},
   "outputs": [
    {
     "name": "stdout",
     "output_type": "stream",
     "text": [
      "첫 번째 행: [1 2 3]\n",
      "두 번째 열: [2 5 8]\n",
      "슬라이싱된 배열:\n",
      " [[2 3]\n",
      " [5 6]]\n"
     ]
    }
   ],
   "source": [
    "arr2d = np.array([[1, 2, 3], [4, 5, 6], [7, 8, 9]])\n",
    "\n",
    "# 첫 번째 행\n",
    "print(\"첫 번째 행:\", arr2d[0])\n",
    "\n",
    "# 두 번째 열\n",
    "print(\"두 번째 열:\", arr2d[:, 1])\n",
    "\n",
    "# 2x2 부분 배열 (슬라이싱)\n",
    "print(\"슬라이싱된 배열:\\n\", arr2d[0:2, 1:3])\n"
   ]
  },
  {
   "cell_type": "code",
   "execution_count": 12,
   "metadata": {},
   "outputs": [
    {
     "name": "stdout",
     "output_type": "stream",
     "text": [
      "1D 배열의 형태: (5,)\n",
      "2D 배열의 형태: (3, 3)\n",
      "3D 배열의 형태: (2, 2, 2)\n"
     ]
    }
   ],
   "source": [
    "import numpy as np\n",
    "\n",
    "# 1D 배열\n",
    "arr1d = np.array([1, 2, 3, 4, 5])\n",
    "print(\"1D 배열의 형태:\", arr1d.shape)  # (5,)\n",
    "\n",
    "# 2D 배열\n",
    "arr2d = np.array([[1, 2, 3], [4, 5, 6], [7, 8, 9]])\n",
    "print(\"2D 배열의 형태:\", arr2d.shape)  # (3, 3)\n",
    "\n",
    "# 3D 배열\n",
    "arr3d = np.array([[[1, 2], [3, 4]], [[5, 6], [7, 8]]])\n",
    "print(\"3D 배열의 형태:\", arr3d.shape)  # (2, 2, 2)\n"
   ]
  },
  {
   "cell_type": "code",
   "execution_count": 13,
   "metadata": {},
   "outputs": [
    {
     "name": "stdout",
     "output_type": "stream",
     "text": [
      "1D 배열의 크기: 5\n",
      "2D 배열의 크기: 9\n",
      "3D 배열의 크기: 8\n",
      "1D 배열의 차원 수: 1\n",
      "2D 배열의 차원 수: 2\n",
      "3D 배열의 차원 수: 3\n",
      "배열의 데이터 타입: int64\n",
      "배열의 데이터 타입: float64\n"
     ]
    }
   ],
   "source": [
    "print(\"1D 배열의 크기:\", arr1d.size)  # 5\n",
    "print(\"2D 배열의 크기:\", arr2d.size)  # 9\n",
    "print(\"3D 배열의 크기:\", arr3d.size)  # 8\n",
    "\n",
    "print(\"1D 배열의 차원 수:\", arr1d.ndim)  # 1\n",
    "print(\"2D 배열의 차원 수:\", arr2d.ndim)  # 2\n",
    "print(\"3D 배열의 차원 수:\", arr3d.ndim)  # 3\n",
    "\n",
    "arr_int = np.array([1, 2, 3, 4], dtype=int)\n",
    "print(\"배열의 데이터 타입:\", arr_int.dtype)  # int64\n",
    "\n",
    "arr_float = np.array([1.1, 2.2, 3.3], dtype=float)\n",
    "print(\"배열의 데이터 타입:\", arr_float.dtype)  # float64\n"
   ]
  },
  {
   "cell_type": "code",
   "execution_count": 14,
   "metadata": {},
   "outputs": [
    {
     "name": "stdout",
     "output_type": "stream",
     "text": [
      "덧셈: [ 6  8 10 12]\n",
      "뺄셈: [-4 -4 -4 -4]\n",
      "곱셈: [ 5 12 21 32]\n",
      "나눗셈: [0.2        0.33333333 0.42857143 0.5       ]\n",
      "거듭제곱: [ 1  4  9 16]\n"
     ]
    }
   ],
   "source": [
    "import numpy as np\n",
    "\n",
    "# 두 배열 생성\n",
    "arr1 = np.array([1, 2, 3, 4])\n",
    "arr2 = np.array([5, 6, 7, 8])\n",
    "\n",
    "# 배열 간의 산술 연산\n",
    "print(\"덧셈:\", arr1 + arr2)  # [ 6  8 10 12]\n",
    "print(\"뺄셈:\", arr1 - arr2)  # [-4 -4 -4 -4]\n",
    "print(\"곱셈:\", arr1 * arr2)  # [ 5 12 21 32]\n",
    "print(\"나눗셈:\", arr1 / arr2)  # [0.2 0.33333333 0.42857143 0.5]\n",
    "print(\"거듭제곱:\", arr1 ** 2)  # [ 1  4  9 16]\n"
   ]
  },
  {
   "cell_type": "code",
   "execution_count": 15,
   "metadata": {},
   "outputs": [
    {
     "name": "stdout",
     "output_type": "stream",
     "text": [
      "합: 15\n",
      "평균: 3.0\n",
      "최대값: 5\n",
      "최소값: 1\n"
     ]
    }
   ],
   "source": [
    "arr = np.array([1, 2, 3, 4, 5])\n",
    "\n",
    "# 합, 평균, 최대값, 최소값 구하기\n",
    "print(\"합:\", np.sum(arr))  # 15\n",
    "print(\"평균:\", np.mean(arr))  # 3.0\n",
    "print(\"최대값:\", np.max(arr))  # 5\n",
    "print(\"최소값:\", np.min(arr))  # 1\n"
   ]
  },
  {
   "cell_type": "code",
   "execution_count": 16,
   "metadata": {},
   "outputs": [
    {
     "name": "stdout",
     "output_type": "stream",
     "text": [
      "표준편차: 1.4142135623730951\n",
      "분산: 2.0\n"
     ]
    }
   ],
   "source": [
    "arr = np.array([1, 2, 3, 4, 5])\n",
    "\n",
    "# 표준편차와 분산 구하기\n",
    "print(\"표준편차:\", np.std(arr))  # 1.4142135623730951\n",
    "print(\"분산:\", np.var(arr))  # 2.0\n"
   ]
  },
  {
   "cell_type": "markdown",
   "metadata": {},
   "source": [
    "## 수학적 연산 함수\n",
    "- np.add(), np.subtract(), np.multiply(), np.divide() 등: 기본적인 산술 연산 함수들입니다. 배열 간 연산을 수행할 때 사용됩니다.\n",
    "- np.power(): 배열의 각 요소에 거듭제곱을 적용합니다.\n",
    "- np.sqrt(): 배열의 각 요소에 대해 제곱근을 구합니다.\n",
    "- np.exp(): 배열의 각 요소에 대해 지수 함수 계산을 수행합니다.\n",
    "- np.log(): 배열의 각 요소에 대해 자연로그를 계산합니다.\n",
    "- 예시"
   ]
  },
  {
   "cell_type": "code",
   "execution_count": 17,
   "metadata": {},
   "outputs": [
    {
     "name": "stdout",
     "output_type": "stream",
     "text": [
      "제곱근: [1. 2. 3. 4. 5.]\n",
      "자연로그: [0.         1.38629436 2.19722458 2.77258872 3.21887582]\n",
      "거듭제곱: [  1  16  81 256 625]\n"
     ]
    }
   ],
   "source": [
    "import numpy as np\n",
    "\n",
    "# 배열 생성\n",
    "arr = np.array([1, 4, 9, 16, 25])\n",
    "\n",
    "# 제곱근 계산\n",
    "sqrt_arr = np.sqrt(arr)\n",
    "print(\"제곱근:\", sqrt_arr)  # [1. 2. 3. 4. 5.]\n",
    "\n",
    "# 자연로그 계산\n",
    "log_arr = np.log(arr)\n",
    "print(\"자연로그:\", log_arr)\n",
    "\n",
    "# 거듭제곱 계산\n",
    "power_arr = np.power(arr, 2)\n",
    "print(\"거듭제곱:\", power_arr)\n"
   ]
  },
  {
   "cell_type": "markdown",
   "metadata": {},
   "source": [
    "## 주요 Aggregation 함수\n",
    "- 합계, 평균, 최소값, 최대값\n",
    "- np.sum(): 배열의 모든 값을 더한 합계를 계산합니다.\n",
    "- np.mean(): 배열의 평균값을 계산합니다.\n",
    "- np.min(), np.max(): 배열의 최소값과 최대값을 계산합니다.\n",
    "## 통계적 함수\n",
    "- np.std(): 배열의 표준편차를 계산합니다.\n",
    "- np.var(): 배열의 분산을 계산합니다.\n",
    "- np.median(): 배열의 중앙값을 계산합니다.\n",
    "- np.percentile(): 배열에서 특정 백분위수 값을 계산합니다.\n",
    "## 다차원 배열에 대한 집계\n",
    "- np.sum(axis=0), np.mean(axis=1): 특정 축(axis)에 대해 집계를 수행할 수 있습니다.\n",
    "- np.cumsum(): 배열의 누적 합을 계산합니다.\n",
    "- np.cumprod(): 배열의 누적 곱을 계산합니다.\n"
   ]
  },
  {
   "cell_type": "code",
   "execution_count": 18,
   "metadata": {},
   "outputs": [
    {
     "name": "stdout",
     "output_type": "stream",
     "text": [
      "합: 15\n",
      "평균: 3.0\n",
      "최소값: 1\n",
      "최대값: 5\n",
      "표준편차: 1.4142135623730951\n",
      "분산: 2.0\n",
      "중앙값: 3.0\n",
      "25th 백분위수: 2.0\n",
      "누적 합: [ 1  3  6 10 15]\n",
      "누적 곱: [  1   2   6  24 120]\n"
     ]
    }
   ],
   "source": [
    "arr = np.array([1, 2, 3, 4, 5])\n",
    "\n",
    "# 배열의 합, 평균, 최소값, 최대값\n",
    "print(\"합:\", np.sum(arr))  # 15\n",
    "print(\"평균:\", np.mean(arr))  # 3.0\n",
    "print(\"최소값:\", np.min(arr))  # 1\n",
    "print(\"최대값:\", np.max(arr))  # 5\n",
    "\n",
    "# 표준편차와 분산\n",
    "print(\"표준편차:\", np.std(arr))  # 1.4142135623730951\n",
    "print(\"분산:\", np.var(arr))  # 2.0\n",
    "\n",
    "# 중앙값\n",
    "print(\"중앙값:\", np.median(arr))  # 3.0\n",
    "\n",
    "# 백분위수 (25th percentile)\n",
    "print(\"25th 백분위수:\", np.percentile(arr, 25))  # 2.0\n",
    "\n",
    "# 누적 합\n",
    "cumsum_arr = np.cumsum(arr)\n",
    "print(\"누적 합:\", cumsum_arr)  # [ 1  3  6 10 15]\n",
    "\n",
    "# 누적 곱\n",
    "cumprod_arr = np.cumprod(arr)\n",
    "print(\"누적 곱:\", cumprod_arr)  # [  1   2   6  24 120]\n"
   ]
  },
  {
   "cell_type": "code",
   "execution_count": null,
   "metadata": {},
   "outputs": [],
   "source": []
  }
 ],
 "metadata": {
  "kernelspec": {
   "display_name": "Python 3",
   "language": "python",
   "name": "python3"
  },
  "language_info": {
   "codemirror_mode": {
    "name": "ipython",
    "version": 3
   },
   "file_extension": ".py",
   "mimetype": "text/x-python",
   "name": "python",
   "nbconvert_exporter": "python",
   "pygments_lexer": "ipython3",
   "version": "3.11.10"
  }
 },
 "nbformat": 4,
 "nbformat_minor": 2
}
