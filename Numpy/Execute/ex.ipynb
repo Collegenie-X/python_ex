{
 "cells": [
  {
   "cell_type": "code",
   "execution_count": 1,
   "metadata": {},
   "outputs": [
    {
     "name": "stdout",
     "output_type": "stream",
     "text": [
      "평균: 45.6\n",
      "표준편차: 22.67245024253003\n",
      "최대값: 89\n",
      "최소값: 12\n"
     ]
    }
   ],
   "source": [
    "import numpy as np\n",
    "\n",
    "# 예시 데이터\n",
    "data = np.array([23, 12, 45, 67, 34, 89, 22, 65, 44, 55])\n",
    "\n",
    "# 평균, 표준편차, 최대값, 최소값 계산\n",
    "mean_val = np.mean(data)\n",
    "std_val = np.std(data)\n",
    "max_val = np.max(data)\n",
    "min_val = np.min(data)\n",
    "\n",
    "print(\"평균:\", mean_val)\n",
    "print(\"표준편차:\", std_val)\n",
    "print(\"최대값:\", max_val)\n",
    "print(\"최소값:\", min_val)\n"
   ]
  },
  {
   "cell_type": "code",
   "execution_count": 2,
   "metadata": {},
   "outputs": [
    {
     "name": "stdout",
     "output_type": "stream",
     "text": [
      "2D 배열:\n",
      " [[1 2 3]\n",
      " [4 5 6]]\n",
      "전치된 배열:\n",
      " [[1 4]\n",
      " [2 5]\n",
      " [3 6]]\n"
     ]
    }
   ],
   "source": [
    "import numpy as np\n",
    "# 1D 배열\n",
    "arr = np.array([1, 2, 3, 4, 5, 6])\n",
    "\n",
    "# 2D 배열로 reshape\n",
    "reshaped_arr = arr.reshape(2, 3)  # 2행 3열로 변환\n",
    "print(\"2D 배열:\\n\", reshaped_arr)\n",
    "\n",
    "# 배열의 전치 (행과 열 바꾸기)\n",
    "transposed_arr = reshaped_arr.T\n",
    "print(\"전치된 배열:\\n\", transposed_arr)\n"
   ]
  },
  {
   "cell_type": "code",
   "execution_count": 3,
   "metadata": {},
   "outputs": [
    {
     "name": "stdout",
     "output_type": "stream",
     "text": [
      "50보다 큰 값들: [56 87 67 99]\n"
     ]
    }
   ],
   "source": [
    "# 예시 데이터\n",
    "import numpy as np\n",
    "\n",
    "arr = np.array([12, 56, 43, 87, 24, 67, 99])\n",
    "\n",
    "# 50보다 큰 값만 선택\n",
    "filtered_arr = arr[arr > 50]\n",
    "print(\"50보다 큰 값들:\", filtered_arr)\n"
   ]
  },
  {
   "cell_type": "markdown",
   "metadata": {},
   "source": []
  },
  {
   "cell_type": "code",
   "execution_count": 4,
   "metadata": {},
   "outputs": [
    {
     "name": "stdout",
     "output_type": "stream",
     "text": [
      "행렬 곱셈 결과:\n",
      " [[19 22]\n",
      " [43 50]]\n"
     ]
    }
   ],
   "source": [
    "import numpy as np \n",
    "\n",
    "# 행렬 A, B 정의\n",
    "A = np.array([[1, 2], [3, 4]])\n",
    "B = np.array([[5, 6], [7, 8]])\n",
    "\n",
    "# 행렬 곱셈\n",
    "result = np.dot(A, B)\n",
    "print(\"행렬 곱셈 결과:\\n\", result)\n"
   ]
  },
  {
   "cell_type": "code",
   "execution_count": 5,
   "metadata": {},
   "outputs": [
    {
     "name": "stdout",
     "output_type": "stream",
     "text": [
      "코사인 유사도: 0.9746318461970762\n"
     ]
    }
   ],
   "source": [
    "import numpy as np \n",
    "\n",
    "# 두 벡터\n",
    "vec1 = np.array([1, 2, 3])\n",
    "vec2 = np.array([4, 5, 6])\n",
    "\n",
    "# 코사인 유사도 계산 (내적 / (벡터1의 크기 * 벡터2의 크기))\n",
    "cosine_similarity = np.dot(vec1, vec2) / (np.linalg.norm(vec1) * np.linalg.norm(vec2))\n",
    "print(\"코사인 유사도:\", cosine_similarity)\n"
   ]
  },
  {
   "cell_type": "code",
   "execution_count": null,
   "metadata": {},
   "outputs": [],
   "source": []
  }
 ],
 "metadata": {
  "kernelspec": {
   "display_name": "Python 3",
   "language": "python",
   "name": "python3"
  },
  "language_info": {
   "codemirror_mode": {
    "name": "ipython",
    "version": 3
   },
   "file_extension": ".py",
   "mimetype": "text/x-python",
   "name": "python",
   "nbconvert_exporter": "python",
   "pygments_lexer": "ipython3",
   "version": "3.11.10"
  }
 },
 "nbformat": 4,
 "nbformat_minor": 2
}
