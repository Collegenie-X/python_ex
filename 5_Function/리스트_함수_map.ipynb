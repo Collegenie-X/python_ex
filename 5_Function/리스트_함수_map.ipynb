{
 "cells": [
  {
   "cell_type": "markdown",
   "metadata": {},
   "source": [
    "## ✅ map()\n",
    "- map() 함수는 리스트의 각 요소에 같은 연산을 적용할 때 사용됩니다."
   ]
  },
  {
   "cell_type": "code",
   "execution_count": null,
   "metadata": {},
   "outputs": [],
   "source": [
    "numbers = [1, 2, 3, 4, 5]\n",
    "squared_numbers = list(map(lambda x: x**2, numbers))\n",
    "\n",
    "print(squared_numbers)  # [1, 4, 9, 16, 25]"
   ]
  },
  {
   "cell_type": "code",
   "execution_count": 1,
   "metadata": {},
   "outputs": [
    {
     "name": "stdout",
     "output_type": "stream",
     "text": [
      "[10, 20, 30]\n"
     ]
    }
   ],
   "source": [
    "str_numbers = [\"10\", \"20\", \"30\"]\n",
    "int_numbers = list(map(int, str_numbers))\n",
    "\n",
    "print(int_numbers)  # [10, 20, 30]"
   ]
  },
  {
   "cell_type": "markdown",
   "metadata": {},
   "source": [
    "## ✅ filter()\n",
    "- filter() 함수는 리스트에서 특정 조건을 만족하는 요소만 필터링할 때 사용됩니다."
   ]
  },
  {
   "cell_type": "code",
   "execution_count": null,
   "metadata": {},
   "outputs": [
    {
     "name": "stdout",
     "output_type": "stream",
     "text": [
      "[2, 4, 6]\n"
     ]
    }
   ],
   "source": [
    "numbers = [1, 2, 3, 4, 5, 6]\n",
    "even_numbers = list(filter(lambda x: x % 2 == 0, numbers))\n",
    "\n",
    "print(even_numbers)  # [2, 4, 6]"
   ]
  },
  {
   "cell_type": "code",
   "execution_count": null,
   "metadata": {},
   "outputs": [
    {
     "name": "stdout",
     "output_type": "stream",
     "text": [
      "['hello', 'world']\n"
     ]
    }
   ],
   "source": [
    "words = [\"hi\", \"hello\", \"a\", \"world\", \"py\"]\n",
    "long_words = list(filter(lambda x: len(x) >= 3, words))\n",
    "\n",
    "print(long_words)  # ['hello', 'world']"
   ]
  },
  {
   "cell_type": "markdown",
   "metadata": {},
   "source": [
    "## ✅ reduce()\n",
    "- reduce() 함수는 리스트의 모든 요소를 누적하여 하나의 결과값을 생성할 때 사용됩니다.\n",
    "- 📌 reduce()를 사용하려면 functools 모듈을 먼저 import해야 합니다."
   ]
  },
  {
   "cell_type": "code",
   "execution_count": null,
   "metadata": {},
   "outputs": [
    {
     "name": "stdout",
     "output_type": "stream",
     "text": [
      "15\n"
     ]
    }
   ],
   "source": [
    "from functools import reduce\n",
    "\n",
    "numbers = [1, 2, 3, 4, 5]\n",
    "sum_numbers = reduce(lambda x, y: x + y, numbers)\n",
    "\n",
    "print(sum_numbers)  # 15"
   ]
  },
  {
   "cell_type": "code",
   "execution_count": null,
   "metadata": {},
   "outputs": [
    {
     "name": "stdout",
     "output_type": "stream",
     "text": [
      "120\n"
     ]
    }
   ],
   "source": [
    "from functools import reduce\n",
    "\n",
    "numbers = [1, 2, 3, 4, 5]\n",
    "product_numbers = reduce(lambda x, y: x * y, numbers)\n",
    "\n",
    "print(product_numbers)  # 120"
   ]
  },
  {
   "cell_type": "markdown",
   "metadata": {},
   "source": [
    "\n",
    "## ✅ sorted()\n",
    "- sorted() 함수는 리스트를 정렬할 때 사용됩니다."
   ]
  },
  {
   "cell_type": "code",
   "execution_count": null,
   "metadata": {},
   "outputs": [
    {
     "name": "stdout",
     "output_type": "stream",
     "text": [
      "[1, 2, 5, 5, 6, 9]\n"
     ]
    }
   ],
   "source": [
    "numbers = [5, 2, 9, 1, 5, 6]\n",
    "sorted_numbers = sorted(numbers)\n",
    "\n",
    "print(sorted_numbers)  # [1, 2, 5, 5, 6, 9]"
   ]
  },
  {
   "cell_type": "code",
   "execution_count": null,
   "metadata": {},
   "outputs": [
    {
     "name": "stdout",
     "output_type": "stream",
     "text": [
      "['kiwi', 'apple', 'banana', 'watermelon']\n"
     ]
    }
   ],
   "source": [
    "words = [\"banana\", \"apple\", \"kiwi\", \"watermelon\"]\n",
    "sorted_words = sorted(words, key=len)\n",
    "\n",
    "print(sorted_words)  # ['kiwi', 'apple', 'banana', 'watermelon']"
   ]
  },
  {
   "cell_type": "markdown",
   "metadata": {},
   "source": [
    "## ✅ 코드 설명\n",
    "- 초기 데이터 생성\n",
    "----------------------------------------------------------------\n",
    "- 이미 3개의 할 일이 존재하는 리스트를 만듭니다.\n",
    "- 각 기능을 함수로 구현\n",
    "----------------------------------------------------------------\n",
    "- add_task(task): 새로운 할 일을 추가합니다.\n",
    "- show_tasks(): 전체 할 일 목록을 출력합니다.\n",
    "- complete_task(task_id): 특정 ID의 할 일을 완료 처리합니다.\n",
    "- delete_task(task_id): 특정 ID의 할 일을 삭제합니다.\n",
    "- show_completed_tasks(): 완료된 할 일만 필터링하여 출력합니다.\n",
    "- show_uncompleted_tasks(): 미완료된 할 일만 필터링하여 출력합니다.\n",
    "- 무한 루프 (while True)\n",
    "----------------------------------------------------------------\n",
    "- 사용자가 원하는 작업을 선택하여 실행할 수 있도록 합니다.\n",
    "- 7을 입력하면 break를 통해 프로그램을 종료합니다."
   ]
  },
  {
   "cell_type": "code",
   "execution_count": null,
   "metadata": {},
   "outputs": [
    {
     "name": "stdout",
     "output_type": "stream",
     "text": [
      "\n",
      "📝 TODO LIST 프로그램\n",
      "1. 할 일 추가\n",
      "2. 할 일 목록 보기\n",
      "3. 완료된 할 일 보기\n",
      "4. 미완료된 할 일 보기\n",
      "5. 할 일 완료 처리\n",
      "6. 할 일 삭제\n",
      "7. 종료\n",
      "\n",
      "📌 현재 Todo List:\n",
      "1. 파이썬 공부하기 - ❌ 미완료\n",
      "2. 운동하기 - ✔ 완료됨\n",
      "3. 책 읽기 - ❌ 미완료\n",
      "\n",
      "📝 TODO LIST 프로그램\n",
      "1. 할 일 추가\n",
      "2. 할 일 목록 보기\n",
      "3. 완료된 할 일 보기\n",
      "4. 미완료된 할 일 보기\n",
      "5. 할 일 완료 처리\n",
      "6. 할 일 삭제\n",
      "7. 종료\n",
      "프로그램을 종료합니다. 🏁\n"
     ]
    }
   ],
   "source": [
    "from functools import reduce\n",
    "\n",
    "# 초기 Todo 리스트 데이터\n",
    "todolist = [\n",
    "    {\"id\": 1, \"task\": \"파이썬 공부하기\", \"completed\": False},\n",
    "    {\"id\": 2, \"task\": \"운동하기\", \"completed\": True},\n",
    "    {\"id\": 3, \"task\": \"책 읽기\", \"completed\": False},\n",
    "]\n",
    "\n",
    "\n",
    "# 새로운 할 일을 추가하는 함수\n",
    "def add_task(task):\n",
    "    new_id = reduce(lambda acc, x: max(acc, x[\"id\"]), todolist, 0) + 1\n",
    "    todolist.append({\"id\": new_id, \"task\": task, \"completed\": False})\n",
    "    print(f\"✅ '{task}' 할 일이 추가되었습니다!\")\n",
    "\n",
    "\n",
    "# 모든 할 일 목록을 출력하는 함수\n",
    "def show_tasks():\n",
    "    print(\"\\n📌 현재 Todo List:\")\n",
    "    if not todolist:\n",
    "        print(\"할 일이 없습니다.\")\n",
    "    else:\n",
    "        for item in todolist:\n",
    "            status = \"✔ 완료됨\" if item[\"completed\"] else \"❌ 미완료\"\n",
    "            print(f\"{item['id']}. {item['task']} - {status}\")\n",
    "\n",
    "\n",
    "# 특정 할 일을 완료 처리하는 함수\n",
    "def complete_task(task_id):\n",
    "    global todolist\n",
    "    todolist = list(\n",
    "        map(\n",
    "            lambda item: {**item, \"completed\": True} if item[\"id\"] == task_id else item,\n",
    "            todolist,\n",
    "        )\n",
    "    )\n",
    "    print(f\"✅ {task_id}번 할 일이 완료 처리되었습니다!\")\n",
    "\n",
    "\n",
    "# 특정 할 일을 삭제하는 함수\n",
    "def delete_task(task_id):\n",
    "    global todolist\n",
    "    before_count = len(todolist)\n",
    "    todolist = list(filter(lambda item: item[\"id\"] != task_id, todolist))\n",
    "    if len(todolist) < before_count:\n",
    "        print(f\"🗑 {task_id}번 할 일이 삭제되었습니다.\")\n",
    "    else:\n",
    "        print(\"⚠ 해당 ID의 할 일이 존재하지 않습니다.\")\n",
    "\n",
    "\n",
    "# 완료된 할 일만 보여주는 함수\n",
    "def show_completed_tasks():\n",
    "    completed = list(filter(lambda item: item[\"completed\"], todolist))\n",
    "    print(\"\\n✅ 완료된 할 일 목록:\")\n",
    "    if not completed:\n",
    "        print(\"완료된 할 일이 없습니다.\")\n",
    "    else:\n",
    "        for item in completed:\n",
    "            print(f\"{item['id']}. {item['task']} - ✔ 완료됨\")\n",
    "\n",
    "\n",
    "# 미완료된 할 일만 보여주는 함수\n",
    "def show_uncompleted_tasks():\n",
    "    uncompleted = list(filter(lambda item: not item[\"completed\"], todolist))\n",
    "    print(\"\\n❌ 미완료된 할 일 목록:\")\n",
    "    if not uncompleted:\n",
    "        print(\"모든 할 일이 완료되었습니다!\")\n",
    "    else:\n",
    "        for item in uncompleted:\n",
    "            print(f\"{item['id']}. {item['task']} - ❌ 미완료\")\n",
    "\n",
    "\n",
    "# 메인 프로그램 실행 (무한 루프)\n",
    "while True:\n",
    "    print(\"\\n📝 TODO LIST 프로그램\")\n",
    "    print(\"1. 할 일 추가\")\n",
    "    print(\"2. 할 일 목록 보기\")\n",
    "    print(\"3. 완료된 할 일 보기\")\n",
    "    print(\"4. 미완료된 할 일 보기\")\n",
    "    print(\"5. 할 일 완료 처리\")\n",
    "    print(\"6. 할 일 삭제\")\n",
    "    print(\"7. 종료\")\n",
    "\n",
    "    choice = input(\"원하는 작업을 선택하세요 (1-7): \")\n",
    "\n",
    "    if choice == \"1\":\n",
    "        task = input(\"추가할 할 일을 입력하세요: \")\n",
    "        add_task(task)\n",
    "    elif choice == \"2\":\n",
    "        show_tasks()\n",
    "    elif choice == \"3\":\n",
    "        show_completed_tasks()\n",
    "    elif choice == \"4\":\n",
    "        show_uncompleted_tasks()\n",
    "    elif choice == \"5\":\n",
    "        task_id = int(input(\"완료할 할 일의 ID를 입력하세요: \"))\n",
    "        complete_task(task_id)\n",
    "    elif choice == \"6\":\n",
    "        task_id = int(input(\"삭제할 할 일의 ID를 입력하세요: \"))\n",
    "        delete_task(task_id)\n",
    "    elif choice == \"7\":\n",
    "        print(\"프로그램을 종료합니다. 🏁\")\n",
    "        break\n",
    "    else:\n",
    "        print(\"⚠ 올바른 번호를 입력하세요!\")"
   ]
  }
 ],
 "metadata": {
  "kernelspec": {
   "display_name": "Python 3",
   "language": "python",
   "name": "python3"
  },
  "language_info": {
   "codemirror_mode": {
    "name": "ipython",
    "version": 3
   },
   "file_extension": ".py",
   "mimetype": "text/x-python",
   "name": "python",
   "nbconvert_exporter": "python",
   "pygments_lexer": "ipython3",
   "version": "3.11.10"
  }
 },
 "nbformat": 4,
 "nbformat_minor": 2
}
