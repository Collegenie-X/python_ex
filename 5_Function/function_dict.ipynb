{
 "cells": [
  {
   "cell_type": "code",
   "execution_count": 1,
   "metadata": {},
   "outputs": [],
   "source": [
    "def process_stats(data) : \n",
    "    \n",
    "    total = sum(data['values'])\n",
    "    count = len(data['values'])\n",
    "    avg = total / count if count > 0 else 0\n",
    "    \n",
    "    \n",
    "    return {'total': total, 'count': count, 'avg': avg }\n"
   ]
  },
  {
   "cell_type": "code",
   "execution_count": 3,
   "metadata": {},
   "outputs": [
    {
     "name": "stdout",
     "output_type": "stream",
     "text": [
      "Toal:150 ,Count:5 ,Avg:30.0\n"
     ]
    }
   ],
   "source": [
    "\n",
    "data = {'values':[10,20,30,40,50]}\n",
    "result = process_stats(data) \n",
    "\n",
    "total,count,avg = result['total'],result['count'],result['avg']\n",
    "print(f\"Toal:{total} ,Count:{count} ,Avg:{avg}\")"
   ]
  },
  {
   "cell_type": "code",
   "execution_count": 4,
   "metadata": {},
   "outputs": [
    {
     "name": "stdout",
     "output_type": "stream",
     "text": [
      "Hello, Guest!\n",
      "Hello, Kim Jongphil.!\n"
     ]
    }
   ],
   "source": [
    "def greet(name=\"Guest\") : \n",
    "    print (f\"Hello, {name}!\")\n",
    "    \n",
    "greet()\n",
    "\n",
    "greet(name=\"Kim Jongphil.\")\n"
   ]
  },
  {
   "cell_type": "code",
   "execution_count": 6,
   "metadata": {},
   "outputs": [
    {
     "name": "stdout",
     "output_type": "stream",
     "text": [
      "Kim is 30 years old and lives in USA.\n"
     ]
    }
   ],
   "source": [
    "def describe_person (name,age, country): \n",
    "    print(f\"{name} is {age} years old and lives in {country}.\")\n",
    "    \n",
    "describe_person(name=\"Kim\", age=30, country=\"USA\")\n"
   ]
  },
  {
   "cell_type": "code",
   "execution_count": 8,
   "metadata": {},
   "outputs": [
    {
     "name": "stdout",
     "output_type": "stream",
     "text": [
      "[1, 2, 2, 2, 4, 6, 7, 7, 8, 8, 10, 11]\n",
      "68\n"
     ]
    }
   ],
   "source": [
    "list_numbers = [1,7,8, 2, 10,11, 2, 4, 6,7,2,8]\n",
    "list_numbers.sort()\n",
    "\n",
    "print(list_numbers) \n",
    "print (sum(list_numbers))"
   ]
  },
  {
   "cell_type": "markdown",
   "metadata": {},
   "source": [
    "### Return이 Dict"
   ]
  },
  {
   "cell_type": "code",
   "execution_count": 9,
   "metadata": {},
   "outputs": [],
   "source": [
    "def complex_analysis(data, params) :\n",
    "    # 데이터와 매개변수를 언팩킹하여 처리\n",
    "    total = sum(data)\n",
    "    count = len(data)\n",
    "    avg = total / count if count > 0 else 0\n",
    "    min_val = min(data)\n",
    "    max_val = max(data)\n",
    "    \n",
    "    # 결과를 딕셔너리로 반환\n",
    "    result = {\n",
    "        'total': total,\n",
    "        'count': count,\n",
    "        'average': avg,\n",
    "        'min': min_val,\n",
    "        'max': max_val,\n",
    "        'params': params\n",
    "    }\n",
    "    \n",
    "    return result"
   ]
  },
  {
   "cell_type": "code",
   "execution_count": 10,
   "metadata": {},
   "outputs": [
    {
     "name": "stdout",
     "output_type": "stream",
     "text": [
      "Total: 150, Count: 5,         Average: 30.0, Min: 10, Max: 50\n",
      "Parameters: {'filter': 'positive', 'operation': 'sum'}\n"
     ]
    }
   ],
   "source": [
    "# 리스트와 딕셔너리를 혼합하여 전달\n",
    "data = [10, 20, 30, 40, 50]\n",
    "params = {'filter': 'positive', 'operation': 'sum'}\n",
    "\n",
    "result = complex_analysis(data, params)\n",
    "\n",
    "# 반환된 딕셔너리 언팩킹하여 사용\n",
    "total, count, avg, min_val, max_val, params = \\\n",
    "    result['total'], result['count'], result['average'], \\\n",
    "    result['min'], result['max'], result['params']\n",
    "    \n",
    "print(f\"Total: {total}, Count: {count}, \\\n",
    "        Average: {avg}, Min: {min_val}, Max: {max_val}\")\n",
    "print(f\"Parameters: {params}\")"
   ]
  },
  {
   "cell_type": "code",
   "execution_count": 11,
   "metadata": {},
   "outputs": [],
   "source": [
    "def process_data(*args):\n",
    "    total = sum(sum(lst) for lst in args)  \n",
    "    count = sum(len(lst) for lst in args)  \n",
    "    avg = total / count if count > 0 else 0  \n",
    "    \n",
    "    return total, count, avg\n"
   ]
  },
  {
   "cell_type": "code",
   "execution_count": 12,
   "metadata": {},
   "outputs": [
    {
     "name": "stdout",
     "output_type": "stream",
     "text": [
      "Total: 360, Count: 8, Average: 45.0\n"
     ]
    }
   ],
   "source": [
    "\n",
    "result = process_data([10, 20, 30], [40, 50, 60], [70, 80])\n",
    "\n",
    "total, count, avg = result\n",
    "print(f\"Total: {total}, Count: {count}, Average: {avg}\")"
   ]
  }
 ],
 "metadata": {
  "kernelspec": {
   "display_name": "Python 3",
   "language": "python",
   "name": "python3"
  },
  "language_info": {
   "codemirror_mode": {
    "name": "ipython",
    "version": 3
   },
   "file_extension": ".py",
   "mimetype": "text/x-python",
   "name": "python",
   "nbconvert_exporter": "python",
   "pygments_lexer": "ipython3",
   "version": "3.11.10"
  }
 },
 "nbformat": 4,
 "nbformat_minor": 2
}
