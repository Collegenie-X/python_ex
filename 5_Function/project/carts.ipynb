{
 "cells": [
  {
   "cell_type": "code",
   "execution_count": null,
   "metadata": {},
   "outputs": [],
   "source": []
  },
  {
   "cell_type": "code",
   "execution_count": null,
   "metadata": {},
   "outputs": [],
   "source": [
    "# 상품 목록과 가격 (리스트로 변경)\n",
    "products = [\n",
    "    {\"id\": 1, \"name\": \"상품1\", \"price\": 1000},\n",
    "    {\"id\": 2, \"name\": \"상품2\", \"price\": 1500},\n",
    "    {\"id\": 3, \"name\": \"상품3\", \"price\": 2500},\n",
    "    {\"id\": 4, \"name\": \"상품4\", \"price\": 3000},\n",
    "    {\"id\": 5, \"name\": \"상품5\", \"price\": 4000},\n",
    "    {\"id\": 6, \"name\": \"상품6\", \"price\": 4500},\n",
    "    {\"id\": 7, \"name\": \"상품7\", \"price\": 5500},\n",
    "]"
   ]
  },
  {
   "cell_type": "markdown",
   "metadata": {},
   "source": [
    "\n",
    "## 장바구니 추가"
   ]
  },
  {
   "cell_type": "code",
   "execution_count": null,
   "metadata": {},
   "outputs": [],
   "source": [
    "# 장바구니 추가\n",
    "def add_to_cart(cart, product_id):\n",
    "    try:\n",
    "        product = next(item for item in products if item[\"id\"] == product_id)\n",
    "        cart.append(product)\n",
    "        print(f\"{product['name']}이(가) 장바구니에 추가되었습니다.\")\n",
    "    except StopIteration:\n",
    "        print(\"잘못된 상품 번호입니다. 다시 시도해주세요.\")"
   ]
  },
  {
   "cell_type": "markdown",
   "metadata": {},
   "source": [
    "## 장바구니 출력"
   ]
  },
  {
   "cell_type": "code",
   "execution_count": null,
   "metadata": {},
   "outputs": [],
   "source": [
    "# 장바구니 출력\n",
    "def show_cart(cart):\n",
    "    if cart:\n",
    "        print(\"\\n*** 장바구니 ***\")\n",
    "        for product in cart:\n",
    "            print(f\"{product['name']} - {product['price']} 원\")\n",
    "    else:\n",
    "        print(\"장바구니가 비어 있습니다.\")"
   ]
  },
  {
   "cell_type": "markdown",
   "metadata": {},
   "source": [
    "## 결제 처리"
   ]
  },
  {
   "cell_type": "code",
   "execution_count": null,
   "metadata": {},
   "outputs": [],
   "source": [
    "# 결제 처리\n",
    "def checkout(cart):\n",
    "    if cart:\n",
    "        total_price = sum(item[\"price\"] for item in cart)\n",
    "        print(f\"결제 금액: {total_price} 원\")\n",
    "        cart.clear()\n",
    "        print(\"결제가 완료되었습니다. 장바구니가 비워졌습니다.\")\n",
    "    else:\n",
    "        print(\"장바구니에 담긴 상품이 없습니다. 상품을 담아주세요.\")"
   ]
  },
  {
   "cell_type": "markdown",
   "metadata": {},
   "source": [
    "## main 루프"
   ]
  },
  {
   "cell_type": "code",
   "execution_count": null,
   "metadata": {},
   "outputs": [],
   "source": [
    "# 프로그램 메인 루프\n",
    "def shopping_program():\n",
    "    cart = []\n",
    "    while True:\n",
    "        print(\"\\n*** 장바구니 프로그램 ***\")\n",
    "        print(\"1. 상품 목록 보기\")\n",
    "        print(\"2. 장바구니에 상품 추가\")\n",
    "        print(\"3. 장바구니 보기\")\n",
    "        print(\"4. 결제하기\")\n",
    "        print(\"5. 종료하기\")\n",
    "\n",
    "        user_choice = input(\"원하는 작업을 선택하세요 (1, 2, 3, 4, 5): \")\n",
    "\n",
    "        if user_choice == \"1\":\n",
    "            print(\"\\n*** 상품 목록 ***\")\n",
    "            for product in products:\n",
    "                print(\n",
    "                    f\"{product['id']}. {product['name']} \\\n",
    "                      - {product['price']} 원\"\n",
    "                )\n",
    "        elif user_choice == \"2\":\n",
    "            try:\n",
    "                product_id = int(input(\"장바구니에 추가할 상품 번호를 입력하세요: \"))\n",
    "                add_to_cart(cart, product_id)\n",
    "            except ValueError:\n",
    "                print(\"잘못된 입력입니다. 숫자를 입력해주세요.\")\n",
    "        elif user_choice == \"3\":\n",
    "            show_cart(cart)\n",
    "        elif user_choice == \"4\":\n",
    "            checkout(cart)\n",
    "        elif user_choice == \"5\":\n",
    "            print(\"프로그램을 종료합니다.\")\n",
    "            break\n",
    "        else:\n",
    "            print(\"잘못된 선택입니다. 다시 시도해주세요.\")"
   ]
  },
  {
   "cell_type": "code",
   "execution_count": 6,
   "metadata": {},
   "outputs": [
    {
     "name": "stdout",
     "output_type": "stream",
     "text": [
      "\n",
      "*** 장바구니 프로그램 ***\n",
      "1. 상품 목록 보기\n",
      "2. 장바구니에 상품 추가\n",
      "3. 장바구니 보기\n",
      "4. 결제하기\n",
      "5. 종료하기\n",
      "프로그램을 종료합니다.\n"
     ]
    }
   ],
   "source": [
    "shopping_program()"
   ]
  }
 ],
 "metadata": {
  "kernelspec": {
   "display_name": "Python 3",
   "language": "python",
   "name": "python3"
  },
  "language_info": {
   "codemirror_mode": {
    "name": "ipython",
    "version": 3
   },
   "file_extension": ".py",
   "mimetype": "text/x-python",
   "name": "python",
   "nbconvert_exporter": "python",
   "pygments_lexer": "ipython3",
   "version": "3.11.10"
  }
 },
 "nbformat": 4,
 "nbformat_minor": 2
}
