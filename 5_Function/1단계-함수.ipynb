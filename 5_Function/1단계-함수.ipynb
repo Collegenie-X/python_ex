{
 "cells": [
  {
   "cell_type": "markdown",
   "metadata": {},
   "source": [
    "- def 함수이름(매개변수1, 매개변수2, ...):\n",
    "-     \"\"\"문서화 문자열(설명)\"\"\"\n",
    "-     실행할 코드\n",
    "-     return 반환값  # 반환값은 선택 사항\n",
    "----------------------------------------------------------------     \n",
    "- def : 함수를 정의할 때 사용하는 키워드\n",
    "- 함수이름 : 함수를 호출할 때 사용하는 이름\n",
    "- -------- 매개변수(parameter) : 함수에 전달할 값 (없을 수도 있음)\n",
    "- -------- return : 함수의 결과값 반환 (없을 수도 있음)"
   ]
  },
  {
   "cell_type": "code",
   "execution_count": 1,
   "metadata": {},
   "outputs": [
    {
     "name": "stdout",
     "output_type": "stream",
     "text": [
      "안녕하세요, 철수님!\n"
     ]
    }
   ],
   "source": [
    "def greet(name):\n",
    "    \"\"\"이름을 받아서 인사하는 함수\"\"\"\n",
    "    return f\"안녕하세요, {name}님!\"\n",
    "\n",
    "print(greet(\"철수\"))\n"
   ]
  },
  {
   "cell_type": "markdown",
   "metadata": {},
   "source": [
    "\n",
    "🎯 매개변수가 있는 함수"
   ]
  },
  {
   "cell_type": "code",
   "execution_count": 2,
   "metadata": {},
   "outputs": [
    {
     "name": "stdout",
     "output_type": "stream",
     "text": [
      "8\n"
     ]
    }
   ],
   "source": [
    "def add(a, b):\n",
    "    \"\"\"두 수를 더하는 함수\"\"\"\n",
    "    return a + b\n",
    "\n",
    "result = add(5, 3)\n",
    "print(result)\n"
   ]
  },
  {
   "cell_type": "markdown",
   "metadata": {},
   "source": [
    "🎯 기본값을 가지는 매개변수"
   ]
  },
  {
   "cell_type": "code",
   "execution_count": 3,
   "metadata": {},
   "outputs": [
    {
     "name": "stdout",
     "output_type": "stream",
     "text": [
      "이름: 영희, 나이: 20\n",
      "이름: 민수, 나이: 25\n"
     ]
    }
   ],
   "source": [
    "def introduce(name, age=20):\n",
    "    \"\"\"이름과 나이를 출력하는 함수 (나이 기본값: 20)\"\"\"\n",
    "    print(f\"이름: {name}, 나이: {age}\")\n",
    "\n",
    "introduce(\"영희\")      # 기본값 사용\n",
    "introduce(\"민수\", 25)  # 기본값 변경\n"
   ]
  },
  {
   "cell_type": "markdown",
   "metadata": {},
   "source": [
    "🎯 여러 개의 값을 반환하는 함수"
   ]
  },
  {
   "cell_type": "code",
   "execution_count": 4,
   "metadata": {},
   "outputs": [
    {
     "name": "stdout",
     "output_type": "stream",
     "text": [
      "합: 9, 곱: 20\n"
     ]
    }
   ],
   "source": [
    "def calculate(a, b):\n",
    "    \"\"\"두 수의 합과 곱을 반환하는 함수\"\"\"\n",
    "    return a + b, a * b\n",
    "\n",
    "sum_result, product_result = calculate(4, 5)\n",
    "print(f\"합: {sum_result}, 곱: {product_result}\")\n"
   ]
  },
  {
   "cell_type": "markdown",
   "metadata": {},
   "source": [
    "🎯 가변 인자 (*args)"
   ]
  },
  {
   "cell_type": "code",
   "execution_count": 5,
   "metadata": {},
   "outputs": [
    {
     "name": "stdout",
     "output_type": "stream",
     "text": [
      "24\n",
      "50\n"
     ]
    }
   ],
   "source": [
    "def multiply(*numbers):\n",
    "    \"\"\"여러 개의 숫자를 곱하는 함수\"\"\"\n",
    "    result = 1\n",
    "    for num in numbers:\n",
    "        result *= num\n",
    "    return result\n",
    "\n",
    "print(multiply(2, 3, 4))   # 24\n",
    "print(multiply(5, 10))     # 50\n"
   ]
  },
  {
   "cell_type": "code",
   "execution_count": 8,
   "metadata": {},
   "outputs": [
    {
     "name": "stdout",
     "output_type": "stream",
     "text": [
      "20.0\n",
      "20.0\n",
      "0\n"
     ]
    }
   ],
   "source": [
    "def average(*numbers):\n",
    "    \"\"\"입력받은 숫자들의 평균을 구하는 함수\"\"\"\n",
    "    return sum(numbers) / len(numbers) if numbers else 0\n",
    "\n",
    "print(average(10, 20, 30))  # 20.0\n",
    "print(average(5, 15, 25, 35))  # 20.0\n",
    "print(average())  # 0\n"
   ]
  },
  {
   "cell_type": "markdown",
   "metadata": {},
   "source": [
    "🎯 키워드 가변 인자 (**kwargs)"
   ]
  },
  {
   "cell_type": "code",
   "execution_count": 6,
   "metadata": {},
   "outputs": [
    {
     "name": "stdout",
     "output_type": "stream",
     "text": [
      "name: 철수\n",
      "age: 30\n",
      "city: 서울\n"
     ]
    }
   ],
   "source": [
    "def introduce_person(**info):\n",
    "    \"\"\"사람 정보를 출력하는 함수\"\"\"\n",
    "    for key, value in info.items():\n",
    "        print(f\"{key}: {value}\")\n",
    "\n",
    "introduce_person(name=\"철수\", age=30, city=\"서울\")\n"
   ]
  },
  {
   "cell_type": "code",
   "execution_count": 9,
   "metadata": {},
   "outputs": [
    {
     "name": "stdout",
     "output_type": "stream",
     "text": [
      "name: 철수\n",
      "age: 25\n",
      "city: 서울\n",
      "name: 영희\n",
      "job: 개발자\n"
     ]
    }
   ],
   "source": [
    "def user_info(**kwargs):\n",
    "    \"\"\"사용자 정보를 출력하는 함수\"\"\"\n",
    "    for key, value in kwargs.items():\n",
    "        print(f\"{key}: {value}\")\n",
    "\n",
    "user_info(name=\"철수\", age=25, city=\"서울\")\n",
    "user_info(name=\"영희\", job=\"개발자\")\n"
   ]
  },
  {
   "cell_type": "markdown",
   "metadata": {},
   "source": [
    "🎯 람다 함수 (lambda)"
   ]
  },
  {
   "cell_type": "code",
   "execution_count": 7,
   "metadata": {},
   "outputs": [
    {
     "name": "stdout",
     "output_type": "stream",
     "text": [
      "25\n",
      "25\n"
     ]
    }
   ],
   "source": [
    "# 일반 함수\n",
    "def square(x):\n",
    "    return x * x\n",
    "\n",
    "# 람다 함수로 변환\n",
    "square_lambda = lambda x: x * x\n",
    "\n",
    "print(square(5))        # 25\n",
    "print(square_lambda(5)) # 25\n"
   ]
  }
 ],
 "metadata": {
  "kernelspec": {
   "display_name": "Python 3",
   "language": "python",
   "name": "python3"
  },
  "language_info": {
   "codemirror_mode": {
    "name": "ipython",
    "version": 3
   },
   "file_extension": ".py",
   "mimetype": "text/x-python",
   "name": "python",
   "nbconvert_exporter": "python",
   "pygments_lexer": "ipython3",
   "version": "3.11.10"
  }
 },
 "nbformat": 4,
 "nbformat_minor": 2
}
