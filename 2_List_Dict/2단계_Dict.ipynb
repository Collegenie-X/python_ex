{
 "cells": [
  {
   "cell_type": "markdown",
   "metadata": {},
   "source": [
    "## 1.선언"
   ]
  },
  {
   "cell_type": "code",
   "execution_count": null,
   "metadata": {},
   "outputs": [
    {
     "name": "stdout",
     "output_type": "stream",
     "text": [
      "{'name': 'Alice', 'age': 25, 'major': 'Computer Science'}\n"
     ]
    }
   ],
   "source": [
    "# 빈 딕셔너리 생성\n",
    "empty_dict = {}\n",
    "\n",
    "# 학생 정보 딕셔너리\n",
    "student = {\"name\": \"Alice\", \"age\": 25, \"major\": \"Computer Science\"}\n",
    "\n",
    "print(student)\n",
    "# {'name': 'Alice', 'age': 25, 'major': 'Computer Science'}"
   ]
  },
  {
   "cell_type": "markdown",
   "metadata": {},
   "source": [
    "## 2. 조회"
   ]
  },
  {
   "cell_type": "code",
   "execution_count": null,
   "metadata": {},
   "outputs": [
    {
     "name": "stdout",
     "output_type": "stream",
     "text": [
      "Alice\n",
      "25\n",
      "Computer Science\n",
      "Unknown\n"
     ]
    }
   ],
   "source": [
    "student = {\"name\": \"Alice\", \"age\": 25, \"major\": \"Computer Science\"}\n",
    "\n",
    "# key를 사용하여 값 가져오기\n",
    "print(student[\"name\"])  # Alice\n",
    "print(student[\"age\"])  # 25\n",
    "\n",
    "# get() 사용 (키가 없을 경우 기본값 설정 가능)\n",
    "print(student.get(\"major\"))  # Computer Science\n",
    "print(student.get(\"gender\", \"Unknown\"))  # 기본값: Unknown"
   ]
  },
  {
   "cell_type": "markdown",
   "metadata": {},
   "source": [
    "## 3. 수정 및 추가"
   ]
  },
  {
   "cell_type": "code",
   "execution_count": null,
   "metadata": {},
   "outputs": [
    {
     "name": "stdout",
     "output_type": "stream",
     "text": [
      "{'name': 'Alice', 'age': 25, 'major': 'Computer Science'}\n"
     ]
    }
   ],
   "source": [
    "student = {\"name\": \"Alice\", \"age\": 25}\n",
    "\n",
    "# 새로운 키-값 추가\n",
    "student[\"major\"] = \"Computer Science\"\n",
    "print(student)\n",
    "# {'name': 'Alice', 'age': 25, 'major': 'Computer Science'}"
   ]
  },
  {
   "cell_type": "code",
   "execution_count": null,
   "metadata": {},
   "outputs": [
    {
     "name": "stdout",
     "output_type": "stream",
     "text": [
      "{'name': 'Alice', 'age': 26, 'major': 'Computer Science'}\n"
     ]
    }
   ],
   "source": [
    "student[\"age\"] = 26\n",
    "print(student)\n",
    "# {'name': 'Alice', 'age': 26, 'major': 'Computer Science'}"
   ]
  },
  {
   "cell_type": "code",
   "execution_count": null,
   "metadata": {},
   "outputs": [
    {
     "name": "stdout",
     "output_type": "stream",
     "text": [
      "{'name': 'Alice', 'age': 26, 'major': 'Computer Science', 'gender': 'Female', 'grade': 'A'}\n"
     ]
    }
   ],
   "source": [
    "student.update({\"gender\": \"Female\", \"grade\": \"A\"})\n",
    "print(student)\n",
    "# {'name': 'Alice', 'age': 26, 'major': 'Computer Science', 'gender': 'Female', 'grade': 'A'}"
   ]
  },
  {
   "cell_type": "code",
   "execution_count": null,
   "metadata": {},
   "outputs": [
    {
     "name": "stdout",
     "output_type": "stream",
     "text": [
      "name\n",
      "age\n",
      "major\n"
     ]
    }
   ],
   "source": [
    "student = {\"name\": \"Alice\", \"age\": 25, \"major\": \"Computer Science\"}\n",
    "\n",
    "# 모든 키 출력\n",
    "for key in student.keys():\n",
    "    print(key)"
   ]
  },
  {
   "cell_type": "code",
   "execution_count": null,
   "metadata": {},
   "outputs": [
    {
     "name": "stdout",
     "output_type": "stream",
     "text": [
      "Alice\n",
      "25\n",
      "Computer Science\n"
     ]
    }
   ],
   "source": [
    "# 모든 값 출력\n",
    "for value in student.values():\n",
    "    print(value)"
   ]
  },
  {
   "cell_type": "code",
   "execution_count": null,
   "metadata": {},
   "outputs": [
    {
     "name": "stdout",
     "output_type": "stream",
     "text": [
      "name: Alice\n",
      "age: 25\n",
      "major: Computer Science\n"
     ]
    }
   ],
   "source": [
    "# 모든 키-값 쌍 출력\n",
    "for key, value in student.items():\n",
    "    print(f\"{key}: {value}\")"
   ]
  },
  {
   "cell_type": "code",
   "execution_count": null,
   "metadata": {},
   "outputs": [
    {
     "name": "stdout",
     "output_type": "stream",
     "text": [
      "dict_keys(['name', 'age', 'major'])\n",
      "dict_values(['Alice', 25, 'Computer Science'])\n",
      "dict_items([('name', 'Alice'), ('age', 25), ('major', 'Computer Science')])\n"
     ]
    }
   ],
   "source": [
    "student = {\"name\": \"Alice\", \"age\": 25, \"major\": \"Computer Science\"}\n",
    "\n",
    "print(student.keys())  # dict_keys(['name', 'age', 'major'])\n",
    "print(student.values())  # dict_values(['Alice', 25, 'Computer Science'])\n",
    "print(\n",
    "    student.items()\n",
    ")  # dict_items([('name', 'Alice'), ('age', 25), ('major', 'Computer Science')])"
   ]
  },
  {
   "cell_type": "markdown",
   "metadata": {},
   "source": [
    "### 🔹 문제 1: 학생 성적 관리\n",
    "- 학생들의 성적을 저장하는 딕셔너리를 만들고, 평균 성적을 계산하세요."
   ]
  },
  {
   "cell_type": "code",
   "execution_count": null,
   "metadata": {},
   "outputs": [
    {
     "name": "stdout",
     "output_type": "stream",
     "text": [
      "평균 성적: 85.00\n"
     ]
    }
   ],
   "source": [
    "grades = {\"Alice\": 85, \"Bob\": 92, \"Charlie\": 78}\n",
    "\n",
    "# 평균 계산\n",
    "average = sum(grades.values()) / len(grades)\n",
    "print(f\"평균 성적: {average:.2f}\")  # 평균 성적: 85.00"
   ]
  },
  {
   "cell_type": "markdown",
   "metadata": {},
   "source": [
    "### 🔹 문제 2: 전화번호부 만들기\n",
    "- 사용자로부터 이름과 전화번호를 입력받아 저장하고, 조회할 수 있는 간단한 전화번호부를 만드세요."
   ]
  },
  {
   "cell_type": "code",
   "execution_count": null,
   "metadata": {},
   "outputs": [
    {
     "name": "stdout",
     "output_type": "stream",
     "text": [
      "010-9876-5432\n"
     ]
    }
   ],
   "source": [
    "phonebook = {}\n",
    "\n",
    "# 데이터 추가\n",
    "phonebook[\"Alice\"] = \"010-1234-5678\"\n",
    "phonebook[\"Bob\"] = \"010-9876-5432\"\n",
    "\n",
    "# 사용자 입력으로 조회\n",
    "name = input(\"조회할 이름을 입력하세요: \")\n",
    "print(phonebook.get(name, \"등록되지 않은 이름입니다.\"))"
   ]
  },
  {
   "cell_type": "markdown",
   "metadata": {},
   "source": [
    "### 문제 3: 단어 개수 세기\n",
    "- 문장에서 각 단어가 몇 번 등장하는지 세는 프로그램을 작성하세요."
   ]
  },
  {
   "cell_type": "code",
   "execution_count": null,
   "metadata": {},
   "outputs": [
    {
     "name": "stdout",
     "output_type": "stream",
     "text": [
      "{'apple': 3, 'banana': 2, 'cherry': 1}\n"
     ]
    }
   ],
   "source": [
    "text = \"apple banana apple cherry banana apple\"\n",
    "word_count = {}\n",
    "\n",
    "for word in text.split():\n",
    "    word_count[word] = word_count.get(word, 0) + 1\n",
    "\n",
    "print(word_count)"
   ]
  }
 ],
 "metadata": {
  "kernelspec": {
   "display_name": "Python 3",
   "language": "python",
   "name": "python3"
  },
  "language_info": {
   "codemirror_mode": {
    "name": "ipython",
    "version": 3
   },
   "file_extension": ".py",
   "mimetype": "text/x-python",
   "name": "python",
   "nbconvert_exporter": "python",
   "pygments_lexer": "ipython3",
   "version": "3.11.10"
  }
 },
 "nbformat": 4,
 "nbformat_minor": 2
}
