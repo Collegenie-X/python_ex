{
 "cells": [
  {
   "cell_type": "code",
   "execution_count": 1,
   "metadata": {},
   "outputs": [
    {
     "name": "stdout",
     "output_type": "stream",
     "text": [
      "22\n"
     ]
    }
   ],
   "source": [
    "from typing import List\n",
    "\n",
    "\n",
    "def sum_of_elements(numbers: List[int]) -> int:\n",
    "    return sum(numbers)\n",
    "\n",
    "\n",
    "print(sum_of_elements([1, 10, 3, 2, 6]))"
   ]
  },
  {
   "cell_type": "code",
   "execution_count": 2,
   "metadata": {},
   "outputs": [
    {
     "name": "stdout",
     "output_type": "stream",
     "text": [
      "30\n"
     ]
    }
   ],
   "source": [
    "from typing import Dict\n",
    "\n",
    "def get_age(data: Dict[str, int]) -> int:\n",
    "    return data[\"age\"]\n",
    "\n",
    "\n",
    "# 잘못된 데이터 타입 예시\n",
    "data = {\"name\": \"John\", \"age\": \"30\"}\n",
    "\n",
    "# 'age'는 문자열인데 'int'여야 합니다.\n",
    "result = get_age(data)\n",
    "print(result)"
   ]
  }
 ],
 "metadata": {
  "kernelspec": {
   "display_name": "Python 3",
   "language": "python",
   "name": "python3"
  },
  "language_info": {
   "codemirror_mode": {
    "name": "ipython",
    "version": 3
   },
   "file_extension": ".py",
   "mimetype": "text/x-python",
   "name": "python",
   "nbconvert_exporter": "python",
   "pygments_lexer": "ipython3",
   "version": "3.11.10"
  }
 },
 "nbformat": 4,
 "nbformat_minor": 2
}
