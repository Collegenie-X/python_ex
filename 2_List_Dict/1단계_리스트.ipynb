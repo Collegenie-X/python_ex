{
 "cells": [
  {
   "cell_type": "markdown",
   "metadata": {},
   "source": [
    "## 리스트 선언하기"
   ]
  },
  {
   "cell_type": "code",
   "execution_count": 1,
   "metadata": {},
   "outputs": [
    {
     "name": "stdout",
     "output_type": "stream",
     "text": [
      "[1, 2, 3, 4, 5]\n",
      "['apple', 'banana', 'cherry']\n",
      "[10, 'hello', 3.14, True]\n"
     ]
    }
   ],
   "source": [
    "# 빈 리스트 선언\n",
    "empty_list = []\n",
    "\n",
    "# 정수 리스트\n",
    "numbers = [1, 2, 3, 4, 5]\n",
    "\n",
    "# 문자열 리스트\n",
    "fruits = [\"apple\", \"banana\", \"cherry\"]\n",
    "\n",
    "# 다양한 자료형을 포함한 리스트\n",
    "mixed_list = [10, \"hello\", 3.14, True]\n",
    "\n",
    "print(numbers)      # [1, 2, 3, 4, 5]\n",
    "print(fruits)       # ['apple', 'banana', 'cherry']\n",
    "print(mixed_list)   # [10, 'hello', 3.14, True]\n"
   ]
  },
  {
   "cell_type": "markdown",
   "metadata": {},
   "source": [
    "### ✅ 인덱싱 (Indexing)"
   ]
  },
  {
   "cell_type": "code",
   "execution_count": 3,
   "metadata": {},
   "outputs": [
    {
     "name": "stdout",
     "output_type": "stream",
     "text": [
      "apple\n",
      "banana\n",
      "cherry\n"
     ]
    }
   ],
   "source": [
    "fruits = [\"apple\", \"banana\", \"cherry\"]\n",
    "\n",
    "# 첫 번째 요소 (0번 인덱스)\n",
    "print(fruits[0])  # apple\n",
    "\n",
    "# 두 번째 요소\n",
    "print(fruits[1])  # banana\n",
    "\n",
    "# 마지막 요소 (-1 사용 가능)\n",
    "print(fruits[-1])  # cherry\n"
   ]
  },
  {
   "cell_type": "markdown",
   "metadata": {},
   "source": [
    "### ✅ 슬라이싱 (Slicing)"
   ]
  },
  {
   "cell_type": "code",
   "execution_count": 4,
   "metadata": {},
   "outputs": [
    {
     "name": "stdout",
     "output_type": "stream",
     "text": [
      "[2, 3, 4]\n",
      "[0, 1, 2, 3]\n",
      "[5, 6, 7, 8, 9]\n",
      "[0, 1, 2, 3, 4, 5, 6, 7, 8, 9]\n",
      "[0, 2, 4, 6, 8]\n",
      "[9, 8, 7, 6, 5, 4, 3, 2, 1, 0]\n"
     ]
    }
   ],
   "source": [
    "numbers = [0, 1, 2, 3, 4, 5, 6, 7, 8, 9]\n",
    "\n",
    "# 부분 리스트 가져오기\n",
    "print(numbers[2:5])  # [2, 3, 4]\n",
    "\n",
    "# 처음부터 특정 위치까지\n",
    "print(numbers[:4])   # [0, 1, 2, 3]\n",
    "\n",
    "# 특정 위치부터 끝까지\n",
    "print(numbers[5:])   # [5, 6, 7, 8, 9]\n",
    "\n",
    "# 전체 리스트 복사\n",
    "print(numbers[:])    # [0, 1, 2, 3, 4, 5, 6, 7, 8, 9]\n",
    "\n",
    "# 일정 간격으로 요소 가져오기\n",
    "print(numbers[::2])  # [0, 2, 4, 6, 8]\n",
    "print(numbers[::-1]) # 리스트 뒤집기 [9, 8, 7, ... 1, 0]\n"
   ]
  },
  {
   "cell_type": "markdown",
   "metadata": {},
   "source": [
    "## 리스트 수정 및 추가"
   ]
  },
  {
   "cell_type": "code",
   "execution_count": 5,
   "metadata": {},
   "outputs": [
    {
     "name": "stdout",
     "output_type": "stream",
     "text": [
      "['apple', 'orange', 'cherry']\n"
     ]
    }
   ],
   "source": [
    "fruits = [\"apple\", \"banana\", \"cherry\"]\n",
    "fruits[1] = \"orange\"  # banana -> orange로 변경\n",
    "print(fruits)  # ['apple', 'orange', 'cherry']\n"
   ]
  },
  {
   "cell_type": "code",
   "execution_count": 6,
   "metadata": {},
   "outputs": [
    {
     "name": "stdout",
     "output_type": "stream",
     "text": [
      "[1, 2, 3, 4]\n",
      "[1, 100, 2, 3, 4]\n",
      "[1, 100, 2, 3, 4, 5, 6, 7]\n"
     ]
    }
   ],
   "source": [
    "# append() - 마지막에 추가\n",
    "numbers = [1, 2, 3]\n",
    "numbers.append(4)\n",
    "print(numbers)  # [1, 2, 3, 4]\n",
    "\n",
    "# insert() - 특정 위치에 추가\n",
    "numbers.insert(1, 100)\n",
    "print(numbers)  # [1, 100, 2, 3, 4]\n",
    "\n",
    "# extend() - 리스트 확장\n",
    "numbers.extend([5, 6, 7])\n",
    "print(numbers)  # [1, 100, 2, 3, 4, 5, 6, 7]\n"
   ]
  },
  {
   "cell_type": "markdown",
   "metadata": {},
   "source": [
    "### 리스트 요소 삭제"
   ]
  },
  {
   "cell_type": "code",
   "execution_count": 7,
   "metadata": {},
   "outputs": [
    {
     "name": "stdout",
     "output_type": "stream",
     "text": [
      "['apple', 'cherry']\n",
      "[10, 20, 40]\n",
      "[20, 40]\n",
      "[]\n"
     ]
    }
   ],
   "source": [
    "# remove() - 특정 값 삭제\n",
    "fruits = [\"apple\", \"banana\", \"cherry\"]\n",
    "fruits.remove(\"banana\")\n",
    "print(fruits)  # ['apple', 'cherry']\n",
    "\n",
    "# pop() - 특정 인덱스 요소 삭제 (기본적으로 마지막 요소)\n",
    "numbers = [10, 20, 30, 40]\n",
    "numbers.pop(2)\n",
    "print(numbers)  # [10, 20, 40]\n",
    "\n",
    "# del - 특정 요소 삭제\n",
    "del numbers[0]\n",
    "print(numbers)  # [20, 40]\n",
    "\n",
    "# clear() - 리스트 전체 비우기\n",
    "numbers.clear()\n",
    "print(numbers)  # []\n"
   ]
  },
  {
   "cell_type": "markdown",
   "metadata": {},
   "source": [
    "### 리스트 정렬과 기타 메서드\n",
    "- sort()\t오름차순 정렬\n",
    "- sort(reverse=True)\t내림차순 정렬\n",
    "- reverse()\t리스트 순서 뒤집기\n",
    "- count(x)\t특정 값 개수 세기\n",
    "- index(x)\t특정 값의 인덱스 찾기"
   ]
  },
  {
   "cell_type": "code",
   "execution_count": 9,
   "metadata": {},
   "outputs": [
    {
     "name": "stdout",
     "output_type": "stream",
     "text": [
      "[1, 2, 4, 5, 8]\n",
      "[8, 5, 4, 2, 1]\n",
      "[1, 2, 4, 5, 8]\n",
      "1\n",
      "3\n"
     ]
    }
   ],
   "source": [
    "numbers = [4, 2, 8, 1, 5]\n",
    "\n",
    "# 오름차순 정렬\n",
    "numbers.sort()\n",
    "print(numbers)  # [1, 2, 4, 5, 8]\n",
    "\n",
    "# 내림차순 정렬\n",
    "numbers.sort(reverse=True)\n",
    "print(numbers)  # [8, 5, 4, 2, 1]\n",
    "\n",
    "# 리스트 뒤집기\n",
    "numbers.reverse()\n",
    "print(numbers)  # [1, 2, 4, 5, 8]\n",
    "\n",
    "# 특정 값 개수 세기\n",
    "print(numbers.count(4))  # 1\n",
    "\n",
    "# 특정 값의 인덱스 찾기\n",
    "print(numbers.index(5))  # 3\n"
   ]
  },
  {
   "cell_type": "markdown",
   "metadata": {},
   "source": [
    " ### 문제 1: 리스트에서 최대값, 최소값 찾기"
   ]
  },
  {
   "cell_type": "code",
   "execution_count": 10,
   "metadata": {},
   "outputs": [
    {
     "name": "stdout",
     "output_type": "stream",
     "text": [
      "최댓값: 90\n",
      "최솟값: 2\n"
     ]
    }
   ],
   "source": [
    "numbers = [10, 25, 37, 45, 90, 2]\n",
    "\n",
    "print(\"최댓값:\", max(numbers))  # 90\n",
    "print(\"최솟값:\", min(numbers))  # 2"
   ]
  },
  {
   "cell_type": "markdown",
   "metadata": {},
   "source": [
    "### 문제 2: 리스트의 평균 구하기"
   ]
  },
  {
   "cell_type": "code",
   "execution_count": 11,
   "metadata": {},
   "outputs": [
    {
     "name": "stdout",
     "output_type": "stream",
     "text": [
      "평균: 30.0\n"
     ]
    }
   ],
   "source": [
    "numbers = [10, 20, 30, 40, 50]\n",
    "average = sum(numbers) / len(numbers)\n",
    "print(\"평균:\", average)  # 30.0\n"
   ]
  },
  {
   "cell_type": "markdown",
   "metadata": {},
   "source": [
    "### 문제 3: 리스트에서 중복 제거"
   ]
  },
  {
   "cell_type": "code",
   "execution_count": 12,
   "metadata": {},
   "outputs": [
    {
     "name": "stdout",
     "output_type": "stream",
     "text": [
      "[1, 2, 3, 4, 5]\n"
     ]
    }
   ],
   "source": [
    "numbers = [1, 2, 2, 3, 4, 4, 5]\n",
    "unique_numbers = list(set(numbers))\n",
    "print(unique_numbers)  # [1, 2, 3, 4, 5]\n"
   ]
  },
  {
   "cell_type": "markdown",
   "metadata": {},
   "source": [
    "### 문제 4: 리스트 요소 합 구하기"
   ]
  },
  {
   "cell_type": "code",
   "execution_count": 13,
   "metadata": {},
   "outputs": [
    {
     "name": "stdout",
     "output_type": "stream",
     "text": [
      "합계: 15\n"
     ]
    }
   ],
   "source": [
    "numbers = [1, 2, 3, 4, 5]\n",
    "total = sum(numbers)\n",
    "print(\"합계:\", total)  # 15\n"
   ]
  },
  {
   "cell_type": "markdown",
   "metadata": {},
   "source": [
    "### 문제 5: 리스트 요소 거꾸로 출력"
   ]
  },
  {
   "cell_type": "code",
   "execution_count": 14,
   "metadata": {},
   "outputs": [
    {
     "name": "stdout",
     "output_type": "stream",
     "text": [
      "[5, 4, 3, 2, 1]\n"
     ]
    }
   ],
   "source": [
    "numbers = [1, 2, 3, 4, 5]\n",
    "print(numbers[::-1])  # [5, 4, 3, 2, 1]"
   ]
  }
 ],
 "metadata": {
  "kernelspec": {
   "display_name": "Python 3",
   "language": "python",
   "name": "python3"
  },
  "language_info": {
   "codemirror_mode": {
    "name": "ipython",
    "version": 3
   },
   "file_extension": ".py",
   "mimetype": "text/x-python",
   "name": "python",
   "nbconvert_exporter": "python",
   "pygments_lexer": "ipython3",
   "version": "3.11.10"
  }
 },
 "nbformat": 4,
 "nbformat_minor": 2
}
