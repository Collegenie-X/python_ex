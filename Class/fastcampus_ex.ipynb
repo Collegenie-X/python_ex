{
 "cells": [
  {
   "cell_type": "code",
   "execution_count": 5,
   "metadata": {},
   "outputs": [],
   "source": [
    "class Student() : \n",
    "    '''\n",
    "    Student class with attributes name, age, grade\n",
    "    Author : Kim\n",
    "    Date : 2025-01-24\n",
    "    '''\n",
    "\n",
    "    _student_count = 0 \n",
    "    \n",
    "    def __init__(self, name, age, grade) :\n",
    "        self.name = name\n",
    "        self.age = age\n",
    "        self.grade = grade\n",
    "        Student._student_count += 1\n",
    "        \n",
    "    def get_info(self) :\n",
    "        return f'Student Name : {self.name}, Age : {self.age}, Grade : {self.grade}' \n",
    "    \n",
    "    @classmethod\n",
    "    def get_student_count(cls) :\n",
    "        return cls._student_count\n",
    "    \n",
    "    @staticmethod\n",
    "    def is_adult(age) :\n",
    "        return age >= 20 \n",
    "    \n",
    "    def __str__(self) :\n",
    "        return 'Student Name : {self.name}, Age : {self.age}, Grade:{self.grade}' \n",
    "    \n",
    "    \n",
    "    def __del__(self) : \n",
    "        Student._student_count -= 1 "
   ]
  },
  {
   "cell_type": "code",
   "execution_count": 7,
   "metadata": {},
   "outputs": [
    {
     "name": "stdout",
     "output_type": "stream",
     "text": [
      "Student Name : Student 1, Age : 20, Grade : 3\n",
      "0\n",
      "Student Name : Student 2, Age : 23, Grade : 1\n",
      "0\n"
     ]
    }
   ],
   "source": [
    "student1 = Student(name=\"Student 1\", age=20, grade=3)\n",
    "print(student1.get_info()) \n",
    "print(Student.get_student_count())\n",
    "\n",
    "student2=Student(name=\"Student 2\", age=23,grade=1) \n",
    "print(student2.get_info())\n",
    "print(Student.get_student_count())\n"
   ]
  },
  {
   "cell_type": "code",
   "execution_count": 9,
   "metadata": {},
   "outputs": [
    {
     "name": "stdout",
     "output_type": "stream",
     "text": [
      "Student Name : {self.name}, Age : {self.age}, Grade:{self.grade}\n"
     ]
    }
   ],
   "source": [
    "print(student1)"
   ]
  },
  {
   "cell_type": "code",
   "execution_count": 4,
   "metadata": {},
   "outputs": [
    {
     "name": "stdout",
     "output_type": "stream",
     "text": [
      "{'name': 'Student 1', 'age': 20, 'grade': 3}\n"
     ]
    }
   ],
   "source": [
    "print(student1.__dict__)"
   ]
  },
  {
   "cell_type": "code",
   "execution_count": 5,
   "metadata": {},
   "outputs": [
    {
     "name": "stdout",
     "output_type": "stream",
     "text": [
      "4355819024\n",
      "4355818512\n"
     ]
    }
   ],
   "source": [
    "print(id(student1))\n",
    "print(id(student2))"
   ]
  },
  {
   "cell_type": "code",
   "execution_count": 8,
   "metadata": {},
   "outputs": [
    {
     "name": "stdout",
     "output_type": "stream",
     "text": [
      "['__class__', '__del__', '__delattr__', '__dict__', '__dir__', '__doc__', '__eq__', '__format__', '__ge__', '__getattribute__', '__getstate__', '__gt__', '__hash__', '__init__', '__init_subclass__', '__le__', '__lt__', '__module__', '__ne__', '__new__', '__reduce__', '__reduce_ex__', '__repr__', '__setattr__', '__sizeof__', '__str__', '__subclasshook__', '__weakref__', 'age', 'get_info', 'get_student_count', 'grade', 'is_adult', 'name', 'student_count']\n"
     ]
    }
   ],
   "source": [
    "print(dir(student1))"
   ]
  },
  {
   "cell_type": "code",
   "execution_count": 12,
   "metadata": {},
   "outputs": [
    {
     "name": "stdout",
     "output_type": "stream",
     "text": [
      "\n",
      "    Student class with attributes name, age, grade\n",
      "    Author : Kim\n",
      "    Date : 2025-01-24\n",
      "    \n"
     ]
    }
   ],
   "source": [
    "print(Student.__doc__)"
   ]
  },
  {
   "cell_type": "code",
   "execution_count": 13,
   "metadata": {},
   "outputs": [
    {
     "data": {
      "text/plain": [
       "'Student Name : Student 1, Age : 20, Grade : 3'"
      ]
     },
     "execution_count": 13,
     "metadata": {},
     "output_type": "execute_result"
    }
   ],
   "source": [
    "Student.get_info(student1)"
   ]
  },
  {
   "cell_type": "code",
   "execution_count": 14,
   "metadata": {},
   "outputs": [],
   "source": [
    "Student.student_count = 100 "
   ]
  },
  {
   "cell_type": "code",
   "execution_count": 15,
   "metadata": {},
   "outputs": [
    {
     "name": "stdout",
     "output_type": "stream",
     "text": [
      "100\n"
     ]
    }
   ],
   "source": [
    "print(Student.get_student_count())"
   ]
  },
  {
   "cell_type": "code",
   "execution_count": 11,
   "metadata": {},
   "outputs": [
    {
     "data": {
      "text/plain": [
       "[2, 6, 10]"
      ]
     },
     "execution_count": 11,
     "metadata": {},
     "output_type": "execute_result"
    }
   ],
   "source": [
    "list ( map( lambda y:y*2,filter(lambda x: x%2, range(1,6)))) "
   ]
  },
  {
   "cell_type": "code",
   "execution_count": null,
   "metadata": {},
   "outputs": [
    {
     "data": {
      "text/plain": [
       "'데이터 입출력(I/O)'"
      ]
     },
     "execution_count": 14,
     "metadata": {},
     "output_type": "execute_result"
    }
   ],
   "source": []
  },
  {
   "cell_type": "code",
   "execution_count": null,
   "metadata": {},
   "outputs": [],
   "source": [
    "d"
   ]
  }
 ],
 "metadata": {
  "kernelspec": {
   "display_name": "Python 3",
   "language": "python",
   "name": "python3"
  },
  "language_info": {
   "codemirror_mode": {
    "name": "ipython",
    "version": 3
   },
   "file_extension": ".py",
   "mimetype": "text/x-python",
   "name": "python",
   "nbconvert_exporter": "python",
   "pygments_lexer": "ipython3",
   "version": "3.11.10"
  }
 },
 "nbformat": 4,
 "nbformat_minor": 2
}
