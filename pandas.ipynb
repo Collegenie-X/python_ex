{
 "cells": [
  {
   "cell_type": "code",
   "execution_count": 1,
   "metadata": {},
   "outputs": [],
   "source": [
    "import pandas as pd "
   ]
  },
  {
   "cell_type": "code",
   "execution_count": 2,
   "metadata": {},
   "outputs": [
    {
     "data": {
      "text/plain": [
       "a    1\n",
       "b    2\n",
       "c    3\n",
       "d    4\n",
       "dtype: int64"
      ]
     },
     "execution_count": 2,
     "metadata": {},
     "output_type": "execute_result"
    }
   ],
   "source": [
    "S = pd.Series({\"a\": 1, \"b\": 2, \"c\":3, \"d\":4})\n",
    "S"
   ]
  },
  {
   "cell_type": "code",
   "execution_count": 20,
   "metadata": {},
   "outputs": [
    {
     "data": {
      "text/plain": [
       "1"
      ]
     },
     "execution_count": 20,
     "metadata": {},
     "output_type": "execute_result"
    }
   ],
   "source": [
    "S.loc['a']"
   ]
  },
  {
   "cell_type": "code",
   "execution_count": 22,
   "metadata": {},
   "outputs": [
    {
     "data": {
      "text/plain": [
       "1"
      ]
     },
     "execution_count": 22,
     "metadata": {},
     "output_type": "execute_result"
    }
   ],
   "source": [
    "S.iloc[0]"
   ]
  },
  {
   "cell_type": "code",
   "execution_count": 3,
   "metadata": {},
   "outputs": [
    {
     "data": {
      "text/plain": [
       "a    1\n",
       "b    2\n",
       "c    3\n",
       "d    4\n",
       "dtype: int64"
      ]
     },
     "execution_count": 3,
     "metadata": {},
     "output_type": "execute_result"
    }
   ],
   "source": [
    "S = pd.Series({\"a\": 1, \"b\": 2, \"c\":3, \"d\":4})\n",
    "S"
   ]
  },
  {
   "cell_type": "code",
   "execution_count": 12,
   "metadata": {},
   "outputs": [
    {
     "data": {
      "text/plain": [
       "a    1\n",
       "b    2\n",
       "c    3\n",
       "d    4\n",
       "dtype: int64"
      ]
     },
     "execution_count": 12,
     "metadata": {},
     "output_type": "execute_result"
    }
   ],
   "source": [
    "S = pd.Series([1, 2, 3, 4], index=['a','b','c','d'])\n",
    "S"
   ]
  },
  {
   "cell_type": "code",
   "execution_count": 14,
   "metadata": {},
   "outputs": [
    {
     "data": {
      "text/html": [
       "<div>\n",
       "<style scoped>\n",
       "    .dataframe tbody tr th:only-of-type {\n",
       "        vertical-align: middle;\n",
       "    }\n",
       "\n",
       "    .dataframe tbody tr th {\n",
       "        vertical-align: top;\n",
       "    }\n",
       "\n",
       "    .dataframe thead th {\n",
       "        text-align: right;\n",
       "    }\n",
       "</style>\n",
       "<table border=\"1\" class=\"dataframe\">\n",
       "  <thead>\n",
       "    <tr style=\"text-align: right;\">\n",
       "      <th></th>\n",
       "      <th>col1</th>\n",
       "      <th>col2</th>\n",
       "    </tr>\n",
       "  </thead>\n",
       "  <tbody>\n",
       "    <tr>\n",
       "      <th>a</th>\n",
       "      <td>1</td>\n",
       "      <td>5</td>\n",
       "    </tr>\n",
       "    <tr>\n",
       "      <th>b</th>\n",
       "      <td>2</td>\n",
       "      <td>6</td>\n",
       "    </tr>\n",
       "    <tr>\n",
       "      <th>c</th>\n",
       "      <td>3</td>\n",
       "      <td>7</td>\n",
       "    </tr>\n",
       "    <tr>\n",
       "      <th>d</th>\n",
       "      <td>4</td>\n",
       "      <td>8</td>\n",
       "    </tr>\n",
       "  </tbody>\n",
       "</table>\n",
       "</div>"
      ],
      "text/plain": [
       "   col1  col2\n",
       "a     1     5\n",
       "b     2     6\n",
       "c     3     7\n",
       "d     4     8"
      ]
     },
     "execution_count": 14,
     "metadata": {},
     "output_type": "execute_result"
    }
   ],
   "source": [
    "df = pd.DataFrame({\n",
    "    \"col1\": [1,2,3,4], \n",
    "    \"col2\": [5,6,7,8]},\n",
    "    index=['a','b','c','d'])\n",
    "df"
   ]
  },
  {
   "cell_type": "code",
   "execution_count": 23,
   "metadata": {},
   "outputs": [
    {
     "data": {
      "text/plain": [
       "5"
      ]
     },
     "execution_count": 23,
     "metadata": {},
     "output_type": "execute_result"
    }
   ],
   "source": [
    "df.loc['a','col2'] "
   ]
  },
  {
   "cell_type": "code",
   "execution_count": 25,
   "metadata": {},
   "outputs": [
    {
     "data": {
      "text/plain": [
       "a    1\n",
       "b    2\n",
       "c    3\n",
       "Name: col1, dtype: int64"
      ]
     },
     "execution_count": 25,
     "metadata": {},
     "output_type": "execute_result"
    }
   ],
   "source": [
    "df.loc['a':'c', 'col1']"
   ]
  },
  {
   "cell_type": "code",
   "execution_count": 28,
   "metadata": {},
   "outputs": [
    {
     "data": {
      "text/plain": [
       "a    1\n",
       "b    2\n",
       "c    3\n",
       "Name: col1, dtype: int64"
      ]
     },
     "execution_count": 28,
     "metadata": {},
     "output_type": "execute_result"
    }
   ],
   "source": [
    "df.iloc[0:3,0]"
   ]
  },
  {
   "cell_type": "code",
   "execution_count": 15,
   "metadata": {},
   "outputs": [
    {
     "data": {
      "text/plain": [
       "array([[1, 5],\n",
       "       [2, 6],\n",
       "       [3, 7],\n",
       "       [4, 8]])"
      ]
     },
     "execution_count": 15,
     "metadata": {},
     "output_type": "execute_result"
    }
   ],
   "source": [
    "df.values"
   ]
  },
  {
   "cell_type": "code",
   "execution_count": 16,
   "metadata": {},
   "outputs": [
    {
     "data": {
      "text/plain": [
       "Index(['a', 'b', 'c', 'd'], dtype='object')"
      ]
     },
     "execution_count": 16,
     "metadata": {},
     "output_type": "execute_result"
    }
   ],
   "source": [
    "df.index"
   ]
  },
  {
   "cell_type": "code",
   "execution_count": 17,
   "metadata": {},
   "outputs": [
    {
     "data": {
      "text/plain": [
       "Index(['col1', 'col2'], dtype='object')"
      ]
     },
     "execution_count": 17,
     "metadata": {},
     "output_type": "execute_result"
    }
   ],
   "source": [
    "df.columns"
   ]
  },
  {
   "cell_type": "code",
   "execution_count": 30,
   "metadata": {},
   "outputs": [
    {
     "data": {
      "text/html": [
       "<div>\n",
       "<style scoped>\n",
       "    .dataframe tbody tr th:only-of-type {\n",
       "        vertical-align: middle;\n",
       "    }\n",
       "\n",
       "    .dataframe tbody tr th {\n",
       "        vertical-align: top;\n",
       "    }\n",
       "\n",
       "    .dataframe thead th {\n",
       "        text-align: right;\n",
       "    }\n",
       "</style>\n",
       "<table border=\"1\" class=\"dataframe\">\n",
       "  <thead>\n",
       "    <tr style=\"text-align: right;\">\n",
       "      <th></th>\n",
       "      <th>X1</th>\n",
       "      <th>X2</th>\n",
       "      <th>X3</th>\n",
       "      <th>X4</th>\n",
       "      <th>X5</th>\n",
       "    </tr>\n",
       "  </thead>\n",
       "  <tbody>\n",
       "    <tr>\n",
       "      <th>0</th>\n",
       "      <td>0.110064</td>\n",
       "      <td>0.404215</td>\n",
       "      <td>0.374785</td>\n",
       "      <td>0.424288</td>\n",
       "      <td>0.209067</td>\n",
       "    </tr>\n",
       "    <tr>\n",
       "      <th>1</th>\n",
       "      <td>0.433479</td>\n",
       "      <td>0.957813</td>\n",
       "      <td>0.322659</td>\n",
       "      <td>0.985949</td>\n",
       "      <td>0.436432</td>\n",
       "    </tr>\n",
       "    <tr>\n",
       "      <th>2</th>\n",
       "      <td>0.581997</td>\n",
       "      <td>0.826707</td>\n",
       "      <td>0.063598</td>\n",
       "      <td>0.296594</td>\n",
       "      <td>0.673235</td>\n",
       "    </tr>\n",
       "    <tr>\n",
       "      <th>3</th>\n",
       "      <td>0.122254</td>\n",
       "      <td>0.093717</td>\n",
       "      <td>0.466668</td>\n",
       "      <td>0.446205</td>\n",
       "      <td>0.278084</td>\n",
       "    </tr>\n",
       "    <tr>\n",
       "      <th>4</th>\n",
       "      <td>0.686728</td>\n",
       "      <td>0.316992</td>\n",
       "      <td>0.530365</td>\n",
       "      <td>0.702938</td>\n",
       "      <td>0.109101</td>\n",
       "    </tr>\n",
       "    <tr>\n",
       "      <th>...</th>\n",
       "      <td>...</td>\n",
       "      <td>...</td>\n",
       "      <td>...</td>\n",
       "      <td>...</td>\n",
       "      <td>...</td>\n",
       "    </tr>\n",
       "    <tr>\n",
       "      <th>495</th>\n",
       "      <td>0.487759</td>\n",
       "      <td>0.678142</td>\n",
       "      <td>0.840789</td>\n",
       "      <td>0.800498</td>\n",
       "      <td>0.614733</td>\n",
       "    </tr>\n",
       "    <tr>\n",
       "      <th>496</th>\n",
       "      <td>0.938318</td>\n",
       "      <td>0.022769</td>\n",
       "      <td>0.187688</td>\n",
       "      <td>0.248526</td>\n",
       "      <td>0.358733</td>\n",
       "    </tr>\n",
       "    <tr>\n",
       "      <th>497</th>\n",
       "      <td>0.663149</td>\n",
       "      <td>0.577936</td>\n",
       "      <td>0.339022</td>\n",
       "      <td>0.949340</td>\n",
       "      <td>0.318881</td>\n",
       "    </tr>\n",
       "    <tr>\n",
       "      <th>498</th>\n",
       "      <td>0.906462</td>\n",
       "      <td>0.915549</td>\n",
       "      <td>0.302057</td>\n",
       "      <td>0.345160</td>\n",
       "      <td>0.115473</td>\n",
       "    </tr>\n",
       "    <tr>\n",
       "      <th>499</th>\n",
       "      <td>0.701459</td>\n",
       "      <td>0.188725</td>\n",
       "      <td>0.420258</td>\n",
       "      <td>0.581770</td>\n",
       "      <td>0.898845</td>\n",
       "    </tr>\n",
       "  </tbody>\n",
       "</table>\n",
       "<p>500 rows × 5 columns</p>\n",
       "</div>"
      ],
      "text/plain": [
       "           X1        X2        X3        X4        X5\n",
       "0    0.110064  0.404215  0.374785  0.424288  0.209067\n",
       "1    0.433479  0.957813  0.322659  0.985949  0.436432\n",
       "2    0.581997  0.826707  0.063598  0.296594  0.673235\n",
       "3    0.122254  0.093717  0.466668  0.446205  0.278084\n",
       "4    0.686728  0.316992  0.530365  0.702938  0.109101\n",
       "..        ...       ...       ...       ...       ...\n",
       "495  0.487759  0.678142  0.840789  0.800498  0.614733\n",
       "496  0.938318  0.022769  0.187688  0.248526  0.358733\n",
       "497  0.663149  0.577936  0.339022  0.949340  0.318881\n",
       "498  0.906462  0.915549  0.302057  0.345160  0.115473\n",
       "499  0.701459  0.188725  0.420258  0.581770  0.898845\n",
       "\n",
       "[500 rows x 5 columns]"
      ]
     },
     "execution_count": 30,
     "metadata": {},
     "output_type": "execute_result"
    }
   ],
   "source": [
    "import numpy as np \n",
    "df = pd.DataFrame(np.random.random(size=(500,5)), \n",
    "                  columns=['X1', 'X2', 'X3', 'X4', 'X5'])\n",
    "df"
   ]
  },
  {
   "cell_type": "code",
   "execution_count": 31,
   "metadata": {},
   "outputs": [
    {
     "data": {
      "text/html": [
       "<div>\n",
       "<style scoped>\n",
       "    .dataframe tbody tr th:only-of-type {\n",
       "        vertical-align: middle;\n",
       "    }\n",
       "\n",
       "    .dataframe tbody tr th {\n",
       "        vertical-align: top;\n",
       "    }\n",
       "\n",
       "    .dataframe thead th {\n",
       "        text-align: right;\n",
       "    }\n",
       "</style>\n",
       "<table border=\"1\" class=\"dataframe\">\n",
       "  <thead>\n",
       "    <tr style=\"text-align: right;\">\n",
       "      <th></th>\n",
       "      <th>X1</th>\n",
       "      <th>X2</th>\n",
       "      <th>X3</th>\n",
       "      <th>X4</th>\n",
       "      <th>X5</th>\n",
       "    </tr>\n",
       "  </thead>\n",
       "  <tbody>\n",
       "    <tr>\n",
       "      <th>0</th>\n",
       "      <td>0.110064</td>\n",
       "      <td>0.404215</td>\n",
       "      <td>0.374785</td>\n",
       "      <td>0.424288</td>\n",
       "      <td>0.209067</td>\n",
       "    </tr>\n",
       "    <tr>\n",
       "      <th>1</th>\n",
       "      <td>0.433479</td>\n",
       "      <td>0.957813</td>\n",
       "      <td>0.322659</td>\n",
       "      <td>0.985949</td>\n",
       "      <td>0.436432</td>\n",
       "    </tr>\n",
       "    <tr>\n",
       "      <th>2</th>\n",
       "      <td>0.581997</td>\n",
       "      <td>0.826707</td>\n",
       "      <td>0.063598</td>\n",
       "      <td>0.296594</td>\n",
       "      <td>0.673235</td>\n",
       "    </tr>\n",
       "    <tr>\n",
       "      <th>3</th>\n",
       "      <td>0.122254</td>\n",
       "      <td>0.093717</td>\n",
       "      <td>0.466668</td>\n",
       "      <td>0.446205</td>\n",
       "      <td>0.278084</td>\n",
       "    </tr>\n",
       "    <tr>\n",
       "      <th>4</th>\n",
       "      <td>0.686728</td>\n",
       "      <td>0.316992</td>\n",
       "      <td>0.530365</td>\n",
       "      <td>0.702938</td>\n",
       "      <td>0.109101</td>\n",
       "    </tr>\n",
       "    <tr>\n",
       "      <th>5</th>\n",
       "      <td>0.626619</td>\n",
       "      <td>0.148077</td>\n",
       "      <td>0.786939</td>\n",
       "      <td>0.351796</td>\n",
       "      <td>0.408232</td>\n",
       "    </tr>\n",
       "    <tr>\n",
       "      <th>6</th>\n",
       "      <td>0.426554</td>\n",
       "      <td>0.192517</td>\n",
       "      <td>0.914925</td>\n",
       "      <td>0.175842</td>\n",
       "      <td>0.200465</td>\n",
       "    </tr>\n",
       "    <tr>\n",
       "      <th>7</th>\n",
       "      <td>0.087399</td>\n",
       "      <td>0.505063</td>\n",
       "      <td>0.113435</td>\n",
       "      <td>0.211598</td>\n",
       "      <td>0.783049</td>\n",
       "    </tr>\n",
       "    <tr>\n",
       "      <th>8</th>\n",
       "      <td>0.517367</td>\n",
       "      <td>0.750868</td>\n",
       "      <td>0.645698</td>\n",
       "      <td>0.737275</td>\n",
       "      <td>0.282429</td>\n",
       "    </tr>\n",
       "    <tr>\n",
       "      <th>9</th>\n",
       "      <td>0.072904</td>\n",
       "      <td>0.174597</td>\n",
       "      <td>0.752324</td>\n",
       "      <td>0.935540</td>\n",
       "      <td>0.129500</td>\n",
       "    </tr>\n",
       "  </tbody>\n",
       "</table>\n",
       "</div>"
      ],
      "text/plain": [
       "         X1        X2        X3        X4        X5\n",
       "0  0.110064  0.404215  0.374785  0.424288  0.209067\n",
       "1  0.433479  0.957813  0.322659  0.985949  0.436432\n",
       "2  0.581997  0.826707  0.063598  0.296594  0.673235\n",
       "3  0.122254  0.093717  0.466668  0.446205  0.278084\n",
       "4  0.686728  0.316992  0.530365  0.702938  0.109101\n",
       "5  0.626619  0.148077  0.786939  0.351796  0.408232\n",
       "6  0.426554  0.192517  0.914925  0.175842  0.200465\n",
       "7  0.087399  0.505063  0.113435  0.211598  0.783049\n",
       "8  0.517367  0.750868  0.645698  0.737275  0.282429\n",
       "9  0.072904  0.174597  0.752324  0.935540  0.129500"
      ]
     },
     "execution_count": 31,
     "metadata": {},
     "output_type": "execute_result"
    }
   ],
   "source": [
    "df.head(10)"
   ]
  },
  {
   "cell_type": "code",
   "execution_count": 32,
   "metadata": {},
   "outputs": [
    {
     "data": {
      "text/html": [
       "<div>\n",
       "<style scoped>\n",
       "    .dataframe tbody tr th:only-of-type {\n",
       "        vertical-align: middle;\n",
       "    }\n",
       "\n",
       "    .dataframe tbody tr th {\n",
       "        vertical-align: top;\n",
       "    }\n",
       "\n",
       "    .dataframe thead th {\n",
       "        text-align: right;\n",
       "    }\n",
       "</style>\n",
       "<table border=\"1\" class=\"dataframe\">\n",
       "  <thead>\n",
       "    <tr style=\"text-align: right;\">\n",
       "      <th></th>\n",
       "      <th>X1</th>\n",
       "      <th>X2</th>\n",
       "      <th>X3</th>\n",
       "      <th>X4</th>\n",
       "      <th>X5</th>\n",
       "    </tr>\n",
       "  </thead>\n",
       "  <tbody>\n",
       "    <tr>\n",
       "      <th>490</th>\n",
       "      <td>0.588552</td>\n",
       "      <td>0.191083</td>\n",
       "      <td>0.143742</td>\n",
       "      <td>0.462606</td>\n",
       "      <td>0.675590</td>\n",
       "    </tr>\n",
       "    <tr>\n",
       "      <th>491</th>\n",
       "      <td>0.161554</td>\n",
       "      <td>0.445291</td>\n",
       "      <td>0.694608</td>\n",
       "      <td>0.192777</td>\n",
       "      <td>0.560066</td>\n",
       "    </tr>\n",
       "    <tr>\n",
       "      <th>492</th>\n",
       "      <td>0.215422</td>\n",
       "      <td>0.237290</td>\n",
       "      <td>0.235483</td>\n",
       "      <td>0.277170</td>\n",
       "      <td>0.822906</td>\n",
       "    </tr>\n",
       "    <tr>\n",
       "      <th>493</th>\n",
       "      <td>0.130508</td>\n",
       "      <td>0.376333</td>\n",
       "      <td>0.853825</td>\n",
       "      <td>0.282212</td>\n",
       "      <td>0.193934</td>\n",
       "    </tr>\n",
       "    <tr>\n",
       "      <th>494</th>\n",
       "      <td>0.992430</td>\n",
       "      <td>0.670954</td>\n",
       "      <td>0.437416</td>\n",
       "      <td>0.088286</td>\n",
       "      <td>0.245712</td>\n",
       "    </tr>\n",
       "    <tr>\n",
       "      <th>495</th>\n",
       "      <td>0.487759</td>\n",
       "      <td>0.678142</td>\n",
       "      <td>0.840789</td>\n",
       "      <td>0.800498</td>\n",
       "      <td>0.614733</td>\n",
       "    </tr>\n",
       "    <tr>\n",
       "      <th>496</th>\n",
       "      <td>0.938318</td>\n",
       "      <td>0.022769</td>\n",
       "      <td>0.187688</td>\n",
       "      <td>0.248526</td>\n",
       "      <td>0.358733</td>\n",
       "    </tr>\n",
       "    <tr>\n",
       "      <th>497</th>\n",
       "      <td>0.663149</td>\n",
       "      <td>0.577936</td>\n",
       "      <td>0.339022</td>\n",
       "      <td>0.949340</td>\n",
       "      <td>0.318881</td>\n",
       "    </tr>\n",
       "    <tr>\n",
       "      <th>498</th>\n",
       "      <td>0.906462</td>\n",
       "      <td>0.915549</td>\n",
       "      <td>0.302057</td>\n",
       "      <td>0.345160</td>\n",
       "      <td>0.115473</td>\n",
       "    </tr>\n",
       "    <tr>\n",
       "      <th>499</th>\n",
       "      <td>0.701459</td>\n",
       "      <td>0.188725</td>\n",
       "      <td>0.420258</td>\n",
       "      <td>0.581770</td>\n",
       "      <td>0.898845</td>\n",
       "    </tr>\n",
       "  </tbody>\n",
       "</table>\n",
       "</div>"
      ],
      "text/plain": [
       "           X1        X2        X3        X4        X5\n",
       "490  0.588552  0.191083  0.143742  0.462606  0.675590\n",
       "491  0.161554  0.445291  0.694608  0.192777  0.560066\n",
       "492  0.215422  0.237290  0.235483  0.277170  0.822906\n",
       "493  0.130508  0.376333  0.853825  0.282212  0.193934\n",
       "494  0.992430  0.670954  0.437416  0.088286  0.245712\n",
       "495  0.487759  0.678142  0.840789  0.800498  0.614733\n",
       "496  0.938318  0.022769  0.187688  0.248526  0.358733\n",
       "497  0.663149  0.577936  0.339022  0.949340  0.318881\n",
       "498  0.906462  0.915549  0.302057  0.345160  0.115473\n",
       "499  0.701459  0.188725  0.420258  0.581770  0.898845"
      ]
     },
     "execution_count": 32,
     "metadata": {},
     "output_type": "execute_result"
    }
   ],
   "source": [
    "df.tail(10)"
   ]
  },
  {
   "cell_type": "code",
   "execution_count": 33,
   "metadata": {},
   "outputs": [
    {
     "data": {
      "text/plain": [
       "Index(['X1', 'X2', 'X3', 'X4', 'X5'], dtype='object')"
      ]
     },
     "execution_count": 33,
     "metadata": {},
     "output_type": "execute_result"
    }
   ],
   "source": [
    "df.columns"
   ]
  },
  {
   "cell_type": "code",
   "execution_count": 34,
   "metadata": {},
   "outputs": [
    {
     "data": {
      "text/plain": [
       "X1    float64\n",
       "X2    float64\n",
       "X3    float64\n",
       "X4    float64\n",
       "X5    float64\n",
       "dtype: object"
      ]
     },
     "execution_count": 34,
     "metadata": {},
     "output_type": "execute_result"
    }
   ],
   "source": [
    "df.dtypes"
   ]
  },
  {
   "cell_type": "code",
   "execution_count": 35,
   "metadata": {},
   "outputs": [
    {
     "name": "stderr",
     "output_type": "stream",
     "text": [
      "/var/folders/h8/dk4pn1l11_5f5z7pscs8gr0r0000gn/T/ipykernel_18172/627906680.py:1: FutureWarning: Setting an item of incompatible dtype is deprecated and will raise an error in a future version of pandas. Value 'Changed 2' has dtype incompatible with float64, please explicitly cast to a compatible dtype first.\n",
      "  df.iloc[3:20, 2:4] = \"Changed 2\"\n",
      "/var/folders/h8/dk4pn1l11_5f5z7pscs8gr0r0000gn/T/ipykernel_18172/627906680.py:1: FutureWarning: Setting an item of incompatible dtype is deprecated and will raise an error in a future version of pandas. Value 'Changed 2' has dtype incompatible with float64, please explicitly cast to a compatible dtype first.\n",
      "  df.iloc[3:20, 2:4] = \"Changed 2\"\n"
     ]
    }
   ],
   "source": [
    "df.iloc[3:20, 2:4] = \"Changed 2\""
   ]
  },
  {
   "cell_type": "code",
   "execution_count": 36,
   "metadata": {},
   "outputs": [
    {
     "data": {
      "text/html": [
       "<div>\n",
       "<style scoped>\n",
       "    .dataframe tbody tr th:only-of-type {\n",
       "        vertical-align: middle;\n",
       "    }\n",
       "\n",
       "    .dataframe tbody tr th {\n",
       "        vertical-align: top;\n",
       "    }\n",
       "\n",
       "    .dataframe thead th {\n",
       "        text-align: right;\n",
       "    }\n",
       "</style>\n",
       "<table border=\"1\" class=\"dataframe\">\n",
       "  <thead>\n",
       "    <tr style=\"text-align: right;\">\n",
       "      <th></th>\n",
       "      <th>X1</th>\n",
       "      <th>X2</th>\n",
       "      <th>X3</th>\n",
       "      <th>X4</th>\n",
       "      <th>X5</th>\n",
       "    </tr>\n",
       "  </thead>\n",
       "  <tbody>\n",
       "    <tr>\n",
       "      <th>0</th>\n",
       "      <td>0.110064</td>\n",
       "      <td>0.404215</td>\n",
       "      <td>0.374785</td>\n",
       "      <td>0.424288</td>\n",
       "      <td>0.209067</td>\n",
       "    </tr>\n",
       "    <tr>\n",
       "      <th>1</th>\n",
       "      <td>0.433479</td>\n",
       "      <td>0.957813</td>\n",
       "      <td>0.322659</td>\n",
       "      <td>0.985949</td>\n",
       "      <td>0.436432</td>\n",
       "    </tr>\n",
       "    <tr>\n",
       "      <th>2</th>\n",
       "      <td>0.581997</td>\n",
       "      <td>0.826707</td>\n",
       "      <td>0.063598</td>\n",
       "      <td>0.296594</td>\n",
       "      <td>0.673235</td>\n",
       "    </tr>\n",
       "    <tr>\n",
       "      <th>3</th>\n",
       "      <td>0.122254</td>\n",
       "      <td>0.093717</td>\n",
       "      <td>Changed 2</td>\n",
       "      <td>Changed 2</td>\n",
       "      <td>0.278084</td>\n",
       "    </tr>\n",
       "    <tr>\n",
       "      <th>4</th>\n",
       "      <td>0.686728</td>\n",
       "      <td>0.316992</td>\n",
       "      <td>Changed 2</td>\n",
       "      <td>Changed 2</td>\n",
       "      <td>0.109101</td>\n",
       "    </tr>\n",
       "    <tr>\n",
       "      <th>5</th>\n",
       "      <td>0.626619</td>\n",
       "      <td>0.148077</td>\n",
       "      <td>Changed 2</td>\n",
       "      <td>Changed 2</td>\n",
       "      <td>0.408232</td>\n",
       "    </tr>\n",
       "    <tr>\n",
       "      <th>6</th>\n",
       "      <td>0.426554</td>\n",
       "      <td>0.192517</td>\n",
       "      <td>Changed 2</td>\n",
       "      <td>Changed 2</td>\n",
       "      <td>0.200465</td>\n",
       "    </tr>\n",
       "    <tr>\n",
       "      <th>7</th>\n",
       "      <td>0.087399</td>\n",
       "      <td>0.505063</td>\n",
       "      <td>Changed 2</td>\n",
       "      <td>Changed 2</td>\n",
       "      <td>0.783049</td>\n",
       "    </tr>\n",
       "    <tr>\n",
       "      <th>8</th>\n",
       "      <td>0.517367</td>\n",
       "      <td>0.750868</td>\n",
       "      <td>Changed 2</td>\n",
       "      <td>Changed 2</td>\n",
       "      <td>0.282429</td>\n",
       "    </tr>\n",
       "    <tr>\n",
       "      <th>9</th>\n",
       "      <td>0.072904</td>\n",
       "      <td>0.174597</td>\n",
       "      <td>Changed 2</td>\n",
       "      <td>Changed 2</td>\n",
       "      <td>0.129500</td>\n",
       "    </tr>\n",
       "    <tr>\n",
       "      <th>10</th>\n",
       "      <td>0.630310</td>\n",
       "      <td>0.418075</td>\n",
       "      <td>Changed 2</td>\n",
       "      <td>Changed 2</td>\n",
       "      <td>0.331787</td>\n",
       "    </tr>\n",
       "    <tr>\n",
       "      <th>11</th>\n",
       "      <td>0.605377</td>\n",
       "      <td>0.098461</td>\n",
       "      <td>Changed 2</td>\n",
       "      <td>Changed 2</td>\n",
       "      <td>0.196681</td>\n",
       "    </tr>\n",
       "    <tr>\n",
       "      <th>12</th>\n",
       "      <td>0.079746</td>\n",
       "      <td>0.036299</td>\n",
       "      <td>Changed 2</td>\n",
       "      <td>Changed 2</td>\n",
       "      <td>0.815879</td>\n",
       "    </tr>\n",
       "    <tr>\n",
       "      <th>13</th>\n",
       "      <td>0.469692</td>\n",
       "      <td>0.893374</td>\n",
       "      <td>Changed 2</td>\n",
       "      <td>Changed 2</td>\n",
       "      <td>0.354978</td>\n",
       "    </tr>\n",
       "    <tr>\n",
       "      <th>14</th>\n",
       "      <td>0.807261</td>\n",
       "      <td>0.509159</td>\n",
       "      <td>Changed 2</td>\n",
       "      <td>Changed 2</td>\n",
       "      <td>0.330892</td>\n",
       "    </tr>\n",
       "    <tr>\n",
       "      <th>15</th>\n",
       "      <td>0.997715</td>\n",
       "      <td>0.955017</td>\n",
       "      <td>Changed 2</td>\n",
       "      <td>Changed 2</td>\n",
       "      <td>0.357044</td>\n",
       "    </tr>\n",
       "    <tr>\n",
       "      <th>16</th>\n",
       "      <td>0.498824</td>\n",
       "      <td>0.083575</td>\n",
       "      <td>Changed 2</td>\n",
       "      <td>Changed 2</td>\n",
       "      <td>0.355608</td>\n",
       "    </tr>\n",
       "    <tr>\n",
       "      <th>17</th>\n",
       "      <td>0.457955</td>\n",
       "      <td>0.182717</td>\n",
       "      <td>Changed 2</td>\n",
       "      <td>Changed 2</td>\n",
       "      <td>0.805798</td>\n",
       "    </tr>\n",
       "    <tr>\n",
       "      <th>18</th>\n",
       "      <td>0.253684</td>\n",
       "      <td>0.427875</td>\n",
       "      <td>Changed 2</td>\n",
       "      <td>Changed 2</td>\n",
       "      <td>0.324852</td>\n",
       "    </tr>\n",
       "    <tr>\n",
       "      <th>19</th>\n",
       "      <td>0.050046</td>\n",
       "      <td>0.209369</td>\n",
       "      <td>Changed 2</td>\n",
       "      <td>Changed 2</td>\n",
       "      <td>0.248273</td>\n",
       "    </tr>\n",
       "    <tr>\n",
       "      <th>20</th>\n",
       "      <td>0.513768</td>\n",
       "      <td>0.495838</td>\n",
       "      <td>0.892078</td>\n",
       "      <td>0.904663</td>\n",
       "      <td>0.510435</td>\n",
       "    </tr>\n",
       "    <tr>\n",
       "      <th>21</th>\n",
       "      <td>0.276010</td>\n",
       "      <td>0.352447</td>\n",
       "      <td>0.998269</td>\n",
       "      <td>0.691292</td>\n",
       "      <td>0.001812</td>\n",
       "    </tr>\n",
       "    <tr>\n",
       "      <th>22</th>\n",
       "      <td>0.138560</td>\n",
       "      <td>0.160478</td>\n",
       "      <td>0.344848</td>\n",
       "      <td>0.387656</td>\n",
       "      <td>0.899790</td>\n",
       "    </tr>\n",
       "    <tr>\n",
       "      <th>23</th>\n",
       "      <td>0.275778</td>\n",
       "      <td>0.312871</td>\n",
       "      <td>0.291487</td>\n",
       "      <td>0.685712</td>\n",
       "      <td>0.135096</td>\n",
       "    </tr>\n",
       "    <tr>\n",
       "      <th>24</th>\n",
       "      <td>0.222132</td>\n",
       "      <td>0.537353</td>\n",
       "      <td>0.886933</td>\n",
       "      <td>0.6384</td>\n",
       "      <td>0.844393</td>\n",
       "    </tr>\n",
       "    <tr>\n",
       "      <th>25</th>\n",
       "      <td>0.145070</td>\n",
       "      <td>0.828022</td>\n",
       "      <td>0.455372</td>\n",
       "      <td>0.530682</td>\n",
       "      <td>0.381916</td>\n",
       "    </tr>\n",
       "    <tr>\n",
       "      <th>26</th>\n",
       "      <td>0.474382</td>\n",
       "      <td>0.984961</td>\n",
       "      <td>0.658498</td>\n",
       "      <td>0.732322</td>\n",
       "      <td>0.614482</td>\n",
       "    </tr>\n",
       "    <tr>\n",
       "      <th>27</th>\n",
       "      <td>0.450863</td>\n",
       "      <td>0.582018</td>\n",
       "      <td>0.121067</td>\n",
       "      <td>0.687016</td>\n",
       "      <td>0.140686</td>\n",
       "    </tr>\n",
       "    <tr>\n",
       "      <th>28</th>\n",
       "      <td>0.620870</td>\n",
       "      <td>0.862362</td>\n",
       "      <td>0.289569</td>\n",
       "      <td>0.552658</td>\n",
       "      <td>0.865621</td>\n",
       "    </tr>\n",
       "    <tr>\n",
       "      <th>29</th>\n",
       "      <td>0.387427</td>\n",
       "      <td>0.517738</td>\n",
       "      <td>0.657112</td>\n",
       "      <td>0.8741</td>\n",
       "      <td>0.457195</td>\n",
       "    </tr>\n",
       "  </tbody>\n",
       "</table>\n",
       "</div>"
      ],
      "text/plain": [
       "          X1        X2         X3         X4        X5\n",
       "0   0.110064  0.404215   0.374785   0.424288  0.209067\n",
       "1   0.433479  0.957813   0.322659   0.985949  0.436432\n",
       "2   0.581997  0.826707   0.063598   0.296594  0.673235\n",
       "3   0.122254  0.093717  Changed 2  Changed 2  0.278084\n",
       "4   0.686728  0.316992  Changed 2  Changed 2  0.109101\n",
       "5   0.626619  0.148077  Changed 2  Changed 2  0.408232\n",
       "6   0.426554  0.192517  Changed 2  Changed 2  0.200465\n",
       "7   0.087399  0.505063  Changed 2  Changed 2  0.783049\n",
       "8   0.517367  0.750868  Changed 2  Changed 2  0.282429\n",
       "9   0.072904  0.174597  Changed 2  Changed 2  0.129500\n",
       "10  0.630310  0.418075  Changed 2  Changed 2  0.331787\n",
       "11  0.605377  0.098461  Changed 2  Changed 2  0.196681\n",
       "12  0.079746  0.036299  Changed 2  Changed 2  0.815879\n",
       "13  0.469692  0.893374  Changed 2  Changed 2  0.354978\n",
       "14  0.807261  0.509159  Changed 2  Changed 2  0.330892\n",
       "15  0.997715  0.955017  Changed 2  Changed 2  0.357044\n",
       "16  0.498824  0.083575  Changed 2  Changed 2  0.355608\n",
       "17  0.457955  0.182717  Changed 2  Changed 2  0.805798\n",
       "18  0.253684  0.427875  Changed 2  Changed 2  0.324852\n",
       "19  0.050046  0.209369  Changed 2  Changed 2  0.248273\n",
       "20  0.513768  0.495838   0.892078   0.904663  0.510435\n",
       "21  0.276010  0.352447   0.998269   0.691292  0.001812\n",
       "22  0.138560  0.160478   0.344848   0.387656  0.899790\n",
       "23  0.275778  0.312871   0.291487   0.685712  0.135096\n",
       "24  0.222132  0.537353   0.886933     0.6384  0.844393\n",
       "25  0.145070  0.828022   0.455372   0.530682  0.381916\n",
       "26  0.474382  0.984961   0.658498   0.732322  0.614482\n",
       "27  0.450863  0.582018   0.121067   0.687016  0.140686\n",
       "28  0.620870  0.862362   0.289569   0.552658  0.865621\n",
       "29  0.387427  0.517738   0.657112     0.8741  0.457195"
      ]
     },
     "execution_count": 36,
     "metadata": {},
     "output_type": "execute_result"
    }
   ],
   "source": [
    "df.head(30)"
   ]
  },
  {
   "cell_type": "code",
   "execution_count": 37,
   "metadata": {},
   "outputs": [],
   "source": [
    "import os"
   ]
  },
  {
   "cell_type": "code",
   "execution_count": 38,
   "metadata": {},
   "outputs": [
    {
     "data": {
      "text/plain": [
       "'/Users/kimjongphil/Desktop/python_ex'"
      ]
     },
     "execution_count": 38,
     "metadata": {},
     "output_type": "execute_result"
    }
   ],
   "source": [
    "os.getcwd()"
   ]
  },
  {
   "cell_type": "code",
   "execution_count": null,
   "metadata": {},
   "outputs": [],
   "source": []
  }
 ],
 "metadata": {
  "kernelspec": {
   "display_name": "Python 3",
   "language": "python",
   "name": "python3"
  },
  "language_info": {
   "codemirror_mode": {
    "name": "ipython",
    "version": 3
   },
   "file_extension": ".py",
   "mimetype": "text/x-python",
   "name": "python",
   "nbconvert_exporter": "python",
   "pygments_lexer": "ipython3",
   "version": "3.11.10"
  }
 },
 "nbformat": 4,
 "nbformat_minor": 2
}
